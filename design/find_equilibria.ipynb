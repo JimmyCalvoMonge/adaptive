{
 "cells": [
  {
   "cell_type": "code",
   "execution_count": 153,
   "id": "8c44f5bb-8329-4b01-943c-52f163ce8567",
   "metadata": {},
   "outputs": [],
   "source": [
    "# from scipy.integrate import odeint\n",
    "# from scipy.optimize import fmin\n",
    "# import numpy as np\n",
    "# import time\n",
    "# import matplotlib.pyplot as plt\n",
    "# import math\n",
    "# from scipy.interpolate import interp1d ### Might be useful\n",
    "# from scipy.optimize import fsolve"
   ]
  },
  {
   "cell_type": "code",
   "execution_count": null,
   "id": "5120d123-9067-47e8-8108-7bb842d142fc",
   "metadata": {},
   "outputs": [],
   "source": [
    "### TODO ###"
   ]
  },
  {
   "cell_type": "code",
   "execution_count": 94,
   "id": "b2d943ae-1af5-48f5-928a-33727bec5598",
   "metadata": {},
   "outputs": [],
   "source": [
    "# ### Utils\n",
    "# def plot_ode_solution(S,I,Z,t,model):\n",
    "#     plt.plot(t,S,label=\"Susceptible\")\n",
    "#     plt.plot(t,I,label=\"Infected\")\n",
    "#     plt.plot(t,Z,label=\"Recovered\")\n",
    "#     plt.title(f\"Plot of S-I-Z functions ({model})\")\n",
    "#     plt.xlabel(\"Time (t)\")\n",
    "#     plt.ylabel(\"Number of individuals\")\n",
    "#     plt.legend(loc=\"upper right\")\n",
    "#     plt.rcParams[\"figure.figsize\"] = (10,6)\n",
    "#     plt.show()"
   ]
  },
  {
   "cell_type": "code",
   "execution_count": 1,
   "id": "862abcba-5e88-48b5-94ba-1b891238d603",
   "metadata": {},
   "outputs": [],
   "source": [
    "# def state_odes_system(x, t, beta, mu, phi, gamma, cs, ci, cz):\n",
    "    \n",
    "#     # assign each function to a vector element\n",
    "#     s = x[0]\n",
    "#     i = x[1]\n",
    "#     z = x[2]\n",
    "    \n",
    "#     # C function \n",
    "#     C = cs(t)*ci(t)/(s*cs(t) + i*ci(t) + z*cz(t) )\n",
    "    \n",
    "#     # System \n",
    "#     dSdt = -C*beta*s*i + mu - mu*s\n",
    "#     dIdt = C*beta*s*i + phi*z*i - (gamma+mu)*i  \n",
    "#     dZdt = gamma*i - phi*z*i - mu*z\n",
    "\n",
    "#     return [dSdt, dIdt, dZdt]\n",
    "\n",
    "# def solve_odes_system(x0, t_max, h, beta, mu, phi, gamma, cs, ci, cz):\n",
    "    \n",
    "#     \"\"\"\n",
    "#     Solve the classical system with initial conditions\n",
    "#     \"\"\"\n",
    "    \n",
    "#     t = np.linspace(0,t_max,int(t_max/h))\n",
    "#     x = odeint(state_odes_system, x0, t, args=(beta, mu, phi, gamma, cs, ci, cz))\n",
    "\n",
    "#     s = x[:,0]\n",
    "#     i = x[:,1]\n",
    "#     z = x[:,2]\n",
    "    \n",
    "#     return s,i,z"
   ]
  },
  {
   "cell_type": "code",
   "execution_count": 2,
   "id": "a7d96096-2947-4dbf-9f16-095138a283e8",
   "metadata": {},
   "outputs": [],
   "source": [
    "# mu = 0.00015\n",
    "# gamma = 0.0027\n",
    "# beta = 0.009\n",
    "# nu = 0.8\n",
    "# phi = 0.0044\n",
    "# t_max=2000\n",
    "# h=t_max/1000\n",
    "# t = np.linspace(0,t_max,int(t_max/h))\n",
    "# x0=[0.85,0.1,0.05]"
   ]
  },
  {
   "cell_type": "code",
   "execution_count": 3,
   "id": "80a523b5-3409-49ef-ada4-9a3c0377660c",
   "metadata": {},
   "outputs": [],
   "source": [
    "# def equilibrium_kappa(kappa):\n",
    "    \n",
    "#     \"\"\" cs,ci,cz as functions or constants \"\"\"\n",
    "    \n",
    "#     def cs(t):\n",
    "#         return kappa\n",
    "#     def ci(t):\n",
    "#         return kappa\n",
    "#     def cz(t):\n",
    "#         return kappa*nu\n",
    "    \n",
    "#     print(f\"\"\"\n",
    "#     - kappa : {kappa}\n",
    "#     - R0 : {beta*kappa/(mu+gamma)}\n",
    "#     \"\"\")\n",
    "    \n",
    "#     s,i,z = solve_odes_system(x0, t_max, h, beta, mu, phi, gamma, cs, ci, cz)\n",
    "#     return s,i,z"
   ]
  },
  {
   "cell_type": "code",
   "execution_count": 4,
   "id": "4fe02c2f-53a3-4853-a283-743d39390ed0",
   "metadata": {},
   "outputs": [],
   "source": [
    "# sol=equilibrium_kappa(kappa)\n",
    "# plot_ode_solution(sol[0],sol[1],sol[2],t,model=\"Example 1.\")"
   ]
  },
  {
   "cell_type": "code",
   "execution_count": 154,
   "id": "733c1cff-2cd5-4128-aaa5-40e5a31cc655",
   "metadata": {},
   "outputs": [],
   "source": [
    "### Roots of this polynomial ###"
   ]
  },
  {
   "cell_type": "code",
   "execution_count": 208,
   "id": "7cb5bcbc-de89-4fe0-925d-71bd2c3586c5",
   "metadata": {},
   "outputs": [],
   "source": [
    "# from sympy.solvers import solve\n",
    "# from sympy import Symbol"
   ]
  },
  {
   "cell_type": "code",
   "execution_count": null,
   "id": "26d72918-5653-4c63-bb48-13e90bacb6b8",
   "metadata": {},
   "outputs": [],
   "source": [
    "# def evaluate_polynomial(i,mu,gamma,beta,nu,phi,ci,cs,cz):\n",
    "#     R0 = beta*ci/(mu+gamma)\n",
    "#     Rphi = phi/(mu+gamma)\n",
    "#     Rmu = mu/(mu+gamma)\n",
    "#     wp = (phi*i + mu)*(1-i) - gamma*i\n",
    "#     poly = cs*R0*wp*(Rphi*i + Rmu) - (1+Rphi*i)*(  Rmu*wp*(cs-cz) + mu*(Rphi*i+Rmu)*(i*(ci-cz) +cz)  )\n",
    "#     return poly \n",
    "\n",
    "# def evaluate_polynomial_art1(i,mu,gamma,beta,nu,phi):\n",
    "#     R0 = beta*ci/(mu+gamma)\n",
    "#     Rphi = phi/(mu+gamma)\n",
    "#     Rmu = mu/(mu+gamma)\n",
    "#     wp = (phi*i + mu)*(1-i) - gamma*i\n",
    "#     poly = R0*wp*(Rphi*i + Rmu)- (1+Rphi*i)*(  Rmu*wp*(1-nu) +mu*(Rphi*i+Rmu)*(i*(1-nu) + nu))\n",
    "#     return poly\n",
    "\n",
    "# def evaluate_real_polynomial_art1(i,mu,gamma,beta,nu,phi,kappa):\n",
    "#     R0 = beta*kappa/(mu+gamma)\n",
    "#     Rphi = phi/(mu+gamma)\n",
    "#     Rmu = mu/(mu+gamma)\n",
    "    \n",
    "#     print(f\"\"\"\n",
    "    \n",
    "#     R0: {R0}\n",
    "#     Rphi :{Rphi}\n",
    "#     Rmu :{Rmu}\n",
    "    \n",
    "#     \"\"\")\n",
    "    \n",
    "#     x3= R0*Rphi**2\n",
    "#     x2= Rphi*(R0*(1-Rphi)+Rmu*(R0+Rphi)+ nu*Rmu*(1-Rmu))\n",
    "#     x1= Rmu*(nu*(1-Rmu)+R0*(1-Rphi)+Rphi*(1-R0)+Rmu*Rphi)\n",
    "#     x0= (1-R0)*Rmu**2\n",
    "#     return x3*i**3 + x2*i**2 + x1*i + x0\n",
    "\n",
    "# def solve_polynomial(mu,gamma,beta,nu,phi,ci,cs,cz):\n",
    "    \n",
    "#     R0 = beta*ci/(mu+gamma)\n",
    "#     print(f\"\"\"\n",
    "#     -R0 : {R0}\n",
    "#     \"\"\")\n",
    "#     # Numeric\n",
    "#     #resp=fsolve(evaluate_polynomial, 0, args=(mu,gamma,beta,nu,phi,ci,cs,cz))\n",
    "    \n",
    "#     # Symbolic\n",
    "#     x = Symbol('x')\n",
    "    \n",
    "#     resp = solve(evaluate_real_polynomial_art1(x,mu,gamma,beta,nu,phi,ci), x)\n",
    "#     print(resp)\n",
    "#     resp = [expr.as_real_imag()[0] for expr in resp if expr.as_real_imag()[1]<1e-15 and expr.as_real_imag()[0]>0]\n",
    "   \n",
    "#     return resp"
   ]
  },
  {
   "cell_type": "code",
   "execution_count": 5,
   "id": "a4977dae-aa8c-4c8f-b42c-39eb4fe1342e",
   "metadata": {},
   "outputs": [],
   "source": [
    "# kappa=0.325\n",
    "# solve_polynomial(mu,gamma,beta,nu,phi,ci=kappa,cs=kappa,cz=kappa*nu)"
   ]
  }
 ],
 "metadata": {
  "kernelspec": {
   "display_name": "Python 3 (ipykernel)",
   "language": "python",
   "name": "python3"
  },
  "language_info": {
   "codemirror_mode": {
    "name": "ipython",
    "version": 3
   },
   "file_extension": ".py",
   "mimetype": "text/x-python",
   "name": "python",
   "nbconvert_exporter": "python",
   "pygments_lexer": "ipython3",
   "version": "3.9.8"
  }
 },
 "nbformat": 4,
 "nbformat_minor": 5
}
