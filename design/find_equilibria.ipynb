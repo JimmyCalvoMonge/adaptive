{
 "cells": [
  {
   "cell_type": "code",
   "execution_count": 70,
   "id": "8c44f5bb-8329-4b01-943c-52f163ce8567",
   "metadata": {},
   "outputs": [],
   "source": [
    "from scipy.integrate import odeint\n",
    "from scipy.optimize import fmin\n",
    "import numpy as np\n",
    "import time\n",
    "import matplotlib.pyplot as plt\n",
    "import math\n",
    "from scipy.interpolate import interp1d ### Might be useful\n",
    "from scipy.optimize import fsolve\n",
    "from sympy.solvers import solve\n",
    "from sympy import Symbol\n",
    "import pandas as pd\n",
    "import plotly.express as px"
   ]
  },
  {
   "cell_type": "code",
   "execution_count": 2,
   "id": "b2d943ae-1af5-48f5-928a-33727bec5598",
   "metadata": {},
   "outputs": [],
   "source": [
    "### Utils\n",
    "def plot_ode_solution(S,I,Z,t,model):\n",
    "    plt.plot(t,S,label=\"Susceptible\")\n",
    "    plt.plot(t,I,label=\"Infected\")\n",
    "    plt.plot(t,Z,label=\"Recovered\")\n",
    "    plt.title(f\"Plot of S-I-Z functions ({model})\")\n",
    "    plt.xlabel(\"Time (t)\")\n",
    "    plt.ylabel(\"Number of individuals\")\n",
    "    plt.legend(loc=\"upper right\")\n",
    "    plt.rcParams[\"figure.figsize\"] = (10,6)\n",
    "    plt.show()"
   ]
  },
  {
   "cell_type": "code",
   "execution_count": null,
   "id": "6dfe3529-7e7d-490f-ab1f-baaf716c6ca1",
   "metadata": {},
   "outputs": [],
   "source": [
    "# values={\n",
    "#     't':[],\n",
    "#     'Cs':[],\n",
    "#     'Ci':[],\n",
    "#     'Cz':[],\n",
    "#     'S':[],\n",
    "#     'I':[],\n",
    "#     'Z':[],\n",
    "#     'dSdt':[],\n",
    "#     'dIdt':[],\n",
    "#     'dZdt':[]\n",
    "# }"
   ]
  },
  {
   "cell_type": "code",
   "execution_count": 3,
   "id": "862abcba-5e88-48b5-94ba-1b891238d603",
   "metadata": {},
   "outputs": [],
   "source": [
    "def state_odes_system(x, t, beta, mu, phi, gamma, cs, ci, cz):\n",
    "    \n",
    "    # assign each function to a vector element\n",
    "    s = x[0]\n",
    "    i = x[1]\n",
    "    z = x[2]\n",
    "    \n",
    "    # C function \n",
    "    C = cs(t)*ci(t)/(s*cs(t) + i*ci(t) + z*cz(t) )\n",
    "    \n",
    "    # System \n",
    "    dSdt = -C*beta*s*i + mu - mu*s\n",
    "    dIdt = C*beta*s*i + phi*z*i - (gamma+mu)*i  \n",
    "    dZdt = gamma*i - phi*z*i - mu*z\n",
    "    \n",
    "    # global values\n",
    "    # ### Add values to global variable\n",
    "    # values['t'] = values['t']+[t]\n",
    "    # values['Cs'] = values['Cs']+[cs(t)]\n",
    "    # values['Ci'] = values['Ci']+[ci(t)]\n",
    "    # values['Cz'] = values['Cz']+[cz(t)]\n",
    "    # values['S'] = values['S']+[s]\n",
    "    # values['I'] = values['I']+[i]\n",
    "    # values['Z'] = values['Z']+[z]\n",
    "    # values['dSdt'] = values['dSdt']+[dSdt]\n",
    "    # values['dIdt'] = values['dIdt']+[dIdt]\n",
    "    # values['dZdt'] = values['dZdt']+[dZdt]\n",
    "\n",
    "    return [dSdt, dIdt, dZdt]\n",
    "\n",
    "def solve_odes_system(x0,t, beta, mu, phi, gamma, cs, ci, cz):\n",
    "    \n",
    "    \"\"\"\n",
    "    Solve the classical system with initial conditions\n",
    "    \"\"\"\n",
    "    \n",
    "    x = odeint(state_odes_system, x0, t, args=(beta, mu, phi, gamma, cs, ci, cz))\n",
    "\n",
    "    s = x[:,0]\n",
    "    i = x[:,1]\n",
    "    z = x[:,2]\n",
    "    \n",
    "    return s,i,z"
   ]
  },
  {
   "cell_type": "markdown",
   "id": "9df6c99a-c98d-4075-a32c-96d9104014fc",
   "metadata": {},
   "source": [
    "Cubic polynomial to find optimal $i^*$. For now this is programed with $C^s,C^i,C^z$ being constant functions."
   ]
  },
  {
   "cell_type": "code",
   "execution_count": 64,
   "id": "77ab8ba5-963a-4deb-b2a6-ee2fe57234c2",
   "metadata": {},
   "outputs": [],
   "source": [
    "def get_coefficients_cubic(cs,ci,cz,R0,Rmu,Rphi):\n",
    "    \n",
    "    ### Returns the coefficients x3,x2,x1,x0 of the cubic polynomial in the notes.\n",
    "    x_3=(Rphi**2)*(R0) + Rmu*(Rphi**2)*( (ci/cs) -1)\n",
    "    \n",
    "    x_2=Rphi*(R0*(1-Rphi) + Rmu*(R0+Rphi))\n",
    "    x_2= x_2 + Rphi*( Rmu*(1-Rmu)*( (cz/cs) - 1) + Rmu*(1+Rmu)*( (ci/cs) - 1) ) \n",
    "    \n",
    "    x_1= Rmu*(R0*(1-Rphi)  + Rphi*(1-R0)  + Rmu*Rphi )\n",
    "    x_1= x_1+ Rmu*( (1-Rmu)*( (cz/cs) -1 ) + Rmu*( (ci/cs) -1  )   )\n",
    "    \n",
    "    x_0=(Rmu**2)*(1-R0)\n",
    "    \n",
    "    return [x_0,x_1,x_2,x_3]\n",
    "\n",
    "def evaluate_cubic(i,cs,ci,cz,R0,Rmu,Rphi):\n",
    "    [x_0,x_1,x_2,x_3] = get_coefficients_cubic(cs,ci,cz,R0,Rmu,Rphi)\n",
    "    return x_3*(i**3) + x_2*(i**2) + x_1*i + x_0\n",
    "\n",
    "def solve_polynomial(cs,ci,cz,R0,Rmu,Rphi, printt=True):\n",
    "    \n",
    "    if printt:\n",
    "        print(f\"\"\"\n",
    "        R0 = {R0}\n",
    "        \"\"\")\n",
    "    # Numeric\n",
    "    #resp=fsolve(evaluate_polynomial, 0, args=(mu,gamma,beta,nu,phi,ci,cs,cz))\n",
    "    \n",
    "    # Symbolic\n",
    "    x = Symbol('x')\n",
    "    \n",
    "    resp = solve(evaluate_cubic(x,cs,ci,cz,R0,Rmu,Rphi), x)\n",
    "    resp = [(float(expr.as_real_imag()[0]), float(expr.as_real_imag()[1]) ) for expr in resp]\n",
    "    resp = [expr[0] for expr in resp if expr[0]>0 and abs(expr[1])<1e-15]\n",
    "    \n",
    "    return resp"
   ]
  },
  {
   "cell_type": "markdown",
   "id": "7c1238f9-309f-4db3-a5de-0ed1f301f2f1",
   "metadata": {},
   "source": [
    "Examples\n",
    "\n",
    "1. Example from *A mathematical model with nonlinear relapse: conditions for a forward-backward bifurcation* (Figure 2)."
   ]
  },
  {
   "cell_type": "code",
   "execution_count": 16,
   "id": "dc596307-bbaf-446e-b7c9-b1dcdac358f1",
   "metadata": {},
   "outputs": [],
   "source": [
    "### Initial parameters\n",
    "mu = 0.00015\n",
    "gamma = 0.0027\n",
    "beta = 0.009\n",
    "nu = 0.8\n",
    "phi = 0.0044\n",
    "\n",
    "### Variable parameter\n",
    "kappa=0.8\n",
    "\n",
    "### R values\n",
    "R0 = beta*kappa/(mu+gamma)\n",
    "Rmu = mu/(mu+gamma)\n",
    "Rphi = phi/(mu+gamma)\n",
    "\n",
    "### Simulation parameters\n",
    "t_max=2000\n",
    "h=t_max/1000\n",
    "t = np.linspace(0,t_max,int(t_max/h))\n",
    "x0=[0.85,0.1,0.05]"
   ]
  },
  {
   "cell_type": "code",
   "execution_count": 17,
   "id": "20cf467d-7357-4e67-9f4e-100535bea1fd",
   "metadata": {},
   "outputs": [],
   "source": [
    "### C^s, C^i, C^z\n",
    "\n",
    "def cs1(t):\n",
    "    return kappa\n",
    "def ci1(t):\n",
    "    return kappa\n",
    "def cz1(t):\n",
    "    return kappa*(1+nu)\n",
    "\n",
    "S1,I1,Z1 = solve_odes_system(x0, t, beta, mu, phi, gamma, cs1, ci1, cz1)"
   ]
  },
  {
   "cell_type": "code",
   "execution_count": 18,
   "id": "5dfc3647-9b6c-44a7-bf1f-0dc540594094",
   "metadata": {},
   "outputs": [
    {
     "data": {
      "image/png": "[encoded data removed]",
      "text/plain": [
       "<Figure size 720x432 with 1 Axes>"
      ]
     },
     "metadata": {
      "needs_background": "light"
     },
     "output_type": "display_data"
    }
   ],
   "source": [
    "plot_ode_solution(S1,I1,Z1,t,model='A')"
   ]
  },
  {
   "cell_type": "code",
   "execution_count": null,
   "id": "0cea3ceb-bf52-4283-b467-f64e2b1d65a9",
   "metadata": {},
   "outputs": [
    {
     "name": "stdout",
     "output_type": "stream",
     "text": [
      "Computing Equilibria for kappas took 77.92285585403442 seconds.\n"
     ]
    },
    {
     "data": {
      "application/vnd.plotly.v1+json": {
       "config": {
        "plotlyServerURL": "https://plot.ly"
       },
       "data": [
        {
         "hovertemplate": "R0=%{x}<br>i_opt=%{y}<extra></extra>",
         "legendgroup": "",
         "marker": {
          "color": "#636efa",
          "line": {
           "color": "Black",
           "width": 0.1
          },
          "size": 7,
          "symbol": "circle"
         },
         "mode": "markers",
         "name": "",
         "orientation": "v",
         "showlegend": false,
         "type": "scatter",
         "x": [
          0.902808222272419,
          0.902808222272419,
          0.9055184097583011,
          0.9055184097583011,
          0.9082285972441833,
          0.9082285972441833,
          0.9109387847300653,
          0.9109387847300653,
          0.9136489722159474,
          0.9136489722159474,
          0.9163591597018295,
          0.9163591597018295,
          0.9190693471877116,
          0.9190693471877116,
          0.9217795346735935,
          0.9217795346735935,
          0.9244897221594758,
          0.9244897221594758,
          0.9271999096453578,
          0.9271999096453578,
          0.92991009713124,
          0.92991009713124,
          0.932620284617122,
          0.932620284617122,
          0.9353304721030041,
          0.9353304721030041,
          0.938040659588886,
          0.938040659588886,
          0.9407508470747683,
          0.9407508470747683,
          0.9434610345606504,
          0.9434610345606504,
          0.9461712220465325,
          0.9461712220465325,
          0.9488814095324146,
          0.9488814095324146,
          0.9515915970182967,
          0.9515915970182967,
          0.9543017845041788,
          0.9543017845041788,
          0.9570119719900607,
          0.9570119719900607,
          0.959722159475943,
          0.959722159475943,
          0.962432346961825,
          0.962432346961825,
          0.9651425344477071,
          0.9651425344477071,
          0.9678527219335892,
          0.9678527219335892,
          0.9705629094194713,
          0.9705629094194713,
          0.9732730969053532,
          0.9732730969053532,
          0.9759832843912353,
          0.9759832843912353,
          0.9786934718771175,
          0.9786934718771175,
          0.9814036593629997,
          0.9814036593629997,
          0.9841138468488817,
          0.9841138468488817,
          0.9868240343347638,
          0.9868240343347638,
          0.9895342218206459,
          0.9895342218206459,
          0.9922444093065278,
          0.9922444093065278,
          0.9949545967924099,
          0.9949545967924099,
          0.9976647842782922,
          0.9976647842782922,
          1.0003749717641743,
          1.0003749717641743,
          1.0003749717641743,
          1.0030851592500563,
          1.0030851592500563,
          1.0030851592500563,
          1.0057953467359384,
          1.0057953467359384,
          1.0057953467359384,
          1.0085055342218203,
          1.0085055342218203,
          1.0085055342218203,
          1.0112157217077025,
          1.0112157217077025,
          1.0112157217077025,
          1.0139259091935846,
          1.0139259091935846,
          1.0139259091935846,
          1.0166360966794667,
          1.0166360966794667,
          1.0166360966794667,
          1.019346284165349,
          1.019346284165349,
          1.019346284165349,
          1.022056471651231,
          1.022056471651231,
          1.022056471651231,
          1.024766659137113,
          1.024766659137113,
          1.024766659137113,
          1.0274768466229949,
          1.030187034108877,
          1.0328972215947594,
          1.0356074090806413,
          1.0383175965665234,
          1.0410277840524056,
          1.0437379715382875,
          1.0464481590241697,
          1.0491583465100516,
          1.051868533995934,
          1.054578721481816,
          1.057288908967698,
          1.0599990964535801,
          1.062709283939462,
          1.0654194714253442,
          1.0681296589112264,
          1.0708398463971085,
          1.0735500338829906,
          1.0762602213688728,
          1.0789704088547547,
          1.0816805963406366,
          1.0843907838265188,
          1.0871009713124011,
          1.089811158798283,
          1.0925213462841652,
          1.0952315337700473,
          1.0979417212559293,
          1.1006519087418114,
          1.1033620962276933,
          1.1060722837135757,
          1.1087824711994578,
          1.1114926586853398,
          1.1142028461712217,
          1.1169130336571038,
          1.119623221142986,
          1.122333408628868,
          1.1250435961147502,
          1.1277537836006324,
          1.1304639710865145,
          1.1331741585723965,
          1.1358843460582784,
          1.1385945335441605,
          1.1413047210300427,
          1.1440149085159248,
          1.146725096001807,
          1.1494352834876889,
          1.152145470973571,
          1.1548556584594531,
          1.157565845945335,
          1.1602760334312174,
          1.1629862209170996,
          1.1656964084029815,
          1.1684065958888634,
          1.1711167833747456,
          1.1738269708606277,
          1.1765371583465098,
          1.179247345832392,
          1.1819575333182741,
          1.184667720804156,
          1.1873779082900382,
          1.1900880957759201,
          1.1927982832618023,
          1.1955084707476844,
          1.1982186582335665,
          1.2009288457194487,
          1.2036390332053306,
          1.2063492206912128,
          1.209059408177095,
          1.2117695956629768,
          1.214479783148859,
          1.2171899706347413,
          1.2199001581206232,
          1.2226103456065052,
          1.2253205330923873,
          1.2280307205782695,
          1.2307409080641516,
          1.2334510955500337,
          1.2361612830359159,
          1.2388714705217978,
          1.24158165800768,
          1.244291845493562,
          1.247002032979444,
          1.2497122204653262,
          1.2524224079512083,
          1.2551325954370904,
          1.2578427829229724,
          1.2605529704088545,
          1.2632631578947366,
          1.2659733453806188,
          1.2686835328665007,
          1.271393720352383,
          1.274103907838265,
          1.2768140953241471,
          1.279524282810029,
          1.2822344702959112,
          1.2849446577817933,
          1.2876548452676755,
          1.2903650327535574,
          1.2930752202394395,
          1.2957854077253217,
          1.2984955952112038,
          1.3012057826970858,
          1.303915970182968,
          1.30662615766885,
          1.3093363451547322,
          1.312046532640614,
          1.3147567201264962,
          1.3174669076123784,
          1.3201770950982605,
          1.3228872825841425,
          1.3255974700700246,
          1.3283076575559067,
          1.3310178450417889,
          1.3337280325276708,
          1.336438220013553,
          1.339148407499435,
          1.341858594985317,
          1.3445687824711992,
          1.3472789699570813,
          1.3499891574429634,
          1.3526993449288456,
          1.3554095324147275,
          1.3581197199006094,
          1.3608299073864918,
          1.363540094872374,
          1.3662502823582559,
          1.368960469844138,
          1.37167065733002,
          1.374380844815902,
          1.3770910323017842,
          1.3798012197876666,
          1.3825114072735487,
          1.3852215947594306,
          1.3879317822453126,
          1.3906419697311945,
          1.3933521572170766,
          1.3960623447029588,
          1.3987725321888411,
          1.4014827196747233,
          1.404192907160605,
          1.406903094646487,
          1.4096132821323692,
          1.4123234696182512,
          1.4150336571041333,
          1.4177438445900157,
          1.4204540320758978,
          1.4231642195617795,
          1.4258744070476617,
          1.4285845945335438,
          1.431294782019426,
          1.4340049695053083,
          1.4367151569911905,
          1.4394253444770722,
          1.4421355319629543,
          1.4448457194488362,
          1.4475559069347184,
          1.4502660944206005,
          1.4529762819064829,
          1.455686469392365,
          1.4583966568782467,
          1.4611068443641289,
          1.463817031850011,
          1.466527219335893,
          1.469237406821775,
          1.4719475943076574,
          1.4746577817935393,
          1.4773679692794213,
          1.4800781567653034,
          1.4827883442511856,
          1.4854985317370677,
          1.4882087192229496,
          1.4909189067088322,
          1.493629094194714,
          1.496339281680596,
          1.499049469166478,
          1.50175965665236,
          1.5044698441382423,
          1.5071800316241246,
          1.5098902191100063,
          1.5126004065958885,
          1.5153105940817706,
          1.5180207815676527,
          1.5207309690535349,
          1.5234411565394168,
          1.5261513440252992,
          1.528861531511181,
          1.5315717189970632,
          1.5342819064829452,
          1.5369920939688273,
          1.5397022814547094,
          1.5424124689405916,
          1.5451226564264735,
          1.5478328439123556,
          1.5505430313982378,
          1.55325321888412,
          1.5559634063700019,
          1.558673593855884,
          1.5613837813417664,
          1.5640939688276483,
          1.5668041563135302,
          1.5695143437994123,
          1.5722245312852945,
          1.5749347187711766,
          1.5776449062570586,
          1.5803550937429407,
          1.5830652812288228,
          1.585775468714705,
          1.588485656200587,
          1.5911958436864693,
          1.5939060311723514,
          1.5966162186582336,
          1.5993264061441153,
          1.6020365936299974,
          1.6047467811158795,
          1.6074569686017617,
          1.6101671560876436,
          1.6128773435735257,
          1.6155875310594079,
          1.61829771854529,
          1.621007906031172,
          1.623718093517054,
          1.6264282810029365,
          1.6291384684888186,
          1.6318486559747007,
          1.6345588434605824,
          1.6372690309464646,
          1.6399792184323467,
          1.6426894059182287,
          1.6453995934041108,
          1.648109780889993,
          1.650819968375875,
          1.653530155861757,
          1.6562403433476391,
          1.6589505308335213,
          1.6616607183194034,
          1.6643709058052858,
          1.6670810932911677,
          1.6697912807770496,
          1.6725014682629318,
          1.6752116557488137,
          1.6779218432346958,
          1.680632030720578,
          1.6833422182064601,
          1.686052405692342,
          1.6887625931782242,
          1.6914727806641063,
          1.6941829681499885,
          1.6968931556358704,
          1.6996033431217528,
          1.702313530607635,
          1.7050237180935168,
          1.7077339055793987,
          1.710444093065281,
          1.713154280551163,
          1.7158644680370452,
          1.718574655522927,
          1.7212848430088092,
          1.7239950304946914,
          1.7267052179805735,
          1.7294154054664554,
          1.7321255929523376,
          1.73483578043822,
          1.737545967924102,
          1.7402561554099838,
          1.742966342895866,
          1.745676530381748,
          1.7483867178676302,
          1.7510969053535121,
          1.7538070928393943,
          1.7565172803252764,
          1.7592274678111586,
          1.7619376552970405,
          1.7646478427829226,
          1.7673580302688048,
          1.7700682177546865,
          1.7727784052405693,
          1.775488592726451,
          1.7781987802123331,
          1.7809089676982153,
          1.7836191551840972,
          1.7863293426699793,
          1.7890395301558615,
          1.7917497176417436,
          1.7944599051276255,
          1.7971700926135077,
          1.7998802800993898,
          1.802590467585272,
          1.8053006550711537,
          1.8080108425570365,
          1.8107210300429182,
          1.8134312175288003,
          1.8161414050146822,
          1.8188515925005644,
          1.8215617799864465,
          1.8242719674723287,
          1.8269821549582106,
          1.8296923424440927,
          1.8324025299299749,
          1.835112717415857,
          1.837822904901739,
          1.8405330923876209,
          1.843243279873503,
          1.8459534673593854,
          1.8486636548452673,
          1.8513738423311494,
          1.8540840298170316,
          1.8567942173029137,
          1.8595044047887956,
          1.8622145922746778,
          1.86492477976056,
          1.867634967246442,
          1.870345154732324,
          1.8730553422182061,
          1.875765529704088,
          1.87847571718997,
          1.8811859046758523,
          1.8838960921617345,
          1.8866062796476166,
          1.8893164671334988,
          1.8920266546193807,
          1.8947368421052628
         ],
         "xaxis": "x",
         "y": [
          0.1092681864603167,
          0.13075429047342846,
          0.10170087235262545,
          0.13843750351338413,
          0.09649088790288549,
          0.14375898968490614,
          0.09226864217166654,
          0.14808824040122434,
          0.08862924663456821,
          0.15183003735777056,
          0.08538610849503245,
          0.15517085859416851,
          0.08243478060244264,
          0.1582150278790279,
          0.0797097320854577,
          0.16102794329737824,
          0.07716659933697442,
          0.1636538253923167,
          0.07477365951929647,
          0.1661242426781784,
          0.07250726812453315,
          0.16846267297349768,
          0.07034921619676746,
          0.17068714492738626,
          0.06828510310008039,
          0.17281186383163344,
          0.06630328459576966,
          0.17484826192683933,
          0.06439416515068944,
          0.17680570424658743,
          0.06254970562608499,
          0.1786919788089623,
          0.060763070823346615,
          0.18051364662873617,
          0.05902837071877201,
          0.1822762976565277,
          0.0573404661258065,
          0.18398474183049743,
          0.05569481964024165,
          0.18564315429080497,
          0.05408737897858017,
          0.18725518752861914,
          0.052514483794117044,
          0.18882405923640827,
          0.05097278963696498,
          0.19035262200410316,
          0.049459204427258534,
          0.19184341924918336,
          0.04797083394029287,
          0.1932987305673135,
          0.04650493354184868,
          0.19472060885311093,
          0.045058863870928646,
          0.19611091094756364,
          0.04363004840683333,
          0.19747132314180307,
          0.042215930903942434,
          0.19880338255560442,
          0.040813930525985476,
          0.20010849517883583,
          0.03942139212333934,
          0.2013879511919224,
          0.038035528386932624,
          0.20264293805130862,
          0.036653349422598916,
          0.20387455172642038,
          0.03527157333535521,
          0.20508380639804608,
          0.03388650817602039,
          0.20627164286837044,
          0.0324938901123341,
          0.2074389358861869,
          6.717765031557386e-05,
          0.031088653048948273,
          0.2085865005538185,
          0.0005745779281727062,
          0.029664587244340866,
          0.20971509795286492,
          0.0011258025061587084,
          0.028213810258001105,
          0.21082544010234602,
          0.0017306125396002513,
          0.02672590280098686,
          0.21191819434372605,
          0.0024028523382473074,
          0.0251864031177359,
          0.21299398723195748,
          0.003163296330653659,
          0.023573956559483612,
          0.2140534079989948,
          0.004045687267905646,
          0.02185427428965766,
          0.2150970116459722,
          0.005111842889463875,
          0.019965023850852144,
          0.2161253217116683,
          0.00650145311800588,
          0.0177660294859239,
          0.2171388327578172,
          0.008741696455700398,
          0.014729653506086831,
          0.21813801260598512,
          0.2191233043557494,
          0.22009512820985283,
          0.22105388312845742,
          0.22199994833173833,
          0.22293368466750071,
          0.22385543585839962,
          0.22476552964151159,
          0.22566427881142206,
          0.2265519821766808,
          0.2274289254382664,
          0.22829538199774058,
          0.22915161370186576,
          0.22999787152970286,
          0.23083439622756324,
          0.2316614188965727,
          0.23247916153713735,
          0.23328783755410507,
          0.23408765222607145,
          0.23487880314189735,
          0.23566148060719808,
          0.23643586802332492,
          0.2372021422410653,
          0.2379604738911253,
          0.23871102769321992,
          0.2394539627454649,
          0.240189432795583,
          0.2409175864953022,
          0.24163856763922925,
          0.2423525153893204,
          0.24305956448603133,
          0.243759845447077,
          0.2444534847547085,
          0.24514060503229823,
          0.24582132521097255,
          0.24649576068698997,
          0.24716402347046507,
          0.247826222326043,
          0.24848246290602882,
          0.24913284787648338,
          0.2497774770367313,
          0.2504164474326895,
          0.25104985346442893,
          0.2516777869882965,
          0.2523003374139591,
          0.25291759179666534,
          0.25352963492500424,
          0.25413654940445035,
          0.2547384157369151,
          0.2553353123965644,
          0.25592731590208984,
          0.2565145008856613,
          0.25709694015872236,
          0.25767470477482457,
          0.2582478640896573,
          0.25881648581841227,
          0.2593806360906554,
          0.2599403795028077,
          0.26049577916838484,
          0.2610468967661057,
          0.26159379258596926,
          0.2621365255734274,
          0.262675153371725,
          0.2632097323625218,
          0.26374031770486317,
          0.26426696337259614,
          0.2647897221903021,
          0.2653086458678078,
          0.265823785033365,
          0.2663351892655368,
          0.2668429071238761,
          0.2673469861784322,
          0.2678474730381507,
          0.2683444133782235,
          0.2688378519664162,
          0.2693278326884442,
          0.2698143985724171,
          0.27029759181241586,
          0.2707774537912165,
          0.27125402510221797,
          0.27172734557060174,
          0.2721974542737461,
          0.27266438956094896,
          0.2731281890724626,
          0.2735888897578943,
          0.2740465278939759,
          0.2745011391017474,
          0.27495275836317196,
          0.2754014200371943,
          0.2758471578752888,
          0.2762900050364909,
          0.2767299941019577,
          0.2771671570890523,
          0.2776015254649914,
          0.27803313016006176,
          0.2784620015804203,
          0.2788881696205052,
          0.2793116636750566,
          0.27973251265078225,
          0.28015074497765713,
          0.2805663886198926,
          0.28097947108657656,
          0.2813900194419918,
          0.28179806031564153,
          0.28220361991196985,
          0.2826067240198113,
          0.2830073980215584,
          0.2834056669020724,
          0.2838015552573425,
          0.2841950873028909,
          0.28458628688195503,
          0.28497517747342993,
          0.28536178219959746,
          0.2857461238336443,
          0.28612822480696576,
          0.2865081072162842,
          0.2868857928305607,
          0.28726130309773656,
          0.2876346591512819,
          0.2880058818165797,
          0.2883749916171412,
          0.2887420087806514,
          0.28910695324487007,
          0.2894698446633657,
          0.289830702411119,
          0.2901895455899662,
          0.29054639303391694,
          0.2909012633143366,
          0.29125417474499005,
          0.29160514538697363,
          0.2919541930535105,
          0.2923013353146421,
          0.29264658950179234,
          0.29298997271222904,
          0.2933315018134173,
          0.2936711934472611,
          0.2940090640342536,
          0.29434512977751826,
          0.29467940666676584,
          0.29501191048214714,
          0.29534265679802335,
          0.29567166098664915,
          0.2959989382217621,
          0.2963245034821022,
          0.29664837155483864,
          0.2969705570389292,
          0.29729107434839475,
          0.29760993771552585,
          0.29792716119401896,
          0.29824275866203404,
          0.29855674382519665,
          0.2988691302195219,
          0.29917993121428577,
          0.2994891600148234,
          0.29979682966527343,
          0.3001029530512645,
          0.3004075429025344,
          0.3007106117955068,
          0.3010121721557997,
          0.30131223626069403,
          0.3016108162415385,
          0.30190792408611117,
          0.30220357164093276,
          0.3024977706135248,
          0.30279053257463023,
          0.3030818689603797,
          0.30337179107442286,
          0.30366031009000694,
          0.30394743705201976,
          0.30423318287899204,
          0.3045175583650521,
          0.30480057418185275,
          0.30508224088044783,
          0.30536256889314395,
          0.30564156853530455,
          0.30591925000712633,
          0.30619562339538026,
          0.30647069867511195,
          0.3067444857113211,
          0.3070169942605961,
          0.30728823397272587,
          0.3075582143922803,
          0.3078269449601542,
          0.30809443501509204,
          0.30836069379517334,
          0.3086257304392819,
          0.3088895539885351,
          0.30915217338769674,
          0.3094135974865612,
          0.3096738350413068,
          0.30993289471583396,
          0.310190785083068,
          0.3104475146262502,
          0.3107030917401933,
          0.31095752473252425,
          0.311210821824901,
          0.3114629911542039,
          0.3117140407737146,
          0.3119639786542635,
          0.3122128126853677,
          0.3124605506763404,
          0.3127072003573805,
          0.3129527693806616,
          0.3131972653213652,
          0.3134406956787425,
          0.3136830678771121,
          0.31392438926687455,
          0.3141646671254993,
          0.3144039086584794,
          0.31464212100030325,
          0.3148793112153698,
          0.3151154862989211,
          0.31535065317794814,
          0.3155848187120702,
          0.315817989694423,
          0.3160501728525026,
          0.31628137484903274,
          0.31651160228277525,
          0.31674086168936233,
          0.3169691595421026,
          0.3171965022527604,
          0.3174228961723555,
          0.31764834759190863,
          0.31787286274320925,
          0.3180964477995584,
          0.31831910887649023,
          0.3185408520325031,
          0.3187616832697545,
          0.31898160853476615,
          0.31920063371911134,
          0.3194187646600799,
          0.31963600714135476,
          0.31985236689365387,
          0.3200678495953869,
          0.32028246087327583,
          0.32049620630298803,
          0.32070909140975234,
          0.320921121668955,
          0.3211323025067473,
          0.32134263930062307,
          0.32155213737999866,
          0.32176080202679064,
          0.3219686384759638,
          0.3221756519160965,
          0.32238184748991455,
          0.3225872302948294,
          0.3227918053834774,
          0.3229955777642211,
          0.3231985524016809,
          0.3234007342172277,
          0.3236021280894823,
          0.3238027388548177,
          0.3240025713078229,
          0.3242016302018013,
          0.324399920249219,
          0.32459744612218633,
          0.32479421245290185,
          0.3249902238341036,
          0.3251854848195238,
          0.3253799999243065,
          0.32557377362546003,
          0.32576681036226274,
          0.32595911453669035,
          0.3261506905138366,
          0.32634154262230197,
          0.32653167515461656,
          0.3267210923676165,
          0.3269097984828461,
          0.32709779768694425,
          0.32728509413201173,
          0.32747169193600467,
          0.3276575951830826,
          0.32784280792399473,
          0.3280273341764197,
          0.32821117792533183,
          0.3283943431233523,
          0.3285768336910823,
          0.32875865351746086,
          0.3289398064600833,
          0.32912029634554296,
          0.3293001269697601,
          0.32947930209829257,
          0.32965782546667205,
          0.32983570078069974,
          0.3300129317167678,
          0.33018952192216605,
          0.3303654750153752,
          0.3305407945863764,
          0.33071548419693153,
          0.33088954738089127,
          0.33106298764446357,
          0.33123580846650763,
          0.33140801329881375,
          0.3315796055663708,
          0.3317505886676493,
          0.3319209659748586,
          0.33209074083421986,
          0.3322599165662296,
          0.33242849646590955,
          0.33259648380307255,
          0.33276388182256644,
          0.33293069374452405,
          0.33309692276461733,
          0.33326257205428816,
          0.3334276447609991,
          0.33359214400846243,
          0.33375607289687387,
          0.3339194345031552,
          0.33408223188116415,
          0.3342444680619372,
          0.33440614605390057,
          0.3345672688430917,
          0.33472783939338674,
          0.3348878606466975,
          0.335047335523203,
          0.3352062669215397,
          0.3353646577190254,
          0.3355225107718522,
          0.3356798289152899,
          0.3358366149638961,
          0.3359928717116952,
          0.3361486019323935
         ],
         "yaxis": "y"
        }
       ],
       "layout": {
        "height": 500,
        "legend": {
         "tracegroupgap": 0
        },
        "margin": {
         "t": 60
        },
        "paper_bgcolor": "#DDE1E2",
        "plot_bgcolor": "#FFFFFF",
        "template": {
         "data": {
          "bar": [
           {
            "error_x": {
             "color": "#2a3f5f"
            },
            "error_y": {
             "color": "#2a3f5f"
            },
            "marker": {
             "line": {
              "color": "#E5ECF6",
              "width": 0.5
             },
             "pattern": {
              "fillmode": "overlay",
              "size": 10,
              "solidity": 0.2
             }
            },
            "type": "bar"
           }
          ],
          "barpolar": [
           {
            "marker": {
             "line": {
              "color": "#E5ECF6",
              "width": 0.5
             },
             "pattern": {
              "fillmode": "overlay",
              "size": 10,
              "solidity": 0.2
             }
            },
            "type": "barpolar"
           }
          ],
          "carpet": [
           {
            "aaxis": {
             "endlinecolor": "#2a3f5f",
             "gridcolor": "white",
             "linecolor": "white",
             "minorgridcolor": "white",
             "startlinecolor": "#2a3f5f"
            },
            "baxis": {
             "endlinecolor": "#2a3f5f",
             "gridcolor": "white",
             "linecolor": "white",
             "minorgridcolor": "white",
             "startlinecolor": "#2a3f5f"
            },
            "type": "carpet"
           }
          ],
          "choropleth": [
           {
            "colorbar": {
             "outlinewidth": 0,
             "ticks": ""
            },
            "type": "choropleth"
           }
          ],
          "contour": [
           {
            "colorbar": {
             "outlinewidth": 0,
             "ticks": ""
            },
            "colorscale": [
             [
              0,
              "#0d0887"
             ],
             [
              0.1111111111111111,
              "#46039f"
             ],
             [
              0.2222222222222222,
              "#7201a8"
             ],
             [
              0.3333333333333333,
              "#9c179e"
             ],
             [
              0.4444444444444444,
              "#bd3786"
             ],
             [
              0.5555555555555556,
              "#d8576b"
             ],
             [
              0.6666666666666666,
              "#ed7953"
             ],
             [
              0.7777777777777778,
              "#fb9f3a"
             ],
             [
              0.8888888888888888,
              "#fdca26"
             ],
             [
              1,
              "#f0f921"
             ]
            ],
            "type": "contour"
           }
          ],
          "contourcarpet": [
           {
            "colorbar": {
             "outlinewidth": 0,
             "ticks": ""
            },
            "type": "contourcarpet"
           }
          ],
          "heatmap": [
           {
            "colorbar": {
             "outlinewidth": 0,
             "ticks": ""
            },
            "colorscale": [
             [
              0,
              "#0d0887"
             ],
             [
              0.1111111111111111,
              "#46039f"
             ],
             [
              0.2222222222222222,
              "#7201a8"
             ],
             [
              0.3333333333333333,
              "#9c179e"
             ],
             [
              0.4444444444444444,
              "#bd3786"
             ],
             [
              0.5555555555555556,
              "#d8576b"
             ],
             [
              0.6666666666666666,
              "#ed7953"
             ],
             [
              0.7777777777777778,
              "#fb9f3a"
             ],
             [
              0.8888888888888888,
              "#fdca26"
             ],
             [
              1,
              "#f0f921"
             ]
            ],
            "type": "heatmap"
           }
          ],
          "heatmapgl": [
           {
            "colorbar": {
             "outlinewidth": 0,
             "ticks": ""
            },
            "colorscale": [
             [
              0,
              "#0d0887"
             ],
             [
              0.1111111111111111,
              "#46039f"
             ],
             [
              0.2222222222222222,
              "#7201a8"
             ],
             [
              0.3333333333333333,
              "#9c179e"
             ],
             [
              0.4444444444444444,
              "#bd3786"
             ],
             [
              0.5555555555555556,
              "#d8576b"
             ],
             [
              0.6666666666666666,
              "#ed7953"
             ],
             [
              0.7777777777777778,
              "#fb9f3a"
             ],
             [
              0.8888888888888888,
              "#fdca26"
             ],
             [
              1,
              "#f0f921"
             ]
            ],
            "type": "heatmapgl"
           }
          ],
          "histogram": [
           {
            "marker": {
             "pattern": {
              "fillmode": "overlay",
              "size": 10,
              "solidity": 0.2
             }
            },
            "type": "histogram"
           }
          ],
          "histogram2d": [
           {
            "colorbar": {
             "outlinewidth": 0,
             "ticks": ""
            },
            "colorscale": [
             [
              0,
              "#0d0887"
             ],
             [
              0.1111111111111111,
              "#46039f"
             ],
             [
              0.2222222222222222,
              "#7201a8"
             ],
             [
              0.3333333333333333,
              "#9c179e"
             ],
             [
              0.4444444444444444,
              "#bd3786"
             ],
             [
              0.5555555555555556,
              "#d8576b"
             ],
             [
              0.6666666666666666,
              "#ed7953"
             ],
             [
              0.7777777777777778,
              "#fb9f3a"
             ],
             [
              0.8888888888888888,
              "#fdca26"
             ],
             [
              1,
              "#f0f921"
             ]
            ],
            "type": "histogram2d"
           }
          ],
          "histogram2dcontour": [
           {
            "colorbar": {
             "outlinewidth": 0,
             "ticks": ""
            },
            "colorscale": [
             [
              0,
              "#0d0887"
             ],
             [
              0.1111111111111111,
              "#46039f"
             ],
             [
              0.2222222222222222,
              "#7201a8"
             ],
             [
              0.3333333333333333,
              "#9c179e"
             ],
             [
              0.4444444444444444,
              "#bd3786"
             ],
             [
              0.5555555555555556,
              "#d8576b"
             ],
             [
              0.6666666666666666,
              "#ed7953"
             ],
             [
              0.7777777777777778,
              "#fb9f3a"
             ],
             [
              0.8888888888888888,
              "#fdca26"
             ],
             [
              1,
              "#f0f921"
             ]
            ],
            "type": "histogram2dcontour"
           }
          ],
          "mesh3d": [
           {
            "colorbar": {
             "outlinewidth": 0,
             "ticks": ""
            },
            "type": "mesh3d"
           }
          ],
          "parcoords": [
           {
            "line": {
             "colorbar": {
              "outlinewidth": 0,
              "ticks": ""
             }
            },
            "type": "parcoords"
           }
          ],
          "pie": [
           {
            "automargin": true,
            "type": "pie"
           }
          ],
          "scatter": [
           {
            "marker": {
             "colorbar": {
              "outlinewidth": 0,
              "ticks": ""
             }
            },
            "type": "scatter"
           }
          ],
          "scatter3d": [
           {
            "line": {
             "colorbar": {
              "outlinewidth": 0,
              "ticks": ""
             }
            },
            "marker": {
             "colorbar": {
              "outlinewidth": 0,
              "ticks": ""
             }
            },
            "type": "scatter3d"
           }
          ],
          "scattercarpet": [
           {
            "marker": {
             "colorbar": {
              "outlinewidth": 0,
              "ticks": ""
             }
            },
            "type": "scattercarpet"
           }
          ],
          "scattergeo": [
           {
            "marker": {
             "colorbar": {
              "outlinewidth": 0,
              "ticks": ""
             }
            },
            "type": "scattergeo"
           }
          ],
          "scattergl": [
           {
            "marker": {
             "colorbar": {
              "outlinewidth": 0,
              "ticks": ""
             }
            },
            "type": "scattergl"
           }
          ],
          "scattermapbox": [
           {
            "marker": {
             "colorbar": {
              "outlinewidth": 0,
              "ticks": ""
             }
            },
            "type": "scattermapbox"
           }
          ],
          "scatterpolar": [
           {
            "marker": {
             "colorbar": {
              "outlinewidth": 0,
              "ticks": ""
             }
            },
            "type": "scatterpolar"
           }
          ],
          "scatterpolargl": [
           {
            "marker": {
             "colorbar": {
              "outlinewidth": 0,
              "ticks": ""
             }
            },
            "type": "scatterpolargl"
           }
          ],
          "scatterternary": [
           {
            "marker": {
             "colorbar": {
              "outlinewidth": 0,
              "ticks": ""
             }
            },
            "type": "scatterternary"
           }
          ],
          "surface": [
           {
            "colorbar": {
             "outlinewidth": 0,
             "ticks": ""
            },
            "colorscale": [
             [
              0,
              "#0d0887"
             ],
             [
              0.1111111111111111,
              "#46039f"
             ],
             [
              0.2222222222222222,
              "#7201a8"
             ],
             [
              0.3333333333333333,
              "#9c179e"
             ],
             [
              0.4444444444444444,
              "#bd3786"
             ],
             [
              0.5555555555555556,
              "#d8576b"
             ],
             [
              0.6666666666666666,
              "#ed7953"
             ],
             [
              0.7777777777777778,
              "#fb9f3a"
             ],
             [
              0.8888888888888888,
              "#fdca26"
             ],
             [
              1,
              "#f0f921"
             ]
            ],
            "type": "surface"
           }
          ],
          "table": [
           {
            "cells": {
             "fill": {
              "color": "#EBF0F8"
             },
             "line": {
              "color": "white"
             }
            },
            "header": {
             "fill": {
              "color": "#C8D4E3"
             },
             "line": {
              "color": "white"
             }
            },
            "type": "table"
           }
          ]
         },
         "layout": {
          "annotationdefaults": {
           "arrowcolor": "#2a3f5f",
           "arrowhead": 0,
           "arrowwidth": 1
          },
          "autotypenumbers": "strict",
          "coloraxis": {
           "colorbar": {
            "outlinewidth": 0,
            "ticks": ""
           }
          },
          "colorscale": {
           "diverging": [
            [
             0,
             "#8e0152"
            ],
            [
             0.1,
             "#c51b7d"
            ],
            [
             0.2,
             "#de77ae"
            ],
            [
             0.3,
             "#f1b6da"
            ],
            [
             0.4,
             "#fde0ef"
            ],
            [
             0.5,
             "#f7f7f7"
            ],
            [
             0.6,
             "#e6f5d0"
            ],
            [
             0.7,
             "#b8e186"
            ],
            [
             0.8,
             "#7fbc41"
            ],
            [
             0.9,
             "#4d9221"
            ],
            [
             1,
             "#276419"
            ]
           ],
           "sequential": [
            [
             0,
             "#0d0887"
            ],
            [
             0.1111111111111111,
             "#46039f"
            ],
            [
             0.2222222222222222,
             "#7201a8"
            ],
            [
             0.3333333333333333,
             "#9c179e"
            ],
            [
             0.4444444444444444,
             "#bd3786"
            ],
            [
             0.5555555555555556,
             "#d8576b"
            ],
            [
             0.6666666666666666,
             "#ed7953"
            ],
            [
             0.7777777777777778,
             "#fb9f3a"
            ],
            [
             0.8888888888888888,
             "#fdca26"
            ],
            [
             1,
             "#f0f921"
            ]
           ],
           "sequentialminus": [
            [
             0,
             "#0d0887"
            ],
            [
             0.1111111111111111,
             "#46039f"
            ],
            [
             0.2222222222222222,
             "#7201a8"
            ],
            [
             0.3333333333333333,
             "#9c179e"
            ],
            [
             0.4444444444444444,
             "#bd3786"
            ],
            [
             0.5555555555555556,
             "#d8576b"
            ],
            [
             0.6666666666666666,
             "#ed7953"
            ],
            [
             0.7777777777777778,
             "#fb9f3a"
            ],
            [
             0.8888888888888888,
             "#fdca26"
            ],
            [
             1,
             "#f0f921"
            ]
           ]
          },
          "colorway": [
           "#636efa",
           "#EF553B",
           "#00cc96",
           "#ab63fa",
           "#FFA15A",
           "#19d3f3",
           "#FF6692",
           "#B6E880",
           "#FF97FF",
           "#FECB52"
          ],
          "font": {
           "color": "#2a3f5f"
          },
          "geo": {
           "bgcolor": "white",
           "lakecolor": "white",
           "landcolor": "#E5ECF6",
           "showlakes": true,
           "showland": true,
           "subunitcolor": "white"
          },
          "hoverlabel": {
           "align": "left"
          },
          "hovermode": "closest",
          "mapbox": {
           "style": "light"
          },
          "paper_bgcolor": "white",
          "plot_bgcolor": "#E5ECF6",
          "polar": {
           "angularaxis": {
            "gridcolor": "white",
            "linecolor": "white",
            "ticks": ""
           },
           "bgcolor": "#E5ECF6",
           "radialaxis": {
            "gridcolor": "white",
            "linecolor": "white",
            "ticks": ""
           }
          },
          "scene": {
           "xaxis": {
            "backgroundcolor": "#E5ECF6",
            "gridcolor": "white",
            "gridwidth": 2,
            "linecolor": "white",
            "showbackground": true,
            "ticks": "",
            "zerolinecolor": "white"
           },
           "yaxis": {
            "backgroundcolor": "#E5ECF6",
            "gridcolor": "white",
            "gridwidth": 2,
            "linecolor": "white",
            "showbackground": true,
            "ticks": "",
            "zerolinecolor": "white"
           },
           "zaxis": {
            "backgroundcolor": "#E5ECF6",
            "gridcolor": "white",
            "gridwidth": 2,
            "linecolor": "white",
            "showbackground": true,
            "ticks": "",
            "zerolinecolor": "white"
           }
          },
          "shapedefaults": {
           "line": {
            "color": "#2a3f5f"
           }
          },
          "ternary": {
           "aaxis": {
            "gridcolor": "white",
            "linecolor": "white",
            "ticks": ""
           },
           "baxis": {
            "gridcolor": "white",
            "linecolor": "white",
            "ticks": ""
           },
           "bgcolor": "#E5ECF6",
           "caxis": {
            "gridcolor": "white",
            "linecolor": "white",
            "ticks": ""
           }
          },
          "title": {
           "x": 0.05
          },
          "xaxis": {
           "automargin": true,
           "gridcolor": "white",
           "linecolor": "white",
           "ticks": "",
           "title": {
            "standoff": 15
           },
           "zerolinecolor": "white",
           "zerolinewidth": 2
          },
          "yaxis": {
           "automargin": true,
           "gridcolor": "white",
           "linecolor": "white",
           "ticks": "",
           "title": {
            "standoff": 15
           },
           "zerolinecolor": "white",
           "zerolinewidth": 2
          }
         }
        },
        "width": 600,
        "xaxis": {
         "anchor": "y",
         "autorange": true,
         "domain": [
          0,
          1
         ],
         "range": [
          0.8352494944529452,
          1.9622955699247366
         ],
         "showspikes": false,
         "title": {
          "text": "R0"
         },
         "type": "linear"
        },
        "yaxis": {
         "anchor": "x",
         "autorange": true,
         "domain": [
          0,
          1
         ],
         "range": [
          -0.023786341360981792,
          0.36000212094369083
         ],
         "showspikes": false,
         "title": {
          "text": "i_opt"
         },
         "type": "linear"
        }
       }
      },
      "image/png": "[encoded data removed]",
      "text/html": [
       "<div>                            <div id=\"e5ef96a1-dc8e-48be-9cd6-c0e118c8ddf1\" class=\"plotly-graph-div\" style=\"height:500px; width:600px;\"></div>            <script type=\"text/javascript\">                require([\"plotly\"], function(Plotly) {                    window.PLOTLYENV=window.PLOTLYENV || {};                                    if (document.getElementById(\"e5ef96a1-dc8e-48be-9cd6-c0e118c8ddf1\")) {                    Plotly.newPlot(                        \"e5ef96a1-dc8e-48be-9cd6-c0e118c8ddf1\",                        [{\"hovertemplate\":\"R0=%{x}<br>i_opt=%{y}<extra></extra>\",\"legendgroup\":\"\",\"marker\":{\"color\":\"#636efa\",\"symbol\":\"circle\",\"line\":{\"color\":\"Black\",\"width\":0.1},\"size\":7},\"mode\":\"markers\",\"name\":\"\",\"orientation\":\"v\",\"showlegend\":false,\"x\":[0.902808222272419,0.902808222272419,0.9055184097583011,0.9055184097583011,0.9082285972441833,0.9082285972441833,0.9109387847300653,0.9109387847300653,0.9136489722159474,0.9136489722159474,0.9163591597018295,0.9163591597018295,0.9190693471877116,0.9190693471877116,0.9217795346735935,0.9217795346735935,0.9244897221594758,0.9244897221594758,0.9271999096453578,0.9271999096453578,0.92991009713124,0.92991009713124,0.932620284617122,0.932620284617122,0.9353304721030041,0.9353304721030041,0.938040659588886,0.938040659588886,0.9407508470747683,0.9407508470747683,0.9434610345606504,0.9434610345606504,0.9461712220465325,0.9461712220465325,0.9488814095324146,0.9488814095324146,0.9515915970182967,0.9515915970182967,0.9543017845041788,0.9543017845041788,0.9570119719900607,0.9570119719900607,0.959722159475943,0.959722159475943,0.962432346961825,0.962432346961825,0.9651425344477071,0.9651425344477071,0.9678527219335892,0.9678527219335892,0.9705629094194713,0.9705629094194713,0.9732730969053532,0.9732730969053532,0.9759832843912353,0.9759832843912353,0.9786934718771175,0.9786934718771175,0.9814036593629997,0.9814036593629997,0.9841138468488817,0.9841138468488817,0.9868240343347638,0.9868240343347638,0.9895342218206459,0.9895342218206459,0.9922444093065278,0.9922444093065278,0.9949545967924099,0.9949545967924099,0.9976647842782922,0.9976647842782922,1.0003749717641743,1.0003749717641743,1.0003749717641743,1.0030851592500563,1.0030851592500563,1.0030851592500563,1.0057953467359384,1.0057953467359384,1.0057953467359384,1.0085055342218203,1.0085055342218203,1.0085055342218203,1.0112157217077025,1.0112157217077025,1.0112157217077025,1.0139259091935846,1.0139259091935846,1.0139259091935846,1.0166360966794667,1.0166360966794667,1.0166360966794667,1.019346284165349,1.019346284165349,1.019346284165349,1.022056471651231,1.022056471651231,1.022056471651231,1.024766659137113,1.024766659137113,1.024766659137113,1.0274768466229949,1.030187034108877,1.0328972215947594,1.0356074090806413,1.0383175965665234,1.0410277840524056,1.0437379715382875,1.0464481590241697,1.0491583465100516,1.051868533995934,1.054578721481816,1.057288908967698,1.0599990964535801,1.062709283939462,1.0654194714253442,1.0681296589112264,1.0708398463971085,1.0735500338829906,1.0762602213688728,1.0789704088547547,1.0816805963406366,1.0843907838265188,1.0871009713124011,1.089811158798283,1.0925213462841652,1.0952315337700473,1.0979417212559293,1.1006519087418114,1.1033620962276933,1.1060722837135757,1.1087824711994578,1.1114926586853398,1.1142028461712217,1.1169130336571038,1.119623221142986,1.122333408628868,1.1250435961147502,1.1277537836006324,1.1304639710865145,1.1331741585723965,1.1358843460582784,1.1385945335441605,1.1413047210300427,1.1440149085159248,1.146725096001807,1.1494352834876889,1.152145470973571,1.1548556584594531,1.157565845945335,1.1602760334312174,1.1629862209170996,1.1656964084029815,1.1684065958888634,1.1711167833747456,1.1738269708606277,1.1765371583465098,1.179247345832392,1.1819575333182741,1.184667720804156,1.1873779082900382,1.1900880957759201,1.1927982832618023,1.1955084707476844,1.1982186582335665,1.2009288457194487,1.2036390332053306,1.2063492206912128,1.209059408177095,1.2117695956629768,1.214479783148859,1.2171899706347413,1.2199001581206232,1.2226103456065052,1.2253205330923873,1.2280307205782695,1.2307409080641516,1.2334510955500337,1.2361612830359159,1.2388714705217978,1.24158165800768,1.244291845493562,1.247002032979444,1.2497122204653262,1.2524224079512083,1.2551325954370904,1.2578427829229724,1.2605529704088545,1.2632631578947366,1.2659733453806188,1.2686835328665007,1.271393720352383,1.274103907838265,1.2768140953241471,1.279524282810029,1.2822344702959112,1.2849446577817933,1.2876548452676755,1.2903650327535574,1.2930752202394395,1.2957854077253217,1.2984955952112038,1.3012057826970858,1.303915970182968,1.30662615766885,1.3093363451547322,1.312046532640614,1.3147567201264962,1.3174669076123784,1.3201770950982605,1.3228872825841425,1.3255974700700246,1.3283076575559067,1.3310178450417889,1.3337280325276708,1.336438220013553,1.339148407499435,1.341858594985317,1.3445687824711992,1.3472789699570813,1.3499891574429634,1.3526993449288456,1.3554095324147275,1.3581197199006094,1.3608299073864918,1.363540094872374,1.3662502823582559,1.368960469844138,1.37167065733002,1.374380844815902,1.3770910323017842,1.3798012197876666,1.3825114072735487,1.3852215947594306,1.3879317822453126,1.3906419697311945,1.3933521572170766,1.3960623447029588,1.3987725321888411,1.4014827196747233,1.404192907160605,1.406903094646487,1.4096132821323692,1.4123234696182512,1.4150336571041333,1.4177438445900157,1.4204540320758978,1.4231642195617795,1.4258744070476617,1.4285845945335438,1.431294782019426,1.4340049695053083,1.4367151569911905,1.4394253444770722,1.4421355319629543,1.4448457194488362,1.4475559069347184,1.4502660944206005,1.4529762819064829,1.455686469392365,1.4583966568782467,1.4611068443641289,1.463817031850011,1.466527219335893,1.469237406821775,1.4719475943076574,1.4746577817935393,1.4773679692794213,1.4800781567653034,1.4827883442511856,1.4854985317370677,1.4882087192229496,1.4909189067088322,1.493629094194714,1.496339281680596,1.499049469166478,1.50175965665236,1.5044698441382423,1.5071800316241246,1.5098902191100063,1.5126004065958885,1.5153105940817706,1.5180207815676527,1.5207309690535349,1.5234411565394168,1.5261513440252992,1.528861531511181,1.5315717189970632,1.5342819064829452,1.5369920939688273,1.5397022814547094,1.5424124689405916,1.5451226564264735,1.5478328439123556,1.5505430313982378,1.55325321888412,1.5559634063700019,1.558673593855884,1.5613837813417664,1.5640939688276483,1.5668041563135302,1.5695143437994123,1.5722245312852945,1.5749347187711766,1.5776449062570586,1.5803550937429407,1.5830652812288228,1.585775468714705,1.588485656200587,1.5911958436864693,1.5939060311723514,1.5966162186582336,1.5993264061441153,1.6020365936299974,1.6047467811158795,1.6074569686017617,1.6101671560876436,1.6128773435735257,1.6155875310594079,1.61829771854529,1.621007906031172,1.623718093517054,1.6264282810029365,1.6291384684888186,1.6318486559747007,1.6345588434605824,1.6372690309464646,1.6399792184323467,1.6426894059182287,1.6453995934041108,1.648109780889993,1.650819968375875,1.653530155861757,1.6562403433476391,1.6589505308335213,1.6616607183194034,1.6643709058052858,1.6670810932911677,1.6697912807770496,1.6725014682629318,1.6752116557488137,1.6779218432346958,1.680632030720578,1.6833422182064601,1.686052405692342,1.6887625931782242,1.6914727806641063,1.6941829681499885,1.6968931556358704,1.6996033431217528,1.702313530607635,1.7050237180935168,1.7077339055793987,1.710444093065281,1.713154280551163,1.7158644680370452,1.718574655522927,1.7212848430088092,1.7239950304946914,1.7267052179805735,1.7294154054664554,1.7321255929523376,1.73483578043822,1.737545967924102,1.7402561554099838,1.742966342895866,1.745676530381748,1.7483867178676302,1.7510969053535121,1.7538070928393943,1.7565172803252764,1.7592274678111586,1.7619376552970405,1.7646478427829226,1.7673580302688048,1.7700682177546865,1.7727784052405693,1.775488592726451,1.7781987802123331,1.7809089676982153,1.7836191551840972,1.7863293426699793,1.7890395301558615,1.7917497176417436,1.7944599051276255,1.7971700926135077,1.7998802800993898,1.802590467585272,1.8053006550711537,1.8080108425570365,1.8107210300429182,1.8134312175288003,1.8161414050146822,1.8188515925005644,1.8215617799864465,1.8242719674723287,1.8269821549582106,1.8296923424440927,1.8324025299299749,1.835112717415857,1.837822904901739,1.8405330923876209,1.843243279873503,1.8459534673593854,1.8486636548452673,1.8513738423311494,1.8540840298170316,1.8567942173029137,1.8595044047887956,1.8622145922746778,1.86492477976056,1.867634967246442,1.870345154732324,1.8730553422182061,1.875765529704088,1.87847571718997,1.8811859046758523,1.8838960921617345,1.8866062796476166,1.8893164671334988,1.8920266546193807,1.8947368421052628],\"xaxis\":\"x\",\"y\":[0.1092681864603167,0.13075429047342846,0.10170087235262545,0.13843750351338413,0.09649088790288549,0.14375898968490614,0.09226864217166654,0.14808824040122434,0.08862924663456821,0.15183003735777056,0.08538610849503245,0.15517085859416851,0.08243478060244264,0.1582150278790279,0.0797097320854577,0.16102794329737824,0.07716659933697442,0.1636538253923167,0.07477365951929647,0.1661242426781784,0.07250726812453315,0.16846267297349768,0.07034921619676746,0.17068714492738626,0.06828510310008039,0.17281186383163344,0.06630328459576966,0.17484826192683933,0.06439416515068944,0.17680570424658743,0.06254970562608499,0.1786919788089623,0.060763070823346615,0.18051364662873617,0.05902837071877201,0.1822762976565277,0.0573404661258065,0.18398474183049743,0.05569481964024165,0.18564315429080497,0.05408737897858017,0.18725518752861914,0.052514483794117044,0.18882405923640827,0.05097278963696498,0.19035262200410316,0.049459204427258534,0.19184341924918336,0.04797083394029287,0.1932987305673135,0.04650493354184868,0.19472060885311093,0.045058863870928646,0.19611091094756364,0.04363004840683333,0.19747132314180307,0.042215930903942434,0.19880338255560442,0.040813930525985476,0.20010849517883583,0.03942139212333934,0.2013879511919224,0.038035528386932624,0.20264293805130862,0.036653349422598916,0.20387455172642038,0.03527157333535521,0.20508380639804608,0.03388650817602039,0.20627164286837044,0.0324938901123341,0.2074389358861869,6.717765031557386e-05,0.031088653048948273,0.2085865005538185,0.0005745779281727062,0.029664587244340866,0.20971509795286492,0.0011258025061587084,0.028213810258001105,0.21082544010234602,0.0017306125396002513,0.02672590280098686,0.21191819434372605,0.0024028523382473074,0.0251864031177359,0.21299398723195748,0.003163296330653659,0.023573956559483612,0.2140534079989948,0.004045687267905646,0.02185427428965766,0.2150970116459722,0.005111842889463875,0.019965023850852144,0.2161253217116683,0.00650145311800588,0.0177660294859239,0.2171388327578172,0.008741696455700398,0.014729653506086831,0.21813801260598512,0.2191233043557494,0.22009512820985283,0.22105388312845742,0.22199994833173833,0.22293368466750071,0.22385543585839962,0.22476552964151159,0.22566427881142206,0.2265519821766808,0.2274289254382664,0.22829538199774058,0.22915161370186576,0.22999787152970286,0.23083439622756324,0.2316614188965727,0.23247916153713735,0.23328783755410507,0.23408765222607145,0.23487880314189735,0.23566148060719808,0.23643586802332492,0.2372021422410653,0.2379604738911253,0.23871102769321992,0.2394539627454649,0.240189432795583,0.2409175864953022,0.24163856763922925,0.2423525153893204,0.24305956448603133,0.243759845447077,0.2444534847547085,0.24514060503229823,0.24582132521097255,0.24649576068698997,0.24716402347046507,0.247826222326043,0.24848246290602882,0.24913284787648338,0.2497774770367313,0.2504164474326895,0.25104985346442893,0.2516777869882965,0.2523003374139591,0.25291759179666534,0.25352963492500424,0.25413654940445035,0.2547384157369151,0.2553353123965644,0.25592731590208984,0.2565145008856613,0.25709694015872236,0.25767470477482457,0.2582478640896573,0.25881648581841227,0.2593806360906554,0.2599403795028077,0.26049577916838484,0.2610468967661057,0.26159379258596926,0.2621365255734274,0.262675153371725,0.2632097323625218,0.26374031770486317,0.26426696337259614,0.2647897221903021,0.2653086458678078,0.265823785033365,0.2663351892655368,0.2668429071238761,0.2673469861784322,0.2678474730381507,0.2683444133782235,0.2688378519664162,0.2693278326884442,0.2698143985724171,0.27029759181241586,0.2707774537912165,0.27125402510221797,0.27172734557060174,0.2721974542737461,0.27266438956094896,0.2731281890724626,0.2735888897578943,0.2740465278939759,0.2745011391017474,0.27495275836317196,0.2754014200371943,0.2758471578752888,0.2762900050364909,0.2767299941019577,0.2771671570890523,0.2776015254649914,0.27803313016006176,0.2784620015804203,0.2788881696205052,0.2793116636750566,0.27973251265078225,0.28015074497765713,0.2805663886198926,0.28097947108657656,0.2813900194419918,0.28179806031564153,0.28220361991196985,0.2826067240198113,0.2830073980215584,0.2834056669020724,0.2838015552573425,0.2841950873028909,0.28458628688195503,0.28497517747342993,0.28536178219959746,0.2857461238336443,0.28612822480696576,0.2865081072162842,0.2868857928305607,0.28726130309773656,0.2876346591512819,0.2880058818165797,0.2883749916171412,0.2887420087806514,0.28910695324487007,0.2894698446633657,0.289830702411119,0.2901895455899662,0.29054639303391694,0.2909012633143366,0.29125417474499005,0.29160514538697363,0.2919541930535105,0.2923013353146421,0.29264658950179234,0.29298997271222904,0.2933315018134173,0.2936711934472611,0.2940090640342536,0.29434512977751826,0.29467940666676584,0.29501191048214714,0.29534265679802335,0.29567166098664915,0.2959989382217621,0.2963245034821022,0.29664837155483864,0.2969705570389292,0.29729107434839475,0.29760993771552585,0.29792716119401896,0.29824275866203404,0.29855674382519665,0.2988691302195219,0.29917993121428577,0.2994891600148234,0.29979682966527343,0.3001029530512645,0.3004075429025344,0.3007106117955068,0.3010121721557997,0.30131223626069403,0.3016108162415385,0.30190792408611117,0.30220357164093276,0.3024977706135248,0.30279053257463023,0.3030818689603797,0.30337179107442286,0.30366031009000694,0.30394743705201976,0.30423318287899204,0.3045175583650521,0.30480057418185275,0.30508224088044783,0.30536256889314395,0.30564156853530455,0.30591925000712633,0.30619562339538026,0.30647069867511195,0.3067444857113211,0.3070169942605961,0.30728823397272587,0.3075582143922803,0.3078269449601542,0.30809443501509204,0.30836069379517334,0.3086257304392819,0.3088895539885351,0.30915217338769674,0.3094135974865612,0.3096738350413068,0.30993289471583396,0.310190785083068,0.3104475146262502,0.3107030917401933,0.31095752473252425,0.311210821824901,0.3114629911542039,0.3117140407737146,0.3119639786542635,0.3122128126853677,0.3124605506763404,0.3127072003573805,0.3129527693806616,0.3131972653213652,0.3134406956787425,0.3136830678771121,0.31392438926687455,0.3141646671254993,0.3144039086584794,0.31464212100030325,0.3148793112153698,0.3151154862989211,0.31535065317794814,0.3155848187120702,0.315817989694423,0.3160501728525026,0.31628137484903274,0.31651160228277525,0.31674086168936233,0.3169691595421026,0.3171965022527604,0.3174228961723555,0.31764834759190863,0.31787286274320925,0.3180964477995584,0.31831910887649023,0.3185408520325031,0.3187616832697545,0.31898160853476615,0.31920063371911134,0.3194187646600799,0.31963600714135476,0.31985236689365387,0.3200678495953869,0.32028246087327583,0.32049620630298803,0.32070909140975234,0.320921121668955,0.3211323025067473,0.32134263930062307,0.32155213737999866,0.32176080202679064,0.3219686384759638,0.3221756519160965,0.32238184748991455,0.3225872302948294,0.3227918053834774,0.3229955777642211,0.3231985524016809,0.3234007342172277,0.3236021280894823,0.3238027388548177,0.3240025713078229,0.3242016302018013,0.324399920249219,0.32459744612218633,0.32479421245290185,0.3249902238341036,0.3251854848195238,0.3253799999243065,0.32557377362546003,0.32576681036226274,0.32595911453669035,0.3261506905138366,0.32634154262230197,0.32653167515461656,0.3267210923676165,0.3269097984828461,0.32709779768694425,0.32728509413201173,0.32747169193600467,0.3276575951830826,0.32784280792399473,0.3280273341764197,0.32821117792533183,0.3283943431233523,0.3285768336910823,0.32875865351746086,0.3289398064600833,0.32912029634554296,0.3293001269697601,0.32947930209829257,0.32965782546667205,0.32983570078069974,0.3300129317167678,0.33018952192216605,0.3303654750153752,0.3305407945863764,0.33071548419693153,0.33088954738089127,0.33106298764446357,0.33123580846650763,0.33140801329881375,0.3315796055663708,0.3317505886676493,0.3319209659748586,0.33209074083421986,0.3322599165662296,0.33242849646590955,0.33259648380307255,0.33276388182256644,0.33293069374452405,0.33309692276461733,0.33326257205428816,0.3334276447609991,0.33359214400846243,0.33375607289687387,0.3339194345031552,0.33408223188116415,0.3342444680619372,0.33440614605390057,0.3345672688430917,0.33472783939338674,0.3348878606466975,0.335047335523203,0.3352062669215397,0.3353646577190254,0.3355225107718522,0.3356798289152899,0.3358366149638961,0.3359928717116952,0.3361486019323935],\"yaxis\":\"y\",\"type\":\"scatter\"}],                        {\"template\":{\"data\":{\"bar\":[{\"error_x\":{\"color\":\"#2a3f5f\"},\"error_y\":{\"color\":\"#2a3f5f\"},\"marker\":{\"line\":{\"color\":\"#E5ECF6\",\"width\":0.5},\"pattern\":{\"fillmode\":\"overlay\",\"size\":10,\"solidity\":0.2}},\"type\":\"bar\"}],\"barpolar\":[{\"marker\":{\"line\":{\"color\":\"#E5ECF6\",\"width\":0.5},\"pattern\":{\"fillmode\":\"overlay\",\"size\":10,\"solidity\":0.2}},\"type\":\"barpolar\"}],\"carpet\":[{\"aaxis\":{\"endlinecolor\":\"#2a3f5f\",\"gridcolor\":\"white\",\"linecolor\":\"white\",\"minorgridcolor\":\"white\",\"startlinecolor\":\"#2a3f5f\"},\"baxis\":{\"endlinecolor\":\"#2a3f5f\",\"gridcolor\":\"white\",\"linecolor\":\"white\",\"minorgridcolor\":\"white\",\"startlinecolor\":\"#2a3f5f\"},\"type\":\"carpet\"}],\"choropleth\":[{\"colorbar\":{\"outlinewidth\":0,\"ticks\":\"\"},\"type\":\"choropleth\"}],\"contour\":[{\"colorbar\":{\"outlinewidth\":0,\"ticks\":\"\"},\"colorscale\":[[0.0,\"#0d0887\"],[0.1111111111111111,\"#46039f\"],[0.2222222222222222,\"#7201a8\"],[0.3333333333333333,\"#9c179e\"],[0.4444444444444444,\"#bd3786\"],[0.5555555555555556,\"#d8576b\"],[0.6666666666666666,\"#ed7953\"],[0.7777777777777778,\"#fb9f3a\"],[0.8888888888888888,\"#fdca26\"],[1.0,\"#f0f921\"]],\"type\":\"contour\"}],\"contourcarpet\":[{\"colorbar\":{\"outlinewidth\":0,\"ticks\":\"\"},\"type\":\"contourcarpet\"}],\"heatmap\":[{\"colorbar\":{\"outlinewidth\":0,\"ticks\":\"\"},\"colorscale\":[[0.0,\"#0d0887\"],[0.1111111111111111,\"#46039f\"],[0.2222222222222222,\"#7201a8\"],[0.3333333333333333,\"#9c179e\"],[0.4444444444444444,\"#bd3786\"],[0.5555555555555556,\"#d8576b\"],[0.6666666666666666,\"#ed7953\"],[0.7777777777777778,\"#fb9f3a\"],[0.8888888888888888,\"#fdca26\"],[1.0,\"#f0f921\"]],\"type\":\"heatmap\"}],\"heatmapgl\":[{\"colorbar\":{\"outlinewidth\":0,\"ticks\":\"\"},\"colorscale\":[[0.0,\"#0d0887\"],[0.1111111111111111,\"#46039f\"],[0.2222222222222222,\"#7201a8\"],[0.3333333333333333,\"#9c179e\"],[0.4444444444444444,\"#bd3786\"],[0.5555555555555556,\"#d8576b\"],[0.6666666666666666,\"#ed7953\"],[0.7777777777777778,\"#fb9f3a\"],[0.8888888888888888,\"#fdca26\"],[1.0,\"#f0f921\"]],\"type\":\"heatmapgl\"}],\"histogram\":[{\"marker\":{\"pattern\":{\"fillmode\":\"overlay\",\"size\":10,\"solidity\":0.2}},\"type\":\"histogram\"}],\"histogram2d\":[{\"colorbar\":{\"outlinewidth\":0,\"ticks\":\"\"},\"colorscale\":[[0.0,\"#0d0887\"],[0.1111111111111111,\"#46039f\"],[0.2222222222222222,\"#7201a8\"],[0.3333333333333333,\"#9c179e\"],[0.4444444444444444,\"#bd3786\"],[0.5555555555555556,\"#d8576b\"],[0.6666666666666666,\"#ed7953\"],[0.7777777777777778,\"#fb9f3a\"],[0.8888888888888888,\"#fdca26\"],[1.0,\"#f0f921\"]],\"type\":\"histogram2d\"}],\"histogram2dcontour\":[{\"colorbar\":{\"outlinewidth\":0,\"ticks\":\"\"},\"colorscale\":[[0.0,\"#0d0887\"],[0.1111111111111111,\"#46039f\"],[0.2222222222222222,\"#7201a8\"],[0.3333333333333333,\"#9c179e\"],[0.4444444444444444,\"#bd3786\"],[0.5555555555555556,\"#d8576b\"],[0.6666666666666666,\"#ed7953\"],[0.7777777777777778,\"#fb9f3a\"],[0.8888888888888888,\"#fdca26\"],[1.0,\"#f0f921\"]],\"type\":\"histogram2dcontour\"}],\"mesh3d\":[{\"colorbar\":{\"outlinewidth\":0,\"ticks\":\"\"},\"type\":\"mesh3d\"}],\"parcoords\":[{\"line\":{\"colorbar\":{\"outlinewidth\":0,\"ticks\":\"\"}},\"type\":\"parcoords\"}],\"pie\":[{\"automargin\":true,\"type\":\"pie\"}],\"scatter\":[{\"marker\":{\"colorbar\":{\"outlinewidth\":0,\"ticks\":\"\"}},\"type\":\"scatter\"}],\"scatter3d\":[{\"line\":{\"colorbar\":{\"outlinewidth\":0,\"ticks\":\"\"}},\"marker\":{\"colorbar\":{\"outlinewidth\":0,\"ticks\":\"\"}},\"type\":\"scatter3d\"}],\"scattercarpet\":[{\"marker\":{\"colorbar\":{\"outlinewidth\":0,\"ticks\":\"\"}},\"type\":\"scattercarpet\"}],\"scattergeo\":[{\"marker\":{\"colorbar\":{\"outlinewidth\":0,\"ticks\":\"\"}},\"type\":\"scattergeo\"}],\"scattergl\":[{\"marker\":{\"colorbar\":{\"outlinewidth\":0,\"ticks\":\"\"}},\"type\":\"scattergl\"}],\"scattermapbox\":[{\"marker\":{\"colorbar\":{\"outlinewidth\":0,\"ticks\":\"\"}},\"type\":\"scattermapbox\"}],\"scatterpolar\":[{\"marker\":{\"colorbar\":{\"outlinewidth\":0,\"ticks\":\"\"}},\"type\":\"scatterpolar\"}],\"scatterpolargl\":[{\"marker\":{\"colorbar\":{\"outlinewidth\":0,\"ticks\":\"\"}},\"type\":\"scatterpolargl\"}],\"scatterternary\":[{\"marker\":{\"colorbar\":{\"outlinewidth\":0,\"ticks\":\"\"}},\"type\":\"scatterternary\"}],\"surface\":[{\"colorbar\":{\"outlinewidth\":0,\"ticks\":\"\"},\"colorscale\":[[0.0,\"#0d0887\"],[0.1111111111111111,\"#46039f\"],[0.2222222222222222,\"#7201a8\"],[0.3333333333333333,\"#9c179e\"],[0.4444444444444444,\"#bd3786\"],[0.5555555555555556,\"#d8576b\"],[0.6666666666666666,\"#ed7953\"],[0.7777777777777778,\"#fb9f3a\"],[0.8888888888888888,\"#fdca26\"],[1.0,\"#f0f921\"]],\"type\":\"surface\"}],\"table\":[{\"cells\":{\"fill\":{\"color\":\"#EBF0F8\"},\"line\":{\"color\":\"white\"}},\"header\":{\"fill\":{\"color\":\"#C8D4E3\"},\"line\":{\"color\":\"white\"}},\"type\":\"table\"}]},\"layout\":{\"annotationdefaults\":{\"arrowcolor\":\"#2a3f5f\",\"arrowhead\":0,\"arrowwidth\":1},\"autotypenumbers\":\"strict\",\"coloraxis\":{\"colorbar\":{\"outlinewidth\":0,\"ticks\":\"\"}},\"colorscale\":{\"diverging\":[[0,\"#8e0152\"],[0.1,\"#c51b7d\"],[0.2,\"#de77ae\"],[0.3,\"#f1b6da\"],[0.4,\"#fde0ef\"],[0.5,\"#f7f7f7\"],[0.6,\"#e6f5d0\"],[0.7,\"#b8e186\"],[0.8,\"#7fbc41\"],[0.9,\"#4d9221\"],[1,\"#276419\"]],\"sequential\":[[0.0,\"#0d0887\"],[0.1111111111111111,\"#46039f\"],[0.2222222222222222,\"#7201a8\"],[0.3333333333333333,\"#9c179e\"],[0.4444444444444444,\"#bd3786\"],[0.5555555555555556,\"#d8576b\"],[0.6666666666666666,\"#ed7953\"],[0.7777777777777778,\"#fb9f3a\"],[0.8888888888888888,\"#fdca26\"],[1.0,\"#f0f921\"]],\"sequentialminus\":[[0.0,\"#0d0887\"],[0.1111111111111111,\"#46039f\"],[0.2222222222222222,\"#7201a8\"],[0.3333333333333333,\"#9c179e\"],[0.4444444444444444,\"#bd3786\"],[0.5555555555555556,\"#d8576b\"],[0.6666666666666666,\"#ed7953\"],[0.7777777777777778,\"#fb9f3a\"],[0.8888888888888888,\"#fdca26\"],[1.0,\"#f0f921\"]]},\"colorway\":[\"#636efa\",\"#EF553B\",\"#00cc96\",\"#ab63fa\",\"#FFA15A\",\"#19d3f3\",\"#FF6692\",\"#B6E880\",\"#FF97FF\",\"#FECB52\"],\"font\":{\"color\":\"#2a3f5f\"},\"geo\":{\"bgcolor\":\"white\",\"lakecolor\":\"white\",\"landcolor\":\"#E5ECF6\",\"showlakes\":true,\"showland\":true,\"subunitcolor\":\"white\"},\"hoverlabel\":{\"align\":\"left\"},\"hovermode\":\"closest\",\"mapbox\":{\"style\":\"light\"},\"paper_bgcolor\":\"white\",\"plot_bgcolor\":\"#E5ECF6\",\"polar\":{\"angularaxis\":{\"gridcolor\":\"white\",\"linecolor\":\"white\",\"ticks\":\"\"},\"bgcolor\":\"#E5ECF6\",\"radialaxis\":{\"gridcolor\":\"white\",\"linecolor\":\"white\",\"ticks\":\"\"}},\"scene\":{\"xaxis\":{\"backgroundcolor\":\"#E5ECF6\",\"gridcolor\":\"white\",\"gridwidth\":2,\"linecolor\":\"white\",\"showbackground\":true,\"ticks\":\"\",\"zerolinecolor\":\"white\"},\"yaxis\":{\"backgroundcolor\":\"#E5ECF6\",\"gridcolor\":\"white\",\"gridwidth\":2,\"linecolor\":\"white\",\"showbackground\":true,\"ticks\":\"\",\"zerolinecolor\":\"white\"},\"zaxis\":{\"backgroundcolor\":\"#E5ECF6\",\"gridcolor\":\"white\",\"gridwidth\":2,\"linecolor\":\"white\",\"showbackground\":true,\"ticks\":\"\",\"zerolinecolor\":\"white\"}},\"shapedefaults\":{\"line\":{\"color\":\"#2a3f5f\"}},\"ternary\":{\"aaxis\":{\"gridcolor\":\"white\",\"linecolor\":\"white\",\"ticks\":\"\"},\"baxis\":{\"gridcolor\":\"white\",\"linecolor\":\"white\",\"ticks\":\"\"},\"bgcolor\":\"#E5ECF6\",\"caxis\":{\"gridcolor\":\"white\",\"linecolor\":\"white\",\"ticks\":\"\"}},\"title\":{\"x\":0.05},\"xaxis\":{\"automargin\":true,\"gridcolor\":\"white\",\"linecolor\":\"white\",\"ticks\":\"\",\"title\":{\"standoff\":15},\"zerolinecolor\":\"white\",\"zerolinewidth\":2},\"yaxis\":{\"automargin\":true,\"gridcolor\":\"white\",\"linecolor\":\"white\",\"ticks\":\"\",\"title\":{\"standoff\":15},\"zerolinecolor\":\"white\",\"zerolinewidth\":2}}},\"xaxis\":{\"anchor\":\"y\",\"domain\":[0.0,1.0],\"title\":{\"text\":\"R0\"}},\"yaxis\":{\"anchor\":\"x\",\"domain\":[0.0,1.0],\"title\":{\"text\":\"i_opt\"}},\"legend\":{\"tracegroupgap\":0},\"margin\":{\"t\":60},\"paper_bgcolor\":\"#DDE1E2\",\"plot_bgcolor\":\"#FFFFFF\",\"height\":500,\"width\":600},                        {\"responsive\": true}                    ).then(function(){\n",
       "                            \n",
       "var gd = document.getElementById('e5ef96a1-dc8e-48be-9cd6-c0e118c8ddf1');\n",
       "var x = new MutationObserver(function (mutations, observer) {{\n",
       "        var display = window.getComputedStyle(gd).display;\n",
       "        if (!display || display === 'none') {{\n",
       "            console.log([gd, 'removed!']);\n",
       "            Plotly.purge(gd);\n",
       "            observer.disconnect();\n",
       "        }}\n",
       "}});\n",
       "\n",
       "// Listen for the removal of the full notebook cells\n",
       "var notebookContainer = gd.closest('#notebook-container');\n",
       "if (notebookContainer) {{\n",
       "    x.observe(notebookContainer, {childList: true});\n",
       "}}\n",
       "\n",
       "// Listen for the clearing of the current output cell\n",
       "var outputEl = gd.closest('.output');\n",
       "if (outputEl) {{\n",
       "    x.observe(outputEl, {childList: true});\n",
       "}}\n",
       "\n",
       "                        })                };                });            </script>        </div>"
      ]
     },
     "metadata": {},
     "output_type": "display_data"
    }
   ],
   "source": [
    "df_values_plot=pd.DataFrame({\n",
    "    'R0':[],\n",
    "    'i_opt':[]\n",
    "})\n",
    "\n",
    "kappas = np.linspace(0.0001,0.6,700)\n",
    "\n",
    "start=time.time()\n",
    "for kappa in kappas:\n",
    "    ### R value\n",
    "    R0 = beta*kappa/(mu+gamma)\n",
    "    roots=solve_polynomial(kappa,kappa,kappa*(1+nu),R0,Rmu,Rphi, printt=False)\n",
    "    for root in roots:\n",
    "        df_values_plot=df_values_plot.append(pd.DataFrame({\n",
    "            'R0':[R0],\n",
    "            'i_opt':[root]\n",
    "        }),ignore_index=True)\n",
    "end=time.time()\n",
    "print(f\"Computing Equilibria for kappas took {end-start} seconds.\")\n",
    "\n",
    "fig = px.scatter(df_values_plot, x=\"R0\", y=\"i_opt\")\n",
    "fig.update_traces(marker=dict(size=7, line=dict(width=0.1, color='Black')))\n",
    "fig.update_layout(paper_bgcolor='#DDE1E2',plot_bgcolor='#FFFFFF',height=500, width=600)\n",
    "fig.show()"
   ]
  },
  {
   "cell_type": "code",
   "execution_count": 85,
   "id": "e5b4c8dc-876d-4499-a40a-0b796c6e4398",
   "metadata": {},
   "outputs": [],
   "source": [
    "### For our simulations we vary C^s, C^i, C^z ?"
   ]
  }
 ],
 "metadata": {
  "kernelspec": {
   "display_name": "Python 3 (ipykernel)",
   "language": "python",
   "name": "python3"
  },
  "language_info": {
   "codemirror_mode": {
    "name": "ipython",
    "version": 3
   },
   "file_extension": ".py",
   "mimetype": "text/x-python",
   "name": "python",
   "nbconvert_exporter": "python",
   "pygments_lexer": "ipython3",
   "version": "3.9.8"
  }
 },
 "nbformat": 4,
 "nbformat_minor": 5
}
