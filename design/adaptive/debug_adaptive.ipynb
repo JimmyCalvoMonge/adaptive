{
 "cells": [
  {
   "cell_type": "code",
   "execution_count": 1,
   "id": "29325d77-23e5-44ca-9546-ffe4c3c45eb1",
   "metadata": {},
   "outputs": [],
   "source": [
    "import numpy as np\n",
    "import pandas as pd\n",
    "import plotly.express as px\n",
    "import plotly.graph_objects as go\n",
    "import seaborn as sns\n",
    "import itertools\n",
    "import time\n",
    "from tqdm import tqdm\n",
    "import sympy as sp\n",
    "x = sp.var('x')\n",
    "from sympy import Symbol\n",
    "from sympy.solvers import solve\n",
    "import math\n",
    "import matplotlib.pyplot as plt\n",
    "\n",
    "import warnings\n",
    "warnings.filterwarnings(\"ignore\")\n",
    "\n",
    "from tqdm import tqdm\n",
    "\n",
    "# Import Markov Decision Module\n",
    "import MDP\n",
    "\n",
    "# Logger\n",
    "from scipy.integrate import odeint\n",
    "from datetime import datetime\n",
    "import os"
   ]
  },
  {
   "cell_type": "code",
   "execution_count": 24,
   "id": "a0703ef1-013c-4862-85d6-fdd87a4e4dd5",
   "metadata": {},
   "outputs": [],
   "source": [
    "# Initial parameters\n",
    "mu = 0.00015\n",
    "gamma = 0.0027\n",
    "beta = 0.0096\n",
    "phi = 0.0044\n",
    "\n",
    "kappa = 0.8  #C^I/C^S\n",
    "theta = 1.7 #C^Z/C^S\n",
    "\n",
    "# R values:\n",
    "Rmu = mu/(mu+ gamma)\n",
    "Rphi = phi/(mu + gamma)\n",
    "\n",
    "### Adaptive parameters\n",
    "b_s = 24\n",
    "b_i = 24\n",
    "b_z = 24\n",
    "a_i = 0\n",
    "a_z = 0\n",
    "a_s = 0 \n",
    "nu = 0.1375\n",
    "tau = 3\n",
    "delta = 0.9986\n",
    "\n",
    "# Immediate rewards:\n",
    "def u_s(a):\n",
    "    return (b_s*a - a**2)**nu - a_s\n",
    "def u_i(a):\n",
    "    return 0\n",
    "def u_z(a):\n",
    "    return (b_z*a - a**2)**nu - a_z\n",
    "\n",
    "### Simulation parameters\n",
    "t_max = 1000\n",
    "steps = 100\n",
    "x00 = [9999, 1, 0]\n",
    "max_contacts = 30\n",
    "\n",
    "actions = np.linspace(0, max_contacts, 100)"
   ]
  },
  {
   "cell_type": "code",
   "execution_count": 25,
   "id": "e41fee41-7341-446e-8a9f-5e214efa3188",
   "metadata": {},
   "outputs": [],
   "source": [
    "cs_max = actions[np.nanargmax([u_s(a) for a in actions])]\n",
    "ci_max = actions[np.nanargmax([u_i(a) for a in actions])]\n",
    "if ci_max == 0:\n",
    "    ci_max = cs_max\n",
    "cz_max = actions[np.nanargmax([u_z(a) for a in actions])]"
   ]
  },
  {
   "cell_type": "code",
   "execution_count": 26,
   "id": "e5f67301-28c2-47a1-9d93-4dd93b12f512",
   "metadata": {},
   "outputs": [],
   "source": [
    "horizon = 5\n",
    "cs_star, ci_star, cz_star = cs_max, ci_max, cz_max\n",
    "\n",
    "xt0 = [1000, 5000, 4000]\n",
    "states = [0, 1, 2]\n",
    "\n",
    "S = xt0[0]\n",
    "I = xt0[1]\n",
    "Z = xt0[2]\n",
    "\n",
    "phi_t = S*cs_star + I*ci_star + Z*cz_star\n",
    "\n",
    "# Transition Probabilities:\n",
    "def P_si(a):\n",
    "    P_it = 1 - math.exp(-1*(beta*ci_star*I*a)/phi_t)\n",
    "    return P_it\n",
    "\n",
    "def P_ss(a):\n",
    "    return 1 - P_si(a)\n",
    "\n",
    "def P_sz(a):\n",
    "    return 0\n",
    "\n",
    "def P_is(a):\n",
    "    return 0\n",
    "\n",
    "def P_ii(a):\n",
    "    return math.exp(-1*gamma)\n",
    "\n",
    "def P_iz(a):\n",
    "    return 1 - math.exp(-1*gamma)\n",
    "\n",
    "def P_zs(a):\n",
    "    return 0\n",
    "\n",
    "def P_zi(a):\n",
    "    return P_si(a)*0.97\n",
    "\n",
    "def P_zz(a):\n",
    "    return 1 - P_zi(a)\n",
    "\n",
    "trans_prob_mat = np.array([\n",
    "    [P_ss, P_si, P_sz],\n",
    "    [P_is, P_ii, P_iz],\n",
    "    [P_zs, P_zi, P_zz]\n",
    "])\n",
    "\n",
    "reward_vector = np.array([u_s, u_i, u_z])\n",
    "trans_probs = [trans_prob_mat]*horizon\n",
    "rewards = [reward_vector]*horizon\n",
    "\n",
    "init_point_use = [np.nanmax([u_s(a) for a in actions]),\n",
    "                  0,\n",
    "                  np.nanmax([u_z(a) for a in actions])]\n",
    "\n",
    "# Use a Markov Decision Process with finite horizon to obtain the optimal policy and decision.\n",
    "MDP_adaptive = MDP.MDP(states, actions, rewards, trans_probs, horizon, delta)\n",
    "MDP_adaptive.fit_optimal_values(init_point = init_point_use)"
   ]
  },
  {
   "cell_type": "code",
   "execution_count": 27,
   "id": "4f67f7e4-dc62-4770-ab5b-6c94d83636c4",
   "metadata": {},
   "outputs": [
    {
     "data": {
      "text/plain": [
       "[{0: 4.545454545454546, 1: 0.0, 2: 4.848484848484849},\n",
       " {0: 5.454545454545455, 1: 0.0, 2: 5.454545454545455},\n",
       " {0: 6.363636363636364, 1: 0.0, 2: 6.363636363636364},\n",
       " {0: 7.878787878787879, 1: 0.0, 2: 7.878787878787879},\n",
       " {0: 9.696969696969697, 1: 0.0, 2: 9.696969696969697}]"
      ]
     },
     "execution_count": 27,
     "metadata": {},
     "output_type": "execute_result"
    }
   ],
   "source": [
    "MDP_adaptive.policies"
   ]
  },
  {
   "cell_type": "code",
   "execution_count": 28,
   "id": "094b3bb9-2669-43de-be8f-b494e552cca1",
   "metadata": {},
   "outputs": [],
   "source": [
    "u_s_vals = [u_s(a) for a in actions]\n",
    "p_ss_vals = [P_ss(a) for a in actions]\n",
    "p_si_vals = [P_si(a) for a in actions]\n",
    "# plt.plot(np.linspace(0, max(actions), len(actions)), u_s_vals, label=\"Utility u_s\")\n",
    "# plt.plot(np.linspace(0, max(actions), len(actions)), p_ss_vals, label=\"P_ss\")\n",
    "# plt.plot(np.linspace(0, max(actions), len(actions)), p_si_vals, label=\"P_si\")\n",
    "# plt.xlabel(\"Actions\")\n",
    "# plt.ylabel(\"Utility\")\n",
    "# plt.legend(loc = \"upper right\")\n",
    "# plt.rcParams[\"figure.figsize\"] = (10,6)\n",
    "# plt.show()"
   ]
  },
  {
   "cell_type": "code",
   "execution_count": 29,
   "id": "d2a3d368-0954-4387-8c76-9373ca28055e",
   "metadata": {},
   "outputs": [
    {
     "data": {
      "text/plain": [
       "0.0686486666064388"
      ]
     },
     "execution_count": 29,
     "metadata": {},
     "output_type": "execute_result"
    }
   ],
   "source": [
    "np.nanmean(p_si_vals)"
   ]
  },
  {
   "cell_type": "code",
   "execution_count": null,
   "id": "5f939a31-e61d-4304-b1fa-1af745eae47b",
   "metadata": {},
   "outputs": [],
   "source": []
  },
  {
   "cell_type": "code",
   "execution_count": 29,
   "id": "6e8579a2-4405-4751-9064-d999be357dc7",
   "metadata": {},
   "outputs": [
    {
     "data": {
      "text/plain": [
       "903.4862512790107"
      ]
     },
     "execution_count": 29,
     "metadata": {},
     "output_type": "execute_result"
    }
   ],
   "source": [
    "u_s_vals = [u_s(a) for a in actions]\n",
    "p_si_vals = [P_si(a) for a in actions]\n",
    "u_s_gradient = np.gradient(u_s_vals)\n",
    "p_si_gradient = np.gradient(p_si_vals)\n",
    "values = [u_s_gradient[i]/(delta*p_si_gradient[i]) for i in range(len(u_s_gradient))]\n",
    "max_values = np.nanmax(values)\n",
    "max_values"
   ]
  },
  {
   "cell_type": "code",
   "execution_count": 26,
   "id": "1ba1107e-9e46-4823-800b-c35a60ccf973",
   "metadata": {},
   "outputs": [
    {
     "data": {
      "text/plain": [
       "array([ 1.31136804e+00,  7.19975427e-01,  1.04207594e-01,  6.91424329e-02,\n",
       "        5.23169852e-02,  4.21571819e-02,  3.52695624e-02,  3.02532487e-02,\n",
       "        2.64150558e-02,  2.33698018e-02,  2.08852336e-02,  1.88124887e-02,\n",
       "        1.70515037e-02,  1.55323951e-02,  1.42047975e-02,  1.30314409e-02,\n",
       "        1.19841182e-02,  1.10410618e-02,  1.01851849e-02,  9.40287073e-03,\n",
       "        8.68312032e-03,  8.01693994e-03,  7.39689281e-03,  6.81676566e-03,\n",
       "        6.27131712e-03,  5.75608510e-03,  5.26723764e-03,  4.80145592e-03,\n",
       "        4.35584162e-03,  3.92784264e-03,  3.51519304e-03,  3.11586391e-03,\n",
       "        2.72802280e-03,  2.34999976e-03,  1.98025867e-03,  1.61737276e-03,\n",
       "        1.26000321e-03,  9.06880367e-04,  5.56786839e-04,  2.08541974e-04,\n",
       "       -1.39012666e-04, -4.87027273e-04, -8.36657532e-04, -1.18907851e-03,\n",
       "       -1.54549906e-03, -1.90717706e-03, -2.27543607e-03, -2.65168367e-03,\n",
       "       -3.03743224e-03, -3.43432281e-03, -3.84415282e-03, -4.26890889e-03,\n",
       "       -4.71080591e-03, -5.17233432e-03, -5.65631779e-03, -6.16598426e-03,\n",
       "       -6.70505461e-03, -7.27785413e-03, -7.88945450e-03, -8.54585664e-03,\n",
       "       -9.25422897e-03, -1.00232223e-02, -1.08633915e-02, -1.17877708e-02,\n",
       "       -1.28126697e-02, -1.39588002e-02, -1.52529050e-02, -1.67301747e-02,\n",
       "       -1.84379375e-02, -2.04414932e-02, -2.28337117e-02, -2.57516116e-02,\n",
       "       -2.94067490e-02, -3.41452492e-02, -4.05785923e-02, -4.99096085e-02,\n",
       "       -6.49259530e-02, -9.42953608e-02, -2.02960452e-01,             nan,\n",
       "                   nan,             nan,             nan,             nan,\n",
       "                   nan,             nan,             nan,             nan,\n",
       "                   nan,             nan,             nan,             nan,\n",
       "                   nan,             nan,             nan,             nan,\n",
       "                   nan,             nan,             nan,             nan])"
      ]
     },
     "execution_count": 26,
     "metadata": {},
     "output_type": "execute_result"
    }
   ],
   "source": []
  }
 ],
 "metadata": {
  "kernelspec": {
   "display_name": "Python 3 (ipykernel)",
   "language": "python",
   "name": "python3"
  },
  "language_info": {
   "codemirror_mode": {
    "name": "ipython",
    "version": 3
   },
   "file_extension": ".py",
   "mimetype": "text/x-python",
   "name": "python",
   "nbconvert_exporter": "python",
   "pygments_lexer": "ipython3",
   "version": "3.9.8"
  }
 },
 "nbformat": 4,
 "nbformat_minor": 5
}
