{
 "cells": [
  {
   "cell_type": "code",
   "execution_count": 1,
   "id": "b8e620fe-891d-4395-8405-41f6c7436f5e",
   "metadata": {},
   "outputs": [],
   "source": [
    "import numpy as np\n",
    "import pandas as pd\n",
    "import plotly.express as px\n",
    "import plotly.graph_objects as go\n",
    "import seaborn as sns\n",
    "import itertools\n",
    "import time\n",
    "from tqdm import tqdm\n",
    "import sympy as sp\n",
    "x = sp.var('x')\n",
    "from sympy import Symbol\n",
    "from sympy.solvers import solve\n",
    "import math\n",
    "import matplotlib.pyplot as plt\n",
    "\n",
    "import warnings\n",
    "warnings.filterwarnings(\"ignore\")\n",
    "\n",
    "# Import our adaptive module:\n",
    "from adaptive_MDP import Adaptive\n",
    "from non_adaptive import NonAdaptive"
   ]
  },
  {
   "cell_type": "code",
   "execution_count": 4,
   "id": "92c99ea5-5a11-436c-9b4e-7644e1392e8a",
   "metadata": {},
   "outputs": [
    {
     "name": "stdout",
     "output_type": "stream",
     "text": [
      "Running the adaptive algorithm took 172.57427191734314 seconds.\n"
     ]
    },
    {
     "name": "stderr",
     "output_type": "stream",
     "text": [
      "100%|█████████████████████████████████████████████████████████████████████| 1000001/1000001 [00:47<00:00, 21198.20it/s]\n",
      "100%|█████████████████████████████████████████████████████████████████████| 1000001/1000001 [00:42<00:00, 23630.50it/s]\n"
     ]
    },
    {
     "name": "stdout",
     "output_type": "stream",
     "text": [
      "Running the NON adaptive algorithms took 90.42918109893799 seconds.\n"
     ]
    }
   ],
   "source": [
    "# Initial parameters\n",
    "mu = 0.00015\n",
    "gamma = 0.0027\n",
    "beta = 0.00096\n",
    "phi = 0.0044\n",
    "\n",
    "kappa = 0.8  #C^I/C^S\n",
    "theta = 1.7 #C^Z/C^S\n",
    "\n",
    "# R values:\n",
    "Rmu = mu/(mu+ gamma)\n",
    "Rphi = phi/(mu + gamma)\n",
    "\n",
    "### Adaptive parameters\n",
    "b_s = 24\n",
    "b_i = 24\n",
    "b_z = 24\n",
    "a_i = 0\n",
    "a_z = 0\n",
    "a_s = 0 \n",
    "nu = 0.1375\n",
    "tau = 3\n",
    "delta = 0.9986\n",
    "\n",
    "### Simulation parameters\n",
    "t_max = 10000\n",
    "steps = 100\n",
    "x00 = [9999, 1, 0]\n",
    "# Note: our start point is not [1,0,0]\n",
    "# Because the disease-free equilibrium is stable for models with demographics.\n",
    "\n",
    "Ci = 3\n",
    "Cs = Ci/kappa\n",
    "Cz = Cs*theta\n",
    "\n",
    "R0 = Ci*beta/(gamma+mu)\n",
    "roots = solve_polynomial(Rphi, Rmu, R0, kappa, theta)\n",
    "\n",
    "# Initialize adaptive instances\n",
    "instance_adaptive = Adaptive(mu, gamma, beta, phi,\n",
    "                             b_s, b_i, b_z, \n",
    "                             a_s, a_i, a_z,\n",
    "                             nu, tau, delta,\n",
    "                             t_max, steps, x00, ci_use=Ci, cz_use=Cz)\n",
    "start = time.time()\n",
    "instance_adaptive.patch_uni_solutions()\n",
    "end = time.time()\n",
    "print(f\"Running the adaptive algorithm took {end - start} seconds.\")\n",
    "\n",
    "start = time.time()\n",
    "\n",
    "# To compare, we take the Cs obtained at the end of this algorithm (Ex post)\n",
    "Cs_start = instance_adaptive.Cs[0] # Adaptive Cs from the beginning of the disease.\n",
    "Cs_final = instance_adaptive.Cs[len(instance_adaptive.Cs)-1] # Adaptive Cs from the end of the disease\n",
    "\n",
    "instance_non_adaptive_ex_ante = NonAdaptive(\n",
    "    mu, gamma, beta, phi, Cs_start, Cs_start*kappa, Cs_start*theta, x00, t_max)\n",
    "\n",
    "instance_non_adaptive_ex_post = NonAdaptive(\n",
    "    mu, gamma, beta, phi, Cs_final, Cs_final*kappa, Cs_final*theta, x00, t_max)\n",
    "\n",
    "instance_non_adaptive_ex_ante.solve_odes_system()\n",
    "instance_non_adaptive_ex_post.solve_odes_system()\n",
    "\n",
    "end = time.time()\n",
    "print(f\"Running the NON adaptive algorithms took {end - start} seconds.\")"
   ]
  },
  {
   "cell_type": "code",
   "execution_count": 5,
   "id": "bb3d2baf-7869-4289-b96d-f76a7b58528c",
   "metadata": {},
   "outputs": [
    {
     "name": "stdout",
     "output_type": "stream",
     "text": [
      "\n",
      "\n",
      "Using Cs_start non-adaptive:\n",
      "\n",
      "R0 = 3.233684210526316\n",
      "theoretical roots = [0.3834936922012127]\n",
      "convergence point = [0.3834937]\n",
      "\n",
      "Using Cs_final non-adaptive:\n",
      "\n",
      "R0 = 3.2010207336523124\n",
      "theoretical roots = [0.38297354009116397]\n",
      "convergence point = [0.38297354]\n",
      "\n"
     ]
    }
   ],
   "source": [
    "R0_start = (Cs_start*kappa)*beta/(gamma+mu)\n",
    "R0_final = (Cs_final*kappa)*beta/(gamma+mu)\n",
    "\n",
    "roots_start = solve_polynomial(Rphi, Rmu, R0_start, kappa, theta)\n",
    "roots_final = solve_polynomial(Rphi, Rmu, R0_final, kappa, theta)\n",
    "\n",
    "print(f\"\"\"\n",
    "\n",
    "Using Cs_start non-adaptive:\n",
    "\n",
    "R0 = {R0_start}\n",
    "theoretical roots = {roots_start}\n",
    "convergence point = {instance_non_adaptive_ex_ante.I[-1:]/sum(x00)}\n",
    "\n",
    "Using Cs_final non-adaptive:\n",
    "\n",
    "R0 = {R0_final}\n",
    "theoretical roots = {roots_final}\n",
    "convergence point = {instance_non_adaptive_ex_post.I[-1:]/sum(x00)}\n",
    "\"\"\")"
   ]
  },
  {
   "cell_type": "markdown",
   "id": "51f65cda-0fc2-4952-882f-0142557a3fa1",
   "metadata": {},
   "source": [
    "Plot the adaptive solution:"
   ]
  },
  {
   "cell_type": "code",
   "execution_count": 6,
   "id": "a5abd70f-5344-41a9-b5fc-1fa2bce916c1",
   "metadata": {},
   "outputs": [
    {
     "data": {
      "image/png": "[encoded data removed]",
      "text/plain": [
       "<Figure size 432x288 with 1 Axes>"
      ]
     },
     "metadata": {
      "needs_background": "light"
     },
     "output_type": "display_data"
    }
   ],
   "source": [
    "t = np.linspace(0, instance_adaptive.t_max, len(instance_adaptive.S))\n",
    "instance_adaptive.plot_ode_solution(t = t, title = 'Adaptive Testing')"
   ]
  },
  {
   "cell_type": "code",
   "execution_count": 7,
   "id": "83c8b6da-4b11-44cf-bac7-eedb59e19ee0",
   "metadata": {},
   "outputs": [
    {
     "name": "stdout",
     "output_type": "stream",
     "text": [
      "Final point attached at Adaptive: [4108.84051829]\n",
      "Final point attached at Non Adaptive ex ante: [3834.93695794]\n",
      "Final point attached at Non Adaptive ex post: [3829.73543876]\n"
     ]
    }
   ],
   "source": [
    "print(f\"Final point attached at Adaptive: {instance_adaptive.I[-1:]}\")\n",
    "print(f\"Final point attached at Non Adaptive ex ante: {instance_non_adaptive_ex_ante.I[-1:]}\")\n",
    "print(f\"Final point attached at Non Adaptive ex post: {instance_non_adaptive_ex_post.I[-1:]}\")"
   ]
  },
  {
   "cell_type": "code",
   "execution_count": 5,
   "id": "932ec1ac-195d-4c50-93fb-b8d0b4c3bddb",
   "metadata": {},
   "outputs": [],
   "source": [
    "cs_unistep = []\n",
    "for i in range(len(instance_adaptive.Cs)):\n",
    "    cs_unistep = cs_unistep + [instance_adaptive.Cs[i]]*steps"
   ]
  },
  {
   "cell_type": "code",
   "execution_count": 6,
   "id": "ba30e0ce-aac7-40c5-89ec-d36989532e2e",
   "metadata": {},
   "outputs": [
    {
     "data": {
      "image/png": "[encoded data removed]",
      "text/plain": [
       "<Figure size 432x288 with 1 Axes>"
      ]
     },
     "metadata": {
      "needs_background": "light"
     },
     "output_type": "display_data"
    }
   ],
   "source": [
    "plt.plot(np.linspace(0,t_max,len(cs_unistep)), cs_unistep, label=\"C^s\")\n",
    "plt.xlabel(\"Time (t)\")\n",
    "plt.ylabel(\"Cs\")\n",
    "plt.legend(loc = \"upper right\")\n",
    "plt.rcParams[\"figure.figsize\"] = (10,6)\n",
    "plt.show()"
   ]
  },
  {
   "cell_type": "markdown",
   "id": "108248f1-5e40-49cb-8f20-69179b9b046d",
   "metadata": {},
   "source": [
    "### Comparison\n",
    "Between *ex_ante, ex_post* non adaptive models and the adaptive setting."
   ]
  },
  {
   "cell_type": "code",
   "execution_count": 8,
   "id": "6e863234-0a83-4ae8-a8c9-9f7b18a03a6a",
   "metadata": {},
   "outputs": [
    {
     "data": {
      "image/png": "[encoded data removed]",
      "text/plain": [
       "<Figure size 720x432 with 1 Axes>"
      ]
     },
     "metadata": {
      "needs_background": "light"
     },
     "output_type": "display_data"
    }
   ],
   "source": [
    "plt.plot(\n",
    "    np.linspace(0,t_max,len(instance_non_adaptive_ex_ante.I)),\n",
    "    instance_non_adaptive_ex_ante.I, label=\"Non adaptive (ex ante)\")\n",
    "plt.plot(\n",
    "    np.linspace(0,t_max,len(instance_non_adaptive_ex_post.I)),\n",
    "    instance_non_adaptive_ex_post.I, label=\"Non adaptive (ex post)\")\n",
    "plt.plot(\n",
    "    np.linspace(0,t_max,len(instance_adaptive.I)),\n",
    "    instance_adaptive.I, label=\"Adaptive\")\n",
    "\n",
    "# plt.axvline(x = 2400, color = 'b')\n",
    "    \n",
    "plt.xlabel(\"Time (t)\")\n",
    "plt.ylabel(\"Infected\")\n",
    "plt.legend(loc = \"upper right\")\n",
    "plt.rcParams[\"figure.figsize\"] = (10,6)\n",
    "plt.show()"
   ]
  },
  {
   "cell_type": "code",
   "execution_count": 19,
   "id": "2916bdb8-4b91-40e6-b352-6b0284edbabb",
   "metadata": {},
   "outputs": [
    {
     "name": "stdout",
     "output_type": "stream",
     "text": [
      "12.0\n",
      "8.363636363636363\n"
     ]
    }
   ],
   "source": [
    "print(Cs_start)\n",
    "print(Cs_final)"
   ]
  },
  {
   "cell_type": "markdown",
   "id": "8194d9c7-3323-4242-9864-1f569da4ab87",
   "metadata": {},
   "source": [
    "Comments:\n",
    "\n",
    "- "
   ]
  },
  {
   "cell_type": "code",
   "execution_count": 9,
   "id": "a20fc322-06a7-42b7-8567-89107f2e6e66",
   "metadata": {},
   "outputs": [
    {
     "data": {
      "text/plain": [
       "[[5.933185726078457, 3.9582272628396318, 1.9804999814068005, 0],\n",
       " [5.933185729239774, 3.9582272628396318, 1.9804999814068005, 0],\n",
       " [5.933189245041065, 3.9582284369229788, 1.9804999814068005, 0]]"
      ]
     },
     "execution_count": 9,
     "metadata": {},
     "output_type": "execute_result"
    }
   ],
   "source": [
    "instance_adaptive.val_func_vals[0]"
   ]
  },
  {
   "cell_type": "code",
   "execution_count": 3,
   "id": "e00aa5fc-7f46-42ae-81e3-c27af53512a6",
   "metadata": {},
   "outputs": [],
   "source": [
    "def get_coefficients_cubic(Rphi, Rmu, R0, kappa, theta):\n",
    "\n",
    "    ### Returns the coefficients x3,x2,x1,x0 of the cubic polynomial in the notes.\n",
    "\n",
    "    \"\"\"\n",
    "    kappa := C^i/C^s\n",
    "    theta := C^z/C^s\n",
    "    \"\"\"\n",
    "\n",
    "    x_3 = (Rphi**2)*(R0) + Rmu*(Rphi**2)*(kappa -1)\n",
    "    \n",
    "    x_2 = Rphi*(R0*(1 - Rphi) + Rmu*(R0 + Rphi))\n",
    "    x_2 = x_2 + Rphi*(Rmu*(1 - Rmu)*(theta - 1) + Rmu*(1 + Rmu)*(kappa - 1)) \n",
    "\n",
    "    x_1 = Rmu*(R0*(1 - Rphi)  + Rphi*(1 - R0)  + Rmu*Rphi)\n",
    "    x_1 = x_1+ Rmu*((1 - Rmu)*(theta - 1) + Rmu*(kappa - 1))\n",
    "\n",
    "    x_0 = (Rmu**2)*(1 - R0)\n",
    "\n",
    "    return [x_0,x_1,x_2,x_3]\n",
    "\n",
    "def nmbr_rts_interval(Rphi, Rmu, val_tuple):\n",
    "\n",
    "    kappa = val_tuple[0]\n",
    "    theta = val_tuple[1]\n",
    "    \n",
    "    print(f\"Processing tuple {(kappa,theta)}.\")\n",
    "    start_tuple = time.time()\n",
    "\n",
    "    R0s = list(np.linspace(0.0001,2,1000))\n",
    "    vals = []\n",
    "\n",
    "    for R0 in tqdm(R0s):\n",
    "\n",
    "        # Compute number of roots using Sturm's Theorem\n",
    "\n",
    "        coefficients = get_coefficients_cubic(Rphi, Rmu, R0, kappa, theta)\n",
    "        pol = sum([coefficients[i]*x**i for i in range(len(coefficients))])\n",
    "        sturm_seq = sp.sturm(pol) # sturm sequence\n",
    "\n",
    "        values_at_start = [float(sp.Poly(pol_sturm,x).eval(0)) for pol_sturm in sturm_seq]\n",
    "        values_at_end = [float(sp.Poly(pol_sturm,x).eval(1)) for pol_sturm in sturm_seq]\n",
    "\n",
    "        count_start = len(list(itertools.groupby(values_at_start, lambda values_at_start: values_at_start > 0)))\n",
    "        count_end = len(list(itertools.groupby(values_at_end, lambda values_at_end: values_at_end > 0)))\n",
    "\n",
    "        ans = count_start - count_end\n",
    "        vals.append(ans)\n",
    "\n",
    "    answer = max(vals)\n",
    "    return answer\n",
    "\n",
    "def evaluate_cubic(i, Rphi, Rmu, R0, kappa, theta):\n",
    "    [x_0,x_1,x_2,x_3] = get_coefficients_cubic(Rphi, Rmu, R0, kappa, theta)\n",
    "    return x_3*(i**3) + x_2*(i**2) + x_1*i + x_0\n",
    "\n",
    "def solve_polynomial(Rphi, Rmu, R0, kappa, theta):\n",
    "    \n",
    "    x = Symbol('x')\n",
    "    resp = solve(evaluate_cubic(x, Rphi, Rmu, R0, kappa, theta), x)\n",
    "    resp = [(float(expr.as_real_imag()[0]), float(expr.as_real_imag()[1]) ) for expr in resp]\n",
    "    resp = [expr[0] for expr in resp if expr[0]>0 and abs(expr[1])<1e-15]\n",
    "    \n",
    "    return resp\n",
    "\n",
    "def get_convergence_point(\n",
    "    N, recovered, prop_infected,\n",
    "    mu, gamma, beta, phi,\n",
    "    Cs, Ci, Cz,\n",
    "    t_max):\n",
    "    \n",
    "    initial_infected = math.floor(prop_infected*N)\n",
    "    x00 = [N - initial_infected - recovered, initial_infected, recovered]\n",
    "    non_adaptive = NonAdaptive(mu, gamma, beta, phi, Cs, Ci, Cz, x00, t_max, dt=0.1)\n",
    "    non_adaptive.solve_odes_system(method='odeint')\n",
    "    equ_attached = non_adaptive.I[len(non_adaptive.I) - 1]/sum(x00)\n",
    "    return equ_attached"
   ]
  },
  {
   "cell_type": "code",
   "execution_count": null,
   "id": "dd9c7c70-0d83-4cbb-813b-f968b7d5a618",
   "metadata": {},
   "outputs": [],
   "source": []
  }
 ],
 "metadata": {
  "kernelspec": {
   "display_name": "Python 3 (ipykernel)",
   "language": "python",
   "name": "python3"
  },
  "language_info": {
   "codemirror_mode": {
    "name": "ipython",
    "version": 3
   },
   "file_extension": ".py",
   "mimetype": "text/x-python",
   "name": "python",
   "nbconvert_exporter": "python",
   "pygments_lexer": "ipython3",
   "version": "3.9.8"
  }
 },
 "nbformat": 4,
 "nbformat_minor": 5
}
