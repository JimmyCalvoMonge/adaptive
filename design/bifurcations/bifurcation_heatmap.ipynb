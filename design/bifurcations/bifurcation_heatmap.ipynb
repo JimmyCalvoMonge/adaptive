{
 "cells": [
  {
   "cell_type": "code",
   "execution_count": 81,
   "id": "b087e4e7-c738-41f5-aad6-e62bf33f975e",
   "metadata": {},
   "outputs": [],
   "source": [
    "\"\"\"\n",
    "Read and plot correlation heatmap \n",
    "\"\"\"\n",
    "import os\n",
    "import numpy as np\n",
    "import pandas as pd\n",
    "import plotly.express as px\n",
    "import plotly.graph_objects as go\n",
    "import itertools\n",
    "import time\n",
    "from tqdm import tqdm\n",
    "import sympy as sp\n",
    "x = sp.var('x')\n",
    "from sympy import Symbol\n",
    "from sympy.solvers import solve\n",
    "import kaleido\n",
    "from scipy.integrate import odeint\n",
    "import matplotlib.pyplot as plt\n",
    "\n",
    "adaptive_folder='C:/Users/jimmy/OneDrive/Desktop/Maestria Metodos Matematicos y Aplicaciones/Tesis/adaptive'"
   ]
  },
  {
   "cell_type": "code",
   "execution_count": 40,
   "id": "bf847ece-d018-418c-8f7f-d1b034b02990",
   "metadata": {},
   "outputs": [],
   "source": [
    "heatmap_data = pd.read_csv(f\"{adaptive_folder}/data/bifurcation_heatmap/simulation_11_Nov.csv\")\n",
    "heatmap_data = heatmap_data[['kappa','xi','numbr_roots']]\n",
    "# heatmap_data"
   ]
  },
  {
   "cell_type": "code",
   "execution_count": 41,
   "id": "c3b5bd0b-67fe-4782-b795-af0a6ff97f10",
   "metadata": {},
   "outputs": [
    {
     "name": "stdout",
     "output_type": "stream",
     "text": [
      "30 30\n"
     ]
    }
   ],
   "source": [
    "\"\"\"\n",
    "kappa := C^i/C^s\n",
    "xi := C^z/C^s\n",
    "\"\"\"\n",
    "\n",
    "czcss = heatmap_data['xi'].unique().tolist()\n",
    "czcss.sort()\n",
    "n=len(czcss)\n",
    "\n",
    "cicss = heatmap_data['kappa'].unique().tolist()\n",
    "cicss.sort()\n",
    "m=len(cicss)\n",
    "\n",
    "print(m,n)\n",
    "\n",
    "arr = np.zeros((n,m))\n",
    "for i in range(n):\n",
    "    for j in range(m):\n",
    "        try:\n",
    "            grid_data_coord = heatmap_data[ (heatmap_data['xi']==czcss[i]) & (heatmap_data['kappa']==cicss[j]) ]\n",
    "            arr[i,j] = grid_data_coord['numbr_roots'].tolist()[0]\n",
    "        except Exception as e:\n",
    "            print(e)\n",
    "            continue"
   ]
  },
  {
   "cell_type": "markdown",
   "id": "bbf45654-aa53-4c99-94a7-db2d434d0845",
   "metadata": {},
   "source": [
    "### Bifurcation Heatmap: \n",
    "\n",
    "- For each $\\left(\\frac{C^i}{C^s}, \\frac{C^z}{C^i}\\right)$ point, we get the maximum number possible of roots of the cubic polynomial at the equilibrium (which uses several values of $R0$)."
   ]
  },
  {
   "cell_type": "code",
   "execution_count": 42,
   "id": "5b814541-99ff-4304-86a9-40eb4ff27db7",
   "metadata": {},
   "outputs": [
    {
     "data": {
      "application/vnd.plotly.v1+json": {
       "config": {
        "plotlyServerURL": "https://plot.ly"
       },
       "data": [
        {
         "autocontour": true,
         "colorbar": {
          "tickmode": "array",
          "ticks": "outside",
          "ticktext": [
           "Nothing",
           "Quadratic",
           "Cubic"
          ],
          "title": {
           "side": "top",
           "text": "Bifurcation"
          }
         },
         "colorscale": [
          [
           0,
           "rgb(75, 41, 145)"
          ],
          [
           0.16666666666666666,
           "rgb(135, 44, 162)"
          ],
          [
           0.3333333333333333,
           "rgb(192, 54, 157)"
          ],
          [
           0.5,
           "rgb(234, 79, 136)"
          ],
          [
           0.6666666666666666,
           "rgb(250, 120, 118)"
          ],
          [
           0.8333333333333334,
           "rgb(246, 169, 122)"
          ],
          [
           1,
           "rgb(237, 217, 163)"
          ]
         ],
         "contours": {
          "coloring": "heatmap",
          "end": 2.9,
          "size": 0.1,
          "start": 2.1
         },
         "type": "contour",
         "x": [
          0.1,
          0.13,
          0.16,
          0.19,
          0.22,
          0.26,
          0.29,
          0.32,
          0.35,
          0.38,
          0.41,
          0.44,
          0.47,
          0.5,
          0.53,
          0.57,
          0.6,
          0.63,
          0.66,
          0.69,
          0.72,
          0.75,
          0.78,
          0.81,
          0.84,
          0.88,
          0.91,
          0.94,
          0.97,
          1
         ],
         "y": [
          0.1,
          0.2,
          0.3,
          0.4,
          0.5,
          0.6,
          0.7,
          0.8,
          0.9,
          1,
          1.1,
          1.2,
          1.3,
          1.4,
          1.5,
          1.6,
          1.7,
          1.8,
          1.9,
          2,
          2.1,
          2.2,
          2.3,
          2.4,
          2.5,
          2.6,
          2.7,
          2.8,
          2.9,
          3
         ],
         "z": [
          [
           2,
           2,
           2,
           2,
           2,
           2,
           2,
           2,
           2,
           2,
           2,
           2,
           2,
           2,
           2,
           2,
           2,
           2,
           2,
           2,
           2,
           2,
           2,
           2,
           2,
           2,
           2,
           2,
           2,
           2
          ],
          [
           2,
           2,
           2,
           2,
           2,
           2,
           2,
           2,
           2,
           2,
           2,
           2,
           2,
           2,
           2,
           2,
           2,
           2,
           2,
           2,
           2,
           2,
           2,
           2,
           2,
           2,
           2,
           2,
           2,
           2
          ],
          [
           2,
           2,
           2,
           2,
           2,
           2,
           2,
           2,
           2,
           2,
           2,
           2,
           2,
           2,
           2,
           2,
           2,
           2,
           2,
           2,
           2,
           2,
           2,
           2,
           2,
           2,
           2,
           2,
           2,
           2
          ],
          [
           2,
           2,
           2,
           2,
           2,
           2,
           2,
           2,
           2,
           2,
           2,
           2,
           2,
           2,
           2,
           2,
           2,
           2,
           2,
           2,
           2,
           2,
           2,
           2,
           2,
           2,
           2,
           2,
           2,
           2
          ],
          [
           2,
           2,
           2,
           2,
           2,
           2,
           2,
           2,
           2,
           2,
           2,
           2,
           2,
           2,
           2,
           2,
           2,
           2,
           2,
           2,
           2,
           2,
           2,
           2,
           2,
           2,
           2,
           2,
           2,
           2
          ],
          [
           2,
           2,
           2,
           2,
           2,
           2,
           2,
           2,
           2,
           2,
           2,
           2,
           2,
           2,
           2,
           2,
           2,
           2,
           2,
           2,
           2,
           2,
           2,
           2,
           2,
           2,
           2,
           2,
           2,
           2
          ],
          [
           2,
           2,
           2,
           2,
           2,
           2,
           2,
           2,
           2,
           2,
           2,
           2,
           2,
           2,
           2,
           2,
           2,
           2,
           2,
           2,
           2,
           2,
           2,
           2,
           2,
           2,
           2,
           2,
           2,
           2
          ],
          [
           2,
           2,
           2,
           2,
           2,
           2,
           2,
           2,
           2,
           2,
           2,
           2,
           2,
           2,
           2,
           2,
           2,
           2,
           2,
           2,
           2,
           2,
           2,
           2,
           2,
           2,
           2,
           2,
           2,
           2
          ],
          [
           2,
           2,
           2,
           2,
           2,
           2,
           2,
           2,
           2,
           2,
           2,
           2,
           2,
           2,
           2,
           2,
           2,
           2,
           2,
           2,
           2,
           2,
           2,
           2,
           2,
           2,
           2,
           2,
           2,
           2
          ],
          [
           2,
           2,
           2,
           2,
           2,
           2,
           2,
           2,
           2,
           2,
           2,
           2,
           2,
           2,
           2,
           2,
           2,
           2,
           2,
           2,
           2,
           2,
           2,
           2,
           2,
           2,
           2,
           2,
           2,
           2
          ],
          [
           2,
           2,
           2,
           2,
           2,
           2,
           2,
           2,
           2,
           2,
           2,
           2,
           2,
           2,
           2,
           2,
           2,
           2,
           2,
           2,
           2,
           2,
           2,
           2,
           2,
           2,
           2,
           2,
           2,
           2
          ],
          [
           2,
           2,
           2,
           2,
           2,
           2,
           2,
           2,
           2,
           2,
           2,
           2,
           2,
           2,
           2,
           2,
           2,
           2,
           2,
           2,
           2,
           2,
           2,
           2,
           2,
           2,
           2,
           2,
           2,
           2
          ],
          [
           2,
           2,
           2,
           2,
           2,
           2,
           2,
           2,
           2,
           2,
           2,
           2,
           2,
           2,
           2,
           2,
           2,
           2,
           2,
           2,
           2,
           2,
           2,
           2,
           2,
           2,
           2,
           2,
           2,
           2
          ],
          [
           2,
           2,
           2,
           2,
           2,
           2,
           2,
           2,
           2,
           2,
           2,
           2,
           2,
           2,
           2,
           2,
           2,
           2,
           2,
           2,
           2,
           2,
           2,
           2,
           2,
           2,
           2,
           2,
           2,
           2
          ],
          [
           2,
           2,
           2,
           2,
           2,
           2,
           2,
           2,
           2,
           2,
           2,
           2,
           2,
           2,
           2,
           2,
           2,
           2,
           2,
           2,
           2,
           2,
           2,
           2,
           2,
           2,
           2,
           2,
           2,
           2
          ],
          [
           3,
           3,
           3,
           3,
           3,
           3,
           3,
           3,
           3,
           3,
           3,
           3,
           3,
           3,
           3,
           3,
           3,
           3,
           3,
           3,
           3,
           3,
           3,
           3,
           3,
           3,
           3,
           3,
           3,
           3
          ],
          [
           3,
           3,
           3,
           3,
           3,
           3,
           3,
           3,
           3,
           3,
           3,
           3,
           3,
           3,
           3,
           3,
           3,
           3,
           3,
           3,
           3,
           3,
           3,
           3,
           3,
           3,
           3,
           3,
           3,
           3
          ],
          [
           3,
           3,
           3,
           3,
           3,
           3,
           3,
           3,
           3,
           3,
           3,
           3,
           3,
           3,
           3,
           3,
           3,
           3,
           3,
           3,
           3,
           3,
           3,
           3,
           3,
           3,
           3,
           3,
           3,
           3
          ],
          [
           3,
           3,
           3,
           3,
           3,
           3,
           3,
           3,
           3,
           3,
           3,
           3,
           3,
           3,
           3,
           3,
           3,
           3,
           3,
           3,
           3,
           3,
           3,
           3,
           3,
           3,
           3,
           3,
           3,
           3
          ],
          [
           3,
           3,
           3,
           3,
           3,
           3,
           3,
           3,
           3,
           3,
           3,
           3,
           3,
           3,
           3,
           3,
           3,
           3,
           3,
           3,
           3,
           3,
           3,
           3,
           3,
           3,
           3,
           3,
           3,
           3
          ],
          [
           3,
           3,
           3,
           3,
           3,
           3,
           3,
           3,
           3,
           3,
           3,
           3,
           3,
           3,
           3,
           3,
           3,
           3,
           3,
           3,
           3,
           3,
           3,
           3,
           3,
           3,
           3,
           3,
           3,
           3
          ],
          [
           3,
           3,
           3,
           3,
           3,
           3,
           3,
           3,
           3,
           3,
           3,
           3,
           3,
           3,
           3,
           3,
           3,
           3,
           3,
           3,
           3,
           3,
           3,
           3,
           3,
           3,
           3,
           3,
           3,
           3
          ],
          [
           3,
           3,
           3,
           3,
           3,
           3,
           3,
           3,
           3,
           3,
           3,
           3,
           3,
           3,
           3,
           3,
           3,
           3,
           3,
           3,
           3,
           3,
           3,
           3,
           3,
           3,
           3,
           3,
           3,
           3
          ],
          [
           3,
           3,
           3,
           3,
           3,
           3,
           3,
           3,
           3,
           3,
           3,
           3,
           3,
           3,
           3,
           3,
           3,
           3,
           3,
           3,
           3,
           3,
           3,
           3,
           3,
           3,
           3,
           3,
           3,
           3
          ],
          [
           3,
           3,
           3,
           3,
           3,
           3,
           3,
           3,
           3,
           3,
           3,
           3,
           3,
           3,
           3,
           3,
           3,
           3,
           3,
           3,
           3,
           3,
           3,
           3,
           3,
           3,
           3,
           3,
           3,
           3
          ],
          [
           3,
           3,
           3,
           3,
           3,
           3,
           3,
           3,
           3,
           3,
           3,
           3,
           3,
           3,
           3,
           3,
           3,
           3,
           3,
           3,
           3,
           3,
           3,
           3,
           3,
           3,
           3,
           3,
           3,
           3
          ],
          [
           3,
           3,
           3,
           3,
           3,
           3,
           3,
           3,
           3,
           3,
           3,
           3,
           3,
           3,
           3,
           3,
           3,
           3,
           3,
           3,
           3,
           3,
           3,
           3,
           3,
           3,
           3,
           3,
           3,
           3
          ],
          [
           3,
           3,
           3,
           3,
           3,
           3,
           3,
           3,
           3,
           3,
           3,
           3,
           3,
           3,
           3,
           3,
           3,
           3,
           3,
           3,
           3,
           3,
           3,
           3,
           3,
           3,
           3,
           3,
           3,
           3
          ],
          [
           3,
           3,
           3,
           3,
           3,
           3,
           3,
           3,
           3,
           3,
           3,
           3,
           3,
           3,
           3,
           3,
           3,
           3,
           3,
           3,
           3,
           3,
           3,
           3,
           3,
           3,
           3,
           3,
           3,
           3
          ],
          [
           3,
           3,
           3,
           3,
           3,
           3,
           3,
           3,
           3,
           3,
           3,
           3,
           3,
           3,
           3,
           3,
           3,
           3,
           3,
           3,
           3,
           3,
           3,
           3,
           3,
           3,
           3,
           3,
           3,
           3
          ]
         ]
        }
       ],
       "layout": {
        "height": 500,
        "template": {
         "data": {
          "bar": [
           {
            "error_x": {
             "color": "#2a3f5f"
            },
            "error_y": {
             "color": "#2a3f5f"
            },
            "marker": {
             "line": {
              "color": "#E5ECF6",
              "width": 0.5
             },
             "pattern": {
              "fillmode": "overlay",
              "size": 10,
              "solidity": 0.2
             }
            },
            "type": "bar"
           }
          ],
          "barpolar": [
           {
            "marker": {
             "line": {
              "color": "#E5ECF6",
              "width": 0.5
             },
             "pattern": {
              "fillmode": "overlay",
              "size": 10,
              "solidity": 0.2
             }
            },
            "type": "barpolar"
           }
          ],
          "carpet": [
           {
            "aaxis": {
             "endlinecolor": "#2a3f5f",
             "gridcolor": "white",
             "linecolor": "white",
             "minorgridcolor": "white",
             "startlinecolor": "#2a3f5f"
            },
            "baxis": {
             "endlinecolor": "#2a3f5f",
             "gridcolor": "white",
             "linecolor": "white",
             "minorgridcolor": "white",
             "startlinecolor": "#2a3f5f"
            },
            "type": "carpet"
           }
          ],
          "choropleth": [
           {
            "colorbar": {
             "outlinewidth": 0,
             "ticks": ""
            },
            "type": "choropleth"
           }
          ],
          "contour": [
           {
            "colorbar": {
             "outlinewidth": 0,
             "ticks": ""
            },
            "colorscale": [
             [
              0,
              "#0d0887"
             ],
             [
              0.1111111111111111,
              "#46039f"
             ],
             [
              0.2222222222222222,
              "#7201a8"
             ],
             [
              0.3333333333333333,
              "#9c179e"
             ],
             [
              0.4444444444444444,
              "#bd3786"
             ],
             [
              0.5555555555555556,
              "#d8576b"
             ],
             [
              0.6666666666666666,
              "#ed7953"
             ],
             [
              0.7777777777777778,
              "#fb9f3a"
             ],
             [
              0.8888888888888888,
              "#fdca26"
             ],
             [
              1,
              "#f0f921"
             ]
            ],
            "type": "contour"
           }
          ],
          "contourcarpet": [
           {
            "colorbar": {
             "outlinewidth": 0,
             "ticks": ""
            },
            "type": "contourcarpet"
           }
          ],
          "heatmap": [
           {
            "colorbar": {
             "outlinewidth": 0,
             "ticks": ""
            },
            "colorscale": [
             [
              0,
              "#0d0887"
             ],
             [
              0.1111111111111111,
              "#46039f"
             ],
             [
              0.2222222222222222,
              "#7201a8"
             ],
             [
              0.3333333333333333,
              "#9c179e"
             ],
             [
              0.4444444444444444,
              "#bd3786"
             ],
             [
              0.5555555555555556,
              "#d8576b"
             ],
             [
              0.6666666666666666,
              "#ed7953"
             ],
             [
              0.7777777777777778,
              "#fb9f3a"
             ],
             [
              0.8888888888888888,
              "#fdca26"
             ],
             [
              1,
              "#f0f921"
             ]
            ],
            "type": "heatmap"
           }
          ],
          "heatmapgl": [
           {
            "colorbar": {
             "outlinewidth": 0,
             "ticks": ""
            },
            "colorscale": [
             [
              0,
              "#0d0887"
             ],
             [
              0.1111111111111111,
              "#46039f"
             ],
             [
              0.2222222222222222,
              "#7201a8"
             ],
             [
              0.3333333333333333,
              "#9c179e"
             ],
             [
              0.4444444444444444,
              "#bd3786"
             ],
             [
              0.5555555555555556,
              "#d8576b"
             ],
             [
              0.6666666666666666,
              "#ed7953"
             ],
             [
              0.7777777777777778,
              "#fb9f3a"
             ],
             [
              0.8888888888888888,
              "#fdca26"
             ],
             [
              1,
              "#f0f921"
             ]
            ],
            "type": "heatmapgl"
           }
          ],
          "histogram": [
           {
            "marker": {
             "pattern": {
              "fillmode": "overlay",
              "size": 10,
              "solidity": 0.2
             }
            },
            "type": "histogram"
           }
          ],
          "histogram2d": [
           {
            "colorbar": {
             "outlinewidth": 0,
             "ticks": ""
            },
            "colorscale": [
             [
              0,
              "#0d0887"
             ],
             [
              0.1111111111111111,
              "#46039f"
             ],
             [
              0.2222222222222222,
              "#7201a8"
             ],
             [
              0.3333333333333333,
              "#9c179e"
             ],
             [
              0.4444444444444444,
              "#bd3786"
             ],
             [
              0.5555555555555556,
              "#d8576b"
             ],
             [
              0.6666666666666666,
              "#ed7953"
             ],
             [
              0.7777777777777778,
              "#fb9f3a"
             ],
             [
              0.8888888888888888,
              "#fdca26"
             ],
             [
              1,
              "#f0f921"
             ]
            ],
            "type": "histogram2d"
           }
          ],
          "histogram2dcontour": [
           {
            "colorbar": {
             "outlinewidth": 0,
             "ticks": ""
            },
            "colorscale": [
             [
              0,
              "#0d0887"
             ],
             [
              0.1111111111111111,
              "#46039f"
             ],
             [
              0.2222222222222222,
              "#7201a8"
             ],
             [
              0.3333333333333333,
              "#9c179e"
             ],
             [
              0.4444444444444444,
              "#bd3786"
             ],
             [
              0.5555555555555556,
              "#d8576b"
             ],
             [
              0.6666666666666666,
              "#ed7953"
             ],
             [
              0.7777777777777778,
              "#fb9f3a"
             ],
             [
              0.8888888888888888,
              "#fdca26"
             ],
             [
              1,
              "#f0f921"
             ]
            ],
            "type": "histogram2dcontour"
           }
          ],
          "mesh3d": [
           {
            "colorbar": {
             "outlinewidth": 0,
             "ticks": ""
            },
            "type": "mesh3d"
           }
          ],
          "parcoords": [
           {
            "line": {
             "colorbar": {
              "outlinewidth": 0,
              "ticks": ""
             }
            },
            "type": "parcoords"
           }
          ],
          "pie": [
           {
            "automargin": true,
            "type": "pie"
           }
          ],
          "scatter": [
           {
            "marker": {
             "colorbar": {
              "outlinewidth": 0,
              "ticks": ""
             }
            },
            "type": "scatter"
           }
          ],
          "scatter3d": [
           {
            "line": {
             "colorbar": {
              "outlinewidth": 0,
              "ticks": ""
             }
            },
            "marker": {
             "colorbar": {
              "outlinewidth": 0,
              "ticks": ""
             }
            },
            "type": "scatter3d"
           }
          ],
          "scattercarpet": [
           {
            "marker": {
             "colorbar": {
              "outlinewidth": 0,
              "ticks": ""
             }
            },
            "type": "scattercarpet"
           }
          ],
          "scattergeo": [
           {
            "marker": {
             "colorbar": {
              "outlinewidth": 0,
              "ticks": ""
             }
            },
            "type": "scattergeo"
           }
          ],
          "scattergl": [
           {
            "marker": {
             "colorbar": {
              "outlinewidth": 0,
              "ticks": ""
             }
            },
            "type": "scattergl"
           }
          ],
          "scattermapbox": [
           {
            "marker": {
             "colorbar": {
              "outlinewidth": 0,
              "ticks": ""
             }
            },
            "type": "scattermapbox"
           }
          ],
          "scatterpolar": [
           {
            "marker": {
             "colorbar": {
              "outlinewidth": 0,
              "ticks": ""
             }
            },
            "type": "scatterpolar"
           }
          ],
          "scatterpolargl": [
           {
            "marker": {
             "colorbar": {
              "outlinewidth": 0,
              "ticks": ""
             }
            },
            "type": "scatterpolargl"
           }
          ],
          "scatterternary": [
           {
            "marker": {
             "colorbar": {
              "outlinewidth": 0,
              "ticks": ""
             }
            },
            "type": "scatterternary"
           }
          ],
          "surface": [
           {
            "colorbar": {
             "outlinewidth": 0,
             "ticks": ""
            },
            "colorscale": [
             [
              0,
              "#0d0887"
             ],
             [
              0.1111111111111111,
              "#46039f"
             ],
             [
              0.2222222222222222,
              "#7201a8"
             ],
             [
              0.3333333333333333,
              "#9c179e"
             ],
             [
              0.4444444444444444,
              "#bd3786"
             ],
             [
              0.5555555555555556,
              "#d8576b"
             ],
             [
              0.6666666666666666,
              "#ed7953"
             ],
             [
              0.7777777777777778,
              "#fb9f3a"
             ],
             [
              0.8888888888888888,
              "#fdca26"
             ],
             [
              1,
              "#f0f921"
             ]
            ],
            "type": "surface"
           }
          ],
          "table": [
           {
            "cells": {
             "fill": {
              "color": "#EBF0F8"
             },
             "line": {
              "color": "white"
             }
            },
            "header": {
             "fill": {
              "color": "#C8D4E3"
             },
             "line": {
              "color": "white"
             }
            },
            "type": "table"
           }
          ]
         },
         "layout": {
          "annotationdefaults": {
           "arrowcolor": "#2a3f5f",
           "arrowhead": 0,
           "arrowwidth": 1
          },
          "autotypenumbers": "strict",
          "coloraxis": {
           "colorbar": {
            "outlinewidth": 0,
            "ticks": ""
           }
          },
          "colorscale": {
           "diverging": [
            [
             0,
             "#8e0152"
            ],
            [
             0.1,
             "#c51b7d"
            ],
            [
             0.2,
             "#de77ae"
            ],
            [
             0.3,
             "#f1b6da"
            ],
            [
             0.4,
             "#fde0ef"
            ],
            [
             0.5,
             "#f7f7f7"
            ],
            [
             0.6,
             "#e6f5d0"
            ],
            [
             0.7,
             "#b8e186"
            ],
            [
             0.8,
             "#7fbc41"
            ],
            [
             0.9,
             "#4d9221"
            ],
            [
             1,
             "#276419"
            ]
           ],
           "sequential": [
            [
             0,
             "#0d0887"
            ],
            [
             0.1111111111111111,
             "#46039f"
            ],
            [
             0.2222222222222222,
             "#7201a8"
            ],
            [
             0.3333333333333333,
             "#9c179e"
            ],
            [
             0.4444444444444444,
             "#bd3786"
            ],
            [
             0.5555555555555556,
             "#d8576b"
            ],
            [
             0.6666666666666666,
             "#ed7953"
            ],
            [
             0.7777777777777778,
             "#fb9f3a"
            ],
            [
             0.8888888888888888,
             "#fdca26"
            ],
            [
             1,
             "#f0f921"
            ]
           ],
           "sequentialminus": [
            [
             0,
             "#0d0887"
            ],
            [
             0.1111111111111111,
             "#46039f"
            ],
            [
             0.2222222222222222,
             "#7201a8"
            ],
            [
             0.3333333333333333,
             "#9c179e"
            ],
            [
             0.4444444444444444,
             "#bd3786"
            ],
            [
             0.5555555555555556,
             "#d8576b"
            ],
            [
             0.6666666666666666,
             "#ed7953"
            ],
            [
             0.7777777777777778,
             "#fb9f3a"
            ],
            [
             0.8888888888888888,
             "#fdca26"
            ],
            [
             1,
             "#f0f921"
            ]
           ]
          },
          "colorway": [
           "#636efa",
           "#EF553B",
           "#00cc96",
           "#ab63fa",
           "#FFA15A",
           "#19d3f3",
           "#FF6692",
           "#B6E880",
           "#FF97FF",
           "#FECB52"
          ],
          "font": {
           "color": "#2a3f5f"
          },
          "geo": {
           "bgcolor": "white",
           "lakecolor": "white",
           "landcolor": "#E5ECF6",
           "showlakes": true,
           "showland": true,
           "subunitcolor": "white"
          },
          "hoverlabel": {
           "align": "left"
          },
          "hovermode": "closest",
          "mapbox": {
           "style": "light"
          },
          "paper_bgcolor": "white",
          "plot_bgcolor": "#E5ECF6",
          "polar": {
           "angularaxis": {
            "gridcolor": "white",
            "linecolor": "white",
            "ticks": ""
           },
           "bgcolor": "#E5ECF6",
           "radialaxis": {
            "gridcolor": "white",
            "linecolor": "white",
            "ticks": ""
           }
          },
          "scene": {
           "xaxis": {
            "backgroundcolor": "#E5ECF6",
            "gridcolor": "white",
            "gridwidth": 2,
            "linecolor": "white",
            "showbackground": true,
            "ticks": "",
            "zerolinecolor": "white"
           },
           "yaxis": {
            "backgroundcolor": "#E5ECF6",
            "gridcolor": "white",
            "gridwidth": 2,
            "linecolor": "white",
            "showbackground": true,
            "ticks": "",
            "zerolinecolor": "white"
           },
           "zaxis": {
            "backgroundcolor": "#E5ECF6",
            "gridcolor": "white",
            "gridwidth": 2,
            "linecolor": "white",
            "showbackground": true,
            "ticks": "",
            "zerolinecolor": "white"
           }
          },
          "shapedefaults": {
           "line": {
            "color": "#2a3f5f"
           }
          },
          "ternary": {
           "aaxis": {
            "gridcolor": "white",
            "linecolor": "white",
            "ticks": ""
           },
           "baxis": {
            "gridcolor": "white",
            "linecolor": "white",
            "ticks": ""
           },
           "bgcolor": "#E5ECF6",
           "caxis": {
            "gridcolor": "white",
            "linecolor": "white",
            "ticks": ""
           }
          },
          "title": {
           "x": 0.05
          },
          "xaxis": {
           "automargin": true,
           "gridcolor": "white",
           "linecolor": "white",
           "ticks": "",
           "title": {
            "standoff": 15
           },
           "zerolinecolor": "white",
           "zerolinewidth": 2
          },
          "yaxis": {
           "automargin": true,
           "gridcolor": "white",
           "linecolor": "white",
           "ticks": "",
           "title": {
            "standoff": 15
           },
           "zerolinecolor": "white",
           "zerolinewidth": 2
          }
         }
        },
        "title": {
         "text": "Regions for Bifurcation Behavior"
        },
        "width": 500,
        "xaxis": {
         "autorange": true,
         "range": [
          0.1,
          1
         ],
         "title": {
          "text": "C^i/C^s"
         },
         "type": "linear"
        },
        "yaxis": {
         "autorange": true,
         "range": [
          0.1,
          3
         ],
         "title": {
          "text": "C^z/C^s"
         },
         "type": "linear"
        }
       }
      },
      "image/png": "[encoded data removed]",
      "text/html": [
       "<div>                            <div id=\"43a0ade1-566a-4c36-b40c-c993b1da3364\" class=\"plotly-graph-div\" style=\"height:500px; width:500px;\"></div>            <script type=\"text/javascript\">                require([\"plotly\"], function(Plotly) {                    window.PLOTLYENV=window.PLOTLYENV || {};                                    if (document.getElementById(\"43a0ade1-566a-4c36-b40c-c993b1da3364\")) {                    Plotly.newPlot(                        \"43a0ade1-566a-4c36-b40c-c993b1da3364\",                        [{\"colorbar\":{\"tickmode\":\"array\",\"ticks\":\"outside\",\"ticktext\":[\"Nothing\",\"Quadratic\",\"Cubic\"],\"title\":{\"side\":\"top\",\"text\":\"Bifurcation\"}},\"colorscale\":[[0.0,\"rgb(75, 41, 145)\"],[0.16666666666666666,\"rgb(135, 44, 162)\"],[0.3333333333333333,\"rgb(192, 54, 157)\"],[0.5,\"rgb(234, 79, 136)\"],[0.6666666666666666,\"rgb(250, 120, 118)\"],[0.8333333333333334,\"rgb(246, 169, 122)\"],[1.0,\"rgb(237, 217, 163)\"]],\"contours\":{\"coloring\":\"heatmap\"},\"x\":[0.1,0.13,0.16,0.19,0.22,0.26,0.29,0.32,0.35,0.38,0.41,0.44,0.47,0.5,0.53,0.57,0.6,0.63,0.66,0.69,0.72,0.75,0.78,0.81,0.84,0.88,0.91,0.94,0.97,1.0],\"y\":[0.1,0.2,0.3,0.4,0.5,0.6,0.7,0.8,0.9,1.0,1.1,1.2,1.3,1.4,1.5,1.6,1.7,1.8,1.9,2.0,2.1,2.2,2.3,2.4,2.5,2.6,2.7,2.8,2.9,3.0],\"z\":[[2.0,2.0,2.0,2.0,2.0,2.0,2.0,2.0,2.0,2.0,2.0,2.0,2.0,2.0,2.0,2.0,2.0,2.0,2.0,2.0,2.0,2.0,2.0,2.0,2.0,2.0,2.0,2.0,2.0,2.0],[2.0,2.0,2.0,2.0,2.0,2.0,2.0,2.0,2.0,2.0,2.0,2.0,2.0,2.0,2.0,2.0,2.0,2.0,2.0,2.0,2.0,2.0,2.0,2.0,2.0,2.0,2.0,2.0,2.0,2.0],[2.0,2.0,2.0,2.0,2.0,2.0,2.0,2.0,2.0,2.0,2.0,2.0,2.0,2.0,2.0,2.0,2.0,2.0,2.0,2.0,2.0,2.0,2.0,2.0,2.0,2.0,2.0,2.0,2.0,2.0],[2.0,2.0,2.0,2.0,2.0,2.0,2.0,2.0,2.0,2.0,2.0,2.0,2.0,2.0,2.0,2.0,2.0,2.0,2.0,2.0,2.0,2.0,2.0,2.0,2.0,2.0,2.0,2.0,2.0,2.0],[2.0,2.0,2.0,2.0,2.0,2.0,2.0,2.0,2.0,2.0,2.0,2.0,2.0,2.0,2.0,2.0,2.0,2.0,2.0,2.0,2.0,2.0,2.0,2.0,2.0,2.0,2.0,2.0,2.0,2.0],[2.0,2.0,2.0,2.0,2.0,2.0,2.0,2.0,2.0,2.0,2.0,2.0,2.0,2.0,2.0,2.0,2.0,2.0,2.0,2.0,2.0,2.0,2.0,2.0,2.0,2.0,2.0,2.0,2.0,2.0],[2.0,2.0,2.0,2.0,2.0,2.0,2.0,2.0,2.0,2.0,2.0,2.0,2.0,2.0,2.0,2.0,2.0,2.0,2.0,2.0,2.0,2.0,2.0,2.0,2.0,2.0,2.0,2.0,2.0,2.0],[2.0,2.0,2.0,2.0,2.0,2.0,2.0,2.0,2.0,2.0,2.0,2.0,2.0,2.0,2.0,2.0,2.0,2.0,2.0,2.0,2.0,2.0,2.0,2.0,2.0,2.0,2.0,2.0,2.0,2.0],[2.0,2.0,2.0,2.0,2.0,2.0,2.0,2.0,2.0,2.0,2.0,2.0,2.0,2.0,2.0,2.0,2.0,2.0,2.0,2.0,2.0,2.0,2.0,2.0,2.0,2.0,2.0,2.0,2.0,2.0],[2.0,2.0,2.0,2.0,2.0,2.0,2.0,2.0,2.0,2.0,2.0,2.0,2.0,2.0,2.0,2.0,2.0,2.0,2.0,2.0,2.0,2.0,2.0,2.0,2.0,2.0,2.0,2.0,2.0,2.0],[2.0,2.0,2.0,2.0,2.0,2.0,2.0,2.0,2.0,2.0,2.0,2.0,2.0,2.0,2.0,2.0,2.0,2.0,2.0,2.0,2.0,2.0,2.0,2.0,2.0,2.0,2.0,2.0,2.0,2.0],[2.0,2.0,2.0,2.0,2.0,2.0,2.0,2.0,2.0,2.0,2.0,2.0,2.0,2.0,2.0,2.0,2.0,2.0,2.0,2.0,2.0,2.0,2.0,2.0,2.0,2.0,2.0,2.0,2.0,2.0],[2.0,2.0,2.0,2.0,2.0,2.0,2.0,2.0,2.0,2.0,2.0,2.0,2.0,2.0,2.0,2.0,2.0,2.0,2.0,2.0,2.0,2.0,2.0,2.0,2.0,2.0,2.0,2.0,2.0,2.0],[2.0,2.0,2.0,2.0,2.0,2.0,2.0,2.0,2.0,2.0,2.0,2.0,2.0,2.0,2.0,2.0,2.0,2.0,2.0,2.0,2.0,2.0,2.0,2.0,2.0,2.0,2.0,2.0,2.0,2.0],[2.0,2.0,2.0,2.0,2.0,2.0,2.0,2.0,2.0,2.0,2.0,2.0,2.0,2.0,2.0,2.0,2.0,2.0,2.0,2.0,2.0,2.0,2.0,2.0,2.0,2.0,2.0,2.0,2.0,2.0],[3.0,3.0,3.0,3.0,3.0,3.0,3.0,3.0,3.0,3.0,3.0,3.0,3.0,3.0,3.0,3.0,3.0,3.0,3.0,3.0,3.0,3.0,3.0,3.0,3.0,3.0,3.0,3.0,3.0,3.0],[3.0,3.0,3.0,3.0,3.0,3.0,3.0,3.0,3.0,3.0,3.0,3.0,3.0,3.0,3.0,3.0,3.0,3.0,3.0,3.0,3.0,3.0,3.0,3.0,3.0,3.0,3.0,3.0,3.0,3.0],[3.0,3.0,3.0,3.0,3.0,3.0,3.0,3.0,3.0,3.0,3.0,3.0,3.0,3.0,3.0,3.0,3.0,3.0,3.0,3.0,3.0,3.0,3.0,3.0,3.0,3.0,3.0,3.0,3.0,3.0],[3.0,3.0,3.0,3.0,3.0,3.0,3.0,3.0,3.0,3.0,3.0,3.0,3.0,3.0,3.0,3.0,3.0,3.0,3.0,3.0,3.0,3.0,3.0,3.0,3.0,3.0,3.0,3.0,3.0,3.0],[3.0,3.0,3.0,3.0,3.0,3.0,3.0,3.0,3.0,3.0,3.0,3.0,3.0,3.0,3.0,3.0,3.0,3.0,3.0,3.0,3.0,3.0,3.0,3.0,3.0,3.0,3.0,3.0,3.0,3.0],[3.0,3.0,3.0,3.0,3.0,3.0,3.0,3.0,3.0,3.0,3.0,3.0,3.0,3.0,3.0,3.0,3.0,3.0,3.0,3.0,3.0,3.0,3.0,3.0,3.0,3.0,3.0,3.0,3.0,3.0],[3.0,3.0,3.0,3.0,3.0,3.0,3.0,3.0,3.0,3.0,3.0,3.0,3.0,3.0,3.0,3.0,3.0,3.0,3.0,3.0,3.0,3.0,3.0,3.0,3.0,3.0,3.0,3.0,3.0,3.0],[3.0,3.0,3.0,3.0,3.0,3.0,3.0,3.0,3.0,3.0,3.0,3.0,3.0,3.0,3.0,3.0,3.0,3.0,3.0,3.0,3.0,3.0,3.0,3.0,3.0,3.0,3.0,3.0,3.0,3.0],[3.0,3.0,3.0,3.0,3.0,3.0,3.0,3.0,3.0,3.0,3.0,3.0,3.0,3.0,3.0,3.0,3.0,3.0,3.0,3.0,3.0,3.0,3.0,3.0,3.0,3.0,3.0,3.0,3.0,3.0],[3.0,3.0,3.0,3.0,3.0,3.0,3.0,3.0,3.0,3.0,3.0,3.0,3.0,3.0,3.0,3.0,3.0,3.0,3.0,3.0,3.0,3.0,3.0,3.0,3.0,3.0,3.0,3.0,3.0,3.0],[3.0,3.0,3.0,3.0,3.0,3.0,3.0,3.0,3.0,3.0,3.0,3.0,3.0,3.0,3.0,3.0,3.0,3.0,3.0,3.0,3.0,3.0,3.0,3.0,3.0,3.0,3.0,3.0,3.0,3.0],[3.0,3.0,3.0,3.0,3.0,3.0,3.0,3.0,3.0,3.0,3.0,3.0,3.0,3.0,3.0,3.0,3.0,3.0,3.0,3.0,3.0,3.0,3.0,3.0,3.0,3.0,3.0,3.0,3.0,3.0],[3.0,3.0,3.0,3.0,3.0,3.0,3.0,3.0,3.0,3.0,3.0,3.0,3.0,3.0,3.0,3.0,3.0,3.0,3.0,3.0,3.0,3.0,3.0,3.0,3.0,3.0,3.0,3.0,3.0,3.0],[3.0,3.0,3.0,3.0,3.0,3.0,3.0,3.0,3.0,3.0,3.0,3.0,3.0,3.0,3.0,3.0,3.0,3.0,3.0,3.0,3.0,3.0,3.0,3.0,3.0,3.0,3.0,3.0,3.0,3.0],[3.0,3.0,3.0,3.0,3.0,3.0,3.0,3.0,3.0,3.0,3.0,3.0,3.0,3.0,3.0,3.0,3.0,3.0,3.0,3.0,3.0,3.0,3.0,3.0,3.0,3.0,3.0,3.0,3.0,3.0]],\"type\":\"contour\"}],                        {\"template\":{\"data\":{\"bar\":[{\"error_x\":{\"color\":\"#2a3f5f\"},\"error_y\":{\"color\":\"#2a3f5f\"},\"marker\":{\"line\":{\"color\":\"#E5ECF6\",\"width\":0.5},\"pattern\":{\"fillmode\":\"overlay\",\"size\":10,\"solidity\":0.2}},\"type\":\"bar\"}],\"barpolar\":[{\"marker\":{\"line\":{\"color\":\"#E5ECF6\",\"width\":0.5},\"pattern\":{\"fillmode\":\"overlay\",\"size\":10,\"solidity\":0.2}},\"type\":\"barpolar\"}],\"carpet\":[{\"aaxis\":{\"endlinecolor\":\"#2a3f5f\",\"gridcolor\":\"white\",\"linecolor\":\"white\",\"minorgridcolor\":\"white\",\"startlinecolor\":\"#2a3f5f\"},\"baxis\":{\"endlinecolor\":\"#2a3f5f\",\"gridcolor\":\"white\",\"linecolor\":\"white\",\"minorgridcolor\":\"white\",\"startlinecolor\":\"#2a3f5f\"},\"type\":\"carpet\"}],\"choropleth\":[{\"colorbar\":{\"outlinewidth\":0,\"ticks\":\"\"},\"type\":\"choropleth\"}],\"contour\":[{\"colorbar\":{\"outlinewidth\":0,\"ticks\":\"\"},\"colorscale\":[[0.0,\"#0d0887\"],[0.1111111111111111,\"#46039f\"],[0.2222222222222222,\"#7201a8\"],[0.3333333333333333,\"#9c179e\"],[0.4444444444444444,\"#bd3786\"],[0.5555555555555556,\"#d8576b\"],[0.6666666666666666,\"#ed7953\"],[0.7777777777777778,\"#fb9f3a\"],[0.8888888888888888,\"#fdca26\"],[1.0,\"#f0f921\"]],\"type\":\"contour\"}],\"contourcarpet\":[{\"colorbar\":{\"outlinewidth\":0,\"ticks\":\"\"},\"type\":\"contourcarpet\"}],\"heatmap\":[{\"colorbar\":{\"outlinewidth\":0,\"ticks\":\"\"},\"colorscale\":[[0.0,\"#0d0887\"],[0.1111111111111111,\"#46039f\"],[0.2222222222222222,\"#7201a8\"],[0.3333333333333333,\"#9c179e\"],[0.4444444444444444,\"#bd3786\"],[0.5555555555555556,\"#d8576b\"],[0.6666666666666666,\"#ed7953\"],[0.7777777777777778,\"#fb9f3a\"],[0.8888888888888888,\"#fdca26\"],[1.0,\"#f0f921\"]],\"type\":\"heatmap\"}],\"heatmapgl\":[{\"colorbar\":{\"outlinewidth\":0,\"ticks\":\"\"},\"colorscale\":[[0.0,\"#0d0887\"],[0.1111111111111111,\"#46039f\"],[0.2222222222222222,\"#7201a8\"],[0.3333333333333333,\"#9c179e\"],[0.4444444444444444,\"#bd3786\"],[0.5555555555555556,\"#d8576b\"],[0.6666666666666666,\"#ed7953\"],[0.7777777777777778,\"#fb9f3a\"],[0.8888888888888888,\"#fdca26\"],[1.0,\"#f0f921\"]],\"type\":\"heatmapgl\"}],\"histogram\":[{\"marker\":{\"pattern\":{\"fillmode\":\"overlay\",\"size\":10,\"solidity\":0.2}},\"type\":\"histogram\"}],\"histogram2d\":[{\"colorbar\":{\"outlinewidth\":0,\"ticks\":\"\"},\"colorscale\":[[0.0,\"#0d0887\"],[0.1111111111111111,\"#46039f\"],[0.2222222222222222,\"#7201a8\"],[0.3333333333333333,\"#9c179e\"],[0.4444444444444444,\"#bd3786\"],[0.5555555555555556,\"#d8576b\"],[0.6666666666666666,\"#ed7953\"],[0.7777777777777778,\"#fb9f3a\"],[0.8888888888888888,\"#fdca26\"],[1.0,\"#f0f921\"]],\"type\":\"histogram2d\"}],\"histogram2dcontour\":[{\"colorbar\":{\"outlinewidth\":0,\"ticks\":\"\"},\"colorscale\":[[0.0,\"#0d0887\"],[0.1111111111111111,\"#46039f\"],[0.2222222222222222,\"#7201a8\"],[0.3333333333333333,\"#9c179e\"],[0.4444444444444444,\"#bd3786\"],[0.5555555555555556,\"#d8576b\"],[0.6666666666666666,\"#ed7953\"],[0.7777777777777778,\"#fb9f3a\"],[0.8888888888888888,\"#fdca26\"],[1.0,\"#f0f921\"]],\"type\":\"histogram2dcontour\"}],\"mesh3d\":[{\"colorbar\":{\"outlinewidth\":0,\"ticks\":\"\"},\"type\":\"mesh3d\"}],\"parcoords\":[{\"line\":{\"colorbar\":{\"outlinewidth\":0,\"ticks\":\"\"}},\"type\":\"parcoords\"}],\"pie\":[{\"automargin\":true,\"type\":\"pie\"}],\"scatter\":[{\"marker\":{\"colorbar\":{\"outlinewidth\":0,\"ticks\":\"\"}},\"type\":\"scatter\"}],\"scatter3d\":[{\"line\":{\"colorbar\":{\"outlinewidth\":0,\"ticks\":\"\"}},\"marker\":{\"colorbar\":{\"outlinewidth\":0,\"ticks\":\"\"}},\"type\":\"scatter3d\"}],\"scattercarpet\":[{\"marker\":{\"colorbar\":{\"outlinewidth\":0,\"ticks\":\"\"}},\"type\":\"scattercarpet\"}],\"scattergeo\":[{\"marker\":{\"colorbar\":{\"outlinewidth\":0,\"ticks\":\"\"}},\"type\":\"scattergeo\"}],\"scattergl\":[{\"marker\":{\"colorbar\":{\"outlinewidth\":0,\"ticks\":\"\"}},\"type\":\"scattergl\"}],\"scattermapbox\":[{\"marker\":{\"colorbar\":{\"outlinewidth\":0,\"ticks\":\"\"}},\"type\":\"scattermapbox\"}],\"scatterpolar\":[{\"marker\":{\"colorbar\":{\"outlinewidth\":0,\"ticks\":\"\"}},\"type\":\"scatterpolar\"}],\"scatterpolargl\":[{\"marker\":{\"colorbar\":{\"outlinewidth\":0,\"ticks\":\"\"}},\"type\":\"scatterpolargl\"}],\"scatterternary\":[{\"marker\":{\"colorbar\":{\"outlinewidth\":0,\"ticks\":\"\"}},\"type\":\"scatterternary\"}],\"surface\":[{\"colorbar\":{\"outlinewidth\":0,\"ticks\":\"\"},\"colorscale\":[[0.0,\"#0d0887\"],[0.1111111111111111,\"#46039f\"],[0.2222222222222222,\"#7201a8\"],[0.3333333333333333,\"#9c179e\"],[0.4444444444444444,\"#bd3786\"],[0.5555555555555556,\"#d8576b\"],[0.6666666666666666,\"#ed7953\"],[0.7777777777777778,\"#fb9f3a\"],[0.8888888888888888,\"#fdca26\"],[1.0,\"#f0f921\"]],\"type\":\"surface\"}],\"table\":[{\"cells\":{\"fill\":{\"color\":\"#EBF0F8\"},\"line\":{\"color\":\"white\"}},\"header\":{\"fill\":{\"color\":\"#C8D4E3\"},\"line\":{\"color\":\"white\"}},\"type\":\"table\"}]},\"layout\":{\"annotationdefaults\":{\"arrowcolor\":\"#2a3f5f\",\"arrowhead\":0,\"arrowwidth\":1},\"autotypenumbers\":\"strict\",\"coloraxis\":{\"colorbar\":{\"outlinewidth\":0,\"ticks\":\"\"}},\"colorscale\":{\"diverging\":[[0,\"#8e0152\"],[0.1,\"#c51b7d\"],[0.2,\"#de77ae\"],[0.3,\"#f1b6da\"],[0.4,\"#fde0ef\"],[0.5,\"#f7f7f7\"],[0.6,\"#e6f5d0\"],[0.7,\"#b8e186\"],[0.8,\"#7fbc41\"],[0.9,\"#4d9221\"],[1,\"#276419\"]],\"sequential\":[[0.0,\"#0d0887\"],[0.1111111111111111,\"#46039f\"],[0.2222222222222222,\"#7201a8\"],[0.3333333333333333,\"#9c179e\"],[0.4444444444444444,\"#bd3786\"],[0.5555555555555556,\"#d8576b\"],[0.6666666666666666,\"#ed7953\"],[0.7777777777777778,\"#fb9f3a\"],[0.8888888888888888,\"#fdca26\"],[1.0,\"#f0f921\"]],\"sequentialminus\":[[0.0,\"#0d0887\"],[0.1111111111111111,\"#46039f\"],[0.2222222222222222,\"#7201a8\"],[0.3333333333333333,\"#9c179e\"],[0.4444444444444444,\"#bd3786\"],[0.5555555555555556,\"#d8576b\"],[0.6666666666666666,\"#ed7953\"],[0.7777777777777778,\"#fb9f3a\"],[0.8888888888888888,\"#fdca26\"],[1.0,\"#f0f921\"]]},\"colorway\":[\"#636efa\",\"#EF553B\",\"#00cc96\",\"#ab63fa\",\"#FFA15A\",\"#19d3f3\",\"#FF6692\",\"#B6E880\",\"#FF97FF\",\"#FECB52\"],\"font\":{\"color\":\"#2a3f5f\"},\"geo\":{\"bgcolor\":\"white\",\"lakecolor\":\"white\",\"landcolor\":\"#E5ECF6\",\"showlakes\":true,\"showland\":true,\"subunitcolor\":\"white\"},\"hoverlabel\":{\"align\":\"left\"},\"hovermode\":\"closest\",\"mapbox\":{\"style\":\"light\"},\"paper_bgcolor\":\"white\",\"plot_bgcolor\":\"#E5ECF6\",\"polar\":{\"angularaxis\":{\"gridcolor\":\"white\",\"linecolor\":\"white\",\"ticks\":\"\"},\"bgcolor\":\"#E5ECF6\",\"radialaxis\":{\"gridcolor\":\"white\",\"linecolor\":\"white\",\"ticks\":\"\"}},\"scene\":{\"xaxis\":{\"backgroundcolor\":\"#E5ECF6\",\"gridcolor\":\"white\",\"gridwidth\":2,\"linecolor\":\"white\",\"showbackground\":true,\"ticks\":\"\",\"zerolinecolor\":\"white\"},\"yaxis\":{\"backgroundcolor\":\"#E5ECF6\",\"gridcolor\":\"white\",\"gridwidth\":2,\"linecolor\":\"white\",\"showbackground\":true,\"ticks\":\"\",\"zerolinecolor\":\"white\"},\"zaxis\":{\"backgroundcolor\":\"#E5ECF6\",\"gridcolor\":\"white\",\"gridwidth\":2,\"linecolor\":\"white\",\"showbackground\":true,\"ticks\":\"\",\"zerolinecolor\":\"white\"}},\"shapedefaults\":{\"line\":{\"color\":\"#2a3f5f\"}},\"ternary\":{\"aaxis\":{\"gridcolor\":\"white\",\"linecolor\":\"white\",\"ticks\":\"\"},\"baxis\":{\"gridcolor\":\"white\",\"linecolor\":\"white\",\"ticks\":\"\"},\"bgcolor\":\"#E5ECF6\",\"caxis\":{\"gridcolor\":\"white\",\"linecolor\":\"white\",\"ticks\":\"\"}},\"title\":{\"x\":0.05},\"xaxis\":{\"automargin\":true,\"gridcolor\":\"white\",\"linecolor\":\"white\",\"ticks\":\"\",\"title\":{\"standoff\":15},\"zerolinecolor\":\"white\",\"zerolinewidth\":2},\"yaxis\":{\"automargin\":true,\"gridcolor\":\"white\",\"linecolor\":\"white\",\"ticks\":\"\",\"title\":{\"standoff\":15},\"zerolinecolor\":\"white\",\"zerolinewidth\":2}}},\"width\":500,\"height\":500,\"title\":{\"text\":\"Regions for Bifurcation Behavior\"},\"xaxis\":{\"title\":{\"text\":\"C^i/C^s\"}},\"yaxis\":{\"title\":{\"text\":\"C^z/C^s\"}}},                        {\"responsive\": true}                    ).then(function(){\n",
       "                            \n",
       "var gd = document.getElementById('43a0ade1-566a-4c36-b40c-c993b1da3364');\n",
       "var x = new MutationObserver(function (mutations, observer) {{\n",
       "        var display = window.getComputedStyle(gd).display;\n",
       "        if (!display || display === 'none') {{\n",
       "            console.log([gd, 'removed!']);\n",
       "            Plotly.purge(gd);\n",
       "            observer.disconnect();\n",
       "        }}\n",
       "}});\n",
       "\n",
       "// Listen for the removal of the full notebook cells\n",
       "var notebookContainer = gd.closest('#notebook-container');\n",
       "if (notebookContainer) {{\n",
       "    x.observe(notebookContainer, {childList: true});\n",
       "}}\n",
       "\n",
       "// Listen for the clearing of the current output cell\n",
       "var outputEl = gd.closest('.output');\n",
       "if (outputEl) {{\n",
       "    x.observe(outputEl, {childList: true});\n",
       "}}\n",
       "\n",
       "                        })                };                });            </script>        </div>"
      ]
     },
     "metadata": {},
     "output_type": "display_data"
    }
   ],
   "source": [
    "fig = go.Figure()\n",
    "fig.add_trace(go.Contour(\n",
    "    z=arr,\n",
    "    colorscale=\"Agsunset\",\n",
    "    colorbar=dict(\n",
    "        title=\"Bifurcation\",\n",
    "        titleside=\"top\",\n",
    "        tickmode=\"array\",\n",
    "        ticktext=[\"Nothing\", \"Quadratic\", \"Cubic\"],\n",
    "        ticks=\"outside\"\n",
    "    ),\n",
    "    x=cicss, # horizontal axis\n",
    "    y=czcss, # vertical axis\n",
    "    contours_coloring='heatmap'\n",
    "))\n",
    "fig.update_layout(width=500,\n",
    "                  height=500,\n",
    "                  title=\"Regions for Bifurcation Behavior\",\n",
    "                  xaxis_title=\"C^i/C^s\",\n",
    "                  yaxis_title=\"C^z/C^s\"\n",
    "                 )\n",
    "fig.show()"
   ]
  },
  {
   "cell_type": "markdown",
   "id": "64b82ef4-544d-4b0f-b26e-7acde39836c1",
   "metadata": {},
   "source": [
    "Experiments and graphs"
   ]
  },
  {
   "cell_type": "code",
   "execution_count": 109,
   "id": "c75d4f16-2df0-4958-95a0-b3c21fffd89a",
   "metadata": {},
   "outputs": [
    {
     "name": "stdout",
     "output_type": "stream",
     "text": [
      "1.5438596491228072\n"
     ]
    }
   ],
   "source": [
    "### Initial parameters\n",
    "mu = 0.00015\n",
    "gamma = 0.0027\n",
    "beta = 0.009\n",
    "phi = 0.0044\n",
    "\n",
    "### R values:\n",
    "Rmu = mu/(mu+ gamma)\n",
    "Rphi = phi/(mu + gamma)\n",
    "\n",
    "print(Rphi)"
   ]
  },
  {
   "cell_type": "code",
   "execution_count": 108,
   "id": "36515439-d04e-4311-a4a6-6ae572a5eb24",
   "metadata": {},
   "outputs": [
    {
     "data": {
      "text/plain": [
       "0.4884660631169764"
      ]
     },
     "execution_count": 108,
     "metadata": {},
     "output_type": "execute_result"
    }
   ],
   "source": [
    "# Number for three roots condition: (Theorem)\n",
    "Rphi - (Rmu**2 + 1)/(Rmu**2 - Rmu + 1)"
   ]
  },
  {
   "cell_type": "code",
   "execution_count": 107,
   "id": "3215d594-0a81-4db7-b41c-7dcb60f26dbf",
   "metadata": {},
   "outputs": [
    {
     "name": "stdout",
     "output_type": "stream",
     "text": [
      "[1.0*x**3 - 0.253434822155201*x**2 + 0.00373708269685218*x - 1.16280208374133e-5, 3.0*x**2 - 0.506869644310403*x + 0.00373708269685218, 0.0117817691089516*x - 9.36060779021438e-5, 0.000100624525030732]\n",
      "\n",
      "- values_at_start = [-1.1628020837413346e-05, 0.0037370826968521837, -9.360607790214376e-05, 0.00010062452503073211]\n",
      "- values_at_end = [0.7502906325208133, 2.4968674383864493, 0.011688163031049423, 0.00010062452503073211]\n",
      "- count_start = 3\n",
      "- count_end = 0\n",
      "- number roots = 3\n",
      "\n",
      "[0.004403945763482652, 0.011097052890317411, 0.23793382350140205]\n"
     ]
    }
   ],
   "source": [
    "# Compute number of roots using Sturm's Theorem\n",
    "kappa = 0.8  #C^I/C^S\n",
    "xi = 1.7 #C^Z/C^S\n",
    "\n",
    "#R0s = list(np.linspace(0.0001,2,1000))\n",
    "number_roots = []\n",
    "R0 = 1.01\n",
    "\n",
    "coefficients = get_coefficients_cubic(Rphi, Rmu, R0, kappa, xi)\n",
    "pol = sum([coefficients[i]*x**i for i in range(len(coefficients))])\n",
    "sturm_seq = sp.sturm(pol) # sturm sequence\n",
    "print(sturm_seq)\n",
    "\n",
    "values_at_start = [float(sp.Poly(pol_sturm,x).eval(0)) for pol_sturm in sturm_seq]\n",
    "values_at_end = [float(sp.Poly(pol_sturm,x).eval(1)) for pol_sturm in sturm_seq]\n",
    "\n",
    "count_start = len(list(itertools.groupby(values_at_start, lambda values_at_start: values_at_start > 0))) - 1\n",
    "count_end = len(list(itertools.groupby(values_at_end, lambda values_at_end: values_at_end > 0))) - 1\n",
    "\n",
    "ans = count_start - count_end\n",
    "print(f\"\"\"\n",
    "- values_at_start = {values_at_start}\n",
    "- values_at_end = {values_at_end}\n",
    "- count_start = {count_start}\n",
    "- count_end = {count_end}\n",
    "- number roots = {ans}\n",
    "\"\"\")\n",
    "\n",
    "roots = solve_polynomial(Rphi, Rmu, R0, kappa, xi)\n",
    "roots = [root for root in roots if root < 1 and root > 0]\n",
    "print(roots)"
   ]
  },
  {
   "cell_type": "markdown",
   "id": "3a7ea50d-7103-46b5-a244-2c8e00593e2c",
   "metadata": {},
   "source": [
    "### Comparison between the theoretical equilibria points and the attained equilibrium-"
   ]
  },
  {
   "cell_type": "code",
   "execution_count": 106,
   "id": "44053fae-1a8e-4962-9a07-21722f313cbd",
   "metadata": {},
   "outputs": [
    {
     "name": "stdout",
     "output_type": "stream",
     "text": [
      "\n",
      "Parameters:\n",
      "mu : 0.00015\n",
      "gamma: 0.0027\n",
      "beta : 0.009\n",
      "phi: 0.0044\n",
      "\n",
      "\n",
      "Multiple roots condition satisfied:\n",
      "True\n",
      "\n",
      "Contact rates per group:\n",
      "Cs = 0.4\n",
      "Ci = 0.32000000000000006\n",
      "Cz = 0.68\n",
      "\n",
      "\n",
      "R0 value: 1.0105263157894737\n",
      "kappa: 0.8\n",
      "xi: 1.7\n",
      "\n",
      "Theoretical Possible Equilibria Roots:\n",
      "[0.004914312662359203, 0.010455203872732766, 0.23809938298643937]\n",
      "\n",
      "s at equilibrium\n",
      "0.22512085500134435\n",
      "0.22512085500134416\n",
      "i found at equilibrium\n",
      "0.2380988541694913\n",
      "z at equilibrium\n",
      "0.5367802908291646\n",
      "0.536780345110825\n",
      "\n",
      "Value of polynomial at i*: -6.690772998835248e-08\n",
      "Plot of System:\n",
      "\n"
     ]
    },
    {
     "data": {
      "image/png": "[encoded data removed]",
      "text/plain": [
       "<Figure size 720x432 with 1 Axes>"
      ]
     },
     "metadata": {
      "needs_background": "light"
     },
     "output_type": "display_data"
    }
   ],
   "source": [
    "# Initial parameters\n",
    "mu = 0.00015\n",
    "gamma = 0.0027\n",
    "beta = 0.009\n",
    "phi = 0.0044\n",
    "\n",
    "# R values:\n",
    "Rmu = mu/(mu+ gamma)\n",
    "Rphi = phi/(mu + gamma)\n",
    "\n",
    "print(f\"\"\"\n",
    "Parameters:\n",
    "mu : {mu}\n",
    "gamma: {gamma}\n",
    "beta : {beta}\n",
    "phi: {phi}\n",
    "\"\"\")\n",
    "\n",
    "# Number for three roots condition: (Theorem)\n",
    "print(f\"\"\"\n",
    "Multiple roots condition satisfied:\n",
    "{Rphi - (Rmu**2 + 1)/(Rmu**2 - Rmu + 1) > 0}\n",
    "\"\"\")\n",
    "\n",
    "Cs = 0.4\n",
    "Ci = Cs*kappa\n",
    "Cz = Cs*xi\n",
    "\n",
    "print(f\"\"\"Contact rates per group:\n",
    "Cs = {Cs}\n",
    "Ci = {Ci}\n",
    "Cz = {Cz}\n",
    "\"\"\")\n",
    "\n",
    "R0 = Ci*beta/(gamma+mu)\n",
    "roots = solve_polynomial(Rphi, Rmu, R0, kappa, xi)\n",
    "\n",
    "print(f\"\"\"\n",
    "R0 value: {R0}\n",
    "kappa: {kappa}\n",
    "xi: {xi}\n",
    "\n",
    "Theoretical Possible Equilibria Roots:\n",
    "{roots}\n",
    "\"\"\")\n",
    "\n",
    "t_max = 60000\n",
    "steps = 100\n",
    "x00 = [0.9, 0.05, 0.05]\n",
    "\n",
    "s,i,z = solve_odes_system(Cs,Ci,Cz)\n",
    "\n",
    "s_eq = s[len(s)-1]\n",
    "i_eq = i[len(i)-1]\n",
    "z_eq = z[len(z)-1]\n",
    "\n",
    "print(\"s at equilibrium\")\n",
    "print(s_eq)\n",
    "print(1 - i_eq - z_eq)\n",
    "\n",
    "print(\"i found at equilibrium\")\n",
    "print(i_eq)\n",
    "\n",
    "print(\"z at equilibrium\")\n",
    "print(z_eq)\n",
    "print((gamma*i_eq)/(phi*i_eq + mu))\n",
    "\n",
    "x_3 = (Rphi**2)*(R0) + Rmu*(Rphi**2)*(kappa -1)\n",
    "x_2 = Rphi*(R0*(1 - Rphi) + Rmu*(R0 + Rphi))\n",
    "x_2 = x_2 + Rphi*(Rmu*(1 - Rmu)*(xi - 1) + Rmu*(1 + Rmu)*(kappa - 1)) \n",
    "x_1 = Rmu*(R0*(1 - Rphi)  + Rphi*(1 - R0)  + Rmu*Rphi)\n",
    "x_1 = x_1+ Rmu*((1 - Rmu)*(xi - 1) + Rmu*(kappa - 1))\n",
    "x_0 = (Rmu**2)*(1 - R0)\n",
    "\n",
    "poly_theo = x_0 + x_1*i_eq + x_2*(i_eq**2) + x_3*(i_eq**3)\n",
    "\n",
    "print(f\"\"\"\n",
    "Value of polynomial at i*: {poly_theo}\n",
    "Plot of System:\n",
    "\"\"\")\n",
    "\n",
    "t = np.linspace(0, 0 + t_max, steps)\n",
    "plt.plot(t, s, label=\"Susceptible\",lw=6, alpha=0.5)\n",
    "plt.plot(t, i, label=\"Infected\",lw=6, alpha=0.5)\n",
    "plt.plot(t, z, label=\"Recovered\",lw=6, alpha=0.5)\n",
    "plt.title(\"Plot of S-I-Z functions\")\n",
    "plt.xlabel(\"Time (t)\")\n",
    "plt.ylabel(\"Number of individuals\")\n",
    "plt.legend(loc = \"upper left\")\n",
    "plt.rcParams[\"figure.figsize\"] = (10,6)\n",
    "plt.show()"
   ]
  },
  {
   "cell_type": "code",
   "execution_count": null,
   "id": "12f940cd-eb99-4d31-b5ce-997952ed2a1c",
   "metadata": {},
   "outputs": [],
   "source": []
  },
  {
   "cell_type": "code",
   "execution_count": null,
   "id": "37e7d145-e17a-469f-b5c1-fab19230d8b4",
   "metadata": {},
   "outputs": [],
   "source": [
    "# values = [(0.8,1.7), (0.5, 1.7), (0.3, 1.7), (0, 1.7),\n",
    "#           (0.8,1.2), (0.5, 1.2), (0.3, 1.2), (0, 1.2),\n",
    "#           (0.8,0.7), (0.5, 0.7), (0.3, 0.7), (0, 0.7),\n",
    "#           (0.8,0.3), (0.5, 0.3), (0.3, 0.3), (0, 0.3),\n",
    "#          ]\n",
    "# figs = []\n",
    "# for val in values:\n",
    "\n",
    "#     kappa = val[0]  #C^I/C^S\n",
    "#     xi = val[1] #C^Z/C^S\n",
    "\n",
    "#     data_graph = pd.DataFrame({})\n",
    "\n",
    "#     R0s = list(np.linspace(0.01, 1.1, 1000))\n",
    "#     vals = []\n",
    "\n",
    "#     for i in tqdm(range(len(R0s))):\n",
    "\n",
    "#         R0 = R0s[i]\n",
    "#         roots = solve_polynomial(Rphi, Rmu, R0, kappa, xi)\n",
    "#         roots = [root for root in roots if root < 1 and root > 0]\n",
    "\n",
    "#         for root in roots:\n",
    "#             data_graph = data_graph.append(pd.DataFrame({\n",
    "#                 'R0':[R0],\n",
    "#                 'i_opt':[root]\n",
    "#             }))\n",
    "            \n",
    "#     figs.append({\n",
    "#         'value': val,\n",
    "#         'data_graph': data_graph\n",
    "#     })"
   ]
  },
  {
   "cell_type": "code",
   "execution_count": 111,
   "id": "656674fc-7798-41a0-a093-15ffd8b56653",
   "metadata": {},
   "outputs": [
    {
     "data": {
      "application/vnd.plotly.v1+json": {
       "config": {
        "plotlyServerURL": "https://plot.ly"
       },
       "data": [
        {
         "marker": {
          "color": "rgba(152, 0, 0, .8)",
          "line": {
           "width": 2
          },
          "size": 10
         },
         "mode": "markers",
         "type": "scatter",
         "x": [
          0.40279279279279284,
          0.40279279279279284,
          0.40388388388388397,
          0.40388388388388397,
          0.40497497497497503,
          0.40497497497497503,
          0.40606606606606616,
          0.40606606606606616,
          0.4071571571571572,
          0.4071571571571572,
          0.4082482482482483,
          0.4082482482482483,
          0.4093393393393394,
          0.4093393393393394,
          0.4104304304304305,
          0.4104304304304305,
          0.4115215215215216,
          0.4115215215215216,
          0.4126126126126127,
          0.4126126126126127,
          0.4137037037037038,
          0.4137037037037038,
          0.41479479479479486,
          0.41479479479479486,
          0.41588588588588593,
          0.41588588588588593,
          0.41697697697697705,
          0.41697697697697705,
          0.4180680680680681,
          0.4180680680680681,
          0.41915915915915924,
          0.41915915915915924,
          0.4202502502502503,
          0.4202502502502503,
          0.42134134134134144,
          0.42134134134134144,
          0.4224324324324325,
          0.4224324324324325,
          0.42352352352352357,
          0.42352352352352357,
          0.4246146146146147,
          0.4246146146146147,
          0.42570570570570576,
          0.42570570570570576,
          0.4267967967967969,
          0.4267967967967969,
          0.42788788788788795,
          0.42788788788788795,
          0.4289789789789791,
          0.4289789789789791,
          0.43007007007007014,
          0.43007007007007014,
          0.4311611611611612,
          0.4311611611611612,
          0.43225225225225233,
          0.43225225225225233,
          0.4333433433433434,
          0.4333433433433434,
          0.4344344344344345,
          0.4344344344344345,
          0.4355255255255256,
          0.4355255255255256,
          0.43661661661661666,
          0.43661661661661666,
          0.4377077077077078,
          0.4377077077077078,
          0.43879879879879885,
          0.43879879879879885,
          0.43988988988989,
          0.43988988988989,
          0.44098098098098104,
          0.44098098098098104,
          0.44207207207207216,
          0.44207207207207216,
          0.44316316316316323,
          0.44316316316316323,
          0.4442542542542543,
          0.4442542542542543,
          0.4453453453453454,
          0.4453453453453454,
          0.4464364364364365,
          0.4464364364364365,
          0.4475275275275276,
          0.4475275275275276,
          0.4486186186186187,
          0.4486186186186187,
          0.4497097097097098,
          0.4497097097097098,
          0.45080080080080087,
          0.45080080080080087,
          0.45189189189189194,
          0.45189189189189194,
          0.45298298298298306,
          0.45298298298298306,
          0.45407407407407413,
          0.45407407407407413,
          0.45516516516516525,
          0.45516516516516525,
          0.4562562562562563,
          0.4562562562562563,
          0.45734734734734744,
          0.45734734734734744,
          0.4584384384384385,
          0.4584384384384385,
          0.4595295295295296,
          0.4595295295295296,
          0.4606206206206207,
          0.4606206206206207,
          0.46171171171171177,
          0.46171171171171177,
          0.4628028028028029,
          0.4628028028028029,
          0.46389389389389396,
          0.46389389389389396,
          0.4649849849849851,
          0.4649849849849851,
          0.46607607607607615,
          0.46607607607607615,
          0.4671671671671672,
          0.4671671671671672,
          0.46825825825825834,
          0.46825825825825834,
          0.4693493493493494,
          0.4693493493493494,
          0.47044044044044053,
          0.47044044044044053,
          0.4715315315315316,
          0.4715315315315316,
          0.4726226226226227,
          0.4726226226226227,
          0.4737137137137138,
          0.4737137137137138,
          0.47480480480480486,
          0.47480480480480486,
          0.475895895895896,
          0.475895895895896,
          0.47698698698698705,
          0.47698698698698705,
          0.4780780780780782,
          0.4780780780780782,
          0.47916916916916924,
          0.47916916916916924,
          0.48026026026026036,
          0.48026026026026036,
          0.48135135135135143,
          0.48135135135135143,
          0.4824424424424425,
          0.4824424424424425,
          0.4835335335335336,
          0.4835335335335336,
          0.4846246246246247,
          0.4846246246246247,
          0.4857157157157158,
          0.4857157157157158,
          0.4868068068068069,
          0.4868068068068069,
          0.48789789789789795,
          0.48789789789789795,
          0.48898898898898907,
          0.48898898898898907,
          0.49008008008008014,
          0.49008008008008014,
          0.49117117117117126,
          0.49117117117117126,
          0.49226226226226233,
          0.49226226226226233,
          0.49335335335335345,
          0.49335335335335345,
          0.4944444444444445,
          0.4944444444444445,
          0.4955355355355356,
          0.4955355355355356,
          0.4966266266266267,
          0.4966266266266267,
          0.4977177177177178,
          0.4977177177177178,
          0.4988088088088089,
          0.4988088088088089,
          0.49989989989989997,
          0.49989989989989997,
          0.5009909909909911,
          0.5009909909909911,
          0.5020820820820822,
          0.5020820820820822,
          0.5031731731731732,
          0.5031731731731732,
          0.5042642642642643,
          0.5042642642642643,
          0.5053553553553554,
          0.5053553553553554,
          0.5064464464464465,
          0.5064464464464465,
          0.5075375375375376,
          0.5075375375375376,
          0.5086286286286287,
          0.5086286286286287,
          0.5097197197197197,
          0.5097197197197197,
          0.5108108108108109,
          0.5108108108108109,
          0.511901901901902,
          0.511901901901902,
          0.5129929929929931,
          0.5129929929929931,
          0.5140840840840841,
          0.5140840840840841,
          0.5151751751751753,
          0.5151751751751753,
          0.5162662662662664,
          0.5162662662662664,
          0.5173573573573574,
          0.5173573573573574,
          0.5184484484484485,
          0.5184484484484485,
          0.5195395395395396,
          0.5195395395395396,
          0.5206306306306308,
          0.5206306306306308,
          0.5217217217217218,
          0.5217217217217218,
          0.5228128128128129,
          0.5228128128128129,
          0.523903903903904,
          0.523903903903904,
          0.524994994994995,
          0.524994994994995,
          0.5260860860860862,
          0.5260860860860862,
          0.5271771771771773,
          0.5271771771771773,
          0.5282682682682683,
          0.5282682682682683,
          0.5293593593593594,
          0.5293593593593594,
          0.5304504504504506,
          0.5304504504504506,
          0.5315415415415417,
          0.5315415415415417,
          0.5326326326326327,
          0.5326326326326327,
          0.5337237237237238,
          0.5337237237237238,
          0.5348148148148149,
          0.5348148148148149,
          0.535905905905906,
          0.535905905905906,
          0.5369969969969971,
          0.5369969969969971,
          0.5380880880880882,
          0.5380880880880882,
          0.5391791791791792,
          0.5391791791791792,
          0.5402702702702703,
          0.5402702702702703,
          0.5413613613613615,
          0.5413613613613615,
          0.5424524524524525,
          0.5424524524524525,
          0.5435435435435436,
          0.5435435435435436,
          0.5446346346346347,
          0.5446346346346347,
          0.5457257257257259,
          0.5457257257257259,
          0.5468168168168169,
          0.5468168168168169,
          0.547907907907908,
          0.547907907907908,
          0.5489989989989991,
          0.5489989989989991,
          0.5500900900900901,
          0.5500900900900901,
          0.5511811811811813,
          0.5511811811811813,
          0.5522722722722724,
          0.5522722722722724,
          0.5533633633633634,
          0.5533633633633634,
          0.5544544544544545,
          0.5544544544544545,
          0.5555455455455456,
          0.5555455455455456,
          0.5566366366366368,
          0.5566366366366368,
          0.5577277277277278,
          0.5577277277277278,
          0.5588188188188189,
          0.5588188188188189,
          0.55990990990991,
          0.55990990990991,
          0.5610010010010011,
          0.5610010010010011,
          0.5620920920920922,
          0.5620920920920922,
          0.5631831831831833,
          0.5631831831831833,
          0.5642742742742743,
          0.5642742742742743,
          0.5653653653653654,
          0.5653653653653654,
          0.5664564564564566,
          0.5664564564564566,
          0.5675475475475477,
          0.5675475475475477,
          0.5686386386386387,
          0.5686386386386387,
          0.5697297297297298,
          0.5697297297297298,
          0.5708208208208209,
          0.5708208208208209,
          0.571911911911912,
          0.571911911911912,
          0.5730030030030031,
          0.5730030030030031,
          0.5740940940940942,
          0.5740940940940942,
          0.5751851851851852,
          0.5751851851851852,
          0.5762762762762763,
          0.5762762762762763,
          0.5773673673673675,
          0.5773673673673675,
          0.5784584584584586,
          0.5784584584584586,
          0.5795495495495496,
          0.5795495495495496,
          0.5806406406406407,
          0.5806406406406407,
          0.5817317317317319,
          0.5817317317317319,
          0.5828228228228229,
          0.5828228228228229,
          0.583913913913914,
          0.583913913913914,
          0.5850050050050051,
          0.5850050050050051,
          0.5860960960960961,
          0.5860960960960961,
          0.5871871871871873,
          0.5871871871871873,
          0.5882782782782784,
          0.5882782782782784,
          0.5893693693693695,
          0.5893693693693695,
          0.5904604604604605,
          0.5904604604604605,
          0.5915515515515516,
          0.5915515515515516,
          0.5926426426426428,
          0.5926426426426428,
          0.5937337337337338,
          0.5937337337337338,
          0.5948248248248249,
          0.5948248248248249,
          0.595915915915916,
          0.595915915915916,
          0.5970070070070072,
          0.5970070070070072,
          0.5980980980980982,
          0.5980980980980982,
          0.5991891891891893,
          0.5991891891891893,
          0.6002802802802804,
          0.6002802802802804,
          0.6013713713713714,
          0.6013713713713714,
          0.6024624624624626,
          0.6024624624624626,
          0.6035535535535537,
          0.6035535535535537,
          0.6046446446446447,
          0.6046446446446447,
          0.6057357357357358,
          0.6057357357357358,
          0.6068268268268269,
          0.6068268268268269,
          0.607917917917918,
          0.607917917917918,
          0.6090090090090091,
          0.6090090090090091,
          0.6101001001001002,
          0.6101001001001002,
          0.6111911911911913,
          0.6111911911911913,
          0.6122822822822824,
          0.6122822822822824,
          0.6133733733733735,
          0.6133733733733735,
          0.6144644644644646,
          0.6144644644644646,
          0.6155555555555556,
          0.6155555555555556,
          0.6166466466466467,
          0.6166466466466467,
          0.6177377377377379,
          0.6177377377377379,
          0.618828828828829,
          0.618828828828829,
          0.61991991991992,
          0.61991991991992,
          0.6210110110110111,
          0.6210110110110111,
          0.6221021021021022,
          0.6221021021021022,
          0.6231931931931933,
          0.6231931931931933,
          0.6242842842842844,
          0.6242842842842844,
          0.6253753753753755,
          0.6253753753753755,
          0.6264664664664665,
          0.6264664664664665,
          0.6275575575575576,
          0.6275575575575576,
          0.6286486486486488,
          0.6286486486486488,
          0.6297397397397398,
          0.6297397397397398,
          0.6308308308308309,
          0.6308308308308309,
          0.631921921921922,
          0.631921921921922,
          0.6330130130130132,
          0.6330130130130132,
          0.6341041041041042,
          0.6341041041041042,
          0.6351951951951953,
          0.6351951951951953,
          0.6362862862862864,
          0.6362862862862864,
          0.6373773773773774,
          0.6373773773773774,
          0.6384684684684686,
          0.6384684684684686,
          0.6395595595595597,
          0.6395595595595597,
          0.6406506506506507,
          0.6406506506506507,
          0.6417417417417418,
          0.6417417417417418,
          0.6428328328328329,
          0.6428328328328329,
          0.6439239239239241,
          0.6439239239239241,
          0.6450150150150151,
          0.6450150150150151,
          0.6461061061061062,
          0.6461061061061062,
          0.6471971971971973,
          0.6471971971971973,
          0.6482882882882884,
          0.6482882882882884,
          0.6493793793793795,
          0.6493793793793795,
          0.6504704704704706,
          0.6504704704704706,
          0.6515615615615616,
          0.6515615615615616,
          0.6526526526526527,
          0.6526526526526527,
          0.6537437437437439,
          0.6537437437437439,
          0.654834834834835,
          0.654834834834835,
          0.655925925925926,
          0.655925925925926,
          0.6570170170170171,
          0.6570170170170171,
          0.6581081081081082,
          0.6581081081081082,
          0.6591991991991993,
          0.6591991991991993,
          0.6602902902902904,
          0.6602902902902904,
          0.6613813813813815,
          0.6613813813813815,
          0.6624724724724725,
          0.6624724724724725,
          0.6635635635635637,
          0.6635635635635637,
          0.6646546546546548,
          0.6646546546546548,
          0.6657457457457459,
          0.6657457457457459,
          0.6668368368368369,
          0.6668368368368369,
          0.667927927927928,
          0.667927927927928,
          0.6690190190190192,
          0.6690190190190192,
          0.6701101101101102,
          0.6701101101101102,
          0.6712012012012013,
          0.6712012012012013,
          0.6722922922922924,
          0.6722922922922924,
          0.6733833833833834,
          0.6733833833833834,
          0.6744744744744746,
          0.6744744744744746,
          0.6755655655655657,
          0.6755655655655657,
          0.6766566566566568,
          0.6766566566566568,
          0.6777477477477478,
          0.6777477477477478,
          0.678838838838839,
          0.678838838838839,
          0.6799299299299301,
          0.6799299299299301,
          0.6810210210210211,
          0.6810210210210211,
          0.6821121121121122,
          0.6821121121121122,
          0.6832032032032033,
          0.6832032032032033,
          0.6842942942942944,
          0.6842942942942944,
          0.6853853853853855,
          0.6853853853853855,
          0.6864764764764766,
          0.6864764764764766,
          0.6875675675675677,
          0.6875675675675677,
          0.6886586586586587,
          0.6886586586586587,
          0.6897497497497499,
          0.6897497497497499,
          0.690840840840841,
          0.690840840840841,
          0.691931931931932,
          0.691931931931932,
          0.6930230230230231,
          0.6930230230230231,
          0.6941141141141142,
          0.6941141141141142,
          0.6952052052052053,
          0.6952052052052053,
          0.6962962962962964,
          0.6962962962962964,
          0.6973873873873875,
          0.6973873873873875,
          0.6984784784784785,
          0.6984784784784785,
          0.6995695695695697,
          0.6995695695695697,
          0.7006606606606608,
          0.7006606606606608,
          0.7017517517517519,
          0.7017517517517519,
          0.7028428428428429,
          0.7028428428428429,
          0.703933933933934,
          0.703933933933934,
          0.7050250250250252,
          0.7050250250250252,
          0.7061161161161162,
          0.7061161161161162,
          0.7072072072072073,
          0.7072072072072073,
          0.7082982982982984,
          0.7082982982982984,
          0.7093893893893894,
          0.7093893893893894,
          0.7104804804804806,
          0.7104804804804806,
          0.7115715715715717,
          0.7115715715715717,
          0.7126626626626628,
          0.7126626626626628,
          0.7137537537537538,
          0.7137537537537538,
          0.714844844844845,
          0.714844844844845,
          0.7159359359359361,
          0.7159359359359361,
          0.7170270270270271,
          0.7170270270270271,
          0.7181181181181182,
          0.7181181181181182,
          0.7192092092092093,
          0.7192092092092093,
          0.7203003003003005,
          0.7203003003003005,
          0.7213913913913915,
          0.7213913913913915,
          0.7224824824824826,
          0.7224824824824826,
          0.7235735735735737,
          0.7235735735735737,
          0.7246646646646647,
          0.7246646646646647,
          0.7257557557557559,
          0.7257557557557559,
          0.726846846846847,
          0.726846846846847,
          0.727937937937938,
          0.727937937937938,
          0.7290290290290291,
          0.7290290290290291,
          0.7301201201201203,
          0.7301201201201203,
          0.7312112112112114,
          0.7312112112112114,
          0.7323023023023024,
          0.7323023023023024,
          0.7333933933933935,
          0.7333933933933935,
          0.7344844844844846,
          0.7344844844844846,
          0.7355755755755757,
          0.7355755755755757,
          0.7366666666666668,
          0.7366666666666668,
          0.7377577577577579,
          0.7377577577577579,
          0.7388488488488489,
          0.7388488488488489,
          0.73993993993994,
          0.73993993993994,
          0.7410310310310312,
          0.7410310310310312,
          0.7421221221221223,
          0.7421221221221223,
          0.7432132132132133,
          0.7432132132132133,
          0.7443043043043044,
          0.7443043043043044,
          0.7453953953953955,
          0.7453953953953955,
          0.7464864864864866,
          0.7464864864864866,
          0.7475775775775777,
          0.7475775775775777,
          0.7486686686686688,
          0.7486686686686688,
          0.7497597597597598,
          0.7497597597597598,
          0.750850850850851,
          0.750850850850851,
          0.7519419419419421,
          0.7519419419419421,
          0.7530330330330332,
          0.7530330330330332,
          0.7541241241241242,
          0.7541241241241242,
          0.7552152152152153,
          0.7552152152152153,
          0.7563063063063065,
          0.7563063063063065,
          0.7573973973973975,
          0.7573973973973975,
          0.7584884884884886,
          0.7584884884884886,
          0.7595795795795797,
          0.7595795795795797,
          0.7606706706706707,
          0.7606706706706707,
          0.7617617617617619,
          0.7617617617617619,
          0.762852852852853,
          0.762852852852853,
          0.763943943943944,
          0.763943943943944,
          0.7650350350350351,
          0.7650350350350351,
          0.7661261261261263,
          0.7661261261261263,
          0.7672172172172174,
          0.7672172172172174,
          0.7683083083083084,
          0.7683083083083084,
          0.7693993993993995,
          0.7693993993993995,
          0.7704904904904906,
          0.7704904904904906,
          0.7715815815815817,
          0.7715815815815817,
          0.7726726726726728,
          0.7726726726726728,
          0.7737637637637639,
          0.7737637637637639,
          0.774854854854855,
          0.774854854854855,
          0.775945945945946,
          0.775945945945946,
          0.7770370370370372,
          0.7770370370370372,
          0.7781281281281283,
          0.7781281281281283,
          0.7792192192192193,
          0.7792192192192193,
          0.7803103103103104,
          0.7803103103103104,
          0.7814014014014016,
          0.7814014014014016,
          0.7824924924924926,
          0.7824924924924926,
          0.7835835835835837,
          0.7835835835835837,
          0.7846746746746748,
          0.7846746746746748,
          0.7857657657657658,
          0.7857657657657658,
          0.786856856856857,
          0.786856856856857,
          0.7879479479479481,
          0.7879479479479481,
          0.7890390390390392,
          0.7890390390390392,
          0.7901301301301302,
          0.7901301301301302,
          0.7912212212212213,
          0.7912212212212213,
          0.7923123123123125,
          0.7923123123123125,
          0.7934034034034035,
          0.7934034034034035,
          0.7944944944944946,
          0.7944944944944946,
          0.7955855855855857,
          0.7955855855855857,
          0.7966766766766767,
          0.7966766766766767,
          0.7977677677677679,
          0.7977677677677679,
          0.798858858858859,
          0.798858858858859,
          0.7999499499499501,
          0.7999499499499501,
          0.8010410410410411,
          0.8010410410410411,
          0.8021321321321323,
          0.8021321321321323,
          0.8032232232232234,
          0.8032232232232234,
          0.8043143143143144,
          0.8043143143143144,
          0.8054054054054055,
          0.8054054054054055,
          0.8064964964964966,
          0.8064964964964966,
          0.8075875875875878,
          0.8075875875875878,
          0.8086786786786788,
          0.8086786786786788,
          0.8097697697697699,
          0.8097697697697699,
          0.810860860860861,
          0.810860860860861,
          0.811951951951952,
          0.811951951951952,
          0.8130430430430432,
          0.8130430430430432,
          0.8141341341341343,
          0.8141341341341343,
          0.8152252252252253,
          0.8152252252252253,
          0.8163163163163164,
          0.8163163163163164,
          0.8174074074074076,
          0.8174074074074076,
          0.8184984984984987,
          0.8184984984984987,
          0.8195895895895897,
          0.8195895895895897,
          0.8206806806806808,
          0.8206806806806808,
          0.8217717717717719,
          0.8217717717717719,
          0.822862862862863,
          0.822862862862863,
          0.8239539539539541,
          0.8239539539539541,
          0.8250450450450452,
          0.8250450450450452,
          0.8261361361361362,
          0.8261361361361362,
          0.8272272272272273,
          0.8272272272272273,
          0.8283183183183185,
          0.8283183183183185,
          0.8294094094094095,
          0.8294094094094095,
          0.8305005005005006,
          0.8305005005005006,
          0.8315915915915917,
          0.8315915915915917,
          0.8326826826826829,
          0.8326826826826829,
          0.8337737737737739,
          0.8337737737737739,
          0.834864864864865,
          0.834864864864865,
          0.8359559559559561,
          0.8359559559559561,
          0.8370470470470471,
          0.8370470470470471,
          0.8381381381381383,
          0.8381381381381383,
          0.8392292292292294,
          0.8392292292292294,
          0.8403203203203204,
          0.8403203203203204,
          0.8414114114114115,
          0.8414114114114115,
          0.8425025025025026,
          0.8425025025025026,
          0.8435935935935938,
          0.8435935935935938,
          0.8446846846846848,
          0.8446846846846848,
          0.8457757757757759,
          0.8457757757757759,
          0.846866866866867,
          0.846866866866867,
          0.8479579579579581,
          0.8479579579579581,
          0.8490490490490492,
          0.8490490490490492,
          0.8501401401401403,
          0.8501401401401403,
          0.8512312312312313,
          0.8512312312312313,
          0.8523223223223224,
          0.8523223223223224,
          0.8534134134134136,
          0.8534134134134136,
          0.8545045045045047,
          0.8545045045045047,
          0.8555955955955957,
          0.8555955955955957,
          0.8566866866866868,
          0.8566866866866868,
          0.8577777777777779,
          0.8577777777777779,
          0.858868868868869,
          0.858868868868869,
          0.8599599599599601,
          0.8599599599599601,
          0.8610510510510512,
          0.8610510510510512,
          0.8621421421421422,
          0.8621421421421422,
          0.8632332332332333,
          0.8632332332332333,
          0.8643243243243245,
          0.8643243243243245,
          0.8654154154154156,
          0.8654154154154156,
          0.8665065065065066,
          0.8665065065065066,
          0.8675975975975977,
          0.8675975975975977,
          0.8686886886886889,
          0.8686886886886889,
          0.8697797797797799,
          0.8697797797797799,
          0.870870870870871,
          0.870870870870871,
          0.8719619619619621,
          0.8719619619619621,
          0.8730530530530531,
          0.8730530530530531,
          0.8741441441441443,
          0.8741441441441443,
          0.8752352352352354,
          0.8752352352352354,
          0.8763263263263265,
          0.8763263263263265,
          0.8774174174174175,
          0.8774174174174175,
          0.8785085085085086,
          0.8785085085085086,
          0.8795995995995998,
          0.8795995995995998,
          0.8806906906906908,
          0.8806906906906908,
          0.8817817817817819,
          0.8817817817817819,
          0.882872872872873,
          0.882872872872873,
          0.8839639639639641,
          0.8839639639639641,
          0.8850550550550552,
          0.8850550550550552,
          0.8861461461461463,
          0.8861461461461463,
          0.8872372372372374,
          0.8872372372372374,
          0.8883283283283284,
          0.8883283283283284,
          0.8894194194194196,
          0.8894194194194196,
          0.8905105105105107,
          0.8905105105105107,
          0.8916016016016017,
          0.8916016016016017,
          0.8926926926926928,
          0.8926926926926928,
          0.8937837837837839,
          0.8937837837837839,
          0.894874874874875,
          0.894874874874875,
          0.8959659659659661,
          0.8959659659659661,
          0.8970570570570572,
          0.8970570570570572,
          0.8981481481481483,
          0.8981481481481483,
          0.8992392392392394,
          0.8992392392392394,
          0.9003303303303305,
          0.9003303303303305,
          0.9014214214214216,
          0.9014214214214216,
          0.9025125125125126,
          0.9025125125125126,
          0.9036036036036037,
          0.9036036036036037,
          0.9046946946946949,
          0.9046946946946949,
          0.905785785785786,
          0.905785785785786,
          0.906876876876877,
          0.906876876876877,
          0.9079679679679681,
          0.9079679679679681,
          0.9090590590590591,
          0.9090590590590591,
          0.9101501501501503,
          0.9101501501501503,
          0.9112412412412414,
          0.9112412412412414,
          0.9123323323323325,
          0.9123323323323325,
          0.9134234234234235,
          0.9134234234234235,
          0.9145145145145146,
          0.9145145145145146,
          0.9156056056056058,
          0.9156056056056058,
          0.9166966966966968,
          0.9166966966966968,
          0.9177877877877879,
          0.9177877877877879,
          0.918878878878879,
          0.918878878878879,
          0.9199699699699702,
          0.9199699699699702,
          0.9210610610610612,
          0.9210610610610612,
          0.9221521521521523,
          0.9221521521521523,
          0.9232432432432434,
          0.9232432432432434,
          0.9243343343343344,
          0.9243343343343344,
          0.9254254254254256,
          0.9254254254254256,
          0.9265165165165167,
          0.9265165165165167,
          0.9276076076076077,
          0.9276076076076077,
          0.9286986986986988,
          0.9286986986986988,
          0.9297897897897899,
          0.9297897897897899,
          0.9308808808808811,
          0.9308808808808811,
          0.9319719719719721,
          0.9319719719719721,
          0.9330630630630632,
          0.9330630630630632,
          0.9341541541541543,
          0.9341541541541543,
          0.9352452452452454,
          0.9352452452452454,
          0.9363363363363365,
          0.9363363363363365,
          0.9374274274274276,
          0.9374274274274276,
          0.9385185185185186,
          0.9385185185185186,
          0.9396096096096097,
          0.9396096096096097,
          0.9407007007007009,
          0.9407007007007009,
          0.941791791791792,
          0.941791791791792,
          0.942882882882883,
          0.942882882882883,
          0.9439739739739741,
          0.9439739739739741,
          0.9450650650650652,
          0.9450650650650652,
          0.9461561561561563,
          0.9461561561561563,
          0.9472472472472474,
          0.9472472472472474,
          0.9483383383383385,
          0.9483383383383385,
          0.9494294294294295,
          0.9494294294294295,
          0.9505205205205207,
          0.9505205205205207,
          0.9516116116116118,
          0.9516116116116118,
          0.9527027027027029,
          0.9527027027027029,
          0.9537937937937939,
          0.9537937937937939,
          0.954884884884885,
          0.954884884884885,
          0.9559759759759762,
          0.9559759759759762,
          0.9570670670670672,
          0.9570670670670672,
          0.9581581581581583,
          0.9581581581581583,
          0.9592492492492494,
          0.9592492492492494,
          0.9603403403403404,
          0.9603403403403404,
          0.9614314314314316,
          0.9614314314314316,
          0.9625225225225227,
          0.9625225225225227,
          0.9636136136136138,
          0.9636136136136138,
          0.9647047047047048,
          0.9647047047047048,
          0.9657957957957959,
          0.9657957957957959,
          0.9668868868868871,
          0.9668868868868871,
          0.9679779779779781,
          0.9679779779779781,
          0.9690690690690692,
          0.9690690690690692,
          0.9701601601601603,
          0.9701601601601603,
          0.9712512512512514,
          0.9712512512512514,
          0.9723423423423425,
          0.9723423423423425,
          0.9734334334334336,
          0.9734334334334336,
          0.9745245245245246,
          0.9745245245245246,
          0.9756156156156157,
          0.9756156156156157,
          0.9767067067067069,
          0.9767067067067069,
          0.977797797797798,
          0.977797797797798,
          0.978888888888889,
          0.978888888888889,
          0.9799799799799801,
          0.9799799799799801,
          0.9810710710710712,
          0.9810710710710712,
          0.9821621621621623,
          0.9821621621621623,
          0.9832532532532534,
          0.9832532532532534,
          0.9843443443443445,
          0.9843443443443445,
          0.9854354354354355,
          0.9854354354354355,
          0.9865265265265267,
          0.9865265265265267,
          0.9876176176176178,
          0.9876176176176178,
          0.9887087087087089,
          0.9887087087087089,
          0.9897997997997999,
          0.9897997997997999,
          0.990890890890891,
          0.990890890890891,
          0.9919819819819822,
          0.9919819819819822,
          0.9930730730730732,
          0.9930730730730732,
          0.9941641641641643,
          0.9941641641641643,
          0.9952552552552554,
          0.9952552552552554,
          0.9963463463463464,
          0.9963463463463464,
          0.9974374374374376,
          0.9974374374374376,
          0.9985285285285287,
          0.9985285285285287,
          0.9996196196196198,
          0.9996196196196198,
          1.0007107107107107,
          1.001801801801802,
          1.002892892892893,
          1.0039839839839841,
          1.0050750750750752,
          1.0061661661661663,
          1.0072572572572573,
          1.0083483483483484,
          1.0094394394394395,
          1.0105305305305308,
          1.0116216216216218,
          1.012712712712713,
          1.013803803803804,
          1.014894894894895,
          1.015985985985986,
          1.0170770770770772,
          1.0181681681681682,
          1.0192592592592593,
          1.0203503503503506,
          1.0214414414414417,
          1.0225325325325327,
          1.0236236236236238,
          1.0247147147147149,
          1.025805805805806,
          1.026896896896897,
          1.027987987987988,
          1.0290790790790791,
          1.0301701701701704,
          1.0312612612612615,
          1.0323523523523526,
          1.0334434434434436,
          1.0345345345345347,
          1.0356256256256258,
          1.0367167167167168,
          1.037807807807808,
          1.038898898898899,
          1.03998998998999,
          1.0410810810810813,
          1.0421721721721724,
          1.0432632632632635,
          1.0443543543543545,
          1.0454454454454456,
          1.0465365365365367,
          1.0476276276276277,
          1.0487187187187188,
          1.0498098098098099,
          1.0509009009009012,
          1.0519919919919922,
          1.0530830830830833,
          1.0541741741741744,
          1.0552652652652654,
          1.0563563563563565,
          1.0574474474474476,
          1.0585385385385386,
          1.0596296296296297,
          1.060720720720721,
          1.061811811811812,
          1.0629029029029031,
          1.0639939939939942,
          1.0650850850850853,
          1.0661761761761763,
          1.0672672672672674,
          1.0683583583583585,
          1.0694494494494495,
          1.0705405405405406,
          1.0716316316316319,
          1.072722722722723,
          1.073813813813814,
          1.074904904904905,
          1.0759959959959962,
          1.0770870870870872,
          1.0781781781781783,
          1.0792692692692694,
          1.0803603603603604,
          1.0814514514514517,
          1.0825425425425428,
          1.0836336336336339,
          1.084724724724725,
          1.085815815815816,
          1.086906906906907,
          1.0879979979979981,
          1.0890890890890892,
          1.0901801801801803,
          1.0912712712712713,
          1.0923623623623626,
          1.0934534534534537,
          1.0945445445445448,
          1.0956356356356358,
          1.0967267267267269,
          1.097817817817818,
          1.098908908908909,
          1.1
         ],
         "y": [
          0.15659439717970453,
          0.1760600781791956,
          0.15055059122756206,
          0.1822533694055098,
          0.14630372510479972,
          0.1866489470678399,
          0.1428492864871242,
          0.19025132979965592,
          0.13987158775405956,
          0.1933762114612376,
          0.13722196275657356,
          0.1961722643729999,
          0.1348162314641739,
          0.19872367466933316,
          0.13260121113894444,
          0.201083631125489,
          0.13054074311625932,
          0.20328829837777201,
          0.12860890822830848,
          0.20536360150090593,
          0.1267863687182467,
          0.2073288840947618,
          0.12505823728937868,
          0.20919903923603647,
          0.12341275942774871,
          0.21098582715651004,
          0.12184045893059935,
          0.2126987297154246,
          0.12033356186068853,
          0.21434552644598767,
          0.11888559542928956,
          0.2159326956731822,
          0.11749110092923477,
          0.2174657015815165,
          0.1161454234041677,
          0.21894920454655736,
          0.1148445543665623,
          0.22038721841768047,
          0.11358501206449644,
          0.2217832302520555,
          0.11236374888265561,
          0.22314029291438858,
          0.11117807871495355,
          0.22446109770503678,
          0.11002561927966079,
          0.2257480320456024,
          0.1089042457799567,
          0.2270032258190927,
          0.10781205329391029,
          0.22822858898063955,
          0.10674732596251131,
          0.22942584237015834,
          0.10570851153019697,
          0.23059654317250108,
          0.10469420014229987,
          0.23174210612067156,
          0.10370310655953689,
          0.2328638212820036,
          0.10273405513886086,
          0.23396286907795372,
          0.10178596707161733,
          0.23504033304657207,
          0.10085784947716682,
          0.23609721074952544,
          0.09994878603208597,
          0.2371344231435064,
          0.09905792887830739,
          0.23815282267269366,
          0.09818449160279234,
          0.2391532002896965,
          0.09732774311998187,
          0.24013629157368482,
          0.09648700231883584,
          0.24110278208392438,
          0.0956616333606023,
          0.24205331206259595,
          0.09485104153300614,
          0.24298848058116093,
          0.09405466958228066,
          0.2439088492088897,
          0.09327199445728532,
          0.24481494526928096,
          0.09250252441037607,
          0.24570726473974674,
          0.09174579640829349,
          0.2465862748412459,
          0.09100137381339943,
          0.24745241635756704,
          0.09026884430146045,
          0.24830610571806996,
          0.08954781798707559,
          0.24914773687276193,
          0.08883792573192413,
          0.24997768298454065,
          0.0881388176144504,
          0.25079629796001923,
          0.08745016154249878,
          0.2516039178373674,
          0.08677164199287189,
          0.2524008620472246,
          0.08610295886385777,
          0.25318743456065984,
          0.0854438264285644,
          0.25396392493629355,
          0.08479397237841318,
          0.2547306092772549,
          0.08415313694744347,
          0.25548775110734234,
          0.08352107210922238,
          0.25623560217455205,
          0.08289754083910726,
          0.25697440318924464,
          0.08228231643545425,
          0.2577043845033844,
          0.08167518189410489,
          0.2584257667364709,
          0.08107592933110344,
          0.2591387613532321,
          0.08048435944916552,
          0.2598435711975855,
          0.07990028104389725,
          0.2605403909868183,
          0.0793235105461938,
          0.2612294077695833,
          0.07875387159761017,
          0.2619108013509388,
          0.07819119465584627,
          0.26258474468724646,
          0.07763531662775959,
          0.26325140425353555,
          0.07708608052758562,
          0.26391094038567736,
          0.07654333515827746,
          0.26456350759941205,
          0.07600693481406799,
          0.2652092548881471,
          0.07547673900255061,
          0.2658483260012555,
          0.07495261218472626,
          0.26648085970437696,
          0.07443442353161396,
          0.2671069900231666,
          0.07392204669614301,
          0.2677268464717397,
          0.07341535959917019,
          0.26834055426701464,
          0.0729142442285604,
          0.2689482345299626,
          0.07241858645036489,
          0.26955000447475636,
          0.07192827583121554,
          0.2701459775867212,
          0.07144320547112468,
          0.2707362637898515,
          0.07096327184595722,
          0.2713209696046522,
          0.07048837465889042,
          0.2719001982970102,
          0.07001841670024377,
          0.2724740500186686,
          0.06955330371510668,
          0.27304262193989964,
          0.06909294427823255,
          0.273606008374928,
          0.06863724967572311,
          0.27416430090053817,
          0.06818613379304964,
          0.2747175884683438,
          0.06773951300900126,
          0.27526595751114075,
          0.06729730609518052,
          0.275809492043695,
          0.06685943412068997,
          0.2763482737583301,
          0.06642582036168866,
          0.2768823821156662,
          0.06599639021551308,
          0.2774118944307665,
          0.06557107111908593,
          0.27793688595499466,
          0.06514979247134596,
          0.2784574299538665,
          0.06473248555946658,
          0.27897359778108993,
          0.06431908348863224,
          0.27948545894904236,
          0.06390952111516501,
          0.2799930811959166,
          0.06350373498281005,
          0.28049653054968315,
          0.06310166326199293,
          0.28099587138907567,
          0.06270324569188575,
          0.28149116650178807,
          0.06230842352512044,
          0.2819824771399956,
          0.06191713947500457,
          0.28246986307338584,
          0.06152933766509789,
          0.28295338263981,
          0.06114496358102596,
          0.28343309279371914,
          0.060763964024406564,
          0.28390904915246246,
          0.06038628706877735,
          0.2843813060405815,
          0.06001188201741963,
          0.284849916532227,
          0.059640699362975634,
          0.2853149324917571,
          0.05927269074877161,
          0.2857764046126273,
          0.05890780893175404,
          0.28623438245468635,
          0.05854600774695978,
          0.28668891447991285,
          0.058187242073443245,
          0.2871400480866938,
          0.05783146780158351,
          0.2875878296427396,
          0.05747864180170928,
          0.2880323045166591,
          0.057128721893972674,
          0.2884735171082823,
          0.056781666819413455,
          0.2889115108778118,
          0.05643743621215338,
          0.28934632837381946,
          0.05609599057267153,
          0.2897780112601604,
          0.055757291242104885,
          0.29020660034188006,
          0.055421300377528585,
          0.29063213559011813,
          0.05508798092817115,
          0.2910546561660756,
          0.054757296612517,
          0.2914742004441115,
          0.054429211896262056,
          0.29189080603396506,
          0.05410369197107921,
          0.2923045098021643,
          0.05378070273415966,
          0.2927153478926814,
          0.05346021076849301,
          0.2931233557468173,
          0.053142183323857076,
          0.29352856812238465,
          0.05282658829848353,
          0.2939310191122243,
          0.052513394221370094,
          0.2943307421620615,
          0.05220257023521475,
          0.2947277700877384,
          0.05189408607993939,
          0.2951221350918505,
          0.051587912076783975,
          0.2955138687798303,
          0.05128401911294359,
          0.295903002175466,
          0.050982378626726665,
          0.2962895657358966,
          0.05068296259321386,
          0.2966735893661258,
          0.05038574351039371,
          0.2970551024330349,
          0.05009069438576015,
          0.2974341337789344,
          0.04979778872335006,
          0.2978107117346915,
          0.049507000511204255,
          0.29818486413241485,
          0.049218304209234204,
          0.29855661831772834,
          0.04893167473747923,
          0.2989260011616761,
          0.048647087464739815,
          0.2992930390722269,
          0.04836451819756894,
          0.2996577580054205,
          0.04808394316961314,
          0.30002018347618203,
          0.047805339031281924,
          0.3003803405687858,
          0.04752868283974241,
          0.30073825394699244,
          0.047253952049218194,
          0.301093947863901,
          0.0469811245015887,
          0.30144744617147773,
          0.04671017841726941,
          0.30179877232980334,
          0.04644109238637138,
          0.30214794941605816,
          0.046173845360122555,
          0.3024950001332257,
          0.04590841664254611,
          0.30283994681853565,
          0.045644785882383784,
          0.30318281145168274,
          0.04538293306525575,
          0.30352361566278435,
          0.0451228385060496,
          0.3038623807401112,
          0.04486448284153008,
          0.3041991276376123,
          0.044607847023159695,
          0.3045338769822106,
          0.04435291231012757,
          0.30486664908088734,
          0.04409966026257154,
          0.30519746392759156,
          0.04384807273499597,
          0.3055263412099308,
          0.04359813186987053,
          0.3058533003156933,
          0.04334982009141062,
          0.3061783603391735,
          0.043103120099525334,
          0.3065015400873493,
          0.042858014863935985,
          0.30682285808587234,
          0.042614487618452934,
          0.3071423325848896,
          0.0423725218554085,
          0.30745998156473764,
          0.042132101320240145,
          0.3077758227414622,
          0.04189321000621835,
          0.3080898735721856,
          0.04165583214931509,
          0.30840215126036086,
          0.04141995222320913,
          0.30871267276086317,
          0.041185554934421026,
          0.3090214547849522,
          0.04095262521757824,
          0.3093285138051219,
          0.040721148230799344,
          0.3096338660598107,
          0.040491109351201725,
          0.3099375275579871,
          0.04026249417052153,
          0.31023951408364175,
          0.04003528849084875,
          0.3105398412001433,
          0.03980947832046666,
          0.31083852425448893,
          0.039585049869799716,
          0.31113557838146494,
          0.039361989547461965,
          0.3114310185076859,
          0.0391402839564038,
          0.3117248593555348,
          0.0389199198901553,
          0.31201711544702576,
          0.03870088432916103,
          0.31230780110755224,
          0.03848316443720578,
          0.31259693046954684,
          0.03826674755792751,
          0.31288451747606866,
          0.03805162121141512,
          0.3131705758842892,
          0.03783777309088688,
          0.31345511926889336,
          0.03762519105945088,
          0.31373816102541796,
          0.037413863146940854,
          0.31401971437349374,
          0.03720377754682851,
          0.3142997923600203,
          0.03699492261320857,
          0.3145784078622579,
          0.036787286857853506,
          0.3148555735908655,
          0.03658085894733835,
          0.3151313020928532,
          0.036375627700232435,
          0.3154056057544638,
          0.03617158208435461,
          0.3156784968040103,
          0.035968711214094284,
          0.3159499873146278,
          0.03576700434779003,
          0.3162200892069665,
          0.03556645088517151,
          0.31648881425183895,
          0.03536704036485662,
          0.316756174072794,
          0.035168762461907845,
          0.31702218014862954,
          0.03497160698543961,
          0.3172868438158719,
          0.034775563876282715,
          0.31755017627117926,
          0.03458062320469818,
          0.31781218857369536,
          0.034386775168142744,
          0.3180728916473676,
          0.03419401008908347,
          0.3183322962831995,
          0.03400231841285903,
          0.31859041314145164,
          0.033811690705588426,
          0.318847252753819,
          0.033622117652125444,
          0.31910282552553526,
          0.03343359005405555,
          0.3193571417374414,
          0.033246098827738345,
          0.31961021154802244,
          0.03305963500238814,
          0.31986204499538773,
          0.03287418971819894,
          0.32011265199920624,
          0.032689754224506255,
          0.320362042362623,
          0.03250631987799039,
          0.32061022577411447,
          0.03232387814091368,
          0.3208572118093097,
          0.03214242057939799,
          0.3211030099327881,
          0.031961938861735636,
          0.32134762949982637,
          0.03178242475673627,
          0.3215910797581065,
          0.0316038701321078,
          0.32183336984941074,
          0.03142626695286922,
          0.3220745088112611,
          0.03124960727979689,
          0.32231450557852953,
          0.031073883267902228,
          0.32255336898503073,
          0.0308990871649397,
          0.3227911077650663,
          0.030725211309944933,
          0.3230277305549481,
          0.030552248131801837,
          0.32326324589448197,
          0.03038019014783889,
          0.32349766222843984,
          0.030209029962452345,
          0.32373098790798804,
          0.030038760265757507,
          0.32396323119208564,
          0.029869373832265525,
          0.32419440024887547,
          0.02970086351958713,
          0.3244245031570289,
          0.029533222267160507,
          0.32465354790706746,
          0.029366443095004947,
          0.32488154240267336,
          0.029200519102497352,
          0.32510849446196205,
          0.029035443467173485,
          0.3253344118187263,
          0.028871209443550993,
          0.32555930212367845,
          0.02870781036197593,
          0.3257831729456486,
          0.028545239627490157,
          0.32600603177276366,
          0.028383490718721094,
          0.3262278860136185,
          0.02822255718679153,
          0.3264487429984119,
          0.028062432654250322,
          0.3266686099800589,
          0.027903110814023115,
          0.3268874941353006,
          0.027744585428382255,
          0.3271054025657774,
          0.0275868503279358,
          0.3273223422990826,
          0.027429899410635304,
          0.32753832028981344,
          0.027273726640802017,
          0.32775334342058626,
          0.02711832604817037,
          0.32796741850303407,
          0.0269636917269491,
          0.32818055227880283,
          0.026809817834899476,
          0.32839275142051527,
          0.02665669859243032,
          0.3286040225327125,
          0.026504328281709073,
          0.32881437215279885,
          0.026352701245788437,
          0.32902380675195736,
          0.026201811887749372,
          0.32923233273604857,
          0.026051654669859016,
          0.3294399564464912,
          0.02590222411274302,
          0.3296466841611445,
          0.02575351479457341,
          0.3298525220951565,
          0.025605521350269726,
          0.3300574764018001,
          0.02545823847071506,
          0.33026155317330985,
          0.025311660901984948,
          0.33046475844168927,
          0.025165783444590382,
          0.33066709817950246,
          0.025020600952733167,
          0.3308685783006716,
          0.02487610833357495,
          0.3310692046612418,
          0.02473230054651792,
          0.331268983060135,
          0.024589172602498658,
          0.3314679192399065,
          0.02444671956329325,
          0.3316660188874739,
          0.024304936540834897,
          0.3318632876348316,
          0.024163818696542345,
          0.33205973105977304,
          0.02402336124066044,
          0.3322553546865814,
          0.02388355943161088,
          0.3324501639867119,
          0.02374440857535479,
          0.3326441643794766,
          0.023605904024764833,
          0.3328373612327043,
          0.02346804117900887,
          0.33302975986338734,
          0.023330815482942777,
          0.3332213655383367,
          0.023194222426514227,
          0.33341218347480744,
          0.023058257544175346,
          0.3336022188411171,
          0.022922916414305935,
          0.33379147675726795,
          0.022788194658645074,
          0.3339799622955448,
          0.02265408794173299,
          0.3341676804811021,
          0.022520591970361038,
          0.3343546362925594,
          0.022387702493031382,
          0.3345408346625693,
          0.022255415299424597,
          0.33472628047837866,
          0.022123726219876516,
          0.3349109785823951,
          0.021992631124862827,
          0.3350949337727288,
          0.021862125924492354,
          0.33527815080373446,
          0.02173220656800791,
          0.3354606343865364,
          0.021602869043295597,
          0.3356423891895611,
          0.021474109376401197,
          0.3358234198390474,
          0.021345923631054763,
          0.3360037309195497,
          0.02121830790820221,
          0.33618332697444325,
          0.021091258345544445,
          0.33636221250641674,
          0.02096477111708344,
          0.3365403919779466,
          0.020838842432675735,
          0.336717869811786,
          0.020713468537592247,
          0.33689465039143013,
          0.020588645712085508,
          0.33707073806157223,
          0.02046437027096293,
          0.33724613712857127,
          0.020340638563167097,
          0.3374208518608945,
          0.02021744697136198,
          0.3375948864895557,
          0.020094791911525963,
          0.33776824520856036,
          0.01997266983255043,
          0.3379409321753309,
          0.019851077215845045,
          0.3381129515111234,
          0.01973001057494833,
          0.33828430730145603,
          0.019609466455144595,
          0.33845500359651404,
          0.019489441433086344,
          0.3386250444115491,
          0.01936993211642234,
          0.338794433727289,
          0.019250935143431108,
          0.3389631754903259,
          0.01913244718265999,
          0.33913127361349826,
          0.01901446493256966,
          0.3392987319762831,
          0.01889698512118347,
          0.3394655544251672,
          0.01878000450574217,
          0.3396317447740137,
          0.018663519872363706,
          0.3397973068044377,
          0.018547528035707972,
          0.33996224426615995,
          0.01843202583864641,
          0.3401265608773659,
          0.018317010151936142,
          0.3402902603250498,
          0.018202477873899184,
          0.34045334626537005,
          0.018088425930106226,
          0.34061582232398485,
          0.017974851273064564,
          0.3407776920963837,
          0.017861750881911064,
          0.34093895914822786,
          0.017749121762108896,
          0.3410996270156734,
          0.01763696094514928,
          0.3412596992056868,
          0.017525265488256607,
          0.34141917919637427,
          0.017414032474098614,
          0.34157807043728894,
          0.017303259010499873,
          0.341736376349736,
          0.01719294223015993,
          0.34189410032708656,
          0.01708307929037483,
          0.3420512457350739,
          0.01697366737276304,
          0.3422078159120867,
          0.01686470368299481,
          0.34236381416946754,
          0.01675618545052552,
          0.3425192437918003,
          0.01664810992833245,
          0.3426741080371902,
          0.01654047439265563,
          0.34282841013755144,
          0.016433276142741676,
          0.34298215329888315,
          0.016326512500591812,
          0.3431353407015333,
          0.01622018081071254,
          0.3432879755004852,
          0.016114278439870542,
          0.3434400608256126,
          0.0160088027768502,
          0.34359159978194104,
          0.01590375123221499,
          0.3437425954499153,
          0.015799121238071565,
          0.34389305088565203,
          0.01569491024783753,
          0.3440429691211857,
          0.015591115736011907,
          0.3441923531647291,
          0.01548773519794901,
          0.34434120600091184,
          0.015384766149635019,
          0.34448953059102716,
          0.015282206127467937,
          0.3446373298732644,
          0.01518005268804,
          0.344784606762956,
          0.01507830340792344,
          0.34493136415280573,
          0.014976955883458699,
          0.34507760491311457,
          0.014876007730545707,
          0.3452233318920177,
          0.01477545658443764,
          0.3453685479157051,
          0.014675300099537733,
          0.34551325578863723,
          0.014575535949198332,
          0.3456574582937753,
          0.014476161825522981,
          0.3458011581927911,
          0.014377175439170744,
          0.3459443582262769,
          0.01427857451916331,
          0.3460870611139649,
          0.014180356812694334,
          0.34622926955493183,
          0.014082520084941612,
          0.3463709862277979,
          0.01398506211888121,
          0.34651221379094127,
          0.013887980715104437,
          0.3466529548826924,
          0.01379127369163679,
          0.3467932121215278,
          0.013694938883759467,
          0.34693298810627493,
          0.013598974143832904,
          0.3470722854163007,
          0.013503377341122898,
          0.3472111066116969,
          0.013408146361628502,
          0.34734945423347896,
          0.013313279107912546,
          0.34748733080376637,
          0.013218773498933847,
          0.3476247388259622,
          0.01312462746988191,
          0.34776168078494424,
          0.013030838972013471,
          0.3478981591472392,
          0.012937405972491172,
          0.34803417636119516,
          0.012844326454224144,
          0.34816973485716657,
          0.012751598415710715,
          0.34830483704768156,
          0.012659219870883018,
          0.3484394853276097,
          0.012567188848953548,
          0.3485736820743378,
          0.012475503394263395,
          0.3487074296479338,
          0.012384161566132649,
          0.34884073039130614,
          0.012293161438712546,
          0.3489735866303761,
          0.012202501100839314,
          0.3491060006742322,
          0.012112178655889915,
          0.34923797481529284,
          0.01202219222163944,
          0.3493695113294565,
          0.01193253993012046,
          0.34950061247626646,
          0.011843219927483734,
          0.34963128049906006,
          0.011754230373860988,
          0.34976151762511465,
          0.01166556944322895,
          0.34989132606580803,
          0.011577235323275498,
          0.3500207080167605,
          0.011489226215266829,
          0.3501496656579777,
          0.0114015403339168,
          0.3502782011540038,
          0.011314175907257367,
          0.3504063166540605,
          0.011227131176510937,
          0.35053401429218284,
          0.011140404395963883,
          0.3506612961873692,
          0.0110539938328419,
          0.35078816444371386,
          0.010967897767186574,
          0.3509146211505397,
          0.010882114491733567,
          0.35104066838254133,
          0.010796642311792075,
          0.35116630819991546,
          0.010711479545125963,
          0.35129154264848617,
          0.010626624521835932,
          0.3514163737598466,
          0.010542075584243514,
          0.35154080355148143,
          0.010457831086775888,
          0.3516648340268911,
          0.010373889395852546,
          0.35178846717572615,
          0.010290248889772879,
          0.3519117049739079,
          0.010206907958605368,
          0.3520345493837463,
          0.010123865004077777,
          0.35215700235407177,
          0.010041118439468873,
          0.35227906582035023,
          0.00995866668950119,
          0.3524007417047986,
          0.009876508190235148,
          0.35252203191651066,
          0.009794641388964248,
          0.35264293835156857,
          0.009713064744111684,
          0.35276346289315996,
          0.00963177672512786,
          0.3528836074116865,
          0.009550775812389337,
          0.3530033737648864,
          0.009470060497098653,
          0.35312276379794005,
          0.009389629281185634,
          0.35324177934357465,
          0.009309480677209348,
          0.3533604222221853,
          0.009229613208261631,
          0.3534786942419369,
          0.009150025407871349,
          0.35359659719886544,
          0.009070715819909963,
          0.3537141328769931,
          0.008991682998498014,
          0.35383130304842875,
          0.008912925507912714,
          0.35394810947346533,
          0.008834441922496475,
          0.3540645539006926,
          0.008756230826566659,
          0.35418063806709194,
          0.00867829081432604,
          0.3542963636981332,
          0.00860062048977454,
          0.3544117325078816,
          0.008523218466621744,
          0.3545267461990917,
          0.008446083368200462,
          0.3546414064632988,
          0.008369213827381166,
          0.35475571498092473,
          0.00829260848648753,
          0.35486967342136716,
          0.008216265997212674,
          0.35498328344308927,
          0.008140185020536475,
          0.3550965466937215,
          0.008064364226643762,
          0.35520946481014815,
          0.00798880229484334,
          0.35532203941859475,
          0.007913497913487921,
          0.3554342721347257,
          0.007838449779894946,
          0.35554616456372945,
          0.0077636566002682,
          0.3556577183004016,
          0.0076891170896203325,
          0.3557689349292413,
          0.007614829971696203,
          0.35587981602453056,
          0.007540793978897075,
          0.35599036315042326,
          0.007467007852205448,
          0.3561005778610233,
          0.007393470341110918,
          0.35621046170047854,
          0.007320180203536764,
          0.35632001620305104,
          0.007247136205767167,
          0.3564292428932101,
          0.0071743371223755,
          0.35653814328570615,
          0.007101781736152984,
          0.35664671888565513,
          0.007029468838038486,
          0.3567549711886103,
          0.006957397227048761,
          0.3568629016806511,
          0.006885565710209644,
          0.356970511838455,
          0.00681397310248778,
          0.3570778031293712,
          0.006742618226723225,
          0.3571847770115044,
          0.006671499913562672,
          0.3572914349337868,
          0.006600617001393363,
          0.3573977783360471,
          0.006529968336277699,
          0.3575038086490939,
          0.006459552771888609,
          0.357609527294785,
          0.006389369169445436,
          0.35771493568609364,
          0.0063194163976506455,
          0.3578200352271902,
          0.006249693332627098,
          0.357924827313507,
          0.006180198857855963,
          0.35802931333180754,
          0.006110931864115276,
          0.3581334946602613,
          0.006041891249419221,
          0.3582373726685093,
          0.0059730759189578425,
          0.35834094871772865,
          0.005904484785037655,
          0.3584442241607073,
          0.005836116767022495,
          0.35854720034190796,
          0.005767970791275326,
          0.3586498785975284,
          0.0057000457911003865,
          0.35875226025557677,
          0.005632340706686093,
          0.35885434663593135,
          0.0055648544850483705,
          0.3589561390504009,
          0.005497586079974695,
          0.35905763880279623,
          0.005430534451968624,
          0.3591588471889897,
          0.005363698568194873,
          0.35925976549697236,
          0.005297077402424958,
          0.35936039500692485,
          0.005230669934983454,
          0.35946073699127246,
          0.005164475152694652,
          0.35956079271474894,
          0.005098492048829904,
          0.3596605634344501,
          0.005032719623055315,
          0.3597600503999023,
          0.004967156881380206,
          0.3598592548531166,
          0.004901802836105754,
          0.3599581780286431,
          0.004836656505774465,
          0.36005682115363663,
          0.004771716915119917,
          0.36015518544791014,
          0.004706983095017137,
          0.3602532721239865,
          0.00464245408243342,
          0.3603510823871637,
          0.0045781289203795875,
          0.36044861743556506,
          0.004514006657861771,
          0.36054587846019126,
          0.004450086349833676,
          0.3606428666449824,
          0.004386367057149301,
          0.3607395831668677,
          0.004322847846516108,
          0.36083602919581514,
          0.004259527790448604,
          0.36093220589489255,
          0.004196405967222549,
          0.3610281144203159,
          0.004133481460829318,
          0.36112375592149704,
          0.004070753360930995,
          0.3612191315411033,
          0.004008220762815702,
          0.36131424241510496,
          0.0039458827673534815,
          0.3614090896728205,
          0.0038837384809525116,
          0.36150367443697556,
          0.003821787015515777,
          0.3615979978237496,
          0.003760027488398254,
          0.3616920609428183,
          0.0036984590223642865,
          0.3617858648974114,
          0.003637080745545554,
          0.36187941078435776,
          0.0035758917913993778,
          0.3619726996941292,
          0.0035148912986674276,
          0.3620657327108939,
          0.0034540784113348453,
          0.3621585109125597,
          0.0033934522785896777,
          0.36225103537082226,
          0.0033330120547827645,
          0.3623433071512065,
          0.0032727568993880197,
          0.36243532731311945,
          0.003212685976963006,
          0.36252709690989227,
          0.0031527984571099598,
          0.3626186169888199,
          0.0030930935144371724,
          0.3627098885912148,
          0.0030335703285206566,
          0.3628009127524455,
          0.0029742280838662497,
          0.3628916905019774,
          0.0029150659698720773,
          0.36298222286342285,
          0.002856083180791294,
          0.3630725108545811,
          0.0027972789156952586,
          0.3631625554874753,
          0.002738652378436949,
          0.36325235776840387,
          0.002680202777614887,
          0.3633419186979772,
          0.00262192932653714,
          0.3634312392711555,
          0.0025638312431859106,
          0.3635203204772971,
          0.0025059077501822895,
          0.3636091633001957,
          0.002448158074751405,
          0.3636977687181157,
          0.0023905814486879077,
          0.36378613770384094,
          0.0023331771083216733,
          0.3638742712247092,
          0.002275944294483918,
          0.36396217024264826,
          0.002218882252473608,
          0.3640498357142216,
          0.0021619902320241264,
          0.36413726859066414,
          0.002105267487270291,
          0.36422446981791473,
          0.0020487132767156944,
          0.3643114403366635,
          0.0019923268632002326,
          0.364398181082384,
          0.001936107513868036,
          0.364484692985367,
          0.001880054500135667,
          0.36457097697076496,
          0.0018241670976605626,
          0.3646570339586248,
          0.0017684445863098176,
          0.3647428648639193,
          0.0017128862501291874,
          0.3648284705965919,
          0.0016574913773124607,
          0.36491385206158583,
          0.0016022592601709748,
          0.3649990101588829,
          0.001547189195103552,
          0.3650839457835323,
          0.001492280482566571,
          0.3651686598256938,
          0.001437532427044409,
          0.3652531531706669,
          0.0013829443370200725,
          0.3653374266989233,
          0.0013285155249461622,
          0.3654214812861456,
          0.0012742453072160048,
          0.36550531780325757,
          0.0012201330041351289,
          0.3655889371164553,
          0.001166177939892932,
          0.3656723400872455,
          0.0011123794425346334,
          0.365755527572475,
          0.0010587368439334654,
          0.3658385004243593,
          0.0010052494797630905,
          0.36592125949052207,
          0.0009519166894702826,
          0.3660038056140235,
          0.0008987378162478496,
          0.3660861396333868,
          0.0008457122070077674,
          0.36616826238263855,
          0.0007928392123545992,
          0.36625017469133453,
          0.0007401181865590727,
          0.3663318773845873,
          0.00068754848753196,
          0.36641337128310386,
          0.0006351294767981336,
          0.3664946572032124,
          0.0005828605194708986,
          0.36657573595688775,
          0.0005307409842264776,
          0.36665660835178937,
          0.0004787702432787842,
          0.3667372751912864,
          0.0004269476723543755,
          0.36681773727448325,
          0.0003752726506676293,
          0.3668979953962561,
          0.00032374456089615905,
          0.3669780503472777,
          0.000272362789156387,
          0.36705790291404183,
          0.00022112672497937843,
          0.3671375538788996,
          0.00017003576128686004,
          0.3672170040200821,
          0.00011908929436744273,
          0.3672962541117301,
          6.828672385307083e-05,
          0.3673753049239175,
          1.7627452695624536e-05,
          0.3674541572226852,
          0.3675328117700654,
          0.3676112693241034,
          0.367689530638893,
          0.3677675964645981,
          0.36784546754747593,
          0.36792314462990966,
          0.3680006284504311,
          0.3680779197437426,
          0.36815501924074956,
          0.36823192766858037,
          0.36830864575061056,
          0.3683851742064926,
          0.3684615137521776,
          0.3685376650999364,
          0.3686136289583897,
          0.3686894060325294,
          0.3687649970237384,
          0.36884040262982104,
          0.3689156235450242,
          0.3689906604600537,
          0.36906551406210925,
          0.3691401850348994,
          0.36921467405866265,
          0.36928898181019637,
          0.36936310896287616,
          0.3694370561866733,
          0.3695108241481849,
          0.3695844135106502,
          0.369657824933975,
          0.36973105907474724,
          0.36980411658626705,
          0.36987699811856267,
          0.36994970431840873,
          0.3700222358293536,
          0.37009459329173694,
          0.3701667773427057,
          0.37023878861624243,
          0.37031062774318124,
          0.37038229535122424,
          0.3704537920649686,
          0.3705251185059226,
          0.37059627529252115,
          0.370667263040153,
          0.3707380823611759,
          0.37080873386493146,
          0.3708792181577727,
          0.37094953584307766,
          0.37101968752126513,
          0.37108967378982055,
          0.3711594952433102,
          0.37122915247339544,
          0.37129864606886015,
          0.3713679766156207,
          0.3714371446967452,
          0.3715061508924745,
          0.37157499578023684,
          0.37164367993466657,
          0.3717122039276172,
          0.37178056832818585,
          0.37184877370272584,
          0.3719168206148605,
          0.3719847096255073,
          0.37205244129288995,
          0.3721200161725524,
          0.37218743481738126,
          0.37225469777761955,
          0.3723218056008779,
          0.3723887588321592,
          0.37245555801386954,
          0.3725222036858312,
          0.372588696385305,
          0.3726550366470027,
          0.3727212250030981,
          0.37278726198325035,
          0.3728531481146146,
          0.37291888392185446,
          0.37298446992716316,
          0.3730499066502756,
          0.3731151946084789,
          0.3731803343166347,
          0.3732453262871896,
          0.3733101710301863,
          0.37337486905328493,
          0.3734394208617739,
          0.37350382695857987,
          0.37356808784428974,
          0.3736322040171588,
          0.3736961759731279,
          0.3737600042058312,
          0.3738236892066184,
          0.3738872314645628,
          0.37395063146647395
         ]
        }
       ],
       "layout": {
        "height": 500,
        "margin": {
         "b": 20,
         "l": 50,
         "r": 20,
         "t": 50
        },
        "paper_bgcolor": "#DDE1E2",
        "plot_bgcolor": "#FFFFFF",
        "template": {
         "data": {
          "bar": [
           {
            "error_x": {
             "color": "#2a3f5f"
            },
            "error_y": {
             "color": "#2a3f5f"
            },
            "marker": {
             "line": {
              "color": "#E5ECF6",
              "width": 0.5
             },
             "pattern": {
              "fillmode": "overlay",
              "size": 10,
              "solidity": 0.2
             }
            },
            "type": "bar"
           }
          ],
          "barpolar": [
           {
            "marker": {
             "line": {
              "color": "#E5ECF6",
              "width": 0.5
             },
             "pattern": {
              "fillmode": "overlay",
              "size": 10,
              "solidity": 0.2
             }
            },
            "type": "barpolar"
           }
          ],
          "carpet": [
           {
            "aaxis": {
             "endlinecolor": "#2a3f5f",
             "gridcolor": "white",
             "linecolor": "white",
             "minorgridcolor": "white",
             "startlinecolor": "#2a3f5f"
            },
            "baxis": {
             "endlinecolor": "#2a3f5f",
             "gridcolor": "white",
             "linecolor": "white",
             "minorgridcolor": "white",
             "startlinecolor": "#2a3f5f"
            },
            "type": "carpet"
           }
          ],
          "choropleth": [
           {
            "colorbar": {
             "outlinewidth": 0,
             "ticks": ""
            },
            "type": "choropleth"
           }
          ],
          "contour": [
           {
            "colorbar": {
             "outlinewidth": 0,
             "ticks": ""
            },
            "colorscale": [
             [
              0,
              "#0d0887"
             ],
             [
              0.1111111111111111,
              "#46039f"
             ],
             [
              0.2222222222222222,
              "#7201a8"
             ],
             [
              0.3333333333333333,
              "#9c179e"
             ],
             [
              0.4444444444444444,
              "#bd3786"
             ],
             [
              0.5555555555555556,
              "#d8576b"
             ],
             [
              0.6666666666666666,
              "#ed7953"
             ],
             [
              0.7777777777777778,
              "#fb9f3a"
             ],
             [
              0.8888888888888888,
              "#fdca26"
             ],
             [
              1,
              "#f0f921"
             ]
            ],
            "type": "contour"
           }
          ],
          "contourcarpet": [
           {
            "colorbar": {
             "outlinewidth": 0,
             "ticks": ""
            },
            "type": "contourcarpet"
           }
          ],
          "heatmap": [
           {
            "colorbar": {
             "outlinewidth": 0,
             "ticks": ""
            },
            "colorscale": [
             [
              0,
              "#0d0887"
             ],
             [
              0.1111111111111111,
              "#46039f"
             ],
             [
              0.2222222222222222,
              "#7201a8"
             ],
             [
              0.3333333333333333,
              "#9c179e"
             ],
             [
              0.4444444444444444,
              "#bd3786"
             ],
             [
              0.5555555555555556,
              "#d8576b"
             ],
             [
              0.6666666666666666,
              "#ed7953"
             ],
             [
              0.7777777777777778,
              "#fb9f3a"
             ],
             [
              0.8888888888888888,
              "#fdca26"
             ],
             [
              1,
              "#f0f921"
             ]
            ],
            "type": "heatmap"
           }
          ],
          "heatmapgl": [
           {
            "colorbar": {
             "outlinewidth": 0,
             "ticks": ""
            },
            "colorscale": [
             [
              0,
              "#0d0887"
             ],
             [
              0.1111111111111111,
              "#46039f"
             ],
             [
              0.2222222222222222,
              "#7201a8"
             ],
             [
              0.3333333333333333,
              "#9c179e"
             ],
             [
              0.4444444444444444,
              "#bd3786"
             ],
             [
              0.5555555555555556,
              "#d8576b"
             ],
             [
              0.6666666666666666,
              "#ed7953"
             ],
             [
              0.7777777777777778,
              "#fb9f3a"
             ],
             [
              0.8888888888888888,
              "#fdca26"
             ],
             [
              1,
              "#f0f921"
             ]
            ],
            "type": "heatmapgl"
           }
          ],
          "histogram": [
           {
            "marker": {
             "pattern": {
              "fillmode": "overlay",
              "size": 10,
              "solidity": 0.2
             }
            },
            "type": "histogram"
           }
          ],
          "histogram2d": [
           {
            "colorbar": {
             "outlinewidth": 0,
             "ticks": ""
            },
            "colorscale": [
             [
              0,
              "#0d0887"
             ],
             [
              0.1111111111111111,
              "#46039f"
             ],
             [
              0.2222222222222222,
              "#7201a8"
             ],
             [
              0.3333333333333333,
              "#9c179e"
             ],
             [
              0.4444444444444444,
              "#bd3786"
             ],
             [
              0.5555555555555556,
              "#d8576b"
             ],
             [
              0.6666666666666666,
              "#ed7953"
             ],
             [
              0.7777777777777778,
              "#fb9f3a"
             ],
             [
              0.8888888888888888,
              "#fdca26"
             ],
             [
              1,
              "#f0f921"
             ]
            ],
            "type": "histogram2d"
           }
          ],
          "histogram2dcontour": [
           {
            "colorbar": {
             "outlinewidth": 0,
             "ticks": ""
            },
            "colorscale": [
             [
              0,
              "#0d0887"
             ],
             [
              0.1111111111111111,
              "#46039f"
             ],
             [
              0.2222222222222222,
              "#7201a8"
             ],
             [
              0.3333333333333333,
              "#9c179e"
             ],
             [
              0.4444444444444444,
              "#bd3786"
             ],
             [
              0.5555555555555556,
              "#d8576b"
             ],
             [
              0.6666666666666666,
              "#ed7953"
             ],
             [
              0.7777777777777778,
              "#fb9f3a"
             ],
             [
              0.8888888888888888,
              "#fdca26"
             ],
             [
              1,
              "#f0f921"
             ]
            ],
            "type": "histogram2dcontour"
           }
          ],
          "mesh3d": [
           {
            "colorbar": {
             "outlinewidth": 0,
             "ticks": ""
            },
            "type": "mesh3d"
           }
          ],
          "parcoords": [
           {
            "line": {
             "colorbar": {
              "outlinewidth": 0,
              "ticks": ""
             }
            },
            "type": "parcoords"
           }
          ],
          "pie": [
           {
            "automargin": true,
            "type": "pie"
           }
          ],
          "scatter": [
           {
            "marker": {
             "colorbar": {
              "outlinewidth": 0,
              "ticks": ""
             }
            },
            "type": "scatter"
           }
          ],
          "scatter3d": [
           {
            "line": {
             "colorbar": {
              "outlinewidth": 0,
              "ticks": ""
             }
            },
            "marker": {
             "colorbar": {
              "outlinewidth": 0,
              "ticks": ""
             }
            },
            "type": "scatter3d"
           }
          ],
          "scattercarpet": [
           {
            "marker": {
             "colorbar": {
              "outlinewidth": 0,
              "ticks": ""
             }
            },
            "type": "scattercarpet"
           }
          ],
          "scattergeo": [
           {
            "marker": {
             "colorbar": {
              "outlinewidth": 0,
              "ticks": ""
             }
            },
            "type": "scattergeo"
           }
          ],
          "scattergl": [
           {
            "marker": {
             "colorbar": {
              "outlinewidth": 0,
              "ticks": ""
             }
            },
            "type": "scattergl"
           }
          ],
          "scattermapbox": [
           {
            "marker": {
             "colorbar": {
              "outlinewidth": 0,
              "ticks": ""
             }
            },
            "type": "scattermapbox"
           }
          ],
          "scatterpolar": [
           {
            "marker": {
             "colorbar": {
              "outlinewidth": 0,
              "ticks": ""
             }
            },
            "type": "scatterpolar"
           }
          ],
          "scatterpolargl": [
           {
            "marker": {
             "colorbar": {
              "outlinewidth": 0,
              "ticks": ""
             }
            },
            "type": "scatterpolargl"
           }
          ],
          "scatterternary": [
           {
            "marker": {
             "colorbar": {
              "outlinewidth": 0,
              "ticks": ""
             }
            },
            "type": "scatterternary"
           }
          ],
          "surface": [
           {
            "colorbar": {
             "outlinewidth": 0,
             "ticks": ""
            },
            "colorscale": [
             [
              0,
              "#0d0887"
             ],
             [
              0.1111111111111111,
              "#46039f"
             ],
             [
              0.2222222222222222,
              "#7201a8"
             ],
             [
              0.3333333333333333,
              "#9c179e"
             ],
             [
              0.4444444444444444,
              "#bd3786"
             ],
             [
              0.5555555555555556,
              "#d8576b"
             ],
             [
              0.6666666666666666,
              "#ed7953"
             ],
             [
              0.7777777777777778,
              "#fb9f3a"
             ],
             [
              0.8888888888888888,
              "#fdca26"
             ],
             [
              1,
              "#f0f921"
             ]
            ],
            "type": "surface"
           }
          ],
          "table": [
           {
            "cells": {
             "fill": {
              "color": "#EBF0F8"
             },
             "line": {
              "color": "white"
             }
            },
            "header": {
             "fill": {
              "color": "#C8D4E3"
             },
             "line": {
              "color": "white"
             }
            },
            "type": "table"
           }
          ]
         },
         "layout": {
          "annotationdefaults": {
           "arrowcolor": "#2a3f5f",
           "arrowhead": 0,
           "arrowwidth": 1
          },
          "autotypenumbers": "strict",
          "coloraxis": {
           "colorbar": {
            "outlinewidth": 0,
            "ticks": ""
           }
          },
          "colorscale": {
           "diverging": [
            [
             0,
             "#8e0152"
            ],
            [
             0.1,
             "#c51b7d"
            ],
            [
             0.2,
             "#de77ae"
            ],
            [
             0.3,
             "#f1b6da"
            ],
            [
             0.4,
             "#fde0ef"
            ],
            [
             0.5,
             "#f7f7f7"
            ],
            [
             0.6,
             "#e6f5d0"
            ],
            [
             0.7,
             "#b8e186"
            ],
            [
             0.8,
             "#7fbc41"
            ],
            [
             0.9,
             "#4d9221"
            ],
            [
             1,
             "#276419"
            ]
           ],
           "sequential": [
            [
             0,
             "#0d0887"
            ],
            [
             0.1111111111111111,
             "#46039f"
            ],
            [
             0.2222222222222222,
             "#7201a8"
            ],
            [
             0.3333333333333333,
             "#9c179e"
            ],
            [
             0.4444444444444444,
             "#bd3786"
            ],
            [
             0.5555555555555556,
             "#d8576b"
            ],
            [
             0.6666666666666666,
             "#ed7953"
            ],
            [
             0.7777777777777778,
             "#fb9f3a"
            ],
            [
             0.8888888888888888,
             "#fdca26"
            ],
            [
             1,
             "#f0f921"
            ]
           ],
           "sequentialminus": [
            [
             0,
             "#0d0887"
            ],
            [
             0.1111111111111111,
             "#46039f"
            ],
            [
             0.2222222222222222,
             "#7201a8"
            ],
            [
             0.3333333333333333,
             "#9c179e"
            ],
            [
             0.4444444444444444,
             "#bd3786"
            ],
            [
             0.5555555555555556,
             "#d8576b"
            ],
            [
             0.6666666666666666,
             "#ed7953"
            ],
            [
             0.7777777777777778,
             "#fb9f3a"
            ],
            [
             0.8888888888888888,
             "#fdca26"
            ],
            [
             1,
             "#f0f921"
            ]
           ]
          },
          "colorway": [
           "#636efa",
           "#EF553B",
           "#00cc96",
           "#ab63fa",
           "#FFA15A",
           "#19d3f3",
           "#FF6692",
           "#B6E880",
           "#FF97FF",
           "#FECB52"
          ],
          "font": {
           "color": "#2a3f5f"
          },
          "geo": {
           "bgcolor": "white",
           "lakecolor": "white",
           "landcolor": "#E5ECF6",
           "showlakes": true,
           "showland": true,
           "subunitcolor": "white"
          },
          "hoverlabel": {
           "align": "left"
          },
          "hovermode": "closest",
          "mapbox": {
           "style": "light"
          },
          "paper_bgcolor": "white",
          "plot_bgcolor": "#E5ECF6",
          "polar": {
           "angularaxis": {
            "gridcolor": "white",
            "linecolor": "white",
            "ticks": ""
           },
           "bgcolor": "#E5ECF6",
           "radialaxis": {
            "gridcolor": "white",
            "linecolor": "white",
            "ticks": ""
           }
          },
          "scene": {
           "xaxis": {
            "backgroundcolor": "#E5ECF6",
            "gridcolor": "white",
            "gridwidth": 2,
            "linecolor": "white",
            "showbackground": true,
            "ticks": "",
            "zerolinecolor": "white"
           },
           "yaxis": {
            "backgroundcolor": "#E5ECF6",
            "gridcolor": "white",
            "gridwidth": 2,
            "linecolor": "white",
            "showbackground": true,
            "ticks": "",
            "zerolinecolor": "white"
           },
           "zaxis": {
            "backgroundcolor": "#E5ECF6",
            "gridcolor": "white",
            "gridwidth": 2,
            "linecolor": "white",
            "showbackground": true,
            "ticks": "",
            "zerolinecolor": "white"
           }
          },
          "shapedefaults": {
           "line": {
            "color": "#2a3f5f"
           }
          },
          "ternary": {
           "aaxis": {
            "gridcolor": "white",
            "linecolor": "white",
            "ticks": ""
           },
           "baxis": {
            "gridcolor": "white",
            "linecolor": "white",
            "ticks": ""
           },
           "bgcolor": "#E5ECF6",
           "caxis": {
            "gridcolor": "white",
            "linecolor": "white",
            "ticks": ""
           }
          },
          "title": {
           "x": 0.05
          },
          "xaxis": {
           "automargin": true,
           "gridcolor": "white",
           "linecolor": "white",
           "ticks": "",
           "title": {
            "standoff": 15
           },
           "zerolinecolor": "white",
           "zerolinewidth": 2
          },
          "yaxis": {
           "automargin": true,
           "gridcolor": "white",
           "linecolor": "white",
           "ticks": "",
           "title": {
            "standoff": 15
           },
           "zerolinecolor": "white",
           "zerolinewidth": 2
          }
         }
        },
        "title": {
         "text": "$\\text{Using} \\frac{C^i}{C^s} = 0.8 \\text{ and } \\frac{C^z}{C^s} = 0.3$"
        },
        "width": 600,
        "xaxis": {
         "autorange": true,
         "range": [
          0.3536355569778606,
          1.1491572358149325
         ],
         "type": "linear"
        },
        "yaxis": {
         "autorange": true,
         "range": [
          -0.027826281231695445,
          0.401794540150865
         ],
         "type": "linear"
        }
       }
      },
      "image/png": "[encoded data removed]",
      "text/html": [
       "<div>                            <div id=\"207e30fa-2137-4263-9bf3-364099065df4\" class=\"plotly-graph-div\" style=\"height:500px; width:600px;\"></div>            <script type=\"text/javascript\">                require([\"plotly\"], function(Plotly) {                    window.PLOTLYENV=window.PLOTLYENV || {};                                    if (document.getElementById(\"207e30fa-2137-4263-9bf3-364099065df4\")) {                    Plotly.newPlot(                        \"207e30fa-2137-4263-9bf3-364099065df4\",                        [{\"marker\":{\"color\":\"rgba(152, 0, 0, .8)\",\"line\":{\"width\":2},\"size\":10},\"mode\":\"markers\",\"x\":[0.40279279279279284,0.40279279279279284,0.40388388388388397,0.40388388388388397,0.40497497497497503,0.40497497497497503,0.40606606606606616,0.40606606606606616,0.4071571571571572,0.4071571571571572,0.4082482482482483,0.4082482482482483,0.4093393393393394,0.4093393393393394,0.4104304304304305,0.4104304304304305,0.4115215215215216,0.4115215215215216,0.4126126126126127,0.4126126126126127,0.4137037037037038,0.4137037037037038,0.41479479479479486,0.41479479479479486,0.41588588588588593,0.41588588588588593,0.41697697697697705,0.41697697697697705,0.4180680680680681,0.4180680680680681,0.41915915915915924,0.41915915915915924,0.4202502502502503,0.4202502502502503,0.42134134134134144,0.42134134134134144,0.4224324324324325,0.4224324324324325,0.42352352352352357,0.42352352352352357,0.4246146146146147,0.4246146146146147,0.42570570570570576,0.42570570570570576,0.4267967967967969,0.4267967967967969,0.42788788788788795,0.42788788788788795,0.4289789789789791,0.4289789789789791,0.43007007007007014,0.43007007007007014,0.4311611611611612,0.4311611611611612,0.43225225225225233,0.43225225225225233,0.4333433433433434,0.4333433433433434,0.4344344344344345,0.4344344344344345,0.4355255255255256,0.4355255255255256,0.43661661661661666,0.43661661661661666,0.4377077077077078,0.4377077077077078,0.43879879879879885,0.43879879879879885,0.43988988988989,0.43988988988989,0.44098098098098104,0.44098098098098104,0.44207207207207216,0.44207207207207216,0.44316316316316323,0.44316316316316323,0.4442542542542543,0.4442542542542543,0.4453453453453454,0.4453453453453454,0.4464364364364365,0.4464364364364365,0.4475275275275276,0.4475275275275276,0.4486186186186187,0.4486186186186187,0.4497097097097098,0.4497097097097098,0.45080080080080087,0.45080080080080087,0.45189189189189194,0.45189189189189194,0.45298298298298306,0.45298298298298306,0.45407407407407413,0.45407407407407413,0.45516516516516525,0.45516516516516525,0.4562562562562563,0.4562562562562563,0.45734734734734744,0.45734734734734744,0.4584384384384385,0.4584384384384385,0.4595295295295296,0.4595295295295296,0.4606206206206207,0.4606206206206207,0.46171171171171177,0.46171171171171177,0.4628028028028029,0.4628028028028029,0.46389389389389396,0.46389389389389396,0.4649849849849851,0.4649849849849851,0.46607607607607615,0.46607607607607615,0.4671671671671672,0.4671671671671672,0.46825825825825834,0.46825825825825834,0.4693493493493494,0.4693493493493494,0.47044044044044053,0.47044044044044053,0.4715315315315316,0.4715315315315316,0.4726226226226227,0.4726226226226227,0.4737137137137138,0.4737137137137138,0.47480480480480486,0.47480480480480486,0.475895895895896,0.475895895895896,0.47698698698698705,0.47698698698698705,0.4780780780780782,0.4780780780780782,0.47916916916916924,0.47916916916916924,0.48026026026026036,0.48026026026026036,0.48135135135135143,0.48135135135135143,0.4824424424424425,0.4824424424424425,0.4835335335335336,0.4835335335335336,0.4846246246246247,0.4846246246246247,0.4857157157157158,0.4857157157157158,0.4868068068068069,0.4868068068068069,0.48789789789789795,0.48789789789789795,0.48898898898898907,0.48898898898898907,0.49008008008008014,0.49008008008008014,0.49117117117117126,0.49117117117117126,0.49226226226226233,0.49226226226226233,0.49335335335335345,0.49335335335335345,0.4944444444444445,0.4944444444444445,0.4955355355355356,0.4955355355355356,0.4966266266266267,0.4966266266266267,0.4977177177177178,0.4977177177177178,0.4988088088088089,0.4988088088088089,0.49989989989989997,0.49989989989989997,0.5009909909909911,0.5009909909909911,0.5020820820820822,0.5020820820820822,0.5031731731731732,0.5031731731731732,0.5042642642642643,0.5042642642642643,0.5053553553553554,0.5053553553553554,0.5064464464464465,0.5064464464464465,0.5075375375375376,0.5075375375375376,0.5086286286286287,0.5086286286286287,0.5097197197197197,0.5097197197197197,0.5108108108108109,0.5108108108108109,0.511901901901902,0.511901901901902,0.5129929929929931,0.5129929929929931,0.5140840840840841,0.5140840840840841,0.5151751751751753,0.5151751751751753,0.5162662662662664,0.5162662662662664,0.5173573573573574,0.5173573573573574,0.5184484484484485,0.5184484484484485,0.5195395395395396,0.5195395395395396,0.5206306306306308,0.5206306306306308,0.5217217217217218,0.5217217217217218,0.5228128128128129,0.5228128128128129,0.523903903903904,0.523903903903904,0.524994994994995,0.524994994994995,0.5260860860860862,0.5260860860860862,0.5271771771771773,0.5271771771771773,0.5282682682682683,0.5282682682682683,0.5293593593593594,0.5293593593593594,0.5304504504504506,0.5304504504504506,0.5315415415415417,0.5315415415415417,0.5326326326326327,0.5326326326326327,0.5337237237237238,0.5337237237237238,0.5348148148148149,0.5348148148148149,0.535905905905906,0.535905905905906,0.5369969969969971,0.5369969969969971,0.5380880880880882,0.5380880880880882,0.5391791791791792,0.5391791791791792,0.5402702702702703,0.5402702702702703,0.5413613613613615,0.5413613613613615,0.5424524524524525,0.5424524524524525,0.5435435435435436,0.5435435435435436,0.5446346346346347,0.5446346346346347,0.5457257257257259,0.5457257257257259,0.5468168168168169,0.5468168168168169,0.547907907907908,0.547907907907908,0.5489989989989991,0.5489989989989991,0.5500900900900901,0.5500900900900901,0.5511811811811813,0.5511811811811813,0.5522722722722724,0.5522722722722724,0.5533633633633634,0.5533633633633634,0.5544544544544545,0.5544544544544545,0.5555455455455456,0.5555455455455456,0.5566366366366368,0.5566366366366368,0.5577277277277278,0.5577277277277278,0.5588188188188189,0.5588188188188189,0.55990990990991,0.55990990990991,0.5610010010010011,0.5610010010010011,0.5620920920920922,0.5620920920920922,0.5631831831831833,0.5631831831831833,0.5642742742742743,0.5642742742742743,0.5653653653653654,0.5653653653653654,0.5664564564564566,0.5664564564564566,0.5675475475475477,0.5675475475475477,0.5686386386386387,0.5686386386386387,0.5697297297297298,0.5697297297297298,0.5708208208208209,0.5708208208208209,0.571911911911912,0.571911911911912,0.5730030030030031,0.5730030030030031,0.5740940940940942,0.5740940940940942,0.5751851851851852,0.5751851851851852,0.5762762762762763,0.5762762762762763,0.5773673673673675,0.5773673673673675,0.5784584584584586,0.5784584584584586,0.5795495495495496,0.5795495495495496,0.5806406406406407,0.5806406406406407,0.5817317317317319,0.5817317317317319,0.5828228228228229,0.5828228228228229,0.583913913913914,0.583913913913914,0.5850050050050051,0.5850050050050051,0.5860960960960961,0.5860960960960961,0.5871871871871873,0.5871871871871873,0.5882782782782784,0.5882782782782784,0.5893693693693695,0.5893693693693695,0.5904604604604605,0.5904604604604605,0.5915515515515516,0.5915515515515516,0.5926426426426428,0.5926426426426428,0.5937337337337338,0.5937337337337338,0.5948248248248249,0.5948248248248249,0.595915915915916,0.595915915915916,0.5970070070070072,0.5970070070070072,0.5980980980980982,0.5980980980980982,0.5991891891891893,0.5991891891891893,0.6002802802802804,0.6002802802802804,0.6013713713713714,0.6013713713713714,0.6024624624624626,0.6024624624624626,0.6035535535535537,0.6035535535535537,0.6046446446446447,0.6046446446446447,0.6057357357357358,0.6057357357357358,0.6068268268268269,0.6068268268268269,0.607917917917918,0.607917917917918,0.6090090090090091,0.6090090090090091,0.6101001001001002,0.6101001001001002,0.6111911911911913,0.6111911911911913,0.6122822822822824,0.6122822822822824,0.6133733733733735,0.6133733733733735,0.6144644644644646,0.6144644644644646,0.6155555555555556,0.6155555555555556,0.6166466466466467,0.6166466466466467,0.6177377377377379,0.6177377377377379,0.618828828828829,0.618828828828829,0.61991991991992,0.61991991991992,0.6210110110110111,0.6210110110110111,0.6221021021021022,0.6221021021021022,0.6231931931931933,0.6231931931931933,0.6242842842842844,0.6242842842842844,0.6253753753753755,0.6253753753753755,0.6264664664664665,0.6264664664664665,0.6275575575575576,0.6275575575575576,0.6286486486486488,0.6286486486486488,0.6297397397397398,0.6297397397397398,0.6308308308308309,0.6308308308308309,0.631921921921922,0.631921921921922,0.6330130130130132,0.6330130130130132,0.6341041041041042,0.6341041041041042,0.6351951951951953,0.6351951951951953,0.6362862862862864,0.6362862862862864,0.6373773773773774,0.6373773773773774,0.6384684684684686,0.6384684684684686,0.6395595595595597,0.6395595595595597,0.6406506506506507,0.6406506506506507,0.6417417417417418,0.6417417417417418,0.6428328328328329,0.6428328328328329,0.6439239239239241,0.6439239239239241,0.6450150150150151,0.6450150150150151,0.6461061061061062,0.6461061061061062,0.6471971971971973,0.6471971971971973,0.6482882882882884,0.6482882882882884,0.6493793793793795,0.6493793793793795,0.6504704704704706,0.6504704704704706,0.6515615615615616,0.6515615615615616,0.6526526526526527,0.6526526526526527,0.6537437437437439,0.6537437437437439,0.654834834834835,0.654834834834835,0.655925925925926,0.655925925925926,0.6570170170170171,0.6570170170170171,0.6581081081081082,0.6581081081081082,0.6591991991991993,0.6591991991991993,0.6602902902902904,0.6602902902902904,0.6613813813813815,0.6613813813813815,0.6624724724724725,0.6624724724724725,0.6635635635635637,0.6635635635635637,0.6646546546546548,0.6646546546546548,0.6657457457457459,0.6657457457457459,0.6668368368368369,0.6668368368368369,0.667927927927928,0.667927927927928,0.6690190190190192,0.6690190190190192,0.6701101101101102,0.6701101101101102,0.6712012012012013,0.6712012012012013,0.6722922922922924,0.6722922922922924,0.6733833833833834,0.6733833833833834,0.6744744744744746,0.6744744744744746,0.6755655655655657,0.6755655655655657,0.6766566566566568,0.6766566566566568,0.6777477477477478,0.6777477477477478,0.678838838838839,0.678838838838839,0.6799299299299301,0.6799299299299301,0.6810210210210211,0.6810210210210211,0.6821121121121122,0.6821121121121122,0.6832032032032033,0.6832032032032033,0.6842942942942944,0.6842942942942944,0.6853853853853855,0.6853853853853855,0.6864764764764766,0.6864764764764766,0.6875675675675677,0.6875675675675677,0.6886586586586587,0.6886586586586587,0.6897497497497499,0.6897497497497499,0.690840840840841,0.690840840840841,0.691931931931932,0.691931931931932,0.6930230230230231,0.6930230230230231,0.6941141141141142,0.6941141141141142,0.6952052052052053,0.6952052052052053,0.6962962962962964,0.6962962962962964,0.6973873873873875,0.6973873873873875,0.6984784784784785,0.6984784784784785,0.6995695695695697,0.6995695695695697,0.7006606606606608,0.7006606606606608,0.7017517517517519,0.7017517517517519,0.7028428428428429,0.7028428428428429,0.703933933933934,0.703933933933934,0.7050250250250252,0.7050250250250252,0.7061161161161162,0.7061161161161162,0.7072072072072073,0.7072072072072073,0.7082982982982984,0.7082982982982984,0.7093893893893894,0.7093893893893894,0.7104804804804806,0.7104804804804806,0.7115715715715717,0.7115715715715717,0.7126626626626628,0.7126626626626628,0.7137537537537538,0.7137537537537538,0.714844844844845,0.714844844844845,0.7159359359359361,0.7159359359359361,0.7170270270270271,0.7170270270270271,0.7181181181181182,0.7181181181181182,0.7192092092092093,0.7192092092092093,0.7203003003003005,0.7203003003003005,0.7213913913913915,0.7213913913913915,0.7224824824824826,0.7224824824824826,0.7235735735735737,0.7235735735735737,0.7246646646646647,0.7246646646646647,0.7257557557557559,0.7257557557557559,0.726846846846847,0.726846846846847,0.727937937937938,0.727937937937938,0.7290290290290291,0.7290290290290291,0.7301201201201203,0.7301201201201203,0.7312112112112114,0.7312112112112114,0.7323023023023024,0.7323023023023024,0.7333933933933935,0.7333933933933935,0.7344844844844846,0.7344844844844846,0.7355755755755757,0.7355755755755757,0.7366666666666668,0.7366666666666668,0.7377577577577579,0.7377577577577579,0.7388488488488489,0.7388488488488489,0.73993993993994,0.73993993993994,0.7410310310310312,0.7410310310310312,0.7421221221221223,0.7421221221221223,0.7432132132132133,0.7432132132132133,0.7443043043043044,0.7443043043043044,0.7453953953953955,0.7453953953953955,0.7464864864864866,0.7464864864864866,0.7475775775775777,0.7475775775775777,0.7486686686686688,0.7486686686686688,0.7497597597597598,0.7497597597597598,0.750850850850851,0.750850850850851,0.7519419419419421,0.7519419419419421,0.7530330330330332,0.7530330330330332,0.7541241241241242,0.7541241241241242,0.7552152152152153,0.7552152152152153,0.7563063063063065,0.7563063063063065,0.7573973973973975,0.7573973973973975,0.7584884884884886,0.7584884884884886,0.7595795795795797,0.7595795795795797,0.7606706706706707,0.7606706706706707,0.7617617617617619,0.7617617617617619,0.762852852852853,0.762852852852853,0.763943943943944,0.763943943943944,0.7650350350350351,0.7650350350350351,0.7661261261261263,0.7661261261261263,0.7672172172172174,0.7672172172172174,0.7683083083083084,0.7683083083083084,0.7693993993993995,0.7693993993993995,0.7704904904904906,0.7704904904904906,0.7715815815815817,0.7715815815815817,0.7726726726726728,0.7726726726726728,0.7737637637637639,0.7737637637637639,0.774854854854855,0.774854854854855,0.775945945945946,0.775945945945946,0.7770370370370372,0.7770370370370372,0.7781281281281283,0.7781281281281283,0.7792192192192193,0.7792192192192193,0.7803103103103104,0.7803103103103104,0.7814014014014016,0.7814014014014016,0.7824924924924926,0.7824924924924926,0.7835835835835837,0.7835835835835837,0.7846746746746748,0.7846746746746748,0.7857657657657658,0.7857657657657658,0.786856856856857,0.786856856856857,0.7879479479479481,0.7879479479479481,0.7890390390390392,0.7890390390390392,0.7901301301301302,0.7901301301301302,0.7912212212212213,0.7912212212212213,0.7923123123123125,0.7923123123123125,0.7934034034034035,0.7934034034034035,0.7944944944944946,0.7944944944944946,0.7955855855855857,0.7955855855855857,0.7966766766766767,0.7966766766766767,0.7977677677677679,0.7977677677677679,0.798858858858859,0.798858858858859,0.7999499499499501,0.7999499499499501,0.8010410410410411,0.8010410410410411,0.8021321321321323,0.8021321321321323,0.8032232232232234,0.8032232232232234,0.8043143143143144,0.8043143143143144,0.8054054054054055,0.8054054054054055,0.8064964964964966,0.8064964964964966,0.8075875875875878,0.8075875875875878,0.8086786786786788,0.8086786786786788,0.8097697697697699,0.8097697697697699,0.810860860860861,0.810860860860861,0.811951951951952,0.811951951951952,0.8130430430430432,0.8130430430430432,0.8141341341341343,0.8141341341341343,0.8152252252252253,0.8152252252252253,0.8163163163163164,0.8163163163163164,0.8174074074074076,0.8174074074074076,0.8184984984984987,0.8184984984984987,0.8195895895895897,0.8195895895895897,0.8206806806806808,0.8206806806806808,0.8217717717717719,0.8217717717717719,0.822862862862863,0.822862862862863,0.8239539539539541,0.8239539539539541,0.8250450450450452,0.8250450450450452,0.8261361361361362,0.8261361361361362,0.8272272272272273,0.8272272272272273,0.8283183183183185,0.8283183183183185,0.8294094094094095,0.8294094094094095,0.8305005005005006,0.8305005005005006,0.8315915915915917,0.8315915915915917,0.8326826826826829,0.8326826826826829,0.8337737737737739,0.8337737737737739,0.834864864864865,0.834864864864865,0.8359559559559561,0.8359559559559561,0.8370470470470471,0.8370470470470471,0.8381381381381383,0.8381381381381383,0.8392292292292294,0.8392292292292294,0.8403203203203204,0.8403203203203204,0.8414114114114115,0.8414114114114115,0.8425025025025026,0.8425025025025026,0.8435935935935938,0.8435935935935938,0.8446846846846848,0.8446846846846848,0.8457757757757759,0.8457757757757759,0.846866866866867,0.846866866866867,0.8479579579579581,0.8479579579579581,0.8490490490490492,0.8490490490490492,0.8501401401401403,0.8501401401401403,0.8512312312312313,0.8512312312312313,0.8523223223223224,0.8523223223223224,0.8534134134134136,0.8534134134134136,0.8545045045045047,0.8545045045045047,0.8555955955955957,0.8555955955955957,0.8566866866866868,0.8566866866866868,0.8577777777777779,0.8577777777777779,0.858868868868869,0.858868868868869,0.8599599599599601,0.8599599599599601,0.8610510510510512,0.8610510510510512,0.8621421421421422,0.8621421421421422,0.8632332332332333,0.8632332332332333,0.8643243243243245,0.8643243243243245,0.8654154154154156,0.8654154154154156,0.8665065065065066,0.8665065065065066,0.8675975975975977,0.8675975975975977,0.8686886886886889,0.8686886886886889,0.8697797797797799,0.8697797797797799,0.870870870870871,0.870870870870871,0.8719619619619621,0.8719619619619621,0.8730530530530531,0.8730530530530531,0.8741441441441443,0.8741441441441443,0.8752352352352354,0.8752352352352354,0.8763263263263265,0.8763263263263265,0.8774174174174175,0.8774174174174175,0.8785085085085086,0.8785085085085086,0.8795995995995998,0.8795995995995998,0.8806906906906908,0.8806906906906908,0.8817817817817819,0.8817817817817819,0.882872872872873,0.882872872872873,0.8839639639639641,0.8839639639639641,0.8850550550550552,0.8850550550550552,0.8861461461461463,0.8861461461461463,0.8872372372372374,0.8872372372372374,0.8883283283283284,0.8883283283283284,0.8894194194194196,0.8894194194194196,0.8905105105105107,0.8905105105105107,0.8916016016016017,0.8916016016016017,0.8926926926926928,0.8926926926926928,0.8937837837837839,0.8937837837837839,0.894874874874875,0.894874874874875,0.8959659659659661,0.8959659659659661,0.8970570570570572,0.8970570570570572,0.8981481481481483,0.8981481481481483,0.8992392392392394,0.8992392392392394,0.9003303303303305,0.9003303303303305,0.9014214214214216,0.9014214214214216,0.9025125125125126,0.9025125125125126,0.9036036036036037,0.9036036036036037,0.9046946946946949,0.9046946946946949,0.905785785785786,0.905785785785786,0.906876876876877,0.906876876876877,0.9079679679679681,0.9079679679679681,0.9090590590590591,0.9090590590590591,0.9101501501501503,0.9101501501501503,0.9112412412412414,0.9112412412412414,0.9123323323323325,0.9123323323323325,0.9134234234234235,0.9134234234234235,0.9145145145145146,0.9145145145145146,0.9156056056056058,0.9156056056056058,0.9166966966966968,0.9166966966966968,0.9177877877877879,0.9177877877877879,0.918878878878879,0.918878878878879,0.9199699699699702,0.9199699699699702,0.9210610610610612,0.9210610610610612,0.9221521521521523,0.9221521521521523,0.9232432432432434,0.9232432432432434,0.9243343343343344,0.9243343343343344,0.9254254254254256,0.9254254254254256,0.9265165165165167,0.9265165165165167,0.9276076076076077,0.9276076076076077,0.9286986986986988,0.9286986986986988,0.9297897897897899,0.9297897897897899,0.9308808808808811,0.9308808808808811,0.9319719719719721,0.9319719719719721,0.9330630630630632,0.9330630630630632,0.9341541541541543,0.9341541541541543,0.9352452452452454,0.9352452452452454,0.9363363363363365,0.9363363363363365,0.9374274274274276,0.9374274274274276,0.9385185185185186,0.9385185185185186,0.9396096096096097,0.9396096096096097,0.9407007007007009,0.9407007007007009,0.941791791791792,0.941791791791792,0.942882882882883,0.942882882882883,0.9439739739739741,0.9439739739739741,0.9450650650650652,0.9450650650650652,0.9461561561561563,0.9461561561561563,0.9472472472472474,0.9472472472472474,0.9483383383383385,0.9483383383383385,0.9494294294294295,0.9494294294294295,0.9505205205205207,0.9505205205205207,0.9516116116116118,0.9516116116116118,0.9527027027027029,0.9527027027027029,0.9537937937937939,0.9537937937937939,0.954884884884885,0.954884884884885,0.9559759759759762,0.9559759759759762,0.9570670670670672,0.9570670670670672,0.9581581581581583,0.9581581581581583,0.9592492492492494,0.9592492492492494,0.9603403403403404,0.9603403403403404,0.9614314314314316,0.9614314314314316,0.9625225225225227,0.9625225225225227,0.9636136136136138,0.9636136136136138,0.9647047047047048,0.9647047047047048,0.9657957957957959,0.9657957957957959,0.9668868868868871,0.9668868868868871,0.9679779779779781,0.9679779779779781,0.9690690690690692,0.9690690690690692,0.9701601601601603,0.9701601601601603,0.9712512512512514,0.9712512512512514,0.9723423423423425,0.9723423423423425,0.9734334334334336,0.9734334334334336,0.9745245245245246,0.9745245245245246,0.9756156156156157,0.9756156156156157,0.9767067067067069,0.9767067067067069,0.977797797797798,0.977797797797798,0.978888888888889,0.978888888888889,0.9799799799799801,0.9799799799799801,0.9810710710710712,0.9810710710710712,0.9821621621621623,0.9821621621621623,0.9832532532532534,0.9832532532532534,0.9843443443443445,0.9843443443443445,0.9854354354354355,0.9854354354354355,0.9865265265265267,0.9865265265265267,0.9876176176176178,0.9876176176176178,0.9887087087087089,0.9887087087087089,0.9897997997997999,0.9897997997997999,0.990890890890891,0.990890890890891,0.9919819819819822,0.9919819819819822,0.9930730730730732,0.9930730730730732,0.9941641641641643,0.9941641641641643,0.9952552552552554,0.9952552552552554,0.9963463463463464,0.9963463463463464,0.9974374374374376,0.9974374374374376,0.9985285285285287,0.9985285285285287,0.9996196196196198,0.9996196196196198,1.0007107107107107,1.001801801801802,1.002892892892893,1.0039839839839841,1.0050750750750752,1.0061661661661663,1.0072572572572573,1.0083483483483484,1.0094394394394395,1.0105305305305308,1.0116216216216218,1.012712712712713,1.013803803803804,1.014894894894895,1.015985985985986,1.0170770770770772,1.0181681681681682,1.0192592592592593,1.0203503503503506,1.0214414414414417,1.0225325325325327,1.0236236236236238,1.0247147147147149,1.025805805805806,1.026896896896897,1.027987987987988,1.0290790790790791,1.0301701701701704,1.0312612612612615,1.0323523523523526,1.0334434434434436,1.0345345345345347,1.0356256256256258,1.0367167167167168,1.037807807807808,1.038898898898899,1.03998998998999,1.0410810810810813,1.0421721721721724,1.0432632632632635,1.0443543543543545,1.0454454454454456,1.0465365365365367,1.0476276276276277,1.0487187187187188,1.0498098098098099,1.0509009009009012,1.0519919919919922,1.0530830830830833,1.0541741741741744,1.0552652652652654,1.0563563563563565,1.0574474474474476,1.0585385385385386,1.0596296296296297,1.060720720720721,1.061811811811812,1.0629029029029031,1.0639939939939942,1.0650850850850853,1.0661761761761763,1.0672672672672674,1.0683583583583585,1.0694494494494495,1.0705405405405406,1.0716316316316319,1.072722722722723,1.073813813813814,1.074904904904905,1.0759959959959962,1.0770870870870872,1.0781781781781783,1.0792692692692694,1.0803603603603604,1.0814514514514517,1.0825425425425428,1.0836336336336339,1.084724724724725,1.085815815815816,1.086906906906907,1.0879979979979981,1.0890890890890892,1.0901801801801803,1.0912712712712713,1.0923623623623626,1.0934534534534537,1.0945445445445448,1.0956356356356358,1.0967267267267269,1.097817817817818,1.098908908908909,1.1],\"y\":[0.15659439717970453,0.1760600781791956,0.15055059122756206,0.1822533694055098,0.14630372510479972,0.1866489470678399,0.1428492864871242,0.19025132979965592,0.13987158775405956,0.1933762114612376,0.13722196275657356,0.1961722643729999,0.1348162314641739,0.19872367466933316,0.13260121113894444,0.201083631125489,0.13054074311625932,0.20328829837777201,0.12860890822830848,0.20536360150090593,0.1267863687182467,0.2073288840947618,0.12505823728937868,0.20919903923603647,0.12341275942774871,0.21098582715651004,0.12184045893059935,0.2126987297154246,0.12033356186068853,0.21434552644598767,0.11888559542928956,0.2159326956731822,0.11749110092923477,0.2174657015815165,0.1161454234041677,0.21894920454655736,0.1148445543665623,0.22038721841768047,0.11358501206449644,0.2217832302520555,0.11236374888265561,0.22314029291438858,0.11117807871495355,0.22446109770503678,0.11002561927966079,0.2257480320456024,0.1089042457799567,0.2270032258190927,0.10781205329391029,0.22822858898063955,0.10674732596251131,0.22942584237015834,0.10570851153019697,0.23059654317250108,0.10469420014229987,0.23174210612067156,0.10370310655953689,0.2328638212820036,0.10273405513886086,0.23396286907795372,0.10178596707161733,0.23504033304657207,0.10085784947716682,0.23609721074952544,0.09994878603208597,0.2371344231435064,0.09905792887830739,0.23815282267269366,0.09818449160279234,0.2391532002896965,0.09732774311998187,0.24013629157368482,0.09648700231883584,0.24110278208392438,0.0956616333606023,0.24205331206259595,0.09485104153300614,0.24298848058116093,0.09405466958228066,0.2439088492088897,0.09327199445728532,0.24481494526928096,0.09250252441037607,0.24570726473974674,0.09174579640829349,0.2465862748412459,0.09100137381339943,0.24745241635756704,0.09026884430146045,0.24830610571806996,0.08954781798707559,0.24914773687276193,0.08883792573192413,0.24997768298454065,0.0881388176144504,0.25079629796001923,0.08745016154249878,0.2516039178373674,0.08677164199287189,0.2524008620472246,0.08610295886385777,0.25318743456065984,0.0854438264285644,0.25396392493629355,0.08479397237841318,0.2547306092772549,0.08415313694744347,0.25548775110734234,0.08352107210922238,0.25623560217455205,0.08289754083910726,0.25697440318924464,0.08228231643545425,0.2577043845033844,0.08167518189410489,0.2584257667364709,0.08107592933110344,0.2591387613532321,0.08048435944916552,0.2598435711975855,0.07990028104389725,0.2605403909868183,0.0793235105461938,0.2612294077695833,0.07875387159761017,0.2619108013509388,0.07819119465584627,0.26258474468724646,0.07763531662775959,0.26325140425353555,0.07708608052758562,0.26391094038567736,0.07654333515827746,0.26456350759941205,0.07600693481406799,0.2652092548881471,0.07547673900255061,0.2658483260012555,0.07495261218472626,0.26648085970437696,0.07443442353161396,0.2671069900231666,0.07392204669614301,0.2677268464717397,0.07341535959917019,0.26834055426701464,0.0729142442285604,0.2689482345299626,0.07241858645036489,0.26955000447475636,0.07192827583121554,0.2701459775867212,0.07144320547112468,0.2707362637898515,0.07096327184595722,0.2713209696046522,0.07048837465889042,0.2719001982970102,0.07001841670024377,0.2724740500186686,0.06955330371510668,0.27304262193989964,0.06909294427823255,0.273606008374928,0.06863724967572311,0.27416430090053817,0.06818613379304964,0.2747175884683438,0.06773951300900126,0.27526595751114075,0.06729730609518052,0.275809492043695,0.06685943412068997,0.2763482737583301,0.06642582036168866,0.2768823821156662,0.06599639021551308,0.2774118944307665,0.06557107111908593,0.27793688595499466,0.06514979247134596,0.2784574299538665,0.06473248555946658,0.27897359778108993,0.06431908348863224,0.27948545894904236,0.06390952111516501,0.2799930811959166,0.06350373498281005,0.28049653054968315,0.06310166326199293,0.28099587138907567,0.06270324569188575,0.28149116650178807,0.06230842352512044,0.2819824771399956,0.06191713947500457,0.28246986307338584,0.06152933766509789,0.28295338263981,0.06114496358102596,0.28343309279371914,0.060763964024406564,0.28390904915246246,0.06038628706877735,0.2843813060405815,0.06001188201741963,0.284849916532227,0.059640699362975634,0.2853149324917571,0.05927269074877161,0.2857764046126273,0.05890780893175404,0.28623438245468635,0.05854600774695978,0.28668891447991285,0.058187242073443245,0.2871400480866938,0.05783146780158351,0.2875878296427396,0.05747864180170928,0.2880323045166591,0.057128721893972674,0.2884735171082823,0.056781666819413455,0.2889115108778118,0.05643743621215338,0.28934632837381946,0.05609599057267153,0.2897780112601604,0.055757291242104885,0.29020660034188006,0.055421300377528585,0.29063213559011813,0.05508798092817115,0.2910546561660756,0.054757296612517,0.2914742004441115,0.054429211896262056,0.29189080603396506,0.05410369197107921,0.2923045098021643,0.05378070273415966,0.2927153478926814,0.05346021076849301,0.2931233557468173,0.053142183323857076,0.29352856812238465,0.05282658829848353,0.2939310191122243,0.052513394221370094,0.2943307421620615,0.05220257023521475,0.2947277700877384,0.05189408607993939,0.2951221350918505,0.051587912076783975,0.2955138687798303,0.05128401911294359,0.295903002175466,0.050982378626726665,0.2962895657358966,0.05068296259321386,0.2966735893661258,0.05038574351039371,0.2970551024330349,0.05009069438576015,0.2974341337789344,0.04979778872335006,0.2978107117346915,0.049507000511204255,0.29818486413241485,0.049218304209234204,0.29855661831772834,0.04893167473747923,0.2989260011616761,0.048647087464739815,0.2992930390722269,0.04836451819756894,0.2996577580054205,0.04808394316961314,0.30002018347618203,0.047805339031281924,0.3003803405687858,0.04752868283974241,0.30073825394699244,0.047253952049218194,0.301093947863901,0.0469811245015887,0.30144744617147773,0.04671017841726941,0.30179877232980334,0.04644109238637138,0.30214794941605816,0.046173845360122555,0.3024950001332257,0.04590841664254611,0.30283994681853565,0.045644785882383784,0.30318281145168274,0.04538293306525575,0.30352361566278435,0.0451228385060496,0.3038623807401112,0.04486448284153008,0.3041991276376123,0.044607847023159695,0.3045338769822106,0.04435291231012757,0.30486664908088734,0.04409966026257154,0.30519746392759156,0.04384807273499597,0.3055263412099308,0.04359813186987053,0.3058533003156933,0.04334982009141062,0.3061783603391735,0.043103120099525334,0.3065015400873493,0.042858014863935985,0.30682285808587234,0.042614487618452934,0.3071423325848896,0.0423725218554085,0.30745998156473764,0.042132101320240145,0.3077758227414622,0.04189321000621835,0.3080898735721856,0.04165583214931509,0.30840215126036086,0.04141995222320913,0.30871267276086317,0.041185554934421026,0.3090214547849522,0.04095262521757824,0.3093285138051219,0.040721148230799344,0.3096338660598107,0.040491109351201725,0.3099375275579871,0.04026249417052153,0.31023951408364175,0.04003528849084875,0.3105398412001433,0.03980947832046666,0.31083852425448893,0.039585049869799716,0.31113557838146494,0.039361989547461965,0.3114310185076859,0.0391402839564038,0.3117248593555348,0.0389199198901553,0.31201711544702576,0.03870088432916103,0.31230780110755224,0.03848316443720578,0.31259693046954684,0.03826674755792751,0.31288451747606866,0.03805162121141512,0.3131705758842892,0.03783777309088688,0.31345511926889336,0.03762519105945088,0.31373816102541796,0.037413863146940854,0.31401971437349374,0.03720377754682851,0.3142997923600203,0.03699492261320857,0.3145784078622579,0.036787286857853506,0.3148555735908655,0.03658085894733835,0.3151313020928532,0.036375627700232435,0.3154056057544638,0.03617158208435461,0.3156784968040103,0.035968711214094284,0.3159499873146278,0.03576700434779003,0.3162200892069665,0.03556645088517151,0.31648881425183895,0.03536704036485662,0.316756174072794,0.035168762461907845,0.31702218014862954,0.03497160698543961,0.3172868438158719,0.034775563876282715,0.31755017627117926,0.03458062320469818,0.31781218857369536,0.034386775168142744,0.3180728916473676,0.03419401008908347,0.3183322962831995,0.03400231841285903,0.31859041314145164,0.033811690705588426,0.318847252753819,0.033622117652125444,0.31910282552553526,0.03343359005405555,0.3193571417374414,0.033246098827738345,0.31961021154802244,0.03305963500238814,0.31986204499538773,0.03287418971819894,0.32011265199920624,0.032689754224506255,0.320362042362623,0.03250631987799039,0.32061022577411447,0.03232387814091368,0.3208572118093097,0.03214242057939799,0.3211030099327881,0.031961938861735636,0.32134762949982637,0.03178242475673627,0.3215910797581065,0.0316038701321078,0.32183336984941074,0.03142626695286922,0.3220745088112611,0.03124960727979689,0.32231450557852953,0.031073883267902228,0.32255336898503073,0.0308990871649397,0.3227911077650663,0.030725211309944933,0.3230277305549481,0.030552248131801837,0.32326324589448197,0.03038019014783889,0.32349766222843984,0.030209029962452345,0.32373098790798804,0.030038760265757507,0.32396323119208564,0.029869373832265525,0.32419440024887547,0.02970086351958713,0.3244245031570289,0.029533222267160507,0.32465354790706746,0.029366443095004947,0.32488154240267336,0.029200519102497352,0.32510849446196205,0.029035443467173485,0.3253344118187263,0.028871209443550993,0.32555930212367845,0.02870781036197593,0.3257831729456486,0.028545239627490157,0.32600603177276366,0.028383490718721094,0.3262278860136185,0.02822255718679153,0.3264487429984119,0.028062432654250322,0.3266686099800589,0.027903110814023115,0.3268874941353006,0.027744585428382255,0.3271054025657774,0.0275868503279358,0.3273223422990826,0.027429899410635304,0.32753832028981344,0.027273726640802017,0.32775334342058626,0.02711832604817037,0.32796741850303407,0.0269636917269491,0.32818055227880283,0.026809817834899476,0.32839275142051527,0.02665669859243032,0.3286040225327125,0.026504328281709073,0.32881437215279885,0.026352701245788437,0.32902380675195736,0.026201811887749372,0.32923233273604857,0.026051654669859016,0.3294399564464912,0.02590222411274302,0.3296466841611445,0.02575351479457341,0.3298525220951565,0.025605521350269726,0.3300574764018001,0.02545823847071506,0.33026155317330985,0.025311660901984948,0.33046475844168927,0.025165783444590382,0.33066709817950246,0.025020600952733167,0.3308685783006716,0.02487610833357495,0.3310692046612418,0.02473230054651792,0.331268983060135,0.024589172602498658,0.3314679192399065,0.02444671956329325,0.3316660188874739,0.024304936540834897,0.3318632876348316,0.024163818696542345,0.33205973105977304,0.02402336124066044,0.3322553546865814,0.02388355943161088,0.3324501639867119,0.02374440857535479,0.3326441643794766,0.023605904024764833,0.3328373612327043,0.02346804117900887,0.33302975986338734,0.023330815482942777,0.3332213655383367,0.023194222426514227,0.33341218347480744,0.023058257544175346,0.3336022188411171,0.022922916414305935,0.33379147675726795,0.022788194658645074,0.3339799622955448,0.02265408794173299,0.3341676804811021,0.022520591970361038,0.3343546362925594,0.022387702493031382,0.3345408346625693,0.022255415299424597,0.33472628047837866,0.022123726219876516,0.3349109785823951,0.021992631124862827,0.3350949337727288,0.021862125924492354,0.33527815080373446,0.02173220656800791,0.3354606343865364,0.021602869043295597,0.3356423891895611,0.021474109376401197,0.3358234198390474,0.021345923631054763,0.3360037309195497,0.02121830790820221,0.33618332697444325,0.021091258345544445,0.33636221250641674,0.02096477111708344,0.3365403919779466,0.020838842432675735,0.336717869811786,0.020713468537592247,0.33689465039143013,0.020588645712085508,0.33707073806157223,0.02046437027096293,0.33724613712857127,0.020340638563167097,0.3374208518608945,0.02021744697136198,0.3375948864895557,0.020094791911525963,0.33776824520856036,0.01997266983255043,0.3379409321753309,0.019851077215845045,0.3381129515111234,0.01973001057494833,0.33828430730145603,0.019609466455144595,0.33845500359651404,0.019489441433086344,0.3386250444115491,0.01936993211642234,0.338794433727289,0.019250935143431108,0.3389631754903259,0.01913244718265999,0.33913127361349826,0.01901446493256966,0.3392987319762831,0.01889698512118347,0.3394655544251672,0.01878000450574217,0.3396317447740137,0.018663519872363706,0.3397973068044377,0.018547528035707972,0.33996224426615995,0.01843202583864641,0.3401265608773659,0.018317010151936142,0.3402902603250498,0.018202477873899184,0.34045334626537005,0.018088425930106226,0.34061582232398485,0.017974851273064564,0.3407776920963837,0.017861750881911064,0.34093895914822786,0.017749121762108896,0.3410996270156734,0.01763696094514928,0.3412596992056868,0.017525265488256607,0.34141917919637427,0.017414032474098614,0.34157807043728894,0.017303259010499873,0.341736376349736,0.01719294223015993,0.34189410032708656,0.01708307929037483,0.3420512457350739,0.01697366737276304,0.3422078159120867,0.01686470368299481,0.34236381416946754,0.01675618545052552,0.3425192437918003,0.01664810992833245,0.3426741080371902,0.01654047439265563,0.34282841013755144,0.016433276142741676,0.34298215329888315,0.016326512500591812,0.3431353407015333,0.01622018081071254,0.3432879755004852,0.016114278439870542,0.3434400608256126,0.0160088027768502,0.34359159978194104,0.01590375123221499,0.3437425954499153,0.015799121238071565,0.34389305088565203,0.01569491024783753,0.3440429691211857,0.015591115736011907,0.3441923531647291,0.01548773519794901,0.34434120600091184,0.015384766149635019,0.34448953059102716,0.015282206127467937,0.3446373298732644,0.01518005268804,0.344784606762956,0.01507830340792344,0.34493136415280573,0.014976955883458699,0.34507760491311457,0.014876007730545707,0.3452233318920177,0.01477545658443764,0.3453685479157051,0.014675300099537733,0.34551325578863723,0.014575535949198332,0.3456574582937753,0.014476161825522981,0.3458011581927911,0.014377175439170744,0.3459443582262769,0.01427857451916331,0.3460870611139649,0.014180356812694334,0.34622926955493183,0.014082520084941612,0.3463709862277979,0.01398506211888121,0.34651221379094127,0.013887980715104437,0.3466529548826924,0.01379127369163679,0.3467932121215278,0.013694938883759467,0.34693298810627493,0.013598974143832904,0.3470722854163007,0.013503377341122898,0.3472111066116969,0.013408146361628502,0.34734945423347896,0.013313279107912546,0.34748733080376637,0.013218773498933847,0.3476247388259622,0.01312462746988191,0.34776168078494424,0.013030838972013471,0.3478981591472392,0.012937405972491172,0.34803417636119516,0.012844326454224144,0.34816973485716657,0.012751598415710715,0.34830483704768156,0.012659219870883018,0.3484394853276097,0.012567188848953548,0.3485736820743378,0.012475503394263395,0.3487074296479338,0.012384161566132649,0.34884073039130614,0.012293161438712546,0.3489735866303761,0.012202501100839314,0.3491060006742322,0.012112178655889915,0.34923797481529284,0.01202219222163944,0.3493695113294565,0.01193253993012046,0.34950061247626646,0.011843219927483734,0.34963128049906006,0.011754230373860988,0.34976151762511465,0.01166556944322895,0.34989132606580803,0.011577235323275498,0.3500207080167605,0.011489226215266829,0.3501496656579777,0.0114015403339168,0.3502782011540038,0.011314175907257367,0.3504063166540605,0.011227131176510937,0.35053401429218284,0.011140404395963883,0.3506612961873692,0.0110539938328419,0.35078816444371386,0.010967897767186574,0.3509146211505397,0.010882114491733567,0.35104066838254133,0.010796642311792075,0.35116630819991546,0.010711479545125963,0.35129154264848617,0.010626624521835932,0.3514163737598466,0.010542075584243514,0.35154080355148143,0.010457831086775888,0.3516648340268911,0.010373889395852546,0.35178846717572615,0.010290248889772879,0.3519117049739079,0.010206907958605368,0.3520345493837463,0.010123865004077777,0.35215700235407177,0.010041118439468873,0.35227906582035023,0.00995866668950119,0.3524007417047986,0.009876508190235148,0.35252203191651066,0.009794641388964248,0.35264293835156857,0.009713064744111684,0.35276346289315996,0.00963177672512786,0.3528836074116865,0.009550775812389337,0.3530033737648864,0.009470060497098653,0.35312276379794005,0.009389629281185634,0.35324177934357465,0.009309480677209348,0.3533604222221853,0.009229613208261631,0.3534786942419369,0.009150025407871349,0.35359659719886544,0.009070715819909963,0.3537141328769931,0.008991682998498014,0.35383130304842875,0.008912925507912714,0.35394810947346533,0.008834441922496475,0.3540645539006926,0.008756230826566659,0.35418063806709194,0.00867829081432604,0.3542963636981332,0.00860062048977454,0.3544117325078816,0.008523218466621744,0.3545267461990917,0.008446083368200462,0.3546414064632988,0.008369213827381166,0.35475571498092473,0.00829260848648753,0.35486967342136716,0.008216265997212674,0.35498328344308927,0.008140185020536475,0.3550965466937215,0.008064364226643762,0.35520946481014815,0.00798880229484334,0.35532203941859475,0.007913497913487921,0.3554342721347257,0.007838449779894946,0.35554616456372945,0.0077636566002682,0.3556577183004016,0.0076891170896203325,0.3557689349292413,0.007614829971696203,0.35587981602453056,0.007540793978897075,0.35599036315042326,0.007467007852205448,0.3561005778610233,0.007393470341110918,0.35621046170047854,0.007320180203536764,0.35632001620305104,0.007247136205767167,0.3564292428932101,0.0071743371223755,0.35653814328570615,0.007101781736152984,0.35664671888565513,0.007029468838038486,0.3567549711886103,0.006957397227048761,0.3568629016806511,0.006885565710209644,0.356970511838455,0.00681397310248778,0.3570778031293712,0.006742618226723225,0.3571847770115044,0.006671499913562672,0.3572914349337868,0.006600617001393363,0.3573977783360471,0.006529968336277699,0.3575038086490939,0.006459552771888609,0.357609527294785,0.006389369169445436,0.35771493568609364,0.0063194163976506455,0.3578200352271902,0.006249693332627098,0.357924827313507,0.006180198857855963,0.35802931333180754,0.006110931864115276,0.3581334946602613,0.006041891249419221,0.3582373726685093,0.0059730759189578425,0.35834094871772865,0.005904484785037655,0.3584442241607073,0.005836116767022495,0.35854720034190796,0.005767970791275326,0.3586498785975284,0.0057000457911003865,0.35875226025557677,0.005632340706686093,0.35885434663593135,0.0055648544850483705,0.3589561390504009,0.005497586079974695,0.35905763880279623,0.005430534451968624,0.3591588471889897,0.005363698568194873,0.35925976549697236,0.005297077402424958,0.35936039500692485,0.005230669934983454,0.35946073699127246,0.005164475152694652,0.35956079271474894,0.005098492048829904,0.3596605634344501,0.005032719623055315,0.3597600503999023,0.004967156881380206,0.3598592548531166,0.004901802836105754,0.3599581780286431,0.004836656505774465,0.36005682115363663,0.004771716915119917,0.36015518544791014,0.004706983095017137,0.3602532721239865,0.00464245408243342,0.3603510823871637,0.0045781289203795875,0.36044861743556506,0.004514006657861771,0.36054587846019126,0.004450086349833676,0.3606428666449824,0.004386367057149301,0.3607395831668677,0.004322847846516108,0.36083602919581514,0.004259527790448604,0.36093220589489255,0.004196405967222549,0.3610281144203159,0.004133481460829318,0.36112375592149704,0.004070753360930995,0.3612191315411033,0.004008220762815702,0.36131424241510496,0.0039458827673534815,0.3614090896728205,0.0038837384809525116,0.36150367443697556,0.003821787015515777,0.3615979978237496,0.003760027488398254,0.3616920609428183,0.0036984590223642865,0.3617858648974114,0.003637080745545554,0.36187941078435776,0.0035758917913993778,0.3619726996941292,0.0035148912986674276,0.3620657327108939,0.0034540784113348453,0.3621585109125597,0.0033934522785896777,0.36225103537082226,0.0033330120547827645,0.3623433071512065,0.0032727568993880197,0.36243532731311945,0.003212685976963006,0.36252709690989227,0.0031527984571099598,0.3626186169888199,0.0030930935144371724,0.3627098885912148,0.0030335703285206566,0.3628009127524455,0.0029742280838662497,0.3628916905019774,0.0029150659698720773,0.36298222286342285,0.002856083180791294,0.3630725108545811,0.0027972789156952586,0.3631625554874753,0.002738652378436949,0.36325235776840387,0.002680202777614887,0.3633419186979772,0.00262192932653714,0.3634312392711555,0.0025638312431859106,0.3635203204772971,0.0025059077501822895,0.3636091633001957,0.002448158074751405,0.3636977687181157,0.0023905814486879077,0.36378613770384094,0.0023331771083216733,0.3638742712247092,0.002275944294483918,0.36396217024264826,0.002218882252473608,0.3640498357142216,0.0021619902320241264,0.36413726859066414,0.002105267487270291,0.36422446981791473,0.0020487132767156944,0.3643114403366635,0.0019923268632002326,0.364398181082384,0.001936107513868036,0.364484692985367,0.001880054500135667,0.36457097697076496,0.0018241670976605626,0.3646570339586248,0.0017684445863098176,0.3647428648639193,0.0017128862501291874,0.3648284705965919,0.0016574913773124607,0.36491385206158583,0.0016022592601709748,0.3649990101588829,0.001547189195103552,0.3650839457835323,0.001492280482566571,0.3651686598256938,0.001437532427044409,0.3652531531706669,0.0013829443370200725,0.3653374266989233,0.0013285155249461622,0.3654214812861456,0.0012742453072160048,0.36550531780325757,0.0012201330041351289,0.3655889371164553,0.001166177939892932,0.3656723400872455,0.0011123794425346334,0.365755527572475,0.0010587368439334654,0.3658385004243593,0.0010052494797630905,0.36592125949052207,0.0009519166894702826,0.3660038056140235,0.0008987378162478496,0.3660861396333868,0.0008457122070077674,0.36616826238263855,0.0007928392123545992,0.36625017469133453,0.0007401181865590727,0.3663318773845873,0.00068754848753196,0.36641337128310386,0.0006351294767981336,0.3664946572032124,0.0005828605194708986,0.36657573595688775,0.0005307409842264776,0.36665660835178937,0.0004787702432787842,0.3667372751912864,0.0004269476723543755,0.36681773727448325,0.0003752726506676293,0.3668979953962561,0.00032374456089615905,0.3669780503472777,0.000272362789156387,0.36705790291404183,0.00022112672497937843,0.3671375538788996,0.00017003576128686004,0.3672170040200821,0.00011908929436744273,0.3672962541117301,6.828672385307083e-05,0.3673753049239175,1.7627452695624536e-05,0.3674541572226852,0.3675328117700654,0.3676112693241034,0.367689530638893,0.3677675964645981,0.36784546754747593,0.36792314462990966,0.3680006284504311,0.3680779197437426,0.36815501924074956,0.36823192766858037,0.36830864575061056,0.3683851742064926,0.3684615137521776,0.3685376650999364,0.3686136289583897,0.3686894060325294,0.3687649970237384,0.36884040262982104,0.3689156235450242,0.3689906604600537,0.36906551406210925,0.3691401850348994,0.36921467405866265,0.36928898181019637,0.36936310896287616,0.3694370561866733,0.3695108241481849,0.3695844135106502,0.369657824933975,0.36973105907474724,0.36980411658626705,0.36987699811856267,0.36994970431840873,0.3700222358293536,0.37009459329173694,0.3701667773427057,0.37023878861624243,0.37031062774318124,0.37038229535122424,0.3704537920649686,0.3705251185059226,0.37059627529252115,0.370667263040153,0.3707380823611759,0.37080873386493146,0.3708792181577727,0.37094953584307766,0.37101968752126513,0.37108967378982055,0.3711594952433102,0.37122915247339544,0.37129864606886015,0.3713679766156207,0.3714371446967452,0.3715061508924745,0.37157499578023684,0.37164367993466657,0.3717122039276172,0.37178056832818585,0.37184877370272584,0.3719168206148605,0.3719847096255073,0.37205244129288995,0.3721200161725524,0.37218743481738126,0.37225469777761955,0.3723218056008779,0.3723887588321592,0.37245555801386954,0.3725222036858312,0.372588696385305,0.3726550366470027,0.3727212250030981,0.37278726198325035,0.3728531481146146,0.37291888392185446,0.37298446992716316,0.3730499066502756,0.3731151946084789,0.3731803343166347,0.3732453262871896,0.3733101710301863,0.37337486905328493,0.3734394208617739,0.37350382695857987,0.37356808784428974,0.3736322040171588,0.3736961759731279,0.3737600042058312,0.3738236892066184,0.3738872314645628,0.37395063146647395],\"type\":\"scatter\"}],                        {\"template\":{\"data\":{\"bar\":[{\"error_x\":{\"color\":\"#2a3f5f\"},\"error_y\":{\"color\":\"#2a3f5f\"},\"marker\":{\"line\":{\"color\":\"#E5ECF6\",\"width\":0.5},\"pattern\":{\"fillmode\":\"overlay\",\"size\":10,\"solidity\":0.2}},\"type\":\"bar\"}],\"barpolar\":[{\"marker\":{\"line\":{\"color\":\"#E5ECF6\",\"width\":0.5},\"pattern\":{\"fillmode\":\"overlay\",\"size\":10,\"solidity\":0.2}},\"type\":\"barpolar\"}],\"carpet\":[{\"aaxis\":{\"endlinecolor\":\"#2a3f5f\",\"gridcolor\":\"white\",\"linecolor\":\"white\",\"minorgridcolor\":\"white\",\"startlinecolor\":\"#2a3f5f\"},\"baxis\":{\"endlinecolor\":\"#2a3f5f\",\"gridcolor\":\"white\",\"linecolor\":\"white\",\"minorgridcolor\":\"white\",\"startlinecolor\":\"#2a3f5f\"},\"type\":\"carpet\"}],\"choropleth\":[{\"colorbar\":{\"outlinewidth\":0,\"ticks\":\"\"},\"type\":\"choropleth\"}],\"contour\":[{\"colorbar\":{\"outlinewidth\":0,\"ticks\":\"\"},\"colorscale\":[[0.0,\"#0d0887\"],[0.1111111111111111,\"#46039f\"],[0.2222222222222222,\"#7201a8\"],[0.3333333333333333,\"#9c179e\"],[0.4444444444444444,\"#bd3786\"],[0.5555555555555556,\"#d8576b\"],[0.6666666666666666,\"#ed7953\"],[0.7777777777777778,\"#fb9f3a\"],[0.8888888888888888,\"#fdca26\"],[1.0,\"#f0f921\"]],\"type\":\"contour\"}],\"contourcarpet\":[{\"colorbar\":{\"outlinewidth\":0,\"ticks\":\"\"},\"type\":\"contourcarpet\"}],\"heatmap\":[{\"colorbar\":{\"outlinewidth\":0,\"ticks\":\"\"},\"colorscale\":[[0.0,\"#0d0887\"],[0.1111111111111111,\"#46039f\"],[0.2222222222222222,\"#7201a8\"],[0.3333333333333333,\"#9c179e\"],[0.4444444444444444,\"#bd3786\"],[0.5555555555555556,\"#d8576b\"],[0.6666666666666666,\"#ed7953\"],[0.7777777777777778,\"#fb9f3a\"],[0.8888888888888888,\"#fdca26\"],[1.0,\"#f0f921\"]],\"type\":\"heatmap\"}],\"heatmapgl\":[{\"colorbar\":{\"outlinewidth\":0,\"ticks\":\"\"},\"colorscale\":[[0.0,\"#0d0887\"],[0.1111111111111111,\"#46039f\"],[0.2222222222222222,\"#7201a8\"],[0.3333333333333333,\"#9c179e\"],[0.4444444444444444,\"#bd3786\"],[0.5555555555555556,\"#d8576b\"],[0.6666666666666666,\"#ed7953\"],[0.7777777777777778,\"#fb9f3a\"],[0.8888888888888888,\"#fdca26\"],[1.0,\"#f0f921\"]],\"type\":\"heatmapgl\"}],\"histogram\":[{\"marker\":{\"pattern\":{\"fillmode\":\"overlay\",\"size\":10,\"solidity\":0.2}},\"type\":\"histogram\"}],\"histogram2d\":[{\"colorbar\":{\"outlinewidth\":0,\"ticks\":\"\"},\"colorscale\":[[0.0,\"#0d0887\"],[0.1111111111111111,\"#46039f\"],[0.2222222222222222,\"#7201a8\"],[0.3333333333333333,\"#9c179e\"],[0.4444444444444444,\"#bd3786\"],[0.5555555555555556,\"#d8576b\"],[0.6666666666666666,\"#ed7953\"],[0.7777777777777778,\"#fb9f3a\"],[0.8888888888888888,\"#fdca26\"],[1.0,\"#f0f921\"]],\"type\":\"histogram2d\"}],\"histogram2dcontour\":[{\"colorbar\":{\"outlinewidth\":0,\"ticks\":\"\"},\"colorscale\":[[0.0,\"#0d0887\"],[0.1111111111111111,\"#46039f\"],[0.2222222222222222,\"#7201a8\"],[0.3333333333333333,\"#9c179e\"],[0.4444444444444444,\"#bd3786\"],[0.5555555555555556,\"#d8576b\"],[0.6666666666666666,\"#ed7953\"],[0.7777777777777778,\"#fb9f3a\"],[0.8888888888888888,\"#fdca26\"],[1.0,\"#f0f921\"]],\"type\":\"histogram2dcontour\"}],\"mesh3d\":[{\"colorbar\":{\"outlinewidth\":0,\"ticks\":\"\"},\"type\":\"mesh3d\"}],\"parcoords\":[{\"line\":{\"colorbar\":{\"outlinewidth\":0,\"ticks\":\"\"}},\"type\":\"parcoords\"}],\"pie\":[{\"automargin\":true,\"type\":\"pie\"}],\"scatter\":[{\"marker\":{\"colorbar\":{\"outlinewidth\":0,\"ticks\":\"\"}},\"type\":\"scatter\"}],\"scatter3d\":[{\"line\":{\"colorbar\":{\"outlinewidth\":0,\"ticks\":\"\"}},\"marker\":{\"colorbar\":{\"outlinewidth\":0,\"ticks\":\"\"}},\"type\":\"scatter3d\"}],\"scattercarpet\":[{\"marker\":{\"colorbar\":{\"outlinewidth\":0,\"ticks\":\"\"}},\"type\":\"scattercarpet\"}],\"scattergeo\":[{\"marker\":{\"colorbar\":{\"outlinewidth\":0,\"ticks\":\"\"}},\"type\":\"scattergeo\"}],\"scattergl\":[{\"marker\":{\"colorbar\":{\"outlinewidth\":0,\"ticks\":\"\"}},\"type\":\"scattergl\"}],\"scattermapbox\":[{\"marker\":{\"colorbar\":{\"outlinewidth\":0,\"ticks\":\"\"}},\"type\":\"scattermapbox\"}],\"scatterpolar\":[{\"marker\":{\"colorbar\":{\"outlinewidth\":0,\"ticks\":\"\"}},\"type\":\"scatterpolar\"}],\"scatterpolargl\":[{\"marker\":{\"colorbar\":{\"outlinewidth\":0,\"ticks\":\"\"}},\"type\":\"scatterpolargl\"}],\"scatterternary\":[{\"marker\":{\"colorbar\":{\"outlinewidth\":0,\"ticks\":\"\"}},\"type\":\"scatterternary\"}],\"surface\":[{\"colorbar\":{\"outlinewidth\":0,\"ticks\":\"\"},\"colorscale\":[[0.0,\"#0d0887\"],[0.1111111111111111,\"#46039f\"],[0.2222222222222222,\"#7201a8\"],[0.3333333333333333,\"#9c179e\"],[0.4444444444444444,\"#bd3786\"],[0.5555555555555556,\"#d8576b\"],[0.6666666666666666,\"#ed7953\"],[0.7777777777777778,\"#fb9f3a\"],[0.8888888888888888,\"#fdca26\"],[1.0,\"#f0f921\"]],\"type\":\"surface\"}],\"table\":[{\"cells\":{\"fill\":{\"color\":\"#EBF0F8\"},\"line\":{\"color\":\"white\"}},\"header\":{\"fill\":{\"color\":\"#C8D4E3\"},\"line\":{\"color\":\"white\"}},\"type\":\"table\"}]},\"layout\":{\"annotationdefaults\":{\"arrowcolor\":\"#2a3f5f\",\"arrowhead\":0,\"arrowwidth\":1},\"autotypenumbers\":\"strict\",\"coloraxis\":{\"colorbar\":{\"outlinewidth\":0,\"ticks\":\"\"}},\"colorscale\":{\"diverging\":[[0,\"#8e0152\"],[0.1,\"#c51b7d\"],[0.2,\"#de77ae\"],[0.3,\"#f1b6da\"],[0.4,\"#fde0ef\"],[0.5,\"#f7f7f7\"],[0.6,\"#e6f5d0\"],[0.7,\"#b8e186\"],[0.8,\"#7fbc41\"],[0.9,\"#4d9221\"],[1,\"#276419\"]],\"sequential\":[[0.0,\"#0d0887\"],[0.1111111111111111,\"#46039f\"],[0.2222222222222222,\"#7201a8\"],[0.3333333333333333,\"#9c179e\"],[0.4444444444444444,\"#bd3786\"],[0.5555555555555556,\"#d8576b\"],[0.6666666666666666,\"#ed7953\"],[0.7777777777777778,\"#fb9f3a\"],[0.8888888888888888,\"#fdca26\"],[1.0,\"#f0f921\"]],\"sequentialminus\":[[0.0,\"#0d0887\"],[0.1111111111111111,\"#46039f\"],[0.2222222222222222,\"#7201a8\"],[0.3333333333333333,\"#9c179e\"],[0.4444444444444444,\"#bd3786\"],[0.5555555555555556,\"#d8576b\"],[0.6666666666666666,\"#ed7953\"],[0.7777777777777778,\"#fb9f3a\"],[0.8888888888888888,\"#fdca26\"],[1.0,\"#f0f921\"]]},\"colorway\":[\"#636efa\",\"#EF553B\",\"#00cc96\",\"#ab63fa\",\"#FFA15A\",\"#19d3f3\",\"#FF6692\",\"#B6E880\",\"#FF97FF\",\"#FECB52\"],\"font\":{\"color\":\"#2a3f5f\"},\"geo\":{\"bgcolor\":\"white\",\"lakecolor\":\"white\",\"landcolor\":\"#E5ECF6\",\"showlakes\":true,\"showland\":true,\"subunitcolor\":\"white\"},\"hoverlabel\":{\"align\":\"left\"},\"hovermode\":\"closest\",\"mapbox\":{\"style\":\"light\"},\"paper_bgcolor\":\"white\",\"plot_bgcolor\":\"#E5ECF6\",\"polar\":{\"angularaxis\":{\"gridcolor\":\"white\",\"linecolor\":\"white\",\"ticks\":\"\"},\"bgcolor\":\"#E5ECF6\",\"radialaxis\":{\"gridcolor\":\"white\",\"linecolor\":\"white\",\"ticks\":\"\"}},\"scene\":{\"xaxis\":{\"backgroundcolor\":\"#E5ECF6\",\"gridcolor\":\"white\",\"gridwidth\":2,\"linecolor\":\"white\",\"showbackground\":true,\"ticks\":\"\",\"zerolinecolor\":\"white\"},\"yaxis\":{\"backgroundcolor\":\"#E5ECF6\",\"gridcolor\":\"white\",\"gridwidth\":2,\"linecolor\":\"white\",\"showbackground\":true,\"ticks\":\"\",\"zerolinecolor\":\"white\"},\"zaxis\":{\"backgroundcolor\":\"#E5ECF6\",\"gridcolor\":\"white\",\"gridwidth\":2,\"linecolor\":\"white\",\"showbackground\":true,\"ticks\":\"\",\"zerolinecolor\":\"white\"}},\"shapedefaults\":{\"line\":{\"color\":\"#2a3f5f\"}},\"ternary\":{\"aaxis\":{\"gridcolor\":\"white\",\"linecolor\":\"white\",\"ticks\":\"\"},\"baxis\":{\"gridcolor\":\"white\",\"linecolor\":\"white\",\"ticks\":\"\"},\"bgcolor\":\"#E5ECF6\",\"caxis\":{\"gridcolor\":\"white\",\"linecolor\":\"white\",\"ticks\":\"\"}},\"title\":{\"x\":0.05},\"xaxis\":{\"automargin\":true,\"gridcolor\":\"white\",\"linecolor\":\"white\",\"ticks\":\"\",\"title\":{\"standoff\":15},\"zerolinecolor\":\"white\",\"zerolinewidth\":2},\"yaxis\":{\"automargin\":true,\"gridcolor\":\"white\",\"linecolor\":\"white\",\"ticks\":\"\",\"title\":{\"standoff\":15},\"zerolinecolor\":\"white\",\"zerolinewidth\":2}}},\"margin\":{\"l\":50,\"r\":20,\"t\":50,\"b\":20},\"paper_bgcolor\":\"#DDE1E2\",\"plot_bgcolor\":\"#FFFFFF\",\"height\":500,\"width\":600,\"title\":{\"text\":\"$\\\\text{Using} \\\\frac{C^i}{C^s} = 0.8 \\\\text{ and } \\\\frac{C^z}{C^s} = 0.3$\"}},                        {\"responsive\": true}                    ).then(function(){\n",
       "                            \n",
       "var gd = document.getElementById('207e30fa-2137-4263-9bf3-364099065df4');\n",
       "var x = new MutationObserver(function (mutations, observer) {{\n",
       "        var display = window.getComputedStyle(gd).display;\n",
       "        if (!display || display === 'none') {{\n",
       "            console.log([gd, 'removed!']);\n",
       "            Plotly.purge(gd);\n",
       "            observer.disconnect();\n",
       "        }}\n",
       "}});\n",
       "\n",
       "// Listen for the removal of the full notebook cells\n",
       "var notebookContainer = gd.closest('#notebook-container');\n",
       "if (notebookContainer) {{\n",
       "    x.observe(notebookContainer, {childList: true});\n",
       "}}\n",
       "\n",
       "// Listen for the clearing of the current output cell\n",
       "var outputEl = gd.closest('.output');\n",
       "if (outputEl) {{\n",
       "    x.observe(outputEl, {childList: true});\n",
       "}}\n",
       "\n",
       "                        })                };                });            </script>        </div>"
      ]
     },
     "metadata": {},
     "output_type": "display_data"
    }
   ],
   "source": [
    "data = figs[12]\n",
    "kappa = data['value'][0]\n",
    "xi = data['value'][1]\n",
    "data_graph = data['data_graph']\n",
    "\n",
    "fig = go.Figure()\n",
    "\n",
    "fig.add_trace(go.Scatter(\n",
    "    x = data_graph['R0'], y = data_graph['i_opt'],\n",
    "    mode='markers',\n",
    "    marker_color='rgba(152, 0, 0, .8)'\n",
    "))\n",
    "\n",
    "R_0_min = 0.7824\n",
    "R_0_max = 1.0062\n",
    "\n",
    "if xi >= 1.55:\n",
    "    fig.add_vline(x = R_0_min)\n",
    "    fig.add_vline(x = R_0_max)\n",
    "    fig.add_vline(x = 1)\n",
    "    fig.add_vrect(x0 = 1, x1 = R_0_max, line_width = 0, fillcolor = \"red\", opacity = 0.2)\n",
    "\n",
    "    fig.add_annotation(\n",
    "            x=R_0_max,\n",
    "            y=0.125,\n",
    "            xref=\"x\",\n",
    "            yref=\"y\",\n",
    "            text=f\"$$R_0 = 1 + {round(R_0_max - 1,4)}$$\",\n",
    "            showarrow=True,\n",
    "            font=dict(\n",
    "                family=\"Courier New, monospace\",\n",
    "                size=12,\n",
    "                color=\"#ffffff\"\n",
    "                ),\n",
    "            align=\"center\",\n",
    "            arrowhead=2,\n",
    "            arrowsize=1,\n",
    "            arrowwidth=2,\n",
    "            arrowcolor=\"#636363\",\n",
    "            ax=20,\n",
    "            ay=-30,\n",
    "            bordercolor=\"#c7c7c7\",\n",
    "            borderwidth=2,\n",
    "            borderpad=4,\n",
    "            bgcolor=\"#ff7f0e\",\n",
    "            opacity=0.8\n",
    "            )\n",
    "\n",
    "fig.update_layout(\n",
    "    paper_bgcolor = '#DDE1E2',\n",
    "    plot_bgcolor = '#FFFFFF', \n",
    "    height = 500,\n",
    "    width = 600,\n",
    "    title = f\"$\\\\text{{Using}} \\\\frac{{C^i}}{{C^s}} = {kappa} \\\\text{{ and }} \\\\frac{{C^z}}{{C^s}} = {xi}$\",\n",
    "    margin = dict(\n",
    "        l = 50,\n",
    "        r = 20,\n",
    "        t = 50,\n",
    "        b = 20\n",
    "    )\n",
    ")\n",
    "fig.update_traces(mode='markers', marker_line_width = 2, marker_size = 10)\n",
    "fig.write_image(f\"fig_{kappa}_{xi}.png\",engine = 'kaleido')\n",
    "fig"
   ]
  },
  {
   "cell_type": "markdown",
   "id": "ae577ac0-ba7a-40ff-9a6c-2b474728d52a",
   "metadata": {},
   "source": [
    "### Functions:\n",
    "\n",
    "- `get_coefficients_cubic`\n",
    "- `nmbr_rts_interval`\n",
    "- `evaluate_cubic`\n",
    "- `solve_polynomial`"
   ]
  },
  {
   "cell_type": "code",
   "execution_count": 11,
   "id": "3064b8df-3958-4650-a637-3df2d149cf5d",
   "metadata": {},
   "outputs": [],
   "source": [
    "def get_coefficients_cubic(Rphi, Rmu, R0, kappa, xi):\n",
    "\n",
    "    ### Returns the coefficients x3,x2,x1,x0 of the cubic polynomial in the notes.\n",
    "\n",
    "    \"\"\"\n",
    "    kappa := C^i/C^s\n",
    "    xi := C^z/C^s\n",
    "    \"\"\"\n",
    "\n",
    "    x_3 = (Rphi**2)*(R0) + Rmu*(Rphi**2)*(kappa -1)\n",
    "    \n",
    "    x_2 = Rphi*(R0*(1 - Rphi) + Rmu*(R0 + Rphi))\n",
    "    x_2 = x_2 + Rphi*(Rmu*(1 - Rmu)*(xi - 1) + Rmu*(1 + Rmu)*(kappa - 1)) \n",
    "\n",
    "    x_1 = Rmu*(R0*(1 - Rphi)  + Rphi*(1 - R0)  + Rmu*Rphi)\n",
    "    x_1 = x_1+ Rmu*((1 - Rmu)*(xi - 1) + Rmu*(kappa - 1))\n",
    "\n",
    "    x_0 = (Rmu**2)*(1 - R0)\n",
    "\n",
    "    return [x_0,x_1,x_2,x_3]\n",
    "\n",
    "def nmbr_rts_interval(Rphi, Rmu, val_tuple):\n",
    "\n",
    "    kappa = val_tuple[0]\n",
    "    xi = val_tuple[1]\n",
    "    \n",
    "    print(f\"Processing tuple {(kappa,xi)}.\")\n",
    "    start_tuple = time.time()\n",
    "\n",
    "    R0s = list(np.linspace(0.0001,2,1000))\n",
    "    vals = []\n",
    "\n",
    "    for R0 in tqdm(R0s):\n",
    "\n",
    "        # Compute number of roots using Sturm's Theorem\n",
    "\n",
    "        coefficients = get_coefficients_cubic(Rphi, Rmu, R0, kappa, xi)\n",
    "        pol = sum([coefficients[i]*x**i for i in range(len(coefficients))])\n",
    "        sturm_seq = sp.sturm(pol) # sturm sequence\n",
    "\n",
    "        values_at_start = [float(sp.Poly(pol_sturm,x).eval(0)) for pol_sturm in sturm_seq]\n",
    "        values_at_end = [float(sp.Poly(pol_sturm,x).eval(1)) for pol_sturm in sturm_seq]\n",
    "\n",
    "        count_start = len(list(itertools.groupby(values_at_start, lambda values_at_start: values_at_start > 0)))\n",
    "        count_end = len(list(itertools.groupby(values_at_end, lambda values_at_end: values_at_end > 0)))\n",
    "\n",
    "        ans = count_start - count_end\n",
    "        vals.append(ans)\n",
    "\n",
    "    answer = max(vals)\n",
    "    return answer\n",
    "\n",
    "def evaluate_cubic(i, Rphi, Rmu, R0, kappa, xi):\n",
    "    [x_0,x_1,x_2,x_3] = get_coefficients_cubic(Rphi, Rmu, R0, kappa, xi)\n",
    "    return x_3*(i**3) + x_2*(i**2) + x_1*i + x_0\n",
    "\n",
    "def solve_polynomial(Rphi, Rmu, R0, kappa, xi):\n",
    "    \n",
    "    x = Symbol('x')\n",
    "    resp = solve(evaluate_cubic(x, Rphi, Rmu, R0, kappa, xi), x)\n",
    "    resp = [(float(expr.as_real_imag()[0]), float(expr.as_real_imag()[1]) ) for expr in resp]\n",
    "    resp = [expr[0] for expr in resp if expr[0]>0 and abs(expr[1])<1e-15]\n",
    "    \n",
    "    return resp\n",
    "\n",
    "def get_constants(Rphi, Rmu):\n",
    "    const_dict = {}\n",
    "    const_dict['A'] = Rphi**2 \n",
    "    const_dict['B'] = Rmu*(Rphi**2)\n",
    "    const_dict['C'] = Rphi*(Rmu**2)\n",
    "    const_dict['D'] = Rphi*(1-Rphi) + Rphi*Rmu\n",
    "    const_dict['E'] = Rphi*Rmu*(1+Rmu)\n",
    "    const_dict['F'] = Rphi*Rmu*(1-Rmu)\n",
    "    const_dict['G'] = Rphi*Rmu*(1+Rmu)\n",
    "    const_dict['H'] = Rmu*(1-Rphi) - Rmu*Rphi\n",
    "    const_dict['I'] = Rmu**2\n",
    "    const_dict['J'] = Rmu*(1-Rmu)\n",
    "    const_dict['K'] = Rmu**2\n",
    "    \n",
    "    coefficients = {\n",
    "        'x_3' : f\"{const_dict['A']}x-{const_dict['B']}(1-k)\",\n",
    "        'x_2' : f\"{const_dict['C']} + {const_dict['D']}x - {const_dict['E']}(1-k) - {const_dict['F']}(1-y)\",\n",
    "        'x_1' : f\"{const_dict['G']} + {const_dict['H']}x - {const_dict['I']}(1-k) - {const_dict['J']}(1-y)\",\n",
    "        'x_0' : f\"{const_dict['K']}(1-x)\",\n",
    "    }\n",
    "    \n",
    "    return coefficients"
   ]
  },
  {
   "cell_type": "markdown",
   "id": "80345a9d-9a90-4641-9ceb-6a5141ad4461",
   "metadata": {},
   "source": [
    "Functions to solve a system of differential equations."
   ]
  },
  {
   "cell_type": "code",
   "execution_count": 88,
   "id": "b0fed1e8-ff6f-47ff-8481-bd998aee8b88",
   "metadata": {},
   "outputs": [],
   "source": [
    "def state_odes_system(x, t, Cs, Ci, Cz):\n",
    "\n",
    "    s = x[0]\n",
    "    i = x[1]\n",
    "    z = x[2]\n",
    "\n",
    "    # C function \n",
    "    C = Cs*Ci/(s*Cs + i*Ci + z*Cz)\n",
    "\n",
    "    # System \n",
    "    dsdt = -C*beta*s*i + mu - mu*s\n",
    "    didt = C*beta*s*i + phi*z*i - (gamma + mu)*i  \n",
    "    dzdt = gamma*i - phi*z*i - mu*z\n",
    "\n",
    "    return [dsdt, didt, dzdt]\n",
    "\n",
    "def solve_odes_system(Cs,Ci,Cz):\n",
    "\n",
    "    \"\"\"\n",
    "    Solve the classical system with initial conditions\n",
    "    \"\"\"\n",
    "\n",
    "    t = np.linspace(0, 0 + t_max, steps)\n",
    "    x = odeint(state_odes_system, x00, t, args= (Cs,Ci,Cz))\n",
    "\n",
    "    s = x[:,0]\n",
    "    i = x[:,1]\n",
    "    z = x[:,2]\n",
    "\n",
    "    return s, i, z"
   ]
  },
  {
   "cell_type": "code",
   "execution_count": null,
   "id": "8bb3e40d-d53b-47b5-8452-fe96c48e37b0",
   "metadata": {},
   "outputs": [],
   "source": []
  }
 ],
 "metadata": {
  "kernelspec": {
   "display_name": "Python 3 (ipykernel)",
   "language": "python",
   "name": "python3"
  },
  "language_info": {
   "codemirror_mode": {
    "name": "ipython",
    "version": 3
   },
   "file_extension": ".py",
   "mimetype": "text/x-python",
   "name": "python",
   "nbconvert_exporter": "python",
   "pygments_lexer": "ipython3",
   "version": "3.9.8"
  }
 },
 "nbformat": 4,
 "nbformat_minor": 5
}
