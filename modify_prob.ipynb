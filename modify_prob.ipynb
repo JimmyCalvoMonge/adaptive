{
 "cells": [
  {
   "cell_type": "code",
   "execution_count": 2,
   "id": "ec7d89b3-c453-41bf-9523-f68fb81b6eb5",
   "metadata": {},
   "outputs": [],
   "source": [
    "import random\n",
    "import pandas as pd\n",
    "import numpy as np\n",
    "from itertools import accumulate, chain, compress, combinations\n",
    "from tqdm import tqdm\n",
    "import time"
   ]
  },
  {
   "cell_type": "code",
   "execution_count": 25,
   "id": "467fb4e4-48c2-4df2-94ce-43d402d6ab70",
   "metadata": {},
   "outputs": [],
   "source": [
    "file = './config_data/prob_small.xlsx'\n",
    "xl = pd.ExcelFile(file)\n",
    "sheet_names = xl.sheet_names\n",
    "result = {}\n",
    "for sheet in sheet_names:\n",
    "    df = pd.read_excel(file,\n",
    "                    sheet_name=sheet, engine='openpyxl')\n",
    "    df = df[[col for col in df.columns if not col.startswith('Unnamed')]]\n",
    "    df = df.drop(columns=['Dias/E'])\n",
    "    df['start'] = 0\n",
    "    col_ = df.pop('start')\n",
    "    df.insert(0, 'start', col_)\n",
    "    result[sheet] = df.cumsum(axis=1).values"
   ]
  },
  {
   "cell_type": "code",
   "execution_count": 26,
   "id": "6b918e6b-c954-4c62-8279-48168aff3c14",
   "metadata": {},
   "outputs": [
    {
     "data": {
      "text/plain": [
       "{'E': array([[0. , 1. , 1. , 1. , 1. ],\n",
       "        [0. , 1. , 1. , 1. , 1. ],\n",
       "        [0. , 1. , 1. , 1. , 1. ],\n",
       "        [0. , 1. , 1. , 1. , 1. ],\n",
       "        [0. , 1. , 1. , 1. , 1. ],\n",
       "        [0. , 1. , 1. , 1. , 1. ],\n",
       "        [0. , 0.8, 0.9, 1. , 1. ],\n",
       "        [0. , 0. , 0.6, 1. , 1. ],\n",
       "        [0. , 0. , 0.6, 1. , 1. ],\n",
       "        [0. , 0. , 0.6, 1. , 1. ],\n",
       "        [0. , 0. , 0.6, 1. , 1. ],\n",
       "        [0. , 0. , 0.6, 1. , 1. ],\n",
       "        [0. , 0. , 0.6, 1. , 1. ],\n",
       "        [0. , 0. , 0.6, 1. , 1. ],\n",
       "        [0. , 0. , 0.6, 1. , 1. ],\n",
       "        [0. , 0. , 0.6, 1. , 1. ],\n",
       "        [0. , 0. , 0.6, 1. , 1. ],\n",
       "        [0. , 0. , 0.6, 1. , 1. ],\n",
       "        [0. , 0. , 0.6, 1. , 1. ],\n",
       "        [0. , 0. , 0.6, 1. , 1. ],\n",
       "        [0. , 0. , 0.6, 1. , 1. ],\n",
       "        [0. , 0. , 0.6, 1. , 1. ],\n",
       "        [0. , 0. , 0.6, 1. , 1. ],\n",
       "        [0. , 0. , 0.6, 1. , 1. ],\n",
       "        [0. , 0. , 0.6, 1. , 1. ],\n",
       "        [0. , 0. , 0.6, 1. , 1. ],\n",
       "        [0. , 0. , 0.6, 1. , 1. ],\n",
       "        [0. , 0. , 0.6, 1. , 1. ],\n",
       "        [0. , 0. , 0.6, 1. , 1. ],\n",
       "        [0. , 0. , 0.6, 1. , 1. ],\n",
       "        [0. , 0. , 0.6, 1. , 1. ]]),\n",
       " 'I': array([[0.   , 0.   , 1.   , 1.   , 1.   ],\n",
       "        [0.   , 0.   , 1.   , 1.   , 1.   ],\n",
       "        [0.   , 0.   , 1.   , 1.   , 1.   ],\n",
       "        [0.   , 0.   , 1.   , 1.   , 1.   ],\n",
       "        [0.   , 0.   , 0.978, 1.   , 1.   ],\n",
       "        [0.   , 0.   , 1.   , 1.   , 1.   ],\n",
       "        [0.   , 0.   , 1.   , 1.   , 1.   ],\n",
       "        [0.   , 0.   , 1.   , 1.   , 1.   ],\n",
       "        [0.   , 0.   , 1.   , 1.   , 1.   ],\n",
       "        [0.   , 0.   , 1.   , 1.   , 1.   ],\n",
       "        [0.   , 0.   , 1.   , 1.   , 1.   ],\n",
       "        [0.   , 0.   , 1.   , 1.   , 1.   ],\n",
       "        [0.   , 0.   , 1.   , 1.   , 1.   ],\n",
       "        [0.   , 0.   , 1.   , 1.   , 1.   ],\n",
       "        [0.   , 0.   , 1.   , 1.   , 1.   ],\n",
       "        [0.   , 0.   , 1.   , 1.   , 1.   ],\n",
       "        [0.   , 0.   , 1.   , 1.   , 1.   ],\n",
       "        [0.   , 0.   , 1.   , 1.   , 1.   ],\n",
       "        [0.   , 0.   , 0.   , 1.   , 1.   ],\n",
       "        [0.   , 0.   , 0.   , 1.   , 1.   ],\n",
       "        [0.   , 0.   , 0.   , 1.   , 1.   ],\n",
       "        [0.   , 0.   , 0.   , 1.   , 1.   ],\n",
       "        [0.   , 0.   , 0.   , 1.   , 1.   ],\n",
       "        [0.   , 0.   , 0.   , 1.   , 1.   ],\n",
       "        [0.   , 0.   , 0.   , 1.   , 1.   ],\n",
       "        [0.   , 0.   , 0.   , 1.   , 1.   ],\n",
       "        [0.   , 0.   , 0.   , 1.   , 1.   ],\n",
       "        [0.   , 0.   , 0.   , 1.   , 1.   ],\n",
       "        [0.   , 0.   , 0.   , 1.   , 1.   ],\n",
       "        [0.   , 0.   , 0.   , 1.   , 1.   ],\n",
       "        [0.   , 0.   , 0.   , 1.   , 1.   ]])}"
      ]
     },
     "execution_count": 26,
     "metadata": {},
     "output_type": "execute_result"
    }
   ],
   "source": [
    "result_small"
   ]
  },
  {
   "cell_type": "code",
   "execution_count": 21,
   "id": "ea6c0b42-8a19-4331-9578-91d587767cb1",
   "metadata": {},
   "outputs": [],
   "source": []
  },
  {
   "cell_type": "code",
   "execution_count": null,
   "id": "4c90db33-e7f1-4cd2-890f-916f4da27f0f",
   "metadata": {},
   "outputs": [],
   "source": []
  }
 ],
 "metadata": {
  "kernelspec": {
   "display_name": "Python 3 (ipykernel)",
   "language": "python",
   "name": "python3"
  },
  "language_info": {
   "codemirror_mode": {
    "name": "ipython",
    "version": 3
   },
   "file_extension": ".py",
   "mimetype": "text/x-python",
   "name": "python",
   "nbconvert_exporter": "python",
   "pygments_lexer": "ipython3",
   "version": "3.9.8"
  }
 },
 "nbformat": 4,
 "nbformat_minor": 5
}
