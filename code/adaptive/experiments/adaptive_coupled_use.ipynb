{
 "cells": [
  {
   "cell_type": "code",
   "execution_count": 1,
   "metadata": {},
   "outputs": [],
   "source": [
    "import numpy as np\n",
    "import pandas as pd\n",
    "import plotly.express as px\n",
    "import time\n",
    "import os\n",
    "import psutil\n",
    "from tqdm import tqdm\n",
    "import matplotlib.pyplot as plt\n",
    "import warnings\n",
    "warnings.filterwarnings(\"ignore\")\n",
    "from scipy.interpolate import lagrange\n",
    "from numpy.polynomial.polynomial import Polynomial\n",
    "import sys\n",
    "from base_path import base_path\n",
    "sys.path.insert(0, f'{base_path}/adaptive/source_code')\n",
    "sys.path.insert(0, f'{base_path}/disaggregated/source_code')\n",
    "\n",
    "# Import our adaptive module:\n",
    "adaptive_coupled_MDP = __import__('adaptive_coupled_MDP', globals=None, locals=None, fromlist=(), level=0)\n",
    "Adaptive = adaptive_coupled_MDP.Adaptive_Coupled"
   ]
  },
  {
   "cell_type": "code",
   "execution_count": null,
   "metadata": {},
   "outputs": [],
   "source": [
    "# TODO: Test the coupled adaptive algorithm with Dengue Parameters"
   ]
  }
 ],
 "metadata": {
  "kernelspec": {
   "display_name": "Python 3",
   "language": "python",
   "name": "python3"
  },
  "language_info": {
   "codemirror_mode": {
    "name": "ipython",
    "version": 3
   },
   "file_extension": ".py",
   "mimetype": "text/x-python",
   "name": "python",
   "nbconvert_exporter": "python",
   "pygments_lexer": "ipython3",
   "version": "3.9.8"
  },
  "orig_nbformat": 4
 },
 "nbformat": 4,
 "nbformat_minor": 2
}
