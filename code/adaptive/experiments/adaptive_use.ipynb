{
 "cells": [
  {
   "cell_type": "code",
   "execution_count": 4,
   "id": "b8e620fe-891d-4395-8405-41f6c7436f5e",
   "metadata": {},
   "outputs": [],
   "source": [
    "import numpy as np\n",
    "import pandas as pd\n",
    "import plotly.express as px\n",
    "import time\n",
    "import os\n",
    "import psutil\n",
    "from tqdm import tqdm\n",
    "import matplotlib.pyplot as plt\n",
    "import warnings\n",
    "warnings.filterwarnings(\"ignore\")\n",
    "from scipy.interpolate import lagrange\n",
    "from numpy.polynomial.polynomial import Polynomial\n",
    "import sys\n",
    "from base_path import base_path\n",
    "sys.path.insert(0, f'{base_path}/adaptive/source_code')\n",
    "sys.path.insert(0, f'{base_path}/disaggregated/source_code')\n",
    "\n",
    "# Import our adaptive module:\n",
    "adaptive_MDP = __import__('adaptive_MDP', globals=None, locals=None, fromlist=(), level=0)\n",
    "poly_utils = __import__('poly_utils', globals=None, locals=None, fromlist=(), level=0)\n",
    "Adaptive = adaptive_MDP.Adaptive\n",
    "\n",
    "# Import non adaptive modules to compare:\n",
    "non_adaptive = __import__('non_adaptive', globals=None, locals=None, fromlist=(), level=0)\n",
    "poly_utils = __import__('poly_utils', globals=None, locals=None, fromlist=(), level=0)\n",
    "NonAdaptive = non_adaptive.NonAdaptive"
   ]
  },
  {
   "cell_type": "code",
   "execution_count": 4,
   "id": "7d4cd72f-69e9-4424-a416-52e6a903e54b",
   "metadata": {},
   "outputs": [],
   "source": [
    "def elapsed_since(start):\n",
    "    return time.strftime(\"%H:%M:%S\", time.gmtime(time.time() - start))\n",
    "\n",
    "\n",
    "def get_process_memory():\n",
    "    process = psutil.Process(os.getpid())\n",
    "    return process.memory_info().rss\n",
    "\n",
    "\n",
    "def track(func):\n",
    "    def wrapper(*args, **kwargs):\n",
    "        mem_before = get_process_memory()\n",
    "        start = time.time()\n",
    "        result = func(*args, **kwargs)\n",
    "        elapsed_time = elapsed_since(start)\n",
    "        mem_after = get_process_memory()\n",
    "        print(\"{}: memory before: {:,}, after: {:,}, consumed: {:,}; exec time: {}\".format(\n",
    "            func.__name__,\n",
    "            mem_before, mem_after, mem_after - mem_before,\n",
    "            elapsed_time))\n",
    "        return result\n",
    "    return wrapper"
   ]
  },
  {
   "attachments": {},
   "cell_type": "markdown",
   "id": "f48b6c31-5f7e-4c5f-a3a7-b920bee92cd7",
   "metadata": {},
   "source": [
    "### Examples to initialize"
   ]
  },
  {
   "cell_type": "code",
   "execution_count": null,
   "id": "a9c56961-4c1b-4bf3-8359-757c3556ed04",
   "metadata": {},
   "outputs": [],
   "source": [
    "# # ================================================== #\n",
    "\n",
    "# # Initial parameters (Example from Fenichel et al):\n",
    "# mu = 0\n",
    "# gamma = 0.1823\n",
    "# beta = 0.0825\n",
    "# phi = 0\n",
    "\n",
    "# # R values:\n",
    "# Rmu = mu/(mu+ gamma)\n",
    "# Rphi = phi/(mu + gamma)\n",
    "\n",
    "# ### Adaptive parameters\n",
    "\n",
    "# # Quadratic Utility functions:\n",
    "\n",
    "# b_s = 10 # Making the max utility attained at b_s/2 \n",
    "# b_i = 6.67 # Making the max utility attained at b_i/2 \n",
    "# b_z = 10 # Making the max utility attained at b_z/2 \n",
    "# a_s = 0\n",
    "# a_i = 1.826\n",
    "# a_z = 0\n",
    "# nu = 0.25\n",
    "# tau = 12\n",
    "# delta = 0.99986\n",
    "\n",
    "# # ================================================== #\n",
    "\n",
    "# # Immediate rewards: (Utility functions)\n",
    "# def u_s(a):\n",
    "#     return ((b_s*a - a**2)**nu)*((b_s*a - a**2)**nu) - a_s\n",
    "# def u_i(a):\n",
    "#     return (b_i*a - a**2)**nu - a_i\n",
    "# def u_z(a):\n",
    "#     return (b_z*a - a**2)**nu - a_z\n",
    "\n",
    "# ### Simulation parameters\n",
    "# t_max = 150\n",
    "# steps = 100\n",
    "# x00 = [9999, 1, 0]"
   ]
  },
  {
   "cell_type": "code",
   "execution_count": 3,
   "id": "4ee7c542-613a-4b5c-ba0e-a6a530019a40",
   "metadata": {},
   "outputs": [],
   "source": [
    "# # ================================================== #\n",
    "\n",
    "# # Initial parameters (Example from B. Morin et al): Not working for now (?)\n",
    "# Lambda = 80\n",
    "# mu = Lambda/10000 # (making mu*N = Lambda)\n",
    "# gamma = 0.2\n",
    "# beta = 0.2\n",
    "# phi = 0\n",
    "\n",
    "# # R values:\n",
    "# Rmu = mu/(mu+ gamma)\n",
    "# Rphi = phi/(mu + gamma)\n",
    "\n",
    "# ### Adaptive parameters\n",
    "\n",
    "# # Quadratic Utility functions:\n",
    "\n",
    "# b_s = 24 # Making the max utility attained at b_s/2 \n",
    "# b_i = 12 # Making the max utility attained at b_i/2 \n",
    "# b_z = 24 # Making the max utility attained at b_z/2 \n",
    "# nu = 0.2\n",
    "# tau = 3\n",
    "# delta = 0.9986\n",
    "\n",
    "# # ================================================== #\n",
    "\n",
    "# # Immediate rewards: (Utility functions)\n",
    "# def u_s(a):\n",
    "#     return (b_s*a - a**2)**nu\n",
    "# def u_i(a):\n",
    "#     return 0\n",
    "# def u_z(a):\n",
    "#     return (b_z*a - a**2)**nu\n",
    "\n",
    "# ### Simulation parameters\n",
    "# t_max = 900\n",
    "# steps = 100\n",
    "# x00 = [9999, 1, 0]"
   ]
  },
  {
   "cell_type": "code",
   "execution_count": 6,
   "id": "92c99ea5-5a11-436c-9b4e-7644e1392e8a",
   "metadata": {},
   "outputs": [],
   "source": [
    "# Initial parameters Our example with relapse (from chapter 2)----- #\n",
    "mu = 0.00015\n",
    "gamma = 0.0027\n",
    "beta = 0.00096\n",
    "phi = 0.0044\n",
    "\n",
    "# R values:\n",
    "Rmu = mu/(mu+ gamma)\n",
    "Rphi = phi/(mu + gamma)\n",
    "\n",
    "### Adaptive parameters\n",
    "\n",
    "# Quadratic Utility functions:\n",
    "\n",
    "b_s = 24 # Making the max utility attained at b_s/2 \n",
    "b_i = 20 # Making the max utility attained at b_i/2 \n",
    "b_z = 30 # Making the max utility attained at b_z/2 \n",
    "a_s = 0\n",
    "a_i = 0\n",
    "a_z = 0\n",
    "nu = 0.01375\n",
    "tau = 12\n",
    "delta = 0.9986\n",
    "\n",
    "# Immediate rewards:\n",
    "def u_s(a):\n",
    "    return (b_s*a - a**2)**nu - a_s\n",
    "def u_i(a):\n",
    "    return (b_i*a - a**2)**nu - a_i\n",
    "def u_z(a):\n",
    "    return (b_z*a - a**2)**nu - a_z\n",
    "\n",
    "### Simulation parameters\n",
    "t_max = 5000\n",
    "steps = 100\n",
    "x00 = [9999, 1, 0]"
   ]
  },
  {
   "attachments": {},
   "cell_type": "markdown",
   "id": "18ba9ee5-bacb-40dc-86df-c354d1324588",
   "metadata": {},
   "source": [
    "### Paste uni-step solutions through time"
   ]
  },
  {
   "cell_type": "code",
   "execution_count": 7,
   "id": "d6f49c60-9e06-4f44-86d7-71ae68321ac2",
   "metadata": {},
   "outputs": [],
   "source": [
    "@track\n",
    "def run_adaptive():\n",
    "    # Initialize adaptive instances\n",
    "    instance_adaptive = Adaptive(\n",
    "        mu, gamma, beta, phi,\n",
    "        tau, delta,\n",
    "        u_s, u_i, u_z,\n",
    "        t_max, steps, x00, max_contacts=30,\n",
    "        logs=False, verbose=False, compute_max_t_threshold=1e-6)\n",
    "    start = time.time()\n",
    "    instance_adaptive.patch_uni_solutions()\n",
    "    end = time.time()\n",
    "    print(f\"Running the adaptive algorithm took {(end - start)/60} minutes.\")\n",
    "    return instance_adaptive"
   ]
  },
  {
   "cell_type": "code",
   "execution_count": 8,
   "id": "18dbfa3a-0b1d-4ca8-ae2a-623882198130",
   "metadata": {},
   "outputs": [
    {
     "name": "stderr",
     "output_type": "stream",
     "text": [
      "100%|██████████████████████████████████████████████████████████████████████████████| 5000/5000 [04:15<00:00, 19.57it/s]"
     ]
    },
    {
     "name": "stdout",
     "output_type": "stream",
     "text": [
      "Running the adaptive algorithm took 4.259414958953857 minutes.\n",
      "run_adaptive: memory before: 180,928,512, after: 203,677,696, consumed: 22,749,184; exec time: 00:04:15\n"
     ]
    },
    {
     "name": "stderr",
     "output_type": "stream",
     "text": [
      "\n"
     ]
    }
   ],
   "source": [
    "instance_adaptive = run_adaptive()"
   ]
  },
  {
   "attachments": {},
   "cell_type": "markdown",
   "id": "e8f463e2-eeb2-4902-b6b1-bf33fe4b741b",
   "metadata": {},
   "source": [
    "### Display history of optimal contacts selected"
   ]
  },
  {
   "cell_type": "code",
   "execution_count": 6,
   "id": "61d6a498-27ec-4d11-bed8-8bff649568a8",
   "metadata": {},
   "outputs": [
    {
     "name": "stderr",
     "output_type": "stream",
     "text": [
      "100%|█████████████████████████████████████████████████████████████████████████████| 5000/5000 [00:06<00:00, 764.52it/s]\n"
     ]
    },
    {
     "data": {
      "image/png": "[encoded data removed]",
      "text/plain": [
       "<Figure size 432x288 with 1 Axes>"
      ]
     },
     "metadata": {
      "needs_background": "light"
     },
     "output_type": "display_data"
    }
   ],
   "source": [
    "Cs = instance_adaptive.cs_history\n",
    "cs_unistep = []\n",
    "for i in tqdm(range(len(Cs))):\n",
    "    cs_unistep = cs_unistep + [Cs[i]]*instance_adaptive.steps\n",
    "\n",
    "plt.plot(np.linspace(0, instance_adaptive.t_max, len(cs_unistep)), cs_unistep, 'goldenrod', label=\"C^s\", linewidth=4, )\n",
    "plt.xlabel(\"Time (t)\")\n",
    "plt.ylabel(\"Optimal contact selected\")\n",
    "plt.legend(loc = \"upper right\")\n",
    "plt.rcParams[\"figure.figsize\"] = (10,6)\n",
    "plt.show()"
   ]
  },
  {
   "cell_type": "code",
   "execution_count": 7,
   "id": "1441941e-bb37-48ec-8e0a-5a2116207b4c",
   "metadata": {},
   "outputs": [
    {
     "name": "stderr",
     "output_type": "stream",
     "text": [
      "100%|█████████████████████████████████████████████████████████████████████████████| 5000/5000 [00:06<00:00, 757.18it/s]\n"
     ]
    },
    {
     "data": {
      "image/png": "[encoded data removed]",
      "text/plain": [
       "<Figure size 720x432 with 1 Axes>"
      ]
     },
     "metadata": {
      "needs_background": "light"
     },
     "output_type": "display_data"
    }
   ],
   "source": [
    "Cs = instance_adaptive.cz_history\n",
    "cs_unistep = []\n",
    "for i in tqdm(range(len(Cs))):\n",
    "    cs_unistep = cs_unistep + [Cs[i]]*instance_adaptive.steps\n",
    "\n",
    "plt.plot(np.linspace(0, instance_adaptive.t_max, len(cs_unistep)), cs_unistep, 'lightseagreen', label=\"C^z\", linewidth=4, )\n",
    "plt.xlabel(\"Time (t)\")\n",
    "plt.ylabel(\"Optimal contact selected\")\n",
    "plt.legend(loc = \"upper right\")\n",
    "plt.rcParams[\"figure.figsize\"] = (10,6)\n",
    "plt.show()"
   ]
  },
  {
   "cell_type": "code",
   "execution_count": 8,
   "id": "17cba2f5-6aac-46cd-84f4-86090512369b",
   "metadata": {},
   "outputs": [
    {
     "name": "stderr",
     "output_type": "stream",
     "text": [
      "100%|█████████████████████████████████████████████████████████████████████████████| 5000/5000 [00:06<00:00, 798.95it/s]\n",
      "100%|█████████████████████████████████████████████████████████████████████████████| 5000/5000 [00:06<00:00, 805.15it/s]\n",
      "100%|█████████████████████████████████████████████████████████████████████████████| 5000/5000 [00:06<00:00, 806.24it/s]\n"
     ]
    },
    {
     "name": "stdout",
     "output_type": "stream",
     "text": [
      "1.225\n",
      "1.2058823529411764\n",
      "0.825\n",
      "0.9705882352941176\n"
     ]
    }
   ],
   "source": [
    "Cs = instance_adaptive.cs_history\n",
    "cs_unistep = []\n",
    "for i in tqdm(range(len(Cs))):\n",
    "    cs_unistep = cs_unistep + [Cs[i]]*instance_adaptive.steps\n",
    "    \n",
    "Ci = instance_adaptive.ci_history\n",
    "ci_unistep = []\n",
    "for i in tqdm(range(len(Ci))):\n",
    "    ci_unistep = ci_unistep + [Ci[i]]*instance_adaptive.steps\n",
    "    \n",
    "Cz = instance_adaptive.cz_history\n",
    "cz_unistep = []\n",
    "for i in tqdm(range(len(Cs))):\n",
    "    cz_unistep = cz_unistep + [Cz[i]]*instance_adaptive.steps\n",
    "    \n",
    "kappas = [ci_unistep[i]/cs_unistep[i] for i in range(len(cs_unistep))]\n",
    "thetas = [cz_unistep[i]/cs_unistep[i] for i in range(len(cs_unistep))]\n",
    "\n",
    "print(thetas[0])\n",
    "print(thetas[-1])\n",
    "\n",
    "print(kappas[0])\n",
    "print(kappas[-1])"
   ]
  },
  {
   "cell_type": "code",
   "execution_count": 9,
   "id": "f532dff8-ee0f-4993-8d3b-4c637ff09878",
   "metadata": {},
   "outputs": [
    {
     "data": {
      "image/png": "[encoded data removed]",
      "text/plain": [
       "<Figure size 720x432 with 1 Axes>"
      ]
     },
     "metadata": {
      "needs_background": "light"
     },
     "output_type": "display_data"
    }
   ],
   "source": [
    "fig, ax = plt.subplots()\n",
    "ax.plot(np.linspace(0, instance_adaptive.t_max, len(cs_unistep)), thetas,\n",
    "         'lightseagreen', label=\"C^z/C^s\", linewidth=4, )\n",
    "ax.axvline(x = 600, color = 'b', alpha=0.5)\n",
    "ax.axvline(x = 3000, color = 'b', alpha=0.5)\n",
    "ax.axvspan(600, 3000, alpha=0.3, color='royalblue')\n",
    "\n",
    "ax.text(1300, 1.26, r'Adaptive Period', fontsize=12)\n",
    "plt.xlabel(\"Time (t)\")\n",
    "plt.ylabel(\"Theta\")\n",
    "plt.legend(loc = \"upper right\")\n",
    "plt.rcParams[\"figure.figsize\"] = (10,6)\n",
    "plt.show()"
   ]
  },
  {
   "cell_type": "code",
   "execution_count": 10,
   "id": "63f7ea21-819b-42ca-9cb8-d25cf3e96b44",
   "metadata": {},
   "outputs": [
    {
     "data": {
      "image/png": "[encoded data removed]",
      "text/plain": [
       "<Figure size 720x432 with 1 Axes>"
      ]
     },
     "metadata": {
      "needs_background": "light"
     },
     "output_type": "display_data"
    }
   ],
   "source": [
    "fig, ax = plt.subplots()\n",
    "ax.plot(np.linspace(0, instance_adaptive.t_max, len(cs_unistep)), kappas,\n",
    "         'plum', label=\"C^i/C^s\", linewidth=4, )\n",
    "ax.axvline(x = 600, color = 'b', alpha=0.5)\n",
    "ax.axvline(x = 3000, color = 'b', alpha=0.5)\n",
    "ax.axvspan(600, 3000, alpha=0.3, color='royalblue')\n",
    "\n",
    "ax.text(2000, 0.925, r'Adaptive Period', fontsize=12)\n",
    "plt.xlabel(\"Time (t)\")\n",
    "plt.ylabel(\"Theta\")\n",
    "plt.legend(loc = \"upper right\")\n",
    "plt.rcParams[\"figure.figsize\"] = (10,6)\n",
    "plt.show()"
   ]
  },
  {
   "cell_type": "code",
   "execution_count": 11,
   "id": "ff4d01be-56ea-4a6e-8bfc-bc1af8e69b67",
   "metadata": {},
   "outputs": [
    {
     "name": "stderr",
     "output_type": "stream",
     "text": [
      "100%|█████████████████████████████████████████████████████████████████████████████| 5000/5000 [00:06<00:00, 769.22it/s]\n"
     ]
    },
    {
     "data": {
      "image/png": "[encoded data removed]",
      "text/plain": [
       "<Figure size 720x432 with 1 Axes>"
      ]
     },
     "metadata": {
      "needs_background": "light"
     },
     "output_type": "display_data"
    }
   ],
   "source": [
    "Cs = instance_adaptive.ci_history\n",
    "cs_unistep = []\n",
    "for i in tqdm(range(len(Cs))):\n",
    "    cs_unistep = cs_unistep + [Cs[i]]*instance_adaptive.steps\n",
    "\n",
    "plt.plot(np.linspace(0, instance_adaptive.t_max, len(cs_unistep)), cs_unistep, 'salmon', label=\"C^i\", linewidth=4, )\n",
    "plt.xlabel(\"Time (t)\")\n",
    "plt.ylabel(\"Optimal contact selected\")\n",
    "plt.legend(loc = \"upper right\")\n",
    "plt.rcParams[\"figure.figsize\"] = (10,6)\n",
    "plt.show()"
   ]
  },
  {
   "attachments": {},
   "cell_type": "markdown",
   "id": "4b346c35-b52d-4c77-b8d9-f560f5067d1b",
   "metadata": {},
   "source": [
    "### Plot solution of the system through time"
   ]
  },
  {
   "cell_type": "code",
   "execution_count": 12,
   "id": "0400a557-d7de-420e-8824-e0add4999aa9",
   "metadata": {},
   "outputs": [
    {
     "data": {
      "image/png": "[encoded data removed]",
      "text/plain": [
       "<Figure size 720x432 with 1 Axes>"
      ]
     },
     "metadata": {
      "needs_background": "light"
     },
     "output_type": "display_data"
    }
   ],
   "source": [
    "t = np.linspace(0, instance_adaptive.t_max, len(instance_adaptive.S))\n",
    "instance_adaptive.plot_ode_solution(t = t, title = 'Adaptive Testing')"
   ]
  },
  {
   "attachments": {},
   "cell_type": "markdown",
   "id": "5a6a65c2-65db-4caf-8269-6503b3f69cc9",
   "metadata": {},
   "source": [
    "### Comparison with NON Adaptive models"
   ]
  },
  {
   "cell_type": "code",
   "execution_count": 4,
   "id": "b00e035f-922b-4e5a-90f9-dd236c2f3997",
   "metadata": {},
   "outputs": [
    {
     "name": "stderr",
     "output_type": "stream",
     "text": [
      "100%|███████████████████████████████████████████████████████████████████████| 500001/500001 [00:35<00:00, 14101.89it/s]\n",
      "100%|███████████████████████████████████████████████████████████████████████| 500001/500001 [00:34<00:00, 14407.38it/s]\n"
     ]
    },
    {
     "name": "stdout",
     "output_type": "stream",
     "text": [
      "Running the NON adaptive algorithms took 70.8952202796936 seconds.\n"
     ]
    }
   ],
   "source": [
    "start = time.time()\n",
    "# To compare, we take the Cs obtained at the start (ex ante) and at the end (ex post)\n",
    "\n",
    "instance_non_adaptive_ex_ante = NonAdaptive(\n",
    "    mu, gamma, beta, phi,\n",
    "    instance_adaptive.cs_history[0],\n",
    "    instance_adaptive.ci_history[0],\n",
    "    instance_adaptive.cz_history[0], x00, t_max)\n",
    "\n",
    "instance_non_adaptive_ex_post = NonAdaptive(\n",
    "    mu, gamma, beta, phi,\n",
    "    instance_adaptive.cs_history[-1],\n",
    "    instance_adaptive.ci_history[-1],\n",
    "    instance_adaptive.cz_history[-1], x00, t_max)\n",
    "\n",
    "instance_non_adaptive_ex_ante.solve_odes_system()\n",
    "instance_non_adaptive_ex_post.solve_odes_system()\n",
    "\n",
    "end = time.time()\n",
    "print(f\"Running the NON adaptive algorithms took {end - start} seconds.\")"
   ]
  },
  {
   "cell_type": "code",
   "execution_count": 5,
   "id": "6e863234-0a83-4ae8-a8c9-9f7b18a03a6a",
   "metadata": {},
   "outputs": [
    {
     "name": "stdout",
     "output_type": "stream",
     "text": [
      "\n",
      "\n",
      "Proportions and contacts.\n",
      "\n",
      "Ex ante:\n",
      "    - Cs: 12.121212121212121\n",
      "    - Ci: 10.0\n",
      "    - Cz: 14.84848484848485\n",
      "    - kappa: 0.825\n",
      "    - theta: 1.225\n",
      "    \n",
      "Ex post:\n",
      "    - Cs: 10.303030303030303\n",
      "    - Ci: 10.0\n",
      "    - Cz: 12.424242424242424\n",
      "    - kappa: 0.9705882352941176\n",
      "    - theta: 1.2058823529411764\n",
      "\n",
      "---- Final Points Attained ------------\n",
      "\n",
      "Ex ante:  0.39510210279257163\n",
      "Ex post:  0.3934389345748676\n",
      "Adaptive: 0.39348023238418495\n",
      "\n",
      "Theoretical Convergence Points:\n",
      "\n",
      "Ex ante: []\n",
      "Ex post: []\n",
      "\n",
      "R0 Non Adaptive:\n",
      "\n",
      "Ex ante: 0.3368421052631579\n",
      "Ex post: 0.3368421052631579\n",
      "\n",
      "\n",
      "Epidemic Maximum:\n",
      "\n",
      "Ex ante:  4936.871974499804\n",
      "Ex post:  4815.537279707531\n",
      "Adaptive: 4815.539074485804\n",
      "\n",
      "Time Epidemic Maximum is achieved:\n",
      "\n",
      "Ex ante:  1699.16\n",
      "Ex post:  1737.94\n",
      "Adaptive: 1747.42\n",
      "\n",
      "------------------------------\n",
      "\n"
     ]
    },
    {
     "data": {
      "image/png": "[encoded data removed]",
      "text/plain": [
       "<Figure size 432x288 with 1 Axes>"
      ]
     },
     "metadata": {
      "needs_background": "light"
     },
     "output_type": "display_data"
    }
   ],
   "source": [
    "R0_ante = instance_non_adaptive_ex_ante.I[0]*beta/(gamma + mu)\n",
    "R0_post = instance_non_adaptive_ex_post.I[0]*beta/(gamma + mu)\n",
    "\n",
    "kappa_ante = instance_adaptive.ci_history[0]/instance_adaptive.cs_history[0]\n",
    "theta_ante = instance_adaptive.cz_history[0]/instance_adaptive.cs_history[0]\n",
    "\n",
    "kappa_post = instance_adaptive.ci_history[-1]/instance_adaptive.cs_history[-1]\n",
    "theta_post = instance_adaptive.cz_history[-1]/instance_adaptive.cs_history[-1]\n",
    "\n",
    "print(f\"\"\"\n",
    "\n",
    "Proportions and contacts.\n",
    "\n",
    "Ex ante:\n",
    "    - Cs: {instance_adaptive.cs_history[0]}\n",
    "    - Ci: {instance_adaptive.ci_history[0]}\n",
    "    - Cz: {instance_adaptive.cz_history[0]}\n",
    "    - kappa: {kappa_ante}\n",
    "    - theta: {theta_ante}\n",
    "    \n",
    "Ex post:\n",
    "    - Cs: {instance_adaptive.cs_history[-1]}\n",
    "    - Ci: {instance_adaptive.ci_history[-1]}\n",
    "    - Cz: {instance_adaptive.cz_history[-1]}\n",
    "    - kappa: {kappa_post}\n",
    "    - theta: {theta_post}\n",
    "\n",
    "---- Final Points Attained ------------\n",
    "\n",
    "Ex ante:  {instance_non_adaptive_ex_ante.I[-1]/sum(x00)}\n",
    "Ex post:  {instance_non_adaptive_ex_post.I[-1]/sum(x00)}\n",
    "Adaptive: {instance_adaptive.I[-1]/sum(x00)}\n",
    "\n",
    "Theoretical Convergence Points:\n",
    "\n",
    "Ex ante: {poly_utils.solve_polynomial(Rphi, Rmu, R0_ante, kappa_ante, theta_ante)}\n",
    "Ex post: {poly_utils.solve_polynomial(Rphi, Rmu, R0_post, kappa_post, theta_post)}\n",
    "\n",
    "R0 Non Adaptive:\n",
    "\n",
    "Ex ante: {R0_ante}\n",
    "Ex post: {R0_post}\n",
    "\n",
    "\n",
    "Epidemic Maximum:\n",
    "\n",
    "Ex ante:  {np.max(instance_non_adaptive_ex_ante.I)}\n",
    "Ex post:  {np.max(instance_non_adaptive_ex_post.I)}\n",
    "Adaptive: {np.max(instance_adaptive.I)}\n",
    "\n",
    "Time Epidemic Maximum is achieved:\n",
    "\n",
    "Ex ante:  {instance_non_adaptive_ex_ante.I.tolist().index(np.max(instance_non_adaptive_ex_ante.I))/steps}\n",
    "Ex post:  {instance_non_adaptive_ex_post.I.tolist().index(np.max(instance_non_adaptive_ex_post.I))/steps}\n",
    "Adaptive: {instance_adaptive.I.tolist().index(np.max(instance_adaptive.I))/steps}\n",
    "\n",
    "------------------------------\n",
    "\"\"\")\n",
    "\n",
    "plt.plot(\n",
    "    np.linspace(0,t_max,len(instance_non_adaptive_ex_ante.I)),\n",
    "    instance_non_adaptive_ex_ante.I, \"salmon\", label=\"Non adaptive (ex ante)\", linewidth=2)\n",
    "plt.plot(\n",
    "    np.linspace(0,t_max,len(instance_adaptive.I)),\n",
    "    instance_adaptive.I, \"limegreen\", label=\"Adaptive\", linewidth=2)\n",
    "plt.plot(\n",
    "    np.linspace(0,t_max,len(instance_non_adaptive_ex_post.I)),\n",
    "    instance_non_adaptive_ex_post.I, \"blueviolet\", label=\"Non adaptive (ex post)\", linewidth=2)\n",
    "\n",
    "# plt.axvline(x = 2400, color = 'b')\n",
    "\n",
    "plt.xlabel(\"Time (t)\")\n",
    "plt.ylabel(\"Susceptible\")\n",
    "plt.legend(loc = \"lower right\")\n",
    "plt.rcParams[\"figure.figsize\"] = (10,6)\n",
    "plt.show()"
   ]
  },
  {
   "cell_type": "code",
   "execution_count": 6,
   "id": "021682d5-b234-4916-b690-dc63645f87d6",
   "metadata": {},
   "outputs": [
    {
     "data": {
      "image/png": "[encoded data removed]",
      "text/plain": [
       "<Figure size 720x432 with 1 Axes>"
      ]
     },
     "metadata": {
      "needs_background": "light"
     },
     "output_type": "display_data"
    }
   ],
   "source": [
    "diff_ante_adaptive = [instance_non_adaptive_ex_ante.I[i] - instance_adaptive.I[i] for i in range(len(instance_non_adaptive_ex_ante.I))]\n",
    "diff_post_adaptive = [instance_non_adaptive_ex_post.I[i] - instance_adaptive.I[i] for i in range(len(instance_non_adaptive_ex_post.I))]\n",
    "\n",
    "plt.plot(\n",
    "    np.linspace(0,t_max,len(instance_non_adaptive_ex_ante.I)),\n",
    "    diff_ante_adaptive, \"salmon\", label=\"Difference ex-ante and adaptive\", linewidth=2)\n",
    "plt.plot(\n",
    "    np.linspace(0,t_max,len(instance_non_adaptive_ex_ante.I)),\n",
    "    diff_post_adaptive, \"blueviolet\", label=\"Difference ex-post and adaptive\", linewidth=2)\n",
    "\n",
    "plt.axhline(y = 0, color = 'b')\n",
    "\n",
    "plt.xlabel(\"Time (t)\")\n",
    "plt.ylabel(\"# Infected Individuals\")\n",
    "plt.legend(loc = \"upper right\")\n",
    "plt.rcParams[\"figure.figsize\"] = (10,6)\n",
    "plt.show()"
   ]
  },
  {
   "attachments": {},
   "cell_type": "markdown",
   "id": "d69b8ea7-8c77-43e8-a1c3-f229cceb3982",
   "metadata": {},
   "source": [
    "### Other Comparisons"
   ]
  },
  {
   "attachments": {},
   "cell_type": "markdown",
   "id": "e3f6a54c-1d60-46ed-8bd0-e3b6428142ec",
   "metadata": {},
   "source": [
    "*Infection parameter matters*\n",
    "\n",
    "Note that $\\beta$ is present at the formulation of the transition probability: $P_{si}(a) = 1 - \\exp\\left(\\frac{-\\beta\\cdot a \\cdot C_i^*I}{S(t)\\cdot C_s^* +I(t)\\cdot C_i^* + Z(t)\\cdot C_z^*}\\right)$, making this probability close to zero if $\\beta$ is small.\n",
    "\n",
    "Reducing $\\beta$ thus reduces the posibility of altering the selection of contact rates at the adaptive algorithm. Here's the same example from above, with a smaller $\\beta$, we can see that the adaptive behavior is less variable (meaning that it deviates less from the optimal point of the utility function)."
   ]
  },
  {
   "cell_type": "code",
   "execution_count": 17,
   "id": "eeb4c25b-c0bd-4ffe-b1e3-0462eaf731da",
   "metadata": {},
   "outputs": [],
   "source": [
    "effect_of_beta = pd.read_csv(r\"C:\\Users\\jimmy\\OneDrive\\Desktop\\Maestria Metodos Matematicos y Aplicaciones\\Tesis\\adaptive\\code\\adaptive\\data\\effect_of_beta_1.csv\")"
   ]
  },
  {
   "cell_type": "code",
   "execution_count": 18,
   "id": "f2f99c41-2167-47c7-b208-299ae461aadf",
   "metadata": {},
   "outputs": [
    {
     "data": {
      "text/html": [
       "<div>\n",
       "<style scoped>\n",
       "    .dataframe tbody tr th:only-of-type {\n",
       "        vertical-align: middle;\n",
       "    }\n",
       "\n",
       "    .dataframe tbody tr th {\n",
       "        vertical-align: top;\n",
       "    }\n",
       "\n",
       "    .dataframe thead th {\n",
       "        text-align: right;\n",
       "    }\n",
       "</style>\n",
       "<table border=\"1\" class=\"dataframe\">\n",
       "  <thead>\n",
       "    <tr style=\"text-align: right;\">\n",
       "      <th></th>\n",
       "      <th>Unnamed: 0</th>\n",
       "      <th>beta</th>\n",
       "      <th>min_cs</th>\n",
       "      <th>peak_i</th>\n",
       "    </tr>\n",
       "  </thead>\n",
       "  <tbody>\n",
       "    <tr>\n",
       "      <th>0</th>\n",
       "      <td>0</td>\n",
       "      <td>0.050000</td>\n",
       "      <td>5.0</td>\n",
       "      <td>1.0</td>\n",
       "    </tr>\n",
       "    <tr>\n",
       "      <th>1</th>\n",
       "      <td>1</td>\n",
       "      <td>0.050505</td>\n",
       "      <td>5.0</td>\n",
       "      <td>1.0</td>\n",
       "    </tr>\n",
       "    <tr>\n",
       "      <th>2</th>\n",
       "      <td>2</td>\n",
       "      <td>0.051010</td>\n",
       "      <td>5.0</td>\n",
       "      <td>1.0</td>\n",
       "    </tr>\n",
       "    <tr>\n",
       "      <th>3</th>\n",
       "      <td>3</td>\n",
       "      <td>0.051515</td>\n",
       "      <td>5.0</td>\n",
       "      <td>1.0</td>\n",
       "    </tr>\n",
       "  </tbody>\n",
       "</table>\n",
       "</div>"
      ],
      "text/plain": [
       "   Unnamed: 0      beta  min_cs  peak_i\n",
       "0           0  0.050000     5.0     1.0\n",
       "1           1  0.050505     5.0     1.0\n",
       "2           2  0.051010     5.0     1.0\n",
       "3           3  0.051515     5.0     1.0"
      ]
     },
     "execution_count": 18,
     "metadata": {},
     "output_type": "execute_result"
    }
   ],
   "source": [
    "effect_of_beta.head(4)"
   ]
  },
  {
   "cell_type": "code",
   "execution_count": 19,
   "id": "8c8e4eaa-d6ba-4073-b35c-709572d3b5e6",
   "metadata": {},
   "outputs": [
    {
     "data": {
      "image/png": "[encoded data removed]",
      "text/plain": [
       "<Figure size 720x432 with 1 Axes>"
      ]
     },
     "metadata": {
      "needs_background": "light"
     },
     "output_type": "display_data"
    }
   ],
   "source": [
    "plt.plot(effect_of_beta['beta'],\n",
    "         effect_of_beta['min_cs'], \"royalblue\", label=\"Min C^s\", linewidth=3)\n",
    "plt.xlabel(\"Beta\")\n",
    "plt.ylabel(\"Contacts\")\n",
    "plt.legend(loc = \"upper right\")\n",
    "plt.rcParams[\"figure.figsize\"] = (10,6)\n",
    "plt.show()"
   ]
  },
  {
   "cell_type": "code",
   "execution_count": 20,
   "id": "74f9044d-5d53-481e-9ebb-2ca9a2a026ff",
   "metadata": {},
   "outputs": [],
   "source": [
    "effect_of_tau1 = pd.read_csv(r\"C:\\Users\\jimmy\\OneDrive\\Desktop\\Maestria Metodos Matematicos y Aplicaciones\\Tesis\\adaptive\\code\\adaptive\\data\\effect_of_tau_1.csv\")"
   ]
  },
  {
   "cell_type": "code",
   "execution_count": 21,
   "id": "8b1cbbbe-02a8-49ab-b819-3afe1776c451",
   "metadata": {},
   "outputs": [
    {
     "data": {
      "text/html": [
       "<div>\n",
       "<style scoped>\n",
       "    .dataframe tbody tr th:only-of-type {\n",
       "        vertical-align: middle;\n",
       "    }\n",
       "\n",
       "    .dataframe tbody tr th {\n",
       "        vertical-align: top;\n",
       "    }\n",
       "\n",
       "    .dataframe thead th {\n",
       "        text-align: right;\n",
       "    }\n",
       "</style>\n",
       "<table border=\"1\" class=\"dataframe\">\n",
       "  <thead>\n",
       "    <tr style=\"text-align: right;\">\n",
       "      <th></th>\n",
       "      <th>Unnamed: 0</th>\n",
       "      <th>tau</th>\n",
       "      <th>min_cs</th>\n",
       "      <th>peak_i</th>\n",
       "    </tr>\n",
       "  </thead>\n",
       "  <tbody>\n",
       "    <tr>\n",
       "      <th>0</th>\n",
       "      <td>0</td>\n",
       "      <td>2</td>\n",
       "      <td>4.393939</td>\n",
       "      <td>983.684100</td>\n",
       "    </tr>\n",
       "    <tr>\n",
       "      <th>1</th>\n",
       "      <td>1</td>\n",
       "      <td>4</td>\n",
       "      <td>4.090909</td>\n",
       "      <td>937.640917</td>\n",
       "    </tr>\n",
       "  </tbody>\n",
       "</table>\n",
       "</div>"
      ],
      "text/plain": [
       "   Unnamed: 0  tau    min_cs      peak_i\n",
       "0           0    2  4.393939  983.684100\n",
       "1           1    4  4.090909  937.640917"
      ]
     },
     "execution_count": 21,
     "metadata": {},
     "output_type": "execute_result"
    }
   ],
   "source": [
    "effect_of_tau1.head(2)"
   ]
  },
  {
   "cell_type": "code",
   "execution_count": 22,
   "id": "9a5a2fc8-61a0-4634-bf2f-f0de20d07015",
   "metadata": {},
   "outputs": [
    {
     "data": {
      "image/png": "[encoded data removed]",
      "text/plain": [
       "<Figure size 720x432 with 1 Axes>"
      ]
     },
     "metadata": {
      "needs_background": "light"
     },
     "output_type": "display_data"
    }
   ],
   "source": [
    "plt.plot(effect_of_tau1['tau'],\n",
    "         effect_of_tau1['min_cs'], \"mediumblue\", label=\"Min C^s\", linewidth=3)\n",
    "plt.xlabel(\"Horizon (tau)\")\n",
    "plt.ylabel(\"Contacts\")\n",
    "plt.legend(loc = \"lower right\")\n",
    "plt.rcParams[\"figure.figsize\"] = (10,6)\n",
    "plt.show()"
   ]
  },
  {
   "attachments": {},
   "cell_type": "markdown",
   "id": "10570a71-9a04-47ba-aecd-bfcad1ae8683",
   "metadata": {},
   "source": [
    "Changing $a_i=0$ in the non relapse model modifies the behavior of the previous plot."
   ]
  },
  {
   "cell_type": "code",
   "execution_count": 23,
   "id": "144351d8-81cb-4275-964a-e0f05e3d20a3",
   "metadata": {},
   "outputs": [],
   "source": [
    "effect_of_tau2 = pd.read_csv(r\"C:\\Users\\jimmy\\OneDrive\\Desktop\\Maestria Metodos Matematicos y Aplicaciones\\Tesis\\adaptive\\code\\adaptive\\data\\effect_of_tau_2.csv\")"
   ]
  },
  {
   "cell_type": "code",
   "execution_count": 24,
   "id": "446f1445-796a-4164-9d8f-165efe129305",
   "metadata": {},
   "outputs": [
    {
     "data": {
      "image/png": "[encoded data removed]",
      "text/plain": [
       "<Figure size 720x432 with 1 Axes>"
      ]
     },
     "metadata": {
      "needs_background": "light"
     },
     "output_type": "display_data"
    }
   ],
   "source": [
    "plt.plot(effect_of_tau2['tau'],\n",
    "         effect_of_tau2['min_cs'], \"mediumblue\", label=\"Min C^s\", linewidth=3)\n",
    "plt.xlabel(\"Horizon (tau)\")\n",
    "plt.ylabel(\"Contacts\")\n",
    "plt.legend(loc = \"lower right\")\n",
    "plt.rcParams[\"figure.figsize\"] = (10,6)\n",
    "plt.show()"
   ]
  },
  {
   "attachments": {},
   "cell_type": "markdown",
   "id": "2441b27b-5b9d-4821-b06d-7cf830e7cb17",
   "metadata": {},
   "source": [
    "#### Modifying utility functions:\n",
    "Effect of shape of utility function."
   ]
  },
  {
   "cell_type": "code",
   "execution_count": 25,
   "id": "a4b7c039-37d0-46ce-a7ac-015884083ba9",
   "metadata": {},
   "outputs": [],
   "source": [
    "# ================================================== #\n",
    "\n",
    "# Initial parameters (Example from Fenichel et al):\n",
    "mu = 0\n",
    "gamma = 0.1823\n",
    "beta = 0.0925\n",
    "phi = 0\n",
    "\n",
    "# R values:\n",
    "Rmu = mu/(mu+ gamma)\n",
    "Rphi = phi/(mu + gamma)\n",
    "\n",
    "### Adaptive parameters\n",
    "\n",
    "# Quadratic Utility functions:\n",
    "\n",
    "b_s = 10 # Making the max utility attained at b_s/2 \n",
    "b_i = 6.67 # Making the max utility attained at b_i/2 \n",
    "b_z = 10 # Making the max utility attained at b_z/2 \n",
    "a_s = 0\n",
    "a_i = 1.826\n",
    "a_z = 0\n",
    "nu = 0.25\n",
    "tau = 12\n",
    "delta = 0.99986\n",
    "\n",
    "### Simulation parameters\n",
    "t_max = 150\n",
    "steps = 100\n",
    "x00 = [9999, 1, 0]\n",
    "\n",
    "# Usual utility functions\n",
    "def u_i(a):\n",
    "    return (b_i*a - a**2)**nu - a_i\n",
    "def u_z(a):\n",
    "    return (b_z*a - a**2)**nu - a_z"
   ]
  },
  {
   "cell_type": "code",
   "execution_count": 26,
   "id": "3fb5bf35-50bf-4175-ba71-c0a387cea5fa",
   "metadata": {},
   "outputs": [
    {
     "data": {
      "image/png": "[encoded data removed]",
      "text/plain": [
       "<Figure size 720x432 with 1 Axes>"
      ]
     },
     "metadata": {
      "needs_background": "light"
     },
     "output_type": "display_data"
    },
    {
     "name": "stdout",
     "output_type": "stream",
     "text": [
      "Max value of u_s: 2.23606797749979\n",
      "Optimal point of u_s: 5.000000000000002\n",
      "Max value of du_s/da: 0.009870464520087108\n"
     ]
    }
   ],
   "source": [
    "def u_s_orig(a):\n",
    "    return (b_s*a - a**2)**nu - a_s\n",
    "\n",
    "x_new = np.arange(0, 10, 0.1)\n",
    "plt.plot(x_new, [u_s_orig(xx) for xx in x_new], 'seagreen',\n",
    "         label=\"Regular utility function\", linewidth=6)\n",
    "plt.xlabel(\"Contacts\")\n",
    "plt.ylabel(\"Utility\")\n",
    "plt.legend()\n",
    "plt.show()\n",
    "x_new = np.arange(3, 7, 0.1)\n",
    "vals_orig = [u_s_orig(a) for a in x_new]\n",
    "max_vals_orig = np.nanmax(vals_orig)\n",
    "gradient_orig = np.gradient(vals_orig)\n",
    "max_gradient_orig = np.nanmax(gradient_orig)\n",
    "print(f\"Max value of u_s: {max_vals_orig}\")\n",
    "print(f\"Optimal point of u_s: {x_new[vals_orig.index(max_vals_orig)]}\")\n",
    "print(f\"Max value of du_s/da: {max_gradient_orig}\")"
   ]
  },
  {
   "cell_type": "code",
   "execution_count": 28,
   "id": "b6e930ef-053a-45a7-a942-cf53c565c29b",
   "metadata": {},
   "outputs": [
    {
     "name": "stdout",
     "output_type": "stream",
     "text": [
      "[ 0.00000000e+00  9.33747416e-01 -9.74361649e-02 -1.35438200e-03\n",
      "  2.76052433e-04]\n"
     ]
    },
    {
     "data": {
      "image/png": "[encoded data removed]",
      "text/plain": [
       "<Figure size 720x432 with 1 Axes>"
      ]
     },
     "metadata": {
      "needs_background": "light"
     },
     "output_type": "display_data"
    },
    {
     "name": "stdout",
     "output_type": "stream",
     "text": [
      "Max value of u_s: 2.2360679774997854\n",
      "Optimal point of u_s: 5.000000000000002\n",
      "Max value of du_s/da: 0.03329237565704957\n"
     ]
    }
   ],
   "source": [
    "x = np.array([0, 4, 5, 6, 10])\n",
    "y = np.array([0, 2.16, max_vals_orig, 2.16, 1])\n",
    "\n",
    "poly = lagrange(x, y)\n",
    "coeffs = Polynomial(poly.coef[::-1]).coef\n",
    "print(coeffs)\n",
    "x_new = np.arange(0, 10.1, 0.1)\n",
    "\n",
    "plt.plot(x_new, sum([coeffs[i]*x_new**i for i in range(len(coeffs))]),\n",
    "         'seagreen',\n",
    "         label=\"New utility function\", linewidth=6)\n",
    "plt.scatter(x, y, color = 'red', s=100)\n",
    "\n",
    "plt.xlabel(\"Contacts\")\n",
    "plt.ylabel(\"Utility\")\n",
    "plt.legend()\n",
    "plt.show()\n",
    "\n",
    "# Change immediate reward to one with multiple optimal points:\n",
    "def u_s(a):\n",
    "    if a > 10:\n",
    "        return 0\n",
    "    else:\n",
    "        return sum([coeffs[i]*a**i for i in range(len(coeffs))])\n",
    "\n",
    "x_new = np.arange(3, 7, 0.1)\n",
    "vals = [u_s(a) for a in x_new]\n",
    "max_vals = np.nanmax(vals)\n",
    "gradient = np.gradient(vals)\n",
    "max_gradient = np.nanmax(gradient)\n",
    "print(f\"Max value of u_s: {max_vals}\")\n",
    "print(f\"Optimal point of u_s: {x_new[vals.index(max_vals)]}\")\n",
    "print(f\"Max value of du_s/da: {max_gradient}\")"
   ]
  },
  {
   "cell_type": "code",
   "execution_count": 29,
   "id": "5050339f-c357-4fd4-952f-41dbe46f046e",
   "metadata": {},
   "outputs": [
    {
     "name": "stderr",
     "output_type": "stream",
     "text": [
      "100%|████████████████████████████████████████████████████████████████████████████████| 150/150 [00:18<00:00,  8.19it/s]"
     ]
    },
    {
     "name": "stdout",
     "output_type": "stream",
     "text": [
      "Running the adaptive algorithm took 0.30521814823150634 minutes.\n"
     ]
    },
    {
     "name": "stderr",
     "output_type": "stream",
     "text": [
      "\n"
     ]
    }
   ],
   "source": [
    "# Initialize adaptive instances\n",
    "instance_adaptive = Adaptive(\n",
    "    mu, gamma, beta, phi,\n",
    "    tau, delta,\n",
    "    u_s, u_i, u_z,\n",
    "    t_max, steps, x00, max_contacts=30,\n",
    "    logs=False,\n",
    "    verbose=False,\n",
    "    compute_max_t_threshold=1e-6)\n",
    "start = time.time()\n",
    "instance_adaptive.patch_uni_solutions()\n",
    "end = time.time()\n",
    "print(f\"Running the adaptive algorithm took {(end - start)/60} minutes.\")"
   ]
  },
  {
   "cell_type": "code",
   "execution_count": 30,
   "id": "4a244076-aef4-455e-8dca-e0b7664fe147",
   "metadata": {},
   "outputs": [
    {
     "name": "stderr",
     "output_type": "stream",
     "text": [
      "100%|█████████████████████████████████████████████████████████████████████████████| 150/150 [00:00<00:00, 20059.48it/s]\n"
     ]
    },
    {
     "data": {
      "image/png": "[encoded data removed]",
      "text/plain": [
       "<Figure size 720x432 with 1 Axes>"
      ]
     },
     "metadata": {
      "needs_background": "light"
     },
     "output_type": "display_data"
    }
   ],
   "source": [
    "Cs = instance_adaptive.cs_history\n",
    "cs_unistep = []\n",
    "for i in tqdm(range(len(Cs))):\n",
    "    cs_unistep = cs_unistep + [Cs[i]]*instance_adaptive.steps\n",
    "\n",
    "plt.plot(np.linspace(0, instance_adaptive.t_max, len(cs_unistep)), cs_unistep, 'goldenrod', label=\"C^s\", linewidth=4, )\n",
    "plt.xlabel(\"Time (t)\")\n",
    "plt.ylabel(\"Optimal contact selected\")\n",
    "plt.legend(loc = \"lower right\")\n",
    "plt.rcParams[\"figure.figsize\"] = (10,6)\n",
    "plt.show()"
   ]
  },
  {
   "attachments": {},
   "cell_type": "markdown",
   "id": "73453fd9-60bc-41b7-87fd-6b6b7aa5bba7",
   "metadata": {},
   "source": [
    "### Bifurcation plots in the adaptive setting"
   ]
  },
  {
   "cell_type": "code",
   "execution_count": 5,
   "id": "bd22e7d5-545b-4f00-baa6-a809fe47a50c",
   "metadata": {},
   "outputs": [
    {
     "data": {
      "application/vnd.plotly.v1+json": {
       "config": {
        "plotlyServerURL": "https://plot.ly"
       },
       "data": [
        {
         "hovertemplate": "R0: %{x}<br>i*: %{y}",
         "legendgroup": "",
         "line": {
          "color": "blue",
          "width": 5
         },
         "marker": {
          "color": "slategray",
          "line": {
           "color": "DarkSlateGrey",
           "width": 2
          },
          "size": 5,
          "symbol": "circle"
         },
         "mode": "markers",
         "name": "",
         "orientation": "v",
         "showlegend": false,
         "type": "scatter",
         "x": [
          0.2862,
          0.5697,
          0.8532,
          1.1368,
          1.4203,
          1.7038,
          1.9873,
          2.2708,
          2.5543,
          2.8378,
          0.2862,
          0.5697,
          0.8532,
          1.1368,
          1.4203,
          1.7038,
          1.9873,
          2.2708,
          2.5543,
          2.8378,
          0.2862,
          0.5697,
          0.8532,
          1.1368,
          1.4203,
          1.7038,
          1.9873,
          2.2708,
          2.5543,
          2.8378,
          0.2862,
          0.5697,
          0.8532,
          1.1368,
          1.4203,
          1.7038,
          1.9873,
          2.2708,
          2.5543,
          2.8378,
          0.2862,
          0.5697,
          0.8532,
          1.1368,
          1.4203,
          1.7038,
          1.9873,
          2.2708,
          2.5543,
          2.8378,
          0.2862,
          0.5697,
          0.8532,
          1.1368,
          1.4203,
          1.7038,
          1.9873,
          2.2708,
          2.5543,
          2.8378,
          0.2862,
          0.5697,
          0.8532,
          1.1368,
          1.4203,
          1.7038,
          1.9873,
          2.2708,
          2.5543,
          2.8378,
          0.2862,
          0.5697,
          0.8532,
          1.1368,
          1.4203,
          1.7038,
          1.9873,
          2.2708,
          2.5543,
          2.8378,
          0.2862,
          0.5697,
          0.8532,
          1.1368,
          1.4203,
          1.7038,
          1.9873,
          2.2708,
          2.5543,
          2.8378,
          0.2862,
          0.5697,
          0.8532,
          1.1368,
          1.4203,
          1.7038,
          1.9873,
          2.2708,
          2.5543,
          2.8378
         ],
         "xaxis": "x",
         "y": [
          0.000138943515462,
          0.0002123666865515,
          0.0002868229960127,
          0.0337165247341262,
          0.3408194540254792,
          0.3599077973262683,
          0.3667772306310859,
          0.3754551778801808,
          0.3830491691402475,
          0.3888408321698017,
          2.5112529975213687e-10,
          0.0000014910714142414292,
          0.0004778827305367,
          0.3060321102444955,
          0.3480908978254149,
          0.3621713907124897,
          0.3726607522885605,
          0.3812086700268751,
          0.3887011971850553,
          0.3944193785348167,
          1.5926799956868503e-9,
          0.000009690299491968896,
          0.003749183662231,
          0.3188466461073974,
          0.3542175404344691,
          0.3684195847448029,
          0.3787810527986893,
          0.3872309815514876,
          0.3946430422292671,
          0.3996729029544005,
          7.679264906914989e-9,
          0.0000523789468793999,
          0.0417294774923829,
          0.327178297863395,
          0.3554616410885851,
          0.3746874413828154,
          0.3849256455470358,
          0.3932850906587888,
          0.4006132766537526,
          0.4055906080161215,
          3.3098060737221395e-8,
          0.0002840450675441,
          0.1617133432868761,
          0.3346949915730974,
          0.3652601642302305,
          0.3809523894129484,
          0.3910721338790277,
          0.4001656640879789,
          0.4069250432626201,
          0.4115169805484724,
          1.3388710719081453e-7,
          0.0016743762289616,
          0.2478075923226798,
          0.3419126930353572,
          0.3717198872129899,
          0.3871919243666418,
          0.3971981280807676,
          0.4065639590131574,
          0.4134781325234536,
          0.4174301197275142,
          5.261326599003926e-7,
          0.0107569396895064,
          0.2826797653810034,
          0.3490215539907486,
          0.3781895000853114,
          0.3934513625907164,
          0.4033478544068682,
          0.4126114024358858,
          0.4194579718144859,
          0.423372447961938,
          0.000002022503578582051,
          0.0544218770709537,
          0.300427284012744,
          0.3560447128246381,
          0.384646794062108,
          0.3997081954375308,
          0.4094989758872597,
          0.4186634395160933,
          0.4254442492461094,
          0.4293221589004495,
          0.000007602665357573759,
          0.1361875636725628,
          0.3124998220263577,
          0.3629807340187183,
          0.3910694526889096,
          0.4059399506760965,
          0.4156291531758131,
          0.4246979260222138,
          0.4314149935672243,
          0.4352573663712634,
          0.000028125344548518977,
          0.1999770229599573,
          0.3223983067997246,
          0.3698928837077529,
          0.3975048083806891,
          0.4121918856075475,
          0.4217826969927677,
          0.430758341296372,
          0.4374132048266266,
          0.441220736842535
         ],
         "yaxis": "y"
        },
        {
         "hovertemplate": "<b>LOWESS trendline</b><br><br>$R_0^{\\text{apparent}}$=%{x}<br>$i^*$=%{y} <b>(trend)</b><extra></extra>",
         "legendgroup": "",
         "line": {
          "color": "blue",
          "width": 5
         },
         "marker": {
          "color": "#636efa",
          "symbol": "circle"
         },
         "mode": "lines",
         "name": "",
         "showlegend": false,
         "type": "scatter",
         "x": [
          0.2862,
          0.2862,
          0.2862,
          0.2862,
          0.2862,
          0.2862,
          0.2862,
          0.2862,
          0.2862,
          0.2862,
          0.5697,
          0.5697,
          0.5697,
          0.5697,
          0.5697,
          0.5697,
          0.5697,
          0.5697,
          0.5697,
          0.5697,
          0.8532,
          0.8532,
          0.8532,
          0.8532,
          0.8532,
          0.8532,
          0.8532,
          0.8532,
          0.8532,
          0.8532,
          1.1368,
          1.1368,
          1.1368,
          1.1368,
          1.1368,
          1.1368,
          1.1368,
          1.1368,
          1.1368,
          1.1368,
          1.4203,
          1.4203,
          1.4203,
          1.4203,
          1.4203,
          1.4203,
          1.4203,
          1.4203,
          1.4203,
          1.4203,
          1.7038,
          1.7038,
          1.7038,
          1.7038,
          1.7038,
          1.7038,
          1.7038,
          1.7038,
          1.7038,
          1.7038,
          1.9873,
          1.9873,
          1.9873,
          1.9873,
          1.9873,
          1.9873,
          1.9873,
          1.9873,
          1.9873,
          1.9873,
          2.2708,
          2.2708,
          2.2708,
          2.2708,
          2.2708,
          2.2708,
          2.2708,
          2.2708,
          2.2708,
          2.2708,
          2.5543,
          2.5543,
          2.5543,
          2.5543,
          2.5543,
          2.5543,
          2.5543,
          2.5543,
          2.5543,
          2.5543,
          2.8378,
          2.8378,
          2.8378,
          2.8378,
          2.8378,
          2.8378,
          2.8378,
          2.8378,
          2.8378,
          2.8378
         ],
         "xaxis": "x",
         "y": [
          -0.005554293011815412,
          -0.005554293011815412,
          -0.005554293011815412,
          -0.005554293011815412,
          -0.005554293011815412,
          -0.005554293011815412,
          -0.005554293011815412,
          -0.005554293011815412,
          -0.005554293011815412,
          -0.005554293011815412,
          0.10329543243162963,
          0.10329543243162963,
          0.10329543243162963,
          0.10329543243162963,
          0.10329543243162963,
          0.10329543243162963,
          0.10329543243162963,
          0.10329543243162963,
          0.10329543243162963,
          0.10329543243162963,
          0.20164227935937595,
          0.20164227935937595,
          0.20164227935937595,
          0.20164227935937595,
          0.20164227935937595,
          0.20164227935937595,
          0.20164227935937595,
          0.20164227935937595,
          0.20164227935937595,
          0.20164227935937595,
          0.32178744866082815,
          0.32178744866082815,
          0.32178744866082815,
          0.32178744866082815,
          0.32178744866082815,
          0.32178744866082815,
          0.32178744866082815,
          0.32178744866082815,
          0.32178744866082815,
          0.32178744866082815,
          0.3643580646256791,
          0.3643580646256791,
          0.3643580646256791,
          0.3643580646256791,
          0.3643580646256791,
          0.3643580646256791,
          0.3643580646256791,
          0.3643580646256791,
          0.3643580646256791,
          0.3643580646256791,
          0.3824488784554441,
          0.3824488784554441,
          0.3824488784554441,
          0.3824488784554441,
          0.3824488784554441,
          0.3824488784554441,
          0.3824488784554441,
          0.3824488784554441,
          0.3824488784554441,
          0.3824488784554441,
          0.3938266955633549,
          0.3938266955633549,
          0.3938266955633549,
          0.3938266955633549,
          0.3938266955633549,
          0.3938266955633549,
          0.3938266955633549,
          0.3938266955633549,
          0.3938266955633549,
          0.3938266955633549,
          0.4024690663021508,
          0.4024690663021508,
          0.4024690663021508,
          0.4024690663021508,
          0.4024690663021508,
          0.4024690663021508,
          0.4024690663021508,
          0.4024690663021508,
          0.4024690663021508,
          0.4024690663021508,
          0.40904078697014895,
          0.40904078697014895,
          0.40904078697014895,
          0.40904078697014895,
          0.40904078697014895,
          0.40904078697014895,
          0.40904078697014895,
          0.40904078697014895,
          0.40904078697014895,
          0.40904078697014895,
          0.41537585037630087,
          0.41537585037630087,
          0.41537585037630087,
          0.41537585037630087,
          0.41537585037630087,
          0.41537585037630087,
          0.41537585037630087,
          0.41537585037630087,
          0.41537585037630087,
          0.41537585037630087
         ],
         "yaxis": "y"
        }
       ],
       "layout": {
        "height": 500,
        "legend": {
         "tracegroupgap": 0
        },
        "margin": {
         "b": 20,
         "l": 70,
         "r": 20,
         "t": 50
        },
        "plot_bgcolor": "rgba(0, 0, 0, 0)",
        "template": {
         "data": {
          "bar": [
           {
            "error_x": {
             "color": "#2a3f5f"
            },
            "error_y": {
             "color": "#2a3f5f"
            },
            "marker": {
             "line": {
              "color": "#E5ECF6",
              "width": 0.5
             },
             "pattern": {
              "fillmode": "overlay",
              "size": 10,
              "solidity": 0.2
             }
            },
            "type": "bar"
           }
          ],
          "barpolar": [
           {
            "marker": {
             "line": {
              "color": "#E5ECF6",
              "width": 0.5
             },
             "pattern": {
              "fillmode": "overlay",
              "size": 10,
              "solidity": 0.2
             }
            },
            "type": "barpolar"
           }
          ],
          "carpet": [
           {
            "aaxis": {
             "endlinecolor": "#2a3f5f",
             "gridcolor": "white",
             "linecolor": "white",
             "minorgridcolor": "white",
             "startlinecolor": "#2a3f5f"
            },
            "baxis": {
             "endlinecolor": "#2a3f5f",
             "gridcolor": "white",
             "linecolor": "white",
             "minorgridcolor": "white",
             "startlinecolor": "#2a3f5f"
            },
            "type": "carpet"
           }
          ],
          "choropleth": [
           {
            "colorbar": {
             "outlinewidth": 0,
             "ticks": ""
            },
            "type": "choropleth"
           }
          ],
          "contour": [
           {
            "colorbar": {
             "outlinewidth": 0,
             "ticks": ""
            },
            "colorscale": [
             [
              0,
              "#0d0887"
             ],
             [
              0.1111111111111111,
              "#46039f"
             ],
             [
              0.2222222222222222,
              "#7201a8"
             ],
             [
              0.3333333333333333,
              "#9c179e"
             ],
             [
              0.4444444444444444,
              "#bd3786"
             ],
             [
              0.5555555555555556,
              "#d8576b"
             ],
             [
              0.6666666666666666,
              "#ed7953"
             ],
             [
              0.7777777777777778,
              "#fb9f3a"
             ],
             [
              0.8888888888888888,
              "#fdca26"
             ],
             [
              1,
              "#f0f921"
             ]
            ],
            "type": "contour"
           }
          ],
          "contourcarpet": [
           {
            "colorbar": {
             "outlinewidth": 0,
             "ticks": ""
            },
            "type": "contourcarpet"
           }
          ],
          "heatmap": [
           {
            "colorbar": {
             "outlinewidth": 0,
             "ticks": ""
            },
            "colorscale": [
             [
              0,
              "#0d0887"
             ],
             [
              0.1111111111111111,
              "#46039f"
             ],
             [
              0.2222222222222222,
              "#7201a8"
             ],
             [
              0.3333333333333333,
              "#9c179e"
             ],
             [
              0.4444444444444444,
              "#bd3786"
             ],
             [
              0.5555555555555556,
              "#d8576b"
             ],
             [
              0.6666666666666666,
              "#ed7953"
             ],
             [
              0.7777777777777778,
              "#fb9f3a"
             ],
             [
              0.8888888888888888,
              "#fdca26"
             ],
             [
              1,
              "#f0f921"
             ]
            ],
            "type": "heatmap"
           }
          ],
          "heatmapgl": [
           {
            "colorbar": {
             "outlinewidth": 0,
             "ticks": ""
            },
            "colorscale": [
             [
              0,
              "#0d0887"
             ],
             [
              0.1111111111111111,
              "#46039f"
             ],
             [
              0.2222222222222222,
              "#7201a8"
             ],
             [
              0.3333333333333333,
              "#9c179e"
             ],
             [
              0.4444444444444444,
              "#bd3786"
             ],
             [
              0.5555555555555556,
              "#d8576b"
             ],
             [
              0.6666666666666666,
              "#ed7953"
             ],
             [
              0.7777777777777778,
              "#fb9f3a"
             ],
             [
              0.8888888888888888,
              "#fdca26"
             ],
             [
              1,
              "#f0f921"
             ]
            ],
            "type": "heatmapgl"
           }
          ],
          "histogram": [
           {
            "marker": {
             "pattern": {
              "fillmode": "overlay",
              "size": 10,
              "solidity": 0.2
             }
            },
            "type": "histogram"
           }
          ],
          "histogram2d": [
           {
            "colorbar": {
             "outlinewidth": 0,
             "ticks": ""
            },
            "colorscale": [
             [
              0,
              "#0d0887"
             ],
             [
              0.1111111111111111,
              "#46039f"
             ],
             [
              0.2222222222222222,
              "#7201a8"
             ],
             [
              0.3333333333333333,
              "#9c179e"
             ],
             [
              0.4444444444444444,
              "#bd3786"
             ],
             [
              0.5555555555555556,
              "#d8576b"
             ],
             [
              0.6666666666666666,
              "#ed7953"
             ],
             [
              0.7777777777777778,
              "#fb9f3a"
             ],
             [
              0.8888888888888888,
              "#fdca26"
             ],
             [
              1,
              "#f0f921"
             ]
            ],
            "type": "histogram2d"
           }
          ],
          "histogram2dcontour": [
           {
            "colorbar": {
             "outlinewidth": 0,
             "ticks": ""
            },
            "colorscale": [
             [
              0,
              "#0d0887"
             ],
             [
              0.1111111111111111,
              "#46039f"
             ],
             [
              0.2222222222222222,
              "#7201a8"
             ],
             [
              0.3333333333333333,
              "#9c179e"
             ],
             [
              0.4444444444444444,
              "#bd3786"
             ],
             [
              0.5555555555555556,
              "#d8576b"
             ],
             [
              0.6666666666666666,
              "#ed7953"
             ],
             [
              0.7777777777777778,
              "#fb9f3a"
             ],
             [
              0.8888888888888888,
              "#fdca26"
             ],
             [
              1,
              "#f0f921"
             ]
            ],
            "type": "histogram2dcontour"
           }
          ],
          "mesh3d": [
           {
            "colorbar": {
             "outlinewidth": 0,
             "ticks": ""
            },
            "type": "mesh3d"
           }
          ],
          "parcoords": [
           {
            "line": {
             "colorbar": {
              "outlinewidth": 0,
              "ticks": ""
             }
            },
            "type": "parcoords"
           }
          ],
          "pie": [
           {
            "automargin": true,
            "type": "pie"
           }
          ],
          "scatter": [
           {
            "marker": {
             "colorbar": {
              "outlinewidth": 0,
              "ticks": ""
             }
            },
            "type": "scatter"
           }
          ],
          "scatter3d": [
           {
            "line": {
             "colorbar": {
              "outlinewidth": 0,
              "ticks": ""
             }
            },
            "marker": {
             "colorbar": {
              "outlinewidth": 0,
              "ticks": ""
             }
            },
            "type": "scatter3d"
           }
          ],
          "scattercarpet": [
           {
            "marker": {
             "colorbar": {
              "outlinewidth": 0,
              "ticks": ""
             }
            },
            "type": "scattercarpet"
           }
          ],
          "scattergeo": [
           {
            "marker": {
             "colorbar": {
              "outlinewidth": 0,
              "ticks": ""
             }
            },
            "type": "scattergeo"
           }
          ],
          "scattergl": [
           {
            "marker": {
             "colorbar": {
              "outlinewidth": 0,
              "ticks": ""
             }
            },
            "type": "scattergl"
           }
          ],
          "scattermapbox": [
           {
            "marker": {
             "colorbar": {
              "outlinewidth": 0,
              "ticks": ""
             }
            },
            "type": "scattermapbox"
           }
          ],
          "scatterpolar": [
           {
            "marker": {
             "colorbar": {
              "outlinewidth": 0,
              "ticks": ""
             }
            },
            "type": "scatterpolar"
           }
          ],
          "scatterpolargl": [
           {
            "marker": {
             "colorbar": {
              "outlinewidth": 0,
              "ticks": ""
             }
            },
            "type": "scatterpolargl"
           }
          ],
          "scatterternary": [
           {
            "marker": {
             "colorbar": {
              "outlinewidth": 0,
              "ticks": ""
             }
            },
            "type": "scatterternary"
           }
          ],
          "surface": [
           {
            "colorbar": {
             "outlinewidth": 0,
             "ticks": ""
            },
            "colorscale": [
             [
              0,
              "#0d0887"
             ],
             [
              0.1111111111111111,
              "#46039f"
             ],
             [
              0.2222222222222222,
              "#7201a8"
             ],
             [
              0.3333333333333333,
              "#9c179e"
             ],
             [
              0.4444444444444444,
              "#bd3786"
             ],
             [
              0.5555555555555556,
              "#d8576b"
             ],
             [
              0.6666666666666666,
              "#ed7953"
             ],
             [
              0.7777777777777778,
              "#fb9f3a"
             ],
             [
              0.8888888888888888,
              "#fdca26"
             ],
             [
              1,
              "#f0f921"
             ]
            ],
            "type": "surface"
           }
          ],
          "table": [
           {
            "cells": {
             "fill": {
              "color": "#EBF0F8"
             },
             "line": {
              "color": "white"
             }
            },
            "header": {
             "fill": {
              "color": "#C8D4E3"
             },
             "line": {
              "color": "white"
             }
            },
            "type": "table"
           }
          ]
         },
         "layout": {
          "annotationdefaults": {
           "arrowcolor": "#2a3f5f",
           "arrowhead": 0,
           "arrowwidth": 1
          },
          "autotypenumbers": "strict",
          "coloraxis": {
           "colorbar": {
            "outlinewidth": 0,
            "ticks": ""
           }
          },
          "colorscale": {
           "diverging": [
            [
             0,
             "#8e0152"
            ],
            [
             0.1,
             "#c51b7d"
            ],
            [
             0.2,
             "#de77ae"
            ],
            [
             0.3,
             "#f1b6da"
            ],
            [
             0.4,
             "#fde0ef"
            ],
            [
             0.5,
             "#f7f7f7"
            ],
            [
             0.6,
             "#e6f5d0"
            ],
            [
             0.7,
             "#b8e186"
            ],
            [
             0.8,
             "#7fbc41"
            ],
            [
             0.9,
             "#4d9221"
            ],
            [
             1,
             "#276419"
            ]
           ],
           "sequential": [
            [
             0,
             "#0d0887"
            ],
            [
             0.1111111111111111,
             "#46039f"
            ],
            [
             0.2222222222222222,
             "#7201a8"
            ],
            [
             0.3333333333333333,
             "#9c179e"
            ],
            [
             0.4444444444444444,
             "#bd3786"
            ],
            [
             0.5555555555555556,
             "#d8576b"
            ],
            [
             0.6666666666666666,
             "#ed7953"
            ],
            [
             0.7777777777777778,
             "#fb9f3a"
            ],
            [
             0.8888888888888888,
             "#fdca26"
            ],
            [
             1,
             "#f0f921"
            ]
           ],
           "sequentialminus": [
            [
             0,
             "#0d0887"
            ],
            [
             0.1111111111111111,
             "#46039f"
            ],
            [
             0.2222222222222222,
             "#7201a8"
            ],
            [
             0.3333333333333333,
             "#9c179e"
            ],
            [
             0.4444444444444444,
             "#bd3786"
            ],
            [
             0.5555555555555556,
             "#d8576b"
            ],
            [
             0.6666666666666666,
             "#ed7953"
            ],
            [
             0.7777777777777778,
             "#fb9f3a"
            ],
            [
             0.8888888888888888,
             "#fdca26"
            ],
            [
             1,
             "#f0f921"
            ]
           ]
          },
          "colorway": [
           "#636efa",
           "#EF553B",
           "#00cc96",
           "#ab63fa",
           "#FFA15A",
           "#19d3f3",
           "#FF6692",
           "#B6E880",
           "#FF97FF",
           "#FECB52"
          ],
          "font": {
           "color": "#2a3f5f"
          },
          "geo": {
           "bgcolor": "white",
           "lakecolor": "white",
           "landcolor": "#E5ECF6",
           "showlakes": true,
           "showland": true,
           "subunitcolor": "white"
          },
          "hoverlabel": {
           "align": "left"
          },
          "hovermode": "closest",
          "mapbox": {
           "style": "light"
          },
          "paper_bgcolor": "white",
          "plot_bgcolor": "#E5ECF6",
          "polar": {
           "angularaxis": {
            "gridcolor": "white",
            "linecolor": "white",
            "ticks": ""
           },
           "bgcolor": "#E5ECF6",
           "radialaxis": {
            "gridcolor": "white",
            "linecolor": "white",
            "ticks": ""
           }
          },
          "scene": {
           "xaxis": {
            "backgroundcolor": "#E5ECF6",
            "gridcolor": "white",
            "gridwidth": 2,
            "linecolor": "white",
            "showbackground": true,
            "ticks": "",
            "zerolinecolor": "white"
           },
           "yaxis": {
            "backgroundcolor": "#E5ECF6",
            "gridcolor": "white",
            "gridwidth": 2,
            "linecolor": "white",
            "showbackground": true,
            "ticks": "",
            "zerolinecolor": "white"
           },
           "zaxis": {
            "backgroundcolor": "#E5ECF6",
            "gridcolor": "white",
            "gridwidth": 2,
            "linecolor": "white",
            "showbackground": true,
            "ticks": "",
            "zerolinecolor": "white"
           }
          },
          "shapedefaults": {
           "line": {
            "color": "#2a3f5f"
           }
          },
          "ternary": {
           "aaxis": {
            "gridcolor": "white",
            "linecolor": "white",
            "ticks": ""
           },
           "baxis": {
            "gridcolor": "white",
            "linecolor": "white",
            "ticks": ""
           },
           "bgcolor": "#E5ECF6",
           "caxis": {
            "gridcolor": "white",
            "linecolor": "white",
            "ticks": ""
           }
          },
          "title": {
           "x": 0.05
          },
          "xaxis": {
           "automargin": true,
           "gridcolor": "white",
           "linecolor": "white",
           "ticks": "",
           "title": {
            "standoff": 15
           },
           "zerolinecolor": "white",
           "zerolinewidth": 2
          },
          "yaxis": {
           "automargin": true,
           "gridcolor": "white",
           "linecolor": "white",
           "ticks": "",
           "title": {
            "standoff": 15
           },
           "zerolinecolor": "white",
           "zerolinewidth": 2
          }
         }
        },
        "title": {
         "text": "$\\kappa = 0.8, \\theta = 1.2$)",
         "x": 0.5
        },
        "width": 500,
        "xaxis": {
         "anchor": "y",
         "autorange": true,
         "domain": [
          0,
          1
         ],
         "linecolor": "black",
         "linewidth": 2,
         "range": [
          0.12002067539627845,
          3.003979324603722
         ],
         "showline": true,
         "title": {
          "text": "$R_0^{\\text{apparent}}$"
         },
         "type": "linear"
        },
        "yaxis": {
         "anchor": "x",
         "autorange": true,
         "domain": [
          0,
          1
         ],
         "linecolor": "black",
         "linewidth": 2,
         "range": [
          -0.03059581257403379,
          0.4702345786703337
         ],
         "showline": true,
         "title": {
          "text": "$i^*$"
         },
         "type": "linear"
        }
       }
      },
      "image/png": "[encoded data removed]",
      "text/html": [
       "<div>                            <div id=\"97ce26de-9212-4ae0-926a-7b467b46aeed\" class=\"plotly-graph-div\" style=\"height:500px; width:500px;\"></div>            <script type=\"text/javascript\">                require([\"plotly\"], function(Plotly) {                    window.PLOTLYENV=window.PLOTLYENV || {};                                    if (document.getElementById(\"97ce26de-9212-4ae0-926a-7b467b46aeed\")) {                    Plotly.newPlot(                        \"97ce26de-9212-4ae0-926a-7b467b46aeed\",                        [{\"hovertemplate\":\"R0: %{x}<br>i*: %{y}\",\"legendgroup\":\"\",\"marker\":{\"color\":\"slategray\",\"symbol\":\"circle\",\"line\":{\"color\":\"DarkSlateGrey\",\"width\":2},\"size\":5},\"mode\":\"markers\",\"name\":\"\",\"orientation\":\"v\",\"showlegend\":false,\"x\":[0.2862,0.5697,0.8532,1.1368,1.4203,1.7038,1.9873,2.2708,2.5543,2.8378,0.2862,0.5697,0.8532,1.1368,1.4203,1.7038,1.9873,2.2708,2.5543,2.8378,0.2862,0.5697,0.8532,1.1368,1.4203,1.7038,1.9873,2.2708,2.5543,2.8378,0.2862,0.5697,0.8532,1.1368,1.4203,1.7038,1.9873,2.2708,2.5543,2.8378,0.2862,0.5697,0.8532,1.1368,1.4203,1.7038,1.9873,2.2708,2.5543,2.8378,0.2862,0.5697,0.8532,1.1368,1.4203,1.7038,1.9873,2.2708,2.5543,2.8378,0.2862,0.5697,0.8532,1.1368,1.4203,1.7038,1.9873,2.2708,2.5543,2.8378,0.2862,0.5697,0.8532,1.1368,1.4203,1.7038,1.9873,2.2708,2.5543,2.8378,0.2862,0.5697,0.8532,1.1368,1.4203,1.7038,1.9873,2.2708,2.5543,2.8378,0.2862,0.5697,0.8532,1.1368,1.4203,1.7038,1.9873,2.2708,2.5543,2.8378],\"xaxis\":\"x\",\"y\":[0.000138943515462,0.0002123666865515,0.0002868229960127,0.0337165247341262,0.3408194540254792,0.3599077973262683,0.3667772306310859,0.3754551778801808,0.3830491691402475,0.3888408321698017,2.5112529975213687e-10,1.4910714142414292e-06,0.0004778827305367,0.3060321102444955,0.3480908978254149,0.3621713907124897,0.3726607522885605,0.3812086700268751,0.3887011971850553,0.3944193785348167,1.5926799956868503e-09,9.690299491968896e-06,0.003749183662231,0.3188466461073974,0.3542175404344691,0.3684195847448029,0.3787810527986893,0.3872309815514876,0.3946430422292671,0.3996729029544005,7.679264906914989e-09,5.23789468793999e-05,0.0417294774923829,0.327178297863395,0.3554616410885851,0.3746874413828154,0.3849256455470358,0.3932850906587888,0.4006132766537526,0.4055906080161215,3.3098060737221395e-08,0.0002840450675441,0.1617133432868761,0.3346949915730974,0.3652601642302305,0.3809523894129484,0.3910721338790277,0.4001656640879789,0.4069250432626201,0.4115169805484724,1.3388710719081453e-07,0.0016743762289616,0.2478075923226798,0.3419126930353572,0.3717198872129899,0.3871919243666418,0.3971981280807676,0.4065639590131574,0.4134781325234536,0.4174301197275142,5.261326599003926e-07,0.0107569396895064,0.2826797653810034,0.3490215539907486,0.3781895000853114,0.3934513625907164,0.4033478544068682,0.4126114024358858,0.4194579718144859,0.423372447961938,2.022503578582051e-06,0.0544218770709537,0.300427284012744,0.3560447128246381,0.384646794062108,0.3997081954375308,0.4094989758872597,0.4186634395160933,0.4254442492461094,0.4293221589004495,7.602665357573759e-06,0.1361875636725628,0.3124998220263577,0.3629807340187183,0.3910694526889096,0.4059399506760965,0.4156291531758131,0.4246979260222138,0.4314149935672243,0.4352573663712634,2.8125344548518977e-05,0.1999770229599573,0.3223983067997246,0.3698928837077529,0.3975048083806891,0.4121918856075475,0.4217826969927677,0.430758341296372,0.4374132048266266,0.441220736842535],\"yaxis\":\"y\",\"type\":\"scatter\",\"line\":{\"color\":\"blue\",\"width\":5}},{\"hovertemplate\":\"<b>LOWESS trendline</b><br><br>$R_0^{\\\\text{apparent}}$=%{x}<br>$i^*$=%{y} <b>(trend)</b><extra></extra>\",\"legendgroup\":\"\",\"marker\":{\"color\":\"#636efa\",\"symbol\":\"circle\"},\"mode\":\"lines\",\"name\":\"\",\"showlegend\":false,\"x\":[0.2862,0.2862,0.2862,0.2862,0.2862,0.2862,0.2862,0.2862,0.2862,0.2862,0.5697,0.5697,0.5697,0.5697,0.5697,0.5697,0.5697,0.5697,0.5697,0.5697,0.8532,0.8532,0.8532,0.8532,0.8532,0.8532,0.8532,0.8532,0.8532,0.8532,1.1368,1.1368,1.1368,1.1368,1.1368,1.1368,1.1368,1.1368,1.1368,1.1368,1.4203,1.4203,1.4203,1.4203,1.4203,1.4203,1.4203,1.4203,1.4203,1.4203,1.7038,1.7038,1.7038,1.7038,1.7038,1.7038,1.7038,1.7038,1.7038,1.7038,1.9873,1.9873,1.9873,1.9873,1.9873,1.9873,1.9873,1.9873,1.9873,1.9873,2.2708,2.2708,2.2708,2.2708,2.2708,2.2708,2.2708,2.2708,2.2708,2.2708,2.5543,2.5543,2.5543,2.5543,2.5543,2.5543,2.5543,2.5543,2.5543,2.5543,2.8378,2.8378,2.8378,2.8378,2.8378,2.8378,2.8378,2.8378,2.8378,2.8378],\"xaxis\":\"x\",\"y\":[-0.005554293011815412,-0.005554293011815412,-0.005554293011815412,-0.005554293011815412,-0.005554293011815412,-0.005554293011815412,-0.005554293011815412,-0.005554293011815412,-0.005554293011815412,-0.005554293011815412,0.10329543243162963,0.10329543243162963,0.10329543243162963,0.10329543243162963,0.10329543243162963,0.10329543243162963,0.10329543243162963,0.10329543243162963,0.10329543243162963,0.10329543243162963,0.20164227935937595,0.20164227935937595,0.20164227935937595,0.20164227935937595,0.20164227935937595,0.20164227935937595,0.20164227935937595,0.20164227935937595,0.20164227935937595,0.20164227935937595,0.32178744866082815,0.32178744866082815,0.32178744866082815,0.32178744866082815,0.32178744866082815,0.32178744866082815,0.32178744866082815,0.32178744866082815,0.32178744866082815,0.32178744866082815,0.3643580646256791,0.3643580646256791,0.3643580646256791,0.3643580646256791,0.3643580646256791,0.3643580646256791,0.3643580646256791,0.3643580646256791,0.3643580646256791,0.3643580646256791,0.3824488784554441,0.3824488784554441,0.3824488784554441,0.3824488784554441,0.3824488784554441,0.3824488784554441,0.3824488784554441,0.3824488784554441,0.3824488784554441,0.3824488784554441,0.3938266955633549,0.3938266955633549,0.3938266955633549,0.3938266955633549,0.3938266955633549,0.3938266955633549,0.3938266955633549,0.3938266955633549,0.3938266955633549,0.3938266955633549,0.4024690663021508,0.4024690663021508,0.4024690663021508,0.4024690663021508,0.4024690663021508,0.4024690663021508,0.4024690663021508,0.4024690663021508,0.4024690663021508,0.4024690663021508,0.40904078697014895,0.40904078697014895,0.40904078697014895,0.40904078697014895,0.40904078697014895,0.40904078697014895,0.40904078697014895,0.40904078697014895,0.40904078697014895,0.40904078697014895,0.41537585037630087,0.41537585037630087,0.41537585037630087,0.41537585037630087,0.41537585037630087,0.41537585037630087,0.41537585037630087,0.41537585037630087,0.41537585037630087,0.41537585037630087],\"yaxis\":\"y\",\"type\":\"scatter\",\"line\":{\"color\":\"blue\",\"width\":5}}],                        {\"template\":{\"data\":{\"bar\":[{\"error_x\":{\"color\":\"#2a3f5f\"},\"error_y\":{\"color\":\"#2a3f5f\"},\"marker\":{\"line\":{\"color\":\"#E5ECF6\",\"width\":0.5},\"pattern\":{\"fillmode\":\"overlay\",\"size\":10,\"solidity\":0.2}},\"type\":\"bar\"}],\"barpolar\":[{\"marker\":{\"line\":{\"color\":\"#E5ECF6\",\"width\":0.5},\"pattern\":{\"fillmode\":\"overlay\",\"size\":10,\"solidity\":0.2}},\"type\":\"barpolar\"}],\"carpet\":[{\"aaxis\":{\"endlinecolor\":\"#2a3f5f\",\"gridcolor\":\"white\",\"linecolor\":\"white\",\"minorgridcolor\":\"white\",\"startlinecolor\":\"#2a3f5f\"},\"baxis\":{\"endlinecolor\":\"#2a3f5f\",\"gridcolor\":\"white\",\"linecolor\":\"white\",\"minorgridcolor\":\"white\",\"startlinecolor\":\"#2a3f5f\"},\"type\":\"carpet\"}],\"choropleth\":[{\"colorbar\":{\"outlinewidth\":0,\"ticks\":\"\"},\"type\":\"choropleth\"}],\"contour\":[{\"colorbar\":{\"outlinewidth\":0,\"ticks\":\"\"},\"colorscale\":[[0.0,\"#0d0887\"],[0.1111111111111111,\"#46039f\"],[0.2222222222222222,\"#7201a8\"],[0.3333333333333333,\"#9c179e\"],[0.4444444444444444,\"#bd3786\"],[0.5555555555555556,\"#d8576b\"],[0.6666666666666666,\"#ed7953\"],[0.7777777777777778,\"#fb9f3a\"],[0.8888888888888888,\"#fdca26\"],[1.0,\"#f0f921\"]],\"type\":\"contour\"}],\"contourcarpet\":[{\"colorbar\":{\"outlinewidth\":0,\"ticks\":\"\"},\"type\":\"contourcarpet\"}],\"heatmap\":[{\"colorbar\":{\"outlinewidth\":0,\"ticks\":\"\"},\"colorscale\":[[0.0,\"#0d0887\"],[0.1111111111111111,\"#46039f\"],[0.2222222222222222,\"#7201a8\"],[0.3333333333333333,\"#9c179e\"],[0.4444444444444444,\"#bd3786\"],[0.5555555555555556,\"#d8576b\"],[0.6666666666666666,\"#ed7953\"],[0.7777777777777778,\"#fb9f3a\"],[0.8888888888888888,\"#fdca26\"],[1.0,\"#f0f921\"]],\"type\":\"heatmap\"}],\"heatmapgl\":[{\"colorbar\":{\"outlinewidth\":0,\"ticks\":\"\"},\"colorscale\":[[0.0,\"#0d0887\"],[0.1111111111111111,\"#46039f\"],[0.2222222222222222,\"#7201a8\"],[0.3333333333333333,\"#9c179e\"],[0.4444444444444444,\"#bd3786\"],[0.5555555555555556,\"#d8576b\"],[0.6666666666666666,\"#ed7953\"],[0.7777777777777778,\"#fb9f3a\"],[0.8888888888888888,\"#fdca26\"],[1.0,\"#f0f921\"]],\"type\":\"heatmapgl\"}],\"histogram\":[{\"marker\":{\"pattern\":{\"fillmode\":\"overlay\",\"size\":10,\"solidity\":0.2}},\"type\":\"histogram\"}],\"histogram2d\":[{\"colorbar\":{\"outlinewidth\":0,\"ticks\":\"\"},\"colorscale\":[[0.0,\"#0d0887\"],[0.1111111111111111,\"#46039f\"],[0.2222222222222222,\"#7201a8\"],[0.3333333333333333,\"#9c179e\"],[0.4444444444444444,\"#bd3786\"],[0.5555555555555556,\"#d8576b\"],[0.6666666666666666,\"#ed7953\"],[0.7777777777777778,\"#fb9f3a\"],[0.8888888888888888,\"#fdca26\"],[1.0,\"#f0f921\"]],\"type\":\"histogram2d\"}],\"histogram2dcontour\":[{\"colorbar\":{\"outlinewidth\":0,\"ticks\":\"\"},\"colorscale\":[[0.0,\"#0d0887\"],[0.1111111111111111,\"#46039f\"],[0.2222222222222222,\"#7201a8\"],[0.3333333333333333,\"#9c179e\"],[0.4444444444444444,\"#bd3786\"],[0.5555555555555556,\"#d8576b\"],[0.6666666666666666,\"#ed7953\"],[0.7777777777777778,\"#fb9f3a\"],[0.8888888888888888,\"#fdca26\"],[1.0,\"#f0f921\"]],\"type\":\"histogram2dcontour\"}],\"mesh3d\":[{\"colorbar\":{\"outlinewidth\":0,\"ticks\":\"\"},\"type\":\"mesh3d\"}],\"parcoords\":[{\"line\":{\"colorbar\":{\"outlinewidth\":0,\"ticks\":\"\"}},\"type\":\"parcoords\"}],\"pie\":[{\"automargin\":true,\"type\":\"pie\"}],\"scatter\":[{\"marker\":{\"colorbar\":{\"outlinewidth\":0,\"ticks\":\"\"}},\"type\":\"scatter\"}],\"scatter3d\":[{\"line\":{\"colorbar\":{\"outlinewidth\":0,\"ticks\":\"\"}},\"marker\":{\"colorbar\":{\"outlinewidth\":0,\"ticks\":\"\"}},\"type\":\"scatter3d\"}],\"scattercarpet\":[{\"marker\":{\"colorbar\":{\"outlinewidth\":0,\"ticks\":\"\"}},\"type\":\"scattercarpet\"}],\"scattergeo\":[{\"marker\":{\"colorbar\":{\"outlinewidth\":0,\"ticks\":\"\"}},\"type\":\"scattergeo\"}],\"scattergl\":[{\"marker\":{\"colorbar\":{\"outlinewidth\":0,\"ticks\":\"\"}},\"type\":\"scattergl\"}],\"scattermapbox\":[{\"marker\":{\"colorbar\":{\"outlinewidth\":0,\"ticks\":\"\"}},\"type\":\"scattermapbox\"}],\"scatterpolar\":[{\"marker\":{\"colorbar\":{\"outlinewidth\":0,\"ticks\":\"\"}},\"type\":\"scatterpolar\"}],\"scatterpolargl\":[{\"marker\":{\"colorbar\":{\"outlinewidth\":0,\"ticks\":\"\"}},\"type\":\"scatterpolargl\"}],\"scatterternary\":[{\"marker\":{\"colorbar\":{\"outlinewidth\":0,\"ticks\":\"\"}},\"type\":\"scatterternary\"}],\"surface\":[{\"colorbar\":{\"outlinewidth\":0,\"ticks\":\"\"},\"colorscale\":[[0.0,\"#0d0887\"],[0.1111111111111111,\"#46039f\"],[0.2222222222222222,\"#7201a8\"],[0.3333333333333333,\"#9c179e\"],[0.4444444444444444,\"#bd3786\"],[0.5555555555555556,\"#d8576b\"],[0.6666666666666666,\"#ed7953\"],[0.7777777777777778,\"#fb9f3a\"],[0.8888888888888888,\"#fdca26\"],[1.0,\"#f0f921\"]],\"type\":\"surface\"}],\"table\":[{\"cells\":{\"fill\":{\"color\":\"#EBF0F8\"},\"line\":{\"color\":\"white\"}},\"header\":{\"fill\":{\"color\":\"#C8D4E3\"},\"line\":{\"color\":\"white\"}},\"type\":\"table\"}]},\"layout\":{\"annotationdefaults\":{\"arrowcolor\":\"#2a3f5f\",\"arrowhead\":0,\"arrowwidth\":1},\"autotypenumbers\":\"strict\",\"coloraxis\":{\"colorbar\":{\"outlinewidth\":0,\"ticks\":\"\"}},\"colorscale\":{\"diverging\":[[0,\"#8e0152\"],[0.1,\"#c51b7d\"],[0.2,\"#de77ae\"],[0.3,\"#f1b6da\"],[0.4,\"#fde0ef\"],[0.5,\"#f7f7f7\"],[0.6,\"#e6f5d0\"],[0.7,\"#b8e186\"],[0.8,\"#7fbc41\"],[0.9,\"#4d9221\"],[1,\"#276419\"]],\"sequential\":[[0.0,\"#0d0887\"],[0.1111111111111111,\"#46039f\"],[0.2222222222222222,\"#7201a8\"],[0.3333333333333333,\"#9c179e\"],[0.4444444444444444,\"#bd3786\"],[0.5555555555555556,\"#d8576b\"],[0.6666666666666666,\"#ed7953\"],[0.7777777777777778,\"#fb9f3a\"],[0.8888888888888888,\"#fdca26\"],[1.0,\"#f0f921\"]],\"sequentialminus\":[[0.0,\"#0d0887\"],[0.1111111111111111,\"#46039f\"],[0.2222222222222222,\"#7201a8\"],[0.3333333333333333,\"#9c179e\"],[0.4444444444444444,\"#bd3786\"],[0.5555555555555556,\"#d8576b\"],[0.6666666666666666,\"#ed7953\"],[0.7777777777777778,\"#fb9f3a\"],[0.8888888888888888,\"#fdca26\"],[1.0,\"#f0f921\"]]},\"colorway\":[\"#636efa\",\"#EF553B\",\"#00cc96\",\"#ab63fa\",\"#FFA15A\",\"#19d3f3\",\"#FF6692\",\"#B6E880\",\"#FF97FF\",\"#FECB52\"],\"font\":{\"color\":\"#2a3f5f\"},\"geo\":{\"bgcolor\":\"white\",\"lakecolor\":\"white\",\"landcolor\":\"#E5ECF6\",\"showlakes\":true,\"showland\":true,\"subunitcolor\":\"white\"},\"hoverlabel\":{\"align\":\"left\"},\"hovermode\":\"closest\",\"mapbox\":{\"style\":\"light\"},\"paper_bgcolor\":\"white\",\"plot_bgcolor\":\"#E5ECF6\",\"polar\":{\"angularaxis\":{\"gridcolor\":\"white\",\"linecolor\":\"white\",\"ticks\":\"\"},\"bgcolor\":\"#E5ECF6\",\"radialaxis\":{\"gridcolor\":\"white\",\"linecolor\":\"white\",\"ticks\":\"\"}},\"scene\":{\"xaxis\":{\"backgroundcolor\":\"#E5ECF6\",\"gridcolor\":\"white\",\"gridwidth\":2,\"linecolor\":\"white\",\"showbackground\":true,\"ticks\":\"\",\"zerolinecolor\":\"white\"},\"yaxis\":{\"backgroundcolor\":\"#E5ECF6\",\"gridcolor\":\"white\",\"gridwidth\":2,\"linecolor\":\"white\",\"showbackground\":true,\"ticks\":\"\",\"zerolinecolor\":\"white\"},\"zaxis\":{\"backgroundcolor\":\"#E5ECF6\",\"gridcolor\":\"white\",\"gridwidth\":2,\"linecolor\":\"white\",\"showbackground\":true,\"ticks\":\"\",\"zerolinecolor\":\"white\"}},\"shapedefaults\":{\"line\":{\"color\":\"#2a3f5f\"}},\"ternary\":{\"aaxis\":{\"gridcolor\":\"white\",\"linecolor\":\"white\",\"ticks\":\"\"},\"baxis\":{\"gridcolor\":\"white\",\"linecolor\":\"white\",\"ticks\":\"\"},\"bgcolor\":\"#E5ECF6\",\"caxis\":{\"gridcolor\":\"white\",\"linecolor\":\"white\",\"ticks\":\"\"}},\"title\":{\"x\":0.05},\"xaxis\":{\"automargin\":true,\"gridcolor\":\"white\",\"linecolor\":\"white\",\"ticks\":\"\",\"title\":{\"standoff\":15},\"zerolinecolor\":\"white\",\"zerolinewidth\":2},\"yaxis\":{\"automargin\":true,\"gridcolor\":\"white\",\"linecolor\":\"white\",\"ticks\":\"\",\"title\":{\"standoff\":15},\"zerolinecolor\":\"white\",\"zerolinewidth\":2}}},\"xaxis\":{\"anchor\":\"y\",\"domain\":[0.0,1.0],\"title\":{\"text\":\"$R_0^{\\\\text{apparent}}$\"},\"showline\":true,\"linewidth\":2,\"linecolor\":\"black\"},\"yaxis\":{\"anchor\":\"x\",\"domain\":[0.0,1.0],\"title\":{\"text\":\"$i^*$\"},\"showline\":true,\"linewidth\":2,\"linecolor\":\"black\"},\"legend\":{\"tracegroupgap\":0},\"margin\":{\"t\":50,\"l\":70,\"r\":20,\"b\":20},\"height\":500,\"width\":500,\"plot_bgcolor\":\"rgba(0,0,0,0)\",\"title\":{\"text\":\"$\\\\kappa = 0.8, \\\\theta = 1.2$)\",\"x\":0.5}},                        {\"responsive\": true}                    ).then(function(){\n",
       "                            \n",
       "var gd = document.getElementById('97ce26de-9212-4ae0-926a-7b467b46aeed');\n",
       "var x = new MutationObserver(function (mutations, observer) {{\n",
       "        var display = window.getComputedStyle(gd).display;\n",
       "        if (!display || display === 'none') {{\n",
       "            console.log([gd, 'removed!']);\n",
       "            Plotly.purge(gd);\n",
       "            observer.disconnect();\n",
       "        }}\n",
       "}});\n",
       "\n",
       "// Listen for the removal of the full notebook cells\n",
       "var notebookContainer = gd.closest('#notebook-container');\n",
       "if (notebookContainer) {{\n",
       "    x.observe(notebookContainer, {childList: true});\n",
       "}}\n",
       "\n",
       "// Listen for the clearing of the current output cell\n",
       "var outputEl = gd.closest('.output');\n",
       "if (outputEl) {{\n",
       "    x.observe(outputEl, {childList: true});\n",
       "}}\n",
       "\n",
       "                        })                };                });            </script>        </div>"
      ]
     },
     "metadata": {},
     "output_type": "display_data"
    }
   ],
   "source": [
    "kappa = 0.8\n",
    "theta = 1.2\n",
    "folder = \"C:/Users/jimmy/OneDrive/Desktop/Maestria Metodos Matematicos y Aplicaciones/Tesis/adaptive/code/adaptive/data/bifurcation_heatmap_adaptive\"\n",
    "data = pd.read_csv(f\"{folder}/simulation_adaptive_bifurcation_{kappa}_{theta}.csv\")\n",
    "data = data[['R0', 'final_conv_inf_point', 'final_stopping_point', 'kappa', 'theta', 'prop']]\n",
    "data = data[~data['R0'].str.endswith('ERROR')]\n",
    "data['R0'] = data['R0'].astype(float)\n",
    "data = data[data['R0']<=3]\n",
    "\n",
    "fig = px.scatter(data, x=\"R0\",\n",
    "                 y=\"final_conv_inf_point\",\n",
    "                 trendline=\"lowess\",\n",
    "                 trendline_options=dict(frac=0.5),\n",
    "                 width=500,\n",
    "                 height=500,\n",
    "                 labels={\n",
    "                     \"final_conv_inf_point\": \"$i^*$\",\n",
    "                     \"R0\": \"$R_0^{\\\\text{apparent}}$\"\n",
    "                 },)\n",
    "fig.update_layout(\n",
    "    margin=dict(l=70, r=20, t=50, b=20),\n",
    "    plot_bgcolor='rgba(0,0,0,0)')\n",
    "fig.update_traces(marker=dict(size=5,\n",
    "                              color='slategray',\n",
    "                              line=dict(\n",
    "                                  width=2,\n",
    "                                  color='DarkSlateGrey')),\n",
    "                  selector=dict(mode='markers'),\n",
    "                 hovertemplate=\"<br>\".join([\n",
    "                     \"R0: %{x}\",\n",
    "                     \"i*: %{y}\",\n",
    "                 ]))\n",
    "fig.update_xaxes(showline=True, linewidth=2, linecolor='black')\n",
    "fig.update_yaxes(showline=True, linewidth=2, linecolor='black')\n",
    "fig.update_layout(title_text=f\"$\\\\kappa = {kappa}, \\\\theta = {theta}$)\", title_x=0.5)\n",
    "# This styles the line\n",
    "fig.update_traces(line=dict(color=\"blue\", width=5))\n",
    "fig.show()"
   ]
  }
 ],
 "metadata": {
  "kernelspec": {
   "display_name": "Python 3 (ipykernel)",
   "language": "python",
   "name": "python3"
  },
  "language_info": {
   "codemirror_mode": {
    "name": "ipython",
    "version": 3
   },
   "file_extension": ".py",
   "mimetype": "text/x-python",
   "name": "python",
   "nbconvert_exporter": "python",
   "pygments_lexer": "ipython3",
   "version": "3.9.8"
  }
 },
 "nbformat": 4,
 "nbformat_minor": 5
}
