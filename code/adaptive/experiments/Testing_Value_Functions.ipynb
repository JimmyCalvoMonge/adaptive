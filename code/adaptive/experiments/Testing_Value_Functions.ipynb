{
 "cells": [
  {
   "cell_type": "code",
   "execution_count": 1,
   "id": "643952a8-93c9-4afe-a6db-64295e2b87d1",
   "metadata": {},
   "outputs": [],
   "source": [
    "import numpy as np\n",
    "import math\n",
    "import matplotlib.pyplot as plt\n",
    "import sys\n",
    "import warnings\n",
    "warnings.filterwarnings(\"ignore\")\n",
    "# Import our adaptive module:\n",
    "import sys\n",
    "from base_path import base_path\n",
    "sys.path.insert(0, f'{base_path}/adaptive/source_code')\n",
    "sys.path.insert(0, f'{base_path}/disaggregated/source_code')\n",
    "adaptive_MDP = __import__('adaptive_MDP', globals=None, locals=None, fromlist=(), level=0)\n",
    "Adaptive = adaptive_MDP.Adaptive"
   ]
  },
  {
   "cell_type": "code",
   "execution_count": 113,
   "id": "1d25a7ba-e0db-429f-a9ee-48028e196748",
   "metadata": {},
   "outputs": [],
   "source": [
    "# ================================================== #\n",
    "\n",
    "# Initial parameters (Example from Fenichel et al):\n",
    "mu = 0\n",
    "gamma = 0.1823\n",
    "beta = 0.0825\n",
    "phi = 0\n",
    "\n",
    "# R values:\n",
    "Rmu = mu/(mu+ gamma)\n",
    "Rphi = phi/(mu + gamma)\n",
    "\n",
    "### Adaptive parameters\n",
    "\n",
    "# Quadratic Utility functions:\n",
    "\n",
    "b_s = 10 # Making the max utility attained at b_s/2 \n",
    "b_i = 6.67 # Making the max utility attained at b_i/2 \n",
    "b_z = 10 # Making the max utility attained at b_z/2 \n",
    "a_s = 0\n",
    "a_i = 0 #1.826\n",
    "a_z = 0\n",
    "nu = 0.25\n",
    "tau = 180\n",
    "delta = 0.99986\n",
    "\n",
    "# ================================================== #\n",
    "\n",
    "# Immediate rewards: (Utility functions)\n",
    "def u_s(a):\n",
    "    return ((b_s*a - a**2)**nu)*((b_s*a - a**2)**nu) - a_s\n",
    "def u_i(a):\n",
    "    return (b_i*a - a**2)**nu - a_i\n",
    "def u_z(a):\n",
    "    return (b_z*a - a**2)**nu - a_z\n",
    "\n",
    "### Simulation parameters\n",
    "t_max = 150\n",
    "steps = 100"
   ]
  },
  {
   "cell_type": "code",
   "execution_count": 114,
   "id": "f8c438e3-7eac-47db-9c50-2e8a41364c74",
   "metadata": {},
   "outputs": [],
   "source": [
    "# # Initial parameters Our example with relapse (from chapter 2)----- #\n",
    "# mu = 0.00015\n",
    "# gamma = 0.0027\n",
    "# beta = 0.00096\n",
    "# phi = 0.0044\n",
    "\n",
    "# # R values:\n",
    "# Rmu = mu/(mu+ gamma)\n",
    "# Rphi = phi/(mu + gamma)\n",
    "\n",
    "# ### Adaptive parameters\n",
    "\n",
    "# # Quadratic Utility functions:\n",
    "\n",
    "# b_s = 24 # Making the max utility attained at b_s/2 \n",
    "# b_i = 20 # Making the max utility attained at b_i/2 \n",
    "# b_z = 30 # Making the max utility attained at b_z/2 \n",
    "# a_s = 0\n",
    "# a_i = 0.5\n",
    "# a_z = 0\n",
    "# nu = 0.01375\n",
    "# tau = 500\n",
    "# delta = 0.9986\n",
    "\n",
    "# # Immediate rewards:\n",
    "# def u_s(a):\n",
    "#     return (b_s*a - a**2)**nu - a_s\n",
    "# def u_i(a):\n",
    "#     return (b_i*a - a**2)**nu - a_i\n",
    "# def u_z(a):\n",
    "#     return (b_z*a - a**2)**nu - a_z\n",
    "\n",
    "# ### Simulation parameters\n",
    "# t_max = 5000\n",
    "# steps = 100"
   ]
  },
  {
   "cell_type": "code",
   "execution_count": 115,
   "id": "44c8e7e0-ab81-480b-9b61-ede4ac5bdc28",
   "metadata": {},
   "outputs": [],
   "source": [
    "x00 = [1, 9999, 0]\n",
    "# Initialize adaptive instances\n",
    "instance_adaptive = Adaptive(\n",
    "    mu, gamma, beta, phi,\n",
    "    tau, delta,\n",
    "    u_s, u_i, u_z,\n",
    "    t_max, steps, x00, max_contacts=30,\n",
    "    logs=False, verbose=False,\n",
    "    compute_max_t_threshold=1e-6)\n",
    "\n",
    "states = [0, 1, 2]\n",
    "actions = instance_adaptive.actions\n",
    "horizon = instance_adaptive.tau\n",
    "delta = instance_adaptive.delta\n",
    "\n",
    "xt_start = [instance_adaptive.x00[0], instance_adaptive.x00[1], instance_adaptive.x00[1]]\n",
    "cs_star, ci_star, cz_star = instance_adaptive.cs_max, instance_adaptive.ci_max, instance_adaptive.cz_max\n",
    "\n",
    "s_proj, i_proj, z_proj = instance_adaptive.solve_odes_system_projection(\n",
    "    x0=xt_start, t0=0, cs=cs_star, ci=ci_star, cz=cz_star)\n",
    "\n",
    "trans_probs = []\n",
    "for tt in range(horizon):\n",
    "\n",
    "    # Transition Probabilities (at time t):\n",
    "    # Using the system projection\n",
    "\n",
    "    def P_si(a):\n",
    "        phi_t = s_proj[tt*instance_adaptive.steps]*cs_star + i_proj[tt*instance_adaptive.steps]*ci_star + z_proj[tt*instance_adaptive.steps]*cz_star\n",
    "        P_it = 1 - math.exp(-1*(instance_adaptive.beta*ci_star*i_proj[tt*instance_adaptive.steps]*a)/phi_t)\n",
    "        return P_it\n",
    "\n",
    "    def P_ss(a):\n",
    "        return 1 - P_si(a)\n",
    "\n",
    "    def P_sz(a):\n",
    "        return 0\n",
    "\n",
    "    def P_is(a):\n",
    "        return 0\n",
    "\n",
    "    def P_ii(a):\n",
    "        return math.exp(-1*instance_adaptive.gamma)\n",
    "\n",
    "    def P_iz(a):\n",
    "        return 1 - math.exp(-1*instance_adaptive.gamma)\n",
    "\n",
    "    def P_zs(a):\n",
    "        return 0\n",
    "\n",
    "    def P_zi(a):\n",
    "        if instance_adaptive.phi == 0:\n",
    "            return 0\n",
    "        return P_si(a)*0.97\n",
    "\n",
    "    def P_zz(a):\n",
    "        return 1 - P_zi(a)\n",
    "\n",
    "    trans_prob_mat = np.array([\n",
    "        [P_ss, P_si, P_sz],\n",
    "        [P_is, P_ii, P_iz],\n",
    "        [P_zs, P_zi, P_zz]\n",
    "    ])\n",
    "    trans_probs.append(trans_prob_mat)\n",
    "\n",
    "reward_vector = np.array([instance_adaptive.u_s, instance_adaptive.u_i, instance_adaptive.u_z])\n",
    "rewards = [reward_vector]*horizon\n",
    "\n",
    "\"\"\"\n",
    "Initialization point for MDP process\n",
    "\"\"\"\n",
    "\n",
    "if instance_adaptive.init_point:\n",
    "    init_point_use = instance_adaptive.init_point\n",
    "else:\n",
    "    init_point_use = [np.nanmax([instance_adaptive.u_s(a) for a in actions]),\n",
    "                      0,\n",
    "                      np.nanmax([instance_adaptive.u_z(a) for a in actions])]\n",
    "\n",
    "# Use a Markov Decision Process with finite horizon to obtain the optimal policy and decision.\n",
    "MDP_adaptive = MDP.MDP(states, actions, rewards, trans_probs, horizon, delta,\n",
    "                       logger=instance_adaptive.logger, verbose=instance_adaptive.verbose)\n",
    "MDP_adaptive.fit_optimal_values(init_point=init_point_use)\n",
    "values_history = MDP_adaptive.values_history"
   ]
  },
  {
   "cell_type": "code",
   "execution_count": 116,
   "id": "52f0c6c2-fdeb-46ca-8248-0737c72e75a8",
   "metadata": {},
   "outputs": [
    {
     "data": {
      "image/png": "[encoded data removed]",
      "text/plain": [
       "<Figure size 1440x432 with 1 Axes>"
      ]
     },
     "metadata": {
      "needs_background": "light"
     },
     "output_type": "display_data"
    }
   ],
   "source": [
    "diffs = [values_history[0][i] - values_history[1][i] for i in range(len(values_history[0]))]\n",
    "# plt.plot(range(len(values_history[0])), values_history[0], 'goldenrod', label=\"V_t(s)\", linewidth=4,)\n",
    "# plt.plot(range(len(values_history[1])), values_history[1], 'salmon', label=\"V_t(i)\", linewidth=4,)\n",
    "plt.plot(range(len(diffs)), diffs, 'lightseagreen', label=\"V_t(s) - V_t(i)\", linewidth=4,)\n",
    "plt.xlabel(\"Time (t)\")\n",
    "plt.ylabel(\"Value\")\n",
    "plt.legend(loc = \"upper right\")\n",
    "plt.rcParams[\"figure.figsize\"] = (20,6)\n",
    "plt.show()"
   ]
  },
  {
   "cell_type": "code",
   "execution_count": 117,
   "id": "f4b2a784-2c37-4723-ba07-f7b0383b8373",
   "metadata": {},
   "outputs": [
    {
     "data": {
      "image/png": "[encoded data removed]",
      "text/plain": [
       "<Figure size 1440x432 with 1 Axes>"
      ]
     },
     "metadata": {
      "needs_background": "light"
     },
     "output_type": "display_data"
    }
   ],
   "source": [
    "MDP_adaptive.policies\n",
    "policies_s = [pol[0] for pol in MDP_adaptive.policies]\n",
    "plt.plot(range(len(policies_s)), policies_s, 'goldenrod', label=\"a_s(t)\", linewidth=4,)\n",
    "plt.xlabel(\"Time (t)\")\n",
    "plt.ylabel(\"Value\")\n",
    "plt.legend(loc = \"upper right\")\n",
    "plt.rcParams[\"figure.figsize\"] = (20,6)\n",
    "plt.show()"
   ]
  },
  {
   "cell_type": "code",
   "execution_count": null,
   "id": "a9db892f-c710-409a-ae66-aeb623e6e598",
   "metadata": {},
   "outputs": [],
   "source": []
  },
  {
   "cell_type": "code",
   "execution_count": null,
   "id": "17877623-9be8-4e5d-8134-345d871ff4e5",
   "metadata": {},
   "outputs": [],
   "source": []
  }
 ],
 "metadata": {
  "kernelspec": {
   "display_name": "Python 3 (ipykernel)",
   "language": "python",
   "name": "python3"
  },
  "language_info": {
   "codemirror_mode": {
    "name": "ipython",
    "version": 3
   },
   "file_extension": ".py",
   "mimetype": "text/x-python",
   "name": "python",
   "nbconvert_exporter": "python",
   "pygments_lexer": "ipython3",
   "version": "3.9.8"
  }
 },
 "nbformat": 4,
 "nbformat_minor": 5
}
