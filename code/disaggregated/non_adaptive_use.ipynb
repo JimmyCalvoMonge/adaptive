{
 "cells": [
  {
   "cell_type": "markdown",
   "id": "45de1aee-b9da-4b55-bbf7-36376325e7b8",
   "metadata": {},
   "source": [
    "#### Some experiments using the non adaptive relapse model\n",
    "Jimmy Calvo Monge\n",
    "01-08-2023"
   ]
  },
  {
   "cell_type": "code",
   "execution_count": 1,
   "id": "4768b5b5-c0d9-4447-899b-e3dce7f5f33b",
   "metadata": {},
   "outputs": [],
   "source": [
    "from non_adaptive import NonAdaptive\n",
    "import numpy as np\n",
    "import pandas as pd\n",
    "import plotly.express as px\n",
    "import plotly.graph_objects as go\n",
    "import seaborn as sns\n",
    "import itertools\n",
    "import time\n",
    "from tqdm import tqdm\n",
    "import sympy as sp\n",
    "x = sp.var('x')\n",
    "from sympy import Symbol\n",
    "from sympy.solvers import solve\n",
    "import math\n",
    "import matplotlib.pyplot as plt"
   ]
  },
  {
   "cell_type": "code",
   "execution_count": 4,
   "id": "5355f8db-9f00-4633-a24a-c709754eb358",
   "metadata": {},
   "outputs": [
    {
     "ename": "NameError",
     "evalue": "name 'gamma' is not defined",
     "output_type": "error",
     "traceback": [
      "\u001b[1;31m---------------------------------------------------------------------------\u001b[0m",
      "\u001b[1;31mNameError\u001b[0m                                 Traceback (most recent call last)",
      "\u001b[1;32m~\\AppData\\Local\\Temp/ipykernel_4400/718963366.py\u001b[0m in \u001b[0;36m<module>\u001b[1;34m\u001b[0m\n\u001b[0;32m      1\u001b[0m \u001b[0mR0\u001b[0m \u001b[1;33m=\u001b[0m \u001b[1;36m1.0105263157894737\u001b[0m  \u001b[1;31m# R0 = beta*Ci/(gamma+mu)  -> beta = R0*(gamma+mu)/Ci\u001b[0m\u001b[1;33m\u001b[0m\u001b[1;33m\u001b[0m\u001b[0m\n\u001b[1;32m----> 2\u001b[1;33m \u001b[0mR0\u001b[0m\u001b[1;33m*\u001b[0m\u001b[1;33m(\u001b[0m\u001b[0mgamma\u001b[0m\u001b[1;33m+\u001b[0m\u001b[0mmu\u001b[0m\u001b[1;33m)\u001b[0m\u001b[1;33m/\u001b[0m\u001b[1;36m3\u001b[0m\u001b[1;33m\u001b[0m\u001b[1;33m\u001b[0m\u001b[0m\n\u001b[0m",
      "\u001b[1;31mNameError\u001b[0m: name 'gamma' is not defined"
     ]
    }
   ],
   "source": [
    "R0 = 1.0105263157894737  # R0 = beta*Ci/(gamma+mu)  -> beta = R0*(gamma+mu)/Ci\n",
    "R0*(gamma+mu)/3"
   ]
  },
  {
   "cell_type": "markdown",
   "id": "2d12ae8f-abb6-461a-bcdd-0b13fa464c3e",
   "metadata": {},
   "source": [
    "Setting parameters for example"
   ]
  },
  {
   "cell_type": "code",
   "execution_count": 6,
   "id": "f6ff34a7-15c9-4736-8f82-8a7e719febf2",
   "metadata": {},
   "outputs": [
    {
     "name": "stdout",
     "output_type": "stream",
     "text": [
      "\n",
      "Parameters:\n",
      "mu : 0.00015\n",
      "gamma: 0.0027\n",
      "beta : 0.00096\n",
      "phi: 0.0044\n",
      "Rmu = 0.05263157894736841\n",
      "Rphi = 1.5438596491228072\n",
      "\n",
      "\n",
      "Multiple roots condition satisfied:\n",
      "True\n",
      "\n",
      "Contact rates per group:\n",
      "Cs = 3.75\n",
      "Ci = 3\n",
      "Cz = 6.375\n",
      "\n",
      "\n",
      "R0 value: 1.0105263157894737\n",
      "kappa: 0.8\n",
      "theta: 1.7\n",
      "\n",
      "Theoretical Possible Equilibria Roots:\n",
      "[0.004914312662359203, 0.010455203872732766, 0.23809938298643937]\n",
      "\n",
      " --- Model Simulation ---\n",
      "i(0) : 0.0119\n"
     ]
    },
    {
     "data": {
      "image/png": "[encoded data removed]",
      "text/plain": [
       "<Figure size 720x432 with 1 Axes>"
      ]
     },
     "metadata": {
      "needs_background": "light"
     },
     "output_type": "display_data"
    },
    {
     "name": "stdout",
     "output_type": "stream",
     "text": [
      "Final stable equilibrium i^* = 0.23809938298644015\n"
     ]
    }
   ],
   "source": [
    "# Initial parameters\n",
    "mu = 0.00015\n",
    "gamma = 0.0027\n",
    "beta = 0.00096\n",
    "phi = 0.0044\n",
    "\n",
    "kappa = 0.8  #C^I/C^S\n",
    "theta = 1.7 #C^Z/C^S\n",
    "\n",
    "# R values:\n",
    "Rmu = mu/(mu+ gamma)\n",
    "Rphi = phi/(mu + gamma)\n",
    "\n",
    "print(f\"\"\"\n",
    "Parameters:\n",
    "mu : {mu}\n",
    "gamma: {gamma}\n",
    "beta : {beta}\n",
    "phi: {phi}\n",
    "Rmu = {Rmu}\n",
    "Rphi = {Rphi}\n",
    "\"\"\")\n",
    "\n",
    "# Number for three roots condition: (Theorem)\n",
    "print(f\"\"\"\n",
    "Multiple roots condition satisfied:\n",
    "{Rphi - (Rmu**2 + 1)/(Rmu**2 - 2*Rmu + 1) > 0}\n",
    "\"\"\")\n",
    "\n",
    "Ci = 3\n",
    "Cs = Ci/kappa\n",
    "Cz = Cs*theta\n",
    "\n",
    "print(f\"\"\"Contact rates per group:\n",
    "Cs = {Cs}\n",
    "Ci = {Ci}\n",
    "Cz = {Cz}\n",
    "\"\"\")\n",
    "\n",
    "R0 = Ci*beta/(gamma+mu)\n",
    "roots = solve_polynomial(Rphi, Rmu, R0, kappa, theta)\n",
    "\n",
    "print(f\"\"\"\n",
    "R0 value: {R0}\n",
    "kappa: {kappa}\n",
    "theta: {theta}\n",
    "\n",
    "Theoretical Possible Equilibria Roots:\n",
    "{roots}\n",
    "\"\"\")\n",
    "\n",
    "x00 = [9880,119,1]\n",
    "t_max = 1000000\n",
    "print(' --- Model Simulation ---')\n",
    "print(f'i(0) : {x00[1]/sum(x00)}')\n",
    "non_adaptive = NonAdaptive(mu, gamma, beta, phi, Cs, Ci, Cz, x00, t_max, dt=0.1)\n",
    "non_adaptive.solve_odes_system(method='odeint')\n",
    "non_adaptive.plot_ode_solution()\n",
    "print(f'Final stable equilibrium i^* = {non_adaptive.I[len(non_adaptive.I) - 1]/sum(x00)}')"
   ]
  },
  {
   "cell_type": "code",
   "execution_count": 24,
   "id": "b7b3ce27-2ee6-41fe-af4e-a5cf73bc3aca",
   "metadata": {},
   "outputs": [],
   "source": [
    "# # Initial parameters\n",
    "# mu = 80/10000\n",
    "# gamma = 0.2\n",
    "# beta = 0.2\n",
    "# phi = 0.001\n",
    "\n",
    "# # R values:\n",
    "# Rmu = mu/(mu+ gamma)\n",
    "# Rphi = phi/(mu + gamma)\n",
    "\n",
    "# Ci = 11\n",
    "# Cs = Ci\n",
    "# Cz = Cs\n",
    "\n",
    "# print(f\"\"\"Contact rates per group:\n",
    "# Cs = {Cs}\n",
    "# Ci = {Ci}\n",
    "# Cz = {Cz}\n",
    "# \"\"\")\n",
    "\n",
    "# R0 = Ci*beta/(gamma+mu)\n",
    "# roots = solve_polynomial(Rphi, Rmu, R0, kappa, theta)\n",
    "\n",
    "# print(f\"\"\"\n",
    "# R0 value: {R0}\n",
    "# kappa: {kappa}\n",
    "# theta: {theta}\n",
    "\n",
    "# Theoretical Possible Equilibria Roots:\n",
    "# {roots}\n",
    "# \"\"\")\n",
    "\n",
    "# x00 = [9999,1,0]\n",
    "# t_max = 400\n",
    "\n",
    "# non_adaptive = NonAdaptive(mu, gamma, beta, phi, Cs, Ci, Cz, x00, t_max, steps =t_max)\n",
    "# non_adaptive.solve_odes_system(method='odeint')\n",
    "# non_adaptive.plot_ode_solution()\n",
    "# print(f'Final stable equilibrium i^* = {non_adaptive.I[len(non_adaptive.I) - 1]/sum(x00)}')"
   ]
  },
  {
   "cell_type": "markdown",
   "id": "a2e7cee5-b30c-4caa-b4b0-bb62d0f59f6f",
   "metadata": {},
   "source": [
    "## Equilibria points attained"
   ]
  },
  {
   "cell_type": "markdown",
   "id": "291a541b-a088-48d3-b942-e16604e7d53d",
   "metadata": {},
   "source": [
    "Obtain the limit in infected for each combination of initial values $x_0$"
   ]
  },
  {
   "cell_type": "code",
   "execution_count": 12,
   "id": "1e9676ff-2294-4645-81a3-ea70328ab35b",
   "metadata": {},
   "outputs": [
    {
     "data": {
      "text/plain": [
       "0.23809922266046582"
      ]
     },
     "execution_count": 12,
     "metadata": {},
     "output_type": "execute_result"
    }
   ],
   "source": [
    "t_max = 100000\n",
    "get_convergence_point(10000, 1, 0.02,\n",
    "                      mu, gamma, beta, phi,\n",
    "                      Cs, Ci, Cz, t_max)"
   ]
  },
  {
   "cell_type": "markdown",
   "id": "3988f152-09e1-4105-a587-5eb0d4297982",
   "metadata": {},
   "source": [
    "Plot and wiring data for Figure 3 in article"
   ]
  },
  {
   "cell_type": "code",
   "execution_count": 11,
   "id": "2e95a8f0-6699-40f8-89a7-6ade71d42554",
   "metadata": {},
   "outputs": [
    {
     "name": "stdout",
     "output_type": "stream",
     "text": [
      "(200, 10)\n"
     ]
    },
    {
     "data": {
      "application/vnd.plotly.v1+json": {
       "config": {
        "plotlyServerURL": "https://plot.ly"
       },
       "data": [
        {
         "mode": "markers",
         "name": "i(0) = 0.03575",
         "type": "scatter",
         "x": [
          0,
          250.25025025025028,
          500.50050050050055,
          750.7507507507509,
          1001.0010010010011,
          1251.2512512512512,
          1501.5015015015017,
          1751.751751751752,
          2002.0020020020022,
          2252.252252252252,
          2502.5025025025025,
          2752.752752752753,
          3003.0030030030034,
          3253.2532532532537,
          3503.503503503504,
          3753.753753753754,
          4004.0040040040044,
          4254.254254254254,
          4504.504504504504,
          4754.754754754755,
          5005.005005005005,
          5255.255255255255,
          5505.505505505506,
          5755.755755755757,
          6006.006006006007,
          6256.256256256257,
          6506.506506506507,
          6756.756756756758,
          7007.007007007008,
          7257.257257257258,
          7507.507507507508,
          7757.757757757759,
          8008.008008008009,
          8258.258258258258,
          8508.508508508508,
          8758.758758758759,
          9009.009009009009,
          9259.25925925926,
          9509.50950950951,
          9759.75975975976,
          10010.01001001001,
          10260.26026026026,
          10510.51051051051,
          10760.760760760762,
          11011.011011011013,
          11261.261261261263,
          11511.511511511513,
          11761.761761761763,
          12012.012012012014,
          12262.262262262264,
          12512.512512512514,
          12762.762762762764,
          13013.013013013015,
          13263.263263263265,
          13513.513513513515,
          13763.763763763765,
          14014.014014014016,
          14264.264264264266,
          14514.514514514516,
          14764.764764764766,
          15015.015015015017,
          15265.265265265267,
          15515.515515515517,
          15765.765765765767,
          16016.016016016018,
          16266.266266266268,
          16516.516516516516,
          16766.766766766767,
          17017.017017017017,
          17267.267267267267,
          17517.517517517517,
          17767.767767767768,
          18018.018018018018,
          18268.268268268268,
          18518.51851851852,
          18768.76876876877,
          19019.01901901902,
          19269.26926926927,
          19519.51951951952,
          19769.76976976977,
          20020.02002002002,
          20270.27027027027,
          20520.52052052052,
          20770.77077077077,
          21021.02102102102,
          21271.27127127127,
          21521.521521521525,
          21771.771771771775,
          22022.022022022025,
          22272.272272272276,
          22522.522522522526,
          22772.772772772776,
          23023.023023023026,
          23273.273273273277,
          23523.523523523527,
          23773.773773773777,
          24024.024024024027,
          24274.274274274278,
          24524.524524524528,
          24774.774774774778,
          25025.02502502503,
          25275.27527527528,
          25525.52552552553,
          25775.77577577578,
          26026.02602602603,
          26276.27627627628,
          26526.52652652653,
          26776.77677677678,
          27027.02702702703,
          27277.27727727728,
          27527.52752752753,
          27777.77777777778,
          28028.02802802803,
          28278.27827827828,
          28528.52852852853,
          28778.778778778782,
          29029.029029029032,
          29279.279279279282,
          29529.529529529533,
          29779.779779779783,
          30030.030030030033,
          30280.280280280283,
          30530.530530530534,
          30780.780780780784,
          31031.031031031034,
          31281.281281281284,
          31531.531531531535,
          31781.781781781785,
          32032.032032032035,
          32282.282282282285,
          32532.532532532536,
          32782.782782782786,
          33033.03303303303,
          33283.28328328329,
          33533.53353353353,
          33783.78378378379,
          34034.03403403403,
          34284.28428428429,
          34534.534534534534,
          34784.78478478479,
          35035.035035035035,
          35285.28528528529,
          35535.535535535535,
          35785.78578578579,
          36036.036036036036,
          36286.28628628629,
          36536.536536536536,
          36786.78678678679,
          37037.03703703704,
          37287.28728728729,
          37537.53753753754,
          37787.78778778779,
          38038.03803803804,
          38288.28828828829,
          38538.53853853854,
          38788.78878878879,
          39039.03903903904,
          39289.28928928929,
          39539.53953953954,
          39789.78978978979,
          40040.04004004004,
          40290.29029029029,
          40540.54054054054,
          40790.790790790794,
          41041.04104104104,
          41291.291291291294,
          41541.54154154154,
          41791.791791791795,
          42042.04204204204,
          42292.292292292295,
          42542.54254254254,
          42792.792792792796,
          43043.04304304305,
          43293.293293293296,
          43543.54354354355,
          43793.7937937938,
          44044.04404404405,
          44294.2942942943,
          44544.54454454455,
          44794.7947947948,
          45045.04504504505,
          45295.2952952953,
          45545.54554554555,
          45795.7957957958,
          46046.04604604605,
          46296.2962962963,
          46546.54654654655,
          46796.7967967968,
          47047.047047047054,
          47297.2972972973,
          47547.547547547554,
          47797.7977977978,
          48048.048048048055,
          48298.2982982983,
          48548.548548548555,
          48798.7987987988,
          49049.049049049056,
          49299.2992992993,
          49549.549549549556,
          49799.7997997998
         ],
         "y": [
          0.0357,
          0.03519,
          0.03464,
          0.03407,
          0.03352,
          0.03299,
          0.03249,
          0.03204,
          0.03162,
          0.03125,
          0.03092,
          0.03063,
          0.03039,
          0.03018,
          0.03,
          0.02987,
          0.02976,
          0.02969,
          0.02964,
          0.02963,
          0.02963,
          0.02967,
          0.02972,
          0.0298,
          0.02989,
          0.03001,
          0.03015,
          0.0303,
          0.03047,
          0.03066,
          0.03086,
          0.03108,
          0.03131,
          0.03156,
          0.03183,
          0.0321,
          0.0324,
          0.0327,
          0.03302,
          0.03336,
          0.0337,
          0.03407,
          0.03444,
          0.03484,
          0.03524,
          0.03566,
          0.0361,
          0.03655,
          0.03702,
          0.0375,
          0.038,
          0.03852,
          0.03905,
          0.0396,
          0.04018,
          0.04077,
          0.04138,
          0.04201,
          0.04266,
          0.04334,
          0.04404,
          0.04476,
          0.04551,
          0.04628,
          0.04708,
          0.04791,
          0.04877,
          0.04966,
          0.05058,
          0.05153,
          0.05252,
          0.05354,
          0.0546,
          0.05569,
          0.05683,
          0.05801,
          0.05923,
          0.0605,
          0.06181,
          0.06317,
          0.06458,
          0.06604,
          0.06756,
          0.06913,
          0.07076,
          0.07245,
          0.0742,
          0.07601,
          0.07789,
          0.07983,
          0.08184,
          0.08392,
          0.08607,
          0.08829,
          0.09059,
          0.09296,
          0.0954,
          0.09791,
          0.1005,
          0.10316,
          0.10589,
          0.1087,
          0.11157,
          0.11451,
          0.11751,
          0.12057,
          0.12369,
          0.12685,
          0.13007,
          0.13332,
          0.13661,
          0.13992,
          0.14326,
          0.14661,
          0.14996,
          0.15331,
          0.15665,
          0.15997,
          0.16326,
          0.16651,
          0.16973,
          0.17289,
          0.17599,
          0.17903,
          0.18199,
          0.18488,
          0.18769,
          0.19041,
          0.19304,
          0.19557,
          0.19801,
          0.20036,
          0.2026,
          0.20475,
          0.2068,
          0.20875,
          0.21061,
          0.21237,
          0.21404,
          0.21562,
          0.21711,
          0.21852,
          0.21984,
          0.22109,
          0.22226,
          0.22336,
          0.22438,
          0.22535,
          0.22625,
          0.22709,
          0.22788,
          0.22861,
          0.2293,
          0.22994,
          0.23053,
          0.23108,
          0.2316,
          0.23208,
          0.23252,
          0.23293,
          0.23332,
          0.23367,
          0.234,
          0.23431,
          0.23459,
          0.23485,
          0.2351,
          0.23532,
          0.23553,
          0.23573,
          0.2359,
          0.23607,
          0.23622,
          0.23637,
          0.2365,
          0.23662,
          0.23673,
          0.23683,
          0.23693,
          0.23702,
          0.2371,
          0.23718,
          0.23725,
          0.23731,
          0.23737,
          0.23743,
          0.23748,
          0.23753,
          0.23757,
          0.23761,
          0.23765,
          0.23768,
          0.23771,
          0.23774,
          0.23777,
          0.2378,
          0.23782,
          0.23784,
          0.23786,
          0.23788
         ]
        },
        {
         "mode": "markers",
         "name": "i(0) = 0.06104",
         "type": "scatter",
         "x": [
          0,
          250.25025025025028,
          500.50050050050055,
          750.7507507507509,
          1001.0010010010011,
          1251.2512512512512,
          1501.5015015015017,
          1751.751751751752,
          2002.0020020020022,
          2252.252252252252,
          2502.5025025025025,
          2752.752752752753,
          3003.0030030030034,
          3253.2532532532537,
          3503.503503503504,
          3753.753753753754,
          4004.0040040040044,
          4254.254254254254,
          4504.504504504504,
          4754.754754754755,
          5005.005005005005,
          5255.255255255255,
          5505.505505505506,
          5755.755755755757,
          6006.006006006007,
          6256.256256256257,
          6506.506506506507,
          6756.756756756758,
          7007.007007007008,
          7257.257257257258,
          7507.507507507508,
          7757.757757757759,
          8008.008008008009,
          8258.258258258258,
          8508.508508508508,
          8758.758758758759,
          9009.009009009009,
          9259.25925925926,
          9509.50950950951,
          9759.75975975976,
          10010.01001001001,
          10260.26026026026,
          10510.51051051051,
          10760.760760760762,
          11011.011011011013,
          11261.261261261263,
          11511.511511511513,
          11761.761761761763,
          12012.012012012014,
          12262.262262262264,
          12512.512512512514,
          12762.762762762764,
          13013.013013013015,
          13263.263263263265,
          13513.513513513515,
          13763.763763763765,
          14014.014014014016,
          14264.264264264266,
          14514.514514514516,
          14764.764764764766,
          15015.015015015017,
          15265.265265265267,
          15515.515515515517,
          15765.765765765767,
          16016.016016016018,
          16266.266266266268,
          16516.516516516516,
          16766.766766766767,
          17017.017017017017,
          17267.267267267267,
          17517.517517517517,
          17767.767767767768,
          18018.018018018018,
          18268.268268268268,
          18518.51851851852,
          18768.76876876877,
          19019.01901901902,
          19269.26926926927,
          19519.51951951952,
          19769.76976976977,
          20020.02002002002,
          20270.27027027027,
          20520.52052052052,
          20770.77077077077,
          21021.02102102102,
          21271.27127127127,
          21521.521521521525,
          21771.771771771775,
          22022.022022022025,
          22272.272272272276,
          22522.522522522526,
          22772.772772772776,
          23023.023023023026,
          23273.273273273277,
          23523.523523523527,
          23773.773773773777,
          24024.024024024027,
          24274.274274274278,
          24524.524524524528,
          24774.774774774778,
          25025.02502502503,
          25275.27527527528,
          25525.52552552553,
          25775.77577577578,
          26026.02602602603,
          26276.27627627628,
          26526.52652652653,
          26776.77677677678,
          27027.02702702703,
          27277.27727727728,
          27527.52752752753,
          27777.77777777778,
          28028.02802802803,
          28278.27827827828,
          28528.52852852853,
          28778.778778778782,
          29029.029029029032,
          29279.279279279282,
          29529.529529529533,
          29779.779779779783,
          30030.030030030033,
          30280.280280280283,
          30530.530530530534,
          30780.780780780784,
          31031.031031031034,
          31281.281281281284,
          31531.531531531535,
          31781.781781781785,
          32032.032032032035,
          32282.282282282285,
          32532.532532532536,
          32782.782782782786,
          33033.03303303303,
          33283.28328328329,
          33533.53353353353,
          33783.78378378379,
          34034.03403403403,
          34284.28428428429,
          34534.534534534534,
          34784.78478478479,
          35035.035035035035,
          35285.28528528529,
          35535.535535535535,
          35785.78578578579,
          36036.036036036036,
          36286.28628628629,
          36536.536536536536,
          36786.78678678679,
          37037.03703703704,
          37287.28728728729,
          37537.53753753754,
          37787.78778778779,
          38038.03803803804,
          38288.28828828829,
          38538.53853853854,
          38788.78878878879,
          39039.03903903904,
          39289.28928928929,
          39539.53953953954,
          39789.78978978979,
          40040.04004004004,
          40290.29029029029,
          40540.54054054054,
          40790.790790790794,
          41041.04104104104,
          41291.291291291294,
          41541.54154154154,
          41791.791791791795,
          42042.04204204204,
          42292.292292292295,
          42542.54254254254,
          42792.792792792796,
          43043.04304304305,
          43293.293293293296,
          43543.54354354355,
          43793.7937937938,
          44044.04404404405,
          44294.2942942943,
          44544.54454454455,
          44794.7947947948,
          45045.04504504505,
          45295.2952952953,
          45545.54554554555,
          45795.7957957958,
          46046.04604604605,
          46296.2962962963,
          46546.54654654655,
          46796.7967967968,
          47047.047047047054,
          47297.2972972973,
          47547.547547547554,
          47797.7977977978,
          48048.048048048055,
          48298.2982982983,
          48548.548548548555,
          48798.7987987988,
          49049.049049049056,
          49299.2992992993,
          49549.549549549556,
          49799.7997997998
         ],
         "y": [
          0.061,
          0.05923,
          0.05746,
          0.0558,
          0.05431,
          0.05299,
          0.05186,
          0.05091,
          0.05013,
          0.04951,
          0.04904,
          0.0487,
          0.04847,
          0.04836,
          0.04836,
          0.04844,
          0.04862,
          0.04887,
          0.0492,
          0.04961,
          0.05008,
          0.05061,
          0.05121,
          0.05187,
          0.05258,
          0.05335,
          0.05418,
          0.05506,
          0.056,
          0.05698,
          0.05803,
          0.05912,
          0.06028,
          0.06148,
          0.06274,
          0.06406,
          0.06544,
          0.06687,
          0.06837,
          0.06992,
          0.07154,
          0.07322,
          0.07497,
          0.07678,
          0.07866,
          0.08061,
          0.08263,
          0.08472,
          0.08689,
          0.08913,
          0.09144,
          0.09382,
          0.09628,
          0.09882,
          0.10143,
          0.10411,
          0.10687,
          0.10969,
          0.11258,
          0.11554,
          0.11856,
          0.12164,
          0.12478,
          0.12796,
          0.13119,
          0.13445,
          0.13775,
          0.14107,
          0.14441,
          0.14776,
          0.15111,
          0.15446,
          0.15779,
          0.1611,
          0.16438,
          0.16762,
          0.17082,
          0.17396,
          0.17704,
          0.18005,
          0.18299,
          0.18585,
          0.18863,
          0.19132,
          0.19392,
          0.19642,
          0.19883,
          0.20114,
          0.20335,
          0.20547,
          0.20748,
          0.2094,
          0.21123,
          0.21296,
          0.21459,
          0.21614,
          0.2176,
          0.21898,
          0.22028,
          0.2215,
          0.22264,
          0.22372,
          0.22472,
          0.22567,
          0.22655,
          0.22737,
          0.22814,
          0.22886,
          0.22952,
          0.23015,
          0.23073,
          0.23127,
          0.23177,
          0.23223,
          0.23267,
          0.23307,
          0.23344,
          0.23379,
          0.23411,
          0.23441,
          0.23468,
          0.23494,
          0.23518,
          0.2354,
          0.2356,
          0.23579,
          0.23596,
          0.23612,
          0.23627,
          0.23641,
          0.23654,
          0.23666,
          0.23677,
          0.23687,
          0.23696,
          0.23705,
          0.23713,
          0.2372,
          0.23727,
          0.23733,
          0.23739,
          0.23745,
          0.2375,
          0.23754,
          0.23758,
          0.23762,
          0.23766,
          0.23769,
          0.23772,
          0.23775,
          0.23778,
          0.2378,
          0.23783,
          0.23785,
          0.23787,
          0.23788,
          0.2379,
          0.23792,
          0.23793,
          0.23794,
          0.23795,
          0.23797,
          0.23798,
          0.23799,
          0.23799,
          0.238,
          0.23801,
          0.23802,
          0.23802,
          0.23803,
          0.23803,
          0.23804,
          0.23804,
          0.23805,
          0.23805,
          0.23806,
          0.23806,
          0.23806,
          0.23806,
          0.23807,
          0.23807,
          0.23807,
          0.23807,
          0.23808,
          0.23808,
          0.23808,
          0.23808,
          0.23808,
          0.23808,
          0.23809,
          0.23809,
          0.23809,
          0.23809,
          0.23809,
          0.23809,
          0.23809,
          0.23809,
          0.23809,
          0.23809,
          0.23809
         ]
        },
        {
         "mode": "markers",
         "name": "i(0) = 0.08634",
         "type": "scatter",
         "x": [
          0,
          250.25025025025028,
          500.50050050050055,
          750.7507507507509,
          1001.0010010010011,
          1251.2512512512512,
          1501.5015015015017,
          1751.751751751752,
          2002.0020020020022,
          2252.252252252252,
          2502.5025025025025,
          2752.752752752753,
          3003.0030030030034,
          3253.2532532532537,
          3503.503503503504,
          3753.753753753754,
          4004.0040040040044,
          4254.254254254254,
          4504.504504504504,
          4754.754754754755,
          5005.005005005005,
          5255.255255255255,
          5505.505505505506,
          5755.755755755757,
          6006.006006006007,
          6256.256256256257,
          6506.506506506507,
          6756.756756756758,
          7007.007007007008,
          7257.257257257258,
          7507.507507507508,
          7757.757757757759,
          8008.008008008009,
          8258.258258258258,
          8508.508508508508,
          8758.758758758759,
          9009.009009009009,
          9259.25925925926,
          9509.50950950951,
          9759.75975975976,
          10010.01001001001,
          10260.26026026026,
          10510.51051051051,
          10760.760760760762,
          11011.011011011013,
          11261.261261261263,
          11511.511511511513,
          11761.761761761763,
          12012.012012012014,
          12262.262262262264,
          12512.512512512514,
          12762.762762762764,
          13013.013013013015,
          13263.263263263265,
          13513.513513513515,
          13763.763763763765,
          14014.014014014016,
          14264.264264264266,
          14514.514514514516,
          14764.764764764766,
          15015.015015015017,
          15265.265265265267,
          15515.515515515517,
          15765.765765765767,
          16016.016016016018,
          16266.266266266268,
          16516.516516516516,
          16766.766766766767,
          17017.017017017017,
          17267.267267267267,
          17517.517517517517,
          17767.767767767768,
          18018.018018018018,
          18268.268268268268,
          18518.51851851852,
          18768.76876876877,
          19019.01901901902,
          19269.26926926927,
          19519.51951951952,
          19769.76976976977,
          20020.02002002002,
          20270.27027027027,
          20520.52052052052,
          20770.77077077077,
          21021.02102102102,
          21271.27127127127,
          21521.521521521525,
          21771.771771771775,
          22022.022022022025,
          22272.272272272276,
          22522.522522522526,
          22772.772772772776,
          23023.023023023026,
          23273.273273273277,
          23523.523523523527,
          23773.773773773777,
          24024.024024024027,
          24274.274274274278,
          24524.524524524528,
          24774.774774774778,
          25025.02502502503,
          25275.27527527528,
          25525.52552552553,
          25775.77577577578,
          26026.02602602603,
          26276.27627627628,
          26526.52652652653,
          26776.77677677678,
          27027.02702702703,
          27277.27727727728,
          27527.52752752753,
          27777.77777777778,
          28028.02802802803,
          28278.27827827828,
          28528.52852852853,
          28778.778778778782,
          29029.029029029032,
          29279.279279279282,
          29529.529529529533,
          29779.779779779783,
          30030.030030030033,
          30280.280280280283,
          30530.530530530534,
          30780.780780780784,
          31031.031031031034,
          31281.281281281284,
          31531.531531531535,
          31781.781781781785,
          32032.032032032035,
          32282.282282282285,
          32532.532532532536,
          32782.782782782786,
          33033.03303303303,
          33283.28328328329,
          33533.53353353353,
          33783.78378378379,
          34034.03403403403,
          34284.28428428429,
          34534.534534534534,
          34784.78478478479,
          35035.035035035035,
          35285.28528528529,
          35535.535535535535,
          35785.78578578579,
          36036.036036036036,
          36286.28628628629,
          36536.536536536536,
          36786.78678678679,
          37037.03703703704,
          37287.28728728729,
          37537.53753753754,
          37787.78778778779,
          38038.03803803804,
          38288.28828828829,
          38538.53853853854,
          38788.78878878879,
          39039.03903903904,
          39289.28928928929,
          39539.53953953954,
          39789.78978978979,
          40040.04004004004,
          40290.29029029029,
          40540.54054054054,
          40790.790790790794,
          41041.04104104104,
          41291.291291291294,
          41541.54154154154,
          41791.791791791795,
          42042.04204204204,
          42292.292292292295,
          42542.54254254254,
          42792.792792792796,
          43043.04304304305,
          43293.293293293296,
          43543.54354354355,
          43793.7937937938,
          44044.04404404405,
          44294.2942942943,
          44544.54454454455,
          44794.7947947948,
          45045.04504504505,
          45295.2952952953,
          45545.54554554555,
          45795.7957957958,
          46046.04604604605,
          46296.2962962963,
          46546.54654654655,
          46796.7967967968,
          47047.047047047054,
          47297.2972972973,
          47547.547547547554,
          47797.7977977978,
          48048.048048048055,
          48298.2982982983,
          48548.548548548555,
          48798.7987987988,
          49049.049049049056,
          49299.2992992993,
          49549.549549549556,
          49799.7997997998
         ],
         "y": [
          0.0863,
          0.08256,
          0.07906,
          0.07597,
          0.07336,
          0.07122,
          0.0695,
          0.06817,
          0.06718,
          0.06649,
          0.06607,
          0.06589,
          0.06591,
          0.06613,
          0.06653,
          0.06708,
          0.06777,
          0.0686,
          0.06955,
          0.07063,
          0.07181,
          0.07311,
          0.0745,
          0.07599,
          0.07759,
          0.07927,
          0.08105,
          0.08292,
          0.08487,
          0.08692,
          0.08905,
          0.09127,
          0.09357,
          0.09596,
          0.09843,
          0.10098,
          0.10361,
          0.10632,
          0.1091,
          0.11196,
          0.11488,
          0.11787,
          0.12092,
          0.12404,
          0.1272,
          0.13041,
          0.13366,
          0.13694,
          0.14026,
          0.14359,
          0.14694,
          0.15029,
          0.15363,
          0.15697,
          0.16028,
          0.16357,
          0.16682,
          0.17003,
          0.17318,
          0.17628,
          0.17931,
          0.18227,
          0.18515,
          0.18795,
          0.19066,
          0.19328,
          0.19581,
          0.19824,
          0.20057,
          0.20281,
          0.20495,
          0.20699,
          0.20893,
          0.21078,
          0.21253,
          0.21419,
          0.21576,
          0.21725,
          0.21865,
          0.21996,
          0.2212,
          0.22236,
          0.22346,
          0.22448,
          0.22544,
          0.22633,
          0.22717,
          0.22795,
          0.22868,
          0.22936,
          0.23,
          0.23059,
          0.23113,
          0.23165,
          0.23212,
          0.23256,
          0.23297,
          0.23335,
          0.2337,
          0.23403,
          0.23434,
          0.23462,
          0.23488,
          0.23512,
          0.23534,
          0.23555,
          0.23574,
          0.23592,
          0.23609,
          0.23624,
          0.23638,
          0.23651,
          0.23663,
          0.23674,
          0.23684,
          0.23694,
          0.23703,
          0.23711,
          0.23718,
          0.23725,
          0.23732,
          0.23738,
          0.23743,
          0.23748,
          0.23753,
          0.23757,
          0.23761,
          0.23765,
          0.23769,
          0.23772,
          0.23775,
          0.23777,
          0.2378,
          0.23782,
          0.23784,
          0.23786,
          0.23788,
          0.2379,
          0.23791,
          0.23793,
          0.23794,
          0.23795,
          0.23796,
          0.23797,
          0.23798,
          0.23799,
          0.238,
          0.23801,
          0.23801,
          0.23802,
          0.23803,
          0.23803,
          0.23804,
          0.23804,
          0.23805,
          0.23805,
          0.23805,
          0.23806,
          0.23806,
          0.23806,
          0.23807,
          0.23807,
          0.23807,
          0.23807,
          0.23808,
          0.23808,
          0.23808,
          0.23808,
          0.23808,
          0.23808,
          0.23808,
          0.23809,
          0.23809,
          0.23809,
          0.23809,
          0.23809,
          0.23809,
          0.23809,
          0.23809,
          0.23809,
          0.23809,
          0.23809,
          0.23809,
          0.23809,
          0.23809,
          0.23809,
          0.2381,
          0.2381,
          0.2381,
          0.2381,
          0.2381,
          0.2381,
          0.2381,
          0.2381,
          0.2381,
          0.2381,
          0.2381,
          0.2381,
          0.2381,
          0.2381
         ]
        },
        {
         "mode": "markers",
         "name": "i(0) = 0.11163",
         "type": "scatter",
         "x": [
          0,
          250.25025025025028,
          500.50050050050055,
          750.7507507507509,
          1001.0010010010011,
          1251.2512512512512,
          1501.5015015015017,
          1751.751751751752,
          2002.0020020020022,
          2252.252252252252,
          2502.5025025025025,
          2752.752752752753,
          3003.0030030030034,
          3253.2532532532537,
          3503.503503503504,
          3753.753753753754,
          4004.0040040040044,
          4254.254254254254,
          4504.504504504504,
          4754.754754754755,
          5005.005005005005,
          5255.255255255255,
          5505.505505505506,
          5755.755755755757,
          6006.006006006007,
          6256.256256256257,
          6506.506506506507,
          6756.756756756758,
          7007.007007007008,
          7257.257257257258,
          7507.507507507508,
          7757.757757757759,
          8008.008008008009,
          8258.258258258258,
          8508.508508508508,
          8758.758758758759,
          9009.009009009009,
          9259.25925925926,
          9509.50950950951,
          9759.75975975976,
          10010.01001001001,
          10260.26026026026,
          10510.51051051051,
          10760.760760760762,
          11011.011011011013,
          11261.261261261263,
          11511.511511511513,
          11761.761761761763,
          12012.012012012014,
          12262.262262262264,
          12512.512512512514,
          12762.762762762764,
          13013.013013013015,
          13263.263263263265,
          13513.513513513515,
          13763.763763763765,
          14014.014014014016,
          14264.264264264266,
          14514.514514514516,
          14764.764764764766,
          15015.015015015017,
          15265.265265265267,
          15515.515515515517,
          15765.765765765767,
          16016.016016016018,
          16266.266266266268,
          16516.516516516516,
          16766.766766766767,
          17017.017017017017,
          17267.267267267267,
          17517.517517517517,
          17767.767767767768,
          18018.018018018018,
          18268.268268268268,
          18518.51851851852,
          18768.76876876877,
          19019.01901901902,
          19269.26926926927,
          19519.51951951952,
          19769.76976976977,
          20020.02002002002,
          20270.27027027027,
          20520.52052052052,
          20770.77077077077,
          21021.02102102102,
          21271.27127127127,
          21521.521521521525,
          21771.771771771775,
          22022.022022022025,
          22272.272272272276,
          22522.522522522526,
          22772.772772772776,
          23023.023023023026,
          23273.273273273277,
          23523.523523523527,
          23773.773773773777,
          24024.024024024027,
          24274.274274274278,
          24524.524524524528,
          24774.774774774778,
          25025.02502502503,
          25275.27527527528,
          25525.52552552553,
          25775.77577577578,
          26026.02602602603,
          26276.27627627628,
          26526.52652652653,
          26776.77677677678,
          27027.02702702703,
          27277.27727727728,
          27527.52752752753,
          27777.77777777778,
          28028.02802802803,
          28278.27827827828,
          28528.52852852853,
          28778.778778778782,
          29029.029029029032,
          29279.279279279282,
          29529.529529529533,
          29779.779779779783,
          30030.030030030033,
          30280.280280280283,
          30530.530530530534,
          30780.780780780784,
          31031.031031031034,
          31281.281281281284,
          31531.531531531535,
          31781.781781781785,
          32032.032032032035,
          32282.282282282285,
          32532.532532532536,
          32782.782782782786,
          33033.03303303303,
          33283.28328328329,
          33533.53353353353,
          33783.78378378379,
          34034.03403403403,
          34284.28428428429,
          34534.534534534534,
          34784.78478478479,
          35035.035035035035,
          35285.28528528529,
          35535.535535535535,
          35785.78578578579,
          36036.036036036036,
          36286.28628628629,
          36536.536536536536,
          36786.78678678679,
          37037.03703703704,
          37287.28728728729,
          37537.53753753754,
          37787.78778778779,
          38038.03803803804,
          38288.28828828829,
          38538.53853853854,
          38788.78878878879,
          39039.03903903904,
          39289.28928928929,
          39539.53953953954,
          39789.78978978979,
          40040.04004004004,
          40290.29029029029,
          40540.54054054054,
          40790.790790790794,
          41041.04104104104,
          41291.291291291294,
          41541.54154154154,
          41791.791791791795,
          42042.04204204204,
          42292.292292292295,
          42542.54254254254,
          42792.792792792796,
          43043.04304304305,
          43293.293293293296,
          43543.54354354355,
          43793.7937937938,
          44044.04404404405,
          44294.2942942943,
          44544.54454454455,
          44794.7947947948,
          45045.04504504505,
          45295.2952952953,
          45545.54554554555,
          45795.7957957958,
          46046.04604604605,
          46296.2962962963,
          46546.54654654655,
          46796.7967967968,
          47047.047047047054,
          47297.2972972973,
          47547.547547547554,
          47797.7977977978,
          48048.048048048055,
          48298.2982982983,
          48548.548548548555,
          48798.7987987988,
          49049.049049049056,
          49299.2992992993,
          49549.549549549556,
          49799.7997997998
         ],
         "y": [
          0.1116,
          0.10523,
          0.09957,
          0.09485,
          0.09107,
          0.08812,
          0.0859,
          0.0843,
          0.08322,
          0.0826,
          0.08237,
          0.08247,
          0.08286,
          0.08352,
          0.08442,
          0.08552,
          0.08681,
          0.08828,
          0.08991,
          0.0917,
          0.09362,
          0.09567,
          0.09785,
          0.10014,
          0.10255,
          0.10505,
          0.10766,
          0.11036,
          0.11315,
          0.11602,
          0.11897,
          0.12199,
          0.12507,
          0.12822,
          0.13141,
          0.13465,
          0.13792,
          0.14122,
          0.14455,
          0.14789,
          0.15123,
          0.15457,
          0.15789,
          0.1612,
          0.16447,
          0.16771,
          0.1709,
          0.17404,
          0.17712,
          0.18013,
          0.18306,
          0.18592,
          0.1887,
          0.19138,
          0.19398,
          0.19648,
          0.19888,
          0.20119,
          0.2034,
          0.20552,
          0.20753,
          0.20945,
          0.21127,
          0.21299,
          0.21463,
          0.21618,
          0.21764,
          0.21901,
          0.22031,
          0.22152,
          0.22267,
          0.22374,
          0.22475,
          0.22569,
          0.22657,
          0.22739,
          0.22816,
          0.22887,
          0.22954,
          0.23016,
          0.23074,
          0.23128,
          0.23178,
          0.23224,
          0.23268,
          0.23308,
          0.23345,
          0.2338,
          0.23412,
          0.23441,
          0.23469,
          0.23495,
          0.23518,
          0.2354,
          0.23561,
          0.23579,
          0.23597,
          0.23613,
          0.23628,
          0.23642,
          0.23654,
          0.23666,
          0.23677,
          0.23687,
          0.23696,
          0.23705,
          0.23713,
          0.2372,
          0.23727,
          0.23734,
          0.23739,
          0.23745,
          0.2375,
          0.23754,
          0.23759,
          0.23762,
          0.23766,
          0.23769,
          0.23773,
          0.23775,
          0.23778,
          0.2378,
          0.23783,
          0.23785,
          0.23787,
          0.23788,
          0.2379,
          0.23792,
          0.23793,
          0.23794,
          0.23796,
          0.23797,
          0.23798,
          0.23799,
          0.23799,
          0.238,
          0.23801,
          0.23802,
          0.23802,
          0.23803,
          0.23803,
          0.23804,
          0.23804,
          0.23805,
          0.23805,
          0.23806,
          0.23806,
          0.23806,
          0.23806,
          0.23807,
          0.23807,
          0.23807,
          0.23807,
          0.23808,
          0.23808,
          0.23808,
          0.23808,
          0.23808,
          0.23808,
          0.23809,
          0.23809,
          0.23809,
          0.23809,
          0.23809,
          0.23809,
          0.23809,
          0.23809,
          0.23809,
          0.23809,
          0.23809,
          0.23809,
          0.23809,
          0.23809,
          0.23809,
          0.2381,
          0.2381,
          0.2381,
          0.2381,
          0.2381,
          0.2381,
          0.2381,
          0.2381,
          0.2381,
          0.2381,
          0.2381,
          0.2381,
          0.2381,
          0.2381,
          0.2381,
          0.2381,
          0.2381,
          0.2381,
          0.2381,
          0.2381,
          0.2381,
          0.2381,
          0.2381,
          0.2381,
          0.2381,
          0.2381
         ]
        },
        {
         "mode": "markers",
         "name": "i(0) = 0.13692",
         "type": "scatter",
         "x": [
          0,
          250.25025025025028,
          500.50050050050055,
          750.7507507507509,
          1001.0010010010011,
          1251.2512512512512,
          1501.5015015015017,
          1751.751751751752,
          2002.0020020020022,
          2252.252252252252,
          2502.5025025025025,
          2752.752752752753,
          3003.0030030030034,
          3253.2532532532537,
          3503.503503503504,
          3753.753753753754,
          4004.0040040040044,
          4254.254254254254,
          4504.504504504504,
          4754.754754754755,
          5005.005005005005,
          5255.255255255255,
          5505.505505505506,
          5755.755755755757,
          6006.006006006007,
          6256.256256256257,
          6506.506506506507,
          6756.756756756758,
          7007.007007007008,
          7257.257257257258,
          7507.507507507508,
          7757.757757757759,
          8008.008008008009,
          8258.258258258258,
          8508.508508508508,
          8758.758758758759,
          9009.009009009009,
          9259.25925925926,
          9509.50950950951,
          9759.75975975976,
          10010.01001001001,
          10260.26026026026,
          10510.51051051051,
          10760.760760760762,
          11011.011011011013,
          11261.261261261263,
          11511.511511511513,
          11761.761761761763,
          12012.012012012014,
          12262.262262262264,
          12512.512512512514,
          12762.762762762764,
          13013.013013013015,
          13263.263263263265,
          13513.513513513515,
          13763.763763763765,
          14014.014014014016,
          14264.264264264266,
          14514.514514514516,
          14764.764764764766,
          15015.015015015017,
          15265.265265265267,
          15515.515515515517,
          15765.765765765767,
          16016.016016016018,
          16266.266266266268,
          16516.516516516516,
          16766.766766766767,
          17017.017017017017,
          17267.267267267267,
          17517.517517517517,
          17767.767767767768,
          18018.018018018018,
          18268.268268268268,
          18518.51851851852,
          18768.76876876877,
          19019.01901901902,
          19269.26926926927,
          19519.51951951952,
          19769.76976976977,
          20020.02002002002,
          20270.27027027027,
          20520.52052052052,
          20770.77077077077,
          21021.02102102102,
          21271.27127127127,
          21521.521521521525,
          21771.771771771775,
          22022.022022022025,
          22272.272272272276,
          22522.522522522526,
          22772.772772772776,
          23023.023023023026,
          23273.273273273277,
          23523.523523523527,
          23773.773773773777,
          24024.024024024027,
          24274.274274274278,
          24524.524524524528,
          24774.774774774778,
          25025.02502502503,
          25275.27527527528,
          25525.52552552553,
          25775.77577577578,
          26026.02602602603,
          26276.27627627628,
          26526.52652652653,
          26776.77677677678,
          27027.02702702703,
          27277.27727727728,
          27527.52752752753,
          27777.77777777778,
          28028.02802802803,
          28278.27827827828,
          28528.52852852853,
          28778.778778778782,
          29029.029029029032,
          29279.279279279282,
          29529.529529529533,
          29779.779779779783,
          30030.030030030033,
          30280.280280280283,
          30530.530530530534,
          30780.780780780784,
          31031.031031031034,
          31281.281281281284,
          31531.531531531535,
          31781.781781781785,
          32032.032032032035,
          32282.282282282285,
          32532.532532532536,
          32782.782782782786,
          33033.03303303303,
          33283.28328328329,
          33533.53353353353,
          33783.78378378379,
          34034.03403403403,
          34284.28428428429,
          34534.534534534534,
          34784.78478478479,
          35035.035035035035,
          35285.28528528529,
          35535.535535535535,
          35785.78578578579,
          36036.036036036036,
          36286.28628628629,
          36536.536536536536,
          36786.78678678679,
          37037.03703703704,
          37287.28728728729,
          37537.53753753754,
          37787.78778778779,
          38038.03803803804,
          38288.28828828829,
          38538.53853853854,
          38788.78878878879,
          39039.03903903904,
          39289.28928928929,
          39539.53953953954,
          39789.78978978979,
          40040.04004004004,
          40290.29029029029,
          40540.54054054054,
          40790.790790790794,
          41041.04104104104,
          41291.291291291294,
          41541.54154154154,
          41791.791791791795,
          42042.04204204204,
          42292.292292292295,
          42542.54254254254,
          42792.792792792796,
          43043.04304304305,
          43293.293293293296,
          43543.54354354355,
          43793.7937937938,
          44044.04404404405,
          44294.2942942943,
          44544.54454454455,
          44794.7947947948,
          45045.04504504505,
          45295.2952952953,
          45545.54554554555,
          45795.7957957958,
          46046.04604604605,
          46296.2962962963,
          46546.54654654655,
          46796.7967967968,
          47047.047047047054,
          47297.2972972973,
          47547.547547547554,
          47797.7977977978,
          48048.048048048055,
          48298.2982982983,
          48548.548548548555,
          48798.7987987988,
          49049.049049049056,
          49299.2992992993,
          49549.549549549556,
          49799.7997997998
         ],
         "y": [
          0.1369,
          0.12726,
          0.1191,
          0.11262,
          0.10766,
          0.10396,
          0.10132,
          0.09953,
          0.09845,
          0.09796,
          0.09797,
          0.09839,
          0.09919,
          0.10029,
          0.10168,
          0.10331,
          0.10515,
          0.10719,
          0.1094,
          0.11177,
          0.11428,
          0.11692,
          0.11968,
          0.12253,
          0.12548,
          0.12851,
          0.13162,
          0.13478,
          0.13799,
          0.14124,
          0.14453,
          0.14783,
          0.15115,
          0.15447,
          0.15778,
          0.16107,
          0.16434,
          0.16757,
          0.17076,
          0.17389,
          0.17697,
          0.17998,
          0.18292,
          0.18578,
          0.18856,
          0.19125,
          0.19385,
          0.19635,
          0.19876,
          0.20108,
          0.20329,
          0.20541,
          0.20743,
          0.20935,
          0.21117,
          0.21291,
          0.21455,
          0.2161,
          0.21756,
          0.21894,
          0.22024,
          0.22146,
          0.22261,
          0.22369,
          0.22469,
          0.22564,
          0.22652,
          0.22735,
          0.22812,
          0.22884,
          0.22951,
          0.23013,
          0.23071,
          0.23125,
          0.23175,
          0.23222,
          0.23265,
          0.23306,
          0.23343,
          0.23378,
          0.2341,
          0.2344,
          0.23468,
          0.23493,
          0.23517,
          0.23539,
          0.23559,
          0.23578,
          0.23596,
          0.23612,
          0.23627,
          0.23641,
          0.23654,
          0.23665,
          0.23676,
          0.23687,
          0.23696,
          0.23705,
          0.23713,
          0.2372,
          0.23727,
          0.23733,
          0.23739,
          0.23744,
          0.23749,
          0.23754,
          0.23758,
          0.23762,
          0.23766,
          0.23769,
          0.23772,
          0.23775,
          0.23778,
          0.2378,
          0.23783,
          0.23785,
          0.23787,
          0.23788,
          0.2379,
          0.23792,
          0.23793,
          0.23794,
          0.23795,
          0.23797,
          0.23798,
          0.23799,
          0.23799,
          0.238,
          0.23801,
          0.23802,
          0.23802,
          0.23803,
          0.23803,
          0.23804,
          0.23804,
          0.23805,
          0.23805,
          0.23806,
          0.23806,
          0.23806,
          0.23806,
          0.23807,
          0.23807,
          0.23807,
          0.23807,
          0.23808,
          0.23808,
          0.23808,
          0.23808,
          0.23808,
          0.23808,
          0.23808,
          0.23809,
          0.23809,
          0.23809,
          0.23809,
          0.23809,
          0.23809,
          0.23809,
          0.23809,
          0.23809,
          0.23809,
          0.23809,
          0.23809,
          0.23809,
          0.23809,
          0.2381,
          0.2381,
          0.2381,
          0.2381,
          0.2381,
          0.2381,
          0.2381,
          0.2381,
          0.2381,
          0.2381,
          0.2381,
          0.2381,
          0.2381,
          0.2381,
          0.2381,
          0.2381,
          0.2381,
          0.2381,
          0.2381,
          0.2381,
          0.2381,
          0.2381,
          0.2381,
          0.2381,
          0.2381,
          0.2381,
          0.2381,
          0.2381,
          0.2381,
          0.2381,
          0.2381,
          0.2381,
          0.2381,
          0.2381
         ]
        },
        {
         "mode": "markers",
         "name": "i(0) = 0.16222",
         "type": "scatter",
         "x": [
          0,
          250.25025025025028,
          500.50050050050055,
          750.7507507507509,
          1001.0010010010011,
          1251.2512512512512,
          1501.5015015015017,
          1751.751751751752,
          2002.0020020020022,
          2252.252252252252,
          2502.5025025025025,
          2752.752752752753,
          3003.0030030030034,
          3253.2532532532537,
          3503.503503503504,
          3753.753753753754,
          4004.0040040040044,
          4254.254254254254,
          4504.504504504504,
          4754.754754754755,
          5005.005005005005,
          5255.255255255255,
          5505.505505505506,
          5755.755755755757,
          6006.006006006007,
          6256.256256256257,
          6506.506506506507,
          6756.756756756758,
          7007.007007007008,
          7257.257257257258,
          7507.507507507508,
          7757.757757757759,
          8008.008008008009,
          8258.258258258258,
          8508.508508508508,
          8758.758758758759,
          9009.009009009009,
          9259.25925925926,
          9509.50950950951,
          9759.75975975976,
          10010.01001001001,
          10260.26026026026,
          10510.51051051051,
          10760.760760760762,
          11011.011011011013,
          11261.261261261263,
          11511.511511511513,
          11761.761761761763,
          12012.012012012014,
          12262.262262262264,
          12512.512512512514,
          12762.762762762764,
          13013.013013013015,
          13263.263263263265,
          13513.513513513515,
          13763.763763763765,
          14014.014014014016,
          14264.264264264266,
          14514.514514514516,
          14764.764764764766,
          15015.015015015017,
          15265.265265265267,
          15515.515515515517,
          15765.765765765767,
          16016.016016016018,
          16266.266266266268,
          16516.516516516516,
          16766.766766766767,
          17017.017017017017,
          17267.267267267267,
          17517.517517517517,
          17767.767767767768,
          18018.018018018018,
          18268.268268268268,
          18518.51851851852,
          18768.76876876877,
          19019.01901901902,
          19269.26926926927,
          19519.51951951952,
          19769.76976976977,
          20020.02002002002,
          20270.27027027027,
          20520.52052052052,
          20770.77077077077,
          21021.02102102102,
          21271.27127127127,
          21521.521521521525,
          21771.771771771775,
          22022.022022022025,
          22272.272272272276,
          22522.522522522526,
          22772.772772772776,
          23023.023023023026,
          23273.273273273277,
          23523.523523523527,
          23773.773773773777,
          24024.024024024027,
          24274.274274274278,
          24524.524524524528,
          24774.774774774778,
          25025.02502502503,
          25275.27527527528,
          25525.52552552553,
          25775.77577577578,
          26026.02602602603,
          26276.27627627628,
          26526.52652652653,
          26776.77677677678,
          27027.02702702703,
          27277.27727727728,
          27527.52752752753,
          27777.77777777778,
          28028.02802802803,
          28278.27827827828,
          28528.52852852853,
          28778.778778778782,
          29029.029029029032,
          29279.279279279282,
          29529.529529529533,
          29779.779779779783,
          30030.030030030033,
          30280.280280280283,
          30530.530530530534,
          30780.780780780784,
          31031.031031031034,
          31281.281281281284,
          31531.531531531535,
          31781.781781781785,
          32032.032032032035,
          32282.282282282285,
          32532.532532532536,
          32782.782782782786,
          33033.03303303303,
          33283.28328328329,
          33533.53353353353,
          33783.78378378379,
          34034.03403403403,
          34284.28428428429,
          34534.534534534534,
          34784.78478478479,
          35035.035035035035,
          35285.28528528529,
          35535.535535535535,
          35785.78578578579,
          36036.036036036036,
          36286.28628628629,
          36536.536536536536,
          36786.78678678679,
          37037.03703703704,
          37287.28728728729,
          37537.53753753754,
          37787.78778778779,
          38038.03803803804,
          38288.28828828829,
          38538.53853853854,
          38788.78878878879,
          39039.03903903904,
          39289.28928928929,
          39539.53953953954,
          39789.78978978979,
          40040.04004004004,
          40290.29029029029,
          40540.54054054054,
          40790.790790790794,
          41041.04104104104,
          41291.291291291294,
          41541.54154154154,
          41791.791791791795,
          42042.04204204204,
          42292.292292292295,
          42542.54254254254,
          42792.792792792796,
          43043.04304304305,
          43293.293293293296,
          43543.54354354355,
          43793.7937937938,
          44044.04404404405,
          44294.2942942943,
          44544.54454454455,
          44794.7947947948,
          45045.04504504505,
          45295.2952952953,
          45545.54554554555,
          45795.7957957958,
          46046.04604604605,
          46296.2962962963,
          46546.54654654655,
          46796.7967967968,
          47047.047047047054,
          47297.2972972973,
          47547.547547547554,
          47797.7977977978,
          48048.048048048055,
          48298.2982982983,
          48548.548548548555,
          48798.7987987988,
          49049.049049049056,
          49299.2992992993,
          49549.549549549556,
          49799.7997997998
         ],
         "y": [
          0.1622,
          0.14867,
          0.13774,
          0.12943,
          0.12329,
          0.1189,
          0.11589,
          0.11396,
          0.11291,
          0.11257,
          0.11282,
          0.11356,
          0.11471,
          0.1162,
          0.118,
          0.12005,
          0.12231,
          0.12477,
          0.1274,
          0.13016,
          0.13304,
          0.13603,
          0.13909,
          0.14223,
          0.14542,
          0.14864,
          0.1519,
          0.15516,
          0.15843,
          0.16168,
          0.16492,
          0.16812,
          0.17129,
          0.1744,
          0.17746,
          0.18045,
          0.18337,
          0.18622,
          0.18898,
          0.19165,
          0.19424,
          0.19673,
          0.19912,
          0.20142,
          0.20362,
          0.20572,
          0.20772,
          0.20963,
          0.21144,
          0.21316,
          0.21479,
          0.21633,
          0.21778,
          0.21914,
          0.22043,
          0.22164,
          0.22278,
          0.22384,
          0.22484,
          0.22578,
          0.22665,
          0.22747,
          0.22823,
          0.22894,
          0.2296,
          0.23022,
          0.23079,
          0.23133,
          0.23183,
          0.23229,
          0.23272,
          0.23312,
          0.23349,
          0.23383,
          0.23415,
          0.23444,
          0.23472,
          0.23497,
          0.23521,
          0.23542,
          0.23562,
          0.23581,
          0.23598,
          0.23614,
          0.23629,
          0.23643,
          0.23655,
          0.23667,
          0.23678,
          0.23688,
          0.23697,
          0.23706,
          0.23714,
          0.23721,
          0.23728,
          0.23734,
          0.2374,
          0.23745,
          0.2375,
          0.23755,
          0.23759,
          0.23763,
          0.23766,
          0.2377,
          0.23773,
          0.23776,
          0.23778,
          0.23781,
          0.23783,
          0.23785,
          0.23787,
          0.23789,
          0.2379,
          0.23792,
          0.23793,
          0.23794,
          0.23796,
          0.23797,
          0.23798,
          0.23799,
          0.238,
          0.238,
          0.23801,
          0.23802,
          0.23802,
          0.23803,
          0.23803,
          0.23804,
          0.23804,
          0.23805,
          0.23805,
          0.23806,
          0.23806,
          0.23806,
          0.23807,
          0.23807,
          0.23807,
          0.23807,
          0.23807,
          0.23808,
          0.23808,
          0.23808,
          0.23808,
          0.23808,
          0.23808,
          0.23809,
          0.23809,
          0.23809,
          0.23809,
          0.23809,
          0.23809,
          0.23809,
          0.23809,
          0.23809,
          0.23809,
          0.23809,
          0.23809,
          0.23809,
          0.23809,
          0.23809,
          0.2381,
          0.2381,
          0.2381,
          0.2381,
          0.2381,
          0.2381,
          0.2381,
          0.2381,
          0.2381,
          0.2381,
          0.2381,
          0.2381,
          0.2381,
          0.2381,
          0.2381,
          0.2381,
          0.2381,
          0.2381,
          0.2381,
          0.2381,
          0.2381,
          0.2381,
          0.2381,
          0.2381,
          0.2381,
          0.2381,
          0.2381,
          0.2381,
          0.2381,
          0.2381,
          0.2381,
          0.2381,
          0.2381,
          0.2381,
          0.2381,
          0.2381,
          0.2381,
          0.2381,
          0.2381,
          0.2381
         ]
        },
        {
         "mode": "markers",
         "name": "i(0) = 0.18751",
         "type": "scatter",
         "x": [
          0,
          250.25025025025028,
          500.50050050050055,
          750.7507507507509,
          1001.0010010010011,
          1251.2512512512512,
          1501.5015015015017,
          1751.751751751752,
          2002.0020020020022,
          2252.252252252252,
          2502.5025025025025,
          2752.752752752753,
          3003.0030030030034,
          3253.2532532532537,
          3503.503503503504,
          3753.753753753754,
          4004.0040040040044,
          4254.254254254254,
          4504.504504504504,
          4754.754754754755,
          5005.005005005005,
          5255.255255255255,
          5505.505505505506,
          5755.755755755757,
          6006.006006006007,
          6256.256256256257,
          6506.506506506507,
          6756.756756756758,
          7007.007007007008,
          7257.257257257258,
          7507.507507507508,
          7757.757757757759,
          8008.008008008009,
          8258.258258258258,
          8508.508508508508,
          8758.758758758759,
          9009.009009009009,
          9259.25925925926,
          9509.50950950951,
          9759.75975975976,
          10010.01001001001,
          10260.26026026026,
          10510.51051051051,
          10760.760760760762,
          11011.011011011013,
          11261.261261261263,
          11511.511511511513,
          11761.761761761763,
          12012.012012012014,
          12262.262262262264,
          12512.512512512514,
          12762.762762762764,
          13013.013013013015,
          13263.263263263265,
          13513.513513513515,
          13763.763763763765,
          14014.014014014016,
          14264.264264264266,
          14514.514514514516,
          14764.764764764766,
          15015.015015015017,
          15265.265265265267,
          15515.515515515517,
          15765.765765765767,
          16016.016016016018,
          16266.266266266268,
          16516.516516516516,
          16766.766766766767,
          17017.017017017017,
          17267.267267267267,
          17517.517517517517,
          17767.767767767768,
          18018.018018018018,
          18268.268268268268,
          18518.51851851852,
          18768.76876876877,
          19019.01901901902,
          19269.26926926927,
          19519.51951951952,
          19769.76976976977,
          20020.02002002002,
          20270.27027027027,
          20520.52052052052,
          20770.77077077077,
          21021.02102102102,
          21271.27127127127,
          21521.521521521525,
          21771.771771771775,
          22022.022022022025,
          22272.272272272276,
          22522.522522522526,
          22772.772772772776,
          23023.023023023026,
          23273.273273273277,
          23523.523523523527,
          23773.773773773777,
          24024.024024024027,
          24274.274274274278,
          24524.524524524528,
          24774.774774774778,
          25025.02502502503,
          25275.27527527528,
          25525.52552552553,
          25775.77577577578,
          26026.02602602603,
          26276.27627627628,
          26526.52652652653,
          26776.77677677678,
          27027.02702702703,
          27277.27727727728,
          27527.52752752753,
          27777.77777777778,
          28028.02802802803,
          28278.27827827828,
          28528.52852852853,
          28778.778778778782,
          29029.029029029032,
          29279.279279279282,
          29529.529529529533,
          29779.779779779783,
          30030.030030030033,
          30280.280280280283,
          30530.530530530534,
          30780.780780780784,
          31031.031031031034,
          31281.281281281284,
          31531.531531531535,
          31781.781781781785,
          32032.032032032035,
          32282.282282282285,
          32532.532532532536,
          32782.782782782786,
          33033.03303303303,
          33283.28328328329,
          33533.53353353353,
          33783.78378378379,
          34034.03403403403,
          34284.28428428429,
          34534.534534534534,
          34784.78478478479,
          35035.035035035035,
          35285.28528528529,
          35535.535535535535,
          35785.78578578579,
          36036.036036036036,
          36286.28628628629,
          36536.536536536536,
          36786.78678678679,
          37037.03703703704,
          37287.28728728729,
          37537.53753753754,
          37787.78778778779,
          38038.03803803804,
          38288.28828828829,
          38538.53853853854,
          38788.78878878879,
          39039.03903903904,
          39289.28928928929,
          39539.53953953954,
          39789.78978978979,
          40040.04004004004,
          40290.29029029029,
          40540.54054054054,
          40790.790790790794,
          41041.04104104104,
          41291.291291291294,
          41541.54154154154,
          41791.791791791795,
          42042.04204204204,
          42292.292292292295,
          42542.54254254254,
          42792.792792792796,
          43043.04304304305,
          43293.293293293296,
          43543.54354354355,
          43793.7937937938,
          44044.04404404405,
          44294.2942942943,
          44544.54454454455,
          44794.7947947948,
          45045.04504504505,
          45295.2952952953,
          45545.54554554555,
          45795.7957957958,
          46046.04604604605,
          46296.2962962963,
          46546.54654654655,
          46796.7967967968,
          47047.047047047054,
          47297.2972972973,
          47547.547547547554,
          47797.7977977978,
          48048.048048048055,
          48298.2982982983,
          48548.548548548555,
          48798.7987987988,
          49049.049049049056,
          49299.2992992993,
          49549.549549549556,
          49799.7997997998
         ],
         "y": [
          0.1875,
          0.16951,
          0.15558,
          0.14538,
          0.1381,
          0.13305,
          0.1297,
          0.12765,
          0.12663,
          0.12643,
          0.12688,
          0.12787,
          0.12929,
          0.13108,
          0.13316,
          0.1355,
          0.13804,
          0.14075,
          0.14359,
          0.14655,
          0.14958,
          0.15268,
          0.15583,
          0.159,
          0.16218,
          0.16535,
          0.1685,
          0.17163,
          0.17471,
          0.17774,
          0.18071,
          0.18361,
          0.18644,
          0.18919,
          0.19185,
          0.19442,
          0.1969,
          0.19929,
          0.20158,
          0.20377,
          0.20586,
          0.20786,
          0.20976,
          0.21156,
          0.21327,
          0.21489,
          0.21643,
          0.21787,
          0.21923,
          0.22052,
          0.22172,
          0.22285,
          0.22391,
          0.22491,
          0.22584,
          0.22671,
          0.22752,
          0.22828,
          0.22899,
          0.22965,
          0.23026,
          0.23083,
          0.23136,
          0.23186,
          0.23232,
          0.23275,
          0.23314,
          0.23351,
          0.23385,
          0.23417,
          0.23446,
          0.23473,
          0.23499,
          0.23522,
          0.23544,
          0.23564,
          0.23582,
          0.23599,
          0.23615,
          0.2363,
          0.23644,
          0.23656,
          0.23668,
          0.23679,
          0.23689,
          0.23698,
          0.23706,
          0.23714,
          0.23722,
          0.23728,
          0.23735,
          0.2374,
          0.23746,
          0.2375,
          0.23755,
          0.23759,
          0.23763,
          0.23767,
          0.2377,
          0.23773,
          0.23776,
          0.23778,
          0.23781,
          0.23783,
          0.23785,
          0.23787,
          0.23789,
          0.2379,
          0.23792,
          0.23793,
          0.23795,
          0.23796,
          0.23797,
          0.23798,
          0.23799,
          0.238,
          0.238,
          0.23801,
          0.23802,
          0.23802,
          0.23803,
          0.23804,
          0.23804,
          0.23804,
          0.23805,
          0.23805,
          0.23806,
          0.23806,
          0.23806,
          0.23807,
          0.23807,
          0.23807,
          0.23807,
          0.23807,
          0.23808,
          0.23808,
          0.23808,
          0.23808,
          0.23808,
          0.23808,
          0.23809,
          0.23809,
          0.23809,
          0.23809,
          0.23809,
          0.23809,
          0.23809,
          0.23809,
          0.23809,
          0.23809,
          0.23809,
          0.23809,
          0.23809,
          0.23809,
          0.23809,
          0.2381,
          0.2381,
          0.2381,
          0.2381,
          0.2381,
          0.2381,
          0.2381,
          0.2381,
          0.2381,
          0.2381,
          0.2381,
          0.2381,
          0.2381,
          0.2381,
          0.2381,
          0.2381,
          0.2381,
          0.2381,
          0.2381,
          0.2381,
          0.2381,
          0.2381,
          0.2381,
          0.2381,
          0.2381,
          0.2381,
          0.2381,
          0.2381,
          0.2381,
          0.2381,
          0.2381,
          0.2381,
          0.2381,
          0.2381,
          0.2381,
          0.2381,
          0.2381,
          0.2381,
          0.2381,
          0.2381,
          0.2381,
          0.2381,
          0.2381,
          0.2381,
          0.2381
         ]
        },
        {
         "mode": "markers",
         "name": "i(0) = 0.21281",
         "type": "scatter",
         "x": [
          0,
          250.25025025025028,
          500.50050050050055,
          750.7507507507509,
          1001.0010010010011,
          1251.2512512512512,
          1501.5015015015017,
          1751.751751751752,
          2002.0020020020022,
          2252.252252252252,
          2502.5025025025025,
          2752.752752752753,
          3003.0030030030034,
          3253.2532532532537,
          3503.503503503504,
          3753.753753753754,
          4004.0040040040044,
          4254.254254254254,
          4504.504504504504,
          4754.754754754755,
          5005.005005005005,
          5255.255255255255,
          5505.505505505506,
          5755.755755755757,
          6006.006006006007,
          6256.256256256257,
          6506.506506506507,
          6756.756756756758,
          7007.007007007008,
          7257.257257257258,
          7507.507507507508,
          7757.757757757759,
          8008.008008008009,
          8258.258258258258,
          8508.508508508508,
          8758.758758758759,
          9009.009009009009,
          9259.25925925926,
          9509.50950950951,
          9759.75975975976,
          10010.01001001001,
          10260.26026026026,
          10510.51051051051,
          10760.760760760762,
          11011.011011011013,
          11261.261261261263,
          11511.511511511513,
          11761.761761761763,
          12012.012012012014,
          12262.262262262264,
          12512.512512512514,
          12762.762762762764,
          13013.013013013015,
          13263.263263263265,
          13513.513513513515,
          13763.763763763765,
          14014.014014014016,
          14264.264264264266,
          14514.514514514516,
          14764.764764764766,
          15015.015015015017,
          15265.265265265267,
          15515.515515515517,
          15765.765765765767,
          16016.016016016018,
          16266.266266266268,
          16516.516516516516,
          16766.766766766767,
          17017.017017017017,
          17267.267267267267,
          17517.517517517517,
          17767.767767767768,
          18018.018018018018,
          18268.268268268268,
          18518.51851851852,
          18768.76876876877,
          19019.01901901902,
          19269.26926926927,
          19519.51951951952,
          19769.76976976977,
          20020.02002002002,
          20270.27027027027,
          20520.52052052052,
          20770.77077077077,
          21021.02102102102,
          21271.27127127127,
          21521.521521521525,
          21771.771771771775,
          22022.022022022025,
          22272.272272272276,
          22522.522522522526,
          22772.772772772776,
          23023.023023023026,
          23273.273273273277,
          23523.523523523527,
          23773.773773773777,
          24024.024024024027,
          24274.274274274278,
          24524.524524524528,
          24774.774774774778,
          25025.02502502503,
          25275.27527527528,
          25525.52552552553,
          25775.77577577578,
          26026.02602602603,
          26276.27627627628,
          26526.52652652653,
          26776.77677677678,
          27027.02702702703,
          27277.27727727728,
          27527.52752752753,
          27777.77777777778,
          28028.02802802803,
          28278.27827827828,
          28528.52852852853,
          28778.778778778782,
          29029.029029029032,
          29279.279279279282,
          29529.529529529533,
          29779.779779779783,
          30030.030030030033,
          30280.280280280283,
          30530.530530530534,
          30780.780780780784,
          31031.031031031034,
          31281.281281281284,
          31531.531531531535,
          31781.781781781785,
          32032.032032032035,
          32282.282282282285,
          32532.532532532536,
          32782.782782782786,
          33033.03303303303,
          33283.28328328329,
          33533.53353353353,
          33783.78378378379,
          34034.03403403403,
          34284.28428428429,
          34534.534534534534,
          34784.78478478479,
          35035.035035035035,
          35285.28528528529,
          35535.535535535535,
          35785.78578578579,
          36036.036036036036,
          36286.28628628629,
          36536.536536536536,
          36786.78678678679,
          37037.03703703704,
          37287.28728728729,
          37537.53753753754,
          37787.78778778779,
          38038.03803803804,
          38288.28828828829,
          38538.53853853854,
          38788.78878878879,
          39039.03903903904,
          39289.28928928929,
          39539.53953953954,
          39789.78978978979,
          40040.04004004004,
          40290.29029029029,
          40540.54054054054,
          40790.790790790794,
          41041.04104104104,
          41291.291291291294,
          41541.54154154154,
          41791.791791791795,
          42042.04204204204,
          42292.292292292295,
          42542.54254254254,
          42792.792792792796,
          43043.04304304305,
          43293.293293293296,
          43543.54354354355,
          43793.7937937938,
          44044.04404404405,
          44294.2942942943,
          44544.54454454455,
          44794.7947947948,
          45045.04504504505,
          45295.2952952953,
          45545.54554554555,
          45795.7957957958,
          46046.04604604605,
          46296.2962962963,
          46546.54654654655,
          46796.7967967968,
          47047.047047047054,
          47297.2972972973,
          47547.547547547554,
          47797.7977977978,
          48048.048048048055,
          48298.2982982983,
          48548.548548548555,
          48798.7987987988,
          49049.049049049056,
          49299.2992992993,
          49549.549549549556,
          49799.7997997998
         ],
         "y": [
          0.2128,
          0.18978,
          0.17268,
          0.16056,
          0.15216,
          0.14648,
          0.1428,
          0.14063,
          0.13962,
          0.13951,
          0.1401,
          0.14126,
          0.14287,
          0.14483,
          0.14708,
          0.14956,
          0.15222,
          0.15502,
          0.15792,
          0.16089,
          0.16391,
          0.16695,
          0.17,
          0.17303,
          0.17603,
          0.179,
          0.18191,
          0.18476,
          0.18753,
          0.19023,
          0.19285,
          0.19538,
          0.19782,
          0.20016,
          0.20241,
          0.20456,
          0.20662,
          0.20858,
          0.21044,
          0.21221,
          0.21389,
          0.21547,
          0.21697,
          0.21839,
          0.21972,
          0.22097,
          0.22215,
          0.22325,
          0.22429,
          0.22526,
          0.22617,
          0.22701,
          0.22781,
          0.22855,
          0.22924,
          0.22988,
          0.23048,
          0.23103,
          0.23155,
          0.23203,
          0.23248,
          0.2329,
          0.23328,
          0.23364,
          0.23397,
          0.23428,
          0.23457,
          0.23483,
          0.23508,
          0.2353,
          0.23551,
          0.23571,
          0.23589,
          0.23606,
          0.23621,
          0.23635,
          0.23648,
          0.23661,
          0.23672,
          0.23683,
          0.23692,
          0.23701,
          0.23709,
          0.23717,
          0.23724,
          0.23731,
          0.23737,
          0.23742,
          0.23747,
          0.23752,
          0.23757,
          0.23761,
          0.23764,
          0.23768,
          0.23771,
          0.23774,
          0.23777,
          0.23779,
          0.23782,
          0.23784,
          0.23786,
          0.23788,
          0.23789,
          0.23791,
          0.23792,
          0.23794,
          0.23795,
          0.23796,
          0.23797,
          0.23798,
          0.23799,
          0.238,
          0.23801,
          0.23801,
          0.23802,
          0.23803,
          0.23803,
          0.23804,
          0.23804,
          0.23805,
          0.23805,
          0.23805,
          0.23806,
          0.23806,
          0.23806,
          0.23807,
          0.23807,
          0.23807,
          0.23807,
          0.23808,
          0.23808,
          0.23808,
          0.23808,
          0.23808,
          0.23808,
          0.23808,
          0.23809,
          0.23809,
          0.23809,
          0.23809,
          0.23809,
          0.23809,
          0.23809,
          0.23809,
          0.23809,
          0.23809,
          0.23809,
          0.23809,
          0.23809,
          0.23809,
          0.23809,
          0.2381,
          0.2381,
          0.2381,
          0.2381,
          0.2381,
          0.2381,
          0.2381,
          0.2381,
          0.2381,
          0.2381,
          0.2381,
          0.2381,
          0.2381,
          0.2381,
          0.2381,
          0.2381,
          0.2381,
          0.2381,
          0.2381,
          0.2381,
          0.2381,
          0.2381,
          0.2381,
          0.2381,
          0.2381,
          0.2381,
          0.2381,
          0.2381,
          0.2381,
          0.2381,
          0.2381,
          0.2381,
          0.2381,
          0.2381,
          0.2381,
          0.2381,
          0.2381,
          0.2381,
          0.2381,
          0.2381,
          0.2381,
          0.2381,
          0.2381,
          0.2381,
          0.2381,
          0.2381,
          0.2381,
          0.2381,
          0.2381
         ]
        },
        {
         "mode": "markers",
         "name": "i(0) = 0.2381",
         "type": "scatter",
         "x": [
          0,
          250.25025025025028,
          500.50050050050055,
          750.7507507507509,
          1001.0010010010011,
          1251.2512512512512,
          1501.5015015015017,
          1751.751751751752,
          2002.0020020020022,
          2252.252252252252,
          2502.5025025025025,
          2752.752752752753,
          3003.0030030030034,
          3253.2532532532537,
          3503.503503503504,
          3753.753753753754,
          4004.0040040040044,
          4254.254254254254,
          4504.504504504504,
          4754.754754754755,
          5005.005005005005,
          5255.255255255255,
          5505.505505505506,
          5755.755755755757,
          6006.006006006007,
          6256.256256256257,
          6506.506506506507,
          6756.756756756758,
          7007.007007007008,
          7257.257257257258,
          7507.507507507508,
          7757.757757757759,
          8008.008008008009,
          8258.258258258258,
          8508.508508508508,
          8758.758758758759,
          9009.009009009009,
          9259.25925925926,
          9509.50950950951,
          9759.75975975976,
          10010.01001001001,
          10260.26026026026,
          10510.51051051051,
          10760.760760760762,
          11011.011011011013,
          11261.261261261263,
          11511.511511511513,
          11761.761761761763,
          12012.012012012014,
          12262.262262262264,
          12512.512512512514,
          12762.762762762764,
          13013.013013013015,
          13263.263263263265,
          13513.513513513515,
          13763.763763763765,
          14014.014014014016,
          14264.264264264266,
          14514.514514514516,
          14764.764764764766,
          15015.015015015017,
          15265.265265265267,
          15515.515515515517,
          15765.765765765767,
          16016.016016016018,
          16266.266266266268,
          16516.516516516516,
          16766.766766766767,
          17017.017017017017,
          17267.267267267267,
          17517.517517517517,
          17767.767767767768,
          18018.018018018018,
          18268.268268268268,
          18518.51851851852,
          18768.76876876877,
          19019.01901901902,
          19269.26926926927,
          19519.51951951952,
          19769.76976976977,
          20020.02002002002,
          20270.27027027027,
          20520.52052052052,
          20770.77077077077,
          21021.02102102102,
          21271.27127127127,
          21521.521521521525,
          21771.771771771775,
          22022.022022022025,
          22272.272272272276,
          22522.522522522526,
          22772.772772772776,
          23023.023023023026,
          23273.273273273277,
          23523.523523523527,
          23773.773773773777,
          24024.024024024027,
          24274.274274274278,
          24524.524524524528,
          24774.774774774778,
          25025.02502502503,
          25275.27527527528,
          25525.52552552553,
          25775.77577577578,
          26026.02602602603,
          26276.27627627628,
          26526.52652652653,
          26776.77677677678,
          27027.02702702703,
          27277.27727727728,
          27527.52752752753,
          27777.77777777778,
          28028.02802802803,
          28278.27827827828,
          28528.52852852853,
          28778.778778778782,
          29029.029029029032,
          29279.279279279282,
          29529.529529529533,
          29779.779779779783,
          30030.030030030033,
          30280.280280280283,
          30530.530530530534,
          30780.780780780784,
          31031.031031031034,
          31281.281281281284,
          31531.531531531535,
          31781.781781781785,
          32032.032032032035,
          32282.282282282285,
          32532.532532532536,
          32782.782782782786,
          33033.03303303303,
          33283.28328328329,
          33533.53353353353,
          33783.78378378379,
          34034.03403403403,
          34284.28428428429,
          34534.534534534534,
          34784.78478478479,
          35035.035035035035,
          35285.28528528529,
          35535.535535535535,
          35785.78578578579,
          36036.036036036036,
          36286.28628628629,
          36536.536536536536,
          36786.78678678679,
          37037.03703703704,
          37287.28728728729,
          37537.53753753754,
          37787.78778778779,
          38038.03803803804,
          38288.28828828829,
          38538.53853853854,
          38788.78878878879,
          39039.03903903904,
          39289.28928928929,
          39539.53953953954,
          39789.78978978979,
          40040.04004004004,
          40290.29029029029,
          40540.54054054054,
          40790.790790790794,
          41041.04104104104,
          41291.291291291294,
          41541.54154154154,
          41791.791791791795,
          42042.04204204204,
          42292.292292292295,
          42542.54254254254,
          42792.792792792796,
          43043.04304304305,
          43293.293293293296,
          43543.54354354355,
          43793.7937937938,
          44044.04404404405,
          44294.2942942943,
          44544.54454454455,
          44794.7947947948,
          45045.04504504505,
          45295.2952952953,
          45545.54554554555,
          45795.7957957958,
          46046.04604604605,
          46296.2962962963,
          46546.54654654655,
          46796.7967967968,
          47047.047047047054,
          47297.2972972973,
          47547.547547547554,
          47797.7977977978,
          48048.048048048055,
          48298.2982982983,
          48548.548548548555,
          48798.7987987988,
          49049.049049049056,
          49299.2992992993,
          49549.549549549556,
          49799.7997997998
         ],
         "y": [
          0.238,
          0.20944,
          0.18903,
          0.17499,
          0.16549,
          0.15919,
          0.15519,
          0.15288,
          0.15184,
          0.15176,
          0.15243,
          0.15367,
          0.15536,
          0.15739,
          0.15969,
          0.16219,
          0.16484,
          0.1676,
          0.17042,
          0.17328,
          0.17616,
          0.17902,
          0.18186,
          0.18465,
          0.18739,
          0.19006,
          0.19266,
          0.19518,
          0.19761,
          0.19995,
          0.2022,
          0.20436,
          0.20642,
          0.20838,
          0.21025,
          0.21203,
          0.21372,
          0.21531,
          0.21682,
          0.21824,
          0.21958,
          0.22084,
          0.22203,
          0.22314,
          0.22418,
          0.22516,
          0.22607,
          0.22693,
          0.22772,
          0.22847,
          0.22916,
          0.22981,
          0.23041,
          0.23098,
          0.2315,
          0.23198,
          0.23243,
          0.23285,
          0.23324,
          0.2336,
          0.23394,
          0.23425,
          0.23454,
          0.2348,
          0.23505,
          0.23528,
          0.23549,
          0.23569,
          0.23587,
          0.23604,
          0.23619,
          0.23634,
          0.23647,
          0.23659,
          0.23671,
          0.23681,
          0.23691,
          0.237,
          0.23709,
          0.23716,
          0.23723,
          0.2373,
          0.23736,
          0.23742,
          0.23747,
          0.23752,
          0.23756,
          0.2376,
          0.23764,
          0.23768,
          0.23771,
          0.23774,
          0.23777,
          0.23779,
          0.23781,
          0.23784,
          0.23786,
          0.23787,
          0.23789,
          0.23791,
          0.23792,
          0.23794,
          0.23795,
          0.23796,
          0.23797,
          0.23798,
          0.23799,
          0.238,
          0.23801,
          0.23801,
          0.23802,
          0.23803,
          0.23803,
          0.23804,
          0.23804,
          0.23805,
          0.23805,
          0.23805,
          0.23806,
          0.23806,
          0.23806,
          0.23807,
          0.23807,
          0.23807,
          0.23807,
          0.23808,
          0.23808,
          0.23808,
          0.23808,
          0.23808,
          0.23808,
          0.23808,
          0.23809,
          0.23809,
          0.23809,
          0.23809,
          0.23809,
          0.23809,
          0.23809,
          0.23809,
          0.23809,
          0.23809,
          0.23809,
          0.23809,
          0.23809,
          0.23809,
          0.23809,
          0.2381,
          0.2381,
          0.2381,
          0.2381,
          0.2381,
          0.2381,
          0.2381,
          0.2381,
          0.2381,
          0.2381,
          0.2381,
          0.2381,
          0.2381,
          0.2381,
          0.2381,
          0.2381,
          0.2381,
          0.2381,
          0.2381,
          0.2381,
          0.2381,
          0.2381,
          0.2381,
          0.2381,
          0.2381,
          0.2381,
          0.2381,
          0.2381,
          0.2381,
          0.2381,
          0.2381,
          0.2381,
          0.2381,
          0.2381,
          0.2381,
          0.2381,
          0.2381,
          0.2381,
          0.2381,
          0.2381,
          0.2381,
          0.2381,
          0.2381,
          0.2381,
          0.2381,
          0.2381,
          0.2381,
          0.2381,
          0.2381,
          0.2381,
          0.2381,
          0.2381,
          0.2381
         ]
        }
       ],
       "layout": {
        "autosize": true,
        "template": {
         "data": {
          "bar": [
           {
            "error_x": {
             "color": "#2a3f5f"
            },
            "error_y": {
             "color": "#2a3f5f"
            },
            "marker": {
             "line": {
              "color": "#E5ECF6",
              "width": 0.5
             },
             "pattern": {
              "fillmode": "overlay",
              "size": 10,
              "solidity": 0.2
             }
            },
            "type": "bar"
           }
          ],
          "barpolar": [
           {
            "marker": {
             "line": {
              "color": "#E5ECF6",
              "width": 0.5
             },
             "pattern": {
              "fillmode": "overlay",
              "size": 10,
              "solidity": 0.2
             }
            },
            "type": "barpolar"
           }
          ],
          "carpet": [
           {
            "aaxis": {
             "endlinecolor": "#2a3f5f",
             "gridcolor": "white",
             "linecolor": "white",
             "minorgridcolor": "white",
             "startlinecolor": "#2a3f5f"
            },
            "baxis": {
             "endlinecolor": "#2a3f5f",
             "gridcolor": "white",
             "linecolor": "white",
             "minorgridcolor": "white",
             "startlinecolor": "#2a3f5f"
            },
            "type": "carpet"
           }
          ],
          "choropleth": [
           {
            "colorbar": {
             "outlinewidth": 0,
             "ticks": ""
            },
            "type": "choropleth"
           }
          ],
          "contour": [
           {
            "colorbar": {
             "outlinewidth": 0,
             "ticks": ""
            },
            "colorscale": [
             [
              0,
              "#0d0887"
             ],
             [
              0.1111111111111111,
              "#46039f"
             ],
             [
              0.2222222222222222,
              "#7201a8"
             ],
             [
              0.3333333333333333,
              "#9c179e"
             ],
             [
              0.4444444444444444,
              "#bd3786"
             ],
             [
              0.5555555555555556,
              "#d8576b"
             ],
             [
              0.6666666666666666,
              "#ed7953"
             ],
             [
              0.7777777777777778,
              "#fb9f3a"
             ],
             [
              0.8888888888888888,
              "#fdca26"
             ],
             [
              1,
              "#f0f921"
             ]
            ],
            "type": "contour"
           }
          ],
          "contourcarpet": [
           {
            "colorbar": {
             "outlinewidth": 0,
             "ticks": ""
            },
            "type": "contourcarpet"
           }
          ],
          "heatmap": [
           {
            "colorbar": {
             "outlinewidth": 0,
             "ticks": ""
            },
            "colorscale": [
             [
              0,
              "#0d0887"
             ],
             [
              0.1111111111111111,
              "#46039f"
             ],
             [
              0.2222222222222222,
              "#7201a8"
             ],
             [
              0.3333333333333333,
              "#9c179e"
             ],
             [
              0.4444444444444444,
              "#bd3786"
             ],
             [
              0.5555555555555556,
              "#d8576b"
             ],
             [
              0.6666666666666666,
              "#ed7953"
             ],
             [
              0.7777777777777778,
              "#fb9f3a"
             ],
             [
              0.8888888888888888,
              "#fdca26"
             ],
             [
              1,
              "#f0f921"
             ]
            ],
            "type": "heatmap"
           }
          ],
          "heatmapgl": [
           {
            "colorbar": {
             "outlinewidth": 0,
             "ticks": ""
            },
            "colorscale": [
             [
              0,
              "#0d0887"
             ],
             [
              0.1111111111111111,
              "#46039f"
             ],
             [
              0.2222222222222222,
              "#7201a8"
             ],
             [
              0.3333333333333333,
              "#9c179e"
             ],
             [
              0.4444444444444444,
              "#bd3786"
             ],
             [
              0.5555555555555556,
              "#d8576b"
             ],
             [
              0.6666666666666666,
              "#ed7953"
             ],
             [
              0.7777777777777778,
              "#fb9f3a"
             ],
             [
              0.8888888888888888,
              "#fdca26"
             ],
             [
              1,
              "#f0f921"
             ]
            ],
            "type": "heatmapgl"
           }
          ],
          "histogram": [
           {
            "marker": {
             "pattern": {
              "fillmode": "overlay",
              "size": 10,
              "solidity": 0.2
             }
            },
            "type": "histogram"
           }
          ],
          "histogram2d": [
           {
            "colorbar": {
             "outlinewidth": 0,
             "ticks": ""
            },
            "colorscale": [
             [
              0,
              "#0d0887"
             ],
             [
              0.1111111111111111,
              "#46039f"
             ],
             [
              0.2222222222222222,
              "#7201a8"
             ],
             [
              0.3333333333333333,
              "#9c179e"
             ],
             [
              0.4444444444444444,
              "#bd3786"
             ],
             [
              0.5555555555555556,
              "#d8576b"
             ],
             [
              0.6666666666666666,
              "#ed7953"
             ],
             [
              0.7777777777777778,
              "#fb9f3a"
             ],
             [
              0.8888888888888888,
              "#fdca26"
             ],
             [
              1,
              "#f0f921"
             ]
            ],
            "type": "histogram2d"
           }
          ],
          "histogram2dcontour": [
           {
            "colorbar": {
             "outlinewidth": 0,
             "ticks": ""
            },
            "colorscale": [
             [
              0,
              "#0d0887"
             ],
             [
              0.1111111111111111,
              "#46039f"
             ],
             [
              0.2222222222222222,
              "#7201a8"
             ],
             [
              0.3333333333333333,
              "#9c179e"
             ],
             [
              0.4444444444444444,
              "#bd3786"
             ],
             [
              0.5555555555555556,
              "#d8576b"
             ],
             [
              0.6666666666666666,
              "#ed7953"
             ],
             [
              0.7777777777777778,
              "#fb9f3a"
             ],
             [
              0.8888888888888888,
              "#fdca26"
             ],
             [
              1,
              "#f0f921"
             ]
            ],
            "type": "histogram2dcontour"
           }
          ],
          "mesh3d": [
           {
            "colorbar": {
             "outlinewidth": 0,
             "ticks": ""
            },
            "type": "mesh3d"
           }
          ],
          "parcoords": [
           {
            "line": {
             "colorbar": {
              "outlinewidth": 0,
              "ticks": ""
             }
            },
            "type": "parcoords"
           }
          ],
          "pie": [
           {
            "automargin": true,
            "type": "pie"
           }
          ],
          "scatter": [
           {
            "marker": {
             "colorbar": {
              "outlinewidth": 0,
              "ticks": ""
             }
            },
            "type": "scatter"
           }
          ],
          "scatter3d": [
           {
            "line": {
             "colorbar": {
              "outlinewidth": 0,
              "ticks": ""
             }
            },
            "marker": {
             "colorbar": {
              "outlinewidth": 0,
              "ticks": ""
             }
            },
            "type": "scatter3d"
           }
          ],
          "scattercarpet": [
           {
            "marker": {
             "colorbar": {
              "outlinewidth": 0,
              "ticks": ""
             }
            },
            "type": "scattercarpet"
           }
          ],
          "scattergeo": [
           {
            "marker": {
             "colorbar": {
              "outlinewidth": 0,
              "ticks": ""
             }
            },
            "type": "scattergeo"
           }
          ],
          "scattergl": [
           {
            "marker": {
             "colorbar": {
              "outlinewidth": 0,
              "ticks": ""
             }
            },
            "type": "scattergl"
           }
          ],
          "scattermapbox": [
           {
            "marker": {
             "colorbar": {
              "outlinewidth": 0,
              "ticks": ""
             }
            },
            "type": "scattermapbox"
           }
          ],
          "scatterpolar": [
           {
            "marker": {
             "colorbar": {
              "outlinewidth": 0,
              "ticks": ""
             }
            },
            "type": "scatterpolar"
           }
          ],
          "scatterpolargl": [
           {
            "marker": {
             "colorbar": {
              "outlinewidth": 0,
              "ticks": ""
             }
            },
            "type": "scatterpolargl"
           }
          ],
          "scatterternary": [
           {
            "marker": {
             "colorbar": {
              "outlinewidth": 0,
              "ticks": ""
             }
            },
            "type": "scatterternary"
           }
          ],
          "surface": [
           {
            "colorbar": {
             "outlinewidth": 0,
             "ticks": ""
            },
            "colorscale": [
             [
              0,
              "#0d0887"
             ],
             [
              0.1111111111111111,
              "#46039f"
             ],
             [
              0.2222222222222222,
              "#7201a8"
             ],
             [
              0.3333333333333333,
              "#9c179e"
             ],
             [
              0.4444444444444444,
              "#bd3786"
             ],
             [
              0.5555555555555556,
              "#d8576b"
             ],
             [
              0.6666666666666666,
              "#ed7953"
             ],
             [
              0.7777777777777778,
              "#fb9f3a"
             ],
             [
              0.8888888888888888,
              "#fdca26"
             ],
             [
              1,
              "#f0f921"
             ]
            ],
            "type": "surface"
           }
          ],
          "table": [
           {
            "cells": {
             "fill": {
              "color": "#EBF0F8"
             },
             "line": {
              "color": "white"
             }
            },
            "header": {
             "fill": {
              "color": "#C8D4E3"
             },
             "line": {
              "color": "white"
             }
            },
            "type": "table"
           }
          ]
         },
         "layout": {
          "annotationdefaults": {
           "arrowcolor": "#2a3f5f",
           "arrowhead": 0,
           "arrowwidth": 1
          },
          "autotypenumbers": "strict",
          "coloraxis": {
           "colorbar": {
            "outlinewidth": 0,
            "ticks": ""
           }
          },
          "colorscale": {
           "diverging": [
            [
             0,
             "#8e0152"
            ],
            [
             0.1,
             "#c51b7d"
            ],
            [
             0.2,
             "#de77ae"
            ],
            [
             0.3,
             "#f1b6da"
            ],
            [
             0.4,
             "#fde0ef"
            ],
            [
             0.5,
             "#f7f7f7"
            ],
            [
             0.6,
             "#e6f5d0"
            ],
            [
             0.7,
             "#b8e186"
            ],
            [
             0.8,
             "#7fbc41"
            ],
            [
             0.9,
             "#4d9221"
            ],
            [
             1,
             "#276419"
            ]
           ],
           "sequential": [
            [
             0,
             "#0d0887"
            ],
            [
             0.1111111111111111,
             "#46039f"
            ],
            [
             0.2222222222222222,
             "#7201a8"
            ],
            [
             0.3333333333333333,
             "#9c179e"
            ],
            [
             0.4444444444444444,
             "#bd3786"
            ],
            [
             0.5555555555555556,
             "#d8576b"
            ],
            [
             0.6666666666666666,
             "#ed7953"
            ],
            [
             0.7777777777777778,
             "#fb9f3a"
            ],
            [
             0.8888888888888888,
             "#fdca26"
            ],
            [
             1,
             "#f0f921"
            ]
           ],
           "sequentialminus": [
            [
             0,
             "#0d0887"
            ],
            [
             0.1111111111111111,
             "#46039f"
            ],
            [
             0.2222222222222222,
             "#7201a8"
            ],
            [
             0.3333333333333333,
             "#9c179e"
            ],
            [
             0.4444444444444444,
             "#bd3786"
            ],
            [
             0.5555555555555556,
             "#d8576b"
            ],
            [
             0.6666666666666666,
             "#ed7953"
            ],
            [
             0.7777777777777778,
             "#fb9f3a"
            ],
            [
             0.8888888888888888,
             "#fdca26"
            ],
            [
             1,
             "#f0f921"
            ]
           ]
          },
          "colorway": [
           "#636efa",
           "#EF553B",
           "#00cc96",
           "#ab63fa",
           "#FFA15A",
           "#19d3f3",
           "#FF6692",
           "#B6E880",
           "#FF97FF",
           "#FECB52"
          ],
          "font": {
           "color": "#2a3f5f"
          },
          "geo": {
           "bgcolor": "white",
           "lakecolor": "white",
           "landcolor": "#E5ECF6",
           "showlakes": true,
           "showland": true,
           "subunitcolor": "white"
          },
          "hoverlabel": {
           "align": "left"
          },
          "hovermode": "closest",
          "mapbox": {
           "style": "light"
          },
          "paper_bgcolor": "white",
          "plot_bgcolor": "#E5ECF6",
          "polar": {
           "angularaxis": {
            "gridcolor": "white",
            "linecolor": "white",
            "ticks": ""
           },
           "bgcolor": "#E5ECF6",
           "radialaxis": {
            "gridcolor": "white",
            "linecolor": "white",
            "ticks": ""
           }
          },
          "scene": {
           "xaxis": {
            "backgroundcolor": "#E5ECF6",
            "gridcolor": "white",
            "gridwidth": 2,
            "linecolor": "white",
            "showbackground": true,
            "ticks": "",
            "zerolinecolor": "white"
           },
           "yaxis": {
            "backgroundcolor": "#E5ECF6",
            "gridcolor": "white",
            "gridwidth": 2,
            "linecolor": "white",
            "showbackground": true,
            "ticks": "",
            "zerolinecolor": "white"
           },
           "zaxis": {
            "backgroundcolor": "#E5ECF6",
            "gridcolor": "white",
            "gridwidth": 2,
            "linecolor": "white",
            "showbackground": true,
            "ticks": "",
            "zerolinecolor": "white"
           }
          },
          "shapedefaults": {
           "line": {
            "color": "#2a3f5f"
           }
          },
          "ternary": {
           "aaxis": {
            "gridcolor": "white",
            "linecolor": "white",
            "ticks": ""
           },
           "baxis": {
            "gridcolor": "white",
            "linecolor": "white",
            "ticks": ""
           },
           "bgcolor": "#E5ECF6",
           "caxis": {
            "gridcolor": "white",
            "linecolor": "white",
            "ticks": ""
           }
          },
          "title": {
           "x": 0.05
          },
          "xaxis": {
           "automargin": true,
           "gridcolor": "white",
           "linecolor": "white",
           "ticks": "",
           "title": {
            "standoff": 15
           },
           "zerolinecolor": "white",
           "zerolinewidth": 2
          },
          "yaxis": {
           "automargin": true,
           "gridcolor": "white",
           "linecolor": "white",
           "ticks": "",
           "title": {
            "standoff": 15
           },
           "zerolinecolor": "white",
           "zerolinewidth": 2
          }
         }
        },
        "xaxis": {
         "autorange": true,
         "range": [
          -2988.2006713097903,
          52788.00047110959
         ],
         "type": "linear"
        },
        "yaxis": {
         "autorange": true,
         "range": [
          0.01242616504854369,
          0.2553038349514563
         ],
         "type": "linear"
        }
       }
      },
      "image/png": "[encoded data removed]",
      "text/html": [
       "<div>                            <div id=\"13260427-2fde-4d98-8c0d-dcd30086f7f1\" class=\"plotly-graph-div\" style=\"height:525px; width:100%;\"></div>            <script type=\"text/javascript\">                require([\"plotly\"], function(Plotly) {                    window.PLOTLYENV=window.PLOTLYENV || {};                                    if (document.getElementById(\"13260427-2fde-4d98-8c0d-dcd30086f7f1\")) {                    Plotly.newPlot(                        \"13260427-2fde-4d98-8c0d-dcd30086f7f1\",                        [{\"mode\":\"markers\",\"name\":\"i(0) = 0.03575\",\"x\":[0.0,250.25025025025028,500.50050050050055,750.7507507507509,1001.0010010010011,1251.2512512512512,1501.5015015015017,1751.751751751752,2002.0020020020022,2252.252252252252,2502.5025025025025,2752.752752752753,3003.0030030030034,3253.2532532532537,3503.503503503504,3753.753753753754,4004.0040040040044,4254.254254254254,4504.504504504504,4754.754754754755,5005.005005005005,5255.255255255255,5505.505505505506,5755.755755755757,6006.006006006007,6256.256256256257,6506.506506506507,6756.756756756758,7007.007007007008,7257.257257257258,7507.507507507508,7757.757757757759,8008.008008008009,8258.258258258258,8508.508508508508,8758.758758758759,9009.009009009009,9259.25925925926,9509.50950950951,9759.75975975976,10010.01001001001,10260.26026026026,10510.51051051051,10760.760760760762,11011.011011011013,11261.261261261263,11511.511511511513,11761.761761761763,12012.012012012014,12262.262262262264,12512.512512512514,12762.762762762764,13013.013013013015,13263.263263263265,13513.513513513515,13763.763763763765,14014.014014014016,14264.264264264266,14514.514514514516,14764.764764764766,15015.015015015017,15265.265265265267,15515.515515515517,15765.765765765767,16016.016016016018,16266.266266266268,16516.516516516516,16766.766766766767,17017.017017017017,17267.267267267267,17517.517517517517,17767.767767767768,18018.018018018018,18268.268268268268,18518.51851851852,18768.76876876877,19019.01901901902,19269.26926926927,19519.51951951952,19769.76976976977,20020.02002002002,20270.27027027027,20520.52052052052,20770.77077077077,21021.02102102102,21271.27127127127,21521.521521521525,21771.771771771775,22022.022022022025,22272.272272272276,22522.522522522526,22772.772772772776,23023.023023023026,23273.273273273277,23523.523523523527,23773.773773773777,24024.024024024027,24274.274274274278,24524.524524524528,24774.774774774778,25025.02502502503,25275.27527527528,25525.52552552553,25775.77577577578,26026.02602602603,26276.27627627628,26526.52652652653,26776.77677677678,27027.02702702703,27277.27727727728,27527.52752752753,27777.77777777778,28028.02802802803,28278.27827827828,28528.52852852853,28778.778778778782,29029.029029029032,29279.279279279282,29529.529529529533,29779.779779779783,30030.030030030033,30280.280280280283,30530.530530530534,30780.780780780784,31031.031031031034,31281.281281281284,31531.531531531535,31781.781781781785,32032.032032032035,32282.282282282285,32532.532532532536,32782.782782782786,33033.03303303303,33283.28328328329,33533.53353353353,33783.78378378379,34034.03403403403,34284.28428428429,34534.534534534534,34784.78478478479,35035.035035035035,35285.28528528529,35535.535535535535,35785.78578578579,36036.036036036036,36286.28628628629,36536.536536536536,36786.78678678679,37037.03703703704,37287.28728728729,37537.53753753754,37787.78778778779,38038.03803803804,38288.28828828829,38538.53853853854,38788.78878878879,39039.03903903904,39289.28928928929,39539.53953953954,39789.78978978979,40040.04004004004,40290.29029029029,40540.54054054054,40790.790790790794,41041.04104104104,41291.291291291294,41541.54154154154,41791.791791791795,42042.04204204204,42292.292292292295,42542.54254254254,42792.792792792796,43043.04304304305,43293.293293293296,43543.54354354355,43793.7937937938,44044.04404404405,44294.2942942943,44544.54454454455,44794.7947947948,45045.04504504505,45295.2952952953,45545.54554554555,45795.7957957958,46046.04604604605,46296.2962962963,46546.54654654655,46796.7967967968,47047.047047047054,47297.2972972973,47547.547547547554,47797.7977977978,48048.048048048055,48298.2982982983,48548.548548548555,48798.7987987988,49049.049049049056,49299.2992992993,49549.549549549556,49799.7997997998],\"y\":[0.0357,0.03519,0.03464,0.03407,0.03352,0.03299,0.03249,0.03204,0.03162,0.03125,0.03092,0.03063,0.03039,0.03018,0.03,0.02987,0.02976,0.02969,0.02964,0.02963,0.02963,0.02967,0.02972,0.0298,0.02989,0.03001,0.03015,0.0303,0.03047,0.03066,0.03086,0.03108,0.03131,0.03156,0.03183,0.0321,0.0324,0.0327,0.03302,0.03336,0.0337,0.03407,0.03444,0.03484,0.03524,0.03566,0.0361,0.03655,0.03702,0.0375,0.038,0.03852,0.03905,0.0396,0.04018,0.04077,0.04138,0.04201,0.04266,0.04334,0.04404,0.04476,0.04551,0.04628,0.04708,0.04791,0.04877,0.04966,0.05058,0.05153,0.05252,0.05354,0.0546,0.05569,0.05683,0.05801,0.05923,0.0605,0.06181,0.06317,0.06458,0.06604,0.06756,0.06913,0.07076,0.07245,0.0742,0.07601,0.07789,0.07983,0.08184,0.08392,0.08607,0.08829,0.09059,0.09296,0.0954,0.09791,0.1005,0.10316,0.10589,0.1087,0.11157,0.11451,0.11751,0.12057,0.12369,0.12685,0.13007,0.13332,0.13661,0.13992,0.14326,0.14661,0.14996,0.15331,0.15665,0.15997,0.16326,0.16651,0.16973,0.17289,0.17599,0.17903,0.18199,0.18488,0.18769,0.19041,0.19304,0.19557,0.19801,0.20036,0.2026,0.20475,0.2068,0.20875,0.21061,0.21237,0.21404,0.21562,0.21711,0.21852,0.21984,0.22109,0.22226,0.22336,0.22438,0.22535,0.22625,0.22709,0.22788,0.22861,0.2293,0.22994,0.23053,0.23108,0.2316,0.23208,0.23252,0.23293,0.23332,0.23367,0.234,0.23431,0.23459,0.23485,0.2351,0.23532,0.23553,0.23573,0.2359,0.23607,0.23622,0.23637,0.2365,0.23662,0.23673,0.23683,0.23693,0.23702,0.2371,0.23718,0.23725,0.23731,0.23737,0.23743,0.23748,0.23753,0.23757,0.23761,0.23765,0.23768,0.23771,0.23774,0.23777,0.2378,0.23782,0.23784,0.23786,0.23788],\"type\":\"scatter\"},{\"mode\":\"markers\",\"name\":\"i(0) = 0.06104\",\"x\":[0.0,250.25025025025028,500.50050050050055,750.7507507507509,1001.0010010010011,1251.2512512512512,1501.5015015015017,1751.751751751752,2002.0020020020022,2252.252252252252,2502.5025025025025,2752.752752752753,3003.0030030030034,3253.2532532532537,3503.503503503504,3753.753753753754,4004.0040040040044,4254.254254254254,4504.504504504504,4754.754754754755,5005.005005005005,5255.255255255255,5505.505505505506,5755.755755755757,6006.006006006007,6256.256256256257,6506.506506506507,6756.756756756758,7007.007007007008,7257.257257257258,7507.507507507508,7757.757757757759,8008.008008008009,8258.258258258258,8508.508508508508,8758.758758758759,9009.009009009009,9259.25925925926,9509.50950950951,9759.75975975976,10010.01001001001,10260.26026026026,10510.51051051051,10760.760760760762,11011.011011011013,11261.261261261263,11511.511511511513,11761.761761761763,12012.012012012014,12262.262262262264,12512.512512512514,12762.762762762764,13013.013013013015,13263.263263263265,13513.513513513515,13763.763763763765,14014.014014014016,14264.264264264266,14514.514514514516,14764.764764764766,15015.015015015017,15265.265265265267,15515.515515515517,15765.765765765767,16016.016016016018,16266.266266266268,16516.516516516516,16766.766766766767,17017.017017017017,17267.267267267267,17517.517517517517,17767.767767767768,18018.018018018018,18268.268268268268,18518.51851851852,18768.76876876877,19019.01901901902,19269.26926926927,19519.51951951952,19769.76976976977,20020.02002002002,20270.27027027027,20520.52052052052,20770.77077077077,21021.02102102102,21271.27127127127,21521.521521521525,21771.771771771775,22022.022022022025,22272.272272272276,22522.522522522526,22772.772772772776,23023.023023023026,23273.273273273277,23523.523523523527,23773.773773773777,24024.024024024027,24274.274274274278,24524.524524524528,24774.774774774778,25025.02502502503,25275.27527527528,25525.52552552553,25775.77577577578,26026.02602602603,26276.27627627628,26526.52652652653,26776.77677677678,27027.02702702703,27277.27727727728,27527.52752752753,27777.77777777778,28028.02802802803,28278.27827827828,28528.52852852853,28778.778778778782,29029.029029029032,29279.279279279282,29529.529529529533,29779.779779779783,30030.030030030033,30280.280280280283,30530.530530530534,30780.780780780784,31031.031031031034,31281.281281281284,31531.531531531535,31781.781781781785,32032.032032032035,32282.282282282285,32532.532532532536,32782.782782782786,33033.03303303303,33283.28328328329,33533.53353353353,33783.78378378379,34034.03403403403,34284.28428428429,34534.534534534534,34784.78478478479,35035.035035035035,35285.28528528529,35535.535535535535,35785.78578578579,36036.036036036036,36286.28628628629,36536.536536536536,36786.78678678679,37037.03703703704,37287.28728728729,37537.53753753754,37787.78778778779,38038.03803803804,38288.28828828829,38538.53853853854,38788.78878878879,39039.03903903904,39289.28928928929,39539.53953953954,39789.78978978979,40040.04004004004,40290.29029029029,40540.54054054054,40790.790790790794,41041.04104104104,41291.291291291294,41541.54154154154,41791.791791791795,42042.04204204204,42292.292292292295,42542.54254254254,42792.792792792796,43043.04304304305,43293.293293293296,43543.54354354355,43793.7937937938,44044.04404404405,44294.2942942943,44544.54454454455,44794.7947947948,45045.04504504505,45295.2952952953,45545.54554554555,45795.7957957958,46046.04604604605,46296.2962962963,46546.54654654655,46796.7967967968,47047.047047047054,47297.2972972973,47547.547547547554,47797.7977977978,48048.048048048055,48298.2982982983,48548.548548548555,48798.7987987988,49049.049049049056,49299.2992992993,49549.549549549556,49799.7997997998],\"y\":[0.061,0.05923,0.05746,0.0558,0.05431,0.05299,0.05186,0.05091,0.05013,0.04951,0.04904,0.0487,0.04847,0.04836,0.04836,0.04844,0.04862,0.04887,0.0492,0.04961,0.05008,0.05061,0.05121,0.05187,0.05258,0.05335,0.05418,0.05506,0.056,0.05698,0.05803,0.05912,0.06028,0.06148,0.06274,0.06406,0.06544,0.06687,0.06837,0.06992,0.07154,0.07322,0.07497,0.07678,0.07866,0.08061,0.08263,0.08472,0.08689,0.08913,0.09144,0.09382,0.09628,0.09882,0.10143,0.10411,0.10687,0.10969,0.11258,0.11554,0.11856,0.12164,0.12478,0.12796,0.13119,0.13445,0.13775,0.14107,0.14441,0.14776,0.15111,0.15446,0.15779,0.1611,0.16438,0.16762,0.17082,0.17396,0.17704,0.18005,0.18299,0.18585,0.18863,0.19132,0.19392,0.19642,0.19883,0.20114,0.20335,0.20547,0.20748,0.2094,0.21123,0.21296,0.21459,0.21614,0.2176,0.21898,0.22028,0.2215,0.22264,0.22372,0.22472,0.22567,0.22655,0.22737,0.22814,0.22886,0.22952,0.23015,0.23073,0.23127,0.23177,0.23223,0.23267,0.23307,0.23344,0.23379,0.23411,0.23441,0.23468,0.23494,0.23518,0.2354,0.2356,0.23579,0.23596,0.23612,0.23627,0.23641,0.23654,0.23666,0.23677,0.23687,0.23696,0.23705,0.23713,0.2372,0.23727,0.23733,0.23739,0.23745,0.2375,0.23754,0.23758,0.23762,0.23766,0.23769,0.23772,0.23775,0.23778,0.2378,0.23783,0.23785,0.23787,0.23788,0.2379,0.23792,0.23793,0.23794,0.23795,0.23797,0.23798,0.23799,0.23799,0.238,0.23801,0.23802,0.23802,0.23803,0.23803,0.23804,0.23804,0.23805,0.23805,0.23806,0.23806,0.23806,0.23806,0.23807,0.23807,0.23807,0.23807,0.23808,0.23808,0.23808,0.23808,0.23808,0.23808,0.23809,0.23809,0.23809,0.23809,0.23809,0.23809,0.23809,0.23809,0.23809,0.23809,0.23809],\"type\":\"scatter\"},{\"mode\":\"markers\",\"name\":\"i(0) = 0.08634\",\"x\":[0.0,250.25025025025028,500.50050050050055,750.7507507507509,1001.0010010010011,1251.2512512512512,1501.5015015015017,1751.751751751752,2002.0020020020022,2252.252252252252,2502.5025025025025,2752.752752752753,3003.0030030030034,3253.2532532532537,3503.503503503504,3753.753753753754,4004.0040040040044,4254.254254254254,4504.504504504504,4754.754754754755,5005.005005005005,5255.255255255255,5505.505505505506,5755.755755755757,6006.006006006007,6256.256256256257,6506.506506506507,6756.756756756758,7007.007007007008,7257.257257257258,7507.507507507508,7757.757757757759,8008.008008008009,8258.258258258258,8508.508508508508,8758.758758758759,9009.009009009009,9259.25925925926,9509.50950950951,9759.75975975976,10010.01001001001,10260.26026026026,10510.51051051051,10760.760760760762,11011.011011011013,11261.261261261263,11511.511511511513,11761.761761761763,12012.012012012014,12262.262262262264,12512.512512512514,12762.762762762764,13013.013013013015,13263.263263263265,13513.513513513515,13763.763763763765,14014.014014014016,14264.264264264266,14514.514514514516,14764.764764764766,15015.015015015017,15265.265265265267,15515.515515515517,15765.765765765767,16016.016016016018,16266.266266266268,16516.516516516516,16766.766766766767,17017.017017017017,17267.267267267267,17517.517517517517,17767.767767767768,18018.018018018018,18268.268268268268,18518.51851851852,18768.76876876877,19019.01901901902,19269.26926926927,19519.51951951952,19769.76976976977,20020.02002002002,20270.27027027027,20520.52052052052,20770.77077077077,21021.02102102102,21271.27127127127,21521.521521521525,21771.771771771775,22022.022022022025,22272.272272272276,22522.522522522526,22772.772772772776,23023.023023023026,23273.273273273277,23523.523523523527,23773.773773773777,24024.024024024027,24274.274274274278,24524.524524524528,24774.774774774778,25025.02502502503,25275.27527527528,25525.52552552553,25775.77577577578,26026.02602602603,26276.27627627628,26526.52652652653,26776.77677677678,27027.02702702703,27277.27727727728,27527.52752752753,27777.77777777778,28028.02802802803,28278.27827827828,28528.52852852853,28778.778778778782,29029.029029029032,29279.279279279282,29529.529529529533,29779.779779779783,30030.030030030033,30280.280280280283,30530.530530530534,30780.780780780784,31031.031031031034,31281.281281281284,31531.531531531535,31781.781781781785,32032.032032032035,32282.282282282285,32532.532532532536,32782.782782782786,33033.03303303303,33283.28328328329,33533.53353353353,33783.78378378379,34034.03403403403,34284.28428428429,34534.534534534534,34784.78478478479,35035.035035035035,35285.28528528529,35535.535535535535,35785.78578578579,36036.036036036036,36286.28628628629,36536.536536536536,36786.78678678679,37037.03703703704,37287.28728728729,37537.53753753754,37787.78778778779,38038.03803803804,38288.28828828829,38538.53853853854,38788.78878878879,39039.03903903904,39289.28928928929,39539.53953953954,39789.78978978979,40040.04004004004,40290.29029029029,40540.54054054054,40790.790790790794,41041.04104104104,41291.291291291294,41541.54154154154,41791.791791791795,42042.04204204204,42292.292292292295,42542.54254254254,42792.792792792796,43043.04304304305,43293.293293293296,43543.54354354355,43793.7937937938,44044.04404404405,44294.2942942943,44544.54454454455,44794.7947947948,45045.04504504505,45295.2952952953,45545.54554554555,45795.7957957958,46046.04604604605,46296.2962962963,46546.54654654655,46796.7967967968,47047.047047047054,47297.2972972973,47547.547547547554,47797.7977977978,48048.048048048055,48298.2982982983,48548.548548548555,48798.7987987988,49049.049049049056,49299.2992992993,49549.549549549556,49799.7997997998],\"y\":[0.0863,0.08256,0.07906,0.07597,0.07336,0.07122,0.0695,0.06817,0.06718,0.06649,0.06607,0.06589,0.06591,0.06613,0.06653,0.06708,0.06777,0.0686,0.06955,0.07063,0.07181,0.07311,0.0745,0.07599,0.07759,0.07927,0.08105,0.08292,0.08487,0.08692,0.08905,0.09127,0.09357,0.09596,0.09843,0.10098,0.10361,0.10632,0.1091,0.11196,0.11488,0.11787,0.12092,0.12404,0.1272,0.13041,0.13366,0.13694,0.14026,0.14359,0.14694,0.15029,0.15363,0.15697,0.16028,0.16357,0.16682,0.17003,0.17318,0.17628,0.17931,0.18227,0.18515,0.18795,0.19066,0.19328,0.19581,0.19824,0.20057,0.20281,0.20495,0.20699,0.20893,0.21078,0.21253,0.21419,0.21576,0.21725,0.21865,0.21996,0.2212,0.22236,0.22346,0.22448,0.22544,0.22633,0.22717,0.22795,0.22868,0.22936,0.23,0.23059,0.23113,0.23165,0.23212,0.23256,0.23297,0.23335,0.2337,0.23403,0.23434,0.23462,0.23488,0.23512,0.23534,0.23555,0.23574,0.23592,0.23609,0.23624,0.23638,0.23651,0.23663,0.23674,0.23684,0.23694,0.23703,0.23711,0.23718,0.23725,0.23732,0.23738,0.23743,0.23748,0.23753,0.23757,0.23761,0.23765,0.23769,0.23772,0.23775,0.23777,0.2378,0.23782,0.23784,0.23786,0.23788,0.2379,0.23791,0.23793,0.23794,0.23795,0.23796,0.23797,0.23798,0.23799,0.238,0.23801,0.23801,0.23802,0.23803,0.23803,0.23804,0.23804,0.23805,0.23805,0.23805,0.23806,0.23806,0.23806,0.23807,0.23807,0.23807,0.23807,0.23808,0.23808,0.23808,0.23808,0.23808,0.23808,0.23808,0.23809,0.23809,0.23809,0.23809,0.23809,0.23809,0.23809,0.23809,0.23809,0.23809,0.23809,0.23809,0.23809,0.23809,0.23809,0.2381,0.2381,0.2381,0.2381,0.2381,0.2381,0.2381,0.2381,0.2381,0.2381,0.2381,0.2381,0.2381,0.2381],\"type\":\"scatter\"},{\"mode\":\"markers\",\"name\":\"i(0) = 0.11163\",\"x\":[0.0,250.25025025025028,500.50050050050055,750.7507507507509,1001.0010010010011,1251.2512512512512,1501.5015015015017,1751.751751751752,2002.0020020020022,2252.252252252252,2502.5025025025025,2752.752752752753,3003.0030030030034,3253.2532532532537,3503.503503503504,3753.753753753754,4004.0040040040044,4254.254254254254,4504.504504504504,4754.754754754755,5005.005005005005,5255.255255255255,5505.505505505506,5755.755755755757,6006.006006006007,6256.256256256257,6506.506506506507,6756.756756756758,7007.007007007008,7257.257257257258,7507.507507507508,7757.757757757759,8008.008008008009,8258.258258258258,8508.508508508508,8758.758758758759,9009.009009009009,9259.25925925926,9509.50950950951,9759.75975975976,10010.01001001001,10260.26026026026,10510.51051051051,10760.760760760762,11011.011011011013,11261.261261261263,11511.511511511513,11761.761761761763,12012.012012012014,12262.262262262264,12512.512512512514,12762.762762762764,13013.013013013015,13263.263263263265,13513.513513513515,13763.763763763765,14014.014014014016,14264.264264264266,14514.514514514516,14764.764764764766,15015.015015015017,15265.265265265267,15515.515515515517,15765.765765765767,16016.016016016018,16266.266266266268,16516.516516516516,16766.766766766767,17017.017017017017,17267.267267267267,17517.517517517517,17767.767767767768,18018.018018018018,18268.268268268268,18518.51851851852,18768.76876876877,19019.01901901902,19269.26926926927,19519.51951951952,19769.76976976977,20020.02002002002,20270.27027027027,20520.52052052052,20770.77077077077,21021.02102102102,21271.27127127127,21521.521521521525,21771.771771771775,22022.022022022025,22272.272272272276,22522.522522522526,22772.772772772776,23023.023023023026,23273.273273273277,23523.523523523527,23773.773773773777,24024.024024024027,24274.274274274278,24524.524524524528,24774.774774774778,25025.02502502503,25275.27527527528,25525.52552552553,25775.77577577578,26026.02602602603,26276.27627627628,26526.52652652653,26776.77677677678,27027.02702702703,27277.27727727728,27527.52752752753,27777.77777777778,28028.02802802803,28278.27827827828,28528.52852852853,28778.778778778782,29029.029029029032,29279.279279279282,29529.529529529533,29779.779779779783,30030.030030030033,30280.280280280283,30530.530530530534,30780.780780780784,31031.031031031034,31281.281281281284,31531.531531531535,31781.781781781785,32032.032032032035,32282.282282282285,32532.532532532536,32782.782782782786,33033.03303303303,33283.28328328329,33533.53353353353,33783.78378378379,34034.03403403403,34284.28428428429,34534.534534534534,34784.78478478479,35035.035035035035,35285.28528528529,35535.535535535535,35785.78578578579,36036.036036036036,36286.28628628629,36536.536536536536,36786.78678678679,37037.03703703704,37287.28728728729,37537.53753753754,37787.78778778779,38038.03803803804,38288.28828828829,38538.53853853854,38788.78878878879,39039.03903903904,39289.28928928929,39539.53953953954,39789.78978978979,40040.04004004004,40290.29029029029,40540.54054054054,40790.790790790794,41041.04104104104,41291.291291291294,41541.54154154154,41791.791791791795,42042.04204204204,42292.292292292295,42542.54254254254,42792.792792792796,43043.04304304305,43293.293293293296,43543.54354354355,43793.7937937938,44044.04404404405,44294.2942942943,44544.54454454455,44794.7947947948,45045.04504504505,45295.2952952953,45545.54554554555,45795.7957957958,46046.04604604605,46296.2962962963,46546.54654654655,46796.7967967968,47047.047047047054,47297.2972972973,47547.547547547554,47797.7977977978,48048.048048048055,48298.2982982983,48548.548548548555,48798.7987987988,49049.049049049056,49299.2992992993,49549.549549549556,49799.7997997998],\"y\":[0.1116,0.10523,0.09957,0.09485,0.09107,0.08812,0.0859,0.0843,0.08322,0.0826,0.08237,0.08247,0.08286,0.08352,0.08442,0.08552,0.08681,0.08828,0.08991,0.0917,0.09362,0.09567,0.09785,0.10014,0.10255,0.10505,0.10766,0.11036,0.11315,0.11602,0.11897,0.12199,0.12507,0.12822,0.13141,0.13465,0.13792,0.14122,0.14455,0.14789,0.15123,0.15457,0.15789,0.1612,0.16447,0.16771,0.1709,0.17404,0.17712,0.18013,0.18306,0.18592,0.1887,0.19138,0.19398,0.19648,0.19888,0.20119,0.2034,0.20552,0.20753,0.20945,0.21127,0.21299,0.21463,0.21618,0.21764,0.21901,0.22031,0.22152,0.22267,0.22374,0.22475,0.22569,0.22657,0.22739,0.22816,0.22887,0.22954,0.23016,0.23074,0.23128,0.23178,0.23224,0.23268,0.23308,0.23345,0.2338,0.23412,0.23441,0.23469,0.23495,0.23518,0.2354,0.23561,0.23579,0.23597,0.23613,0.23628,0.23642,0.23654,0.23666,0.23677,0.23687,0.23696,0.23705,0.23713,0.2372,0.23727,0.23734,0.23739,0.23745,0.2375,0.23754,0.23759,0.23762,0.23766,0.23769,0.23773,0.23775,0.23778,0.2378,0.23783,0.23785,0.23787,0.23788,0.2379,0.23792,0.23793,0.23794,0.23796,0.23797,0.23798,0.23799,0.23799,0.238,0.23801,0.23802,0.23802,0.23803,0.23803,0.23804,0.23804,0.23805,0.23805,0.23806,0.23806,0.23806,0.23806,0.23807,0.23807,0.23807,0.23807,0.23808,0.23808,0.23808,0.23808,0.23808,0.23808,0.23809,0.23809,0.23809,0.23809,0.23809,0.23809,0.23809,0.23809,0.23809,0.23809,0.23809,0.23809,0.23809,0.23809,0.23809,0.2381,0.2381,0.2381,0.2381,0.2381,0.2381,0.2381,0.2381,0.2381,0.2381,0.2381,0.2381,0.2381,0.2381,0.2381,0.2381,0.2381,0.2381,0.2381,0.2381,0.2381,0.2381,0.2381,0.2381,0.2381,0.2381],\"type\":\"scatter\"},{\"mode\":\"markers\",\"name\":\"i(0) = 0.13692\",\"x\":[0.0,250.25025025025028,500.50050050050055,750.7507507507509,1001.0010010010011,1251.2512512512512,1501.5015015015017,1751.751751751752,2002.0020020020022,2252.252252252252,2502.5025025025025,2752.752752752753,3003.0030030030034,3253.2532532532537,3503.503503503504,3753.753753753754,4004.0040040040044,4254.254254254254,4504.504504504504,4754.754754754755,5005.005005005005,5255.255255255255,5505.505505505506,5755.755755755757,6006.006006006007,6256.256256256257,6506.506506506507,6756.756756756758,7007.007007007008,7257.257257257258,7507.507507507508,7757.757757757759,8008.008008008009,8258.258258258258,8508.508508508508,8758.758758758759,9009.009009009009,9259.25925925926,9509.50950950951,9759.75975975976,10010.01001001001,10260.26026026026,10510.51051051051,10760.760760760762,11011.011011011013,11261.261261261263,11511.511511511513,11761.761761761763,12012.012012012014,12262.262262262264,12512.512512512514,12762.762762762764,13013.013013013015,13263.263263263265,13513.513513513515,13763.763763763765,14014.014014014016,14264.264264264266,14514.514514514516,14764.764764764766,15015.015015015017,15265.265265265267,15515.515515515517,15765.765765765767,16016.016016016018,16266.266266266268,16516.516516516516,16766.766766766767,17017.017017017017,17267.267267267267,17517.517517517517,17767.767767767768,18018.018018018018,18268.268268268268,18518.51851851852,18768.76876876877,19019.01901901902,19269.26926926927,19519.51951951952,19769.76976976977,20020.02002002002,20270.27027027027,20520.52052052052,20770.77077077077,21021.02102102102,21271.27127127127,21521.521521521525,21771.771771771775,22022.022022022025,22272.272272272276,22522.522522522526,22772.772772772776,23023.023023023026,23273.273273273277,23523.523523523527,23773.773773773777,24024.024024024027,24274.274274274278,24524.524524524528,24774.774774774778,25025.02502502503,25275.27527527528,25525.52552552553,25775.77577577578,26026.02602602603,26276.27627627628,26526.52652652653,26776.77677677678,27027.02702702703,27277.27727727728,27527.52752752753,27777.77777777778,28028.02802802803,28278.27827827828,28528.52852852853,28778.778778778782,29029.029029029032,29279.279279279282,29529.529529529533,29779.779779779783,30030.030030030033,30280.280280280283,30530.530530530534,30780.780780780784,31031.031031031034,31281.281281281284,31531.531531531535,31781.781781781785,32032.032032032035,32282.282282282285,32532.532532532536,32782.782782782786,33033.03303303303,33283.28328328329,33533.53353353353,33783.78378378379,34034.03403403403,34284.28428428429,34534.534534534534,34784.78478478479,35035.035035035035,35285.28528528529,35535.535535535535,35785.78578578579,36036.036036036036,36286.28628628629,36536.536536536536,36786.78678678679,37037.03703703704,37287.28728728729,37537.53753753754,37787.78778778779,38038.03803803804,38288.28828828829,38538.53853853854,38788.78878878879,39039.03903903904,39289.28928928929,39539.53953953954,39789.78978978979,40040.04004004004,40290.29029029029,40540.54054054054,40790.790790790794,41041.04104104104,41291.291291291294,41541.54154154154,41791.791791791795,42042.04204204204,42292.292292292295,42542.54254254254,42792.792792792796,43043.04304304305,43293.293293293296,43543.54354354355,43793.7937937938,44044.04404404405,44294.2942942943,44544.54454454455,44794.7947947948,45045.04504504505,45295.2952952953,45545.54554554555,45795.7957957958,46046.04604604605,46296.2962962963,46546.54654654655,46796.7967967968,47047.047047047054,47297.2972972973,47547.547547547554,47797.7977977978,48048.048048048055,48298.2982982983,48548.548548548555,48798.7987987988,49049.049049049056,49299.2992992993,49549.549549549556,49799.7997997998],\"y\":[0.1369,0.12726,0.1191,0.11262,0.10766,0.10396,0.10132,0.09953,0.09845,0.09796,0.09797,0.09839,0.09919,0.10029,0.10168,0.10331,0.10515,0.10719,0.1094,0.11177,0.11428,0.11692,0.11968,0.12253,0.12548,0.12851,0.13162,0.13478,0.13799,0.14124,0.14453,0.14783,0.15115,0.15447,0.15778,0.16107,0.16434,0.16757,0.17076,0.17389,0.17697,0.17998,0.18292,0.18578,0.18856,0.19125,0.19385,0.19635,0.19876,0.20108,0.20329,0.20541,0.20743,0.20935,0.21117,0.21291,0.21455,0.2161,0.21756,0.21894,0.22024,0.22146,0.22261,0.22369,0.22469,0.22564,0.22652,0.22735,0.22812,0.22884,0.22951,0.23013,0.23071,0.23125,0.23175,0.23222,0.23265,0.23306,0.23343,0.23378,0.2341,0.2344,0.23468,0.23493,0.23517,0.23539,0.23559,0.23578,0.23596,0.23612,0.23627,0.23641,0.23654,0.23665,0.23676,0.23687,0.23696,0.23705,0.23713,0.2372,0.23727,0.23733,0.23739,0.23744,0.23749,0.23754,0.23758,0.23762,0.23766,0.23769,0.23772,0.23775,0.23778,0.2378,0.23783,0.23785,0.23787,0.23788,0.2379,0.23792,0.23793,0.23794,0.23795,0.23797,0.23798,0.23799,0.23799,0.238,0.23801,0.23802,0.23802,0.23803,0.23803,0.23804,0.23804,0.23805,0.23805,0.23806,0.23806,0.23806,0.23806,0.23807,0.23807,0.23807,0.23807,0.23808,0.23808,0.23808,0.23808,0.23808,0.23808,0.23808,0.23809,0.23809,0.23809,0.23809,0.23809,0.23809,0.23809,0.23809,0.23809,0.23809,0.23809,0.23809,0.23809,0.23809,0.2381,0.2381,0.2381,0.2381,0.2381,0.2381,0.2381,0.2381,0.2381,0.2381,0.2381,0.2381,0.2381,0.2381,0.2381,0.2381,0.2381,0.2381,0.2381,0.2381,0.2381,0.2381,0.2381,0.2381,0.2381,0.2381,0.2381,0.2381,0.2381,0.2381,0.2381,0.2381,0.2381,0.2381],\"type\":\"scatter\"},{\"mode\":\"markers\",\"name\":\"i(0) = 0.16222\",\"x\":[0.0,250.25025025025028,500.50050050050055,750.7507507507509,1001.0010010010011,1251.2512512512512,1501.5015015015017,1751.751751751752,2002.0020020020022,2252.252252252252,2502.5025025025025,2752.752752752753,3003.0030030030034,3253.2532532532537,3503.503503503504,3753.753753753754,4004.0040040040044,4254.254254254254,4504.504504504504,4754.754754754755,5005.005005005005,5255.255255255255,5505.505505505506,5755.755755755757,6006.006006006007,6256.256256256257,6506.506506506507,6756.756756756758,7007.007007007008,7257.257257257258,7507.507507507508,7757.757757757759,8008.008008008009,8258.258258258258,8508.508508508508,8758.758758758759,9009.009009009009,9259.25925925926,9509.50950950951,9759.75975975976,10010.01001001001,10260.26026026026,10510.51051051051,10760.760760760762,11011.011011011013,11261.261261261263,11511.511511511513,11761.761761761763,12012.012012012014,12262.262262262264,12512.512512512514,12762.762762762764,13013.013013013015,13263.263263263265,13513.513513513515,13763.763763763765,14014.014014014016,14264.264264264266,14514.514514514516,14764.764764764766,15015.015015015017,15265.265265265267,15515.515515515517,15765.765765765767,16016.016016016018,16266.266266266268,16516.516516516516,16766.766766766767,17017.017017017017,17267.267267267267,17517.517517517517,17767.767767767768,18018.018018018018,18268.268268268268,18518.51851851852,18768.76876876877,19019.01901901902,19269.26926926927,19519.51951951952,19769.76976976977,20020.02002002002,20270.27027027027,20520.52052052052,20770.77077077077,21021.02102102102,21271.27127127127,21521.521521521525,21771.771771771775,22022.022022022025,22272.272272272276,22522.522522522526,22772.772772772776,23023.023023023026,23273.273273273277,23523.523523523527,23773.773773773777,24024.024024024027,24274.274274274278,24524.524524524528,24774.774774774778,25025.02502502503,25275.27527527528,25525.52552552553,25775.77577577578,26026.02602602603,26276.27627627628,26526.52652652653,26776.77677677678,27027.02702702703,27277.27727727728,27527.52752752753,27777.77777777778,28028.02802802803,28278.27827827828,28528.52852852853,28778.778778778782,29029.029029029032,29279.279279279282,29529.529529529533,29779.779779779783,30030.030030030033,30280.280280280283,30530.530530530534,30780.780780780784,31031.031031031034,31281.281281281284,31531.531531531535,31781.781781781785,32032.032032032035,32282.282282282285,32532.532532532536,32782.782782782786,33033.03303303303,33283.28328328329,33533.53353353353,33783.78378378379,34034.03403403403,34284.28428428429,34534.534534534534,34784.78478478479,35035.035035035035,35285.28528528529,35535.535535535535,35785.78578578579,36036.036036036036,36286.28628628629,36536.536536536536,36786.78678678679,37037.03703703704,37287.28728728729,37537.53753753754,37787.78778778779,38038.03803803804,38288.28828828829,38538.53853853854,38788.78878878879,39039.03903903904,39289.28928928929,39539.53953953954,39789.78978978979,40040.04004004004,40290.29029029029,40540.54054054054,40790.790790790794,41041.04104104104,41291.291291291294,41541.54154154154,41791.791791791795,42042.04204204204,42292.292292292295,42542.54254254254,42792.792792792796,43043.04304304305,43293.293293293296,43543.54354354355,43793.7937937938,44044.04404404405,44294.2942942943,44544.54454454455,44794.7947947948,45045.04504504505,45295.2952952953,45545.54554554555,45795.7957957958,46046.04604604605,46296.2962962963,46546.54654654655,46796.7967967968,47047.047047047054,47297.2972972973,47547.547547547554,47797.7977977978,48048.048048048055,48298.2982982983,48548.548548548555,48798.7987987988,49049.049049049056,49299.2992992993,49549.549549549556,49799.7997997998],\"y\":[0.1622,0.14867,0.13774,0.12943,0.12329,0.1189,0.11589,0.11396,0.11291,0.11257,0.11282,0.11356,0.11471,0.1162,0.118,0.12005,0.12231,0.12477,0.1274,0.13016,0.13304,0.13603,0.13909,0.14223,0.14542,0.14864,0.1519,0.15516,0.15843,0.16168,0.16492,0.16812,0.17129,0.1744,0.17746,0.18045,0.18337,0.18622,0.18898,0.19165,0.19424,0.19673,0.19912,0.20142,0.20362,0.20572,0.20772,0.20963,0.21144,0.21316,0.21479,0.21633,0.21778,0.21914,0.22043,0.22164,0.22278,0.22384,0.22484,0.22578,0.22665,0.22747,0.22823,0.22894,0.2296,0.23022,0.23079,0.23133,0.23183,0.23229,0.23272,0.23312,0.23349,0.23383,0.23415,0.23444,0.23472,0.23497,0.23521,0.23542,0.23562,0.23581,0.23598,0.23614,0.23629,0.23643,0.23655,0.23667,0.23678,0.23688,0.23697,0.23706,0.23714,0.23721,0.23728,0.23734,0.2374,0.23745,0.2375,0.23755,0.23759,0.23763,0.23766,0.2377,0.23773,0.23776,0.23778,0.23781,0.23783,0.23785,0.23787,0.23789,0.2379,0.23792,0.23793,0.23794,0.23796,0.23797,0.23798,0.23799,0.238,0.238,0.23801,0.23802,0.23802,0.23803,0.23803,0.23804,0.23804,0.23805,0.23805,0.23806,0.23806,0.23806,0.23807,0.23807,0.23807,0.23807,0.23807,0.23808,0.23808,0.23808,0.23808,0.23808,0.23808,0.23809,0.23809,0.23809,0.23809,0.23809,0.23809,0.23809,0.23809,0.23809,0.23809,0.23809,0.23809,0.23809,0.23809,0.23809,0.2381,0.2381,0.2381,0.2381,0.2381,0.2381,0.2381,0.2381,0.2381,0.2381,0.2381,0.2381,0.2381,0.2381,0.2381,0.2381,0.2381,0.2381,0.2381,0.2381,0.2381,0.2381,0.2381,0.2381,0.2381,0.2381,0.2381,0.2381,0.2381,0.2381,0.2381,0.2381,0.2381,0.2381,0.2381,0.2381,0.2381,0.2381,0.2381,0.2381],\"type\":\"scatter\"},{\"mode\":\"markers\",\"name\":\"i(0) = 0.18751\",\"x\":[0.0,250.25025025025028,500.50050050050055,750.7507507507509,1001.0010010010011,1251.2512512512512,1501.5015015015017,1751.751751751752,2002.0020020020022,2252.252252252252,2502.5025025025025,2752.752752752753,3003.0030030030034,3253.2532532532537,3503.503503503504,3753.753753753754,4004.0040040040044,4254.254254254254,4504.504504504504,4754.754754754755,5005.005005005005,5255.255255255255,5505.505505505506,5755.755755755757,6006.006006006007,6256.256256256257,6506.506506506507,6756.756756756758,7007.007007007008,7257.257257257258,7507.507507507508,7757.757757757759,8008.008008008009,8258.258258258258,8508.508508508508,8758.758758758759,9009.009009009009,9259.25925925926,9509.50950950951,9759.75975975976,10010.01001001001,10260.26026026026,10510.51051051051,10760.760760760762,11011.011011011013,11261.261261261263,11511.511511511513,11761.761761761763,12012.012012012014,12262.262262262264,12512.512512512514,12762.762762762764,13013.013013013015,13263.263263263265,13513.513513513515,13763.763763763765,14014.014014014016,14264.264264264266,14514.514514514516,14764.764764764766,15015.015015015017,15265.265265265267,15515.515515515517,15765.765765765767,16016.016016016018,16266.266266266268,16516.516516516516,16766.766766766767,17017.017017017017,17267.267267267267,17517.517517517517,17767.767767767768,18018.018018018018,18268.268268268268,18518.51851851852,18768.76876876877,19019.01901901902,19269.26926926927,19519.51951951952,19769.76976976977,20020.02002002002,20270.27027027027,20520.52052052052,20770.77077077077,21021.02102102102,21271.27127127127,21521.521521521525,21771.771771771775,22022.022022022025,22272.272272272276,22522.522522522526,22772.772772772776,23023.023023023026,23273.273273273277,23523.523523523527,23773.773773773777,24024.024024024027,24274.274274274278,24524.524524524528,24774.774774774778,25025.02502502503,25275.27527527528,25525.52552552553,25775.77577577578,26026.02602602603,26276.27627627628,26526.52652652653,26776.77677677678,27027.02702702703,27277.27727727728,27527.52752752753,27777.77777777778,28028.02802802803,28278.27827827828,28528.52852852853,28778.778778778782,29029.029029029032,29279.279279279282,29529.529529529533,29779.779779779783,30030.030030030033,30280.280280280283,30530.530530530534,30780.780780780784,31031.031031031034,31281.281281281284,31531.531531531535,31781.781781781785,32032.032032032035,32282.282282282285,32532.532532532536,32782.782782782786,33033.03303303303,33283.28328328329,33533.53353353353,33783.78378378379,34034.03403403403,34284.28428428429,34534.534534534534,34784.78478478479,35035.035035035035,35285.28528528529,35535.535535535535,35785.78578578579,36036.036036036036,36286.28628628629,36536.536536536536,36786.78678678679,37037.03703703704,37287.28728728729,37537.53753753754,37787.78778778779,38038.03803803804,38288.28828828829,38538.53853853854,38788.78878878879,39039.03903903904,39289.28928928929,39539.53953953954,39789.78978978979,40040.04004004004,40290.29029029029,40540.54054054054,40790.790790790794,41041.04104104104,41291.291291291294,41541.54154154154,41791.791791791795,42042.04204204204,42292.292292292295,42542.54254254254,42792.792792792796,43043.04304304305,43293.293293293296,43543.54354354355,43793.7937937938,44044.04404404405,44294.2942942943,44544.54454454455,44794.7947947948,45045.04504504505,45295.2952952953,45545.54554554555,45795.7957957958,46046.04604604605,46296.2962962963,46546.54654654655,46796.7967967968,47047.047047047054,47297.2972972973,47547.547547547554,47797.7977977978,48048.048048048055,48298.2982982983,48548.548548548555,48798.7987987988,49049.049049049056,49299.2992992993,49549.549549549556,49799.7997997998],\"y\":[0.1875,0.16951,0.15558,0.14538,0.1381,0.13305,0.1297,0.12765,0.12663,0.12643,0.12688,0.12787,0.12929,0.13108,0.13316,0.1355,0.13804,0.14075,0.14359,0.14655,0.14958,0.15268,0.15583,0.159,0.16218,0.16535,0.1685,0.17163,0.17471,0.17774,0.18071,0.18361,0.18644,0.18919,0.19185,0.19442,0.1969,0.19929,0.20158,0.20377,0.20586,0.20786,0.20976,0.21156,0.21327,0.21489,0.21643,0.21787,0.21923,0.22052,0.22172,0.22285,0.22391,0.22491,0.22584,0.22671,0.22752,0.22828,0.22899,0.22965,0.23026,0.23083,0.23136,0.23186,0.23232,0.23275,0.23314,0.23351,0.23385,0.23417,0.23446,0.23473,0.23499,0.23522,0.23544,0.23564,0.23582,0.23599,0.23615,0.2363,0.23644,0.23656,0.23668,0.23679,0.23689,0.23698,0.23706,0.23714,0.23722,0.23728,0.23735,0.2374,0.23746,0.2375,0.23755,0.23759,0.23763,0.23767,0.2377,0.23773,0.23776,0.23778,0.23781,0.23783,0.23785,0.23787,0.23789,0.2379,0.23792,0.23793,0.23795,0.23796,0.23797,0.23798,0.23799,0.238,0.238,0.23801,0.23802,0.23802,0.23803,0.23804,0.23804,0.23804,0.23805,0.23805,0.23806,0.23806,0.23806,0.23807,0.23807,0.23807,0.23807,0.23807,0.23808,0.23808,0.23808,0.23808,0.23808,0.23808,0.23809,0.23809,0.23809,0.23809,0.23809,0.23809,0.23809,0.23809,0.23809,0.23809,0.23809,0.23809,0.23809,0.23809,0.23809,0.2381,0.2381,0.2381,0.2381,0.2381,0.2381,0.2381,0.2381,0.2381,0.2381,0.2381,0.2381,0.2381,0.2381,0.2381,0.2381,0.2381,0.2381,0.2381,0.2381,0.2381,0.2381,0.2381,0.2381,0.2381,0.2381,0.2381,0.2381,0.2381,0.2381,0.2381,0.2381,0.2381,0.2381,0.2381,0.2381,0.2381,0.2381,0.2381,0.2381,0.2381,0.2381,0.2381,0.2381,0.2381],\"type\":\"scatter\"},{\"mode\":\"markers\",\"name\":\"i(0) = 0.21281\",\"x\":[0.0,250.25025025025028,500.50050050050055,750.7507507507509,1001.0010010010011,1251.2512512512512,1501.5015015015017,1751.751751751752,2002.0020020020022,2252.252252252252,2502.5025025025025,2752.752752752753,3003.0030030030034,3253.2532532532537,3503.503503503504,3753.753753753754,4004.0040040040044,4254.254254254254,4504.504504504504,4754.754754754755,5005.005005005005,5255.255255255255,5505.505505505506,5755.755755755757,6006.006006006007,6256.256256256257,6506.506506506507,6756.756756756758,7007.007007007008,7257.257257257258,7507.507507507508,7757.757757757759,8008.008008008009,8258.258258258258,8508.508508508508,8758.758758758759,9009.009009009009,9259.25925925926,9509.50950950951,9759.75975975976,10010.01001001001,10260.26026026026,10510.51051051051,10760.760760760762,11011.011011011013,11261.261261261263,11511.511511511513,11761.761761761763,12012.012012012014,12262.262262262264,12512.512512512514,12762.762762762764,13013.013013013015,13263.263263263265,13513.513513513515,13763.763763763765,14014.014014014016,14264.264264264266,14514.514514514516,14764.764764764766,15015.015015015017,15265.265265265267,15515.515515515517,15765.765765765767,16016.016016016018,16266.266266266268,16516.516516516516,16766.766766766767,17017.017017017017,17267.267267267267,17517.517517517517,17767.767767767768,18018.018018018018,18268.268268268268,18518.51851851852,18768.76876876877,19019.01901901902,19269.26926926927,19519.51951951952,19769.76976976977,20020.02002002002,20270.27027027027,20520.52052052052,20770.77077077077,21021.02102102102,21271.27127127127,21521.521521521525,21771.771771771775,22022.022022022025,22272.272272272276,22522.522522522526,22772.772772772776,23023.023023023026,23273.273273273277,23523.523523523527,23773.773773773777,24024.024024024027,24274.274274274278,24524.524524524528,24774.774774774778,25025.02502502503,25275.27527527528,25525.52552552553,25775.77577577578,26026.02602602603,26276.27627627628,26526.52652652653,26776.77677677678,27027.02702702703,27277.27727727728,27527.52752752753,27777.77777777778,28028.02802802803,28278.27827827828,28528.52852852853,28778.778778778782,29029.029029029032,29279.279279279282,29529.529529529533,29779.779779779783,30030.030030030033,30280.280280280283,30530.530530530534,30780.780780780784,31031.031031031034,31281.281281281284,31531.531531531535,31781.781781781785,32032.032032032035,32282.282282282285,32532.532532532536,32782.782782782786,33033.03303303303,33283.28328328329,33533.53353353353,33783.78378378379,34034.03403403403,34284.28428428429,34534.534534534534,34784.78478478479,35035.035035035035,35285.28528528529,35535.535535535535,35785.78578578579,36036.036036036036,36286.28628628629,36536.536536536536,36786.78678678679,37037.03703703704,37287.28728728729,37537.53753753754,37787.78778778779,38038.03803803804,38288.28828828829,38538.53853853854,38788.78878878879,39039.03903903904,39289.28928928929,39539.53953953954,39789.78978978979,40040.04004004004,40290.29029029029,40540.54054054054,40790.790790790794,41041.04104104104,41291.291291291294,41541.54154154154,41791.791791791795,42042.04204204204,42292.292292292295,42542.54254254254,42792.792792792796,43043.04304304305,43293.293293293296,43543.54354354355,43793.7937937938,44044.04404404405,44294.2942942943,44544.54454454455,44794.7947947948,45045.04504504505,45295.2952952953,45545.54554554555,45795.7957957958,46046.04604604605,46296.2962962963,46546.54654654655,46796.7967967968,47047.047047047054,47297.2972972973,47547.547547547554,47797.7977977978,48048.048048048055,48298.2982982983,48548.548548548555,48798.7987987988,49049.049049049056,49299.2992992993,49549.549549549556,49799.7997997998],\"y\":[0.2128,0.18978,0.17268,0.16056,0.15216,0.14648,0.1428,0.14063,0.13962,0.13951,0.1401,0.14126,0.14287,0.14483,0.14708,0.14956,0.15222,0.15502,0.15792,0.16089,0.16391,0.16695,0.17,0.17303,0.17603,0.179,0.18191,0.18476,0.18753,0.19023,0.19285,0.19538,0.19782,0.20016,0.20241,0.20456,0.20662,0.20858,0.21044,0.21221,0.21389,0.21547,0.21697,0.21839,0.21972,0.22097,0.22215,0.22325,0.22429,0.22526,0.22617,0.22701,0.22781,0.22855,0.22924,0.22988,0.23048,0.23103,0.23155,0.23203,0.23248,0.2329,0.23328,0.23364,0.23397,0.23428,0.23457,0.23483,0.23508,0.2353,0.23551,0.23571,0.23589,0.23606,0.23621,0.23635,0.23648,0.23661,0.23672,0.23683,0.23692,0.23701,0.23709,0.23717,0.23724,0.23731,0.23737,0.23742,0.23747,0.23752,0.23757,0.23761,0.23764,0.23768,0.23771,0.23774,0.23777,0.23779,0.23782,0.23784,0.23786,0.23788,0.23789,0.23791,0.23792,0.23794,0.23795,0.23796,0.23797,0.23798,0.23799,0.238,0.23801,0.23801,0.23802,0.23803,0.23803,0.23804,0.23804,0.23805,0.23805,0.23805,0.23806,0.23806,0.23806,0.23807,0.23807,0.23807,0.23807,0.23808,0.23808,0.23808,0.23808,0.23808,0.23808,0.23808,0.23809,0.23809,0.23809,0.23809,0.23809,0.23809,0.23809,0.23809,0.23809,0.23809,0.23809,0.23809,0.23809,0.23809,0.23809,0.2381,0.2381,0.2381,0.2381,0.2381,0.2381,0.2381,0.2381,0.2381,0.2381,0.2381,0.2381,0.2381,0.2381,0.2381,0.2381,0.2381,0.2381,0.2381,0.2381,0.2381,0.2381,0.2381,0.2381,0.2381,0.2381,0.2381,0.2381,0.2381,0.2381,0.2381,0.2381,0.2381,0.2381,0.2381,0.2381,0.2381,0.2381,0.2381,0.2381,0.2381,0.2381,0.2381,0.2381,0.2381,0.2381,0.2381,0.2381,0.2381],\"type\":\"scatter\"},{\"mode\":\"markers\",\"name\":\"i(0) = 0.2381\",\"x\":[0.0,250.25025025025028,500.50050050050055,750.7507507507509,1001.0010010010011,1251.2512512512512,1501.5015015015017,1751.751751751752,2002.0020020020022,2252.252252252252,2502.5025025025025,2752.752752752753,3003.0030030030034,3253.2532532532537,3503.503503503504,3753.753753753754,4004.0040040040044,4254.254254254254,4504.504504504504,4754.754754754755,5005.005005005005,5255.255255255255,5505.505505505506,5755.755755755757,6006.006006006007,6256.256256256257,6506.506506506507,6756.756756756758,7007.007007007008,7257.257257257258,7507.507507507508,7757.757757757759,8008.008008008009,8258.258258258258,8508.508508508508,8758.758758758759,9009.009009009009,9259.25925925926,9509.50950950951,9759.75975975976,10010.01001001001,10260.26026026026,10510.51051051051,10760.760760760762,11011.011011011013,11261.261261261263,11511.511511511513,11761.761761761763,12012.012012012014,12262.262262262264,12512.512512512514,12762.762762762764,13013.013013013015,13263.263263263265,13513.513513513515,13763.763763763765,14014.014014014016,14264.264264264266,14514.514514514516,14764.764764764766,15015.015015015017,15265.265265265267,15515.515515515517,15765.765765765767,16016.016016016018,16266.266266266268,16516.516516516516,16766.766766766767,17017.017017017017,17267.267267267267,17517.517517517517,17767.767767767768,18018.018018018018,18268.268268268268,18518.51851851852,18768.76876876877,19019.01901901902,19269.26926926927,19519.51951951952,19769.76976976977,20020.02002002002,20270.27027027027,20520.52052052052,20770.77077077077,21021.02102102102,21271.27127127127,21521.521521521525,21771.771771771775,22022.022022022025,22272.272272272276,22522.522522522526,22772.772772772776,23023.023023023026,23273.273273273277,23523.523523523527,23773.773773773777,24024.024024024027,24274.274274274278,24524.524524524528,24774.774774774778,25025.02502502503,25275.27527527528,25525.52552552553,25775.77577577578,26026.02602602603,26276.27627627628,26526.52652652653,26776.77677677678,27027.02702702703,27277.27727727728,27527.52752752753,27777.77777777778,28028.02802802803,28278.27827827828,28528.52852852853,28778.778778778782,29029.029029029032,29279.279279279282,29529.529529529533,29779.779779779783,30030.030030030033,30280.280280280283,30530.530530530534,30780.780780780784,31031.031031031034,31281.281281281284,31531.531531531535,31781.781781781785,32032.032032032035,32282.282282282285,32532.532532532536,32782.782782782786,33033.03303303303,33283.28328328329,33533.53353353353,33783.78378378379,34034.03403403403,34284.28428428429,34534.534534534534,34784.78478478479,35035.035035035035,35285.28528528529,35535.535535535535,35785.78578578579,36036.036036036036,36286.28628628629,36536.536536536536,36786.78678678679,37037.03703703704,37287.28728728729,37537.53753753754,37787.78778778779,38038.03803803804,38288.28828828829,38538.53853853854,38788.78878878879,39039.03903903904,39289.28928928929,39539.53953953954,39789.78978978979,40040.04004004004,40290.29029029029,40540.54054054054,40790.790790790794,41041.04104104104,41291.291291291294,41541.54154154154,41791.791791791795,42042.04204204204,42292.292292292295,42542.54254254254,42792.792792792796,43043.04304304305,43293.293293293296,43543.54354354355,43793.7937937938,44044.04404404405,44294.2942942943,44544.54454454455,44794.7947947948,45045.04504504505,45295.2952952953,45545.54554554555,45795.7957957958,46046.04604604605,46296.2962962963,46546.54654654655,46796.7967967968,47047.047047047054,47297.2972972973,47547.547547547554,47797.7977977978,48048.048048048055,48298.2982982983,48548.548548548555,48798.7987987988,49049.049049049056,49299.2992992993,49549.549549549556,49799.7997997998],\"y\":[0.238,0.20944,0.18903,0.17499,0.16549,0.15919,0.15519,0.15288,0.15184,0.15176,0.15243,0.15367,0.15536,0.15739,0.15969,0.16219,0.16484,0.1676,0.17042,0.17328,0.17616,0.17902,0.18186,0.18465,0.18739,0.19006,0.19266,0.19518,0.19761,0.19995,0.2022,0.20436,0.20642,0.20838,0.21025,0.21203,0.21372,0.21531,0.21682,0.21824,0.21958,0.22084,0.22203,0.22314,0.22418,0.22516,0.22607,0.22693,0.22772,0.22847,0.22916,0.22981,0.23041,0.23098,0.2315,0.23198,0.23243,0.23285,0.23324,0.2336,0.23394,0.23425,0.23454,0.2348,0.23505,0.23528,0.23549,0.23569,0.23587,0.23604,0.23619,0.23634,0.23647,0.23659,0.23671,0.23681,0.23691,0.237,0.23709,0.23716,0.23723,0.2373,0.23736,0.23742,0.23747,0.23752,0.23756,0.2376,0.23764,0.23768,0.23771,0.23774,0.23777,0.23779,0.23781,0.23784,0.23786,0.23787,0.23789,0.23791,0.23792,0.23794,0.23795,0.23796,0.23797,0.23798,0.23799,0.238,0.23801,0.23801,0.23802,0.23803,0.23803,0.23804,0.23804,0.23805,0.23805,0.23805,0.23806,0.23806,0.23806,0.23807,0.23807,0.23807,0.23807,0.23808,0.23808,0.23808,0.23808,0.23808,0.23808,0.23808,0.23809,0.23809,0.23809,0.23809,0.23809,0.23809,0.23809,0.23809,0.23809,0.23809,0.23809,0.23809,0.23809,0.23809,0.23809,0.2381,0.2381,0.2381,0.2381,0.2381,0.2381,0.2381,0.2381,0.2381,0.2381,0.2381,0.2381,0.2381,0.2381,0.2381,0.2381,0.2381,0.2381,0.2381,0.2381,0.2381,0.2381,0.2381,0.2381,0.2381,0.2381,0.2381,0.2381,0.2381,0.2381,0.2381,0.2381,0.2381,0.2381,0.2381,0.2381,0.2381,0.2381,0.2381,0.2381,0.2381,0.2381,0.2381,0.2381,0.2381,0.2381,0.2381,0.2381,0.2381,0.2381,0.2381,0.2381,0.2381],\"type\":\"scatter\"}],                        {\"template\":{\"data\":{\"bar\":[{\"error_x\":{\"color\":\"#2a3f5f\"},\"error_y\":{\"color\":\"#2a3f5f\"},\"marker\":{\"line\":{\"color\":\"#E5ECF6\",\"width\":0.5},\"pattern\":{\"fillmode\":\"overlay\",\"size\":10,\"solidity\":0.2}},\"type\":\"bar\"}],\"barpolar\":[{\"marker\":{\"line\":{\"color\":\"#E5ECF6\",\"width\":0.5},\"pattern\":{\"fillmode\":\"overlay\",\"size\":10,\"solidity\":0.2}},\"type\":\"barpolar\"}],\"carpet\":[{\"aaxis\":{\"endlinecolor\":\"#2a3f5f\",\"gridcolor\":\"white\",\"linecolor\":\"white\",\"minorgridcolor\":\"white\",\"startlinecolor\":\"#2a3f5f\"},\"baxis\":{\"endlinecolor\":\"#2a3f5f\",\"gridcolor\":\"white\",\"linecolor\":\"white\",\"minorgridcolor\":\"white\",\"startlinecolor\":\"#2a3f5f\"},\"type\":\"carpet\"}],\"choropleth\":[{\"colorbar\":{\"outlinewidth\":0,\"ticks\":\"\"},\"type\":\"choropleth\"}],\"contour\":[{\"colorbar\":{\"outlinewidth\":0,\"ticks\":\"\"},\"colorscale\":[[0.0,\"#0d0887\"],[0.1111111111111111,\"#46039f\"],[0.2222222222222222,\"#7201a8\"],[0.3333333333333333,\"#9c179e\"],[0.4444444444444444,\"#bd3786\"],[0.5555555555555556,\"#d8576b\"],[0.6666666666666666,\"#ed7953\"],[0.7777777777777778,\"#fb9f3a\"],[0.8888888888888888,\"#fdca26\"],[1.0,\"#f0f921\"]],\"type\":\"contour\"}],\"contourcarpet\":[{\"colorbar\":{\"outlinewidth\":0,\"ticks\":\"\"},\"type\":\"contourcarpet\"}],\"heatmap\":[{\"colorbar\":{\"outlinewidth\":0,\"ticks\":\"\"},\"colorscale\":[[0.0,\"#0d0887\"],[0.1111111111111111,\"#46039f\"],[0.2222222222222222,\"#7201a8\"],[0.3333333333333333,\"#9c179e\"],[0.4444444444444444,\"#bd3786\"],[0.5555555555555556,\"#d8576b\"],[0.6666666666666666,\"#ed7953\"],[0.7777777777777778,\"#fb9f3a\"],[0.8888888888888888,\"#fdca26\"],[1.0,\"#f0f921\"]],\"type\":\"heatmap\"}],\"heatmapgl\":[{\"colorbar\":{\"outlinewidth\":0,\"ticks\":\"\"},\"colorscale\":[[0.0,\"#0d0887\"],[0.1111111111111111,\"#46039f\"],[0.2222222222222222,\"#7201a8\"],[0.3333333333333333,\"#9c179e\"],[0.4444444444444444,\"#bd3786\"],[0.5555555555555556,\"#d8576b\"],[0.6666666666666666,\"#ed7953\"],[0.7777777777777778,\"#fb9f3a\"],[0.8888888888888888,\"#fdca26\"],[1.0,\"#f0f921\"]],\"type\":\"heatmapgl\"}],\"histogram\":[{\"marker\":{\"pattern\":{\"fillmode\":\"overlay\",\"size\":10,\"solidity\":0.2}},\"type\":\"histogram\"}],\"histogram2d\":[{\"colorbar\":{\"outlinewidth\":0,\"ticks\":\"\"},\"colorscale\":[[0.0,\"#0d0887\"],[0.1111111111111111,\"#46039f\"],[0.2222222222222222,\"#7201a8\"],[0.3333333333333333,\"#9c179e\"],[0.4444444444444444,\"#bd3786\"],[0.5555555555555556,\"#d8576b\"],[0.6666666666666666,\"#ed7953\"],[0.7777777777777778,\"#fb9f3a\"],[0.8888888888888888,\"#fdca26\"],[1.0,\"#f0f921\"]],\"type\":\"histogram2d\"}],\"histogram2dcontour\":[{\"colorbar\":{\"outlinewidth\":0,\"ticks\":\"\"},\"colorscale\":[[0.0,\"#0d0887\"],[0.1111111111111111,\"#46039f\"],[0.2222222222222222,\"#7201a8\"],[0.3333333333333333,\"#9c179e\"],[0.4444444444444444,\"#bd3786\"],[0.5555555555555556,\"#d8576b\"],[0.6666666666666666,\"#ed7953\"],[0.7777777777777778,\"#fb9f3a\"],[0.8888888888888888,\"#fdca26\"],[1.0,\"#f0f921\"]],\"type\":\"histogram2dcontour\"}],\"mesh3d\":[{\"colorbar\":{\"outlinewidth\":0,\"ticks\":\"\"},\"type\":\"mesh3d\"}],\"parcoords\":[{\"line\":{\"colorbar\":{\"outlinewidth\":0,\"ticks\":\"\"}},\"type\":\"parcoords\"}],\"pie\":[{\"automargin\":true,\"type\":\"pie\"}],\"scatter\":[{\"marker\":{\"colorbar\":{\"outlinewidth\":0,\"ticks\":\"\"}},\"type\":\"scatter\"}],\"scatter3d\":[{\"line\":{\"colorbar\":{\"outlinewidth\":0,\"ticks\":\"\"}},\"marker\":{\"colorbar\":{\"outlinewidth\":0,\"ticks\":\"\"}},\"type\":\"scatter3d\"}],\"scattercarpet\":[{\"marker\":{\"colorbar\":{\"outlinewidth\":0,\"ticks\":\"\"}},\"type\":\"scattercarpet\"}],\"scattergeo\":[{\"marker\":{\"colorbar\":{\"outlinewidth\":0,\"ticks\":\"\"}},\"type\":\"scattergeo\"}],\"scattergl\":[{\"marker\":{\"colorbar\":{\"outlinewidth\":0,\"ticks\":\"\"}},\"type\":\"scattergl\"}],\"scattermapbox\":[{\"marker\":{\"colorbar\":{\"outlinewidth\":0,\"ticks\":\"\"}},\"type\":\"scattermapbox\"}],\"scatterpolar\":[{\"marker\":{\"colorbar\":{\"outlinewidth\":0,\"ticks\":\"\"}},\"type\":\"scatterpolar\"}],\"scatterpolargl\":[{\"marker\":{\"colorbar\":{\"outlinewidth\":0,\"ticks\":\"\"}},\"type\":\"scatterpolargl\"}],\"scatterternary\":[{\"marker\":{\"colorbar\":{\"outlinewidth\":0,\"ticks\":\"\"}},\"type\":\"scatterternary\"}],\"surface\":[{\"colorbar\":{\"outlinewidth\":0,\"ticks\":\"\"},\"colorscale\":[[0.0,\"#0d0887\"],[0.1111111111111111,\"#46039f\"],[0.2222222222222222,\"#7201a8\"],[0.3333333333333333,\"#9c179e\"],[0.4444444444444444,\"#bd3786\"],[0.5555555555555556,\"#d8576b\"],[0.6666666666666666,\"#ed7953\"],[0.7777777777777778,\"#fb9f3a\"],[0.8888888888888888,\"#fdca26\"],[1.0,\"#f0f921\"]],\"type\":\"surface\"}],\"table\":[{\"cells\":{\"fill\":{\"color\":\"#EBF0F8\"},\"line\":{\"color\":\"white\"}},\"header\":{\"fill\":{\"color\":\"#C8D4E3\"},\"line\":{\"color\":\"white\"}},\"type\":\"table\"}]},\"layout\":{\"annotationdefaults\":{\"arrowcolor\":\"#2a3f5f\",\"arrowhead\":0,\"arrowwidth\":1},\"autotypenumbers\":\"strict\",\"coloraxis\":{\"colorbar\":{\"outlinewidth\":0,\"ticks\":\"\"}},\"colorscale\":{\"diverging\":[[0,\"#8e0152\"],[0.1,\"#c51b7d\"],[0.2,\"#de77ae\"],[0.3,\"#f1b6da\"],[0.4,\"#fde0ef\"],[0.5,\"#f7f7f7\"],[0.6,\"#e6f5d0\"],[0.7,\"#b8e186\"],[0.8,\"#7fbc41\"],[0.9,\"#4d9221\"],[1,\"#276419\"]],\"sequential\":[[0.0,\"#0d0887\"],[0.1111111111111111,\"#46039f\"],[0.2222222222222222,\"#7201a8\"],[0.3333333333333333,\"#9c179e\"],[0.4444444444444444,\"#bd3786\"],[0.5555555555555556,\"#d8576b\"],[0.6666666666666666,\"#ed7953\"],[0.7777777777777778,\"#fb9f3a\"],[0.8888888888888888,\"#fdca26\"],[1.0,\"#f0f921\"]],\"sequentialminus\":[[0.0,\"#0d0887\"],[0.1111111111111111,\"#46039f\"],[0.2222222222222222,\"#7201a8\"],[0.3333333333333333,\"#9c179e\"],[0.4444444444444444,\"#bd3786\"],[0.5555555555555556,\"#d8576b\"],[0.6666666666666666,\"#ed7953\"],[0.7777777777777778,\"#fb9f3a\"],[0.8888888888888888,\"#fdca26\"],[1.0,\"#f0f921\"]]},\"colorway\":[\"#636efa\",\"#EF553B\",\"#00cc96\",\"#ab63fa\",\"#FFA15A\",\"#19d3f3\",\"#FF6692\",\"#B6E880\",\"#FF97FF\",\"#FECB52\"],\"font\":{\"color\":\"#2a3f5f\"},\"geo\":{\"bgcolor\":\"white\",\"lakecolor\":\"white\",\"landcolor\":\"#E5ECF6\",\"showlakes\":true,\"showland\":true,\"subunitcolor\":\"white\"},\"hoverlabel\":{\"align\":\"left\"},\"hovermode\":\"closest\",\"mapbox\":{\"style\":\"light\"},\"paper_bgcolor\":\"white\",\"plot_bgcolor\":\"#E5ECF6\",\"polar\":{\"angularaxis\":{\"gridcolor\":\"white\",\"linecolor\":\"white\",\"ticks\":\"\"},\"bgcolor\":\"#E5ECF6\",\"radialaxis\":{\"gridcolor\":\"white\",\"linecolor\":\"white\",\"ticks\":\"\"}},\"scene\":{\"xaxis\":{\"backgroundcolor\":\"#E5ECF6\",\"gridcolor\":\"white\",\"gridwidth\":2,\"linecolor\":\"white\",\"showbackground\":true,\"ticks\":\"\",\"zerolinecolor\":\"white\"},\"yaxis\":{\"backgroundcolor\":\"#E5ECF6\",\"gridcolor\":\"white\",\"gridwidth\":2,\"linecolor\":\"white\",\"showbackground\":true,\"ticks\":\"\",\"zerolinecolor\":\"white\"},\"zaxis\":{\"backgroundcolor\":\"#E5ECF6\",\"gridcolor\":\"white\",\"gridwidth\":2,\"linecolor\":\"white\",\"showbackground\":true,\"ticks\":\"\",\"zerolinecolor\":\"white\"}},\"shapedefaults\":{\"line\":{\"color\":\"#2a3f5f\"}},\"ternary\":{\"aaxis\":{\"gridcolor\":\"white\",\"linecolor\":\"white\",\"ticks\":\"\"},\"baxis\":{\"gridcolor\":\"white\",\"linecolor\":\"white\",\"ticks\":\"\"},\"bgcolor\":\"#E5ECF6\",\"caxis\":{\"gridcolor\":\"white\",\"linecolor\":\"white\",\"ticks\":\"\"}},\"title\":{\"x\":0.05},\"xaxis\":{\"automargin\":true,\"gridcolor\":\"white\",\"linecolor\":\"white\",\"ticks\":\"\",\"title\":{\"standoff\":15},\"zerolinecolor\":\"white\",\"zerolinewidth\":2},\"yaxis\":{\"automargin\":true,\"gridcolor\":\"white\",\"linecolor\":\"white\",\"ticks\":\"\",\"title\":{\"standoff\":15},\"zerolinecolor\":\"white\",\"zerolinewidth\":2}}}},                        {\"responsive\": true}                    ).then(function(){\n",
       "                            \n",
       "var gd = document.getElementById('13260427-2fde-4d98-8c0d-dcd30086f7f1');\n",
       "var x = new MutationObserver(function (mutations, observer) {{\n",
       "        var display = window.getComputedStyle(gd).display;\n",
       "        if (!display || display === 'none') {{\n",
       "            console.log([gd, 'removed!']);\n",
       "            Plotly.purge(gd);\n",
       "            observer.disconnect();\n",
       "        }}\n",
       "}});\n",
       "\n",
       "// Listen for the removal of the full notebook cells\n",
       "var notebookContainer = gd.closest('#notebook-container');\n",
       "if (notebookContainer) {{\n",
       "    x.observe(notebookContainer, {childList: true});\n",
       "}}\n",
       "\n",
       "// Listen for the clearing of the current output cell\n",
       "var outputEl = gd.closest('.output');\n",
       "if (outputEl) {{\n",
       "    x.observe(outputEl, {childList: true});\n",
       "}}\n",
       "\n",
       "                        })                };                });            </script>        </div>"
      ]
     },
     "metadata": {},
     "output_type": "display_data"
    }
   ],
   "source": [
    "# init_i_props = np.linspace(0.0001, 0.010455203872732766, 10)\n",
    "init_i_props = np.linspace(0.010455203872732766, 0.23809938298643937, 10)\n",
    "\n",
    "N = 10000\n",
    "recovered = 10\n",
    "Is = []\n",
    "t_max = 50000\n",
    "\n",
    "for init_prop in init_i_props:\n",
    "    initial_infected = math.floor(init_prop*N)\n",
    "    x00 = [N - initial_infected - recovered, initial_infected, recovered]\n",
    "    non_adaptive = NonAdaptive(mu, gamma, beta, phi, Cs, Ci, Cz, x00, t_max, dt=0.1)\n",
    "    non_adaptive.solve_odes_system(method='odeint')\n",
    "    I_raw = non_adaptive.I\n",
    "    I_scaled = [i/N for i in I_raw]\n",
    "    Is.append(I_scaled)\n",
    "\n",
    "data = pd.DataFrame({\n",
    "    't': np.linspace(0,t_max,len(Is[0]))\n",
    "})\n",
    "\n",
    "for k in range(1,len(Is)):\n",
    "    data[f'y{k}'] = [round(val,5) for val in Is[k]]\n",
    "\n",
    "data = data.iloc[list(range(0, data.shape[0], 5))]\n",
    "print(data.shape)\n",
    "\n",
    "fig = go.Figure()\n",
    "\n",
    "# Add traces\n",
    "for k in range(1,len(Is)):\n",
    "    fig.add_trace(go.Scatter(x=data['t'], y=data[f'y{k}'],\n",
    "                        mode='markers',\n",
    "                        name=f'i(0) = {round(init_i_props[k],5)}'))\n",
    "    \n",
    "# Write for LaTeX table\n",
    "# data = data.astype(str)\n",
    "# data_latex = ''\n",
    "\n",
    "# for j in range(data.shape[0]):\n",
    "#     row = data.iloc[j]\n",
    "#     data_latex = data_latex + '\\n' + ' '.join(row.tolist())\n",
    "    \n",
    "# file = open('dat_eq1.txt','w+')\n",
    "# file.write(' '.join(data.columns.tolist()))\n",
    "# file.write(data_latex)\n",
    "# file.close()\n",
    "\n",
    "fig.show()"
   ]
  },
  {
   "cell_type": "markdown",
   "id": "fe5d3c30-64c5-48d6-a379-9ca60ab91c03",
   "metadata": {},
   "source": [
    "### Further Comparisons"
   ]
  },
  {
   "cell_type": "markdown",
   "id": "19cac46c-84ea-4c02-8c64-00ed5893d0bd",
   "metadata": {},
   "source": [
    "Classical model ($\\kappa = \\theta = 1$)"
   ]
  },
  {
   "cell_type": "code",
   "execution_count": 27,
   "id": "f3e4cb04-6cff-4103-a2d5-912b91f55c04",
   "metadata": {},
   "outputs": [
    {
     "name": "stdout",
     "output_type": "stream",
     "text": [
      " --- Model Simulation ---\n",
      "x(0) = [9799, 200, 1]\n",
      "i(0) : 0.02\n"
     ]
    },
    {
     "data": {
      "image/png": "[encoded data removed]",
      "text/plain": [
       "<Figure size 720x432 with 1 Axes>"
      ]
     },
     "metadata": {
      "needs_background": "light"
     },
     "output_type": "display_data"
    },
    {
     "name": "stdout",
     "output_type": "stream",
     "text": [
      "Final stable equilibrium i^* = 0.30136773387578125\n"
     ]
    }
   ],
   "source": [
    "prop_infected = 0.02\n",
    "N=10000\n",
    "recovered = 1\n",
    "initial_infected = math.floor(prop_infected*N)\n",
    "x00 = [N - initial_infected - recovered, initial_infected, recovered]\n",
    "print(' --- Model Simulation ---')\n",
    "print(f'x(0) = {x00}')\n",
    "print(f'i(0) : {x00[1]/sum(x00)}')\n",
    "t_max = 400000\n",
    "kappa = 1\n",
    "theta = 1\n",
    "Ci = 3\n",
    "Cs = 3/kappa\n",
    "Cz = theta*Cs\n",
    "non_adaptive = NonAdaptive(mu, gamma, beta, phi, Cs, Ci, Cz, x00, t_max, dt=0.1)\n",
    "non_adaptive.solve_odes_system(method='odeint')\n",
    "non_adaptive.plot_ode_solution()\n",
    "print(f'Final stable equilibrium i^* = {non_adaptive.I[len(non_adaptive.I) - 1]/sum(x00)}')"
   ]
  },
  {
   "cell_type": "markdown",
   "id": "0e0ad68b-761d-4123-979c-3c862d2e2e6b",
   "metadata": {},
   "source": [
    "### Effect of $(\\kappa, \\theta)$"
   ]
  },
  {
   "cell_type": "markdown",
   "id": "1f2db3ce-0ea5-4e79-b63b-52ff8dc3edf8",
   "metadata": {},
   "source": [
    "Final convergence point depends inversely on the size of $\\kappa$.\n",
    "Similar thing happens for $\\theta$."
   ]
  },
  {
   "cell_type": "code",
   "execution_count": 28,
   "id": "7c1733c4-592e-4552-b4ae-d2a8511e8414",
   "metadata": {},
   "outputs": [
    {
     "data": {
      "application/vnd.plotly.v1+json": {
       "config": {
        "plotlyServerURL": "https://plot.ly"
       },
       "data": [
        {
         "mode": "markers",
         "type": "scatter",
         "x": [
          0.01,
          0.02,
          0.03,
          0.04,
          0.05,
          0.060000000000000005,
          0.06999999999999999,
          0.08,
          0.09,
          0.09999999999999999,
          0.11,
          0.12,
          0.13,
          0.14,
          0.15000000000000002,
          0.16,
          0.17,
          0.18000000000000002,
          0.19,
          0.2,
          0.21000000000000002,
          0.22,
          0.23,
          0.24000000000000002,
          0.25,
          0.26,
          0.27,
          0.28,
          0.29000000000000004,
          0.3,
          0.31,
          0.32,
          0.33,
          0.34,
          0.35000000000000003,
          0.36000000000000004,
          0.37,
          0.38,
          0.39,
          0.4,
          0.41000000000000003,
          0.42000000000000004,
          0.43,
          0.44,
          0.45,
          0.46,
          0.47000000000000003,
          0.48000000000000004,
          0.49,
          0.5,
          0.51,
          0.52,
          0.53,
          0.54,
          0.55,
          0.56,
          0.5700000000000001,
          0.5800000000000001,
          0.59,
          0.6,
          0.61,
          0.62,
          0.63,
          0.64,
          0.65,
          0.66,
          0.67,
          0.68,
          0.6900000000000001,
          0.7000000000000001,
          0.7100000000000001,
          0.72,
          0.73,
          0.74,
          0.75,
          0.76,
          0.77,
          0.78,
          0.79,
          0.8,
          0.81,
          0.8200000000000001,
          0.8300000000000001,
          0.8400000000000001,
          0.85,
          0.86,
          0.87,
          0.88,
          0.89,
          0.9,
          0.91,
          0.92,
          0.93,
          0.9400000000000001,
          0.9500000000000001,
          0.9600000000000001,
          0.97,
          0.98,
          0.99,
          1,
          1.01,
          1.02,
          1.03,
          1.04,
          1.05,
          1.06,
          1.07,
          1.08,
          1.09,
          1.1,
          1.11,
          1.12,
          1.1300000000000001,
          1.1400000000000001,
          1.1500000000000001,
          1.1600000000000001,
          1.17,
          1.18,
          1.19,
          1.2,
          1.21,
          1.22,
          1.23,
          1.24,
          1.25,
          1.26,
          1.27,
          1.28,
          1.29,
          1.3,
          1.31,
          1.32,
          1.33,
          1.34,
          1.35,
          1.36,
          1.37,
          1.3800000000000001,
          1.3900000000000001,
          1.4000000000000001,
          1.4100000000000001,
          1.42,
          1.43,
          1.44,
          1.45,
          1.46,
          1.47,
          1.48,
          1.49,
          1.5,
          1.51,
          1.52,
          1.53,
          1.54,
          1.55,
          1.56,
          1.57,
          1.58,
          1.59,
          1.6,
          1.61,
          1.62,
          1.6300000000000001,
          1.6400000000000001,
          1.6500000000000001,
          1.6600000000000001,
          1.6700000000000002,
          1.68,
          1.69,
          1.7,
          1.71,
          1.72,
          1.73,
          1.74,
          1.75,
          1.76,
          1.77,
          1.78,
          1.79,
          1.8,
          1.81,
          1.82,
          1.83,
          1.84,
          1.85,
          1.86,
          1.87,
          1.8800000000000001,
          1.8900000000000001,
          1.9000000000000001,
          1.9100000000000001,
          1.9200000000000002,
          1.93,
          1.94,
          1.95,
          1.96,
          1.97,
          1.98,
          1.99,
          2
         ],
         "y": [
          0.2839402603637366,
          0.28334660842568354,
          0.28275335650260996,
          0.2821605025566711,
          0.281568044542942,
          0.28097598040938526,
          0.28038430809663284,
          0.27979302553794794,
          0.27920213065902993,
          0.2786116213779876,
          0.2780214956051662,
          0.27743175124302194,
          0.27684238618603946,
          0.2762533983205743,
          0.27566478552463214,
          0.2750765456679842,
          0.274488676611793,
          0.27390117620859233,
          0.2733140423021377,
          0.27272727272727293,
          0.27214086530976417,
          0.27155481786618874,
          0.27096912820378455,
          0.27038379412029834,
          0.26979881340383527,
          0.26921418383272255,
          0.2686299031753564,
          0.2680459691900166,
          0.26746237962476904,
          0.2668791322172497,
          0.26629622469454023,
          0.2657136547729909,
          0.2651314201580188,
          0.26454951854401776,
          0.26396794761412085,
          0.2633867050400441,
          0.2628057884819684,
          0.2622251955881833,
          0.2616449239951753,
          0.2610649713271888,
          0.26048533519617206,
          0.2599060132015566,
          0.25932700293006095,
          0.25874830195548004,
          0.2581699078385086,
          0.25759181812654053,
          0.25701403035341525,
          0.2564365420392443,
          0.2558593506902127,
          0.2552824537983024,
          0.2547058488411741,
          0.2541295332817171,
          0.25355350456815956,
          0.2529777601335741,
          0.25240229739570524,
          0.25182711375673583,
          0.25125220660309006,
          0.2506775733051104,
          0.25010321121683204,
          0.24952911767573532,
          0.24895529000247843,
          0.248381725500619,
          0.24780842145637225,
          0.24723537513824925,
          0.24666258379694392,
          0.246090044664698,
          0.24551775495563016,
          0.24494571186476305,
          0.24437391256812935,
          0.2438023542223098,
          0.24323103396418227,
          0.24265994891057843,
          0.24208909615793814,
          0.24151847278206479,
          0.24094807583765174,
          0.24037790235805848,
          0.23980794935486682,
          0.2392382138175901,
          0.23866869271341434,
          0.2380993829864407,
          0.237530281557867,
          0.23696138532497324,
          0.23639269116128797,
          0.23582419591607018,
          0.23525589641355932,
          0.2346877894528805,
          0.2341198718076377,
          0.23355214022519585,
          0.23298459142658057,
          0.23241722210580715,
          0.2318500289295239,
          0.23128300853649433,
          0.23071615753713703,
          0.23014947251305726,
          0.22958295001654738,
          0.22901658657003576,
          0.22845037866569196,
          0.2278843227646342,
          0.22731841529684585,
          0.22675265266001146,
          0.22618703121952757,
          0.225621547307954,
          0.22505619722342027,
          0.2244909772304406,
          0.22392588355847265,
          0.22336091240146597,
          0.22279605991715,
          0.22223132222656955,
          0.22166669541327363,
          0.22110217552254438,
          0.2205377585613911,
          0.21997344049658155,
          0.2194092172549692,
          0.21884508472245442,
          0.21828103874310076,
          0.21771707511853364,
          0.21715318960694094,
          0.21658937792251237,
          0.21602563573444442,
          0.2154619586661556,
          0.2148983422942653,
          0.21433478214816337,
          0.21377127370846788,
          0.21320781240661463,
          0.21264439362363619,
          0.212081012689308,
          0.21151766488109175,
          0.2109543454231215,
          0.21039104948503792,
          0.20982777218174478,
          0.20926450857064888,
          0.20870125365195807,
          0.20813800236729127,
          0.20757474959812502,
          0.20701149016479084,
          0.20644821882513184,
          0.20588493027337768,
          0.20532161913884006,
          0.20475827998456225,
          0.2041949073058997,
          0.20363149552877016,
          0.20306803900981338,
          0.20250453203161217,
          0.20194096880527712,
          0.2013773434655598,
          0.20081365007140733,
          0.20024988260305107,
          0.19968603496079637,
          0.1991221009632777,
          0.19855807434617323,
          0.19799394875888496,
          0.19742971776458848,
          0.19686537483672936,
          0.19630091335889815,
          0.19573632661970902,
          0.1951716078141438,
          0.19460675003974312,
          0.1940417462938153,
          0.19347658947243537,
          0.1929112723674467,
          0.19234578766445437,
          0.19178012793946492,
          0.1912142856449134,
          0.19064825316906736,
          0.1900820227082774,
          0.18951558638886606,
          0.18894893620373465,
          0.18838206401779453,
          0.187814961570012,
          0.1872476204658988,
          0.18668003217698936,
          0.18611218803688342,
          0.18554407923643557,
          0.1849756968231098,
          0.1844070316949702,
          0.1838380745954167,
          0.18326881611440834,
          0.18269924668020726,
          0.1821293565742389,
          0.18155913583637856,
          0.1809885744431313,
          0.18041766211940646,
          0.17984638842593526,
          0.17927474273609545,
          0.17870271423072268,
          0.1781302918914944,
          0.177557464498599,
          0.1769842206237555,
          0.17641054862136563,
          0.17583643662716508,
          0.17526187255011794,
          0.1746868440644552,
          0.1741113386061052,
          0.1735353433625602,
          0.17295884526762714,
          0.17238183099439885,
          0.17180428689176552,
          0.17122619924676147,
          0.17064755373810298,
          0.17006833596541848
         ]
        }
       ],
       "layout": {
        "height": 500,
        "template": {
         "data": {
          "bar": [
           {
            "error_x": {
             "color": "#2a3f5f"
            },
            "error_y": {
             "color": "#2a3f5f"
            },
            "marker": {
             "line": {
              "color": "#E5ECF6",
              "width": 0.5
             },
             "pattern": {
              "fillmode": "overlay",
              "size": 10,
              "solidity": 0.2
             }
            },
            "type": "bar"
           }
          ],
          "barpolar": [
           {
            "marker": {
             "line": {
              "color": "#E5ECF6",
              "width": 0.5
             },
             "pattern": {
              "fillmode": "overlay",
              "size": 10,
              "solidity": 0.2
             }
            },
            "type": "barpolar"
           }
          ],
          "carpet": [
           {
            "aaxis": {
             "endlinecolor": "#2a3f5f",
             "gridcolor": "white",
             "linecolor": "white",
             "minorgridcolor": "white",
             "startlinecolor": "#2a3f5f"
            },
            "baxis": {
             "endlinecolor": "#2a3f5f",
             "gridcolor": "white",
             "linecolor": "white",
             "minorgridcolor": "white",
             "startlinecolor": "#2a3f5f"
            },
            "type": "carpet"
           }
          ],
          "choropleth": [
           {
            "colorbar": {
             "outlinewidth": 0,
             "ticks": ""
            },
            "type": "choropleth"
           }
          ],
          "contour": [
           {
            "colorbar": {
             "outlinewidth": 0,
             "ticks": ""
            },
            "colorscale": [
             [
              0,
              "#0d0887"
             ],
             [
              0.1111111111111111,
              "#46039f"
             ],
             [
              0.2222222222222222,
              "#7201a8"
             ],
             [
              0.3333333333333333,
              "#9c179e"
             ],
             [
              0.4444444444444444,
              "#bd3786"
             ],
             [
              0.5555555555555556,
              "#d8576b"
             ],
             [
              0.6666666666666666,
              "#ed7953"
             ],
             [
              0.7777777777777778,
              "#fb9f3a"
             ],
             [
              0.8888888888888888,
              "#fdca26"
             ],
             [
              1,
              "#f0f921"
             ]
            ],
            "type": "contour"
           }
          ],
          "contourcarpet": [
           {
            "colorbar": {
             "outlinewidth": 0,
             "ticks": ""
            },
            "type": "contourcarpet"
           }
          ],
          "heatmap": [
           {
            "colorbar": {
             "outlinewidth": 0,
             "ticks": ""
            },
            "colorscale": [
             [
              0,
              "#0d0887"
             ],
             [
              0.1111111111111111,
              "#46039f"
             ],
             [
              0.2222222222222222,
              "#7201a8"
             ],
             [
              0.3333333333333333,
              "#9c179e"
             ],
             [
              0.4444444444444444,
              "#bd3786"
             ],
             [
              0.5555555555555556,
              "#d8576b"
             ],
             [
              0.6666666666666666,
              "#ed7953"
             ],
             [
              0.7777777777777778,
              "#fb9f3a"
             ],
             [
              0.8888888888888888,
              "#fdca26"
             ],
             [
              1,
              "#f0f921"
             ]
            ],
            "type": "heatmap"
           }
          ],
          "heatmapgl": [
           {
            "colorbar": {
             "outlinewidth": 0,
             "ticks": ""
            },
            "colorscale": [
             [
              0,
              "#0d0887"
             ],
             [
              0.1111111111111111,
              "#46039f"
             ],
             [
              0.2222222222222222,
              "#7201a8"
             ],
             [
              0.3333333333333333,
              "#9c179e"
             ],
             [
              0.4444444444444444,
              "#bd3786"
             ],
             [
              0.5555555555555556,
              "#d8576b"
             ],
             [
              0.6666666666666666,
              "#ed7953"
             ],
             [
              0.7777777777777778,
              "#fb9f3a"
             ],
             [
              0.8888888888888888,
              "#fdca26"
             ],
             [
              1,
              "#f0f921"
             ]
            ],
            "type": "heatmapgl"
           }
          ],
          "histogram": [
           {
            "marker": {
             "pattern": {
              "fillmode": "overlay",
              "size": 10,
              "solidity": 0.2
             }
            },
            "type": "histogram"
           }
          ],
          "histogram2d": [
           {
            "colorbar": {
             "outlinewidth": 0,
             "ticks": ""
            },
            "colorscale": [
             [
              0,
              "#0d0887"
             ],
             [
              0.1111111111111111,
              "#46039f"
             ],
             [
              0.2222222222222222,
              "#7201a8"
             ],
             [
              0.3333333333333333,
              "#9c179e"
             ],
             [
              0.4444444444444444,
              "#bd3786"
             ],
             [
              0.5555555555555556,
              "#d8576b"
             ],
             [
              0.6666666666666666,
              "#ed7953"
             ],
             [
              0.7777777777777778,
              "#fb9f3a"
             ],
             [
              0.8888888888888888,
              "#fdca26"
             ],
             [
              1,
              "#f0f921"
             ]
            ],
            "type": "histogram2d"
           }
          ],
          "histogram2dcontour": [
           {
            "colorbar": {
             "outlinewidth": 0,
             "ticks": ""
            },
            "colorscale": [
             [
              0,
              "#0d0887"
             ],
             [
              0.1111111111111111,
              "#46039f"
             ],
             [
              0.2222222222222222,
              "#7201a8"
             ],
             [
              0.3333333333333333,
              "#9c179e"
             ],
             [
              0.4444444444444444,
              "#bd3786"
             ],
             [
              0.5555555555555556,
              "#d8576b"
             ],
             [
              0.6666666666666666,
              "#ed7953"
             ],
             [
              0.7777777777777778,
              "#fb9f3a"
             ],
             [
              0.8888888888888888,
              "#fdca26"
             ],
             [
              1,
              "#f0f921"
             ]
            ],
            "type": "histogram2dcontour"
           }
          ],
          "mesh3d": [
           {
            "colorbar": {
             "outlinewidth": 0,
             "ticks": ""
            },
            "type": "mesh3d"
           }
          ],
          "parcoords": [
           {
            "line": {
             "colorbar": {
              "outlinewidth": 0,
              "ticks": ""
             }
            },
            "type": "parcoords"
           }
          ],
          "pie": [
           {
            "automargin": true,
            "type": "pie"
           }
          ],
          "scatter": [
           {
            "marker": {
             "colorbar": {
              "outlinewidth": 0,
              "ticks": ""
             }
            },
            "type": "scatter"
           }
          ],
          "scatter3d": [
           {
            "line": {
             "colorbar": {
              "outlinewidth": 0,
              "ticks": ""
             }
            },
            "marker": {
             "colorbar": {
              "outlinewidth": 0,
              "ticks": ""
             }
            },
            "type": "scatter3d"
           }
          ],
          "scattercarpet": [
           {
            "marker": {
             "colorbar": {
              "outlinewidth": 0,
              "ticks": ""
             }
            },
            "type": "scattercarpet"
           }
          ],
          "scattergeo": [
           {
            "marker": {
             "colorbar": {
              "outlinewidth": 0,
              "ticks": ""
             }
            },
            "type": "scattergeo"
           }
          ],
          "scattergl": [
           {
            "marker": {
             "colorbar": {
              "outlinewidth": 0,
              "ticks": ""
             }
            },
            "type": "scattergl"
           }
          ],
          "scattermapbox": [
           {
            "marker": {
             "colorbar": {
              "outlinewidth": 0,
              "ticks": ""
             }
            },
            "type": "scattermapbox"
           }
          ],
          "scatterpolar": [
           {
            "marker": {
             "colorbar": {
              "outlinewidth": 0,
              "ticks": ""
             }
            },
            "type": "scatterpolar"
           }
          ],
          "scatterpolargl": [
           {
            "marker": {
             "colorbar": {
              "outlinewidth": 0,
              "ticks": ""
             }
            },
            "type": "scatterpolargl"
           }
          ],
          "scatterternary": [
           {
            "marker": {
             "colorbar": {
              "outlinewidth": 0,
              "ticks": ""
             }
            },
            "type": "scatterternary"
           }
          ],
          "surface": [
           {
            "colorbar": {
             "outlinewidth": 0,
             "ticks": ""
            },
            "colorscale": [
             [
              0,
              "#0d0887"
             ],
             [
              0.1111111111111111,
              "#46039f"
             ],
             [
              0.2222222222222222,
              "#7201a8"
             ],
             [
              0.3333333333333333,
              "#9c179e"
             ],
             [
              0.4444444444444444,
              "#bd3786"
             ],
             [
              0.5555555555555556,
              "#d8576b"
             ],
             [
              0.6666666666666666,
              "#ed7953"
             ],
             [
              0.7777777777777778,
              "#fb9f3a"
             ],
             [
              0.8888888888888888,
              "#fdca26"
             ],
             [
              1,
              "#f0f921"
             ]
            ],
            "type": "surface"
           }
          ],
          "table": [
           {
            "cells": {
             "fill": {
              "color": "#EBF0F8"
             },
             "line": {
              "color": "white"
             }
            },
            "header": {
             "fill": {
              "color": "#C8D4E3"
             },
             "line": {
              "color": "white"
             }
            },
            "type": "table"
           }
          ]
         },
         "layout": {
          "annotationdefaults": {
           "arrowcolor": "#2a3f5f",
           "arrowhead": 0,
           "arrowwidth": 1
          },
          "autotypenumbers": "strict",
          "coloraxis": {
           "colorbar": {
            "outlinewidth": 0,
            "ticks": ""
           }
          },
          "colorscale": {
           "diverging": [
            [
             0,
             "#8e0152"
            ],
            [
             0.1,
             "#c51b7d"
            ],
            [
             0.2,
             "#de77ae"
            ],
            [
             0.3,
             "#f1b6da"
            ],
            [
             0.4,
             "#fde0ef"
            ],
            [
             0.5,
             "#f7f7f7"
            ],
            [
             0.6,
             "#e6f5d0"
            ],
            [
             0.7,
             "#b8e186"
            ],
            [
             0.8,
             "#7fbc41"
            ],
            [
             0.9,
             "#4d9221"
            ],
            [
             1,
             "#276419"
            ]
           ],
           "sequential": [
            [
             0,
             "#0d0887"
            ],
            [
             0.1111111111111111,
             "#46039f"
            ],
            [
             0.2222222222222222,
             "#7201a8"
            ],
            [
             0.3333333333333333,
             "#9c179e"
            ],
            [
             0.4444444444444444,
             "#bd3786"
            ],
            [
             0.5555555555555556,
             "#d8576b"
            ],
            [
             0.6666666666666666,
             "#ed7953"
            ],
            [
             0.7777777777777778,
             "#fb9f3a"
            ],
            [
             0.8888888888888888,
             "#fdca26"
            ],
            [
             1,
             "#f0f921"
            ]
           ],
           "sequentialminus": [
            [
             0,
             "#0d0887"
            ],
            [
             0.1111111111111111,
             "#46039f"
            ],
            [
             0.2222222222222222,
             "#7201a8"
            ],
            [
             0.3333333333333333,
             "#9c179e"
            ],
            [
             0.4444444444444444,
             "#bd3786"
            ],
            [
             0.5555555555555556,
             "#d8576b"
            ],
            [
             0.6666666666666666,
             "#ed7953"
            ],
            [
             0.7777777777777778,
             "#fb9f3a"
            ],
            [
             0.8888888888888888,
             "#fdca26"
            ],
            [
             1,
             "#f0f921"
            ]
           ]
          },
          "colorway": [
           "#636efa",
           "#EF553B",
           "#00cc96",
           "#ab63fa",
           "#FFA15A",
           "#19d3f3",
           "#FF6692",
           "#B6E880",
           "#FF97FF",
           "#FECB52"
          ],
          "font": {
           "color": "#2a3f5f"
          },
          "geo": {
           "bgcolor": "white",
           "lakecolor": "white",
           "landcolor": "#E5ECF6",
           "showlakes": true,
           "showland": true,
           "subunitcolor": "white"
          },
          "hoverlabel": {
           "align": "left"
          },
          "hovermode": "closest",
          "mapbox": {
           "style": "light"
          },
          "paper_bgcolor": "white",
          "plot_bgcolor": "#E5ECF6",
          "polar": {
           "angularaxis": {
            "gridcolor": "white",
            "linecolor": "white",
            "ticks": ""
           },
           "bgcolor": "#E5ECF6",
           "radialaxis": {
            "gridcolor": "white",
            "linecolor": "white",
            "ticks": ""
           }
          },
          "scene": {
           "xaxis": {
            "backgroundcolor": "#E5ECF6",
            "gridcolor": "white",
            "gridwidth": 2,
            "linecolor": "white",
            "showbackground": true,
            "ticks": "",
            "zerolinecolor": "white"
           },
           "yaxis": {
            "backgroundcolor": "#E5ECF6",
            "gridcolor": "white",
            "gridwidth": 2,
            "linecolor": "white",
            "showbackground": true,
            "ticks": "",
            "zerolinecolor": "white"
           },
           "zaxis": {
            "backgroundcolor": "#E5ECF6",
            "gridcolor": "white",
            "gridwidth": 2,
            "linecolor": "white",
            "showbackground": true,
            "ticks": "",
            "zerolinecolor": "white"
           }
          },
          "shapedefaults": {
           "line": {
            "color": "#2a3f5f"
           }
          },
          "ternary": {
           "aaxis": {
            "gridcolor": "white",
            "linecolor": "white",
            "ticks": ""
           },
           "baxis": {
            "gridcolor": "white",
            "linecolor": "white",
            "ticks": ""
           },
           "bgcolor": "#E5ECF6",
           "caxis": {
            "gridcolor": "white",
            "linecolor": "white",
            "ticks": ""
           }
          },
          "title": {
           "x": 0.05
          },
          "xaxis": {
           "automargin": true,
           "gridcolor": "white",
           "linecolor": "white",
           "ticks": "",
           "title": {
            "standoff": 15
           },
           "zerolinecolor": "white",
           "zerolinewidth": 2
          },
          "yaxis": {
           "automargin": true,
           "gridcolor": "white",
           "linecolor": "white",
           "ticks": "",
           "title": {
            "standoff": 15
           },
           "zerolinecolor": "white",
           "zerolinewidth": 2
          }
         }
        },
        "width": 500,
        "xaxis": {
         "autorange": true,
         "range": [
          -0.12833333333333333,
          2.138333333333333
         ],
         "type": "linear"
        },
        "yaxis": {
         "autorange": true,
         "range": [
          0.1620506157983355,
          0.2919579805308196
         ],
         "type": "linear"
        }
       }
      },
      "image/png": "[encoded data removed]",
      "text/html": [
       "<div>                            <div id=\"42bbf590-1e07-42ab-a423-014ca2a5ee7a\" class=\"plotly-graph-div\" style=\"height:500px; width:500px;\"></div>            <script type=\"text/javascript\">                require([\"plotly\"], function(Plotly) {                    window.PLOTLYENV=window.PLOTLYENV || {};                                    if (document.getElementById(\"42bbf590-1e07-42ab-a423-014ca2a5ee7a\")) {                    Plotly.newPlot(                        \"42bbf590-1e07-42ab-a423-014ca2a5ee7a\",                        [{\"mode\":\"markers\",\"x\":[0.01,0.02,0.03,0.04,0.05,0.060000000000000005,0.06999999999999999,0.08,0.09,0.09999999999999999,0.11,0.12,0.13,0.14,0.15000000000000002,0.16,0.17,0.18000000000000002,0.19,0.2,0.21000000000000002,0.22,0.23,0.24000000000000002,0.25,0.26,0.27,0.28,0.29000000000000004,0.3,0.31,0.32,0.33,0.34,0.35000000000000003,0.36000000000000004,0.37,0.38,0.39,0.4,0.41000000000000003,0.42000000000000004,0.43,0.44,0.45,0.46,0.47000000000000003,0.48000000000000004,0.49,0.5,0.51,0.52,0.53,0.54,0.55,0.56,0.5700000000000001,0.5800000000000001,0.59,0.6,0.61,0.62,0.63,0.64,0.65,0.66,0.67,0.68,0.6900000000000001,0.7000000000000001,0.7100000000000001,0.72,0.73,0.74,0.75,0.76,0.77,0.78,0.79,0.8,0.81,0.8200000000000001,0.8300000000000001,0.8400000000000001,0.85,0.86,0.87,0.88,0.89,0.9,0.91,0.92,0.93,0.9400000000000001,0.9500000000000001,0.9600000000000001,0.97,0.98,0.99,1.0,1.01,1.02,1.03,1.04,1.05,1.06,1.07,1.08,1.09,1.1,1.11,1.12,1.1300000000000001,1.1400000000000001,1.1500000000000001,1.1600000000000001,1.17,1.18,1.19,1.2,1.21,1.22,1.23,1.24,1.25,1.26,1.27,1.28,1.29,1.3,1.31,1.32,1.33,1.34,1.35,1.36,1.37,1.3800000000000001,1.3900000000000001,1.4000000000000001,1.4100000000000001,1.42,1.43,1.44,1.45,1.46,1.47,1.48,1.49,1.5,1.51,1.52,1.53,1.54,1.55,1.56,1.57,1.58,1.59,1.6,1.61,1.62,1.6300000000000001,1.6400000000000001,1.6500000000000001,1.6600000000000001,1.6700000000000002,1.68,1.69,1.7,1.71,1.72,1.73,1.74,1.75,1.76,1.77,1.78,1.79,1.8,1.81,1.82,1.83,1.84,1.85,1.86,1.87,1.8800000000000001,1.8900000000000001,1.9000000000000001,1.9100000000000001,1.9200000000000002,1.93,1.94,1.95,1.96,1.97,1.98,1.99,2.0],\"y\":[0.2839402603637366,0.28334660842568354,0.28275335650260996,0.2821605025566711,0.281568044542942,0.28097598040938526,0.28038430809663284,0.27979302553794794,0.27920213065902993,0.2786116213779876,0.2780214956051662,0.27743175124302194,0.27684238618603946,0.2762533983205743,0.27566478552463214,0.2750765456679842,0.274488676611793,0.27390117620859233,0.2733140423021377,0.27272727272727293,0.27214086530976417,0.27155481786618874,0.27096912820378455,0.27038379412029834,0.26979881340383527,0.26921418383272255,0.2686299031753564,0.2680459691900166,0.26746237962476904,0.2668791322172497,0.26629622469454023,0.2657136547729909,0.2651314201580188,0.26454951854401776,0.26396794761412085,0.2633867050400441,0.2628057884819684,0.2622251955881833,0.2616449239951753,0.2610649713271888,0.26048533519617206,0.2599060132015566,0.25932700293006095,0.25874830195548004,0.2581699078385086,0.25759181812654053,0.25701403035341525,0.2564365420392443,0.2558593506902127,0.2552824537983024,0.2547058488411741,0.2541295332817171,0.25355350456815956,0.2529777601335741,0.25240229739570524,0.25182711375673583,0.25125220660309006,0.2506775733051104,0.25010321121683204,0.24952911767573532,0.24895529000247843,0.248381725500619,0.24780842145637225,0.24723537513824925,0.24666258379694392,0.246090044664698,0.24551775495563016,0.24494571186476305,0.24437391256812935,0.2438023542223098,0.24323103396418227,0.24265994891057843,0.24208909615793814,0.24151847278206479,0.24094807583765174,0.24037790235805848,0.23980794935486682,0.2392382138175901,0.23866869271341434,0.2380993829864407,0.237530281557867,0.23696138532497324,0.23639269116128797,0.23582419591607018,0.23525589641355932,0.2346877894528805,0.2341198718076377,0.23355214022519585,0.23298459142658057,0.23241722210580715,0.2318500289295239,0.23128300853649433,0.23071615753713703,0.23014947251305726,0.22958295001654738,0.22901658657003576,0.22845037866569196,0.2278843227646342,0.22731841529684585,0.22675265266001146,0.22618703121952757,0.225621547307954,0.22505619722342027,0.2244909772304406,0.22392588355847265,0.22336091240146597,0.22279605991715,0.22223132222656955,0.22166669541327363,0.22110217552254438,0.2205377585613911,0.21997344049658155,0.2194092172549692,0.21884508472245442,0.21828103874310076,0.21771707511853364,0.21715318960694094,0.21658937792251237,0.21602563573444442,0.2154619586661556,0.2148983422942653,0.21433478214816337,0.21377127370846788,0.21320781240661463,0.21264439362363619,0.212081012689308,0.21151766488109175,0.2109543454231215,0.21039104948503792,0.20982777218174478,0.20926450857064888,0.20870125365195807,0.20813800236729127,0.20757474959812502,0.20701149016479084,0.20644821882513184,0.20588493027337768,0.20532161913884006,0.20475827998456225,0.2041949073058997,0.20363149552877016,0.20306803900981338,0.20250453203161217,0.20194096880527712,0.2013773434655598,0.20081365007140733,0.20024988260305107,0.19968603496079637,0.1991221009632777,0.19855807434617323,0.19799394875888496,0.19742971776458848,0.19686537483672936,0.19630091335889815,0.19573632661970902,0.1951716078141438,0.19460675003974312,0.1940417462938153,0.19347658947243537,0.1929112723674467,0.19234578766445437,0.19178012793946492,0.1912142856449134,0.19064825316906736,0.1900820227082774,0.18951558638886606,0.18894893620373465,0.18838206401779453,0.187814961570012,0.1872476204658988,0.18668003217698936,0.18611218803688342,0.18554407923643557,0.1849756968231098,0.1844070316949702,0.1838380745954167,0.18326881611440834,0.18269924668020726,0.1821293565742389,0.18155913583637856,0.1809885744431313,0.18041766211940646,0.17984638842593526,0.17927474273609545,0.17870271423072268,0.1781302918914944,0.177557464498599,0.1769842206237555,0.17641054862136563,0.17583643662716508,0.17526187255011794,0.1746868440644552,0.1741113386061052,0.1735353433625602,0.17295884526762714,0.17238183099439885,0.17180428689176552,0.17122619924676147,0.17064755373810298,0.17006833596541848],\"type\":\"scatter\"}],                        {\"template\":{\"data\":{\"bar\":[{\"error_x\":{\"color\":\"#2a3f5f\"},\"error_y\":{\"color\":\"#2a3f5f\"},\"marker\":{\"line\":{\"color\":\"#E5ECF6\",\"width\":0.5},\"pattern\":{\"fillmode\":\"overlay\",\"size\":10,\"solidity\":0.2}},\"type\":\"bar\"}],\"barpolar\":[{\"marker\":{\"line\":{\"color\":\"#E5ECF6\",\"width\":0.5},\"pattern\":{\"fillmode\":\"overlay\",\"size\":10,\"solidity\":0.2}},\"type\":\"barpolar\"}],\"carpet\":[{\"aaxis\":{\"endlinecolor\":\"#2a3f5f\",\"gridcolor\":\"white\",\"linecolor\":\"white\",\"minorgridcolor\":\"white\",\"startlinecolor\":\"#2a3f5f\"},\"baxis\":{\"endlinecolor\":\"#2a3f5f\",\"gridcolor\":\"white\",\"linecolor\":\"white\",\"minorgridcolor\":\"white\",\"startlinecolor\":\"#2a3f5f\"},\"type\":\"carpet\"}],\"choropleth\":[{\"colorbar\":{\"outlinewidth\":0,\"ticks\":\"\"},\"type\":\"choropleth\"}],\"contour\":[{\"colorbar\":{\"outlinewidth\":0,\"ticks\":\"\"},\"colorscale\":[[0.0,\"#0d0887\"],[0.1111111111111111,\"#46039f\"],[0.2222222222222222,\"#7201a8\"],[0.3333333333333333,\"#9c179e\"],[0.4444444444444444,\"#bd3786\"],[0.5555555555555556,\"#d8576b\"],[0.6666666666666666,\"#ed7953\"],[0.7777777777777778,\"#fb9f3a\"],[0.8888888888888888,\"#fdca26\"],[1.0,\"#f0f921\"]],\"type\":\"contour\"}],\"contourcarpet\":[{\"colorbar\":{\"outlinewidth\":0,\"ticks\":\"\"},\"type\":\"contourcarpet\"}],\"heatmap\":[{\"colorbar\":{\"outlinewidth\":0,\"ticks\":\"\"},\"colorscale\":[[0.0,\"#0d0887\"],[0.1111111111111111,\"#46039f\"],[0.2222222222222222,\"#7201a8\"],[0.3333333333333333,\"#9c179e\"],[0.4444444444444444,\"#bd3786\"],[0.5555555555555556,\"#d8576b\"],[0.6666666666666666,\"#ed7953\"],[0.7777777777777778,\"#fb9f3a\"],[0.8888888888888888,\"#fdca26\"],[1.0,\"#f0f921\"]],\"type\":\"heatmap\"}],\"heatmapgl\":[{\"colorbar\":{\"outlinewidth\":0,\"ticks\":\"\"},\"colorscale\":[[0.0,\"#0d0887\"],[0.1111111111111111,\"#46039f\"],[0.2222222222222222,\"#7201a8\"],[0.3333333333333333,\"#9c179e\"],[0.4444444444444444,\"#bd3786\"],[0.5555555555555556,\"#d8576b\"],[0.6666666666666666,\"#ed7953\"],[0.7777777777777778,\"#fb9f3a\"],[0.8888888888888888,\"#fdca26\"],[1.0,\"#f0f921\"]],\"type\":\"heatmapgl\"}],\"histogram\":[{\"marker\":{\"pattern\":{\"fillmode\":\"overlay\",\"size\":10,\"solidity\":0.2}},\"type\":\"histogram\"}],\"histogram2d\":[{\"colorbar\":{\"outlinewidth\":0,\"ticks\":\"\"},\"colorscale\":[[0.0,\"#0d0887\"],[0.1111111111111111,\"#46039f\"],[0.2222222222222222,\"#7201a8\"],[0.3333333333333333,\"#9c179e\"],[0.4444444444444444,\"#bd3786\"],[0.5555555555555556,\"#d8576b\"],[0.6666666666666666,\"#ed7953\"],[0.7777777777777778,\"#fb9f3a\"],[0.8888888888888888,\"#fdca26\"],[1.0,\"#f0f921\"]],\"type\":\"histogram2d\"}],\"histogram2dcontour\":[{\"colorbar\":{\"outlinewidth\":0,\"ticks\":\"\"},\"colorscale\":[[0.0,\"#0d0887\"],[0.1111111111111111,\"#46039f\"],[0.2222222222222222,\"#7201a8\"],[0.3333333333333333,\"#9c179e\"],[0.4444444444444444,\"#bd3786\"],[0.5555555555555556,\"#d8576b\"],[0.6666666666666666,\"#ed7953\"],[0.7777777777777778,\"#fb9f3a\"],[0.8888888888888888,\"#fdca26\"],[1.0,\"#f0f921\"]],\"type\":\"histogram2dcontour\"}],\"mesh3d\":[{\"colorbar\":{\"outlinewidth\":0,\"ticks\":\"\"},\"type\":\"mesh3d\"}],\"parcoords\":[{\"line\":{\"colorbar\":{\"outlinewidth\":0,\"ticks\":\"\"}},\"type\":\"parcoords\"}],\"pie\":[{\"automargin\":true,\"type\":\"pie\"}],\"scatter\":[{\"marker\":{\"colorbar\":{\"outlinewidth\":0,\"ticks\":\"\"}},\"type\":\"scatter\"}],\"scatter3d\":[{\"line\":{\"colorbar\":{\"outlinewidth\":0,\"ticks\":\"\"}},\"marker\":{\"colorbar\":{\"outlinewidth\":0,\"ticks\":\"\"}},\"type\":\"scatter3d\"}],\"scattercarpet\":[{\"marker\":{\"colorbar\":{\"outlinewidth\":0,\"ticks\":\"\"}},\"type\":\"scattercarpet\"}],\"scattergeo\":[{\"marker\":{\"colorbar\":{\"outlinewidth\":0,\"ticks\":\"\"}},\"type\":\"scattergeo\"}],\"scattergl\":[{\"marker\":{\"colorbar\":{\"outlinewidth\":0,\"ticks\":\"\"}},\"type\":\"scattergl\"}],\"scattermapbox\":[{\"marker\":{\"colorbar\":{\"outlinewidth\":0,\"ticks\":\"\"}},\"type\":\"scattermapbox\"}],\"scatterpolar\":[{\"marker\":{\"colorbar\":{\"outlinewidth\":0,\"ticks\":\"\"}},\"type\":\"scatterpolar\"}],\"scatterpolargl\":[{\"marker\":{\"colorbar\":{\"outlinewidth\":0,\"ticks\":\"\"}},\"type\":\"scatterpolargl\"}],\"scatterternary\":[{\"marker\":{\"colorbar\":{\"outlinewidth\":0,\"ticks\":\"\"}},\"type\":\"scatterternary\"}],\"surface\":[{\"colorbar\":{\"outlinewidth\":0,\"ticks\":\"\"},\"colorscale\":[[0.0,\"#0d0887\"],[0.1111111111111111,\"#46039f\"],[0.2222222222222222,\"#7201a8\"],[0.3333333333333333,\"#9c179e\"],[0.4444444444444444,\"#bd3786\"],[0.5555555555555556,\"#d8576b\"],[0.6666666666666666,\"#ed7953\"],[0.7777777777777778,\"#fb9f3a\"],[0.8888888888888888,\"#fdca26\"],[1.0,\"#f0f921\"]],\"type\":\"surface\"}],\"table\":[{\"cells\":{\"fill\":{\"color\":\"#EBF0F8\"},\"line\":{\"color\":\"white\"}},\"header\":{\"fill\":{\"color\":\"#C8D4E3\"},\"line\":{\"color\":\"white\"}},\"type\":\"table\"}]},\"layout\":{\"annotationdefaults\":{\"arrowcolor\":\"#2a3f5f\",\"arrowhead\":0,\"arrowwidth\":1},\"autotypenumbers\":\"strict\",\"coloraxis\":{\"colorbar\":{\"outlinewidth\":0,\"ticks\":\"\"}},\"colorscale\":{\"diverging\":[[0,\"#8e0152\"],[0.1,\"#c51b7d\"],[0.2,\"#de77ae\"],[0.3,\"#f1b6da\"],[0.4,\"#fde0ef\"],[0.5,\"#f7f7f7\"],[0.6,\"#e6f5d0\"],[0.7,\"#b8e186\"],[0.8,\"#7fbc41\"],[0.9,\"#4d9221\"],[1,\"#276419\"]],\"sequential\":[[0.0,\"#0d0887\"],[0.1111111111111111,\"#46039f\"],[0.2222222222222222,\"#7201a8\"],[0.3333333333333333,\"#9c179e\"],[0.4444444444444444,\"#bd3786\"],[0.5555555555555556,\"#d8576b\"],[0.6666666666666666,\"#ed7953\"],[0.7777777777777778,\"#fb9f3a\"],[0.8888888888888888,\"#fdca26\"],[1.0,\"#f0f921\"]],\"sequentialminus\":[[0.0,\"#0d0887\"],[0.1111111111111111,\"#46039f\"],[0.2222222222222222,\"#7201a8\"],[0.3333333333333333,\"#9c179e\"],[0.4444444444444444,\"#bd3786\"],[0.5555555555555556,\"#d8576b\"],[0.6666666666666666,\"#ed7953\"],[0.7777777777777778,\"#fb9f3a\"],[0.8888888888888888,\"#fdca26\"],[1.0,\"#f0f921\"]]},\"colorway\":[\"#636efa\",\"#EF553B\",\"#00cc96\",\"#ab63fa\",\"#FFA15A\",\"#19d3f3\",\"#FF6692\",\"#B6E880\",\"#FF97FF\",\"#FECB52\"],\"font\":{\"color\":\"#2a3f5f\"},\"geo\":{\"bgcolor\":\"white\",\"lakecolor\":\"white\",\"landcolor\":\"#E5ECF6\",\"showlakes\":true,\"showland\":true,\"subunitcolor\":\"white\"},\"hoverlabel\":{\"align\":\"left\"},\"hovermode\":\"closest\",\"mapbox\":{\"style\":\"light\"},\"paper_bgcolor\":\"white\",\"plot_bgcolor\":\"#E5ECF6\",\"polar\":{\"angularaxis\":{\"gridcolor\":\"white\",\"linecolor\":\"white\",\"ticks\":\"\"},\"bgcolor\":\"#E5ECF6\",\"radialaxis\":{\"gridcolor\":\"white\",\"linecolor\":\"white\",\"ticks\":\"\"}},\"scene\":{\"xaxis\":{\"backgroundcolor\":\"#E5ECF6\",\"gridcolor\":\"white\",\"gridwidth\":2,\"linecolor\":\"white\",\"showbackground\":true,\"ticks\":\"\",\"zerolinecolor\":\"white\"},\"yaxis\":{\"backgroundcolor\":\"#E5ECF6\",\"gridcolor\":\"white\",\"gridwidth\":2,\"linecolor\":\"white\",\"showbackground\":true,\"ticks\":\"\",\"zerolinecolor\":\"white\"},\"zaxis\":{\"backgroundcolor\":\"#E5ECF6\",\"gridcolor\":\"white\",\"gridwidth\":2,\"linecolor\":\"white\",\"showbackground\":true,\"ticks\":\"\",\"zerolinecolor\":\"white\"}},\"shapedefaults\":{\"line\":{\"color\":\"#2a3f5f\"}},\"ternary\":{\"aaxis\":{\"gridcolor\":\"white\",\"linecolor\":\"white\",\"ticks\":\"\"},\"baxis\":{\"gridcolor\":\"white\",\"linecolor\":\"white\",\"ticks\":\"\"},\"bgcolor\":\"#E5ECF6\",\"caxis\":{\"gridcolor\":\"white\",\"linecolor\":\"white\",\"ticks\":\"\"}},\"title\":{\"x\":0.05},\"xaxis\":{\"automargin\":true,\"gridcolor\":\"white\",\"linecolor\":\"white\",\"ticks\":\"\",\"title\":{\"standoff\":15},\"zerolinecolor\":\"white\",\"zerolinewidth\":2},\"yaxis\":{\"automargin\":true,\"gridcolor\":\"white\",\"linecolor\":\"white\",\"ticks\":\"\",\"title\":{\"standoff\":15},\"zerolinecolor\":\"white\",\"zerolinewidth\":2}}},\"width\":500,\"height\":500},                        {\"responsive\": true}                    ).then(function(){\n",
       "                            \n",
       "var gd = document.getElementById('42bbf590-1e07-42ab-a423-014ca2a5ee7a');\n",
       "var x = new MutationObserver(function (mutations, observer) {{\n",
       "        var display = window.getComputedStyle(gd).display;\n",
       "        if (!display || display === 'none') {{\n",
       "            console.log([gd, 'removed!']);\n",
       "            Plotly.purge(gd);\n",
       "            observer.disconnect();\n",
       "        }}\n",
       "}});\n",
       "\n",
       "// Listen for the removal of the full notebook cells\n",
       "var notebookContainer = gd.closest('#notebook-container');\n",
       "if (notebookContainer) {{\n",
       "    x.observe(notebookContainer, {childList: true});\n",
       "}}\n",
       "\n",
       "// Listen for the clearing of the current output cell\n",
       "var outputEl = gd.closest('.output');\n",
       "if (outputEl) {{\n",
       "    x.observe(outputEl, {childList: true});\n",
       "}}\n",
       "\n",
       "                        })                };                });            </script>        </div>"
      ]
     },
     "metadata": {},
     "output_type": "display_data"
    }
   ],
   "source": [
    "conv_points = []\n",
    "kappas = np.linspace(0.01,2,200)\n",
    "Ci = 3\n",
    "theta = 1.7\n",
    "for kappa in kappas:\n",
    "    Cs = Ci/kappa\n",
    "    Cz = Cs*theta\n",
    "    conv_points.append(get_convergence_point(\n",
    "        10000, 1, 0.3, mu, gamma, beta, phi, Cs, Ci, Cz, t_max))\n",
    "    \n",
    "fig = go.Figure()\n",
    "fig.add_trace(\n",
    "    go.Scatter(x=kappas, y=conv_points,\n",
    "               mode='markers',))\n",
    "fig.update_layout(width=500, height=500)\n",
    "\n",
    "fig.show()"
   ]
  },
  {
   "cell_type": "markdown",
   "id": "57529518-841b-41c9-a1fd-a399c0a4fa7a",
   "metadata": {},
   "source": [
    "We make a 3D surface plot to inspect the effect of both $\\kappa$ and $\\theta$."
   ]
  },
  {
   "cell_type": "code",
   "execution_count": 42,
   "id": "13ed8933-b95b-42a6-bba5-1c7ee5f58c03",
   "metadata": {},
   "outputs": [
    {
     "name": "stderr",
     "output_type": "stream",
     "text": [
      "100%|█████████████████████████████████████████████████████████████████████████████| 2500/2500 [00:06<00:00, 377.14it/s]\n"
     ]
    }
   ],
   "source": [
    "kappas = np.linspace(0.02,1,50)\n",
    "thetas = np.linspace(0.04,2,50)\n",
    "\n",
    "init_prop_inf =  0.09\n",
    "Ci = 3\n",
    "t_max = 5000000\n",
    "\n",
    "# As DataFrame\n",
    "eqpointsdf = pd.DataFrame({})   \n",
    "combinations = []      \n",
    "for kappa in kappas:\n",
    "    for theta in thetas:        \n",
    "        combinations.append((round(kappa,2),round(theta,2)))\n",
    "\n",
    "for comb in tqdm(combinations):\n",
    "\n",
    "    kappa = comb[0]\n",
    "    theta = comb[1]\n",
    "    \n",
    "    Cs = Ci/kappa\n",
    "    Cz = Cs*theta\n",
    "\n",
    "    conv_point = get_convergence_point(\n",
    "        10000, 1, init_prop_inf, mu, gamma, beta, phi, Cs, Ci, Cz, t_max)\n",
    "    \n",
    "    try:\n",
    "        # max_root = max(roots)\n",
    "        eqpointsdf= eqpointsdf.append(pd.DataFrame({\n",
    "            'kappa':[kappa],\n",
    "            'theta':[theta],\n",
    "            'conv_point':[conv_point]\n",
    "        }),ignore_index=True)\n",
    "        \n",
    "    except:\n",
    "        pass"
   ]
  },
  {
   "cell_type": "markdown",
   "id": "6ab58752-201d-4e2e-948c-dafd2f185352",
   "metadata": {},
   "source": [
    "Data Frame with equilibrium point obtained for each $(\\kappa,\\theta)$ conmbination, with $x_0$ and $R_0(C^i)$ fixed."
   ]
  },
  {
   "cell_type": "code",
   "execution_count": 43,
   "id": "e1f1a323-ff83-486c-a416-d08cc7a9a844",
   "metadata": {},
   "outputs": [
    {
     "data": {
      "text/html": [
       "<div>\n",
       "<style scoped>\n",
       "    .dataframe tbody tr th:only-of-type {\n",
       "        vertical-align: middle;\n",
       "    }\n",
       "\n",
       "    .dataframe tbody tr th {\n",
       "        vertical-align: top;\n",
       "    }\n",
       "\n",
       "    .dataframe thead th {\n",
       "        text-align: right;\n",
       "    }\n",
       "</style>\n",
       "<table border=\"1\" class=\"dataframe\">\n",
       "  <thead>\n",
       "    <tr style=\"text-align: right;\">\n",
       "      <th></th>\n",
       "      <th>kappa</th>\n",
       "      <th>theta</th>\n",
       "      <th>conv_point</th>\n",
       "    </tr>\n",
       "  </thead>\n",
       "  <tbody>\n",
       "    <tr>\n",
       "      <th>0</th>\n",
       "      <td>0.02</td>\n",
       "      <td>0.04</td>\n",
       "      <td>0.427376</td>\n",
       "    </tr>\n",
       "    <tr>\n",
       "      <th>1</th>\n",
       "      <td>0.02</td>\n",
       "      <td>0.08</td>\n",
       "      <td>0.424502</td>\n",
       "    </tr>\n",
       "  </tbody>\n",
       "</table>\n",
       "</div>"
      ],
      "text/plain": [
       "   kappa  theta  conv_point\n",
       "0   0.02   0.04    0.427376\n",
       "1   0.02   0.08    0.424502"
      ]
     },
     "execution_count": 43,
     "metadata": {},
     "output_type": "execute_result"
    }
   ],
   "source": [
    "#min_conv_point = min(eqpointsdf['conv_point'])\n",
    "#eqpointsdf[eqpointsdf['conv_point'] == min_conv_point]\n",
    "eqpointsdf.head(2)"
   ]
  },
  {
   "cell_type": "markdown",
   "id": "a311fcd9-257c-4414-a482-e58802c06b61",
   "metadata": {},
   "source": [
    "Convergence of classical model:"
   ]
  },
  {
   "cell_type": "code",
   "execution_count": 44,
   "id": "8177a4b9-3add-4a62-8e9d-160a45a29d3c",
   "metadata": {},
   "outputs": [
    {
     "data": {
      "text/html": [
       "<div>\n",
       "<style scoped>\n",
       "    .dataframe tbody tr th:only-of-type {\n",
       "        vertical-align: middle;\n",
       "    }\n",
       "\n",
       "    .dataframe tbody tr th {\n",
       "        vertical-align: top;\n",
       "    }\n",
       "\n",
       "    .dataframe thead th {\n",
       "        text-align: right;\n",
       "    }\n",
       "</style>\n",
       "<table border=\"1\" class=\"dataframe\">\n",
       "  <thead>\n",
       "    <tr style=\"text-align: right;\">\n",
       "      <th></th>\n",
       "      <th>kappa</th>\n",
       "      <th>theta</th>\n",
       "      <th>conv_point</th>\n",
       "    </tr>\n",
       "  </thead>\n",
       "  <tbody>\n",
       "    <tr>\n",
       "      <th>2474</th>\n",
       "      <td>1.0</td>\n",
       "      <td>1.0</td>\n",
       "      <td>0.301368</td>\n",
       "    </tr>\n",
       "  </tbody>\n",
       "</table>\n",
       "</div>"
      ],
      "text/plain": [
       "      kappa  theta  conv_point\n",
       "2474    1.0    1.0    0.301368"
      ]
     },
     "execution_count": 44,
     "metadata": {},
     "output_type": "execute_result"
    }
   ],
   "source": [
    "eqpointsdf[(eqpointsdf['kappa']==1) & (eqpointsdf['theta']==1)]"
   ]
  },
  {
   "cell_type": "code",
   "execution_count": 45,
   "id": "06a387b9-ed8e-4745-9e26-ddf4c33af507",
   "metadata": {},
   "outputs": [
    {
     "data": {
      "text/html": [
       "<div>\n",
       "<style scoped>\n",
       "    .dataframe tbody tr th:only-of-type {\n",
       "        vertical-align: middle;\n",
       "    }\n",
       "\n",
       "    .dataframe tbody tr th {\n",
       "        vertical-align: top;\n",
       "    }\n",
       "\n",
       "    .dataframe thead th {\n",
       "        text-align: right;\n",
       "    }\n",
       "</style>\n",
       "<table border=\"1\" class=\"dataframe\">\n",
       "  <thead>\n",
       "    <tr style=\"text-align: right;\">\n",
       "      <th>theta</th>\n",
       "      <th>0.04</th>\n",
       "      <th>0.08</th>\n",
       "      <th>0.12</th>\n",
       "      <th>0.16</th>\n",
       "      <th>0.20</th>\n",
       "      <th>0.24</th>\n",
       "      <th>0.28</th>\n",
       "      <th>0.32</th>\n",
       "      <th>0.36</th>\n",
       "      <th>0.40</th>\n",
       "      <th>...</th>\n",
       "      <th>1.64</th>\n",
       "      <th>1.68</th>\n",
       "      <th>1.72</th>\n",
       "      <th>1.76</th>\n",
       "      <th>1.80</th>\n",
       "      <th>1.84</th>\n",
       "      <th>1.88</th>\n",
       "      <th>1.92</th>\n",
       "      <th>1.96</th>\n",
       "      <th>2.00</th>\n",
       "    </tr>\n",
       "  </thead>\n",
       "  <tbody>\n",
       "    <tr>\n",
       "      <th>0.02</th>\n",
       "      <td>0.427376</td>\n",
       "      <td>0.424502</td>\n",
       "      <td>0.421610</td>\n",
       "      <td>0.418700</td>\n",
       "      <td>0.415771</td>\n",
       "      <td>0.412823</td>\n",
       "      <td>0.409855</td>\n",
       "      <td>0.406867</td>\n",
       "      <td>0.403858</td>\n",
       "      <td>0.400828</td>\n",
       "      <td>...</td>\n",
       "      <td>0.290112</td>\n",
       "      <td>0.285628</td>\n",
       "      <td>0.281038</td>\n",
       "      <td>0.276336</td>\n",
       "      <td>0.271508</td>\n",
       "      <td>0.266543</td>\n",
       "      <td>0.261426</td>\n",
       "      <td>0.256139</td>\n",
       "      <td>0.250660</td>\n",
       "      <td>0.244963</td>\n",
       "    </tr>\n",
       "    <tr>\n",
       "      <th>0.04</th>\n",
       "      <td>0.426300</td>\n",
       "      <td>0.423426</td>\n",
       "      <td>0.420534</td>\n",
       "      <td>0.417624</td>\n",
       "      <td>0.414695</td>\n",
       "      <td>0.411747</td>\n",
       "      <td>0.408779</td>\n",
       "      <td>0.405791</td>\n",
       "      <td>0.402782</td>\n",
       "      <td>0.399751</td>\n",
       "      <td>...</td>\n",
       "      <td>0.288942</td>\n",
       "      <td>0.284447</td>\n",
       "      <td>0.279847</td>\n",
       "      <td>0.275131</td>\n",
       "      <td>0.270290</td>\n",
       "      <td>0.265310</td>\n",
       "      <td>0.260175</td>\n",
       "      <td>0.254868</td>\n",
       "      <td>0.249365</td>\n",
       "      <td>0.243640</td>\n",
       "    </tr>\n",
       "    <tr>\n",
       "      <th>0.06</th>\n",
       "      <td>0.425226</td>\n",
       "      <td>0.422352</td>\n",
       "      <td>0.419461</td>\n",
       "      <td>0.416551</td>\n",
       "      <td>0.413622</td>\n",
       "      <td>0.410674</td>\n",
       "      <td>0.407706</td>\n",
       "      <td>0.404717</td>\n",
       "      <td>0.401708</td>\n",
       "      <td>0.398677</td>\n",
       "      <td>...</td>\n",
       "      <td>0.287773</td>\n",
       "      <td>0.283268</td>\n",
       "      <td>0.278656</td>\n",
       "      <td>0.273929</td>\n",
       "      <td>0.269073</td>\n",
       "      <td>0.264077</td>\n",
       "      <td>0.258924</td>\n",
       "      <td>0.253596</td>\n",
       "      <td>0.248070</td>\n",
       "      <td>0.242317</td>\n",
       "    </tr>\n",
       "    <tr>\n",
       "      <th>0.08</th>\n",
       "      <td>0.424155</td>\n",
       "      <td>0.421282</td>\n",
       "      <td>0.418390</td>\n",
       "      <td>0.415480</td>\n",
       "      <td>0.412551</td>\n",
       "      <td>0.409603</td>\n",
       "      <td>0.406635</td>\n",
       "      <td>0.403646</td>\n",
       "      <td>0.400637</td>\n",
       "      <td>0.397606</td>\n",
       "      <td>...</td>\n",
       "      <td>0.286605</td>\n",
       "      <td>0.282090</td>\n",
       "      <td>0.277468</td>\n",
       "      <td>0.272727</td>\n",
       "      <td>0.267858</td>\n",
       "      <td>0.262845</td>\n",
       "      <td>0.257674</td>\n",
       "      <td>0.252325</td>\n",
       "      <td>0.246774</td>\n",
       "      <td>0.240993</td>\n",
       "    </tr>\n",
       "    <tr>\n",
       "      <th>0.10</th>\n",
       "      <td>0.423087</td>\n",
       "      <td>0.420213</td>\n",
       "      <td>0.417322</td>\n",
       "      <td>0.414412</td>\n",
       "      <td>0.411483</td>\n",
       "      <td>0.408535</td>\n",
       "      <td>0.405567</td>\n",
       "      <td>0.402578</td>\n",
       "      <td>0.399568</td>\n",
       "      <td>0.396537</td>\n",
       "      <td>...</td>\n",
       "      <td>0.285440</td>\n",
       "      <td>0.280914</td>\n",
       "      <td>0.276280</td>\n",
       "      <td>0.271527</td>\n",
       "      <td>0.266643</td>\n",
       "      <td>0.261615</td>\n",
       "      <td>0.256425</td>\n",
       "      <td>0.251054</td>\n",
       "      <td>0.245479</td>\n",
       "      <td>0.239668</td>\n",
       "    </tr>\n",
       "  </tbody>\n",
       "</table>\n",
       "<p>5 rows × 50 columns</p>\n",
       "</div>"
      ],
      "text/plain": [
       "theta      0.04      0.08      0.12      0.16      0.20      0.24      0.28  \\\n",
       "0.02   0.427376  0.424502  0.421610  0.418700  0.415771  0.412823  0.409855   \n",
       "0.04   0.426300  0.423426  0.420534  0.417624  0.414695  0.411747  0.408779   \n",
       "0.06   0.425226  0.422352  0.419461  0.416551  0.413622  0.410674  0.407706   \n",
       "0.08   0.424155  0.421282  0.418390  0.415480  0.412551  0.409603  0.406635   \n",
       "0.10   0.423087  0.420213  0.417322  0.414412  0.411483  0.408535  0.405567   \n",
       "\n",
       "theta      0.32      0.36      0.40  ...      1.64      1.68      1.72  \\\n",
       "0.02   0.406867  0.403858  0.400828  ...  0.290112  0.285628  0.281038   \n",
       "0.04   0.405791  0.402782  0.399751  ...  0.288942  0.284447  0.279847   \n",
       "0.06   0.404717  0.401708  0.398677  ...  0.287773  0.283268  0.278656   \n",
       "0.08   0.403646  0.400637  0.397606  ...  0.286605  0.282090  0.277468   \n",
       "0.10   0.402578  0.399568  0.396537  ...  0.285440  0.280914  0.276280   \n",
       "\n",
       "theta      1.76      1.80      1.84      1.88      1.92      1.96      2.00  \n",
       "0.02   0.276336  0.271508  0.266543  0.261426  0.256139  0.250660  0.244963  \n",
       "0.04   0.275131  0.270290  0.265310  0.260175  0.254868  0.249365  0.243640  \n",
       "0.06   0.273929  0.269073  0.264077  0.258924  0.253596  0.248070  0.242317  \n",
       "0.08   0.272727  0.267858  0.262845  0.257674  0.252325  0.246774  0.240993  \n",
       "0.10   0.271527  0.266643  0.261615  0.256425  0.251054  0.245479  0.239668  \n",
       "\n",
       "[5 rows x 50 columns]"
      ]
     },
     "execution_count": 45,
     "metadata": {},
     "output_type": "execute_result"
    }
   ],
   "source": [
    "eqpointsdf_vals = eqpointsdf.pivot(index='kappa', columns='theta', values='conv_point').reset_index()##.set_index('column_name')\n",
    "eqpointsdf_vals.index = eqpointsdf_vals['kappa'].tolist()\n",
    "eqpointsdf_vals = eqpointsdf_vals.drop(['kappa'], axis=1)\n",
    "eqpointsdf_vals.head(5)"
   ]
  },
  {
   "cell_type": "code",
   "execution_count": 46,
   "id": "164bae38-6402-435b-8b0c-a79b212b6292",
   "metadata": {},
   "outputs": [
    {
     "data": {
      "text/plain": [
       "<AxesSubplot:xlabel='theta'>"
      ]
     },
     "execution_count": 46,
     "metadata": {},
     "output_type": "execute_result"
    },
    {
     "data": {
      "image/png": "[encoded data removed]",
      "text/plain": [
       "<Figure size 720x432 with 2 Axes>"
      ]
     },
     "metadata": {
      "needs_background": "light"
     },
     "output_type": "display_data"
    }
   ],
   "source": [
    "sns.heatmap(eqpointsdf_vals, annot=False)"
   ]
  },
  {
   "cell_type": "code",
   "execution_count": 35,
   "id": "3b348ad1-41d7-43ee-b6d8-839996aa10f1",
   "metadata": {},
   "outputs": [
    {
     "data": {
      "text/plain": [
       "array([[0.42737637, 0.42630013, 0.42522649, ..., 0.37947208, 0.37850965,\n",
       "        0.37754947],\n",
       "       [0.42450198, 0.42342593, 0.42235247, ..., 0.37660275, 0.37564035,\n",
       "        0.3746802 ],\n",
       "       [0.42160991, 0.42053401, 0.41946068, ..., 0.37371324, 0.37275081,\n",
       "        0.37179062],\n",
       "       ...,\n",
       "       [0.25613937, 0.25486755, 0.25359612, ..., 0.19590802, 0.19458697,\n",
       "        0.19326238],\n",
       "       [0.25066049, 0.2493651 , 0.2480697 , ..., 0.00135735, 0.00135358,\n",
       "        0.00134983],\n",
       "       [0.24496308, 0.24364015, 0.2423167 , ..., 0.00123829, 0.00123518,\n",
       "        0.00123209]])"
      ]
     },
     "execution_count": 35,
     "metadata": {},
     "output_type": "execute_result"
    }
   ],
   "source": [
    "z_data = eqpointsdf_vals.values.T\n",
    "z_data"
   ]
  },
  {
   "cell_type": "markdown",
   "id": "a0e300c5-d397-4a1f-a011-94ca6d709b9a",
   "metadata": {},
   "source": [
    "### Surface plot\n",
    "Varying $\\kappa$ and $\\theta$, fixing $R_0$ ($C^i$).\n",
    "For each combination we obtain the equilibrium point attained."
   ]
  },
  {
   "cell_type": "code",
   "execution_count": 36,
   "id": "44fc5a37-ad3f-4573-b5c2-521177b94d76",
   "metadata": {},
   "outputs": [
    {
     "data": {
      "application/vnd.plotly.v1+json": {
       "config": {
        "plotlyServerURL": "https://plot.ly"
       },
       "data": [
        {
         "type": "surface",
         "x": [
          0.02,
          0.04,
          0.06,
          0.08,
          0.1,
          0.12000000000000001,
          0.13999999999999999,
          0.16,
          0.18,
          0.19999999999999998,
          0.22,
          0.24,
          0.26,
          0.28,
          0.30000000000000004,
          0.32,
          0.34,
          0.36000000000000004,
          0.38,
          0.4,
          0.42000000000000004,
          0.44,
          0.46,
          0.48000000000000004,
          0.5,
          0.52,
          0.54,
          0.56,
          0.5800000000000001,
          0.6,
          0.62,
          0.64,
          0.66,
          0.68,
          0.7000000000000001,
          0.7200000000000001,
          0.74,
          0.76,
          0.78,
          0.8,
          0.8200000000000001,
          0.8400000000000001,
          0.86,
          0.88,
          0.9,
          0.92,
          0.9400000000000001,
          0.9600000000000001,
          0.98,
          1
         ],
         "y": [
          0.04,
          0.08,
          0.12,
          0.16,
          0.2,
          0.24000000000000002,
          0.27999999999999997,
          0.32,
          0.36,
          0.39999999999999997,
          0.44,
          0.48,
          0.52,
          0.56,
          0.6000000000000001,
          0.64,
          0.68,
          0.7200000000000001,
          0.76,
          0.8,
          0.8400000000000001,
          0.88,
          0.92,
          0.9600000000000001,
          1,
          1.04,
          1.08,
          1.12,
          1.1600000000000001,
          1.2,
          1.24,
          1.28,
          1.32,
          1.36,
          1.4000000000000001,
          1.4400000000000002,
          1.48,
          1.52,
          1.56,
          1.6,
          1.6400000000000001,
          1.6800000000000002,
          1.72,
          1.76,
          1.8,
          1.84,
          1.8800000000000001,
          1.9200000000000002,
          1.96,
          2
         ],
         "z": [
          [
           0.427376373515222,
           0.4263001343590397,
           0.42522648550527403,
           0.4241554191017061,
           0.4230869273322136,
           0.42202100241658175,
           0.42095763661030705,
           0.4198968222044039,
           0.41883855152521327,
           0.4177828169342157,
           0.4167296108278426,
           0.41567892563728337,
           0.4146307538283054,
           0.41358508790106424,
           0.412541920389927,
           0.41150124386327636,
           0.41046305092334134,
           0.40942733420601407,
           0.4083940863806634,
           0.40736330014996697,
           0.4063349682497245,
           0.405309083448691,
           0.40428563854839056,
           0.403264626382956,
           0.40224603981894436,
           0.40122987175517066,
           0.4002161151225377,
           0.3992047628838637,
           0.39819580803371724,
           0.3971892435982453,
           0.39618506263501246,
           0.3951832582328272,
           0.3941838235115864,
           0.3931867516221094,
           0.3921920357459705,
           0.3911996690953425,
           0.39020964491283666,
           0.3892219564713381,
           0.3882365970738508,
           0.38725356005334727,
           0.38627283877259283,
           0.3852944266240112,
           0.384318317029515,
           0.3833445034403596,
           0.38237297933698733,
           0.38140373822887447,
           0.3804367736543816,
           0.3794720791806084,
           0.3785096484032342,
           0.3775494749463745
          ],
          [
           0.424501979825061,
           0.4234259328086786,
           0.42235247217205385,
           0.4212815900800247,
           0.4202132787335366,
           0.41914753036945024,
           0.4180843372603441,
           0.4170236917143262,
           0.41596558607484296,
           0.4149100127204885,
           0.4138569640648182,
           0.4128064325561606,
           0.41175841067743374,
           0.4107128909459543,
           0.4096698659132614,
           0.40862932816493136,
           0.40759127032039794,
           0.40655568503276773,
           0.4055225649886467,
           0.40449190290796,
           0.40346369154377665,
           0.4024379236821313,
           0.40141459214185155,
           0.4003936897743856,
           0.39937520946362765,
           0.3983591441257507,
           0.39734548670903186,
           0.39633423019368363,
           0.3953253675916884,
           0.3943188919466315,
           0.3933147963335342,
           0.3923130738586859,
           0.3913137176594853,
           0.3903167209042755,
           0.38932207679217856,
           0.38832977855294154,
           0.3873398194467675,
           0.3863521927641681,
           0.38536689182579253,
           0.38438390998228134,
           0.3834032406141046,
           0.38242487713140944,
           0.3814488129738604,
           0.38047504161049167,
           0.37950355653955703,
           0.37853435128836743,
           0.37756741941315347,
           0.3766027544989081,
           0.3756403501592346,
           0.3746802000362104
          ],
          [
           0.42160991165638334,
           0.42053400658360535,
           0.41946068382700513,
           0.41838993556827964,
           0.4173217540252421,
           0.41625613145163726,
           0.4151930601369344,
           0.4141325324061445,
           0.41307454061963256,
           0.41201907717292235,
           0.4109661344965124,
           0.40991570505568853,
           0.4088677813503381,
           0.4078223559147695,
           0.40677942131752387,
           0.40573897016119914,
           0.404700995082261,
           0.4036654887508747,
           0.40263244387071595,
           0.40160185317880287,
           0.4005737094453119,
           0.39954800547340824,
           0.39852473409907013,
           0.3975038881909154,
           0.396485460650034,
           0.39546944440980586,
           0.39445583243574905,
           0.3934446177253321,
           0.39243579330782274,
           0.39142935224411174,
           0.39042528762654993,
           0.38942359257878595,
           0.38842426025559673,
           0.38742728384273384,
           0.3864326565567563,
           0.38544037164486966,
           0.38445042238477206,
           0.3834628020844842,
           0.3824775040822104,
           0.38149452174616055,
           0.38051384847441255,
           0.37953547769474977,
           0.37855940286450257,
           0.377585617470404,
           0.3766141150284384,
           0.37564488908367744,
           0.37467793321014914,
           0.373713241010672,
           0.3727508061167176,
           0.3717906221882552
          ],
          [
           0.4186996911497143,
           0.4176238753391327,
           0.41655063762740335,
           0.41547997021282856,
           0.4144118653298405,
           0.41334631524880977,
           0.41228331227585197,
           0.41122284875263404,
           0.4101649170561941,
           0.4091095095987432,
           0.4080566188274821,
           0.40700623722441776,
           0.4059583573061771,
           0.4049129716238196,
           0.4038700727626633,
           0.40282965334209286,
           0.401791706015391,
           0.4007562234695534,
           0.39972319842510656,
           0.3986926236359423,
           0.3976644918891325,
           0.396638796004762,
           0.39561552883574713,
           0.3945946832676724,
           0.3935762522186131,
           0.39256022863896656,
           0.39154660551128584,
           0.3905353758501073,
           0.38952653270178644,
           0.38852006914433307,
           0.3875159782872453,
           0.3865142532713409,
           0.38551488726860655,
           0.384517873482021,
           0.3835232051454054,
           0.38253087552325765,
           0.38154087791059993,
           0.38055320563281153,
           0.37956785204547716,
           0.37858481053423354,
           0.37760407451460853,
           0.3766256374318737,
           0.37564949276087994,
           0.37467563400592163,
           0.37370405470056933,
           0.37273474840752946,
           0.37176770871849346,
           0.3708029292539819,
           0.36984040366320653,
           0.36888012562392025
          ],
          [
           0.41577081893744733,
           0.4146950370576421,
           0.41362182889154353,
           0.412551186653742,
           0.411483102594963,
           0.41041756900189114,
           0.40935457819697074,
           0.40829412253821334,
           0.4072361944190169,
           0.40618078626797155,
           0.40512789054867676,
           0.40407749975955326,
           0.403029606433663,
           0.40198420313852046,
           0.4009412824759196,
           0.3999008370817431,
           0.39886285962579016,
           0.3978273428115984,
           0.3967942793762601,
           0.39576366209025543,
           0.39473548375726675,
           0.39370973721401836,
           0.39268641533008997,
           0.39166551100775393,
           0.39064701718180467,
           0.389630926819382,
           0.38861723291981026,
           0.3876059285144278,
           0.38659700666642316,
           0.38559046047066314,
           0.38458628305353626,
           0.38358446757278764,
           0.38258500721735306,
           0.3815878952072004,
           0.3805931247931692,
           0.3796006892568155,
           0.37861058191024377,
           0.3776227960959585,
           0.37663732518670545,
           0.3756541625853132,
           0.37467330172454283,
           0.37369473606693343,
           0.37271845910464785,
           0.37174446435932157,
           0.37077274538191307,
           0.3698032957525549,
           0.36883610908040043,
           0.3678711790034815,
           0.3669084991885577,
           0.36594806333097096
          ],
          [
           0.41282277276816387,
           0.41174696665889576,
           0.41067372969490207,
           0.40960305410665415,
           0.40853493216078585,
           0.4074693561598977,
           0.4064063184423675,
           0.40534581138216375,
           0.40428782738865615,
           0.4032323589064289,
           0.40217939841509265,
           0.4011289384291011,
           0.40008097149757116,
           0.3990354902040953,
           0.3979924871665639,
           0.39695195503698616,
           0.39591388650130666,
           0.39487827427923455,
           0.3938451111240628,
           0.3928143898224902,
           0.39178610319445284,
           0.3907602440929496,
           0.3897368054038711,
           0.3887157800458227,
           0.3876971609699593,
           0.3866809411598201,
           0.3856671136311529,
           0.38465567143175217,
           0.3836466076412951,
           0.38263991537117165,
           0.381635587764328,
           0.3806336179950934,
           0.3796339992690321,
           0.3786367248227705,
           0.3776417879238449,
           0.3766491818705441,
           0.37565889999174373,
           0.3746709356467561,
           0.37368528222517683,
           0.37270193314671923,
           0.3717208818610747,
           0.3707421218477483,
           0.36976564661591327,
           0.36879144970425926,
           0.3678195246808389,
           0.3668498651429233,
           0.36588246471685015,
           0.3649173170578798,
           0.36395441585004296,
           0.3629937548060049
          ],
          [
           0.4098550060158295,
           0.4087791144937583,
           0.4077057873482104,
           0.40663501682505454,
           0.4055667952063428,
           0.4045011148101124,
           0.4034379679901962,
           0.4023773471360382,
           0.40131924467250313,
           0.40026365305968886,
           0.399210564792744,
           0.39815997240168755,
           0.3971118684512147,
           0.39606624554052844,
           0.39502309630315086,
           0.39398241340674783,
           0.3929441895529492,
           0.3919084174771732,
           0.3908750899484483,
           0.3898441997692434,
           0.3888157397752911,
           0.38778970283541186,
           0.38676608185135125,
           0.38574486975760197,
           0.38472605952123834,
           0.38370964414174824,
           0.38269561665086343,
           0.3816839701123994,
           0.3806746976220824,
           0.379667792307394,
           0.3786632473274004,
           0.37766105587259446,
           0.3766612111647412,
           0.37566370645670005,
           0.3746685350322885,
           0.3736756902061067,
           0.3726851653233883,
           0.37169695375984674,
           0.37071104892151036,
           0.36972744424458204,
           0.3687461331952766,
           0.36776710926966777,
           0.3667903659935458,
           0.36581589692225946,
           0.3648436956405694,
           0.36387375576250064,
           0.3629060709311933,
           0.36194063481875616,
           0.360977441126122,
           0.36001648358290383
          ],
          [
           0.40686694606189117,
           0.4057909047091562,
           0.4047174227451021,
           0.40364649243041556,
           0.40257810606197664,
           0.40151225597267354,
           0.40044893453121144,
           0.3993881341419241,
           0.3983298472445905,
           0.3972740663142451,
           0.39622078386099513,
           0.3951699924298384,
           0.3941216846004808,
           0.3930758529871569,
           0.3920324902384478,
           0.39099158903710424,
           0.3899531420998704,
           0.38891714217730305,
           0.38788358205360524,
           0.3868524545464461,
           0.3858237525067881,
           0.38479746881871546,
           0.3837735963992694,
           0.38275212819826926,
           0.38173305719815365,
           0.3807163764138063,
           0.37970207889239227,
           0.3786901577131935,
           0.3776806059874422,
           0.3766734168581627,
           0.3756685835000021,
           0.37466609911907595,
           0.37366595695280447,
           0.3726681502697569,
           0.37167267236948714,
           0.3706795165823817,
           0.36968867626950497,
           0.3687001448224411,
           0.36771391566313755,
           0.36672998224375775,
           0.36574833804652646,
           0.3647689765835736,
           0.36379189139679524,
           0.3628170760576916,
           0.3618445241672248,
           0.3608742293556746,
           0.3599061852824828,
           0.35894038563611463,
           0.3579768241339141,
           0.3570154945219518
          ],
          [
           0.4038579925367661,
           0.4027817334705606,
           0.4017080285653969,
           0.4006368700960681,
           0.39956825037358,
           0.3985021617449674,
           0.397438596593103,
           0.3963775473365083,
           0.39531900642917256,
           0.39426296636036406,
           0.39320941965444806,
           0.3921583588707068,
           0.3911097766031509,
           0.39006366548035204,
           0.3890200181652508,
           0.3879788273549875,
           0.3869400857807243,
           0.3859037862074683,
           0.384869921433899,
           0.38383848429219286,
           0.38280946764785406,
           0.38178286439954406,
           0.3807586674789076,
           0.37973686985041066,
           0.3787174645111664,
           0.37770044449077317,
           0.3766858028511462,
           0.37567353268635645,
           0.3746636271224625,
           0.37365607931735545,
           0.3726508824605916,
           0.3716480297732314,
           0.37064751450768707,
           0.3696493299475581,
           0.36865346940747573,
           0.3676599262329508,
           0.36666869380021155,
           0.3656797655160525,
           0.3646931348176845,
           0.36370879517257715,
           0.3627267400783095,
           0.361746963062422,
           0.36076945768226254,
           0.3597942175248424,
           0.3588212362066828,
           0.3578505073736739,
           0.3568820247009292,
           0.3559157818926344,
           0.35495177268190586,
           0.3539899908306563
          ],
          [
           0.4008275154054933,
           0.39975096702654517,
           0.398676967318301,
           0.3976055085688217,
           0.39653658310239437,
           0.39547018327936,
           0.3944063014959122,
           0.39334493018392236,
           0.39228606181074566,
           0.391229688879041,
           0.3901758039265912,
           0.3891243995261172,
           0.3880754682850981,
           0.38702900284559594,
           0.38598499588407315,
           0.3849434401112168,
           0.38390432827176785,
           0.3828676531443411,
           0.3818334075412538,
           0.38080158430835453,
           0.37977217632485083,
           0.378745176503138,
           0.37772057778863516,
           0.37669837315961174,
           0.3756785556270239,
           0.374661118234351,
           0.37364605405742535,
           0.37263335620427057,
           0.3716230178149487,
           0.3706150320613793,
           0.3696093921471999,
           0.36860609130759375,
           0.3676051228091336,
           0.36660647994962686,
           0.3656101560579605,
           0.3646161444939403,
           0.36362443864814453,
           0.3626350319417587,
           0.36164791782643824,
           0.3606630897841439,
           0.35968054132699706,
           0.35870026599713295,
           0.3577222573665469,
           0.35674650903694816,
           0.3557730146396154,
           0.35480176783524925,
           0.353832762313826,
           0.3528659917944529,
           0.3519014500252365,
           0.3509391307831181
          ],
          [
           0.3977748528803701,
           0.39669793959790656,
           0.39562356920776875,
           0.3945517340102803,
           0.3934824263420092,
           0.3924156385755978,
           0.39135136311956187,
           0.39028959241811223,
           0.38923031895096877,
           0.3881735352331771,
           0.3871192338149253,
           0.38606740728136885,
           0.3850180482524465,
           0.3839711493827023,
           0.3829267033611101,
           0.38188470291089716,
           0.3808451407893736,
           0.3798080097877493,
           0.37877330273096876,
           0.37774101247754244,
           0.37671113191936945,
           0.3756836539815686,
           0.37465857162231986,
           0.3736358778326879,
           0.37261556563646026,
           0.3715976280899815,
           0.3705820582819911,
           0.3695688493334623,
           0.36855799439743436,
           0.36754948665885934,
           0.36654331933443846,
           0.3655394856724654,
           0.36453797895266893,
           0.36353879248605625,
           0.3625419196147568,
           0.3615473537118689,
           0.36055508818130755,
           0.3595651164576493,
           0.3585774320059819,
           0.3575920283217594,
           0.3566088989306393,
           0.35562803738835075,
           0.35464943728053183,
           0.3536730922225936,
           0.3526989958595717,
           0.3517271418659751,
           0.3507575239456535,
           0.34979013583164353,
           0.3488249712860343,
           0.3478620240998245
          ],
          [
           0.39469930914103185,
           0.3936219510715426,
           0.3925471297998506,
           0.39147483763735275,
           0.39040506693172067,
           0.38933781006670404,
           0.38827305946194984,
           0.38721080757281645,
           0.3861510468901949,
           0.3850937699403169,
           0.38403896928458514,
           0.3829866375193845,
           0.3819367672759116,
           0.38088935121999246,
           0.37984438205190607,
           0.37880185250621423,
           0.3777617553515835,
           0.37672408339061425,
           0.37568882945967047,
           0.3746559864287038,
           0.3736255472010971,
           0.37259750471347813,
           0.37157185193557013,
           0.37054858187001544,
           0.36952768755221294,
           0.3685091620501601,
           0.36749299846427974,
           0.36647918992726475,
           0.36546772960392143,
           0.36445861069100527,
           0.3634518264170599,
           0.3624473700422646,
           0.3614452348582761,
           0.3604454141880767,
           0.3594479013858133,
           0.3584526898366485,
           0.35745977295660786,
           0.35646914419243086,
           0.3554807970214117,
           0.3544947249512645,
           0.3535109215199591,
           0.3525293802955867,
           0.3515500948762024,
           0.35057305888969187,
           0.3495982659936147,
           0.34862570987506775,
           0.34765538425053993,
           0.34668728286577244,
           0.3457213994956128,
           0.3447577279438822
          ],
          [
           0.39160015183986446,
           0.3905222644765442,
           0.38944690746912175,
           0.38837407313867495,
           0.3873037538425676,
           0.3862359419742577,
           0.38517062996311335,
           0.3841078102742311,
           0.3830474754082536,
           0.38198961790118585,
           0.38093423032421725,
           0.37988130528354613,
           0.3788308354201932,
           0.3777828134098391,
           0.37673723196263387,
           0.37569408382303504,
           0.3746533617696302,
           0.3736150586149667,
           0.37257916720537887,
           0.37154568042082176,
           0.370514591174699,
           0.36948589241370117,
           0.36845957711763944,
           0.36743563829927156,
           0.3664140690041512,
           0.3653948623104584,
           0.3643780113288357,
           0.36336350920223537,
           0.36235134910575184,
           0.36134152424647,
           0.3603340278633025,
           0.3593288532268376,
           0.35832599363918216,
           0.35732544243380787,
           0.3563271929753966,
           0.35533123865969113,
           0.3543375729133387,
           0.35334618919374977,
           0.3523570809889391,
           0.3513702418173848,
           0.3503856652278736,
           0.3494033447993656,
           0.34842327414083546,
           0.3474454468911392,
           0.3464698567188675,
           0.3454964973221961,
           0.3445253624287564,
           0.34355644579548383,
           0.342589741208487,
           0.34162524248290177
          ],
          [
           0.3884766093674864,
           0.3873981032168465,
           0.386322120598094,
           0.385248653840344,
           0.384177695308999,
           0.38310923740556707,
           0.38204327256747816,
           0.38097979326789744,
           0.3799187920155494,
           0.378860261354535,
           0.37780419386414954,
           0.37675058215871365,
           0.37569941888738806,
           0.37465069673400603,
           0.3736044084168901,
           0.3725605466886893,
           0.37151910433620267,
           0.37048007418020434,
           0.369443449075284,
           0.3684092219096706,
           0.3673773856050709,
           0.36634793311649516,
           0.36532085743210657,
           0.3642961515730395,
           0.36327380859325326,
           0.3622538215793595,
           0.36123618365046983,
           0.3602208879580274,
           0.35920792768565746,
           0.3581972960490072,
           0.3571889862955848,
           0.35618299170461076,
           0.3551793055868596,
           0.35417792128451503,
           0.3531788321709995,
           0.35218203165084677,
           0.35118751315953217,
           0.35019527016333557,
           0.34920529615918716,
           0.3482175846745257,
           0.34723212926714375,
           0.34624892352505565,
           0.34526796106633934,
           0.34428923553900015,
           0.3433127406208321,
           0.3423384700192705,
           0.3413664174712504,
           0.3403965767430772,
           0.33942894163027293,
           0.33846350595745417
          ],
          [
           0.3853278678495234,
           0.3842486480311153,
           0.3831719444997502,
           0.3820977495906335,
           0.38102605567527337,
           0.3799568551612763,
           0.37889014049216874,
           0.3778259041472276,
           0.3767641386412841,
           0.37570483652455366,
           0.37464799038245916,
           0.3735935928354431,
           0.372541636538811,
           0.37149211418253747,
           0.37044501849110756,
           0.36940034222333795,
           0.36835807817221017,
           0.3673182191646961,
           0.36628075806159516,
           0.36524568775736327,
           0.36421300117995004,
           0.3631826912906303,
           0.36215475108384404,
           0.36112917358702895,
           0.36010595186046845,
           0.35908507899711706,
           0.3580665481224549,
           0.35705035239432004,
           0.3560364850027547,
           0.35502493916985184,
           0.35401570814959726,
           0.35300878522771106,
           0.3520041637215041,
           0.35100183697972215,
           0.3500017983823934,
           0.3490040413406757,
           0.3480085592967164,
           0.3470153457234989,
           0.3460243941246967,
           0.34503569803452566,
           0.3440492510176033,
           0.34306504666880216,
           0.3420830786131054,
           0.34110334050547136,
           0.3401258260306834,
           0.33915052890321634,
           0.338177442867099,
           0.3372065616957669,
           0.33623787919193376,
           0.3352713891874533
          ],
          [
           0.3821530678416744,
           0.381073033646295,
           0.3799955080290096,
           0.3789204833288542,
           0.37784795192114745,
           0.3767779062173001,
           0.3757103386646426,
           0.37464524174623887,
           0.37358260798071263,
           0.3725224299220589,
           0.3714647001594789,
           0.37040941131719823,
           0.3693565560542927,
           0.3683061270645159,
           0.3672581170761288,
           0.3662125188517267,
           0.36516932518807255,
           0.3641285289159238,
           0.36309012289986936,
           0.36205410003816363,
           0.36102045326255877,
           0.35998917553814147,
           0.35896025986317376,
           0.35793369926892576,
           0.3569094868195236,
           0.3558876156117784,
           0.3548680787750393,
           0.3538508694710323,
           0.3528359808936983,
           0.35182340626905256,
           0.35081313885501275,
           0.3498051719412617,
           0.34879949884908396,
           0.347796112931228,
           0.34679500757174037,
           0.3457961761858336,
           0.3447996122197244,
           0.3438053091504976,
           0.3428132604859529,
           0.34182345976446565,
           0.3408359005548438,
           0.3398505764561782,
           0.3388674810977075,
           0.33788660813867766,
           0.33690795126819845,
           0.33593150420510637,
           0.33495726069782694,
           0.3339852145242396,
           0.33301535949153893,
           0.3320476894361009
          ],
          [
           0.3789513006852094,
           0.3778703450862228,
           0.3767918898438653,
           0.3757159272983287,
           0.3746424498260601,
           0.373571449839586,
           0.37250291978732664,
           0.37143685215341904,
           0.37037323945753753,
           0.36931207425471624,
           0.3682533491351739,
           0.36719705672413916,
           0.36614318968168036,
           0.3650917407025237,
           0.3640427025158964,
           0.3629960678853444,
           0.3619518296085733,
           0.36090998051727036,
           0.35987051347695215,
           0.35883342138678437,
           0.35779869717943535,
           0.35676633382089296,
           0.3557363243103219,
           0.3547086616798921,
           0.35368333899462195,
           0.352660349352221,
           0.3516396858829347,
           0.3506213417493847,
           0.3496053101464129,
           0.3485915843009364,
           0.3475801574717853,
           0.34657102294955433,
           0.3455641740564513,
           0.3445596041461539,
           0.34355730660365214,
           0.34255727484510556,
           0.34155950231769644,
           0.3405639824994855,
           0.3395707088992646,
           0.33857967505641656,
           0.33759087454076925,
           0.3366043009524614,
           0.3356199479217919,
           0.3346378091090889,
           0.3336578782045686,
           0.33268014892819675,
           0.33170461502955206,
           0.3307312702876964,
           0.329760108511031,
           0.32879112353717016
          ],
          [
           0.3757216044792464,
           0.3746396135908753,
           0.37356011427082997,
           0.37248309885732833,
           0.371408559724804,
           0.37033648928372864,
           0.3692668799804318,
           0.36819972429692155,
           0.36713501475071136,
           0.36607274389463534,
           0.36501290431668215,
           0.3639554886398136,
           0.36290048952180204,
           0.3618478996550466,
           0.3607977117664151,
           0.35974991861706523,
           0.35870451300228595,
           0.357661487751325,
           0.3566208357272248,
           0.3555825498266616,
           0.3545466229797807,
           0.35351304815003115,
           0.3524818183340104,
           0.3514529265613037,
           0.3504263658943227,
           0.3494021294281557,
           0.3483802102904021,
           0.34736060164102367,
           0.3463432966721889,
           0.3453282886081218,
           0.3443155707049499,
           0.3433051362505506,
           0.34229697856440444,
           0.34129109099745103,
           0.3402874669319307,
           0.3392860997812505,
           0.3382869829898279,
           0.3372901100329576,
           0.336295474416658,
           0.3353030696775396,
           0.3343128893826493,
           0.3333249271293505,
           0.33233917654516226,
           0.3313556312876421,
           0.3303742850442277,
           0.3293951315321202,
           0.32841816449813643,
           0.3274433777185822,
           0.3264707649991121,
           0.32550032017460223
          ],
          [
           0.3724629596194342,
           0.3713798120948347,
           0.3702991467223602,
           0.3692209558345773,
           0.3681452318002071,
           0.3670719670239527,
           0.36600115394631555,
           0.3649327850434131,
           0.3638668528268079,
           0.3628033498433327,
           0.36174226867491077,
           0.3606836019383893,
           0.35962734228536397,
           0.3585734824020085,
           0.357522015008909,
           0.356472932860893,
           0.3554262287468632,
           0.35438189548962784,
           0.35333992594575064,
           0.35230031300536746,
           0.35126304959204224,
           0.35022812866259284,
           0.3491955432069445,
           0.3481652862479572,
           0.34713735084127706,
           0.34611173007518,
           0.3450884170704161,
           0.3440674049800528,
           0.34304868698932156,
           0.34203225631547496,
           0.34101810620762396,
           0.34000622994659846,
           0.3389966208447899,
           0.33798927224601477,
           0.33698417752535736,
           0.3359813300890316,
           0.3349807233742351,
           0.33398235084900596,
           0.3329862060120773,
           0.3319922823927449,
           0.3310005735507178,
           0.3300110730759874,
           0.32902377458868204,
           0.32803867173893364,
           0.3270557582067445,
           0.3260750277018481,
           0.3250964739635787,
           0.3241200907607344,
           0.3231458718914473,
           0.3221738111830553
          ],
          [
           0.3691742838445717,
           0.36808985020540297,
           0.36700788860543443,
           0.36592839136727245,
           0.36485135084959414,
           0.36377675944695886,
           0.3627046095896402,
           0.36163489374344415,
           0.3605676044095297,
           0.35950273412423905,
           0.358440275458922,
           0.3573802210197649,
           0.35632256344761304,
           0.35526729541781904,
           0.3542144096400474,
           0.35316389885813065,
           0.3521157558498948,
           0.35106997342699053,
           0.35002654443473274,
           0.3489854617519434,
           0.3479467182907819,
           0.3469103069965907,
           0.34587622084773245,
           0.3448444528554345,
           0.34381499606363364,
           0.34278784354881836,
           0.34176298841987535,
           0.34074042381793623,
           0.33972014291622704,
           0.33870213891991396,
           0.337686405065956,
           0.33667293462295816,
           0.335661720891019,
           0.33465275720158844,
           0.3336460369173192,
           0.33264155343192664,
           0.33163930017003995,
           0.3306392705870636,
           0.3296414581690394,
           0.32864585643249683,
           0.3276524589243234,
           0.32666125922162326,
           0.32567225093157615,
           0.32468542769131153,
           0.32370078316776313,
           0.32271831105754006,
           0.3217380050867949,
           0.3207598590110877,
           0.3197838666152609,
           0.31881002171330386
          ],
          [
           0.36585442672322205,
           0.36476856861097073,
           0.36368517165052355,
           0.3626042281494648,
           0.36152573045132336,
           0.3604496709353832,
           0.35937604201652323,
           0.3583048361450181,
           0.3572360458063809,
           0.3561696635211796,
           0.3551056818448679,
           0.3540440933676071,
           0.3529848907141041,
           0.3519280665434375,
           0.3508736135488857,
           0.3498215244577708,
           0.3487717920312823,
           0.347724409064316,
           0.34667936838531543,
           0.34563666285610184,
           0.34459628537172304,
           0.34355822886027926,
           0.34252248628278487,
           0.34148905063299045,
           0.34045791493724525,
           0.33942907225432206,
           0.33840251567528634,
           0.3373782383233243,
           0.33635623335360143,
           0.33533649395310894,
           0.3343190133405165,
           0.33330378476602135,
           0.33229080151120494,
           0.33128005688887996,
           0.33027154424295907,
           0.32926525694829123,
           0.32826118841054086,
           0.32725933206602775,
           0.3262596813816,
           0.32526222985448516,
           0.3242669710121573,
           0.32327389841219784,
           0.32228300564215956,
           0.3212942863194326,
           0.32030773409110597,
           0.31932334263383966,
           0.3183411056537288,
           0.3173610168861755,
           0.31638307009575334,
           0.31540725907608697
          ],
          [
           0.3625021635009442,
           0.3614147328386504,
           0.36032975157822417,
           0.35924721200627024,
           0.35816710644517336,
           0.35708942725289783,
           0.35601416682282727,
           0.35494131758357716,
           0.35387087199882383,
           0.3528028225671268,
           0.35173716182175896,
           0.35067388233052793,
           0.34961297669562025,
           0.3485544375534105,
           0.3474982575743152,
           0.34644442946261167,
           0.3453929459562723,
           0.3443437998268113,
           0.34329698387910945,
           0.3422524909512591,
           0.34121031391440027,
           0.34017044567256444,
           0.33913287916251195,
           0.3380976073535758,
           0.3370646232475078,
           0.3360339198783216,
           0.3350054903121414,
           0.3339793276470438,
           0.3329554250129151,
           0.3319337755712907,
           0.33091437251521677,
           0.3298972090690903,
           0.32888227848852414,
           0.32786957406019174,
           0.3268590891016897,
           0.32585081696138546,
           0.32484475101828425,
           0.32384088468188177,
           0.3228392113920243,
           0.3218397246187722,
           0.3208424178622591,
           0.3198472846525546,
           0.31885431854953017,
           0.3178635131427205,
           0.31687486205119536,
           0.31588835892342015,
           0.31490399743712694,
           0.3139217712991854,
           0.312941674245469,
           0.311963700040729
          ],
          [
           0.35911618821515157,
           0.3580270262661772,
           0.35694030100654084,
           0.3558560046948679,
           0.3547741296253234,
           0.35369466812743483,
           0.3526176125659077,
           0.3515429553404483,
           0.3504706888855973,
           0.3494008056705372,
           0.34833329819893616,
           0.34726815900876246,
           0.3462053806721253,
           0.3451449557950898,
           0.34408687701752144,
           0.34303113701291543,
           0.34197772848822516,
           0.3409266441837013,
           0.3398778768727302,
           0.33883141936166744,
           0.3377872644896764,
           0.3367454051285723,
           0.3357058341826569,
           0.3346685445885667,
           0.3336335293151099,
           0.3326007813631206,
           0.33157029376529124,
           0.3305420595860334,
           0.3295160719213114,
           0.3284923238985075,
           0.3274708086762577,
           0.3264515194443082,
           0.3254344494233742,
           0.3244195918649805,
           0.32340694005133036,
           0.3223964872951496,
           0.32138822693955016,
           0.32038215235788486,
           0.3193782569536086,
           0.31837653416013867,
           0.31737697744071036,
           0.3163795802882493,
           0.3153843362252241,
           0.3143912388035196,
           0.3134002816042954,
           0.3124114582378554,
           0.3114247623435167,
           0.31044018758947356,
           0.30945772767267304,
           0.3084773763186796
          ],
          [
           0.3556951059681994,
           0.3546040422762288,
           0.35351540148449706,
           0.35242917581538424,
           0.35134535752650886,
           0.35026393891054175,
           0.3491849122950289,
           0.34810827004220984,
           0.34703400454884464,
           0.34596210824603213,
           0.3448925735990376,
           0.3438253931071185,
           0.34276055930335386,
           0.34169806475446957,
           0.3406379020606689,
           0.3395800638554674,
           0.3385245428055201,
           0.3374713316104563,
           0.3364204230027183,
           0.33537180974739317,
           0.3343254846420525,
           0.33328144051658604,
           0.33223967023304574,
           0.3312001666854894,
           0.33016292279981174,
           0.32912793153359965,
           0.3280951858759664,
           0.3270646788474047,
           0.326036403499626,
           0.3250103529154151,
           0.32398652020847074,
           0.32296489852326754,
           0.3219454810348911,
           0.3209282609489033,
           0.31991323150118606,
           0.31890038595780523,
           0.3178897176148547,
           0.3168812197983213,
           0.3158748858639386,
           0.3148707091970457,
           0.313868683212448,
           0.31286880135427353,
           0.3118710570958409,
           0.3108754439395193,
           0.30988195541658614,
           0.30889058508710443,
           0.3079013265397798,
           0.3069141733918227,
           0.3059291192888309,
           0.30494615790464297
          ],
          [
           0.35223742422942306,
           0.35114427542100307,
           0.35005353451689436,
           0.34896519369347295,
           0.34787924516195357,
           0.34679568116820664,
           0.34571449399257403,
           0.3446356759496933,
           0.34355921938830747,
           0.3424851166910983,
           0.3414133602745001,
           0.34034394258852624,
           0.3392768561165936,
           0.33821209337534924,
           0.3371496469145001,
           0.3360895093166355,
           0.3350316731970642,
           0.33397613120363917,
           0.3329228760165961,
           0.3318719003483767,
           0.33082319694347395,
           0.3297767585782636,
           0.3287325780608408,
           0.327690648230853,
           0.32665096195935167,
           0.3256135121486177,
           0.3245782917320128,
           0.3235452936738207,
           0.32251451096908496,
           0.3214859366434579,
           0.3204595637530519,
           0.3194353853842744,
           0.31841339465368007,
           0.3173935847078282,
           0.316375948723122,
           0.31536047990566085,
           0.31434717149110036,
           0.3133360167444989,
           0.31232700896017374,
           0.3113201414615557,
           0.3103154076010424,
           0.30931280075986584,
           0.30831231434793643,
           0.3073139418037169,
           0.3063176765940734,
           0.3053235122141346,
           0.30433144218716707,
           0.30334146006442386,
           0.302353559425015,
           0.30136773387577803
          ],
          [
           0.34874154301272586,
           0.3476461114400602,
           0.3465530714195924,
           0.34546241507013953,
           0.34437413454484367,
           0.34328822203098314,
           0.3422046697497877,
           0.3411234699562569,
           0.3400446149389685,
           0.3389680970199029,
           0.3378939085542623,
           0.3368220419302809,
           0.3357524895690596,
           0.3346852439243763,
           0.33362029748251454,
           0.3325576427620892,
           0.33149727231386716,
           0.33043917872060236,
           0.329383354596852,
           0.32832979258881856,
           0.3272784853741689,
           0.32622942566187263,
           0.32518260619203104,
           0.3241380197357111,
           0.3230956590947817,
           0.32205551710174785,
           0.3210175866195867,
           0.31998186054158584,
           0.31894833179118315,
           0.31791699332180545,
           0.3168878381167106,
           0.31586085918882756,
           0.3148360495806019,
           0.3138134023638395,
           0.31279291063954645,
           0.31177456753778143,
           0.3107583662175015,
           0.30974429986640556,
           0.3087323617007926,
           0.3077225449653977,
           0.3067148429332601,
           0.30570924890555734,
           0.3047057562114745,
           0.30370435820804526,
           0.3027050482800145,
           0.3017078198396897,
           0.3007126663268021,
           0.2997195812083591,
           0.29872855797850356,
           0.29773959015837875
          ],
          [
           0.3452057437468626,
           0.34410781594417056,
           0.34301226181353195,
           0.34191907340249084,
           0.34082824279225327,
           0.3397397620974988,
           0.33865362346618183,
           0.3375698190793482,
           0.33648834115093934,
           0.33540918192761127,
           0.3343323336885389,
           0.33325778874523476,
           0.3321855394413628,
           0.33111557815255493,
           0.33004789728622846,
           0.32898248928140217,
           0.3279193466085192,
           0.3268584617692635,
           0.32579982729638207,
           0.32474343575351344,
           0.3236892797349992,
           0.3226373518657225,
           0.3215876448009209,
           0.32054015122602175,
           0.3194948638564662,
           0.318451775437537,
           0.3174108787441911,
           0.316372166580887,
           0.3153356317814182,
           0.31430126720874213,
           0.31326906575482355,
           0.3122390203404532,
           0.3112111239150979,
           0.31018536945672776,
           0.30916174997165624,
           0.3081402584943788,
           0.3071208880874097,
           0.30610363184112555,
           0.30508848287359835,
           0.30407543433045053,
           0.30306447938468123,
           0.3020556112365208,
           0.30104882311327325,
           0.3000441082691562,
           0.29904145998515713,
           0.29804087156886394,
           0.2970423363543269,
           0.29604584770190295,
           0.29505139899809835,
           0.29405898365543104
          ],
          [
           0.34162817661928924,
           0.340527521540669,
           0.33942922052746255,
           0.3383332655396197,
           0.3372396485699105,
           0.33614836164371725,
           0.3350593968188325,
           0.33397274618526723,
           0.33288840186504914,
           0.33180635601202424,
           0.3307266008116634,
           0.3296491284808667,
           0.32857393126776996,
           0.32750100145154937,
           0.3264303313422367,
           0.3253619132805138,
           0.32429573963754094,
           0.3232318028147528,
           0.3221700952436816,
           0.3211106093857581,
           0.32005333773213634,
           0.318998272803499,
           0.31794540714988423,
           0.31689473335048907,
           0.31584624401349354,
           0.3147999317758775,
           0.31375578930324394,
           0.3127138092896319,
           0.31167398445733424,
           0.3106363075567346,
           0.30960077136611197,
           0.30856736869147194,
           0.3075360923663725,
           0.30650693525174294,
           0.30547989023571026,
           0.3044549502334318,
           0.3034321081869114,
           0.3024113570648336,
           0.3013926898623914,
           0.30037609960111056,
           0.29936157932868845,
           0.2983491221188131,
           0.29733872107100523,
           0.2963303693104345,
           0.2953240599877703,
           0.29431978627899963,
           0.293317541385272,
           0.2923173185327239,
           0.29131911097231555,
           0.2903229119796762
          ],
          [
           0.33800684612975374,
           0.3369032131297435,
           0.3358019126319083,
           0.33470293648912924,
           0.3336062765860192,
           0.3325119248387058,
           0.3314198731946216,
           0.33033011363229725,
           0.3292426381611402,
           0.3281574388212404,
           0.3270745076831503,
           0.3259938368476863,
           0.32491541844571004,
           0.32383924463793773,
           0.3227653076147239,
           0.3216935995958633,
           0.32062411283038383,
           0.3195568395963422,
           0.3184917722006324,
           0.3174289029787686,
           0.3163682242946979,
           0.31530972854059347,
           0.3142534081366594,
           0.313199255530929,
           0.31214726319906366,
           0.31109742364416504,
           0.3100497293965737,
           0.30900417301367006,
           0.3079607470796787,
           0.306919444205486,
           0.3058802570284238,
           0.30484317821209644,
           0.30380820044617357,
           0.30277531644620576,
           0.3017445189534295,
           0.30071580073457116,
           0.2996891545816651,
           0.29866457331185225,
           0.2976420497671994,
           0.29662157681449774,
           0.2956031473450875,
           0.2945867542746556,
           0.29357239054305606,
           0.2925600491141158,
           0.29154972297544923,
           0.29054140513826904,
           0.2895350886372007,
           0.2885307665300919,
           0.28752843189782923,
           0.2865280778441525
          ],
          [
           0.3343395945341017,
           0.33323271104377045,
           0.33212813626787313,
           0.33102586192888656,
           0.32992587977963483,
           0.32882818160305605,
           0.327732759211967,
           0.3266396044488538,
           0.32554870918562656,
           0.32446006532340305,
           0.3233736647922789,
           0.32228949955110886,
           0.32120756158727537,
           0.32012784291646373,
           0.3190503355824476,
           0.31797503165685764,
           0.31690192323896216,
           0.31583100245544266,
           0.31476226146017844,
           0.3136956924340148,
           0.3126312875845538,
           0.3115690391459239,
           0.3105089393785694,
           0.3094509805690215,
           0.30839515502968107,
           0.30734145509860333,
           0.30628987313927963,
           0.30524040154040966,
           0.3041930327156913,
           0.3031477591036008,
           0.30210457316717315,
           0.30106346739378276,
           0.3000244342949329,
           0.29898746640602253,
           0.29795255628614986,
           0.2969196965178757,
           0.2958888797070183,
           0.2948600984824274,
           0.2938333454957728,
           0.2928086134213245,
           0.29178589495573676,
           0.290765182817825,
           0.28974646974835305,
           0.2887297485098158,
           0.2877150118862189,
           0.28670225268285654,
           0.2856914637261041,
           0.28468263786318787,
           0.28367576796197325,
           0.2826708469107391
          ],
          [
           0.33062408278916283,
           0.3295136516300171,
           0.3284055028597405,
           0.3272996280423533,
           0.3261960187704569,
           0.3250946666649647,
           0.32399556337487057,
           0.3228987005769793,
           0.3218040699756686,
           0.3207116633026366,
           0.31962147231665056,
           0.3185334888032945,
           0.3174477045747275,
           0.31636411146942384,
           0.3152827013519365,
           0.3142034661126315,
           0.313126397667453,
           0.31205148795766335,
           0.31097872894960604,
           0.30990811263444107,
           0.3088396310279073,
           0.3077732761700653,
           0.30670904012505434,
           0.30564691498083557,
           0.3045868928489437,
           0.3035289658642426,
           0.3024731261846679,
           0.3014193659909732,
           0.30036767748648574,
           0.29931805289685637,
           0.2982704844697961,
           0.29722496447483465,
           0.2961814852030593,
           0.29514003896686974,
           0.29410061809971394,
           0.2930632149558426,
           0.29202782191004656,
           0.29099443135740827,
           0.2899630357130348,
           0.2889336274118094,
           0.2879061989081313,
           0.2868807426756543,
           0.28585725120702904,
           0.284835717013638,
           0.28381613262534094,
           0.2827984905902064,
           0.2817827834742519,
           0.2807690038611719,
           0.2797571443520831,
           0.27874719756524985
          ],
          [
           0.3268577685218195,
           0.32574346478644783,
           0.324631414208371,
           0.32352160815928965,
           0.32241403803721935,
           0.32130869526619826,
           0.32020557129601224,
           0.3191046576019155,
           0.3180059456843431,
           0.3169094270686233,
           0.3158150933047042,
           0.31472293596686174,
           0.3136329466534177,
           0.31254511698645665,
           0.3114594386115366,
           0.3103759031974011,
           0.3092945024357019,
           0.3082152280406992,
           0.30713807174898206,
           0.3060630253191783,
           0.30499008053165594,
           0.3039192291882447,
           0.30285046311193514,
           0.301783774146593,
           0.30071915415665895,
           0.29965659502686,
           0.2985960886619069,
           0.297537626986204,
           0.29648120194354843,
           0.29542680549682715,
           0.29437442962772165,
           0.293324066336408,
           0.2922757076412408,
           0.29122934557846253,
           0.29018497220189027,
           0.2891425795826064,
           0.28810215980865744,
           0.2870637049847263,
           0.2860272072318393,
           0.2849926586870337,
           0.2839600515030545,
           0.2829293778480249,
           0.28190062990513287,
           0.2808737998723015,
           0.2798488799618732,
           0.27882586240027224,
           0.2778047394276834,
           0.27678550329771395,
           0.2757681462770638,
           0.2747526606451839
          ],
          [
           0.32303788043385623,
           0.32191934784522414,
           0.3208030358414331,
           0.3196889355607813,
           0.3185770381649905,
           0.3174673348388692,
           0.3163598167900053,
           0.3152544752484198,
           0.3141513014662536,
           0.3130502867174298,
           0.3119514222973282,
           0.31085469952245315,
           0.30976010973009355,
           0.30866764427799864,
           0.3075772945440321,
           0.30648905192584414,
           0.30540290784052243,
           0.3043188537242598,
           0.30323688103200214,
           0.30215698123711365,
           0.30107914583102385,
           0.3000033663228822,
           0.2989296342392015,
           0.2978579411235155,
           0.29678827853601775,
           0.29572063805320326,
           0.29465501126751076,
           0.293591389786965,
           0.29252976523480545,
           0.291470129249123,
           0.29041247348249033,
           0.28935678960158934,
           0.28830306928683597,
           0.28725130423200096,
           0.2862014861438308,
           0.2851536067416605,
           0.28410765775702945,
           0.28306363093328807,
           0.2820215180252057,
           0.2809813107985691,
           0.27994300102978625,
           0.2789065805054763,
           0.2778720410220643,
           0.2768393743853668,
           0.2758085724101744,
           0.2747796269198298,
           0.2737525297458067,
           0.27272727272727215,
           0.2717038477106612,
           0.2706822465492302
          ],
          [
           0.31916138841171043,
           0.31803823505107887,
           0.3169172658454673,
           0.31579847164970465,
           0.3146818433383305,
           0.3135673718052197,
           0.31245504796318274,
           0.31134486274359535,
           0.3102368070959923,
           0.30913087198768685,
           0.3080270484033677,
           0.3069253273447006,
           0.30582569982994107,
           0.30472815689350774,
           0.3036326895856014,
           0.30253928897177695,
           0.30144794613253906,
           0.3003586521629204,
           0.29927139817207754,
           0.2981861752828502,
           0.29710297463134394,
           0.29602178736650353,
           0.29494260464967476,
           0.29386541765416785,
           0.2927902175648186,
           0.29171699557754216,
           0.2906457428988788,
           0.2895764507455518,
           0.2885091103439958,
           0.287443712929906,
           0.28638024974775833,
           0.2853187120503455,
           0.2842590910982987,
           0.2832013781596038,
           0.28214556450910666,
           0.28109164142803156,
           0.2800396002034744,
           0.27898943212789784,
           0.27794112849862246,
           0.276894680617309,
           0.2758500797894328,
           0.2748073173237587,
           0.2737663845317991,
           0.2727272727272726,
           0.2716899732255537,
           0.2706544773431148,
           0.26962077639695986,
           0.268588861704053,
           0.26755872458073443,
           0.2665303563421332
          ],
          [
           0.3152249684261041,
           0.3140967616910866,
           0.3129706982068639,
           0.3118467684834306,
           0.3107249630457236,
           0.30960527243317,
           0.3084876871992066,
           0.3073721979108165,
           0.3062587951480485,
           0.3051474695035382,
           0.3040382115820215,
           0.30293101199984745,
           0.30182586138448003,
           0.3007227503740056,
           0.2996216696166209,
           0.2985226097701298,
           0.29742556150142374,
           0.29633051548596656,
           0.2952374624072641,
           0.29414639295633543,
           0.2930572978311778,
           0.29197016773621465,
           0.29088499338175644,
           0.2898017654834356,
           0.2887204747616445,
           0.2876411119409735,
           0.2865636677496224,
           0.2854881329188234,
           0.28441449818224773,
           0.2833427542754042,
           0.28227289193503263,
           0.28120490189848857,
           0.2801387749031218,
           0.27907450168563575,
           0.278012072981453,
           0.276951479524064,
           0.2758927120443613,
           0.27483576126997655,
           0.27378061792459635,
           0.27272727272727254,
           0.271675716391724,
           0.2706259396256229,
           0.2695779331298708,
           0.2685316875978696,
           0.267487193714772,
           0.26644444215672286,
           0.26540342359009084,
           0.26436412867068537,
           0.26332654804295885,
           0.2622906723391947
          ],
          [
           0.311224961066966,
           0.31009122168397496,
           0.30895957943126245,
           0.30783002439832347,
           0.3067025466834467,
           0.3055771363931439,
           0.3044537836415646,
           0.30333247854990736,
           0.30221321124582773,
           0.30109597186283216,
           0.29998075053966466,
           0.298867537419699,
           0.29775632265030605,
           0.2966470963822224,
           0.2955398487689122,
           0.2944345699659122,
           0.29333125013018047,
           0.2922298794194206,
           0.29113044799142007,
           0.2900329460033467,
           0.28893736361107003,
           0.2878436909684443,
           0.2867519182266015,
           0.28566203553322095,
           0.28457403303179474,
           0.2834879008608784,
           0.2824036291533346,
           0.2813212080355599,
           0.2802406276267039,
           0.2791618780378714,
           0.27808494937131617,
           0.2770098317196187,
           0.2759365151648501,
           0.2748649897777233,
           0.27379524561673346,
           0.2727272727272724,
           0.27166106114074323,
           0.2705966008736437,
           0.26953388192664507,
           0.2684728942836505,
           0.2674136279108331,
           0.26635607275566164,
           0.2653002187459011,
           0.2642460557886085,
           0.2631935737690882,
           0.2621427625498487,
           0.26109361196952185,
           0.26004611184177506,
           0.2590002519541921,
           0.2579560220671357
          ],
          [
           0.307157322243937,
           0.30601751710991193,
           0.30487975687118146,
           0.3037440311028262,
           0.3026103293807494,
           0.30147864128094126,
           0.30034895637874093,
           0.299221264248087,
           0.29809555446074926,
           0.296971816585566,
           0.2958500401876493,
           0.29473021482759554,
           0.29361233006067666,
           0.29249637543601376,
           0.2913823404957514,
           0.2902702147742051,
           0.28915998779700286,
           0.2880516490802121,
           0.28694518812945286,
           0.2858405944389868,
           0.284737857490807,
           0.28363696675369804,
           0.2825379116822901,
           0.28144068171608727,
           0.2803452662784852,
           0.27925165477577063,
           0.27815983659610083,
           0.2770698011084627,
           0.27598153766161687,
           0.27489503558302164,
           0.2738102841777298,
           0.27272727272727276,
           0.27164599048852045,
           0.27056642669251607,
           0.2694885705432908,
           0.2684124112166524,
           0.26733793785895293,
           0.26626513958582937,
           0.2651940054809148,
           0.2641245245945283,
           0.26305668594233694,
           0.26199047850398405,
           0.26092589122169363,
           0.2598629129988393,
           0.2588015326984914,
           0.25774173914191945,
           0.25668352110706877,
           0.2556268673270065,
           0.25457176648832097,
           0.25351820722949336
          ],
          [
           0.30301756416400205,
           0.30187109772630755,
           0.3007266167388892,
           0.29958411014499964,
           0.2984435668783121,
           0.29730497586196836,
           0.2961683260076216,
           0.2950336062144481,
           0.29390080536816665,
           0.29276991234001437,
           0.29164091598572406,
           0.29051380514447284,
           0.28938856863781837,
           0.2882651952686095,
           0.28714367381987943,
           0.2860239930537252,
           0.2849061417101583,
           0.2837901085059296,
           0.2826758821333445,
           0.281563451259046,
           0.2804528045227764,
           0.2793439305361099,
           0.2782368178811753,
           0.27713145510932813,
           0.2760278307398211,
           0.2749259332584264,
           0.27382575111604374,
           0.2727272727272728,
           0.2716304864689535,
           0.2705353806786794,
           0.2694419436532758,
           0.2683501636472487,
           0.2672600288711916,
           0.2661715274901638,
           0.26508464762203293,
           0.26399937733576756,
           0.2629157046497107,
           0.26183361752979456,
           0.26075310388772427,
           0.2596741515791126,
           0.2585967484015803,
           0.2575208820927938,
           0.25644654032847275,
           0.2553737107203385,
           0.2543023808140153,
           0.25323253808687635,
           0.252164169945843,
           0.2510972637251174,
           0.2500318066838658,
           0.2489677860038399
          ],
          [
           0.2988006841351735,
           0.29764688792917493,
           0.2964950091711064,
           0.2953450360244211,
           0.2941969566293318,
           0.29305075910155476,
           0.2919064315310442,
           0.2907639619806947,
           0.2896233384850096,
           0.2884845490487561,
           0.28734758164558744,
           0.286212424216638,
           0.28507906466908656,
           0.2839474908746924,
           0.28281769066830786,
           0.2816896518463397,
           0.2805633621652013,
           0.27943880933971227,
           0.2783159810414783,
           0.27719486489722156,
           0.27607544848708115,
           0.2749577193428812,
           0.2738416649463423,
           0.27272727272727254,
           0.2716145300617026,
           0.2705034242699801,
           0.2693939426148237,
           0.2682860722993261,
           0.2671798004649104,
           0.2660751141892405,
           0.26497200048407343,
           0.2638704462930645,
           0.2627704384895157,
           0.26167196387406816,
           0.26057500917233645,
           0.25947956103248193,
           0.25838560602272037,
           0.25729313062877374,
           0.2562021212512454,
           0.25511256420293005,
           0.2540244457060554,
           0.25293775188944456,
           0.2518524687855981,
           0.2507685823277115,
           0.24968607834658932,
           0.24860494256749166,
           0.24752516060688604,
           0.24644671796909734,
           0.2453696000428799,
           0.244293792097881
          ],
          [
           0.29450107797971387,
           0.29333919782093637,
           0.2921791568787471,
           0.29102094234864,
           0.2898645413847973,
           0.28870994109841236,
           0.2875571285559678,
           0.2864060907774905,
           0.28525681473475056,
           0.28410928734943314,
           0.28296349549126887,
           0.2818194259760998,
           0.28067706556393535,
           0.2795364009569384,
           0.2783974187973637,
           0.2772601056654642,
           0.2761244480773299,
           0.2749904324826815,
           0.2738580452626134,
           0.27272727272727226,
           0.2715981011134858,
           0.2704705165823265,
           0.2693445052166169,
           0.26822005301837004,
           0.2670971459061631,
           0.26597576971244064,
           0.26485591018075705,
           0.26373755296292567,
           0.2626206836161177,
           0.2615052875998571,
           0.26039135027295707,
           0.2592788568903533,
           0.258167792599861,
           0.25705814243883873,
           0.2559498913307545,
           0.25484302408166015,
           0.2537375253765615,
           0.25263337977568495,
           0.25153057171063525,
           0.2504290854804365,
           0.2493289052474642,
           0.2482300150332472,
           0.24713239871415227,
           0.24603604001692597,
           0.24494092251411334,
           0.24384702961932403,
           0.2427543445823558,
           0.2416628504841705,
           0.24057253023169742,
           0.23948336655248353
          ],
          [
           0.2901124337850615,
           0.28894161394247714,
           0.28777254276157493,
           0.28660520622829083,
           0.28543959026313326,
           0.2842756807188736,
           0.2831134633782176,
           0.2819529239513811,
           0.2807940480736296,
           0.2796368213027496,
           0.2784812291164491,
           0.27732725690970494,
           0.2761748899920276,
           0.2750241135846672,
           0.27387491281773924,
           0.2727272727272731,
           0.27158117825218603,
           0.27043661423117576,
           0.2692935653995251,
           0.26815201638582203,
           0.2670119517085853,
           0.26587335577279947,
           0.2647362128663553,
           0.26360050715637906,
           0.2624662226854677,
           0.2613333433678093,
           0.2602018529851926,
           0.25907173518289633,
           0.25794297346546424,
           0.2568155511923471,
           0.2556894515734132,
           0.25456465766432756,
           0.25344115236178894,
           0.25231891839861526,
           0.25119793833867676,
           0.2500781945716804,
           0.248959669307772,
           0.2478423445719781,
           0.24672620219847066,
           0.24561122382462883,
           0.24449739088493133,
           0.24338468460462667,
           0.2422730859931994,
           0.24116257583761858,
           0.2400531346953573,
           0.23894474288717338,
           0.23783738048963432,
           0.23673102732739784,
           0.23562566296520568,
           0.23452126669960238
          ],
          [
           0.28562760024469797,
           0.2844468636810076,
           0.28326777024765626,
           0.2820903044073893,
           0.28091445052499187,
           0.27974019286410523,
           0.2785675155839617,
           0.277396402736017,
           0.27622683826050265,
           0.2750588059828775,
           0.27389228961017836,
           0.2727272727272733,
           0.271563738793,
           0.2704016711362038,
           0.2692410529516488,
           0.26808186729582106,
           0.2669240970825999,
           0.26576772507880214,
           0.26461273389959966,
           0.26345910600378725,
           0.2623068236889138,
           0.2611558690862626,
           0.26000622415567215,
           0.2588578706802029,
           0.25771079026062965,
           0.256564964309753,
           0.2554203740465453,
           0.2542770004900913,
           0.2531348244533343,
           0.2519938265366287,
           0.2508539871210568,
           0.24971528636154539,
           0.24857770417972738,
           0.24744122025657997,
           0.24630581402479726,
           0.24517146466090098,
           0.24403815107708116,
           0.24290585191274208,
           0.2417745455257525,
           0.24064420998337577,
           0.23951482305288269,
           0.2383863621918071,
           0.23725880453785425,
           0.23613212689843355,
           0.23500630573978723,
           0.23388131717572255,
           0.23275713695590275,
           0.23163374045369586,
           0.23051110265354205,
           0.22938919813783162
          ],
          [
           0.2810384217433374,
           0.27984664516274377,
           0.2786563878043264,
           0.2774676321954959,
           0.2762803607213281,
           0.27509455562007284,
           0.27391019897852814,
           0.27272727272727254,
           0.2715457586357593,
           0.27036563830725274,
           0.26918689317361794,
           0.2680095044899431,
           0.2668334533289912,
           0.2656587205754816,
           0.26448528692019024,
           0.26331313285385427,
           0.26214223866088165,
           0.260972584412864,
           0.259804149961856,
           0.25863691493345575,
           0.2574708587196247,
           0.2563059604712975,
           0.25514219909071056,
           0.2539795532234874,
           0.2528180012504293,
           0.25165752127904134,
           0.25049809113474064,
           0.24933968835175896,
           0.24818229016371857,
           0.24702587349386398,
           0.24587041494494152,
           0.2447158907886916,
           0.24356227695496832,
           0.24240954902043532,
           0.24125768219684082,
           0.2401066513188429,
           0.23895643083135742,
           0.2378069947764249,
           0.23665831677955226,
           0.23551037003551265,
           0.2343631272935816,
           0.23321656084216896,
           0.23207064249283021,
           0.23092534356361494,
           0.2297806348617219,
           0.22863648666542713,
           0.22749286870524302,
           0.22634975014427824,
           0.22520709955773446,
           0.2240648849115165
          ],
          [
           0.27633552930690336,
           0.2751314112456883,
           0.2739286657048052,
           0.27272727272727254,
           0.2715272121524173,
           0.27032846360942364,
           0.2691310065106861,
           0.2679348200449261,
           0.266739883170093,
           0.26554617460602364,
           0.26435367282685257,
           0.26316235605316707,
           0.2619722022438851,
           0.2607831890878625,
           0.2595952939952016,
           0.2584084940882474,
           0.257222766192273,
           0.25603808682582563,
           0.2548544321907277,
           0.25367177816169795,
           0.2524901002756131,
           0.2513093737203468,
           0.25012957332320873,
           0.24895067353893205,
           0.24777264843720628,
           0.24659547168973336,
           0.24541911655677068,
           0.2442435558731587,
           0.24306876203377736,
           0.2418947069784354,
           0.24072136217613951,
           0.2395486986087276,
           0.23837668675382423,
           0.23720529656708858,
           0.23603449746371788,
           0.23486425829916752,
           0.23369454734904194,
           0.2325253322881208,
           0.23135658016846838,
           0.23018825739657287,
           0.2290203297094793,
           0.22785276214983205,
           0.2266855190397999,
           0.2255185639537892,
           0.22435185968990062,
           0.2231853682400426,
           0.22201905075863043,
           0.22085286752978595,
           0.21968677793294286,
           0.218520740406784
          ],
          [
           0.2715080720635993,
           0.2702900915048798,
           0.2690733081476449,
           0.26785769880766624,
           0.2666432400108535,
           0.2654299079838462,
           0.26421767864425705,
           0.26300652759056886,
           0.26179643009166487,
           0.2605873610759712,
           0.2593792951201966,
           0.2581722064376586,
           0.25696606886616075,
           0.25576085585541314,
           0.25455654045397025,
           0.2533530952956558,
           0.2521504925854663,
           0.2509487040849116,
           0.24974770109677355,
           0.24854745444924733,
           0.24734793447944523,
           0.24614911101621856,
           0.2449509533622741,
           0.24375343027553195,
           0.242556509949709,
           0.2413601599940748,
           0.2401643474123168,
           0.23896903858051655,
           0.23777419922413381,
           0.23657979439398524,
           0.235385788441135,
           0.23419214499066388,
           0.23299882691422855,
           0.23180579630134612,
           0.23061301442935891,
           0.2294204417319671,
           0.22822803776626027,
           0.2270357611781651,
           0.22584356966621036,
           0.2246514199434992,
           0.22345926769780045,
           0.22226706754961073,
           0.22107477300810183,
           0.2198823364247796,
           0.21868970894473777,
           0.21749684045534082,
           0.2163036795321657,
           0.21511017338202468,
           0.2139162677828778,
           0.21272190702041913
          ],
          [
           0.26654336712092647,
           0.265309728963584,
           0.2640770762641095,
           0.26284538158813137,
           0.2616146170882472,
           0.26038475448998477,
           0.25915576507722937,
           0.25792761967705746,
           0.2567002886439757,
           0.2554737418435164,
           0.254247948635171,
           0.2530228778546228,
           0.25179849779523567,
           0.25057477618877827,
           0.249351680185321,
           0.24812917633228268,
           0.24690723055257008,
           0.24568580812176805,
           0.24446487364431577,
           0.24324439102864262,
           0.24202432346116634,
           0.2408046333791291,
           0.23958528244217536,
           0.23836623150261968,
           0.23714744057432732,
           0.23592886880010752,
           0.23471047441756704,
           0.23349221472329687,
           0.23227404603531845,
           0.2310559236536705,
           0.22983780181902963,
           0.22861963366924046,
           0.22740137119361897,
           0.2261829651849039,
           0.22496436518868967,
           0.22374551945018264,
           0.22252637485812124,
           0.22130687688563494,
           0.22008696952788942,
           0.21886659523624363,
           0.21764569484873164,
           0.21642420751657332,
           0.2152020706264586,
           0.21397921971829614,
           0.212755588398099,
           0.2115311082456506,
           0.21030570871657087,
           0.20907931703836094,
           0.20785185809994747,
           0.20662325433427323
          ],
          [
           0.2614264353570095,
           0.2601749972648294,
           0.2589242857917305,
           0.25767426781605496,
           0.25642490962334064,
           0.25517617688492505,
           0.2539280346356323,
           0.25268044725048433,
           0.2514333784203872,
           0.25018679112674275,
           0.24894064761491572,
           0.2476949093664984,
           0.2464495370703075,
           0.24520449059203775,
           0.24395972894249213,
           0.24271521024431664,
           0.24147089169713676,
           0.2402267295410214,
           0.2389826790181476,
           0.23773869433259065,
           0.236494728608088,
           0.2352507338436851,
           0.23400666086710684,
           0.23276245928572634,
           0.23151807743497202,
           0.23027346232400117,
           0.2290285595784716,
           0.2277833133802182,
           0.22653766640361836,
           0.22529155974843085,
           0.22404493286886032,
           0.22279772349859386,
           0.22154986757151768,
           0.2203012991378106,
           0.21905195027507374,
           0.21780175099415378,
           0.2165506291392369,
           0.21529851028181715,
           0.21404531760803105,
           0.21279097179890827,
           0.21153539090290896,
           0.21027849020020808,
           0.2090201820580054,
           0.20776037577617004,
           0.20649897742239604,
           0.20523588965598905,
           0.20397101153933306,
           0.20270423833592893,
           0.20143546129387227,
           0.20016456741342453
          ],
          [
           0.256139374116817,
           0.2548675463641539,
           0.25359612439097334,
           0.25232506732161847,
           0.25105433341879846,
           0.24978388005008942,
           0.24851366365286484,
           0.24724363969751356,
           0.24597376264889612,
           0.2447039859258719,
           0.24343426185884573,
           0.242164541645157,
           0.24089477530220538,
           0.2396249116181682,
           0.238354898100152,
           0.23708468091960308,
           0.23581420485483245,
           0.23454341323040498,
           0.23327224785326325,
           0.23200064894528924,
           0.23072855507211024,
           0.22945590306786418,
           0.22818262795566494,
           0.22690866286342642,
           0.22563393893475428,
           0.2243583852345153,
           0.22308192864869802,
           0.22180449377815548,
           0.22052600282574822,
           0.21924637547637882,
           0.21796552876938266,
           0.21668337696266127,
           0.21539983138788443,
           0.2141148002960662,
           0.21282818869268877,
           0.21153989816151392,
           0.21024982667613581,
           0.20895786839817765,
           0.20766391346101148,
           0.2063678477376631,
           0.2050695525915155,
           0.20376890460818783,
           0.20246577530686136,
           0.20116003082908476,
           0.199851531602863,
           0.19854013197962464,
           0.19722567984133052,
           0.19590801617466158,
           0.19458697460889646,
           0.19326238091358508
          ],
          [
           0.25066049079331737,
           0.24936509587199499,
           0.24806970253243868,
           0.24677425909102185,
           0.24547871258872137,
           0.2441830087370544,
           0.24288709186114343,
           0.24159090483973886,
           0.2402943890419854,
           0.23899748426072856,
           0.23770012864210513,
           0.23640225861119274,
           0.23510380879340756,
           0.23380471193138777,
           0.23250489879701214,
           0.23120429809821613,
           0.22990283638023024,
           0.22860043792080637,
           0.22729702461900148,
           0.22599251587701996,
           0.2246868284745763,
           0.22337987643519414,
           0.22207157088380217,
           0.2207618198949256,
           0.21945052833070458,
           0.21813759766789545,
           0.21682292581291968,
           0.21550640690395603,
           0.214187931098926,
           0.21286738434815908,
           0.21154464815032534,
           0.21021959929014528,
           0.208892109556177,
           0.20756204543678963,
           0.20622926779225476,
           0.2048936315006125,
           0.20355498507471356,
           0.20221317024752364,
           0.20086802152241992,
           0.19951936568481493,
           0.1981670212709655,
           0.19681079798930168,
           0.19545049608899964,
           0.19408590566980755,
           0.0013687978365099851,
           0.001364958055980095,
           0.001361141423514549,
           0.0013573477161353713,
           0.0013535767137098477,
           0.0013498281993312548
          ],
          [
           0.24496307547671853,
           0.24364014582377835,
           0.24231669867072525,
           0.24099266686563942,
           0.23966798132211406,
           0.23834257092862035,
           0.23701636245250643,
           0.2356892804382322,
           0.2343612470993937,
           0.23303218220410485,
           0.2317020029531931,
           0.23037062385067184,
           0.22903795656588483,
           0.22770390978664531,
           0.22636838906266463,
           0.2250312966384437,
           0.22369253127478358,
           0.22235198805793593,
           0.22100955819531964,
           0.21966512879667827,
           0.21831858263933965,
           0.21696979791617704,
           0.21561864796468713,
           0.21426500097542361,
           0.21290871967784228,
           0.21154966100137648,
           0.21018767570933647,
           0.20882260800290814,
           0.2074542950922314,
           0.2060825667311461,
           0.20470724471180715,
           0.20332814231482602,
           0.201945063710103,
           0.0012836374891585585,
           0.0012802806039037369,
           0.0012769424824444953,
           0.0012736229578739473,
           0.0012703218653656455,
           0.0012670390421398573,
           0.001263774327431094,
           0.0012605275624538788,
           0.0012572985903737185,
           0.0012540872562735725,
           0.0012508934071246884,
           0.0012477168917558806,
           0.0012445575608251726,
           0.0012414152667903926,
           0.0012382898638797013,
           0.0012351812080675477,
           0.0012320891570439703
          ]
         ]
        }
       ],
       "layout": {
        "autosize": false,
        "height": 500,
        "margin": {
         "b": 100,
         "l": 65,
         "r": 50,
         "t": 90
        },
        "scene": {
         "aspectmode": "auto",
         "aspectratio": {
          "x": 1,
          "y": 1,
          "z": 1
         },
         "camera": {
          "center": {
           "x": 0,
           "y": 0,
           "z": 0
          },
          "eye": {
           "x": 1.018471281750012,
           "y": 1.018471281750012,
           "z": 1.018471281750012
          },
          "projection": {
           "type": "perspective"
          },
          "up": {
           "x": 0,
           "y": 0,
           "z": 1
          }
         },
         "xaxis": {
          "nticks": 7,
          "range": [
           0,
           1
          ],
          "type": "linear"
         },
         "yaxis": {
          "nticks": 7,
          "range": [
           0,
           2
          ],
          "type": "linear"
         }
        },
        "template": {
         "data": {
          "bar": [
           {
            "error_x": {
             "color": "#2a3f5f"
            },
            "error_y": {
             "color": "#2a3f5f"
            },
            "marker": {
             "line": {
              "color": "#E5ECF6",
              "width": 0.5
             },
             "pattern": {
              "fillmode": "overlay",
              "size": 10,
              "solidity": 0.2
             }
            },
            "type": "bar"
           }
          ],
          "barpolar": [
           {
            "marker": {
             "line": {
              "color": "#E5ECF6",
              "width": 0.5
             },
             "pattern": {
              "fillmode": "overlay",
              "size": 10,
              "solidity": 0.2
             }
            },
            "type": "barpolar"
           }
          ],
          "carpet": [
           {
            "aaxis": {
             "endlinecolor": "#2a3f5f",
             "gridcolor": "white",
             "linecolor": "white",
             "minorgridcolor": "white",
             "startlinecolor": "#2a3f5f"
            },
            "baxis": {
             "endlinecolor": "#2a3f5f",
             "gridcolor": "white",
             "linecolor": "white",
             "minorgridcolor": "white",
             "startlinecolor": "#2a3f5f"
            },
            "type": "carpet"
           }
          ],
          "choropleth": [
           {
            "colorbar": {
             "outlinewidth": 0,
             "ticks": ""
            },
            "type": "choropleth"
           }
          ],
          "contour": [
           {
            "colorbar": {
             "outlinewidth": 0,
             "ticks": ""
            },
            "colorscale": [
             [
              0,
              "#0d0887"
             ],
             [
              0.1111111111111111,
              "#46039f"
             ],
             [
              0.2222222222222222,
              "#7201a8"
             ],
             [
              0.3333333333333333,
              "#9c179e"
             ],
             [
              0.4444444444444444,
              "#bd3786"
             ],
             [
              0.5555555555555556,
              "#d8576b"
             ],
             [
              0.6666666666666666,
              "#ed7953"
             ],
             [
              0.7777777777777778,
              "#fb9f3a"
             ],
             [
              0.8888888888888888,
              "#fdca26"
             ],
             [
              1,
              "#f0f921"
             ]
            ],
            "type": "contour"
           }
          ],
          "contourcarpet": [
           {
            "colorbar": {
             "outlinewidth": 0,
             "ticks": ""
            },
            "type": "contourcarpet"
           }
          ],
          "heatmap": [
           {
            "colorbar": {
             "outlinewidth": 0,
             "ticks": ""
            },
            "colorscale": [
             [
              0,
              "#0d0887"
             ],
             [
              0.1111111111111111,
              "#46039f"
             ],
             [
              0.2222222222222222,
              "#7201a8"
             ],
             [
              0.3333333333333333,
              "#9c179e"
             ],
             [
              0.4444444444444444,
              "#bd3786"
             ],
             [
              0.5555555555555556,
              "#d8576b"
             ],
             [
              0.6666666666666666,
              "#ed7953"
             ],
             [
              0.7777777777777778,
              "#fb9f3a"
             ],
             [
              0.8888888888888888,
              "#fdca26"
             ],
             [
              1,
              "#f0f921"
             ]
            ],
            "type": "heatmap"
           }
          ],
          "heatmapgl": [
           {
            "colorbar": {
             "outlinewidth": 0,
             "ticks": ""
            },
            "colorscale": [
             [
              0,
              "#0d0887"
             ],
             [
              0.1111111111111111,
              "#46039f"
             ],
             [
              0.2222222222222222,
              "#7201a8"
             ],
             [
              0.3333333333333333,
              "#9c179e"
             ],
             [
              0.4444444444444444,
              "#bd3786"
             ],
             [
              0.5555555555555556,
              "#d8576b"
             ],
             [
              0.6666666666666666,
              "#ed7953"
             ],
             [
              0.7777777777777778,
              "#fb9f3a"
             ],
             [
              0.8888888888888888,
              "#fdca26"
             ],
             [
              1,
              "#f0f921"
             ]
            ],
            "type": "heatmapgl"
           }
          ],
          "histogram": [
           {
            "marker": {
             "pattern": {
              "fillmode": "overlay",
              "size": 10,
              "solidity": 0.2
             }
            },
            "type": "histogram"
           }
          ],
          "histogram2d": [
           {
            "colorbar": {
             "outlinewidth": 0,
             "ticks": ""
            },
            "colorscale": [
             [
              0,
              "#0d0887"
             ],
             [
              0.1111111111111111,
              "#46039f"
             ],
             [
              0.2222222222222222,
              "#7201a8"
             ],
             [
              0.3333333333333333,
              "#9c179e"
             ],
             [
              0.4444444444444444,
              "#bd3786"
             ],
             [
              0.5555555555555556,
              "#d8576b"
             ],
             [
              0.6666666666666666,
              "#ed7953"
             ],
             [
              0.7777777777777778,
              "#fb9f3a"
             ],
             [
              0.8888888888888888,
              "#fdca26"
             ],
             [
              1,
              "#f0f921"
             ]
            ],
            "type": "histogram2d"
           }
          ],
          "histogram2dcontour": [
           {
            "colorbar": {
             "outlinewidth": 0,
             "ticks": ""
            },
            "colorscale": [
             [
              0,
              "#0d0887"
             ],
             [
              0.1111111111111111,
              "#46039f"
             ],
             [
              0.2222222222222222,
              "#7201a8"
             ],
             [
              0.3333333333333333,
              "#9c179e"
             ],
             [
              0.4444444444444444,
              "#bd3786"
             ],
             [
              0.5555555555555556,
              "#d8576b"
             ],
             [
              0.6666666666666666,
              "#ed7953"
             ],
             [
              0.7777777777777778,
              "#fb9f3a"
             ],
             [
              0.8888888888888888,
              "#fdca26"
             ],
             [
              1,
              "#f0f921"
             ]
            ],
            "type": "histogram2dcontour"
           }
          ],
          "mesh3d": [
           {
            "colorbar": {
             "outlinewidth": 0,
             "ticks": ""
            },
            "type": "mesh3d"
           }
          ],
          "parcoords": [
           {
            "line": {
             "colorbar": {
              "outlinewidth": 0,
              "ticks": ""
             }
            },
            "type": "parcoords"
           }
          ],
          "pie": [
           {
            "automargin": true,
            "type": "pie"
           }
          ],
          "scatter": [
           {
            "marker": {
             "colorbar": {
              "outlinewidth": 0,
              "ticks": ""
             }
            },
            "type": "scatter"
           }
          ],
          "scatter3d": [
           {
            "line": {
             "colorbar": {
              "outlinewidth": 0,
              "ticks": ""
             }
            },
            "marker": {
             "colorbar": {
              "outlinewidth": 0,
              "ticks": ""
             }
            },
            "type": "scatter3d"
           }
          ],
          "scattercarpet": [
           {
            "marker": {
             "colorbar": {
              "outlinewidth": 0,
              "ticks": ""
             }
            },
            "type": "scattercarpet"
           }
          ],
          "scattergeo": [
           {
            "marker": {
             "colorbar": {
              "outlinewidth": 0,
              "ticks": ""
             }
            },
            "type": "scattergeo"
           }
          ],
          "scattergl": [
           {
            "marker": {
             "colorbar": {
              "outlinewidth": 0,
              "ticks": ""
             }
            },
            "type": "scattergl"
           }
          ],
          "scattermapbox": [
           {
            "marker": {
             "colorbar": {
              "outlinewidth": 0,
              "ticks": ""
             }
            },
            "type": "scattermapbox"
           }
          ],
          "scatterpolar": [
           {
            "marker": {
             "colorbar": {
              "outlinewidth": 0,
              "ticks": ""
             }
            },
            "type": "scatterpolar"
           }
          ],
          "scatterpolargl": [
           {
            "marker": {
             "colorbar": {
              "outlinewidth": 0,
              "ticks": ""
             }
            },
            "type": "scatterpolargl"
           }
          ],
          "scatterternary": [
           {
            "marker": {
             "colorbar": {
              "outlinewidth": 0,
              "ticks": ""
             }
            },
            "type": "scatterternary"
           }
          ],
          "surface": [
           {
            "colorbar": {
             "outlinewidth": 0,
             "ticks": ""
            },
            "colorscale": [
             [
              0,
              "#0d0887"
             ],
             [
              0.1111111111111111,
              "#46039f"
             ],
             [
              0.2222222222222222,
              "#7201a8"
             ],
             [
              0.3333333333333333,
              "#9c179e"
             ],
             [
              0.4444444444444444,
              "#bd3786"
             ],
             [
              0.5555555555555556,
              "#d8576b"
             ],
             [
              0.6666666666666666,
              "#ed7953"
             ],
             [
              0.7777777777777778,
              "#fb9f3a"
             ],
             [
              0.8888888888888888,
              "#fdca26"
             ],
             [
              1,
              "#f0f921"
             ]
            ],
            "type": "surface"
           }
          ],
          "table": [
           {
            "cells": {
             "fill": {
              "color": "#EBF0F8"
             },
             "line": {
              "color": "white"
             }
            },
            "header": {
             "fill": {
              "color": "#C8D4E3"
             },
             "line": {
              "color": "white"
             }
            },
            "type": "table"
           }
          ]
         },
         "layout": {
          "annotationdefaults": {
           "arrowcolor": "#2a3f5f",
           "arrowhead": 0,
           "arrowwidth": 1
          },
          "autotypenumbers": "strict",
          "coloraxis": {
           "colorbar": {
            "outlinewidth": 0,
            "ticks": ""
           }
          },
          "colorscale": {
           "diverging": [
            [
             0,
             "#8e0152"
            ],
            [
             0.1,
             "#c51b7d"
            ],
            [
             0.2,
             "#de77ae"
            ],
            [
             0.3,
             "#f1b6da"
            ],
            [
             0.4,
             "#fde0ef"
            ],
            [
             0.5,
             "#f7f7f7"
            ],
            [
             0.6,
             "#e6f5d0"
            ],
            [
             0.7,
             "#b8e186"
            ],
            [
             0.8,
             "#7fbc41"
            ],
            [
             0.9,
             "#4d9221"
            ],
            [
             1,
             "#276419"
            ]
           ],
           "sequential": [
            [
             0,
             "#0d0887"
            ],
            [
             0.1111111111111111,
             "#46039f"
            ],
            [
             0.2222222222222222,
             "#7201a8"
            ],
            [
             0.3333333333333333,
             "#9c179e"
            ],
            [
             0.4444444444444444,
             "#bd3786"
            ],
            [
             0.5555555555555556,
             "#d8576b"
            ],
            [
             0.6666666666666666,
             "#ed7953"
            ],
            [
             0.7777777777777778,
             "#fb9f3a"
            ],
            [
             0.8888888888888888,
             "#fdca26"
            ],
            [
             1,
             "#f0f921"
            ]
           ],
           "sequentialminus": [
            [
             0,
             "#0d0887"
            ],
            [
             0.1111111111111111,
             "#46039f"
            ],
            [
             0.2222222222222222,
             "#7201a8"
            ],
            [
             0.3333333333333333,
             "#9c179e"
            ],
            [
             0.4444444444444444,
             "#bd3786"
            ],
            [
             0.5555555555555556,
             "#d8576b"
            ],
            [
             0.6666666666666666,
             "#ed7953"
            ],
            [
             0.7777777777777778,
             "#fb9f3a"
            ],
            [
             0.8888888888888888,
             "#fdca26"
            ],
            [
             1,
             "#f0f921"
            ]
           ]
          },
          "colorway": [
           "#636efa",
           "#EF553B",
           "#00cc96",
           "#ab63fa",
           "#FFA15A",
           "#19d3f3",
           "#FF6692",
           "#B6E880",
           "#FF97FF",
           "#FECB52"
          ],
          "font": {
           "color": "#2a3f5f"
          },
          "geo": {
           "bgcolor": "white",
           "lakecolor": "white",
           "landcolor": "#E5ECF6",
           "showlakes": true,
           "showland": true,
           "subunitcolor": "white"
          },
          "hoverlabel": {
           "align": "left"
          },
          "hovermode": "closest",
          "mapbox": {
           "style": "light"
          },
          "paper_bgcolor": "white",
          "plot_bgcolor": "#E5ECF6",
          "polar": {
           "angularaxis": {
            "gridcolor": "white",
            "linecolor": "white",
            "ticks": ""
           },
           "bgcolor": "#E5ECF6",
           "radialaxis": {
            "gridcolor": "white",
            "linecolor": "white",
            "ticks": ""
           }
          },
          "scene": {
           "xaxis": {
            "backgroundcolor": "#E5ECF6",
            "gridcolor": "white",
            "gridwidth": 2,
            "linecolor": "white",
            "showbackground": true,
            "ticks": "",
            "zerolinecolor": "white"
           },
           "yaxis": {
            "backgroundcolor": "#E5ECF6",
            "gridcolor": "white",
            "gridwidth": 2,
            "linecolor": "white",
            "showbackground": true,
            "ticks": "",
            "zerolinecolor": "white"
           },
           "zaxis": {
            "backgroundcolor": "#E5ECF6",
            "gridcolor": "white",
            "gridwidth": 2,
            "linecolor": "white",
            "showbackground": true,
            "ticks": "",
            "zerolinecolor": "white"
           }
          },
          "shapedefaults": {
           "line": {
            "color": "#2a3f5f"
           }
          },
          "ternary": {
           "aaxis": {
            "gridcolor": "white",
            "linecolor": "white",
            "ticks": ""
           },
           "baxis": {
            "gridcolor": "white",
            "linecolor": "white",
            "ticks": ""
           },
           "bgcolor": "#E5ECF6",
           "caxis": {
            "gridcolor": "white",
            "linecolor": "white",
            "ticks": ""
           }
          },
          "title": {
           "x": 0.05
          },
          "xaxis": {
           "automargin": true,
           "gridcolor": "white",
           "linecolor": "white",
           "ticks": "",
           "title": {
            "standoff": 15
           },
           "zerolinecolor": "white",
           "zerolinewidth": 2
          },
          "yaxis": {
           "automargin": true,
           "gridcolor": "white",
           "linecolor": "white",
           "ticks": "",
           "title": {
            "standoff": 15
           },
           "zerolinecolor": "white",
           "zerolinewidth": 2
          }
         }
        },
        "title": {
         "text": "Effect of kappa and theta on final equilibrium"
        },
        "width": 500
       }
      },
      "image/png": "[encoded data removed]",
      "text/html": [
       "<div>                            <div id=\"eb8ef055-d8df-4d9c-88d9-19e0e3404e3f\" class=\"plotly-graph-div\" style=\"height:500px; width:500px;\"></div>            <script type=\"text/javascript\">                require([\"plotly\"], function(Plotly) {                    window.PLOTLYENV=window.PLOTLYENV || {};                                    if (document.getElementById(\"eb8ef055-d8df-4d9c-88d9-19e0e3404e3f\")) {                    Plotly.newPlot(                        \"eb8ef055-d8df-4d9c-88d9-19e0e3404e3f\",                        [{\"x\":[0.02,0.04,0.06,0.08,0.1,0.12000000000000001,0.13999999999999999,0.16,0.18,0.19999999999999998,0.22,0.24,0.26,0.28,0.30000000000000004,0.32,0.34,0.36000000000000004,0.38,0.4,0.42000000000000004,0.44,0.46,0.48000000000000004,0.5,0.52,0.54,0.56,0.5800000000000001,0.6,0.62,0.64,0.66,0.68,0.7000000000000001,0.7200000000000001,0.74,0.76,0.78,0.8,0.8200000000000001,0.8400000000000001,0.86,0.88,0.9,0.92,0.9400000000000001,0.9600000000000001,0.98,1.0],\"y\":[0.04,0.08,0.12,0.16,0.2,0.24000000000000002,0.27999999999999997,0.32,0.36,0.39999999999999997,0.44,0.48,0.52,0.56,0.6000000000000001,0.64,0.68,0.7200000000000001,0.76,0.8,0.8400000000000001,0.88,0.92,0.9600000000000001,1.0,1.04,1.08,1.12,1.1600000000000001,1.2,1.24,1.28,1.32,1.36,1.4000000000000001,1.4400000000000002,1.48,1.52,1.56,1.6,1.6400000000000001,1.6800000000000002,1.72,1.76,1.8,1.84,1.8800000000000001,1.9200000000000002,1.96,2.0],\"z\":[[0.427376373515222,0.4263001343590397,0.42522648550527403,0.4241554191017061,0.4230869273322136,0.42202100241658175,0.42095763661030705,0.4198968222044039,0.41883855152521327,0.4177828169342157,0.4167296108278426,0.41567892563728337,0.4146307538283054,0.41358508790106424,0.412541920389927,0.41150124386327636,0.41046305092334134,0.40942733420601407,0.4083940863806634,0.40736330014996697,0.4063349682497245,0.405309083448691,0.40428563854839056,0.403264626382956,0.40224603981894436,0.40122987175517066,0.4002161151225377,0.3992047628838637,0.39819580803371724,0.3971892435982453,0.39618506263501246,0.3951832582328272,0.3941838235115864,0.3931867516221094,0.3921920357459705,0.3911996690953425,0.39020964491283666,0.3892219564713381,0.3882365970738508,0.38725356005334727,0.38627283877259283,0.3852944266240112,0.384318317029515,0.3833445034403596,0.38237297933698733,0.38140373822887447,0.3804367736543816,0.3794720791806084,0.3785096484032342,0.3775494749463745],[0.424501979825061,0.4234259328086786,0.42235247217205385,0.4212815900800247,0.4202132787335366,0.41914753036945024,0.4180843372603441,0.4170236917143262,0.41596558607484296,0.4149100127204885,0.4138569640648182,0.4128064325561606,0.41175841067743374,0.4107128909459543,0.4096698659132614,0.40862932816493136,0.40759127032039794,0.40655568503276773,0.4055225649886467,0.40449190290796,0.40346369154377665,0.4024379236821313,0.40141459214185155,0.4003936897743856,0.39937520946362765,0.3983591441257507,0.39734548670903186,0.39633423019368363,0.3953253675916884,0.3943188919466315,0.3933147963335342,0.3923130738586859,0.3913137176594853,0.3903167209042755,0.38932207679217856,0.38832977855294154,0.3873398194467675,0.3863521927641681,0.38536689182579253,0.38438390998228134,0.3834032406141046,0.38242487713140944,0.3814488129738604,0.38047504161049167,0.37950355653955703,0.37853435128836743,0.37756741941315347,0.3766027544989081,0.3756403501592346,0.3746802000362104],[0.42160991165638334,0.42053400658360535,0.41946068382700513,0.41838993556827964,0.4173217540252421,0.41625613145163726,0.4151930601369344,0.4141325324061445,0.41307454061963256,0.41201907717292235,0.4109661344965124,0.40991570505568853,0.4088677813503381,0.4078223559147695,0.40677942131752387,0.40573897016119914,0.404700995082261,0.4036654887508747,0.40263244387071595,0.40160185317880287,0.4005737094453119,0.39954800547340824,0.39852473409907013,0.3975038881909154,0.396485460650034,0.39546944440980586,0.39445583243574905,0.3934446177253321,0.39243579330782274,0.39142935224411174,0.39042528762654993,0.38942359257878595,0.38842426025559673,0.38742728384273384,0.3864326565567563,0.38544037164486966,0.38445042238477206,0.3834628020844842,0.3824775040822104,0.38149452174616055,0.38051384847441255,0.37953547769474977,0.37855940286450257,0.377585617470404,0.3766141150284384,0.37564488908367744,0.37467793321014914,0.373713241010672,0.3727508061167176,0.3717906221882552],[0.4186996911497143,0.4176238753391327,0.41655063762740335,0.41547997021282856,0.4144118653298405,0.41334631524880977,0.41228331227585197,0.41122284875263404,0.4101649170561941,0.4091095095987432,0.4080566188274821,0.40700623722441776,0.4059583573061771,0.4049129716238196,0.4038700727626633,0.40282965334209286,0.401791706015391,0.4007562234695534,0.39972319842510656,0.3986926236359423,0.3976644918891325,0.396638796004762,0.39561552883574713,0.3945946832676724,0.3935762522186131,0.39256022863896656,0.39154660551128584,0.3905353758501073,0.38952653270178644,0.38852006914433307,0.3875159782872453,0.3865142532713409,0.38551488726860655,0.384517873482021,0.3835232051454054,0.38253087552325765,0.38154087791059993,0.38055320563281153,0.37956785204547716,0.37858481053423354,0.37760407451460853,0.3766256374318737,0.37564949276087994,0.37467563400592163,0.37370405470056933,0.37273474840752946,0.37176770871849346,0.3708029292539819,0.36984040366320653,0.36888012562392025],[0.41577081893744733,0.4146950370576421,0.41362182889154353,0.412551186653742,0.411483102594963,0.41041756900189114,0.40935457819697074,0.40829412253821334,0.4072361944190169,0.40618078626797155,0.40512789054867676,0.40407749975955326,0.403029606433663,0.40198420313852046,0.4009412824759196,0.3999008370817431,0.39886285962579016,0.3978273428115984,0.3967942793762601,0.39576366209025543,0.39473548375726675,0.39370973721401836,0.39268641533008997,0.39166551100775393,0.39064701718180467,0.389630926819382,0.38861723291981026,0.3876059285144278,0.38659700666642316,0.38559046047066314,0.38458628305353626,0.38358446757278764,0.38258500721735306,0.3815878952072004,0.3805931247931692,0.3796006892568155,0.37861058191024377,0.3776227960959585,0.37663732518670545,0.3756541625853132,0.37467330172454283,0.37369473606693343,0.37271845910464785,0.37174446435932157,0.37077274538191307,0.3698032957525549,0.36883610908040043,0.3678711790034815,0.3669084991885577,0.36594806333097096],[0.41282277276816387,0.41174696665889576,0.41067372969490207,0.40960305410665415,0.40853493216078585,0.4074693561598977,0.4064063184423675,0.40534581138216375,0.40428782738865615,0.4032323589064289,0.40217939841509265,0.4011289384291011,0.40008097149757116,0.3990354902040953,0.3979924871665639,0.39695195503698616,0.39591388650130666,0.39487827427923455,0.3938451111240628,0.3928143898224902,0.39178610319445284,0.3907602440929496,0.3897368054038711,0.3887157800458227,0.3876971609699593,0.3866809411598201,0.3856671136311529,0.38465567143175217,0.3836466076412951,0.38263991537117165,0.381635587764328,0.3806336179950934,0.3796339992690321,0.3786367248227705,0.3776417879238449,0.3766491818705441,0.37565889999174373,0.3746709356467561,0.37368528222517683,0.37270193314671923,0.3717208818610747,0.3707421218477483,0.36976564661591327,0.36879144970425926,0.3678195246808389,0.3668498651429233,0.36588246471685015,0.3649173170578798,0.36395441585004296,0.3629937548060049],[0.4098550060158295,0.4087791144937583,0.4077057873482104,0.40663501682505454,0.4055667952063428,0.4045011148101124,0.4034379679901962,0.4023773471360382,0.40131924467250313,0.40026365305968886,0.399210564792744,0.39815997240168755,0.3971118684512147,0.39606624554052844,0.39502309630315086,0.39398241340674783,0.3929441895529492,0.3919084174771732,0.3908750899484483,0.3898441997692434,0.3888157397752911,0.38778970283541186,0.38676608185135125,0.38574486975760197,0.38472605952123834,0.38370964414174824,0.38269561665086343,0.3816839701123994,0.3806746976220824,0.379667792307394,0.3786632473274004,0.37766105587259446,0.3766612111647412,0.37566370645670005,0.3746685350322885,0.3736756902061067,0.3726851653233883,0.37169695375984674,0.37071104892151036,0.36972744424458204,0.3687461331952766,0.36776710926966777,0.3667903659935458,0.36581589692225946,0.3648436956405694,0.36387375576250064,0.3629060709311933,0.36194063481875616,0.360977441126122,0.36001648358290383],[0.40686694606189117,0.4057909047091562,0.4047174227451021,0.40364649243041556,0.40257810606197664,0.40151225597267354,0.40044893453121144,0.3993881341419241,0.3983298472445905,0.3972740663142451,0.39622078386099513,0.3951699924298384,0.3941216846004808,0.3930758529871569,0.3920324902384478,0.39099158903710424,0.3899531420998704,0.38891714217730305,0.38788358205360524,0.3868524545464461,0.3858237525067881,0.38479746881871546,0.3837735963992694,0.38275212819826926,0.38173305719815365,0.3807163764138063,0.37970207889239227,0.3786901577131935,0.3776806059874422,0.3766734168581627,0.3756685835000021,0.37466609911907595,0.37366595695280447,0.3726681502697569,0.37167267236948714,0.3706795165823817,0.36968867626950497,0.3687001448224411,0.36771391566313755,0.36672998224375775,0.36574833804652646,0.3647689765835736,0.36379189139679524,0.3628170760576916,0.3618445241672248,0.3608742293556746,0.3599061852824828,0.35894038563611463,0.3579768241339141,0.3570154945219518],[0.4038579925367661,0.4027817334705606,0.4017080285653969,0.4006368700960681,0.39956825037358,0.3985021617449674,0.397438596593103,0.3963775473365083,0.39531900642917256,0.39426296636036406,0.39320941965444806,0.3921583588707068,0.3911097766031509,0.39006366548035204,0.3890200181652508,0.3879788273549875,0.3869400857807243,0.3859037862074683,0.384869921433899,0.38383848429219286,0.38280946764785406,0.38178286439954406,0.3807586674789076,0.37973686985041066,0.3787174645111664,0.37770044449077317,0.3766858028511462,0.37567353268635645,0.3746636271224625,0.37365607931735545,0.3726508824605916,0.3716480297732314,0.37064751450768707,0.3696493299475581,0.36865346940747573,0.3676599262329508,0.36666869380021155,0.3656797655160525,0.3646931348176845,0.36370879517257715,0.3627267400783095,0.361746963062422,0.36076945768226254,0.3597942175248424,0.3588212362066828,0.3578505073736739,0.3568820247009292,0.3559157818926344,0.35495177268190586,0.3539899908306563],[0.4008275154054933,0.39975096702654517,0.398676967318301,0.3976055085688217,0.39653658310239437,0.39547018327936,0.3944063014959122,0.39334493018392236,0.39228606181074566,0.391229688879041,0.3901758039265912,0.3891243995261172,0.3880754682850981,0.38702900284559594,0.38598499588407315,0.3849434401112168,0.38390432827176785,0.3828676531443411,0.3818334075412538,0.38080158430835453,0.37977217632485083,0.378745176503138,0.37772057778863516,0.37669837315961174,0.3756785556270239,0.374661118234351,0.37364605405742535,0.37263335620427057,0.3716230178149487,0.3706150320613793,0.3696093921471999,0.36860609130759375,0.3676051228091336,0.36660647994962686,0.3656101560579605,0.3646161444939403,0.36362443864814453,0.3626350319417587,0.36164791782643824,0.3606630897841439,0.35968054132699706,0.35870026599713295,0.3577222573665469,0.35674650903694816,0.3557730146396154,0.35480176783524925,0.353832762313826,0.3528659917944529,0.3519014500252365,0.3509391307831181],[0.3977748528803701,0.39669793959790656,0.39562356920776875,0.3945517340102803,0.3934824263420092,0.3924156385755978,0.39135136311956187,0.39028959241811223,0.38923031895096877,0.3881735352331771,0.3871192338149253,0.38606740728136885,0.3850180482524465,0.3839711493827023,0.3829267033611101,0.38188470291089716,0.3808451407893736,0.3798080097877493,0.37877330273096876,0.37774101247754244,0.37671113191936945,0.3756836539815686,0.37465857162231986,0.3736358778326879,0.37261556563646026,0.3715976280899815,0.3705820582819911,0.3695688493334623,0.36855799439743436,0.36754948665885934,0.36654331933443846,0.3655394856724654,0.36453797895266893,0.36353879248605625,0.3625419196147568,0.3615473537118689,0.36055508818130755,0.3595651164576493,0.3585774320059819,0.3575920283217594,0.3566088989306393,0.35562803738835075,0.35464943728053183,0.3536730922225936,0.3526989958595717,0.3517271418659751,0.3507575239456535,0.34979013583164353,0.3488249712860343,0.3478620240998245],[0.39469930914103185,0.3936219510715426,0.3925471297998506,0.39147483763735275,0.39040506693172067,0.38933781006670404,0.38827305946194984,0.38721080757281645,0.3861510468901949,0.3850937699403169,0.38403896928458514,0.3829866375193845,0.3819367672759116,0.38088935121999246,0.37984438205190607,0.37880185250621423,0.3777617553515835,0.37672408339061425,0.37568882945967047,0.3746559864287038,0.3736255472010971,0.37259750471347813,0.37157185193557013,0.37054858187001544,0.36952768755221294,0.3685091620501601,0.36749299846427974,0.36647918992726475,0.36546772960392143,0.36445861069100527,0.3634518264170599,0.3624473700422646,0.3614452348582761,0.3604454141880767,0.3594479013858133,0.3584526898366485,0.35745977295660786,0.35646914419243086,0.3554807970214117,0.3544947249512645,0.3535109215199591,0.3525293802955867,0.3515500948762024,0.35057305888969187,0.3495982659936147,0.34862570987506775,0.34765538425053993,0.34668728286577244,0.3457213994956128,0.3447577279438822],[0.39160015183986446,0.3905222644765442,0.38944690746912175,0.38837407313867495,0.3873037538425676,0.3862359419742577,0.38517062996311335,0.3841078102742311,0.3830474754082536,0.38198961790118585,0.38093423032421725,0.37988130528354613,0.3788308354201932,0.3777828134098391,0.37673723196263387,0.37569408382303504,0.3746533617696302,0.3736150586149667,0.37257916720537887,0.37154568042082176,0.370514591174699,0.36948589241370117,0.36845957711763944,0.36743563829927156,0.3664140690041512,0.3653948623104584,0.3643780113288357,0.36336350920223537,0.36235134910575184,0.36134152424647,0.3603340278633025,0.3593288532268376,0.35832599363918216,0.35732544243380787,0.3563271929753966,0.35533123865969113,0.3543375729133387,0.35334618919374977,0.3523570809889391,0.3513702418173848,0.3503856652278736,0.3494033447993656,0.34842327414083546,0.3474454468911392,0.3464698567188675,0.3454964973221961,0.3445253624287564,0.34355644579548383,0.342589741208487,0.34162524248290177],[0.3884766093674864,0.3873981032168465,0.386322120598094,0.385248653840344,0.384177695308999,0.38310923740556707,0.38204327256747816,0.38097979326789744,0.3799187920155494,0.378860261354535,0.37780419386414954,0.37675058215871365,0.37569941888738806,0.37465069673400603,0.3736044084168901,0.3725605466886893,0.37151910433620267,0.37048007418020434,0.369443449075284,0.3684092219096706,0.3673773856050709,0.36634793311649516,0.36532085743210657,0.3642961515730395,0.36327380859325326,0.3622538215793595,0.36123618365046983,0.3602208879580274,0.35920792768565746,0.3581972960490072,0.3571889862955848,0.35618299170461076,0.3551793055868596,0.35417792128451503,0.3531788321709995,0.35218203165084677,0.35118751315953217,0.35019527016333557,0.34920529615918716,0.3482175846745257,0.34723212926714375,0.34624892352505565,0.34526796106633934,0.34428923553900015,0.3433127406208321,0.3423384700192705,0.3413664174712504,0.3403965767430772,0.33942894163027293,0.33846350595745417],[0.3853278678495234,0.3842486480311153,0.3831719444997502,0.3820977495906335,0.38102605567527337,0.3799568551612763,0.37889014049216874,0.3778259041472276,0.3767641386412841,0.37570483652455366,0.37464799038245916,0.3735935928354431,0.372541636538811,0.37149211418253747,0.37044501849110756,0.36940034222333795,0.36835807817221017,0.3673182191646961,0.36628075806159516,0.36524568775736327,0.36421300117995004,0.3631826912906303,0.36215475108384404,0.36112917358702895,0.36010595186046845,0.35908507899711706,0.3580665481224549,0.35705035239432004,0.3560364850027547,0.35502493916985184,0.35401570814959726,0.35300878522771106,0.3520041637215041,0.35100183697972215,0.3500017983823934,0.3490040413406757,0.3480085592967164,0.3470153457234989,0.3460243941246967,0.34503569803452566,0.3440492510176033,0.34306504666880216,0.3420830786131054,0.34110334050547136,0.3401258260306834,0.33915052890321634,0.338177442867099,0.3372065616957669,0.33623787919193376,0.3352713891874533],[0.3821530678416744,0.381073033646295,0.3799955080290096,0.3789204833288542,0.37784795192114745,0.3767779062173001,0.3757103386646426,0.37464524174623887,0.37358260798071263,0.3725224299220589,0.3714647001594789,0.37040941131719823,0.3693565560542927,0.3683061270645159,0.3672581170761288,0.3662125188517267,0.36516932518807255,0.3641285289159238,0.36309012289986936,0.36205410003816363,0.36102045326255877,0.35998917553814147,0.35896025986317376,0.35793369926892576,0.3569094868195236,0.3558876156117784,0.3548680787750393,0.3538508694710323,0.3528359808936983,0.35182340626905256,0.35081313885501275,0.3498051719412617,0.34879949884908396,0.347796112931228,0.34679500757174037,0.3457961761858336,0.3447996122197244,0.3438053091504976,0.3428132604859529,0.34182345976446565,0.3408359005548438,0.3398505764561782,0.3388674810977075,0.33788660813867766,0.33690795126819845,0.33593150420510637,0.33495726069782694,0.3339852145242396,0.33301535949153893,0.3320476894361009],[0.3789513006852094,0.3778703450862228,0.3767918898438653,0.3757159272983287,0.3746424498260601,0.373571449839586,0.37250291978732664,0.37143685215341904,0.37037323945753753,0.36931207425471624,0.3682533491351739,0.36719705672413916,0.36614318968168036,0.3650917407025237,0.3640427025158964,0.3629960678853444,0.3619518296085733,0.36090998051727036,0.35987051347695215,0.35883342138678437,0.35779869717943535,0.35676633382089296,0.3557363243103219,0.3547086616798921,0.35368333899462195,0.352660349352221,0.3516396858829347,0.3506213417493847,0.3496053101464129,0.3485915843009364,0.3475801574717853,0.34657102294955433,0.3455641740564513,0.3445596041461539,0.34355730660365214,0.34255727484510556,0.34155950231769644,0.3405639824994855,0.3395707088992646,0.33857967505641656,0.33759087454076925,0.3366043009524614,0.3356199479217919,0.3346378091090889,0.3336578782045686,0.33268014892819675,0.33170461502955206,0.3307312702876964,0.329760108511031,0.32879112353717016],[0.3757216044792464,0.3746396135908753,0.37356011427082997,0.37248309885732833,0.371408559724804,0.37033648928372864,0.3692668799804318,0.36819972429692155,0.36713501475071136,0.36607274389463534,0.36501290431668215,0.3639554886398136,0.36290048952180204,0.3618478996550466,0.3607977117664151,0.35974991861706523,0.35870451300228595,0.357661487751325,0.3566208357272248,0.3555825498266616,0.3545466229797807,0.35351304815003115,0.3524818183340104,0.3514529265613037,0.3504263658943227,0.3494021294281557,0.3483802102904021,0.34736060164102367,0.3463432966721889,0.3453282886081218,0.3443155707049499,0.3433051362505506,0.34229697856440444,0.34129109099745103,0.3402874669319307,0.3392860997812505,0.3382869829898279,0.3372901100329576,0.336295474416658,0.3353030696775396,0.3343128893826493,0.3333249271293505,0.33233917654516226,0.3313556312876421,0.3303742850442277,0.3293951315321202,0.32841816449813643,0.3274433777185822,0.3264707649991121,0.32550032017460223],[0.3724629596194342,0.3713798120948347,0.3702991467223602,0.3692209558345773,0.3681452318002071,0.3670719670239527,0.36600115394631555,0.3649327850434131,0.3638668528268079,0.3628033498433327,0.36174226867491077,0.3606836019383893,0.35962734228536397,0.3585734824020085,0.357522015008909,0.356472932860893,0.3554262287468632,0.35438189548962784,0.35333992594575064,0.35230031300536746,0.35126304959204224,0.35022812866259284,0.3491955432069445,0.3481652862479572,0.34713735084127706,0.34611173007518,0.3450884170704161,0.3440674049800528,0.34304868698932156,0.34203225631547496,0.34101810620762396,0.34000622994659846,0.3389966208447899,0.33798927224601477,0.33698417752535736,0.3359813300890316,0.3349807233742351,0.33398235084900596,0.3329862060120773,0.3319922823927449,0.3310005735507178,0.3300110730759874,0.32902377458868204,0.32803867173893364,0.3270557582067445,0.3260750277018481,0.3250964739635787,0.3241200907607344,0.3231458718914473,0.3221738111830553],[0.3691742838445717,0.36808985020540297,0.36700788860543443,0.36592839136727245,0.36485135084959414,0.36377675944695886,0.3627046095896402,0.36163489374344415,0.3605676044095297,0.35950273412423905,0.358440275458922,0.3573802210197649,0.35632256344761304,0.35526729541781904,0.3542144096400474,0.35316389885813065,0.3521157558498948,0.35106997342699053,0.35002654443473274,0.3489854617519434,0.3479467182907819,0.3469103069965907,0.34587622084773245,0.3448444528554345,0.34381499606363364,0.34278784354881836,0.34176298841987535,0.34074042381793623,0.33972014291622704,0.33870213891991396,0.337686405065956,0.33667293462295816,0.335661720891019,0.33465275720158844,0.3336460369173192,0.33264155343192664,0.33163930017003995,0.3306392705870636,0.3296414581690394,0.32864585643249683,0.3276524589243234,0.32666125922162326,0.32567225093157615,0.32468542769131153,0.32370078316776313,0.32271831105754006,0.3217380050867949,0.3207598590110877,0.3197838666152609,0.31881002171330386],[0.36585442672322205,0.36476856861097073,0.36368517165052355,0.3626042281494648,0.36152573045132336,0.3604496709353832,0.35937604201652323,0.3583048361450181,0.3572360458063809,0.3561696635211796,0.3551056818448679,0.3540440933676071,0.3529848907141041,0.3519280665434375,0.3508736135488857,0.3498215244577708,0.3487717920312823,0.347724409064316,0.34667936838531543,0.34563666285610184,0.34459628537172304,0.34355822886027926,0.34252248628278487,0.34148905063299045,0.34045791493724525,0.33942907225432206,0.33840251567528634,0.3373782383233243,0.33635623335360143,0.33533649395310894,0.3343190133405165,0.33330378476602135,0.33229080151120494,0.33128005688887996,0.33027154424295907,0.32926525694829123,0.32826118841054086,0.32725933206602775,0.3262596813816,0.32526222985448516,0.3242669710121573,0.32327389841219784,0.32228300564215956,0.3212942863194326,0.32030773409110597,0.31932334263383966,0.3183411056537288,0.3173610168861755,0.31638307009575334,0.31540725907608697],[0.3625021635009442,0.3614147328386504,0.36032975157822417,0.35924721200627024,0.35816710644517336,0.35708942725289783,0.35601416682282727,0.35494131758357716,0.35387087199882383,0.3528028225671268,0.35173716182175896,0.35067388233052793,0.34961297669562025,0.3485544375534105,0.3474982575743152,0.34644442946261167,0.3453929459562723,0.3443437998268113,0.34329698387910945,0.3422524909512591,0.34121031391440027,0.34017044567256444,0.33913287916251195,0.3380976073535758,0.3370646232475078,0.3360339198783216,0.3350054903121414,0.3339793276470438,0.3329554250129151,0.3319337755712907,0.33091437251521677,0.3298972090690903,0.32888227848852414,0.32786957406019174,0.3268590891016897,0.32585081696138546,0.32484475101828425,0.32384088468188177,0.3228392113920243,0.3218397246187722,0.3208424178622591,0.3198472846525546,0.31885431854953017,0.3178635131427205,0.31687486205119536,0.31588835892342015,0.31490399743712694,0.3139217712991854,0.312941674245469,0.311963700040729],[0.35911618821515157,0.3580270262661772,0.35694030100654084,0.3558560046948679,0.3547741296253234,0.35369466812743483,0.3526176125659077,0.3515429553404483,0.3504706888855973,0.3494008056705372,0.34833329819893616,0.34726815900876246,0.3462053806721253,0.3451449557950898,0.34408687701752144,0.34303113701291543,0.34197772848822516,0.3409266441837013,0.3398778768727302,0.33883141936166744,0.3377872644896764,0.3367454051285723,0.3357058341826569,0.3346685445885667,0.3336335293151099,0.3326007813631206,0.33157029376529124,0.3305420595860334,0.3295160719213114,0.3284923238985075,0.3274708086762577,0.3264515194443082,0.3254344494233742,0.3244195918649805,0.32340694005133036,0.3223964872951496,0.32138822693955016,0.32038215235788486,0.3193782569536086,0.31837653416013867,0.31737697744071036,0.3163795802882493,0.3153843362252241,0.3143912388035196,0.3134002816042954,0.3124114582378554,0.3114247623435167,0.31044018758947356,0.30945772767267304,0.3084773763186796],[0.3556951059681994,0.3546040422762288,0.35351540148449706,0.35242917581538424,0.35134535752650886,0.35026393891054175,0.3491849122950289,0.34810827004220984,0.34703400454884464,0.34596210824603213,0.3448925735990376,0.3438253931071185,0.34276055930335386,0.34169806475446957,0.3406379020606689,0.3395800638554674,0.3385245428055201,0.3374713316104563,0.3364204230027183,0.33537180974739317,0.3343254846420525,0.33328144051658604,0.33223967023304574,0.3312001666854894,0.33016292279981174,0.32912793153359965,0.3280951858759664,0.3270646788474047,0.326036403499626,0.3250103529154151,0.32398652020847074,0.32296489852326754,0.3219454810348911,0.3209282609489033,0.31991323150118606,0.31890038595780523,0.3178897176148547,0.3168812197983213,0.3158748858639386,0.3148707091970457,0.313868683212448,0.31286880135427353,0.3118710570958409,0.3108754439395193,0.30988195541658614,0.30889058508710443,0.3079013265397798,0.3069141733918227,0.3059291192888309,0.30494615790464297],[0.35223742422942306,0.35114427542100307,0.35005353451689436,0.34896519369347295,0.34787924516195357,0.34679568116820664,0.34571449399257403,0.3446356759496933,0.34355921938830747,0.3424851166910983,0.3414133602745001,0.34034394258852624,0.3392768561165936,0.33821209337534924,0.3371496469145001,0.3360895093166355,0.3350316731970642,0.33397613120363917,0.3329228760165961,0.3318719003483767,0.33082319694347395,0.3297767585782636,0.3287325780608408,0.327690648230853,0.32665096195935167,0.3256135121486177,0.3245782917320128,0.3235452936738207,0.32251451096908496,0.3214859366434579,0.3204595637530519,0.3194353853842744,0.31841339465368007,0.3173935847078282,0.316375948723122,0.31536047990566085,0.31434717149110036,0.3133360167444989,0.31232700896017374,0.3113201414615557,0.3103154076010424,0.30931280075986584,0.30831231434793643,0.3073139418037169,0.3063176765940734,0.3053235122141346,0.30433144218716707,0.30334146006442386,0.302353559425015,0.30136773387577803],[0.34874154301272586,0.3476461114400602,0.3465530714195924,0.34546241507013953,0.34437413454484367,0.34328822203098314,0.3422046697497877,0.3411234699562569,0.3400446149389685,0.3389680970199029,0.3378939085542623,0.3368220419302809,0.3357524895690596,0.3346852439243763,0.33362029748251454,0.3325576427620892,0.33149727231386716,0.33043917872060236,0.329383354596852,0.32832979258881856,0.3272784853741689,0.32622942566187263,0.32518260619203104,0.3241380197357111,0.3230956590947817,0.32205551710174785,0.3210175866195867,0.31998186054158584,0.31894833179118315,0.31791699332180545,0.3168878381167106,0.31586085918882756,0.3148360495806019,0.3138134023638395,0.31279291063954645,0.31177456753778143,0.3107583662175015,0.30974429986640556,0.3087323617007926,0.3077225449653977,0.3067148429332601,0.30570924890555734,0.3047057562114745,0.30370435820804526,0.3027050482800145,0.3017078198396897,0.3007126663268021,0.2997195812083591,0.29872855797850356,0.29773959015837875],[0.3452057437468626,0.34410781594417056,0.34301226181353195,0.34191907340249084,0.34082824279225327,0.3397397620974988,0.33865362346618183,0.3375698190793482,0.33648834115093934,0.33540918192761127,0.3343323336885389,0.33325778874523476,0.3321855394413628,0.33111557815255493,0.33004789728622846,0.32898248928140217,0.3279193466085192,0.3268584617692635,0.32579982729638207,0.32474343575351344,0.3236892797349992,0.3226373518657225,0.3215876448009209,0.32054015122602175,0.3194948638564662,0.318451775437537,0.3174108787441911,0.316372166580887,0.3153356317814182,0.31430126720874213,0.31326906575482355,0.3122390203404532,0.3112111239150979,0.31018536945672776,0.30916174997165624,0.3081402584943788,0.3071208880874097,0.30610363184112555,0.30508848287359835,0.30407543433045053,0.30306447938468123,0.3020556112365208,0.30104882311327325,0.3000441082691562,0.29904145998515713,0.29804087156886394,0.2970423363543269,0.29604584770190295,0.29505139899809835,0.29405898365543104],[0.34162817661928924,0.340527521540669,0.33942922052746255,0.3383332655396197,0.3372396485699105,0.33614836164371725,0.3350593968188325,0.33397274618526723,0.33288840186504914,0.33180635601202424,0.3307266008116634,0.3296491284808667,0.32857393126776996,0.32750100145154937,0.3264303313422367,0.3253619132805138,0.32429573963754094,0.3232318028147528,0.3221700952436816,0.3211106093857581,0.32005333773213634,0.318998272803499,0.31794540714988423,0.31689473335048907,0.31584624401349354,0.3147999317758775,0.31375578930324394,0.3127138092896319,0.31167398445733424,0.3106363075567346,0.30960077136611197,0.30856736869147194,0.3075360923663725,0.30650693525174294,0.30547989023571026,0.3044549502334318,0.3034321081869114,0.3024113570648336,0.3013926898623914,0.30037609960111056,0.29936157932868845,0.2983491221188131,0.29733872107100523,0.2963303693104345,0.2953240599877703,0.29431978627899963,0.293317541385272,0.2923173185327239,0.29131911097231555,0.2903229119796762],[0.33800684612975374,0.3369032131297435,0.3358019126319083,0.33470293648912924,0.3336062765860192,0.3325119248387058,0.3314198731946216,0.33033011363229725,0.3292426381611402,0.3281574388212404,0.3270745076831503,0.3259938368476863,0.32491541844571004,0.32383924463793773,0.3227653076147239,0.3216935995958633,0.32062411283038383,0.3195568395963422,0.3184917722006324,0.3174289029787686,0.3163682242946979,0.31530972854059347,0.3142534081366594,0.313199255530929,0.31214726319906366,0.31109742364416504,0.3100497293965737,0.30900417301367006,0.3079607470796787,0.306919444205486,0.3058802570284238,0.30484317821209644,0.30380820044617357,0.30277531644620576,0.3017445189534295,0.30071580073457116,0.2996891545816651,0.29866457331185225,0.2976420497671994,0.29662157681449774,0.2956031473450875,0.2945867542746556,0.29357239054305606,0.2925600491141158,0.29154972297544923,0.29054140513826904,0.2895350886372007,0.2885307665300919,0.28752843189782923,0.2865280778441525],[0.3343395945341017,0.33323271104377045,0.33212813626787313,0.33102586192888656,0.32992587977963483,0.32882818160305605,0.327732759211967,0.3266396044488538,0.32554870918562656,0.32446006532340305,0.3233736647922789,0.32228949955110886,0.32120756158727537,0.32012784291646373,0.3190503355824476,0.31797503165685764,0.31690192323896216,0.31583100245544266,0.31476226146017844,0.3136956924340148,0.3126312875845538,0.3115690391459239,0.3105089393785694,0.3094509805690215,0.30839515502968107,0.30734145509860333,0.30628987313927963,0.30524040154040966,0.3041930327156913,0.3031477591036008,0.30210457316717315,0.30106346739378276,0.3000244342949329,0.29898746640602253,0.29795255628614986,0.2969196965178757,0.2958888797070183,0.2948600984824274,0.2938333454957728,0.2928086134213245,0.29178589495573676,0.290765182817825,0.28974646974835305,0.2887297485098158,0.2877150118862189,0.28670225268285654,0.2856914637261041,0.28468263786318787,0.28367576796197325,0.2826708469107391],[0.33062408278916283,0.3295136516300171,0.3284055028597405,0.3272996280423533,0.3261960187704569,0.3250946666649647,0.32399556337487057,0.3228987005769793,0.3218040699756686,0.3207116633026366,0.31962147231665056,0.3185334888032945,0.3174477045747275,0.31636411146942384,0.3152827013519365,0.3142034661126315,0.313126397667453,0.31205148795766335,0.31097872894960604,0.30990811263444107,0.3088396310279073,0.3077732761700653,0.30670904012505434,0.30564691498083557,0.3045868928489437,0.3035289658642426,0.3024731261846679,0.3014193659909732,0.30036767748648574,0.29931805289685637,0.2982704844697961,0.29722496447483465,0.2961814852030593,0.29514003896686974,0.29410061809971394,0.2930632149558426,0.29202782191004656,0.29099443135740827,0.2899630357130348,0.2889336274118094,0.2879061989081313,0.2868807426756543,0.28585725120702904,0.284835717013638,0.28381613262534094,0.2827984905902064,0.2817827834742519,0.2807690038611719,0.2797571443520831,0.27874719756524985],[0.3268577685218195,0.32574346478644783,0.324631414208371,0.32352160815928965,0.32241403803721935,0.32130869526619826,0.32020557129601224,0.3191046576019155,0.3180059456843431,0.3169094270686233,0.3158150933047042,0.31472293596686174,0.3136329466534177,0.31254511698645665,0.3114594386115366,0.3103759031974011,0.3092945024357019,0.3082152280406992,0.30713807174898206,0.3060630253191783,0.30499008053165594,0.3039192291882447,0.30285046311193514,0.301783774146593,0.30071915415665895,0.29965659502686,0.2985960886619069,0.297537626986204,0.29648120194354843,0.29542680549682715,0.29437442962772165,0.293324066336408,0.2922757076412408,0.29122934557846253,0.29018497220189027,0.2891425795826064,0.28810215980865744,0.2870637049847263,0.2860272072318393,0.2849926586870337,0.2839600515030545,0.2829293778480249,0.28190062990513287,0.2808737998723015,0.2798488799618732,0.27882586240027224,0.2778047394276834,0.27678550329771395,0.2757681462770638,0.2747526606451839],[0.32303788043385623,0.32191934784522414,0.3208030358414331,0.3196889355607813,0.3185770381649905,0.3174673348388692,0.3163598167900053,0.3152544752484198,0.3141513014662536,0.3130502867174298,0.3119514222973282,0.31085469952245315,0.30976010973009355,0.30866764427799864,0.3075772945440321,0.30648905192584414,0.30540290784052243,0.3043188537242598,0.30323688103200214,0.30215698123711365,0.30107914583102385,0.3000033663228822,0.2989296342392015,0.2978579411235155,0.29678827853601775,0.29572063805320326,0.29465501126751076,0.293591389786965,0.29252976523480545,0.291470129249123,0.29041247348249033,0.28935678960158934,0.28830306928683597,0.28725130423200096,0.2862014861438308,0.2851536067416605,0.28410765775702945,0.28306363093328807,0.2820215180252057,0.2809813107985691,0.27994300102978625,0.2789065805054763,0.2778720410220643,0.2768393743853668,0.2758085724101744,0.2747796269198298,0.2737525297458067,0.27272727272727215,0.2717038477106612,0.2706822465492302],[0.31916138841171043,0.31803823505107887,0.3169172658454673,0.31579847164970465,0.3146818433383305,0.3135673718052197,0.31245504796318274,0.31134486274359535,0.3102368070959923,0.30913087198768685,0.3080270484033677,0.3069253273447006,0.30582569982994107,0.30472815689350774,0.3036326895856014,0.30253928897177695,0.30144794613253906,0.3003586521629204,0.29927139817207754,0.2981861752828502,0.29710297463134394,0.29602178736650353,0.29494260464967476,0.29386541765416785,0.2927902175648186,0.29171699557754216,0.2906457428988788,0.2895764507455518,0.2885091103439958,0.287443712929906,0.28638024974775833,0.2853187120503455,0.2842590910982987,0.2832013781596038,0.28214556450910666,0.28109164142803156,0.2800396002034744,0.27898943212789784,0.27794112849862246,0.276894680617309,0.2758500797894328,0.2748073173237587,0.2737663845317991,0.2727272727272726,0.2716899732255537,0.2706544773431148,0.26962077639695986,0.268588861704053,0.26755872458073443,0.2665303563421332],[0.3152249684261041,0.3140967616910866,0.3129706982068639,0.3118467684834306,0.3107249630457236,0.30960527243317,0.3084876871992066,0.3073721979108165,0.3062587951480485,0.3051474695035382,0.3040382115820215,0.30293101199984745,0.30182586138448003,0.3007227503740056,0.2996216696166209,0.2985226097701298,0.29742556150142374,0.29633051548596656,0.2952374624072641,0.29414639295633543,0.2930572978311778,0.29197016773621465,0.29088499338175644,0.2898017654834356,0.2887204747616445,0.2876411119409735,0.2865636677496224,0.2854881329188234,0.28441449818224773,0.2833427542754042,0.28227289193503263,0.28120490189848857,0.2801387749031218,0.27907450168563575,0.278012072981453,0.276951479524064,0.2758927120443613,0.27483576126997655,0.27378061792459635,0.27272727272727254,0.271675716391724,0.2706259396256229,0.2695779331298708,0.2685316875978696,0.267487193714772,0.26644444215672286,0.26540342359009084,0.26436412867068537,0.26332654804295885,0.2622906723391947],[0.311224961066966,0.31009122168397496,0.30895957943126245,0.30783002439832347,0.3067025466834467,0.3055771363931439,0.3044537836415646,0.30333247854990736,0.30221321124582773,0.30109597186283216,0.29998075053966466,0.298867537419699,0.29775632265030605,0.2966470963822224,0.2955398487689122,0.2944345699659122,0.29333125013018047,0.2922298794194206,0.29113044799142007,0.2900329460033467,0.28893736361107003,0.2878436909684443,0.2867519182266015,0.28566203553322095,0.28457403303179474,0.2834879008608784,0.2824036291533346,0.2813212080355599,0.2802406276267039,0.2791618780378714,0.27808494937131617,0.2770098317196187,0.2759365151648501,0.2748649897777233,0.27379524561673346,0.2727272727272724,0.27166106114074323,0.2705966008736437,0.26953388192664507,0.2684728942836505,0.2674136279108331,0.26635607275566164,0.2653002187459011,0.2642460557886085,0.2631935737690882,0.2621427625498487,0.26109361196952185,0.26004611184177506,0.2590002519541921,0.2579560220671357],[0.307157322243937,0.30601751710991193,0.30487975687118146,0.3037440311028262,0.3026103293807494,0.30147864128094126,0.30034895637874093,0.299221264248087,0.29809555446074926,0.296971816585566,0.2958500401876493,0.29473021482759554,0.29361233006067666,0.29249637543601376,0.2913823404957514,0.2902702147742051,0.28915998779700286,0.2880516490802121,0.28694518812945286,0.2858405944389868,0.284737857490807,0.28363696675369804,0.2825379116822901,0.28144068171608727,0.2803452662784852,0.27925165477577063,0.27815983659610083,0.2770698011084627,0.27598153766161687,0.27489503558302164,0.2738102841777298,0.27272727272727276,0.27164599048852045,0.27056642669251607,0.2694885705432908,0.2684124112166524,0.26733793785895293,0.26626513958582937,0.2651940054809148,0.2641245245945283,0.26305668594233694,0.26199047850398405,0.26092589122169363,0.2598629129988393,0.2588015326984914,0.25774173914191945,0.25668352110706877,0.2556268673270065,0.25457176648832097,0.25351820722949336],[0.30301756416400205,0.30187109772630755,0.3007266167388892,0.29958411014499964,0.2984435668783121,0.29730497586196836,0.2961683260076216,0.2950336062144481,0.29390080536816665,0.29276991234001437,0.29164091598572406,0.29051380514447284,0.28938856863781837,0.2882651952686095,0.28714367381987943,0.2860239930537252,0.2849061417101583,0.2837901085059296,0.2826758821333445,0.281563451259046,0.2804528045227764,0.2793439305361099,0.2782368178811753,0.27713145510932813,0.2760278307398211,0.2749259332584264,0.27382575111604374,0.2727272727272728,0.2716304864689535,0.2705353806786794,0.2694419436532758,0.2683501636472487,0.2672600288711916,0.2661715274901638,0.26508464762203293,0.26399937733576756,0.2629157046497107,0.26183361752979456,0.26075310388772427,0.2596741515791126,0.2585967484015803,0.2575208820927938,0.25644654032847275,0.2553737107203385,0.2543023808140153,0.25323253808687635,0.252164169945843,0.2510972637251174,0.2500318066838658,0.2489677860038399],[0.2988006841351735,0.29764688792917493,0.2964950091711064,0.2953450360244211,0.2941969566293318,0.29305075910155476,0.2919064315310442,0.2907639619806947,0.2896233384850096,0.2884845490487561,0.28734758164558744,0.286212424216638,0.28507906466908656,0.2839474908746924,0.28281769066830786,0.2816896518463397,0.2805633621652013,0.27943880933971227,0.2783159810414783,0.27719486489722156,0.27607544848708115,0.2749577193428812,0.2738416649463423,0.27272727272727254,0.2716145300617026,0.2705034242699801,0.2693939426148237,0.2682860722993261,0.2671798004649104,0.2660751141892405,0.26497200048407343,0.2638704462930645,0.2627704384895157,0.26167196387406816,0.26057500917233645,0.25947956103248193,0.25838560602272037,0.25729313062877374,0.2562021212512454,0.25511256420293005,0.2540244457060554,0.25293775188944456,0.2518524687855981,0.2507685823277115,0.24968607834658932,0.24860494256749166,0.24752516060688604,0.24644671796909734,0.2453696000428799,0.244293792097881],[0.29450107797971387,0.29333919782093637,0.2921791568787471,0.29102094234864,0.2898645413847973,0.28870994109841236,0.2875571285559678,0.2864060907774905,0.28525681473475056,0.28410928734943314,0.28296349549126887,0.2818194259760998,0.28067706556393535,0.2795364009569384,0.2783974187973637,0.2772601056654642,0.2761244480773299,0.2749904324826815,0.2738580452626134,0.27272727272727226,0.2715981011134858,0.2704705165823265,0.2693445052166169,0.26822005301837004,0.2670971459061631,0.26597576971244064,0.26485591018075705,0.26373755296292567,0.2626206836161177,0.2615052875998571,0.26039135027295707,0.2592788568903533,0.258167792599861,0.25705814243883873,0.2559498913307545,0.25484302408166015,0.2537375253765615,0.25263337977568495,0.25153057171063525,0.2504290854804365,0.2493289052474642,0.2482300150332472,0.24713239871415227,0.24603604001692597,0.24494092251411334,0.24384702961932403,0.2427543445823558,0.2416628504841705,0.24057253023169742,0.23948336655248353],[0.2901124337850615,0.28894161394247714,0.28777254276157493,0.28660520622829083,0.28543959026313326,0.2842756807188736,0.2831134633782176,0.2819529239513811,0.2807940480736296,0.2796368213027496,0.2784812291164491,0.27732725690970494,0.2761748899920276,0.2750241135846672,0.27387491281773924,0.2727272727272731,0.27158117825218603,0.27043661423117576,0.2692935653995251,0.26815201638582203,0.2670119517085853,0.26587335577279947,0.2647362128663553,0.26360050715637906,0.2624662226854677,0.2613333433678093,0.2602018529851926,0.25907173518289633,0.25794297346546424,0.2568155511923471,0.2556894515734132,0.25456465766432756,0.25344115236178894,0.25231891839861526,0.25119793833867676,0.2500781945716804,0.248959669307772,0.2478423445719781,0.24672620219847066,0.24561122382462883,0.24449739088493133,0.24338468460462667,0.2422730859931994,0.24116257583761858,0.2400531346953573,0.23894474288717338,0.23783738048963432,0.23673102732739784,0.23562566296520568,0.23452126669960238],[0.28562760024469797,0.2844468636810076,0.28326777024765626,0.2820903044073893,0.28091445052499187,0.27974019286410523,0.2785675155839617,0.277396402736017,0.27622683826050265,0.2750588059828775,0.27389228961017836,0.2727272727272733,0.271563738793,0.2704016711362038,0.2692410529516488,0.26808186729582106,0.2669240970825999,0.26576772507880214,0.26461273389959966,0.26345910600378725,0.2623068236889138,0.2611558690862626,0.26000622415567215,0.2588578706802029,0.25771079026062965,0.256564964309753,0.2554203740465453,0.2542770004900913,0.2531348244533343,0.2519938265366287,0.2508539871210568,0.24971528636154539,0.24857770417972738,0.24744122025657997,0.24630581402479726,0.24517146466090098,0.24403815107708116,0.24290585191274208,0.2417745455257525,0.24064420998337577,0.23951482305288269,0.2383863621918071,0.23725880453785425,0.23613212689843355,0.23500630573978723,0.23388131717572255,0.23275713695590275,0.23163374045369586,0.23051110265354205,0.22938919813783162],[0.2810384217433374,0.27984664516274377,0.2786563878043264,0.2774676321954959,0.2762803607213281,0.27509455562007284,0.27391019897852814,0.27272727272727254,0.2715457586357593,0.27036563830725274,0.26918689317361794,0.2680095044899431,0.2668334533289912,0.2656587205754816,0.26448528692019024,0.26331313285385427,0.26214223866088165,0.260972584412864,0.259804149961856,0.25863691493345575,0.2574708587196247,0.2563059604712975,0.25514219909071056,0.2539795532234874,0.2528180012504293,0.25165752127904134,0.25049809113474064,0.24933968835175896,0.24818229016371857,0.24702587349386398,0.24587041494494152,0.2447158907886916,0.24356227695496832,0.24240954902043532,0.24125768219684082,0.2401066513188429,0.23895643083135742,0.2378069947764249,0.23665831677955226,0.23551037003551265,0.2343631272935816,0.23321656084216896,0.23207064249283021,0.23092534356361494,0.2297806348617219,0.22863648666542713,0.22749286870524302,0.22634975014427824,0.22520709955773446,0.2240648849115165],[0.27633552930690336,0.2751314112456883,0.2739286657048052,0.27272727272727254,0.2715272121524173,0.27032846360942364,0.2691310065106861,0.2679348200449261,0.266739883170093,0.26554617460602364,0.26435367282685257,0.26316235605316707,0.2619722022438851,0.2607831890878625,0.2595952939952016,0.2584084940882474,0.257222766192273,0.25603808682582563,0.2548544321907277,0.25367177816169795,0.2524901002756131,0.2513093737203468,0.25012957332320873,0.24895067353893205,0.24777264843720628,0.24659547168973336,0.24541911655677068,0.2442435558731587,0.24306876203377736,0.2418947069784354,0.24072136217613951,0.2395486986087276,0.23837668675382423,0.23720529656708858,0.23603449746371788,0.23486425829916752,0.23369454734904194,0.2325253322881208,0.23135658016846838,0.23018825739657287,0.2290203297094793,0.22785276214983205,0.2266855190397999,0.2255185639537892,0.22435185968990062,0.2231853682400426,0.22201905075863043,0.22085286752978595,0.21968677793294286,0.218520740406784],[0.2715080720635993,0.2702900915048798,0.2690733081476449,0.26785769880766624,0.2666432400108535,0.2654299079838462,0.26421767864425705,0.26300652759056886,0.26179643009166487,0.2605873610759712,0.2593792951201966,0.2581722064376586,0.25696606886616075,0.25576085585541314,0.25455654045397025,0.2533530952956558,0.2521504925854663,0.2509487040849116,0.24974770109677355,0.24854745444924733,0.24734793447944523,0.24614911101621856,0.2449509533622741,0.24375343027553195,0.242556509949709,0.2413601599940748,0.2401643474123168,0.23896903858051655,0.23777419922413381,0.23657979439398524,0.235385788441135,0.23419214499066388,0.23299882691422855,0.23180579630134612,0.23061301442935891,0.2294204417319671,0.22822803776626027,0.2270357611781651,0.22584356966621036,0.2246514199434992,0.22345926769780045,0.22226706754961073,0.22107477300810183,0.2198823364247796,0.21868970894473777,0.21749684045534082,0.2163036795321657,0.21511017338202468,0.2139162677828778,0.21272190702041913],[0.26654336712092647,0.265309728963584,0.2640770762641095,0.26284538158813137,0.2616146170882472,0.26038475448998477,0.25915576507722937,0.25792761967705746,0.2567002886439757,0.2554737418435164,0.254247948635171,0.2530228778546228,0.25179849779523567,0.25057477618877827,0.249351680185321,0.24812917633228268,0.24690723055257008,0.24568580812176805,0.24446487364431577,0.24324439102864262,0.24202432346116634,0.2408046333791291,0.23958528244217536,0.23836623150261968,0.23714744057432732,0.23592886880010752,0.23471047441756704,0.23349221472329687,0.23227404603531845,0.2310559236536705,0.22983780181902963,0.22861963366924046,0.22740137119361897,0.2261829651849039,0.22496436518868967,0.22374551945018264,0.22252637485812124,0.22130687688563494,0.22008696952788942,0.21886659523624363,0.21764569484873164,0.21642420751657332,0.2152020706264586,0.21397921971829614,0.212755588398099,0.2115311082456506,0.21030570871657087,0.20907931703836094,0.20785185809994747,0.20662325433427323],[0.2614264353570095,0.2601749972648294,0.2589242857917305,0.25767426781605496,0.25642490962334064,0.25517617688492505,0.2539280346356323,0.25268044725048433,0.2514333784203872,0.25018679112674275,0.24894064761491572,0.2476949093664984,0.2464495370703075,0.24520449059203775,0.24395972894249213,0.24271521024431664,0.24147089169713676,0.2402267295410214,0.2389826790181476,0.23773869433259065,0.236494728608088,0.2352507338436851,0.23400666086710684,0.23276245928572634,0.23151807743497202,0.23027346232400117,0.2290285595784716,0.2277833133802182,0.22653766640361836,0.22529155974843085,0.22404493286886032,0.22279772349859386,0.22154986757151768,0.2203012991378106,0.21905195027507374,0.21780175099415378,0.2165506291392369,0.21529851028181715,0.21404531760803105,0.21279097179890827,0.21153539090290896,0.21027849020020808,0.2090201820580054,0.20776037577617004,0.20649897742239604,0.20523588965598905,0.20397101153933306,0.20270423833592893,0.20143546129387227,0.20016456741342453],[0.256139374116817,0.2548675463641539,0.25359612439097334,0.25232506732161847,0.25105433341879846,0.24978388005008942,0.24851366365286484,0.24724363969751356,0.24597376264889612,0.2447039859258719,0.24343426185884573,0.242164541645157,0.24089477530220538,0.2396249116181682,0.238354898100152,0.23708468091960308,0.23581420485483245,0.23454341323040498,0.23327224785326325,0.23200064894528924,0.23072855507211024,0.22945590306786418,0.22818262795566494,0.22690866286342642,0.22563393893475428,0.2243583852345153,0.22308192864869802,0.22180449377815548,0.22052600282574822,0.21924637547637882,0.21796552876938266,0.21668337696266127,0.21539983138788443,0.2141148002960662,0.21282818869268877,0.21153989816151392,0.21024982667613581,0.20895786839817765,0.20766391346101148,0.2063678477376631,0.2050695525915155,0.20376890460818783,0.20246577530686136,0.20116003082908476,0.199851531602863,0.19854013197962464,0.19722567984133052,0.19590801617466158,0.19458697460889646,0.19326238091358508],[0.25066049079331737,0.24936509587199499,0.24806970253243868,0.24677425909102185,0.24547871258872137,0.2441830087370544,0.24288709186114343,0.24159090483973886,0.2402943890419854,0.23899748426072856,0.23770012864210513,0.23640225861119274,0.23510380879340756,0.23380471193138777,0.23250489879701214,0.23120429809821613,0.22990283638023024,0.22860043792080637,0.22729702461900148,0.22599251587701996,0.2246868284745763,0.22337987643519414,0.22207157088380217,0.2207618198949256,0.21945052833070458,0.21813759766789545,0.21682292581291968,0.21550640690395603,0.214187931098926,0.21286738434815908,0.21154464815032534,0.21021959929014528,0.208892109556177,0.20756204543678963,0.20622926779225476,0.2048936315006125,0.20355498507471356,0.20221317024752364,0.20086802152241992,0.19951936568481493,0.1981670212709655,0.19681079798930168,0.19545049608899964,0.19408590566980755,0.0013687978365099851,0.001364958055980095,0.001361141423514549,0.0013573477161353713,0.0013535767137098477,0.0013498281993312548],[0.24496307547671853,0.24364014582377835,0.24231669867072525,0.24099266686563942,0.23966798132211406,0.23834257092862035,0.23701636245250643,0.2356892804382322,0.2343612470993937,0.23303218220410485,0.2317020029531931,0.23037062385067184,0.22903795656588483,0.22770390978664531,0.22636838906266463,0.2250312966384437,0.22369253127478358,0.22235198805793593,0.22100955819531964,0.21966512879667827,0.21831858263933965,0.21696979791617704,0.21561864796468713,0.21426500097542361,0.21290871967784228,0.21154966100137648,0.21018767570933647,0.20882260800290814,0.2074542950922314,0.2060825667311461,0.20470724471180715,0.20332814231482602,0.201945063710103,0.0012836374891585585,0.0012802806039037369,0.0012769424824444953,0.0012736229578739473,0.0012703218653656455,0.0012670390421398573,0.001263774327431094,0.0012605275624538788,0.0012572985903737185,0.0012540872562735725,0.0012508934071246884,0.0012477168917558806,0.0012445575608251726,0.0012414152667903926,0.0012382898638797013,0.0012351812080675477,0.0012320891570439703]],\"type\":\"surface\"}],                        {\"template\":{\"data\":{\"bar\":[{\"error_x\":{\"color\":\"#2a3f5f\"},\"error_y\":{\"color\":\"#2a3f5f\"},\"marker\":{\"line\":{\"color\":\"#E5ECF6\",\"width\":0.5},\"pattern\":{\"fillmode\":\"overlay\",\"size\":10,\"solidity\":0.2}},\"type\":\"bar\"}],\"barpolar\":[{\"marker\":{\"line\":{\"color\":\"#E5ECF6\",\"width\":0.5},\"pattern\":{\"fillmode\":\"overlay\",\"size\":10,\"solidity\":0.2}},\"type\":\"barpolar\"}],\"carpet\":[{\"aaxis\":{\"endlinecolor\":\"#2a3f5f\",\"gridcolor\":\"white\",\"linecolor\":\"white\",\"minorgridcolor\":\"white\",\"startlinecolor\":\"#2a3f5f\"},\"baxis\":{\"endlinecolor\":\"#2a3f5f\",\"gridcolor\":\"white\",\"linecolor\":\"white\",\"minorgridcolor\":\"white\",\"startlinecolor\":\"#2a3f5f\"},\"type\":\"carpet\"}],\"choropleth\":[{\"colorbar\":{\"outlinewidth\":0,\"ticks\":\"\"},\"type\":\"choropleth\"}],\"contour\":[{\"colorbar\":{\"outlinewidth\":0,\"ticks\":\"\"},\"colorscale\":[[0.0,\"#0d0887\"],[0.1111111111111111,\"#46039f\"],[0.2222222222222222,\"#7201a8\"],[0.3333333333333333,\"#9c179e\"],[0.4444444444444444,\"#bd3786\"],[0.5555555555555556,\"#d8576b\"],[0.6666666666666666,\"#ed7953\"],[0.7777777777777778,\"#fb9f3a\"],[0.8888888888888888,\"#fdca26\"],[1.0,\"#f0f921\"]],\"type\":\"contour\"}],\"contourcarpet\":[{\"colorbar\":{\"outlinewidth\":0,\"ticks\":\"\"},\"type\":\"contourcarpet\"}],\"heatmap\":[{\"colorbar\":{\"outlinewidth\":0,\"ticks\":\"\"},\"colorscale\":[[0.0,\"#0d0887\"],[0.1111111111111111,\"#46039f\"],[0.2222222222222222,\"#7201a8\"],[0.3333333333333333,\"#9c179e\"],[0.4444444444444444,\"#bd3786\"],[0.5555555555555556,\"#d8576b\"],[0.6666666666666666,\"#ed7953\"],[0.7777777777777778,\"#fb9f3a\"],[0.8888888888888888,\"#fdca26\"],[1.0,\"#f0f921\"]],\"type\":\"heatmap\"}],\"heatmapgl\":[{\"colorbar\":{\"outlinewidth\":0,\"ticks\":\"\"},\"colorscale\":[[0.0,\"#0d0887\"],[0.1111111111111111,\"#46039f\"],[0.2222222222222222,\"#7201a8\"],[0.3333333333333333,\"#9c179e\"],[0.4444444444444444,\"#bd3786\"],[0.5555555555555556,\"#d8576b\"],[0.6666666666666666,\"#ed7953\"],[0.7777777777777778,\"#fb9f3a\"],[0.8888888888888888,\"#fdca26\"],[1.0,\"#f0f921\"]],\"type\":\"heatmapgl\"}],\"histogram\":[{\"marker\":{\"pattern\":{\"fillmode\":\"overlay\",\"size\":10,\"solidity\":0.2}},\"type\":\"histogram\"}],\"histogram2d\":[{\"colorbar\":{\"outlinewidth\":0,\"ticks\":\"\"},\"colorscale\":[[0.0,\"#0d0887\"],[0.1111111111111111,\"#46039f\"],[0.2222222222222222,\"#7201a8\"],[0.3333333333333333,\"#9c179e\"],[0.4444444444444444,\"#bd3786\"],[0.5555555555555556,\"#d8576b\"],[0.6666666666666666,\"#ed7953\"],[0.7777777777777778,\"#fb9f3a\"],[0.8888888888888888,\"#fdca26\"],[1.0,\"#f0f921\"]],\"type\":\"histogram2d\"}],\"histogram2dcontour\":[{\"colorbar\":{\"outlinewidth\":0,\"ticks\":\"\"},\"colorscale\":[[0.0,\"#0d0887\"],[0.1111111111111111,\"#46039f\"],[0.2222222222222222,\"#7201a8\"],[0.3333333333333333,\"#9c179e\"],[0.4444444444444444,\"#bd3786\"],[0.5555555555555556,\"#d8576b\"],[0.6666666666666666,\"#ed7953\"],[0.7777777777777778,\"#fb9f3a\"],[0.8888888888888888,\"#fdca26\"],[1.0,\"#f0f921\"]],\"type\":\"histogram2dcontour\"}],\"mesh3d\":[{\"colorbar\":{\"outlinewidth\":0,\"ticks\":\"\"},\"type\":\"mesh3d\"}],\"parcoords\":[{\"line\":{\"colorbar\":{\"outlinewidth\":0,\"ticks\":\"\"}},\"type\":\"parcoords\"}],\"pie\":[{\"automargin\":true,\"type\":\"pie\"}],\"scatter\":[{\"marker\":{\"colorbar\":{\"outlinewidth\":0,\"ticks\":\"\"}},\"type\":\"scatter\"}],\"scatter3d\":[{\"line\":{\"colorbar\":{\"outlinewidth\":0,\"ticks\":\"\"}},\"marker\":{\"colorbar\":{\"outlinewidth\":0,\"ticks\":\"\"}},\"type\":\"scatter3d\"}],\"scattercarpet\":[{\"marker\":{\"colorbar\":{\"outlinewidth\":0,\"ticks\":\"\"}},\"type\":\"scattercarpet\"}],\"scattergeo\":[{\"marker\":{\"colorbar\":{\"outlinewidth\":0,\"ticks\":\"\"}},\"type\":\"scattergeo\"}],\"scattergl\":[{\"marker\":{\"colorbar\":{\"outlinewidth\":0,\"ticks\":\"\"}},\"type\":\"scattergl\"}],\"scattermapbox\":[{\"marker\":{\"colorbar\":{\"outlinewidth\":0,\"ticks\":\"\"}},\"type\":\"scattermapbox\"}],\"scatterpolar\":[{\"marker\":{\"colorbar\":{\"outlinewidth\":0,\"ticks\":\"\"}},\"type\":\"scatterpolar\"}],\"scatterpolargl\":[{\"marker\":{\"colorbar\":{\"outlinewidth\":0,\"ticks\":\"\"}},\"type\":\"scatterpolargl\"}],\"scatterternary\":[{\"marker\":{\"colorbar\":{\"outlinewidth\":0,\"ticks\":\"\"}},\"type\":\"scatterternary\"}],\"surface\":[{\"colorbar\":{\"outlinewidth\":0,\"ticks\":\"\"},\"colorscale\":[[0.0,\"#0d0887\"],[0.1111111111111111,\"#46039f\"],[0.2222222222222222,\"#7201a8\"],[0.3333333333333333,\"#9c179e\"],[0.4444444444444444,\"#bd3786\"],[0.5555555555555556,\"#d8576b\"],[0.6666666666666666,\"#ed7953\"],[0.7777777777777778,\"#fb9f3a\"],[0.8888888888888888,\"#fdca26\"],[1.0,\"#f0f921\"]],\"type\":\"surface\"}],\"table\":[{\"cells\":{\"fill\":{\"color\":\"#EBF0F8\"},\"line\":{\"color\":\"white\"}},\"header\":{\"fill\":{\"color\":\"#C8D4E3\"},\"line\":{\"color\":\"white\"}},\"type\":\"table\"}]},\"layout\":{\"annotationdefaults\":{\"arrowcolor\":\"#2a3f5f\",\"arrowhead\":0,\"arrowwidth\":1},\"autotypenumbers\":\"strict\",\"coloraxis\":{\"colorbar\":{\"outlinewidth\":0,\"ticks\":\"\"}},\"colorscale\":{\"diverging\":[[0,\"#8e0152\"],[0.1,\"#c51b7d\"],[0.2,\"#de77ae\"],[0.3,\"#f1b6da\"],[0.4,\"#fde0ef\"],[0.5,\"#f7f7f7\"],[0.6,\"#e6f5d0\"],[0.7,\"#b8e186\"],[0.8,\"#7fbc41\"],[0.9,\"#4d9221\"],[1,\"#276419\"]],\"sequential\":[[0.0,\"#0d0887\"],[0.1111111111111111,\"#46039f\"],[0.2222222222222222,\"#7201a8\"],[0.3333333333333333,\"#9c179e\"],[0.4444444444444444,\"#bd3786\"],[0.5555555555555556,\"#d8576b\"],[0.6666666666666666,\"#ed7953\"],[0.7777777777777778,\"#fb9f3a\"],[0.8888888888888888,\"#fdca26\"],[1.0,\"#f0f921\"]],\"sequentialminus\":[[0.0,\"#0d0887\"],[0.1111111111111111,\"#46039f\"],[0.2222222222222222,\"#7201a8\"],[0.3333333333333333,\"#9c179e\"],[0.4444444444444444,\"#bd3786\"],[0.5555555555555556,\"#d8576b\"],[0.6666666666666666,\"#ed7953\"],[0.7777777777777778,\"#fb9f3a\"],[0.8888888888888888,\"#fdca26\"],[1.0,\"#f0f921\"]]},\"colorway\":[\"#636efa\",\"#EF553B\",\"#00cc96\",\"#ab63fa\",\"#FFA15A\",\"#19d3f3\",\"#FF6692\",\"#B6E880\",\"#FF97FF\",\"#FECB52\"],\"font\":{\"color\":\"#2a3f5f\"},\"geo\":{\"bgcolor\":\"white\",\"lakecolor\":\"white\",\"landcolor\":\"#E5ECF6\",\"showlakes\":true,\"showland\":true,\"subunitcolor\":\"white\"},\"hoverlabel\":{\"align\":\"left\"},\"hovermode\":\"closest\",\"mapbox\":{\"style\":\"light\"},\"paper_bgcolor\":\"white\",\"plot_bgcolor\":\"#E5ECF6\",\"polar\":{\"angularaxis\":{\"gridcolor\":\"white\",\"linecolor\":\"white\",\"ticks\":\"\"},\"bgcolor\":\"#E5ECF6\",\"radialaxis\":{\"gridcolor\":\"white\",\"linecolor\":\"white\",\"ticks\":\"\"}},\"scene\":{\"xaxis\":{\"backgroundcolor\":\"#E5ECF6\",\"gridcolor\":\"white\",\"gridwidth\":2,\"linecolor\":\"white\",\"showbackground\":true,\"ticks\":\"\",\"zerolinecolor\":\"white\"},\"yaxis\":{\"backgroundcolor\":\"#E5ECF6\",\"gridcolor\":\"white\",\"gridwidth\":2,\"linecolor\":\"white\",\"showbackground\":true,\"ticks\":\"\",\"zerolinecolor\":\"white\"},\"zaxis\":{\"backgroundcolor\":\"#E5ECF6\",\"gridcolor\":\"white\",\"gridwidth\":2,\"linecolor\":\"white\",\"showbackground\":true,\"ticks\":\"\",\"zerolinecolor\":\"white\"}},\"shapedefaults\":{\"line\":{\"color\":\"#2a3f5f\"}},\"ternary\":{\"aaxis\":{\"gridcolor\":\"white\",\"linecolor\":\"white\",\"ticks\":\"\"},\"baxis\":{\"gridcolor\":\"white\",\"linecolor\":\"white\",\"ticks\":\"\"},\"bgcolor\":\"#E5ECF6\",\"caxis\":{\"gridcolor\":\"white\",\"linecolor\":\"white\",\"ticks\":\"\"}},\"title\":{\"x\":0.05},\"xaxis\":{\"automargin\":true,\"gridcolor\":\"white\",\"linecolor\":\"white\",\"ticks\":\"\",\"title\":{\"standoff\":15},\"zerolinecolor\":\"white\",\"zerolinewidth\":2},\"yaxis\":{\"automargin\":true,\"gridcolor\":\"white\",\"linecolor\":\"white\",\"ticks\":\"\",\"title\":{\"standoff\":15},\"zerolinecolor\":\"white\",\"zerolinewidth\":2}}},\"margin\":{\"l\":65,\"r\":50,\"b\":100,\"t\":90},\"scene\":{\"xaxis\":{\"nticks\":7,\"range\":[0,1]},\"yaxis\":{\"nticks\":7,\"range\":[0,2]}},\"title\":{\"text\":\"Effect of kappa and theta on final equilibrium\"},\"autosize\":false,\"width\":500,\"height\":500},                        {\"responsive\": true}                    ).then(function(){\n",
       "                            \n",
       "var gd = document.getElementById('eb8ef055-d8df-4d9c-88d9-19e0e3404e3f');\n",
       "var x = new MutationObserver(function (mutations, observer) {{\n",
       "        var display = window.getComputedStyle(gd).display;\n",
       "        if (!display || display === 'none') {{\n",
       "            console.log([gd, 'removed!']);\n",
       "            Plotly.purge(gd);\n",
       "            observer.disconnect();\n",
       "        }}\n",
       "}});\n",
       "\n",
       "// Listen for the removal of the full notebook cells\n",
       "var notebookContainer = gd.closest('#notebook-container');\n",
       "if (notebookContainer) {{\n",
       "    x.observe(notebookContainer, {childList: true});\n",
       "}}\n",
       "\n",
       "// Listen for the clearing of the current output cell\n",
       "var outputEl = gd.closest('.output');\n",
       "if (outputEl) {{\n",
       "    x.observe(outputEl, {childList: true});\n",
       "}}\n",
       "\n",
       "                        })                };                });            </script>        </div>"
      ]
     },
     "metadata": {},
     "output_type": "display_data"
    }
   ],
   "source": [
    "x, y = np.linspace(0.02,1,50), np.linspace(0.04,2,50)\n",
    "fig = go.Figure(data=[go.Surface(z=z_data, x=x, y=y)])\n",
    "fig.update_layout(title='Effect of kappa and theta on final equilibrium', autosize=False,\n",
    "                  width=500, height=500,\n",
    "                  margin=dict(l=65, r=50, b=100, t=90),\n",
    "                 scene = dict(\n",
    "                     xaxis = dict(nticks=7, range=[0,1],),\n",
    "                     yaxis = dict(nticks=7, range=[0,2],),\n",
    "                     ),\n",
    "                 )\n",
    "fig.show()"
   ]
  },
  {
   "cell_type": "markdown",
   "id": "3b29d783-af6e-450f-9f9f-439d3eef1037",
   "metadata": {},
   "source": [
    "We can see that increasing the values of $(\\kappa,\\theta)$ leads to lower equilibrium points.\n",
    "At a at high values of $\\kappa$ the equilibrium attained is the semi-disease-free case."
   ]
  },
  {
   "cell_type": "code",
   "execution_count": 123,
   "id": "cbd6c570-84f2-4335-8281-a1b518f40f27",
   "metadata": {},
   "outputs": [],
   "source": [
    "# To create the variable in matlab. to plot #\n",
    "# z_data_matlab = '['\n",
    "# for row in z_data:\n",
    "#     row_str = [str(r) for r in row]\n",
    "#     z_data_matlab = z_data_matlab+','.join(row_str)+';\\n'\n",
    "# z_data_matlab = z_data_matlab + ']'\n",
    "# print(z_data_matlab)"
   ]
  },
  {
   "cell_type": "markdown",
   "id": "03cf3666-080b-4d10-bb9d-f0be3d2b06dd",
   "metadata": {},
   "source": [
    "## Region $\\mathcal{R_3}$ window\n",
    "Computations done in parallel. Look `computeR3window.py`"
   ]
  },
  {
   "cell_type": "code",
   "execution_count": 33,
   "id": "38cc59b4-a3f5-4077-ac33-e081def9198b",
   "metadata": {},
   "outputs": [
    {
     "data": {
      "text/html": [
       "<div>\n",
       "<style scoped>\n",
       "    .dataframe tbody tr th:only-of-type {\n",
       "        vertical-align: middle;\n",
       "    }\n",
       "\n",
       "    .dataframe tbody tr th {\n",
       "        vertical-align: top;\n",
       "    }\n",
       "\n",
       "    .dataframe thead th {\n",
       "        text-align: right;\n",
       "    }\n",
       "</style>\n",
       "<table border=\"1\" class=\"dataframe\">\n",
       "  <thead>\n",
       "    <tr style=\"text-align: right;\">\n",
       "      <th></th>\n",
       "      <th>kappa</th>\n",
       "      <th>theta</th>\n",
       "      <th>R0</th>\n",
       "      <th>num_roots</th>\n",
       "    </tr>\n",
       "  </thead>\n",
       "  <tbody>\n",
       "    <tr>\n",
       "      <th>0</th>\n",
       "      <td>0.05</td>\n",
       "      <td>0.05</td>\n",
       "      <td>1.000000</td>\n",
       "      <td>1</td>\n",
       "    </tr>\n",
       "    <tr>\n",
       "      <th>1</th>\n",
       "      <td>0.05</td>\n",
       "      <td>0.05</td>\n",
       "      <td>1.000302</td>\n",
       "      <td>1</td>\n",
       "    </tr>\n",
       "    <tr>\n",
       "      <th>2</th>\n",
       "      <td>0.05</td>\n",
       "      <td>0.05</td>\n",
       "      <td>1.000603</td>\n",
       "      <td>1</td>\n",
       "    </tr>\n",
       "    <tr>\n",
       "      <th>3</th>\n",
       "      <td>0.05</td>\n",
       "      <td>0.05</td>\n",
       "      <td>1.000905</td>\n",
       "      <td>1</td>\n",
       "    </tr>\n",
       "    <tr>\n",
       "      <th>4</th>\n",
       "      <td>0.05</td>\n",
       "      <td>0.05</td>\n",
       "      <td>1.001206</td>\n",
       "      <td>1</td>\n",
       "    </tr>\n",
       "    <tr>\n",
       "      <th>...</th>\n",
       "      <td>...</td>\n",
       "      <td>...</td>\n",
       "      <td>...</td>\n",
       "      <td>...</td>\n",
       "    </tr>\n",
       "    <tr>\n",
       "      <th>159995</th>\n",
       "      <td>1.00</td>\n",
       "      <td>2.00</td>\n",
       "      <td>1.058794</td>\n",
       "      <td>3</td>\n",
       "    </tr>\n",
       "    <tr>\n",
       "      <th>159996</th>\n",
       "      <td>1.00</td>\n",
       "      <td>2.00</td>\n",
       "      <td>1.059095</td>\n",
       "      <td>1</td>\n",
       "    </tr>\n",
       "    <tr>\n",
       "      <th>159997</th>\n",
       "      <td>1.00</td>\n",
       "      <td>2.00</td>\n",
       "      <td>1.059397</td>\n",
       "      <td>1</td>\n",
       "    </tr>\n",
       "    <tr>\n",
       "      <th>159998</th>\n",
       "      <td>1.00</td>\n",
       "      <td>2.00</td>\n",
       "      <td>1.059698</td>\n",
       "      <td>1</td>\n",
       "    </tr>\n",
       "    <tr>\n",
       "      <th>159999</th>\n",
       "      <td>1.00</td>\n",
       "      <td>2.00</td>\n",
       "      <td>1.060000</td>\n",
       "      <td>1</td>\n",
       "    </tr>\n",
       "  </tbody>\n",
       "</table>\n",
       "<p>160000 rows × 4 columns</p>\n",
       "</div>"
      ],
      "text/plain": [
       "        kappa  theta        R0  num_roots\n",
       "0        0.05   0.05  1.000000          1\n",
       "1        0.05   0.05  1.000302          1\n",
       "2        0.05   0.05  1.000603          1\n",
       "3        0.05   0.05  1.000905          1\n",
       "4        0.05   0.05  1.001206          1\n",
       "...       ...    ...       ...        ...\n",
       "159995   1.00   2.00  1.058794          3\n",
       "159996   1.00   2.00  1.059095          1\n",
       "159997   1.00   2.00  1.059397          1\n",
       "159998   1.00   2.00  1.059698          1\n",
       "159999   1.00   2.00  1.060000          1\n",
       "\n",
       "[160000 rows x 4 columns]"
      ]
     },
     "execution_count": 33,
     "metadata": {},
     "output_type": "execute_result"
    }
   ],
   "source": [
    "r3windowdf = pd.read_csv(\"r3windowdf.csv\")\n",
    "r3windowdf"
   ]
  },
  {
   "cell_type": "code",
   "execution_count": 34,
   "id": "9adb84af-1a83-44da-a421-57ef683563a5",
   "metadata": {},
   "outputs": [
    {
     "data": {
      "text/plain": [
       "(205, 2)"
      ]
     },
     "execution_count": 34,
     "metadata": {},
     "output_type": "execute_result"
    }
   ],
   "source": [
    "combs_R3 = r3windowdf[r3windowdf['num_roots']==3][['kappa','theta']].drop_duplicates().reset_index(drop=True)\n",
    "combs_R3.shape"
   ]
  },
  {
   "cell_type": "code",
   "execution_count": 35,
   "id": "670395d3-fb13-4276-9999-ee33976c0c42",
   "metadata": {},
   "outputs": [
    {
     "name": "stderr",
     "output_type": "stream",
     "text": [
      "100%|███████████████████████████████████████████████████████████████████████████████| 205/205 [00:00<00:00, 422.37it/s]\n"
     ]
    },
    {
     "data": {
      "text/html": [
       "<div>\n",
       "<style scoped>\n",
       "    .dataframe tbody tr th:only-of-type {\n",
       "        vertical-align: middle;\n",
       "    }\n",
       "\n",
       "    .dataframe tbody tr th {\n",
       "        vertical-align: top;\n",
       "    }\n",
       "\n",
       "    .dataframe thead th {\n",
       "        text-align: right;\n",
       "    }\n",
       "</style>\n",
       "<table border=\"1\" class=\"dataframe\">\n",
       "  <thead>\n",
       "    <tr style=\"text-align: right;\">\n",
       "      <th></th>\n",
       "      <th>kappa</th>\n",
       "      <th>theta</th>\n",
       "      <th>R0_max</th>\n",
       "    </tr>\n",
       "  </thead>\n",
       "  <tbody>\n",
       "    <tr>\n",
       "      <th>0</th>\n",
       "      <td>0.05</td>\n",
       "      <td>1.55</td>\n",
       "      <td>1.000000</td>\n",
       "    </tr>\n",
       "    <tr>\n",
       "      <th>1</th>\n",
       "      <td>0.05</td>\n",
       "      <td>1.60</td>\n",
       "      <td>1.000905</td>\n",
       "    </tr>\n",
       "    <tr>\n",
       "      <th>2</th>\n",
       "      <td>0.05</td>\n",
       "      <td>1.65</td>\n",
       "      <td>1.003317</td>\n",
       "    </tr>\n",
       "    <tr>\n",
       "      <th>3</th>\n",
       "      <td>0.05</td>\n",
       "      <td>1.70</td>\n",
       "      <td>1.006935</td>\n",
       "    </tr>\n",
       "    <tr>\n",
       "      <th>4</th>\n",
       "      <td>0.05</td>\n",
       "      <td>1.75</td>\n",
       "      <td>1.011457</td>\n",
       "    </tr>\n",
       "    <tr>\n",
       "      <th>...</th>\n",
       "      <td>...</td>\n",
       "      <td>...</td>\n",
       "      <td>...</td>\n",
       "    </tr>\n",
       "    <tr>\n",
       "      <th>200</th>\n",
       "      <td>1.00</td>\n",
       "      <td>1.80</td>\n",
       "      <td>1.025628</td>\n",
       "    </tr>\n",
       "    <tr>\n",
       "      <th>201</th>\n",
       "      <td>1.00</td>\n",
       "      <td>1.85</td>\n",
       "      <td>1.033166</td>\n",
       "    </tr>\n",
       "    <tr>\n",
       "      <th>202</th>\n",
       "      <td>1.00</td>\n",
       "      <td>1.90</td>\n",
       "      <td>1.041005</td>\n",
       "    </tr>\n",
       "    <tr>\n",
       "      <th>203</th>\n",
       "      <td>1.00</td>\n",
       "      <td>1.95</td>\n",
       "      <td>1.049749</td>\n",
       "    </tr>\n",
       "    <tr>\n",
       "      <th>204</th>\n",
       "      <td>1.00</td>\n",
       "      <td>2.00</td>\n",
       "      <td>1.058794</td>\n",
       "    </tr>\n",
       "  </tbody>\n",
       "</table>\n",
       "<p>205 rows × 3 columns</p>\n",
       "</div>"
      ],
      "text/plain": [
       "     kappa  theta    R0_max\n",
       "0     0.05   1.55  1.000000\n",
       "1     0.05   1.60  1.000905\n",
       "2     0.05   1.65  1.003317\n",
       "3     0.05   1.70  1.006935\n",
       "4     0.05   1.75  1.011457\n",
       "..     ...    ...       ...\n",
       "200   1.00   1.80  1.025628\n",
       "201   1.00   1.85  1.033166\n",
       "202   1.00   1.90  1.041005\n",
       "203   1.00   1.95  1.049749\n",
       "204   1.00   2.00  1.058794\n",
       "\n",
       "[205 rows x 3 columns]"
      ]
     },
     "execution_count": 35,
     "metadata": {},
     "output_type": "execute_result"
    }
   ],
   "source": [
    "R0window_max = []\n",
    "\n",
    "for i in tqdm(range(combs_R3.shape[0])):\n",
    "    row = combs_R3.iloc[i]\n",
    "    kappa = row['kappa']\n",
    "    theta = row['theta']\n",
    "    r3windowdf_fil = r3windowdf[(r3windowdf['num_roots']==3) & (r3windowdf['kappa']==kappa) & (r3windowdf['theta']==theta)]\n",
    "    R0_max = r3windowdf_fil['R0'].max()\n",
    "    R0window_max.append(R0_max)\n",
    "\n",
    "r3windowdf_plot = pd.DataFrame({\n",
    "    'kappa': combs_R3['kappa'].tolist(),\n",
    "    'theta': combs_R3['theta'].tolist(),\n",
    "    'R0_max': R0window_max\n",
    "})\n",
    "\n",
    "r3windowdf_plot"
   ]
  },
  {
   "cell_type": "code",
   "execution_count": 36,
   "id": "0c9e09e9-febe-4d66-aa56-b76e1d03866b",
   "metadata": {},
   "outputs": [
    {
     "data": {
      "text/html": [
       "<div>\n",
       "<style scoped>\n",
       "    .dataframe tbody tr th:only-of-type {\n",
       "        vertical-align: middle;\n",
       "    }\n",
       "\n",
       "    .dataframe tbody tr th {\n",
       "        vertical-align: top;\n",
       "    }\n",
       "\n",
       "    .dataframe thead th {\n",
       "        text-align: right;\n",
       "    }\n",
       "</style>\n",
       "<table border=\"1\" class=\"dataframe\">\n",
       "  <thead>\n",
       "    <tr style=\"text-align: right;\">\n",
       "      <th>theta</th>\n",
       "      <th>1.5</th>\n",
       "      <th>1.55</th>\n",
       "      <th>1.6</th>\n",
       "      <th>1.65</th>\n",
       "      <th>1.7</th>\n",
       "      <th>1.75</th>\n",
       "      <th>1.8</th>\n",
       "      <th>1.85</th>\n",
       "      <th>1.9</th>\n",
       "      <th>1.95</th>\n",
       "      <th>2.0</th>\n",
       "    </tr>\n",
       "  </thead>\n",
       "  <tbody>\n",
       "    <tr>\n",
       "      <th>0.05</th>\n",
       "      <td>NaN</td>\n",
       "      <td>1.0</td>\n",
       "      <td>1.000905</td>\n",
       "      <td>1.003317</td>\n",
       "      <td>1.006935</td>\n",
       "      <td>1.011457</td>\n",
       "      <td>1.016884</td>\n",
       "      <td>1.022915</td>\n",
       "      <td>1.029849</td>\n",
       "      <td>1.037387</td>\n",
       "      <td>1.045226</td>\n",
       "    </tr>\n",
       "    <tr>\n",
       "      <th>0.10</th>\n",
       "      <td>NaN</td>\n",
       "      <td>1.0</td>\n",
       "      <td>1.000905</td>\n",
       "      <td>1.003618</td>\n",
       "      <td>1.007236</td>\n",
       "      <td>1.011759</td>\n",
       "      <td>1.017186</td>\n",
       "      <td>1.023518</td>\n",
       "      <td>1.030452</td>\n",
       "      <td>1.037990</td>\n",
       "      <td>1.045829</td>\n",
       "    </tr>\n",
       "    <tr>\n",
       "      <th>0.15</th>\n",
       "      <td>NaN</td>\n",
       "      <td>1.0</td>\n",
       "      <td>1.001206</td>\n",
       "      <td>1.003618</td>\n",
       "      <td>1.007538</td>\n",
       "      <td>1.012060</td>\n",
       "      <td>1.017789</td>\n",
       "      <td>1.024121</td>\n",
       "      <td>1.031055</td>\n",
       "      <td>1.038593</td>\n",
       "      <td>1.046432</td>\n",
       "    </tr>\n",
       "    <tr>\n",
       "      <th>0.20</th>\n",
       "      <td>NaN</td>\n",
       "      <td>1.0</td>\n",
       "      <td>1.001206</td>\n",
       "      <td>1.003920</td>\n",
       "      <td>1.007839</td>\n",
       "      <td>1.012362</td>\n",
       "      <td>1.018090</td>\n",
       "      <td>1.024422</td>\n",
       "      <td>1.031357</td>\n",
       "      <td>1.039196</td>\n",
       "      <td>1.047035</td>\n",
       "    </tr>\n",
       "    <tr>\n",
       "      <th>0.25</th>\n",
       "      <td>NaN</td>\n",
       "      <td>1.0</td>\n",
       "      <td>1.001508</td>\n",
       "      <td>1.004221</td>\n",
       "      <td>1.008141</td>\n",
       "      <td>1.012965</td>\n",
       "      <td>1.018693</td>\n",
       "      <td>1.025025</td>\n",
       "      <td>1.031960</td>\n",
       "      <td>1.039799</td>\n",
       "      <td>1.047940</td>\n",
       "    </tr>\n",
       "  </tbody>\n",
       "</table>\n",
       "</div>"
      ],
      "text/plain": [
       "theta  1.5  1.55       1.6      1.65       1.7      1.75       1.8      1.85  \\\n",
       "0.05   NaN   1.0  1.000905  1.003317  1.006935  1.011457  1.016884  1.022915   \n",
       "0.10   NaN   1.0  1.000905  1.003618  1.007236  1.011759  1.017186  1.023518   \n",
       "0.15   NaN   1.0  1.001206  1.003618  1.007538  1.012060  1.017789  1.024121   \n",
       "0.20   NaN   1.0  1.001206  1.003920  1.007839  1.012362  1.018090  1.024422   \n",
       "0.25   NaN   1.0  1.001508  1.004221  1.008141  1.012965  1.018693  1.025025   \n",
       "\n",
       "theta       1.9      1.95       2.0  \n",
       "0.05   1.029849  1.037387  1.045226  \n",
       "0.10   1.030452  1.037990  1.045829  \n",
       "0.15   1.031055  1.038593  1.046432  \n",
       "0.20   1.031357  1.039196  1.047035  \n",
       "0.25   1.031960  1.039799  1.047940  "
      ]
     },
     "execution_count": 36,
     "metadata": {},
     "output_type": "execute_result"
    }
   ],
   "source": [
    "r3windowdf_vals = r3windowdf_plot.pivot(index='kappa', columns='theta', values='R0_max').reset_index()##.set_index('column_name')\n",
    "r3windowdf_vals.index = r3windowdf_vals['kappa'].tolist()\n",
    "r3windowdf_vals = r3windowdf_vals.drop(['kappa'], axis=1)\n",
    "r3windowdf_vals.head(5)"
   ]
  },
  {
   "cell_type": "code",
   "execution_count": 37,
   "id": "4b10af9d-ec52-4eab-ad96-01d91d35158f",
   "metadata": {},
   "outputs": [
    {
     "data": {
      "text/plain": [
       "<AxesSubplot:xlabel='theta'>"
      ]
     },
     "execution_count": 37,
     "metadata": {},
     "output_type": "execute_result"
    },
    {
     "data": {
      "image/png": "[encoded data removed]",
      "text/plain": [
       "<Figure size 432x288 with 2 Axes>"
      ]
     },
     "metadata": {
      "needs_background": "light"
     },
     "output_type": "display_data"
    }
   ],
   "source": [
    "sns.heatmap(r3windowdf_vals, annot=False)"
   ]
  },
  {
   "cell_type": "code",
   "execution_count": 38,
   "id": "7ac5c6e6-6aa0-4d24-a564-b1caa8f0ff2f",
   "metadata": {},
   "outputs": [
    {
     "data": {
      "application/vnd.plotly.v1+json": {
       "config": {
        "plotlyServerURL": "https://plot.ly"
       },
       "data": [
        {
         "type": "surface",
         "x": [
          0.05,
          0.1,
          0.15,
          0.2,
          0.25,
          0.3,
          0.35,
          0.4,
          0.45,
          0.5,
          0.55,
          0.6,
          0.65,
          0.7,
          0.75,
          0.8,
          0.85,
          0.9,
          0.95,
          1
         ],
         "y": [
          1.5,
          1.55,
          1.6,
          1.65,
          1.7,
          1.75,
          1.8,
          1.85,
          1.9,
          1.95,
          2
         ],
         "z": [
          [
           null,
           null,
           null,
           null,
           null,
           null,
           null,
           null,
           null,
           null,
           null,
           null,
           null,
           null,
           null,
           1,
           1,
           1,
           1,
           1
          ],
          [
           1,
           1,
           1,
           1,
           1,
           1,
           1,
           1,
           1.0003015075376884,
           1.0003015075376884,
           1.0003015075376884,
           1.0003015075376884,
           1.0006030150753769,
           1.0006030150753769,
           1.0006030150753769,
           1.0006030150753769,
           1.0009045226130653,
           1.0009045226130653,
           1.0009045226130653,
           1.0012060301507535
          ],
          [
           1.0009045226130653,
           1.0009045226130653,
           1.0012060301507535,
           1.0012060301507535,
           1.001507537688442,
           1.001507537688442,
           1.001507537688442,
           1.0018090452261306,
           1.0018090452261306,
           1.002110552763819,
           1.002110552763819,
           1.0024120603015076,
           1.002713567839196,
           1.002713567839196,
           1.0030150753768845,
           1.0030150753768845,
           1.003316582914573,
           1.0036180904522614,
           1.0036180904522614,
           1.0039195979899498
          ],
          [
           1.003316582914573,
           1.0036180904522614,
           1.0036180904522614,
           1.0039195979899498,
           1.0042211055276382,
           1.0042211055276382,
           1.0045226130653266,
           1.004824120603015,
           1.0051256281407035,
           1.0051256281407035,
           1.005427135678392,
           1.0057286432160804,
           1.0060301507537688,
           1.0063316582914572,
           1.0066331658291456,
           1.0069346733668345,
           1.0069346733668345,
           1.0072361809045227,
           1.0075376884422111,
           1.0078391959798996
          ],
          [
           1.0069346733668345,
           1.0072361809045227,
           1.0075376884422111,
           1.0078391959798996,
           1.008140703517588,
           1.0084422110552764,
           1.0087437185929649,
           1.0090452261306533,
           1.0093467336683415,
           1.00964824120603,
           1.0099497487437186,
           1.010251256281407,
           1.0105527638190954,
           1.010854271356784,
           1.0111557788944725,
           1.0114572864321607,
           1.0117587939698494,
           1.0123618090452262,
           1.0126633165829146,
           1.012964824120603
          ],
          [
           1.0114572864321607,
           1.0117587939698494,
           1.0120603015075378,
           1.0123618090452262,
           1.012964824120603,
           1.0132663316582915,
           1.01356783919598,
           1.0138693467336684,
           1.0144723618090452,
           1.0147738693467336,
           1.015075376884422,
           1.0153768844221105,
           1.0159798994974871,
           1.016281407035176,
           1.0168844221105529,
           1.0171859296482413,
           1.0174874371859297,
           1.0180904522613066,
           1.018391959798995,
           1.018994974874372
          ],
          [
           1.0168844221105529,
           1.0171859296482413,
           1.017788944723618,
           1.0180904522613066,
           1.0186934673366834,
           1.018994974874372,
           1.0192964824120605,
           1.0198994974874371,
           1.0202010050251256,
           1.0208040201005026,
           1.021105527638191,
           1.021708542713568,
           1.0223115577889448,
           1.0226130653266332,
           1.02321608040201,
           1.0235175879396985,
           1.0241206030150751,
           1.0247236180904522,
           1.0253266331658293,
           1.0256281407035177
          ],
          [
           1.0229145728643216,
           1.0235175879396985,
           1.0241206030150751,
           1.0244221105527638,
           1.0250251256281406,
           1.0253266331658293,
           1.025929648241206,
           1.026532663316583,
           1.0271356783919598,
           1.0274371859296485,
           1.0280402010050251,
           1.028643216080402,
           1.0292462311557788,
           1.0295477386934673,
           1.0301507537688444,
           1.0307537688442212,
           1.031356783919598,
           1.031959798994975,
           1.0325628140703518,
           1.0331658291457286
          ],
          [
           1.0298492462311557,
           1.0304522613065328,
           1.0310552763819096,
           1.031356783919598,
           1.031959798994975,
           1.0325628140703518,
           1.0331658291457286,
           1.0337688442211057,
           1.0343718592964823,
           1.0349748743718594,
           1.0355778894472365,
           1.0361809045226131,
           1.03678391959799,
           1.0373869346733668,
           1.0379899497487437,
           1.0385929648241206,
           1.0391959798994974,
           1.0397989949748745,
           1.0404020100502511,
           1.0410050251256282
          ],
          [
           1.0373869346733668,
           1.0379899497487437,
           1.0385929648241206,
           1.0391959798994974,
           1.0397989949748745,
           1.0404020100502511,
           1.0410050251256282,
           1.041608040201005,
           1.042211055276382,
           1.0428140703517588,
           1.0434170854271356,
           1.0440201005025127,
           1.044924623115578,
           1.0455276381909548,
           1.0461306532663317,
           1.0467336683417086,
           1.0476381909547738,
           1.0482412060301507,
           1.0488442211055278,
           1.049748743718593
          ],
          [
           1.0452261306532664,
           1.0458291457286433,
           1.04643216080402,
           1.047035175879397,
           1.0479396984924625,
           1.0485427135678391,
           1.0491457286432162,
           1.049748743718593,
           1.0506532663316583,
           1.0512562814070352,
           1.051859296482412,
           1.0527638190954771,
           1.0533668341708544,
           1.0542713567839197,
           1.0548743718592966,
           1.0557788944723618,
           1.0563819095477387,
           1.057286432160804,
           1.057889447236181,
           1.0587939698492463
          ]
         ]
        }
       ],
       "layout": {
        "autosize": false,
        "height": 500,
        "margin": {
         "b": 100,
         "l": 65,
         "r": 50,
         "t": 90
        },
        "scene": {
         "aspectmode": "auto",
         "aspectratio": {
          "x": 1,
          "y": 1,
          "z": 1
         },
         "camera": {
          "center": {
           "x": 0,
           "y": 0,
           "z": 0
          },
          "eye": {
           "x": 2.9771660227445116,
           "y": -2.1880613426803945,
           "z": 1.1554513671384568
          },
          "projection": {
           "type": "perspective"
          },
          "up": {
           "x": 0,
           "y": 0,
           "z": 1
          }
         },
         "xaxis": {
          "nticks": 7,
          "range": [
           0,
           1
          ],
          "type": "linear"
         },
         "yaxis": {
          "nticks": 7,
          "range": [
           1.5,
           2
          ],
          "type": "linear"
         }
        },
        "template": {
         "data": {
          "bar": [
           {
            "error_x": {
             "color": "#2a3f5f"
            },
            "error_y": {
             "color": "#2a3f5f"
            },
            "marker": {
             "line": {
              "color": "#E5ECF6",
              "width": 0.5
             },
             "pattern": {
              "fillmode": "overlay",
              "size": 10,
              "solidity": 0.2
             }
            },
            "type": "bar"
           }
          ],
          "barpolar": [
           {
            "marker": {
             "line": {
              "color": "#E5ECF6",
              "width": 0.5
             },
             "pattern": {
              "fillmode": "overlay",
              "size": 10,
              "solidity": 0.2
             }
            },
            "type": "barpolar"
           }
          ],
          "carpet": [
           {
            "aaxis": {
             "endlinecolor": "#2a3f5f",
             "gridcolor": "white",
             "linecolor": "white",
             "minorgridcolor": "white",
             "startlinecolor": "#2a3f5f"
            },
            "baxis": {
             "endlinecolor": "#2a3f5f",
             "gridcolor": "white",
             "linecolor": "white",
             "minorgridcolor": "white",
             "startlinecolor": "#2a3f5f"
            },
            "type": "carpet"
           }
          ],
          "choropleth": [
           {
            "colorbar": {
             "outlinewidth": 0,
             "ticks": ""
            },
            "type": "choropleth"
           }
          ],
          "contour": [
           {
            "colorbar": {
             "outlinewidth": 0,
             "ticks": ""
            },
            "colorscale": [
             [
              0,
              "#0d0887"
             ],
             [
              0.1111111111111111,
              "#46039f"
             ],
             [
              0.2222222222222222,
              "#7201a8"
             ],
             [
              0.3333333333333333,
              "#9c179e"
             ],
             [
              0.4444444444444444,
              "#bd3786"
             ],
             [
              0.5555555555555556,
              "#d8576b"
             ],
             [
              0.6666666666666666,
              "#ed7953"
             ],
             [
              0.7777777777777778,
              "#fb9f3a"
             ],
             [
              0.8888888888888888,
              "#fdca26"
             ],
             [
              1,
              "#f0f921"
             ]
            ],
            "type": "contour"
           }
          ],
          "contourcarpet": [
           {
            "colorbar": {
             "outlinewidth": 0,
             "ticks": ""
            },
            "type": "contourcarpet"
           }
          ],
          "heatmap": [
           {
            "colorbar": {
             "outlinewidth": 0,
             "ticks": ""
            },
            "colorscale": [
             [
              0,
              "#0d0887"
             ],
             [
              0.1111111111111111,
              "#46039f"
             ],
             [
              0.2222222222222222,
              "#7201a8"
             ],
             [
              0.3333333333333333,
              "#9c179e"
             ],
             [
              0.4444444444444444,
              "#bd3786"
             ],
             [
              0.5555555555555556,
              "#d8576b"
             ],
             [
              0.6666666666666666,
              "#ed7953"
             ],
             [
              0.7777777777777778,
              "#fb9f3a"
             ],
             [
              0.8888888888888888,
              "#fdca26"
             ],
             [
              1,
              "#f0f921"
             ]
            ],
            "type": "heatmap"
           }
          ],
          "heatmapgl": [
           {
            "colorbar": {
             "outlinewidth": 0,
             "ticks": ""
            },
            "colorscale": [
             [
              0,
              "#0d0887"
             ],
             [
              0.1111111111111111,
              "#46039f"
             ],
             [
              0.2222222222222222,
              "#7201a8"
             ],
             [
              0.3333333333333333,
              "#9c179e"
             ],
             [
              0.4444444444444444,
              "#bd3786"
             ],
             [
              0.5555555555555556,
              "#d8576b"
             ],
             [
              0.6666666666666666,
              "#ed7953"
             ],
             [
              0.7777777777777778,
              "#fb9f3a"
             ],
             [
              0.8888888888888888,
              "#fdca26"
             ],
             [
              1,
              "#f0f921"
             ]
            ],
            "type": "heatmapgl"
           }
          ],
          "histogram": [
           {
            "marker": {
             "pattern": {
              "fillmode": "overlay",
              "size": 10,
              "solidity": 0.2
             }
            },
            "type": "histogram"
           }
          ],
          "histogram2d": [
           {
            "colorbar": {
             "outlinewidth": 0,
             "ticks": ""
            },
            "colorscale": [
             [
              0,
              "#0d0887"
             ],
             [
              0.1111111111111111,
              "#46039f"
             ],
             [
              0.2222222222222222,
              "#7201a8"
             ],
             [
              0.3333333333333333,
              "#9c179e"
             ],
             [
              0.4444444444444444,
              "#bd3786"
             ],
             [
              0.5555555555555556,
              "#d8576b"
             ],
             [
              0.6666666666666666,
              "#ed7953"
             ],
             [
              0.7777777777777778,
              "#fb9f3a"
             ],
             [
              0.8888888888888888,
              "#fdca26"
             ],
             [
              1,
              "#f0f921"
             ]
            ],
            "type": "histogram2d"
           }
          ],
          "histogram2dcontour": [
           {
            "colorbar": {
             "outlinewidth": 0,
             "ticks": ""
            },
            "colorscale": [
             [
              0,
              "#0d0887"
             ],
             [
              0.1111111111111111,
              "#46039f"
             ],
             [
              0.2222222222222222,
              "#7201a8"
             ],
             [
              0.3333333333333333,
              "#9c179e"
             ],
             [
              0.4444444444444444,
              "#bd3786"
             ],
             [
              0.5555555555555556,
              "#d8576b"
             ],
             [
              0.6666666666666666,
              "#ed7953"
             ],
             [
              0.7777777777777778,
              "#fb9f3a"
             ],
             [
              0.8888888888888888,
              "#fdca26"
             ],
             [
              1,
              "#f0f921"
             ]
            ],
            "type": "histogram2dcontour"
           }
          ],
          "mesh3d": [
           {
            "colorbar": {
             "outlinewidth": 0,
             "ticks": ""
            },
            "type": "mesh3d"
           }
          ],
          "parcoords": [
           {
            "line": {
             "colorbar": {
              "outlinewidth": 0,
              "ticks": ""
             }
            },
            "type": "parcoords"
           }
          ],
          "pie": [
           {
            "automargin": true,
            "type": "pie"
           }
          ],
          "scatter": [
           {
            "marker": {
             "colorbar": {
              "outlinewidth": 0,
              "ticks": ""
             }
            },
            "type": "scatter"
           }
          ],
          "scatter3d": [
           {
            "line": {
             "colorbar": {
              "outlinewidth": 0,
              "ticks": ""
             }
            },
            "marker": {
             "colorbar": {
              "outlinewidth": 0,
              "ticks": ""
             }
            },
            "type": "scatter3d"
           }
          ],
          "scattercarpet": [
           {
            "marker": {
             "colorbar": {
              "outlinewidth": 0,
              "ticks": ""
             }
            },
            "type": "scattercarpet"
           }
          ],
          "scattergeo": [
           {
            "marker": {
             "colorbar": {
              "outlinewidth": 0,
              "ticks": ""
             }
            },
            "type": "scattergeo"
           }
          ],
          "scattergl": [
           {
            "marker": {
             "colorbar": {
              "outlinewidth": 0,
              "ticks": ""
             }
            },
            "type": "scattergl"
           }
          ],
          "scattermapbox": [
           {
            "marker": {
             "colorbar": {
              "outlinewidth": 0,
              "ticks": ""
             }
            },
            "type": "scattermapbox"
           }
          ],
          "scatterpolar": [
           {
            "marker": {
             "colorbar": {
              "outlinewidth": 0,
              "ticks": ""
             }
            },
            "type": "scatterpolar"
           }
          ],
          "scatterpolargl": [
           {
            "marker": {
             "colorbar": {
              "outlinewidth": 0,
              "ticks": ""
             }
            },
            "type": "scatterpolargl"
           }
          ],
          "scatterternary": [
           {
            "marker": {
             "colorbar": {
              "outlinewidth": 0,
              "ticks": ""
             }
            },
            "type": "scatterternary"
           }
          ],
          "surface": [
           {
            "colorbar": {
             "outlinewidth": 0,
             "ticks": ""
            },
            "colorscale": [
             [
              0,
              "#0d0887"
             ],
             [
              0.1111111111111111,
              "#46039f"
             ],
             [
              0.2222222222222222,
              "#7201a8"
             ],
             [
              0.3333333333333333,
              "#9c179e"
             ],
             [
              0.4444444444444444,
              "#bd3786"
             ],
             [
              0.5555555555555556,
              "#d8576b"
             ],
             [
              0.6666666666666666,
              "#ed7953"
             ],
             [
              0.7777777777777778,
              "#fb9f3a"
             ],
             [
              0.8888888888888888,
              "#fdca26"
             ],
             [
              1,
              "#f0f921"
             ]
            ],
            "type": "surface"
           }
          ],
          "table": [
           {
            "cells": {
             "fill": {
              "color": "#EBF0F8"
             },
             "line": {
              "color": "white"
             }
            },
            "header": {
             "fill": {
              "color": "#C8D4E3"
             },
             "line": {
              "color": "white"
             }
            },
            "type": "table"
           }
          ]
         },
         "layout": {
          "annotationdefaults": {
           "arrowcolor": "#2a3f5f",
           "arrowhead": 0,
           "arrowwidth": 1
          },
          "autotypenumbers": "strict",
          "coloraxis": {
           "colorbar": {
            "outlinewidth": 0,
            "ticks": ""
           }
          },
          "colorscale": {
           "diverging": [
            [
             0,
             "#8e0152"
            ],
            [
             0.1,
             "#c51b7d"
            ],
            [
             0.2,
             "#de77ae"
            ],
            [
             0.3,
             "#f1b6da"
            ],
            [
             0.4,
             "#fde0ef"
            ],
            [
             0.5,
             "#f7f7f7"
            ],
            [
             0.6,
             "#e6f5d0"
            ],
            [
             0.7,
             "#b8e186"
            ],
            [
             0.8,
             "#7fbc41"
            ],
            [
             0.9,
             "#4d9221"
            ],
            [
             1,
             "#276419"
            ]
           ],
           "sequential": [
            [
             0,
             "#0d0887"
            ],
            [
             0.1111111111111111,
             "#46039f"
            ],
            [
             0.2222222222222222,
             "#7201a8"
            ],
            [
             0.3333333333333333,
             "#9c179e"
            ],
            [
             0.4444444444444444,
             "#bd3786"
            ],
            [
             0.5555555555555556,
             "#d8576b"
            ],
            [
             0.6666666666666666,
             "#ed7953"
            ],
            [
             0.7777777777777778,
             "#fb9f3a"
            ],
            [
             0.8888888888888888,
             "#fdca26"
            ],
            [
             1,
             "#f0f921"
            ]
           ],
           "sequentialminus": [
            [
             0,
             "#0d0887"
            ],
            [
             0.1111111111111111,
             "#46039f"
            ],
            [
             0.2222222222222222,
             "#7201a8"
            ],
            [
             0.3333333333333333,
             "#9c179e"
            ],
            [
             0.4444444444444444,
             "#bd3786"
            ],
            [
             0.5555555555555556,
             "#d8576b"
            ],
            [
             0.6666666666666666,
             "#ed7953"
            ],
            [
             0.7777777777777778,
             "#fb9f3a"
            ],
            [
             0.8888888888888888,
             "#fdca26"
            ],
            [
             1,
             "#f0f921"
            ]
           ]
          },
          "colorway": [
           "#636efa",
           "#EF553B",
           "#00cc96",
           "#ab63fa",
           "#FFA15A",
           "#19d3f3",
           "#FF6692",
           "#B6E880",
           "#FF97FF",
           "#FECB52"
          ],
          "font": {
           "color": "#2a3f5f"
          },
          "geo": {
           "bgcolor": "white",
           "lakecolor": "white",
           "landcolor": "#E5ECF6",
           "showlakes": true,
           "showland": true,
           "subunitcolor": "white"
          },
          "hoverlabel": {
           "align": "left"
          },
          "hovermode": "closest",
          "mapbox": {
           "style": "light"
          },
          "paper_bgcolor": "white",
          "plot_bgcolor": "#E5ECF6",
          "polar": {
           "angularaxis": {
            "gridcolor": "white",
            "linecolor": "white",
            "ticks": ""
           },
           "bgcolor": "#E5ECF6",
           "radialaxis": {
            "gridcolor": "white",
            "linecolor": "white",
            "ticks": ""
           }
          },
          "scene": {
           "xaxis": {
            "backgroundcolor": "#E5ECF6",
            "gridcolor": "white",
            "gridwidth": 2,
            "linecolor": "white",
            "showbackground": true,
            "ticks": "",
            "zerolinecolor": "white"
           },
           "yaxis": {
            "backgroundcolor": "#E5ECF6",
            "gridcolor": "white",
            "gridwidth": 2,
            "linecolor": "white",
            "showbackground": true,
            "ticks": "",
            "zerolinecolor": "white"
           },
           "zaxis": {
            "backgroundcolor": "#E5ECF6",
            "gridcolor": "white",
            "gridwidth": 2,
            "linecolor": "white",
            "showbackground": true,
            "ticks": "",
            "zerolinecolor": "white"
           }
          },
          "shapedefaults": {
           "line": {
            "color": "#2a3f5f"
           }
          },
          "ternary": {
           "aaxis": {
            "gridcolor": "white",
            "linecolor": "white",
            "ticks": ""
           },
           "baxis": {
            "gridcolor": "white",
            "linecolor": "white",
            "ticks": ""
           },
           "bgcolor": "#E5ECF6",
           "caxis": {
            "gridcolor": "white",
            "linecolor": "white",
            "ticks": ""
           }
          },
          "title": {
           "x": 0.05
          },
          "xaxis": {
           "automargin": true,
           "gridcolor": "white",
           "linecolor": "white",
           "ticks": "",
           "title": {
            "standoff": 15
           },
           "zerolinecolor": "white",
           "zerolinewidth": 2
          },
          "yaxis": {
           "automargin": true,
           "gridcolor": "white",
           "linecolor": "white",
           "ticks": "",
           "title": {
            "standoff": 15
           },
           "zerolinecolor": "white",
           "zerolinewidth": 2
          }
         }
        },
        "title": {
         "text": "Effect of kappa and theta on final equilibrium"
        },
        "width": 500
       }
      },
      "image/png": "[encoded data removed]",
      "text/html": [
       "<div>                            <div id=\"97609d1a-6114-4fff-acc6-4d16a2783857\" class=\"plotly-graph-div\" style=\"height:500px; width:500px;\"></div>            <script type=\"text/javascript\">                require([\"plotly\"], function(Plotly) {                    window.PLOTLYENV=window.PLOTLYENV || {};                                    if (document.getElementById(\"97609d1a-6114-4fff-acc6-4d16a2783857\")) {                    Plotly.newPlot(                        \"97609d1a-6114-4fff-acc6-4d16a2783857\",                        [{\"x\":[0.05,0.1,0.15,0.2,0.25,0.3,0.35,0.4,0.45,0.5,0.55,0.6,0.65,0.7,0.75,0.8,0.85,0.9,0.95,1.0],\"y\":[1.5,1.55,1.6,1.65,1.7,1.75,1.8,1.85,1.9,1.95,2.0],\"z\":[[null,null,null,null,null,null,null,null,null,null,null,null,null,null,null,1.0,1.0,1.0,1.0,1.0],[1.0,1.0,1.0,1.0,1.0,1.0,1.0,1.0,1.0003015075376884,1.0003015075376884,1.0003015075376884,1.0003015075376884,1.0006030150753769,1.0006030150753769,1.0006030150753769,1.0006030150753769,1.0009045226130653,1.0009045226130653,1.0009045226130653,1.0012060301507535],[1.0009045226130653,1.0009045226130653,1.0012060301507535,1.0012060301507535,1.001507537688442,1.001507537688442,1.001507537688442,1.0018090452261306,1.0018090452261306,1.002110552763819,1.002110552763819,1.0024120603015076,1.002713567839196,1.002713567839196,1.0030150753768845,1.0030150753768845,1.003316582914573,1.0036180904522614,1.0036180904522614,1.0039195979899498],[1.003316582914573,1.0036180904522614,1.0036180904522614,1.0039195979899498,1.0042211055276382,1.0042211055276382,1.0045226130653266,1.004824120603015,1.0051256281407035,1.0051256281407035,1.005427135678392,1.0057286432160804,1.0060301507537688,1.0063316582914572,1.0066331658291456,1.0069346733668345,1.0069346733668345,1.0072361809045227,1.0075376884422111,1.0078391959798996],[1.0069346733668345,1.0072361809045227,1.0075376884422111,1.0078391959798996,1.008140703517588,1.0084422110552764,1.0087437185929649,1.0090452261306533,1.0093467336683415,1.00964824120603,1.0099497487437186,1.010251256281407,1.0105527638190954,1.010854271356784,1.0111557788944725,1.0114572864321607,1.0117587939698494,1.0123618090452262,1.0126633165829146,1.012964824120603],[1.0114572864321607,1.0117587939698494,1.0120603015075378,1.0123618090452262,1.012964824120603,1.0132663316582915,1.01356783919598,1.0138693467336684,1.0144723618090452,1.0147738693467336,1.015075376884422,1.0153768844221105,1.0159798994974871,1.016281407035176,1.0168844221105529,1.0171859296482413,1.0174874371859297,1.0180904522613066,1.018391959798995,1.018994974874372],[1.0168844221105529,1.0171859296482413,1.017788944723618,1.0180904522613066,1.0186934673366834,1.018994974874372,1.0192964824120605,1.0198994974874371,1.0202010050251256,1.0208040201005026,1.021105527638191,1.021708542713568,1.0223115577889448,1.0226130653266332,1.02321608040201,1.0235175879396985,1.0241206030150751,1.0247236180904522,1.0253266331658293,1.0256281407035177],[1.0229145728643216,1.0235175879396985,1.0241206030150751,1.0244221105527638,1.0250251256281406,1.0253266331658293,1.025929648241206,1.026532663316583,1.0271356783919598,1.0274371859296485,1.0280402010050251,1.028643216080402,1.0292462311557788,1.0295477386934673,1.0301507537688444,1.0307537688442212,1.031356783919598,1.031959798994975,1.0325628140703518,1.0331658291457286],[1.0298492462311557,1.0304522613065328,1.0310552763819096,1.031356783919598,1.031959798994975,1.0325628140703518,1.0331658291457286,1.0337688442211057,1.0343718592964823,1.0349748743718594,1.0355778894472365,1.0361809045226131,1.03678391959799,1.0373869346733668,1.0379899497487437,1.0385929648241206,1.0391959798994974,1.0397989949748745,1.0404020100502511,1.0410050251256282],[1.0373869346733668,1.0379899497487437,1.0385929648241206,1.0391959798994974,1.0397989949748745,1.0404020100502511,1.0410050251256282,1.041608040201005,1.042211055276382,1.0428140703517588,1.0434170854271356,1.0440201005025127,1.044924623115578,1.0455276381909548,1.0461306532663317,1.0467336683417086,1.0476381909547738,1.0482412060301507,1.0488442211055278,1.049748743718593],[1.0452261306532664,1.0458291457286433,1.04643216080402,1.047035175879397,1.0479396984924625,1.0485427135678391,1.0491457286432162,1.049748743718593,1.0506532663316583,1.0512562814070352,1.051859296482412,1.0527638190954771,1.0533668341708544,1.0542713567839197,1.0548743718592966,1.0557788944723618,1.0563819095477387,1.057286432160804,1.057889447236181,1.0587939698492463]],\"type\":\"surface\"}],                        {\"template\":{\"data\":{\"bar\":[{\"error_x\":{\"color\":\"#2a3f5f\"},\"error_y\":{\"color\":\"#2a3f5f\"},\"marker\":{\"line\":{\"color\":\"#E5ECF6\",\"width\":0.5},\"pattern\":{\"fillmode\":\"overlay\",\"size\":10,\"solidity\":0.2}},\"type\":\"bar\"}],\"barpolar\":[{\"marker\":{\"line\":{\"color\":\"#E5ECF6\",\"width\":0.5},\"pattern\":{\"fillmode\":\"overlay\",\"size\":10,\"solidity\":0.2}},\"type\":\"barpolar\"}],\"carpet\":[{\"aaxis\":{\"endlinecolor\":\"#2a3f5f\",\"gridcolor\":\"white\",\"linecolor\":\"white\",\"minorgridcolor\":\"white\",\"startlinecolor\":\"#2a3f5f\"},\"baxis\":{\"endlinecolor\":\"#2a3f5f\",\"gridcolor\":\"white\",\"linecolor\":\"white\",\"minorgridcolor\":\"white\",\"startlinecolor\":\"#2a3f5f\"},\"type\":\"carpet\"}],\"choropleth\":[{\"colorbar\":{\"outlinewidth\":0,\"ticks\":\"\"},\"type\":\"choropleth\"}],\"contour\":[{\"colorbar\":{\"outlinewidth\":0,\"ticks\":\"\"},\"colorscale\":[[0.0,\"#0d0887\"],[0.1111111111111111,\"#46039f\"],[0.2222222222222222,\"#7201a8\"],[0.3333333333333333,\"#9c179e\"],[0.4444444444444444,\"#bd3786\"],[0.5555555555555556,\"#d8576b\"],[0.6666666666666666,\"#ed7953\"],[0.7777777777777778,\"#fb9f3a\"],[0.8888888888888888,\"#fdca26\"],[1.0,\"#f0f921\"]],\"type\":\"contour\"}],\"contourcarpet\":[{\"colorbar\":{\"outlinewidth\":0,\"ticks\":\"\"},\"type\":\"contourcarpet\"}],\"heatmap\":[{\"colorbar\":{\"outlinewidth\":0,\"ticks\":\"\"},\"colorscale\":[[0.0,\"#0d0887\"],[0.1111111111111111,\"#46039f\"],[0.2222222222222222,\"#7201a8\"],[0.3333333333333333,\"#9c179e\"],[0.4444444444444444,\"#bd3786\"],[0.5555555555555556,\"#d8576b\"],[0.6666666666666666,\"#ed7953\"],[0.7777777777777778,\"#fb9f3a\"],[0.8888888888888888,\"#fdca26\"],[1.0,\"#f0f921\"]],\"type\":\"heatmap\"}],\"heatmapgl\":[{\"colorbar\":{\"outlinewidth\":0,\"ticks\":\"\"},\"colorscale\":[[0.0,\"#0d0887\"],[0.1111111111111111,\"#46039f\"],[0.2222222222222222,\"#7201a8\"],[0.3333333333333333,\"#9c179e\"],[0.4444444444444444,\"#bd3786\"],[0.5555555555555556,\"#d8576b\"],[0.6666666666666666,\"#ed7953\"],[0.7777777777777778,\"#fb9f3a\"],[0.8888888888888888,\"#fdca26\"],[1.0,\"#f0f921\"]],\"type\":\"heatmapgl\"}],\"histogram\":[{\"marker\":{\"pattern\":{\"fillmode\":\"overlay\",\"size\":10,\"solidity\":0.2}},\"type\":\"histogram\"}],\"histogram2d\":[{\"colorbar\":{\"outlinewidth\":0,\"ticks\":\"\"},\"colorscale\":[[0.0,\"#0d0887\"],[0.1111111111111111,\"#46039f\"],[0.2222222222222222,\"#7201a8\"],[0.3333333333333333,\"#9c179e\"],[0.4444444444444444,\"#bd3786\"],[0.5555555555555556,\"#d8576b\"],[0.6666666666666666,\"#ed7953\"],[0.7777777777777778,\"#fb9f3a\"],[0.8888888888888888,\"#fdca26\"],[1.0,\"#f0f921\"]],\"type\":\"histogram2d\"}],\"histogram2dcontour\":[{\"colorbar\":{\"outlinewidth\":0,\"ticks\":\"\"},\"colorscale\":[[0.0,\"#0d0887\"],[0.1111111111111111,\"#46039f\"],[0.2222222222222222,\"#7201a8\"],[0.3333333333333333,\"#9c179e\"],[0.4444444444444444,\"#bd3786\"],[0.5555555555555556,\"#d8576b\"],[0.6666666666666666,\"#ed7953\"],[0.7777777777777778,\"#fb9f3a\"],[0.8888888888888888,\"#fdca26\"],[1.0,\"#f0f921\"]],\"type\":\"histogram2dcontour\"}],\"mesh3d\":[{\"colorbar\":{\"outlinewidth\":0,\"ticks\":\"\"},\"type\":\"mesh3d\"}],\"parcoords\":[{\"line\":{\"colorbar\":{\"outlinewidth\":0,\"ticks\":\"\"}},\"type\":\"parcoords\"}],\"pie\":[{\"automargin\":true,\"type\":\"pie\"}],\"scatter\":[{\"marker\":{\"colorbar\":{\"outlinewidth\":0,\"ticks\":\"\"}},\"type\":\"scatter\"}],\"scatter3d\":[{\"line\":{\"colorbar\":{\"outlinewidth\":0,\"ticks\":\"\"}},\"marker\":{\"colorbar\":{\"outlinewidth\":0,\"ticks\":\"\"}},\"type\":\"scatter3d\"}],\"scattercarpet\":[{\"marker\":{\"colorbar\":{\"outlinewidth\":0,\"ticks\":\"\"}},\"type\":\"scattercarpet\"}],\"scattergeo\":[{\"marker\":{\"colorbar\":{\"outlinewidth\":0,\"ticks\":\"\"}},\"type\":\"scattergeo\"}],\"scattergl\":[{\"marker\":{\"colorbar\":{\"outlinewidth\":0,\"ticks\":\"\"}},\"type\":\"scattergl\"}],\"scattermapbox\":[{\"marker\":{\"colorbar\":{\"outlinewidth\":0,\"ticks\":\"\"}},\"type\":\"scattermapbox\"}],\"scatterpolar\":[{\"marker\":{\"colorbar\":{\"outlinewidth\":0,\"ticks\":\"\"}},\"type\":\"scatterpolar\"}],\"scatterpolargl\":[{\"marker\":{\"colorbar\":{\"outlinewidth\":0,\"ticks\":\"\"}},\"type\":\"scatterpolargl\"}],\"scatterternary\":[{\"marker\":{\"colorbar\":{\"outlinewidth\":0,\"ticks\":\"\"}},\"type\":\"scatterternary\"}],\"surface\":[{\"colorbar\":{\"outlinewidth\":0,\"ticks\":\"\"},\"colorscale\":[[0.0,\"#0d0887\"],[0.1111111111111111,\"#46039f\"],[0.2222222222222222,\"#7201a8\"],[0.3333333333333333,\"#9c179e\"],[0.4444444444444444,\"#bd3786\"],[0.5555555555555556,\"#d8576b\"],[0.6666666666666666,\"#ed7953\"],[0.7777777777777778,\"#fb9f3a\"],[0.8888888888888888,\"#fdca26\"],[1.0,\"#f0f921\"]],\"type\":\"surface\"}],\"table\":[{\"cells\":{\"fill\":{\"color\":\"#EBF0F8\"},\"line\":{\"color\":\"white\"}},\"header\":{\"fill\":{\"color\":\"#C8D4E3\"},\"line\":{\"color\":\"white\"}},\"type\":\"table\"}]},\"layout\":{\"annotationdefaults\":{\"arrowcolor\":\"#2a3f5f\",\"arrowhead\":0,\"arrowwidth\":1},\"autotypenumbers\":\"strict\",\"coloraxis\":{\"colorbar\":{\"outlinewidth\":0,\"ticks\":\"\"}},\"colorscale\":{\"diverging\":[[0,\"#8e0152\"],[0.1,\"#c51b7d\"],[0.2,\"#de77ae\"],[0.3,\"#f1b6da\"],[0.4,\"#fde0ef\"],[0.5,\"#f7f7f7\"],[0.6,\"#e6f5d0\"],[0.7,\"#b8e186\"],[0.8,\"#7fbc41\"],[0.9,\"#4d9221\"],[1,\"#276419\"]],\"sequential\":[[0.0,\"#0d0887\"],[0.1111111111111111,\"#46039f\"],[0.2222222222222222,\"#7201a8\"],[0.3333333333333333,\"#9c179e\"],[0.4444444444444444,\"#bd3786\"],[0.5555555555555556,\"#d8576b\"],[0.6666666666666666,\"#ed7953\"],[0.7777777777777778,\"#fb9f3a\"],[0.8888888888888888,\"#fdca26\"],[1.0,\"#f0f921\"]],\"sequentialminus\":[[0.0,\"#0d0887\"],[0.1111111111111111,\"#46039f\"],[0.2222222222222222,\"#7201a8\"],[0.3333333333333333,\"#9c179e\"],[0.4444444444444444,\"#bd3786\"],[0.5555555555555556,\"#d8576b\"],[0.6666666666666666,\"#ed7953\"],[0.7777777777777778,\"#fb9f3a\"],[0.8888888888888888,\"#fdca26\"],[1.0,\"#f0f921\"]]},\"colorway\":[\"#636efa\",\"#EF553B\",\"#00cc96\",\"#ab63fa\",\"#FFA15A\",\"#19d3f3\",\"#FF6692\",\"#B6E880\",\"#FF97FF\",\"#FECB52\"],\"font\":{\"color\":\"#2a3f5f\"},\"geo\":{\"bgcolor\":\"white\",\"lakecolor\":\"white\",\"landcolor\":\"#E5ECF6\",\"showlakes\":true,\"showland\":true,\"subunitcolor\":\"white\"},\"hoverlabel\":{\"align\":\"left\"},\"hovermode\":\"closest\",\"mapbox\":{\"style\":\"light\"},\"paper_bgcolor\":\"white\",\"plot_bgcolor\":\"#E5ECF6\",\"polar\":{\"angularaxis\":{\"gridcolor\":\"white\",\"linecolor\":\"white\",\"ticks\":\"\"},\"bgcolor\":\"#E5ECF6\",\"radialaxis\":{\"gridcolor\":\"white\",\"linecolor\":\"white\",\"ticks\":\"\"}},\"scene\":{\"xaxis\":{\"backgroundcolor\":\"#E5ECF6\",\"gridcolor\":\"white\",\"gridwidth\":2,\"linecolor\":\"white\",\"showbackground\":true,\"ticks\":\"\",\"zerolinecolor\":\"white\"},\"yaxis\":{\"backgroundcolor\":\"#E5ECF6\",\"gridcolor\":\"white\",\"gridwidth\":2,\"linecolor\":\"white\",\"showbackground\":true,\"ticks\":\"\",\"zerolinecolor\":\"white\"},\"zaxis\":{\"backgroundcolor\":\"#E5ECF6\",\"gridcolor\":\"white\",\"gridwidth\":2,\"linecolor\":\"white\",\"showbackground\":true,\"ticks\":\"\",\"zerolinecolor\":\"white\"}},\"shapedefaults\":{\"line\":{\"color\":\"#2a3f5f\"}},\"ternary\":{\"aaxis\":{\"gridcolor\":\"white\",\"linecolor\":\"white\",\"ticks\":\"\"},\"baxis\":{\"gridcolor\":\"white\",\"linecolor\":\"white\",\"ticks\":\"\"},\"bgcolor\":\"#E5ECF6\",\"caxis\":{\"gridcolor\":\"white\",\"linecolor\":\"white\",\"ticks\":\"\"}},\"title\":{\"x\":0.05},\"xaxis\":{\"automargin\":true,\"gridcolor\":\"white\",\"linecolor\":\"white\",\"ticks\":\"\",\"title\":{\"standoff\":15},\"zerolinecolor\":\"white\",\"zerolinewidth\":2},\"yaxis\":{\"automargin\":true,\"gridcolor\":\"white\",\"linecolor\":\"white\",\"ticks\":\"\",\"title\":{\"standoff\":15},\"zerolinecolor\":\"white\",\"zerolinewidth\":2}}},\"margin\":{\"l\":65,\"r\":50,\"b\":100,\"t\":90},\"scene\":{\"xaxis\":{\"nticks\":7,\"range\":[0,1]},\"yaxis\":{\"nticks\":7,\"range\":[1.5,2]}},\"title\":{\"text\":\"Effect of kappa and theta on final equilibrium\"},\"autosize\":false,\"width\":500,\"height\":500},                        {\"responsive\": true}                    ).then(function(){\n",
       "                            \n",
       "var gd = document.getElementById('97609d1a-6114-4fff-acc6-4d16a2783857');\n",
       "var x = new MutationObserver(function (mutations, observer) {{\n",
       "        var display = window.getComputedStyle(gd).display;\n",
       "        if (!display || display === 'none') {{\n",
       "            console.log([gd, 'removed!']);\n",
       "            Plotly.purge(gd);\n",
       "            observer.disconnect();\n",
       "        }}\n",
       "}});\n",
       "\n",
       "// Listen for the removal of the full notebook cells\n",
       "var notebookContainer = gd.closest('#notebook-container');\n",
       "if (notebookContainer) {{\n",
       "    x.observe(notebookContainer, {childList: true});\n",
       "}}\n",
       "\n",
       "// Listen for the clearing of the current output cell\n",
       "var outputEl = gd.closest('.output');\n",
       "if (outputEl) {{\n",
       "    x.observe(outputEl, {childList: true});\n",
       "}}\n",
       "\n",
       "                        })                };                });            </script>        </div>"
      ]
     },
     "metadata": {},
     "output_type": "display_data"
    }
   ],
   "source": [
    "z_data_r3windowdf = r3windowdf_vals.values.T\n",
    "fig = go.Figure(data=[go.Surface(z=z_data_r3windowdf, x=r3windowdf_vals.index, y=r3windowdf_vals.columns)])\n",
    "fig.update_layout(title='Effect of kappa and theta on final equilibrium', autosize=False,\n",
    "                  width=500, height=500,\n",
    "                  margin=dict(l=65, r=50, b=100, t=90),\n",
    "                 scene = dict(\n",
    "                     xaxis = dict(nticks=7, range=[0,1],),\n",
    "                     yaxis = dict(nticks=7, range=[1.5,2],),\n",
    "                     ),\n",
    "                 )\n",
    "fig.show()"
   ]
  },
  {
   "cell_type": "code",
   "execution_count": 41,
   "id": "d76ed001-5544-4a1e-a8a5-20d95b4c5e8c",
   "metadata": {},
   "outputs": [],
   "source": [
    "# To create the variable in matlab. to plot #\n",
    "# z_data_matlab = '['\n",
    "# for row in z_data_r3windowdf:\n",
    "#     row_str = [str(r) for r in row]\n",
    "#     z_data_matlab = z_data_matlab+','.join(row_str)+';\\n'\n",
    "# z_data_matlab = z_data_matlab + ']'\n",
    "# z_data_matlab = z_data_matlab.replace('nan','1.0')\n",
    "# print(z_data_matlab)"
   ]
  },
  {
   "cell_type": "code",
   "execution_count": 44,
   "id": "eea013f6-c596-4ac9-bb91-20980ee4485e",
   "metadata": {},
   "outputs": [
    {
     "name": "stdout",
     "output_type": "stream",
     "text": [
      "x3= [0.05, 0.1, 0.15, 0.2, 0.25, 0.3, 0.35, 0.4, 0.45, 0.5, 0.55, 0.6, 0.65, 0.7, 0.75, 0.8, 0.85, 0.9, 0.95, 1.0];\n",
      "y3= [1.5, 1.55, 1.6, 1.65, 1.7, 1.75, 1.8, 1.85, 1.9, 1.95, 2.0];\n"
     ]
    }
   ],
   "source": [
    "print(f\"x3= {r3windowdf_vals.index.tolist()};\")\n",
    "print(f\"y3= {r3windowdf_vals.columns.tolist()};\")"
   ]
  },
  {
   "cell_type": "markdown",
   "id": "b1c4ef16-cb02-4c67-9107-9e475799c4e2",
   "metadata": {},
   "source": [
    "## Utility functions:\n",
    "\n",
    "- Obtain the coefficients of the cubic polynomial for equilibrium.\n",
    "- Solve cubic polynomial for equilibrium.\n",
    "- Obtain number of roots of polynomial in [0,1] using Sturm sequences."
   ]
  },
  {
   "cell_type": "code",
   "execution_count": 3,
   "id": "385f8912-ef9e-45f2-8842-7732ae504f3e",
   "metadata": {},
   "outputs": [],
   "source": [
    "def get_coefficients_cubic(Rphi, Rmu, R0, kappa, theta):\n",
    "\n",
    "    ### Returns the coefficients x3,x2,x1,x0 of the cubic polynomial in the notes.\n",
    "\n",
    "    \"\"\"\n",
    "    kappa := C^i/C^s\n",
    "    theta := C^z/C^s\n",
    "    \"\"\"\n",
    "\n",
    "    x_3 = (Rphi**2)*(R0) + Rmu*(Rphi**2)*(kappa -1)\n",
    "    \n",
    "    x_2 = Rphi*(R0*(1 - Rphi) + Rmu*(R0 + Rphi))\n",
    "    x_2 = x_2 + Rphi*(Rmu*(1 - Rmu)*(theta - 1) + Rmu*(1 + Rmu)*(kappa - 1)) \n",
    "\n",
    "    x_1 = Rmu*(R0*(1 - Rphi)  + Rphi*(1 - R0)  + Rmu*Rphi)\n",
    "    x_1 = x_1+ Rmu*((1 - Rmu)*(theta - 1) + Rmu*(kappa - 1))\n",
    "\n",
    "    x_0 = (Rmu**2)*(1 - R0)\n",
    "\n",
    "    return [x_0,x_1,x_2,x_3]\n",
    "\n",
    "def nmbr_rts_interval(Rphi, Rmu, val_tuple):\n",
    "\n",
    "    kappa = val_tuple[0]\n",
    "    theta = val_tuple[1]\n",
    "    \n",
    "    print(f\"Processing tuple {(kappa,theta)}.\")\n",
    "    start_tuple = time.time()\n",
    "\n",
    "    R0s = list(np.linspace(0.0001,2,1000))\n",
    "    vals = []\n",
    "\n",
    "    for R0 in tqdm(R0s):\n",
    "\n",
    "        # Compute number of roots using Sturm's Theorem\n",
    "\n",
    "        coefficients = get_coefficients_cubic(Rphi, Rmu, R0, kappa, theta)\n",
    "        pol = sum([coefficients[i]*x**i for i in range(len(coefficients))])\n",
    "        sturm_seq = sp.sturm(pol) # sturm sequence\n",
    "\n",
    "        values_at_start = [float(sp.Poly(pol_sturm,x).eval(0)) for pol_sturm in sturm_seq]\n",
    "        values_at_end = [float(sp.Poly(pol_sturm,x).eval(1)) for pol_sturm in sturm_seq]\n",
    "\n",
    "        count_start = len(list(itertools.groupby(values_at_start, lambda values_at_start: values_at_start > 0)))\n",
    "        count_end = len(list(itertools.groupby(values_at_end, lambda values_at_end: values_at_end > 0)))\n",
    "\n",
    "        ans = count_start - count_end\n",
    "        vals.append(ans)\n",
    "\n",
    "    answer = max(vals)\n",
    "    return answer\n",
    "\n",
    "def evaluate_cubic(i, Rphi, Rmu, R0, kappa, theta):\n",
    "    [x_0,x_1,x_2,x_3] = get_coefficients_cubic(Rphi, Rmu, R0, kappa, theta)\n",
    "    return x_3*(i**3) + x_2*(i**2) + x_1*i + x_0\n",
    "\n",
    "def solve_polynomial(Rphi, Rmu, R0, kappa, theta):\n",
    "    \n",
    "    x = Symbol('x')\n",
    "    resp = solve(evaluate_cubic(x, Rphi, Rmu, R0, kappa, theta), x)\n",
    "    resp = [(float(expr.as_real_imag()[0]), float(expr.as_real_imag()[1]) ) for expr in resp]\n",
    "    resp = [expr[0] for expr in resp if expr[0]>0 and abs(expr[1])<1e-15]\n",
    "    \n",
    "    return resp\n",
    "\n",
    "def get_convergence_point(\n",
    "    N, recovered, prop_infected,\n",
    "    mu, gamma, beta, phi,\n",
    "    Cs, Ci, Cz,\n",
    "    t_max):\n",
    "    \n",
    "    initial_infected = math.floor(prop_infected*N)\n",
    "    x00 = [N - initial_infected - recovered, initial_infected, recovered]\n",
    "    non_adaptive = NonAdaptive(mu, gamma, beta, phi, Cs, Ci, Cz, x00, t_max, dt=0.1)\n",
    "    non_adaptive.solve_odes_system(method='odeint')\n",
    "    equ_attached = non_adaptive.I[len(non_adaptive.I) - 1]/sum(x00)\n",
    "    return equ_attached"
   ]
  },
  {
   "cell_type": "code",
   "execution_count": null,
   "id": "c1b09026-69fa-47c2-aa34-07236868b555",
   "metadata": {},
   "outputs": [],
   "source": []
  }
 ],
 "metadata": {
  "kernelspec": {
   "display_name": "Python 3 (ipykernel)",
   "language": "python",
   "name": "python3"
  },
  "language_info": {
   "codemirror_mode": {
    "name": "ipython",
    "version": 3
   },
   "file_extension": ".py",
   "mimetype": "text/x-python",
   "name": "python",
   "nbconvert_exporter": "python",
   "pygments_lexer": "ipython3",
   "version": "3.9.8"
  }
 },
 "nbformat": 4,
 "nbformat_minor": 5
}
