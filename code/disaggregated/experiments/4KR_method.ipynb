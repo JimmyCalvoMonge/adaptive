{
 "cells": [
  {
   "cell_type": "code",
   "execution_count": 1,
   "id": "bb05c9f6-7162-4aa1-a217-161d90973e4d",
   "metadata": {},
   "outputs": [
    {
     "name": "stdout",
     "output_type": "stream",
     "text": [
      "y evaluated at time t = 4.000000000000003 seconds: 1.2905188338075795\n"
     ]
    },
    {
     "data": {
      "image/png": "[encoded data removed]",
      "text/plain": [
       "<Figure size 432x288 with 1 Axes>"
      ]
     },
     "metadata": {
      "needs_background": "light"
     },
     "output_type": "display_data"
    }
   ],
   "source": [
    "import numpy as np\n",
    "import matplotlib.pyplot as plt\n",
    "\n",
    "# Runge-Kutta (RK4) Numerical Integration for System of First-Order Differential Equations\n",
    "\n",
    "def ode_system(self, _t, _y):\n",
    "    \"\"\"\n",
    "    system of first order differential equations\n",
    "    _t: discrete time step value\n",
    "    _y: state vector [y1, y2, y3]\n",
    "    \"\"\"\n",
    "    \n",
    "    C = self.Cs*self.Ci*self.N/(s*self.Cs + i*self.Ci + z*self.Cz)\n",
    "    \n",
    "    dsdt = C*self.beta*_y[0]*(_y[1]/self.N) + self.mu*self.N - self.mu*_y[0]\n",
    "    didt = C*self.beta*_y[0]*(_y[1]/self.N) + self.phi*_y[2]*(_y[1]/self.N) - (self.gamma + self.mu)*_y[1]\n",
    "    dzdt = self.gamma*_y[1] - self.phi*_y[2]*(_y[1]/self.N) - self.mu*_y[2]\n",
    "    \n",
    "    return np.array([dsdt, didt, dzdt])\n",
    "\n",
    "\n",
    "def rk4(func, tk, _yk, _dt=0.01, **kwargs):\n",
    "    \"\"\"\n",
    "    single-step fourth-order numerical integration (RK4) method\n",
    "    func: system of first order ODEs\n",
    "    tk: current time step\n",
    "    _yk: current state vector [y1, y2, y3, ...]\n",
    "    _dt: discrete time step size\n",
    "    **kwargs: additional parameters for ODE system\n",
    "    returns: y evaluated at time k+1\n",
    "    \"\"\"\n",
    "\n",
    "    # evaluate derivative at several stages within time interval\n",
    "    f1 = func(tk, _yk, **kwargs)\n",
    "    f2 = func(tk + _dt / 2, _yk + (f1 * (_dt / 2)), **kwargs)\n",
    "    f3 = func(tk + _dt / 2, _yk + (f2 * (_dt / 2)), **kwargs)\n",
    "    f4 = func(tk + _dt, _yk + (f3 * _dt), **kwargs)\n",
    "\n",
    "    # return an average of the derivative over tk, tk + dt\n",
    "    return _yk + (_dt / 6) * (f1 + (2 * f2) + (2 * f3) + f4)\n",
    "\n",
    "# ==============================================================\n",
    "# simulation harness\n",
    "\n",
    "dt = 0.01\n",
    "time = np.arange(1.0, 4.0 + dt, dt)\n",
    "\n",
    "# second order system initial conditions [y1, y2] at t = 1\n",
    "y0 = np.array([0, 1])\n",
    "\n",
    "# ==============================================================\n",
    "# propagate state\n",
    "\n",
    "# simulation results\n",
    "state_history = []\n",
    "\n",
    "# initialize yk\n",
    "yk = y0\n",
    "\n",
    "# intialize time\n",
    "t = 0\n",
    "\n",
    "# approximate y at time t\n",
    "for t in time:\n",
    "    state_history.append(yk)\n",
    "    yk = rk4(ode_system, t, yk, dt)\n",
    "\n",
    "# convert list to numpy array\n",
    "state_history = np.array(state_history)\n",
    "\n",
    "print(f'y evaluated at time t = {t} seconds: {yk[0]}')\n",
    "\n",
    "# ==============================================================\n",
    "# plot history\n",
    "\n",
    "fig, ax = plt.subplots()\n",
    "ax.plot(time, state_history[:, 0])\n",
    "ax.plot(time, state_history[:, 1])\n",
    "ax.set(xlabel='t', ylabel='[Y]', title='Second Order System Propagation')\n",
    "plt.legend(['y1', 'y2'])\n",
    "ax.grid()\n",
    "plt.show()"
   ]
  },
  {
   "cell_type": "code",
   "execution_count": 2,
   "id": "ce71f488-9518-42f8-9a0f-bd3fabe5633d",
   "metadata": {},
   "outputs": [
    {
     "data": {
      "text/plain": [
       "array([1.  , 1.01, 1.02, 1.03, 1.04, 1.05, 1.06, 1.07, 1.08, 1.09, 1.1 ,\n",
       "       1.11, 1.12, 1.13, 1.14, 1.15, 1.16, 1.17, 1.18, 1.19, 1.2 , 1.21,\n",
       "       1.22, 1.23, 1.24, 1.25, 1.26, 1.27, 1.28, 1.29, 1.3 , 1.31, 1.32,\n",
       "       1.33, 1.34, 1.35, 1.36, 1.37, 1.38, 1.39, 1.4 , 1.41, 1.42, 1.43,\n",
       "       1.44, 1.45, 1.46, 1.47, 1.48, 1.49, 1.5 , 1.51, 1.52, 1.53, 1.54,\n",
       "       1.55, 1.56, 1.57, 1.58, 1.59, 1.6 , 1.61, 1.62, 1.63, 1.64, 1.65,\n",
       "       1.66, 1.67, 1.68, 1.69, 1.7 , 1.71, 1.72, 1.73, 1.74, 1.75, 1.76,\n",
       "       1.77, 1.78, 1.79, 1.8 , 1.81, 1.82, 1.83, 1.84, 1.85, 1.86, 1.87,\n",
       "       1.88, 1.89, 1.9 , 1.91, 1.92, 1.93, 1.94, 1.95, 1.96, 1.97, 1.98,\n",
       "       1.99, 2.  , 2.01, 2.02, 2.03, 2.04, 2.05, 2.06, 2.07, 2.08, 2.09,\n",
       "       2.1 , 2.11, 2.12, 2.13, 2.14, 2.15, 2.16, 2.17, 2.18, 2.19, 2.2 ,\n",
       "       2.21, 2.22, 2.23, 2.24, 2.25, 2.26, 2.27, 2.28, 2.29, 2.3 , 2.31,\n",
       "       2.32, 2.33, 2.34, 2.35, 2.36, 2.37, 2.38, 2.39, 2.4 , 2.41, 2.42,\n",
       "       2.43, 2.44, 2.45, 2.46, 2.47, 2.48, 2.49, 2.5 , 2.51, 2.52, 2.53,\n",
       "       2.54, 2.55, 2.56, 2.57, 2.58, 2.59, 2.6 , 2.61, 2.62, 2.63, 2.64,\n",
       "       2.65, 2.66, 2.67, 2.68, 2.69, 2.7 , 2.71, 2.72, 2.73, 2.74, 2.75,\n",
       "       2.76, 2.77, 2.78, 2.79, 2.8 , 2.81, 2.82, 2.83, 2.84, 2.85, 2.86,\n",
       "       2.87, 2.88, 2.89, 2.9 , 2.91, 2.92, 2.93, 2.94, 2.95, 2.96, 2.97,\n",
       "       2.98, 2.99, 3.  , 3.01, 3.02, 3.03, 3.04, 3.05, 3.06, 3.07, 3.08,\n",
       "       3.09, 3.1 , 3.11, 3.12, 3.13, 3.14, 3.15, 3.16, 3.17, 3.18, 3.19,\n",
       "       3.2 , 3.21, 3.22, 3.23, 3.24, 3.25, 3.26, 3.27, 3.28, 3.29, 3.3 ,\n",
       "       3.31, 3.32, 3.33, 3.34, 3.35, 3.36, 3.37, 3.38, 3.39, 3.4 , 3.41,\n",
       "       3.42, 3.43, 3.44, 3.45, 3.46, 3.47, 3.48, 3.49, 3.5 , 3.51, 3.52,\n",
       "       3.53, 3.54, 3.55, 3.56, 3.57, 3.58, 3.59, 3.6 , 3.61, 3.62, 3.63,\n",
       "       3.64, 3.65, 3.66, 3.67, 3.68, 3.69, 3.7 , 3.71, 3.72, 3.73, 3.74,\n",
       "       3.75, 3.76, 3.77, 3.78, 3.79, 3.8 , 3.81, 3.82, 3.83, 3.84, 3.85,\n",
       "       3.86, 3.87, 3.88, 3.89, 3.9 , 3.91, 3.92, 3.93, 3.94, 3.95, 3.96,\n",
       "       3.97, 3.98, 3.99, 4.  ])"
      ]
     },
     "execution_count": 2,
     "metadata": {},
     "output_type": "execute_result"
    }
   ],
   "source": [
    "time"
   ]
  }
 ],
 "metadata": {
  "kernelspec": {
   "display_name": "Python 3 (ipykernel)",
   "language": "python",
   "name": "python3"
  },
  "language_info": {
   "codemirror_mode": {
    "name": "ipython",
    "version": 3
   },
   "file_extension": ".py",
   "mimetype": "text/x-python",
   "name": "python",
   "nbconvert_exporter": "python",
   "pygments_lexer": "ipython3",
   "version": "3.9.8"
  }
 },
 "nbformat": 4,
 "nbformat_minor": 5
}
